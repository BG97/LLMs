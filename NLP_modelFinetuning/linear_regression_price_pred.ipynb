{
 "cells": [
  {
   "cell_type": "code",
   "execution_count": 6,
   "id": "366815d5-f025-46f7-adac-385e50ac110d",
   "metadata": {},
   "outputs": [],
   "source": [
    "# imports\n",
    "\n",
    "import os\n",
    "import math\n",
    "import json\n",
    "import random\n",
    "from dotenv import load_dotenv\n",
    "from huggingface_hub import login\n",
    "from items import Item\n",
    "import matplotlib.pyplot as plt\n",
    "import numpy as np\n",
    "import pickle\n",
    "from collections import Counter"
   ]
  },
  {
   "cell_type": "code",
   "execution_count": 26,
   "id": "247f0e15-ff3e-4873-b4be-2784ed7ceeb6",
   "metadata": {},
   "outputs": [],
   "source": [
    "# More imports for our traditional machine learning\n",
    "\n",
    "import pandas as pd\n",
    "import numpy as np\n",
    "from sklearn.linear_model import LinearRegression\n",
    "from sklearn.metrics import mean_squared_error, r2_score\n",
    "from sklearn.preprocessing import StandardScaler"
   ]
  },
  {
   "cell_type": "code",
   "execution_count": 31,
   "id": "a68712d9-f5e4-4df4-aa00-b3e47559a7e0",
   "metadata": {},
   "outputs": [],
   "source": [
    "# Constants - used for printing to stdout in color\n",
    "\n",
    "GREEN = \"\\033[92m\"\n",
    "YELLOW = \"\\033[93m\"\n",
    "RED = \"\\033[91m\"\n",
    "RESET = \"\\033[0m\"\n",
    "COLOR_MAP = {\"red\":RED, \"orange\": YELLOW, \"green\": GREEN}"
   ]
  },
  {
   "cell_type": "code",
   "execution_count": 3,
   "id": "bb35994f-7e7e-4b07-bed1-c469688058f5",
   "metadata": {},
   "outputs": [],
   "source": [
    "with open('train.pkl', 'rb') as file:\n",
    "    train = pickle.load(file)\n",
    "\n",
    "with open('test.pkl', 'rb') as file:\n",
    "    test = pickle.load(file)"
   ]
  },
  {
   "cell_type": "code",
   "execution_count": 4,
   "id": "2cdc34c1-d224-4513-9d1c-d5a57210c27e",
   "metadata": {},
   "outputs": [
    {
     "name": "stdout",
     "output_type": "stream",
     "text": [
      "How much does this cost to the nearest dollar?\n",
      "\n",
      "Delphi FG0166 Fuel Pump Module\n",
      "Delphi brings 80 years of OE Heritage into each Delphi pump, ensuring quality and fitment for each Delphi part. Part is validated, tested and matched to the right vehicle application Delphi brings 80 years of OE Heritage into each Delphi assembly, ensuring quality and fitment for each Delphi part Always be sure to check and clean fuel tank to avoid unnecessary returns Rigorous OE-testing ensures the pump can withstand extreme temperatures Brand Delphi, Fit Type Vehicle Specific Fit, Dimensions LxWxH 19.7 x 7.7 x 5.1 inches, Weight 2.2 Pounds, Auto Part Position Unknown, Operation Mode Mechanical, Manufacturer Delphi, Model FUEL PUMP, Dimensions 19.7\n",
      "\n",
      "Price is $227.00\n"
     ]
    }
   ],
   "source": [
    "# Remind ourselves the training prompt\n",
    "\n",
    "print(train[0].prompt)"
   ]
  },
  {
   "cell_type": "code",
   "execution_count": 7,
   "id": "cfbb59f1-0949-4d36-bc1b-60ebfe9f5862",
   "metadata": {},
   "outputs": [],
   "source": [
    "class Tester:\n",
    "\n",
    "    def __init__(self, predictor, title=None, data=test, size=250):\n",
    "        self.predictor = predictor\n",
    "        self.data = data\n",
    "        self.title = title or predictor.__name__.replace(\"_\", \" \").title()\n",
    "        self.size = size\n",
    "        self.guesses = []\n",
    "        self.truths = []\n",
    "        self.errors = []\n",
    "        self.sles = []\n",
    "        self.colors = []\n",
    "\n",
    "    def color_for(self, error, truth):\n",
    "        if error<40 or error/truth < 0.2:\n",
    "            return \"green\"\n",
    "        elif error<80 or error/truth < 0.4:\n",
    "            return \"orange\"\n",
    "        else:\n",
    "            return \"red\"\n",
    "    \n",
    "    def run_datapoint(self, i):\n",
    "        datapoint = self.data[i]\n",
    "        guess = self.predictor(datapoint)\n",
    "        truth = datapoint.price\n",
    "        error = abs(guess - truth)\n",
    "        log_error = math.log(truth+1) - math.log(guess+1)\n",
    "        sle = log_error ** 2\n",
    "        color = self.color_for(error, truth)\n",
    "        title = datapoint.title if len(datapoint.title) <= 40 else datapoint.title[:40]+\"...\"\n",
    "        self.guesses.append(guess)\n",
    "        self.truths.append(truth)\n",
    "        self.errors.append(error)\n",
    "        self.sles.append(sle)\n",
    "        self.colors.append(color)\n",
    "        print(f\"{COLOR_MAP[color]}{i+1}: Guess: ${guess:,.2f} Truth: ${truth:,.2f} Error: ${error:,.2f} SLE: {sle:,.2f} Item: {title}{RESET}\")\n",
    "\n",
    "    def chart(self, title):\n",
    "        max_error = max(self.errors)\n",
    "        plt.figure(figsize=(12, 8))\n",
    "        max_val = max(max(self.truths), max(self.guesses))\n",
    "        plt.plot([0, max_val], [0, max_val], color='deepskyblue', lw=2, alpha=0.6)\n",
    "        plt.scatter(self.truths, self.guesses, s=3, c=self.colors)\n",
    "        plt.xlabel('Ground Truth')\n",
    "        plt.ylabel('Model Estimate')\n",
    "        plt.xlim(0, max_val)\n",
    "        plt.ylim(0, max_val)\n",
    "        plt.title(title)\n",
    "        plt.show()\n",
    "\n",
    "    def report(self):\n",
    "        average_error = sum(self.errors) / self.size\n",
    "        rmsle = math.sqrt(sum(self.sles) / self.size)\n",
    "        hits = sum(1 for color in self.colors if color==\"green\")\n",
    "        title = f\"{self.title} Error=${average_error:,.2f} RMSLE={rmsle:,.2f} Hits={hits/self.size*100:.1f}%\"\n",
    "        self.chart(title)\n",
    "\n",
    "    def run(self):\n",
    "        self.error = 0\n",
    "        for i in range(self.size):\n",
    "            self.run_datapoint(i)\n",
    "        self.report()\n",
    "\n",
    "    @classmethod\n",
    "    def test(cls, function):\n",
    "        cls(function).run()"
   ]
  },
  {
   "cell_type": "code",
   "execution_count": 8,
   "id": "c8a2e725-f574-42ea-a423-a2e532648d95",
   "metadata": {},
   "outputs": [],
   "source": [
    "for item in train:\n",
    "    item.features = json.loads(item.details)\n",
    "for item in test:\n",
    "    item.features = json.loads(item.details)"
   ]
  },
  {
   "cell_type": "code",
   "execution_count": 9,
   "id": "8024b7be-f893-44cf-b8d8-01099286481a",
   "metadata": {},
   "outputs": [
    {
     "data": {
      "text/plain": [
       "dict_keys(['Brand', 'Fit Type', 'Item Dimensions LxWxH', 'Item Weight', 'Auto Part Position', 'Operation Mode', 'Manufacturer', 'Model', 'Product Dimensions', 'Country of Origin', 'Item model number', 'Is Discontinued By Manufacturer', 'Exterior', 'Manufacturer Part Number', 'OEM Part Number', 'Best Sellers Rank', 'Domestic Shipping', 'International Shipping', 'Date First Available'])"
      ]
     },
     "execution_count": 9,
     "metadata": {},
     "output_type": "execute_result"
    }
   ],
   "source": [
    "train[0].features.keys()"
   ]
  },
  {
   "cell_type": "code",
   "execution_count": 10,
   "id": "33684fce-f056-4e3c-8c7f-bce9aad820ed",
   "metadata": {},
   "outputs": [
    {
     "data": {
      "text/plain": [
       "[('Date First Available', 360062),\n",
       " ('Item Weight', 350444),\n",
       " ('Manufacturer', 349357),\n",
       " ('Brand', 340323),\n",
       " ('Best Sellers Rank', 330473),\n",
       " ('Item model number', 277573),\n",
       " ('Product Dimensions', 262400),\n",
       " ('Color', 183794),\n",
       " ('Is Discontinued By Manufacturer', 169828),\n",
       " ('Manufacturer Part Number', 145092),\n",
       " ('Material', 137447),\n",
       " ('Country of Origin', 121451),\n",
       " ('Style', 77639),\n",
       " ('Special Feature', 74709),\n",
       " ('Part Number', 74529),\n",
       " ('Batteries Required?', 73595),\n",
       " ('Package Dimensions', 72900),\n",
       " ('Item Dimensions LxWxH', 71385),\n",
       " ('Included Components', 67509),\n",
       " ('Model', 65144),\n",
       " ('Size', 58233),\n",
       " ('Item Package Quantity', 58149),\n",
       " ('Batteries Included?', 56779),\n",
       " ('OEM Part Number', 56062),\n",
       " ('Special Features', 53740),\n",
       " ('Exterior', 50566),\n",
       " ('Power Source', 50256),\n",
       " ('Vehicle Service Type', 49420),\n",
       " ('Finish Type', 46262),\n",
       " ('Voltage', 46036),\n",
       " ('Mounting Type', 38043),\n",
       " ('Model Name', 37524),\n",
       " ('Shape', 34816),\n",
       " ('Finish', 31901),\n",
       " ('Number of Items', 31871),\n",
       " ('Connectivity Technology', 31441),\n",
       " ('Compatible Devices', 28907),\n",
       " ('Wattage', 28564),\n",
       " ('Batteries', 28460),\n",
       " ('Position', 27027)]"
      ]
     },
     "execution_count": 10,
     "metadata": {},
     "output_type": "execute_result"
    }
   ],
   "source": [
    "# Look at 40 most common features in training set\n",
    "\n",
    "feature_count = Counter()\n",
    "for item in train:\n",
    "    for f in item.features.keys():\n",
    "        feature_count[f]+=1\n",
    "\n",
    "feature_count.most_common(40)"
   ]
  },
  {
   "cell_type": "code",
   "execution_count": 11,
   "id": "196ea92b-9c4d-4a47-aeb4-934647114479",
   "metadata": {},
   "outputs": [],
   "source": [
    "# Now some janky code to pluck out the Item Weight\n",
    "# Don't worry too much about this: spoiler alert, it's not going to be much use in training!\n",
    "\n",
    "def get_weight(item):\n",
    "    weight_str = item.features.get('Item Weight')\n",
    "    if weight_str:\n",
    "        parts = weight_str.split(' ')\n",
    "        amount = float(parts[0])\n",
    "        unit = parts[1].lower()\n",
    "        if unit==\"pounds\":\n",
    "            return amount\n",
    "        elif unit==\"ounces\":\n",
    "            return amount / 16\n",
    "        elif unit==\"grams\":\n",
    "            return amount / 453.592\n",
    "        elif unit==\"milligrams\":\n",
    "            return amount / 453592\n",
    "        elif unit==\"kilograms\":\n",
    "            return amount / 0.453592\n",
    "        elif unit==\"hundredths\" and parts[2].lower()==\"pounds\":\n",
    "            return amount / 100\n",
    "        else:\n",
    "            print(weight_str)\n",
    "    return None"
   ]
  },
  {
   "cell_type": "code",
   "execution_count": 12,
   "id": "4f8fbe10-b759-420d-9179-409d97691d5a",
   "metadata": {},
   "outputs": [],
   "source": [
    "weights = [get_weight(t) for t in train]\n",
    "weights = [w for w in weights if w]"
   ]
  },
  {
   "cell_type": "code",
   "execution_count": 13,
   "id": "ea76d6bc-1df1-4207-8890-c1e6082b9dd7",
   "metadata": {},
   "outputs": [
    {
     "data": {
      "text/plain": [
       "13.57055237029551"
      ]
     },
     "execution_count": 13,
     "metadata": {},
     "output_type": "execute_result"
    }
   ],
   "source": [
    "average_weight = sum(weights)/len(weights)\n",
    "average_weight"
   ]
  },
  {
   "cell_type": "code",
   "execution_count": 14,
   "id": "948adc6c-86bb-4704-8686-cb6b1a84a4c8",
   "metadata": {},
   "outputs": [],
   "source": [
    "def get_weight_with_default(item):\n",
    "    weight = get_weight(item)\n",
    "    return weight or average_weight"
   ]
  },
  {
   "cell_type": "code",
   "execution_count": 15,
   "id": "e8ba3c5e-c01e-45c7-8eba-e30706c3adf1",
   "metadata": {},
   "outputs": [],
   "source": [
    "def get_rank(item):\n",
    "    rank_dict = item.features.get(\"Best Sellers Rank\")\n",
    "    if rank_dict:\n",
    "        ranks = rank_dict.values()\n",
    "        return sum(ranks)/len(ranks)\n",
    "    return None\n",
    "    "
   ]
  },
  {
   "cell_type": "code",
   "execution_count": 16,
   "id": "5c1569b3-7bcd-4360-9def-9ece2d326203",
   "metadata": {},
   "outputs": [
    {
     "data": {
      "text/plain": [
       "380638.258828069"
      ]
     },
     "execution_count": 16,
     "metadata": {},
     "output_type": "execute_result"
    }
   ],
   "source": [
    "ranks = [get_rank(t) for t in train]\n",
    "ranks = [r for r in ranks if r]\n",
    "average_rank = sum(ranks)/len(ranks)\n",
    "average_rank"
   ]
  },
  {
   "cell_type": "code",
   "execution_count": 17,
   "id": "dc5803b3-f4f4-418c-b90c-b2dd0eda292b",
   "metadata": {},
   "outputs": [],
   "source": [
    "def get_rank_with_default(item):\n",
    "    rank = get_rank(item)\n",
    "    return rank or average_rank"
   ]
  },
  {
   "cell_type": "code",
   "execution_count": 18,
   "id": "c1ca4b47-8ac8-4fab-8b1d-6ea95b8ac524",
   "metadata": {},
   "outputs": [],
   "source": [
    "def get_text_length(item):\n",
    "    return len(item.test_prompt())"
   ]
  },
  {
   "cell_type": "code",
   "execution_count": 21,
   "id": "eabe21df-491e-4981-8e18-b72868583e25",
   "metadata": {},
   "outputs": [
    {
     "data": {
      "text/plain": [
       "[('HP', 5500),\n",
       " ('Power Stop', 3594),\n",
       " ('Dell', 3254),\n",
       " ('Detroit Axle', 2734),\n",
       " ('Lenovo', 2441),\n",
       " ('Dorman', 2116),\n",
       " ('SAMSUNG', 1772),\n",
       " ('BUYAUTOPARTS!', 1715),\n",
       " ('ACDelco', 1609),\n",
       " ('Evan Fischer', 1415),\n",
       " ('ASUS', 1387),\n",
       " ('Sony', 1282),\n",
       " ('Canon', 1201),\n",
       " ('Callahan BRAKE PARTS', 1154),\n",
       " ('Kohler', 1152),\n",
       " ('CURT', 1120),\n",
       " ('R1 Concepts', 1054),\n",
       " ('Rareelectrical', 966),\n",
       " ('Coverking', 941),\n",
       " ('Garage-Pro', 888)]"
      ]
     },
     "execution_count": 21,
     "metadata": {},
     "output_type": "execute_result"
    }
   ],
   "source": [
    "# investigate the brands\n",
    "\n",
    "brands = Counter()\n",
    "for t in train:\n",
    "    brand = t.features.get(\"Brand\")\n",
    "    if brand:\n",
    "        brands[brand]+=1\n",
    "\n",
    "# Look at most common 40 brands\n",
    "\n",
    "brands.most_common(20)"
   ]
  },
  {
   "cell_type": "code",
   "execution_count": 22,
   "id": "b49350d1-e341-409d-98eb-560fdf303f39",
   "metadata": {},
   "outputs": [],
   "source": [
    "TOP_ELECTRONICS_BRANDS = [\"hp\", \"dell\", \"lenovo\", \"samsung\", \"asus\", \"sony\", \"canon\", \"apple\", \"intel\"]\n",
    "def is_top_electronics_brand(item):\n",
    "    brand = item.features.get(\"Brand\")\n",
    "    return brand and brand.lower() in TOP_ELECTRONICS_BRANDS"
   ]
  },
  {
   "cell_type": "code",
   "execution_count": 23,
   "id": "92a590f5-3f17-422b-8a90-f70e737c2b47",
   "metadata": {},
   "outputs": [],
   "source": [
    "def get_features(item):\n",
    "    return {\n",
    "        \"weight\": get_weight_with_default(item),\n",
    "        \"rank\": get_rank_with_default(item),\n",
    "        \"text_length\": get_text_length(item),\n",
    "        \"is_top_electronics_brand\": 1 if is_top_electronics_brand(item) else 0\n",
    "    }"
   ]
  },
  {
   "cell_type": "code",
   "execution_count": 24,
   "id": "7e8f03cd-7dec-45ef-b729-36351b345592",
   "metadata": {},
   "outputs": [
    {
     "data": {
      "text/plain": [
       "{'weight': 2.2,\n",
       " 'rank': 460069.5,\n",
       " 'text_length': 748,\n",
       " 'is_top_electronics_brand': 0}"
      ]
     },
     "execution_count": 24,
     "metadata": {},
     "output_type": "execute_result"
    }
   ],
   "source": [
    "# Look at features in a training item\n",
    "get_features(train[0])"
   ]
  },
  {
   "cell_type": "code",
   "execution_count": 27,
   "id": "4d7059b3-4b6e-4273-a04d-d21da77c1f12",
   "metadata": {},
   "outputs": [],
   "source": [
    "# A utility function to convert our features into a pandas dataframe\n",
    "\n",
    "def list_to_dataframe(items):\n",
    "    features = [get_features(item) for item in items]\n",
    "    df = pd.DataFrame(features)\n",
    "    df['price'] = [item.price for item in items]\n",
    "    return df\n",
    "\n",
    "train_df = list_to_dataframe(train)\n",
    "test_df = list_to_dataframe(test[:250])"
   ]
  },
  {
   "cell_type": "code",
   "execution_count": 28,
   "id": "3f551e98-df94-46e2-b70a-d491eea7d925",
   "metadata": {},
   "outputs": [
    {
     "name": "stdout",
     "output_type": "stream",
     "text": [
      "weight: 0.2642321862957332\n",
      "rank: 5.197480233116737e-05\n",
      "text_length: 0.0076093283513202605\n",
      "is_top_electronics_brand: 198.14254283206898\n",
      "Intercept: 182.18661987897428\n",
      "Mean Squared Error: 33034.336771967995\n",
      "R-squared Score: 0.09091571194865222\n"
     ]
    }
   ],
   "source": [
    "# Traditional Linear Regression!\n",
    "\n",
    "np.random.seed(42)\n",
    "\n",
    "# Separate features and target\n",
    "feature_columns = ['weight', 'rank', 'text_length', 'is_top_electronics_brand']\n",
    "\n",
    "X_train = train_df[feature_columns]\n",
    "y_train = train_df['price']\n",
    "X_test = test_df[feature_columns]\n",
    "y_test = test_df['price']\n",
    "\n",
    "# Train a Linear Regression\n",
    "model = LinearRegression()\n",
    "model.fit(X_train, y_train)\n",
    "\n",
    "for feature, coef in zip(feature_columns, model.coef_):\n",
    "    print(f\"{feature}: {coef}\")\n",
    "print(f\"Intercept: {model.intercept_}\")\n",
    "\n",
    "# Predict the test set and evaluate\n",
    "y_pred = model.predict(X_test)\n",
    "mse = mean_squared_error(y_test, y_pred)\n",
    "r2 = r2_score(y_test, y_pred)\n",
    "\n",
    "print(f\"Mean Squared Error: {mse}\")\n",
    "print(f\"R-squared Score: {r2}\")"
   ]
  },
  {
   "cell_type": "code",
   "execution_count": 29,
   "id": "31a40e4a-e7ca-460a-937f-1fc1a87127c3",
   "metadata": {},
   "outputs": [],
   "source": [
    "# Function to predict price for a new item\n",
    "\n",
    "def linear_regression_pricer(item):\n",
    "    features = get_features(item)\n",
    "    features_df = pd.DataFrame([features])\n",
    "    return model.predict(features_df)[0]"
   ]
  },
  {
   "cell_type": "code",
   "execution_count": 32,
   "id": "6cda5fb3-3728-4462-9a02-0eed87ebc23b",
   "metadata": {},
   "outputs": [
    {
     "name": "stdout",
     "output_type": "stream",
     "text": [
      "\u001b[93m1: Guess: $228.68 Truth: $374.41 Error: $145.73 SLE: 0.24 Item: OEM AC Compressor w/A/C Repair Kit For F...\u001b[0m\n",
      "\u001b[92m2: Guess: $214.45 Truth: $225.11 Error: $10.66 SLE: 0.00 Item: Motorcraft YB3125 Fan Clutch\u001b[0m\n",
      "\u001b[91m3: Guess: $191.46 Truth: $61.68 Error: $129.78 SLE: 1.26 Item: Dorman 603-159 Front Washer Fluid Reserv...\u001b[0m\n",
      "\u001b[93m4: Guess: $389.92 Truth: $599.99 Error: $210.07 SLE: 0.18 Item: HP Premium 17.3-inch HD Plus Touchscreen...\u001b[0m\n",
      "\u001b[91m5: Guess: $211.35 Truth: $16.99 Error: $194.36 SLE: 6.09 Item: 5-Position Super Switch Pickup Selector ...\u001b[0m\n",
      "\u001b[91m6: Guess: $211.42 Truth: $31.99 Error: $179.43 SLE: 3.47 Item: Horror Bookmarks, Resin Horror Bookmarks...\u001b[0m\n",
      "\u001b[91m7: Guess: $190.88 Truth: $101.79 Error: $89.09 SLE: 0.39 Item: SK6241 - Stinger 4 Gauge 6000 Series Pow...\u001b[0m\n",
      "\u001b[93m8: Guess: $190.14 Truth: $289.00 Error: $98.86 SLE: 0.17 Item: Godox ML60Bi LED Light Kit, Handheld LED...\u001b[0m\n",
      "\u001b[91m9: Guess: $220.89 Truth: $635.86 Error: $414.97 SLE: 1.11 Item: Randall RG75DG3PLUS G3 Plus 100-Watt Com...\u001b[0m\n",
      "\u001b[91m10: Guess: $199.88 Truth: $65.99 Error: $133.89 SLE: 1.21 Item: HOLDWILL 6 Pack LED Shop Light, 4FT 24W ...\u001b[0m\n",
      "\u001b[92m11: Guess: $214.57 Truth: $254.21 Error: $39.64 SLE: 0.03 Item: Viking Horns V103C/1005ATK 3 Gallon Air ...\u001b[0m\n",
      "\u001b[91m12: Guess: $216.59 Truth: $412.99 Error: $196.40 SLE: 0.41 Item: CURT 70110 Custom Tow Bar Base Plate Bra...\u001b[0m\n",
      "\u001b[92m13: Guess: $211.27 Truth: $205.50 Error: $5.77 SLE: 0.00 Item: 10-Pack Solar HAMMERED BRONZE Finish Pos...\u001b[0m\n",
      "\u001b[93m14: Guess: $190.61 Truth: $248.23 Error: $57.62 SLE: 0.07 Item: COSTWAY Electric Tumble Dryer, Sliver\u001b[0m\n",
      "\u001b[91m15: Guess: $194.48 Truth: $399.00 Error: $204.52 SLE: 0.51 Item: FREE SIGNAL TV Transit 32\" 12 Volt DC Po...\u001b[0m\n",
      "\u001b[91m16: Guess: $205.67 Truth: $373.94 Error: $168.27 SLE: 0.35 Item: Bilstein 5100 Monotube Gas Shock Set com...\u001b[0m\n",
      "\u001b[91m17: Guess: $201.32 Truth: $92.89 Error: $108.43 SLE: 0.59 Item: Sangean K-200 Multi-Function Upright AM/...\u001b[0m\n",
      "\u001b[91m18: Guess: $191.13 Truth: $51.99 Error: $139.14 SLE: 1.66 Item: Charles Leonard Magnetic Lapboard Class ...\u001b[0m\n",
      "\u001b[92m19: Guess: $189.00 Truth: $179.00 Error: $10.00 SLE: 0.00 Item: Gigabyte AMD Radeon HD 7870 2 GB GDDR5 D...\u001b[0m\n",
      "\u001b[91m20: Guess: $206.85 Truth: $19.42 Error: $187.43 SLE: 5.38 Item: 3dRose LLC 8 x 8 x 0.25 Inches Bull Terr...\u001b[0m\n",
      "\u001b[91m21: Guess: $187.25 Truth: $539.95 Error: $352.70 SLE: 1.11 Item: ROKINON 85mm F1.4 Auto Focus Full Frame ...\u001b[0m\n",
      "\u001b[93m22: Guess: $195.82 Truth: $147.67 Error: $48.15 SLE: 0.08 Item: AUTOSAVER88 Headlight Assembly Compatibl...\u001b[0m\n",
      "\u001b[91m23: Guess: $187.94 Truth: $24.99 Error: $162.95 SLE: 3.94 Item: ASI NAUTICAL 2.5 Inches Opera Glasses Bi...\u001b[0m\n",
      "\u001b[93m24: Guess: $194.94 Truth: $149.00 Error: $45.94 SLE: 0.07 Item: Behringer TUBE OVERDRIVE TO100 Authentic...\u001b[0m\n",
      "\u001b[91m25: Guess: $196.15 Truth: $16.99 Error: $179.16 SLE: 5.73 Item: Fun Express Insect Finger Puppets - 24 f...\u001b[0m\n",
      "\u001b[91m26: Guess: $191.93 Truth: $7.99 Error: $183.94 SLE: 9.40 Item: WAFJAMF Roller Stamp Identity Theft Stam...\u001b[0m\n",
      "\u001b[92m27: Guess: $198.12 Truth: $199.99 Error: $1.87 SLE: 0.00 Item: Capulina Tiffany Floor Lamp 2-Light 16\" ...\u001b[0m\n",
      "\u001b[91m28: Guess: $386.59 Truth: $251.45 Error: $135.14 SLE: 0.18 Item: Apple Watch Series 6 (GPS, 44mm) - Space...\u001b[0m\n",
      "\u001b[92m29: Guess: $228.22 Truth: $231.62 Error: $3.40 SLE: 0.00 Item: ICON 01725 Tandem Axle Fender Skirt FS17...\u001b[0m\n",
      "\u001b[93m30: Guess: $191.91 Truth: $135.00 Error: $56.91 SLE: 0.12 Item: SanDisk 128GB Ultra (10 Pack) MicroSD Cl...\u001b[0m\n",
      "\u001b[91m31: Guess: $210.66 Truth: $356.62 Error: $145.96 SLE: 0.28 Item: Velvac 2020,L,C/Hr,W,E2003,102\",Bk - 715...\u001b[0m\n",
      "\u001b[92m32: Guess: $240.31 Truth: $257.99 Error: $17.68 SLE: 0.00 Item: TCMT Passenger Backrest Sissy Bar & Lugg...\u001b[0m\n",
      "\u001b[91m33: Guess: $207.97 Truth: $27.99 Error: $179.98 SLE: 3.90 Item: Alnicov 63.5MM Brass Tremolo Block，Tremo...\u001b[0m\n",
      "\u001b[93m34: Guess: $229.18 Truth: $171.20 Error: $57.98 SLE: 0.08 Item: Subaru Forester Outback Legacy OEM Engin...\u001b[0m\n",
      "\u001b[93m35: Guess: $277.23 Truth: $225.00 Error: $52.23 SLE: 0.04 Item: Richmond Auto Upholstery - 2012 Dodge Ra...\u001b[0m\n",
      "\u001b[91m36: Guess: $213.50 Truth: $105.00 Error: $108.50 SLE: 0.50 Item: AP-39 Automotive Paint Primer Grey 2K Ur...\u001b[0m\n",
      "\u001b[93m37: Guess: $200.01 Truth: $299.99 Error: $99.98 SLE: 0.16 Item: Road Top Wireless Carplay Retrofit Kit D...\u001b[0m\n",
      "\u001b[91m38: Guess: $249.60 Truth: $535.09 Error: $285.49 SLE: 0.58 Item: Gibson Performance Exhaust 5658 Aluminiz...\u001b[0m\n",
      "\u001b[91m39: Guess: $189.67 Truth: $12.33 Error: $177.34 SLE: 7.08 Item: Bella Tunno Happy Links - Baby Montessor...\u001b[0m\n",
      "\u001b[91m40: Guess: $192.85 Truth: $84.99 Error: $107.86 SLE: 0.66 Item: CANMORE H300 Handheld GPS Golf Device, S...\u001b[0m\n",
      "\u001b[91m41: Guess: $192.46 Truth: $15.99 Error: $176.47 SLE: 5.92 Item: DCPOWER AC Adapter Compatible Replacemen...\u001b[0m\n",
      "\u001b[91m42: Guess: $199.85 Truth: $62.44 Error: $137.41 SLE: 1.33 Item: Sharp, VX2128V, Commercial Desktop Calcu...\u001b[0m\n",
      "\u001b[91m43: Guess: $193.96 Truth: $82.99 Error: $110.97 SLE: 0.71 Item: Melissa & Doug Lifelike Plush Stork Gian...\u001b[0m\n",
      "\u001b[93m44: Guess: $393.43 Truth: $599.95 Error: $206.52 SLE: 0.18 Item: Sony SSCS8 2-Way 3-Driver Center Channel...\u001b[0m\n",
      "\u001b[91m45: Guess: $387.50 Truth: $194.99 Error: $192.51 SLE: 0.47 Item: ASUS Chromebook CX1, 14\" Full HD NanoEdg...\u001b[0m\n",
      "\u001b[91m46: Guess: $204.85 Truth: $344.95 Error: $140.10 SLE: 0.27 Item: FiiO X7 32GB Hi-Res Lossless Music Playe...\u001b[0m\n",
      "\u001b[91m47: Guess: $190.01 Truth: $37.99 Error: $152.02 SLE: 2.52 Item: TORRO Leather Case Compatible with iPhon...\u001b[0m\n",
      "\u001b[92m48: Guess: $200.74 Truth: $224.35 Error: $23.61 SLE: 0.01 Item: Universal Air Conditioner KT 1031 A/C Co...\u001b[0m\n",
      "\u001b[91m49: Guess: $248.02 Truth: $814.00 Error: $565.98 SLE: 1.41 Item: Street Series Stainless Performance Cat-...\u001b[0m\n",
      "\u001b[92m50: Guess: $407.63 Truth: $439.88 Error: $32.25 SLE: 0.01 Item: Lenovo IdeaPad 3 14-inch Laptop, 14.0-in...\u001b[0m\n",
      "\u001b[92m51: Guess: $298.17 Truth: $341.43 Error: $43.26 SLE: 0.02 Item: Access Bed Covers TonnoSport 22050219 - ...\u001b[0m\n",
      "\u001b[91m52: Guess: $204.81 Truth: $46.78 Error: $158.03 SLE: 2.13 Item: G.I. JOE Hasbro 3 3/4\" Wave 5 Action Fig...\u001b[0m\n",
      "\u001b[92m53: Guess: $210.37 Truth: $171.44 Error: $38.93 SLE: 0.04 Item: T&S Brass B-0232-BST Double Pantry Fauce...\u001b[0m\n",
      "\u001b[91m54: Guess: $215.55 Truth: $458.00 Error: $242.45 SLE: 0.56 Item: ZTUOAUMA Fuel Injection Pump 3090942 309...\u001b[0m\n",
      "\u001b[91m55: Guess: $387.14 Truth: $130.75 Error: $256.39 SLE: 1.17 Item: 2AP18AA#ABA Hp Prime Graphing Calculator...\u001b[0m\n",
      "\u001b[91m56: Guess: $186.73 Truth: $83.81 Error: $102.92 SLE: 0.63 Item: Lowrance 000-0119-83 Nmea 2000 25' Exten...\u001b[0m\n",
      "\u001b[91m57: Guess: $209.47 Truth: $386.39 Error: $176.92 SLE: 0.37 Item: Jeep Genuine Accessories 82213051 Hood L...\u001b[0m\n",
      "\u001b[92m58: Guess: $188.43 Truth: $169.00 Error: $19.43 SLE: 0.01 Item: GODOX CB-06 Hard Carrying Case with Whee...\u001b[0m\n",
      "\u001b[91m59: Guess: $265.72 Truth: $17.95 Error: $247.77 SLE: 6.99 Item: Au-Tomotive Gold, INC. Ford Black Valet ...\u001b[0m\n",
      "\u001b[93m60: Guess: $212.88 Truth: $269.00 Error: $56.12 SLE: 0.05 Item: Snailfly Black Roof Rack Rail + Cross Ba...\u001b[0m\n",
      "\u001b[91m61: Guess: $198.77 Truth: $77.77 Error: $121.00 SLE: 0.87 Item: KING SHA Anti Glare LED Track Lighting H...\u001b[0m\n",
      "\u001b[91m62: Guess: $211.88 Truth: $88.99 Error: $122.89 SLE: 0.74 Item: APS Compatible with Chevy Silverado 1500...\u001b[0m\n",
      "\u001b[91m63: Guess: $213.43 Truth: $364.41 Error: $150.98 SLE: 0.28 Item: Wilwood Engineering 14011291R Brake Cali...\u001b[0m\n",
      "\u001b[91m64: Guess: $216.97 Truth: $127.03 Error: $89.94 SLE: 0.28 Item: ACDelco Gold 336-1925A Starter, Remanufa...\u001b[0m\n",
      "\u001b[91m65: Guess: $250.39 Truth: $778.95 Error: $528.56 SLE: 1.28 Item: UWS EC10783 69-Inch Matte Black Heavy-Wa...\u001b[0m\n",
      "\u001b[91m66: Guess: $389.46 Truth: $206.66 Error: $182.80 SLE: 0.40 Item: Dell Latitude E5440 14in Business Laptop...\u001b[0m\n",
      "\u001b[91m67: Guess: $191.03 Truth: $35.94 Error: $155.09 SLE: 2.72 Item: (Plug and Play) Spare Tire Brake Light W...\u001b[0m\n",
      "\u001b[93m68: Guess: $204.82 Truth: $149.00 Error: $55.82 SLE: 0.10 Item: The Ultimate Roadside Rescue Assistant\u001b[0m\n",
      "\u001b[92m69: Guess: $215.79 Truth: $251.98 Error: $36.19 SLE: 0.02 Item: Brand New 18\" x 8.5\" Replacement Wheel f...\u001b[0m\n",
      "\u001b[91m70: Guess: $288.82 Truth: $160.00 Error: $128.82 SLE: 0.35 Item: Headlight Headlamp LH Left & RH Right Pa...\u001b[0m\n",
      "\u001b[91m71: Guess: $189.29 Truth: $39.99 Error: $149.30 SLE: 2.36 Item: Lilo And Stitch Deluxe Oversize Print La...\u001b[0m\n",
      "\u001b[93m72: Guess: $263.46 Truth: $362.41 Error: $98.95 SLE: 0.10 Item: AC Compressor & A/C Clutch For Hyundai A...\u001b[0m\n",
      "\u001b[93m73: Guess: $210.03 Truth: $344.00 Error: $133.97 SLE: 0.24 Item: House Of Troy PIN475-AB Pinnacle Collect...\u001b[0m\n",
      "\u001b[91m74: Guess: $195.16 Truth: $25.09 Error: $170.07 SLE: 4.07 Item: Juno T29 WH Floating Electrical Feed Sin...\u001b[0m\n",
      "\u001b[93m75: Guess: $254.35 Truth: $175.95 Error: $78.40 SLE: 0.13 Item: Sherman GO-PARTS - for 2013-2016 Toyota ...\u001b[0m\n",
      "\u001b[93m76: Guess: $190.05 Truth: $132.64 Error: $57.41 SLE: 0.13 Item: Roland RPU-3 Electronic Keyboard Pedal o...\u001b[0m\n",
      "\u001b[91m77: Guess: $223.57 Truth: $422.99 Error: $199.42 SLE: 0.40 Item: Rockland VMI14 12,000 Pound 12 Volt DC E...\u001b[0m\n",
      "\u001b[93m78: Guess: $210.12 Truth: $146.48 Error: $63.64 SLE: 0.13 Item: Max Advanced Brakes Elite XDS Front Cros...\u001b[0m\n",
      "\u001b[91m79: Guess: $271.94 Truth: $156.83 Error: $115.11 SLE: 0.30 Item: Quality-Built 11030 Premium Quality Alte...\u001b[0m\n",
      "\u001b[93m80: Guess: $193.44 Truth: $251.99 Error: $58.55 SLE: 0.07 Item: Lucida LG-510 Student Classical Guitar, ...\u001b[0m\n",
      "\u001b[91m81: Guess: $243.85 Truth: $940.33 Error: $696.48 SLE: 1.81 Item: Longacre 52-79800 Aluminum Turn Plates\u001b[0m\n",
      "\u001b[91m82: Guess: $191.18 Truth: $52.99 Error: $138.19 SLE: 1.61 Item: Motion Pro 08-0380 Adjustable Torque Wre...\u001b[0m\n",
      "\u001b[92m83: Guess: $191.58 Truth: $219.95 Error: $28.37 SLE: 0.02 Item: Glyph Thunderbolt 3 NVMe Dock (0 GB)\u001b[0m\n",
      "\u001b[91m84: Guess: $230.02 Truth: $441.03 Error: $211.01 SLE: 0.42 Item: TOYO Open Country MT Performance Radial ...\u001b[0m\n",
      "\u001b[93m85: Guess: $211.58 Truth: $168.98 Error: $42.60 SLE: 0.05 Item: Razer Seiren X USB Streaming Microphone ...\u001b[0m\n",
      "\u001b[91m86: Guess: $198.06 Truth: $2.49 Error: $195.57 SLE: 16.35 Item: Happy Birthday to Dad From Your Daughter...\u001b[0m\n",
      "\u001b[91m87: Guess: $193.60 Truth: $98.62 Error: $94.98 SLE: 0.45 Item: Little Tikes My Real Jam First Concert S...\u001b[0m\n",
      "\u001b[93m88: Guess: $198.38 Truth: $256.95 Error: $58.57 SLE: 0.07 Item: Studio M Peace and Harmony Art Pole Comm...\u001b[0m\n",
      "\u001b[91m89: Guess: $211.35 Truth: $30.99 Error: $180.36 SLE: 3.58 Item: MyVolts 12V Power Supply Adaptor Compati...\u001b[0m\n",
      "\u001b[93m90: Guess: $409.34 Truth: $569.84 Error: $160.50 SLE: 0.11 Item: Dell Latitude 7212 Rugged Extreme Tablet...\u001b[0m\n",
      "\u001b[92m91: Guess: $210.35 Truth: $177.99 Error: $32.36 SLE: 0.03 Item: Covermates Contour Fit Car Cover - Light...\u001b[0m\n",
      "\u001b[91m92: Guess: $224.92 Truth: $997.99 Error: $773.07 SLE: 2.21 Item: Westin 57-4025 Black HDX Grille Guard fi...\u001b[0m\n",
      "\u001b[92m93: Guess: $212.10 Truth: $219.00 Error: $6.90 SLE: 0.00 Item: Fieldpiece JL2 Job Link Wireless App Tra...\u001b[0m\n",
      "\u001b[92m94: Guess: $210.44 Truth: $225.55 Error: $15.11 SLE: 0.00 Item: hansgrohe Talis S Modern Premium Easy Cl...\u001b[0m\n",
      "\u001b[91m95: Guess: $191.34 Truth: $495.95 Error: $304.61 SLE: 0.90 Item: G-Technology G-SPEED eS PRO High-Perform...\u001b[0m\n",
      "\u001b[91m96: Guess: $259.07 Truth: $942.37 Error: $683.30 SLE: 1.66 Item: DreamLine SHDR-1960723L-01 Shower Door, ...\u001b[0m\n",
      "\u001b[91m97: Guess: $189.10 Truth: $1.94 Error: $187.16 SLE: 17.38 Item: Sanctuary Square Backplate Finish: Oiled...\u001b[0m\n",
      "\u001b[93m98: Guess: $194.96 Truth: $284.34 Error: $89.38 SLE: 0.14 Item: Pelican Protector 1750 Long Case - Multi...\u001b[0m\n",
      "\u001b[93m99: Guess: $227.02 Truth: $171.90 Error: $55.12 SLE: 0.08 Item: Brock Replacement Driver and Passenger H...\u001b[0m\n",
      "\u001b[93m100: Guess: $188.63 Truth: $144.99 Error: $43.64 SLE: 0.07 Item: Carlinkit Ai Box Mini, Android 11, Multi...\u001b[0m\n",
      "\u001b[91m101: Guess: $198.08 Truth: $470.47 Error: $272.39 SLE: 0.74 Item: StarDot NetCamLIVE2 YouTube Live Stream ...\u001b[0m\n",
      "\u001b[91m102: Guess: $210.63 Truth: $66.95 Error: $143.68 SLE: 1.29 Item: Atomic Compatible FILXXCAR0016 16x25x5 M...\u001b[0m\n",
      "\u001b[91m103: Guess: $206.61 Truth: $117.00 Error: $89.61 SLE: 0.32 Item: Bandai Awakening of S. H. s.h.figuarts s...\u001b[0m\n",
      "\u001b[93m104: Guess: $234.24 Truth: $172.14 Error: $62.10 SLE: 0.09 Item: Fit System 62135G Passenger Side Towing ...\u001b[0m\n",
      "\u001b[93m105: Guess: $283.94 Truth: $392.74 Error: $108.80 SLE: 0.10 Item: Black Horse Black Aluminum Exceed Runnin...\u001b[0m\n",
      "\u001b[91m106: Guess: $188.56 Truth: $16.99 Error: $171.57 SLE: 5.55 Item: Dearsun Twinkle Star Color Night Light P...\u001b[0m\n",
      "\u001b[91m107: Guess: $213.67 Truth: $1.34 Error: $212.33 SLE: 20.42 Item: Pokemon - Gallade Spirit Link (83/108) -...\u001b[0m\n",
      "\u001b[91m108: Guess: $191.37 Truth: $349.98 Error: $158.61 SLE: 0.36 Item: Ibanez GA34STCE-NT GIO Series Classical ...\u001b[0m\n",
      "\u001b[93m109: Guess: $237.69 Truth: $370.71 Error: $133.02 SLE: 0.20 Item: Set 2 Heavy Duty 12-16.5 12x16.5 12 Ply ...\u001b[0m\n",
      "\u001b[91m110: Guess: $266.81 Truth: $65.88 Error: $200.93 SLE: 1.92 Item: Hairpin Table Legs 28\" Heavy Duty Hairpi...\u001b[0m\n",
      "\u001b[92m111: Guess: $211.85 Truth: $229.99 Error: $18.14 SLE: 0.01 Item: Marada Racing Seat with Adjustable Slide...\u001b[0m\n",
      "\u001b[91m112: Guess: $211.37 Truth: $9.14 Error: $202.23 SLE: 9.25 Item: Remington Industries 24UL1007STRWHI25 24...\u001b[0m\n",
      "\u001b[92m113: Guess: $191.44 Truth: $199.00 Error: $7.56 SLE: 0.00 Item: Acer S3-391-6046 13.3-inch Ultrabook, In...\u001b[0m\n",
      "\u001b[91m114: Guess: $194.86 Truth: $109.99 Error: $84.87 SLE: 0.32 Item: ICBEAMER 7\" RGB LED Headlights Bulb Halo...\u001b[0m\n",
      "\u001b[91m115: Guess: $284.30 Truth: $570.42 Error: $286.12 SLE: 0.48 Item: R1 Concepts Front Rear Brakes and Rotors...\u001b[0m\n",
      "\u001b[93m116: Guess: $193.05 Truth: $279.99 Error: $86.94 SLE: 0.14 Item: Camplux 2.64 GPM Tankless , Outdoor Port...\u001b[0m\n",
      "\u001b[91m117: Guess: $191.68 Truth: $30.99 Error: $160.69 SLE: 3.22 Item: KNOKLOCK 10 Pack 3.75 Inch(96mm) Kitchen...\u001b[0m\n",
      "\u001b[91m118: Guess: $189.34 Truth: $31.99 Error: $157.35 SLE: 3.07 Item: Valley Enterprises Yaesu USB FTDI CT-62 ...\u001b[0m\n",
      "\u001b[91m119: Guess: $189.10 Truth: $15.90 Error: $173.20 SLE: 5.86 Item: G9 LED Light Bulbs，8W，75W 100W replaceme...\u001b[0m\n",
      "\u001b[91m120: Guess: $193.83 Truth: $45.99 Error: $147.84 SLE: 2.02 Item: ZCHAOZ 4 Lights Antique White Farmhouse ...\u001b[0m\n",
      "\u001b[93m121: Guess: $188.47 Truth: $113.52 Error: $74.95 SLE: 0.25 Item: Honeywell TH8320R1003 Honeywell VisionPr...\u001b[0m\n",
      "\u001b[91m122: Guess: $219.12 Truth: $516.99 Error: $297.87 SLE: 0.73 Item: Patriot Exhaust H8013-1 1-7/8\" Clippster...\u001b[0m\n",
      "\u001b[93m123: Guess: $256.40 Truth: $196.99 Error: $59.41 SLE: 0.07 Item: Fitrite Autopart New Front Left Driver S...\u001b[0m\n",
      "\u001b[91m124: Guess: $190.78 Truth: $46.55 Error: $144.23 SLE: 1.94 Item: Technical Precision Replacement for GE G...\u001b[0m\n",
      "\u001b[93m125: Guess: $252.99 Truth: $356.99 Error: $104.00 SLE: 0.12 Item: Covercraft Carhartt SeatSaver Front Row ...\u001b[0m\n",
      "\u001b[91m126: Guess: $190.40 Truth: $319.95 Error: $129.55 SLE: 0.27 Item: Sennheiser SD Pro 2 (506008) - Double-Si...\u001b[0m\n",
      "\u001b[91m127: Guess: $204.17 Truth: $96.06 Error: $108.11 SLE: 0.56 Item: Hitachi MAF0110 Mass Air Flow Sensor\u001b[0m\n",
      "\u001b[92m128: Guess: $192.74 Truth: $190.99 Error: $1.75 SLE: 0.00 Item: AmScope SE305R-P-LED-PS36A 10X-30X LED C...\u001b[0m\n",
      "\u001b[92m129: Guess: $233.53 Truth: $257.95 Error: $24.42 SLE: 0.01 Item: Front Left Driver Side Window Regulator ...\u001b[0m\n",
      "\u001b[91m130: Guess: $192.95 Truth: $62.95 Error: $130.00 SLE: 1.23 Item: Premium Replica Hubcap Set, Fits Nissan ...\u001b[0m\n",
      "\u001b[91m131: Guess: $211.81 Truth: $47.66 Error: $164.15 SLE: 2.18 Item: Excellerations Phonics Spelling Game for...\u001b[0m\n",
      "\u001b[92m132: Guess: $215.27 Truth: $226.99 Error: $11.72 SLE: 0.00 Item: RC4WD BigDog Dual Axle Scale Car/Truck T...\u001b[0m\n",
      "\u001b[91m133: Guess: $208.95 Truth: $359.95 Error: $151.00 SLE: 0.29 Item: Unknown Stage 2 Clutch Kit - Low Altitud...\u001b[0m\n",
      "\u001b[91m134: Guess: $207.14 Truth: $78.40 Error: $128.74 SLE: 0.93 Item: 2002-2008 Dodge Ram 1500 Mopar 4X4 Emble...\u001b[0m\n",
      "\u001b[92m135: Guess: $209.12 Truth: $172.77 Error: $36.35 SLE: 0.04 Item: Pro Comp Alloys Series 89 Wheel with Pol...\u001b[0m\n",
      "\u001b[92m136: Guess: $277.95 Truth: $316.45 Error: $38.50 SLE: 0.02 Item: Detroit Axle - Front Rear Strut & Coil S...\u001b[0m\n",
      "\u001b[91m137: Guess: $230.64 Truth: $87.99 Error: $142.65 SLE: 0.92 Item: ECCPP Rear Wheel Axle Replacement fit fo...\u001b[0m\n",
      "\u001b[91m138: Guess: $388.29 Truth: $226.63 Error: $161.66 SLE: 0.29 Item: Dell Latitude E6520 Intel i7-2720QM 2.20...\u001b[0m\n",
      "\u001b[91m139: Guess: $263.49 Truth: $31.49 Error: $232.00 SLE: 4.40 Item: F FIERCE CYCLE 251pcs Black Universal Mo...\u001b[0m\n",
      "\u001b[92m140: Guess: $211.73 Truth: $196.00 Error: $15.73 SLE: 0.01 Item: Flash Furniture 4 Pk. HERCULES Series 88...\u001b[0m\n",
      "\u001b[91m141: Guess: $201.96 Truth: $78.40 Error: $123.56 SLE: 0.88 Item: B&M 30287 Throttle Valve/Kickdown Cable,...\u001b[0m\n",
      "\u001b[91m142: Guess: $223.45 Truth: $116.25 Error: $107.20 SLE: 0.42 Item: Gates TCK226 PowerGrip Premium Timing Be...\u001b[0m\n",
      "\u001b[91m143: Guess: $203.75 Truth: $112.78 Error: $90.97 SLE: 0.35 Item: Monroe Shocks & Struts Quick-Strut 17149...\u001b[0m\n",
      "\u001b[91m144: Guess: $190.13 Truth: $27.32 Error: $162.81 SLE: 3.65 Item: Feit Electric BPMR16/GU10/930CA/6 35W EQ...\u001b[0m\n",
      "\u001b[93m145: Guess: $196.56 Truth: $145.91 Error: $50.65 SLE: 0.09 Item: Yellow Jacket 2806 Contractor Extension ...\u001b[0m\n",
      "\u001b[93m146: Guess: $211.85 Truth: $171.09 Error: $40.76 SLE: 0.05 Item: Garage-Pro Tailgate SET Compatible with ...\u001b[0m\n",
      "\u001b[92m147: Guess: $190.55 Truth: $167.95 Error: $22.60 SLE: 0.02 Item: 3M Perfect It Buffing and Polishing Kit ...\u001b[0m\n",
      "\u001b[91m148: Guess: $212.36 Truth: $28.49 Error: $183.87 SLE: 3.92 Item: Chinese Style Dollhouse Model DIY Miniat...\u001b[0m\n",
      "\u001b[93m149: Guess: $199.69 Truth: $122.23 Error: $77.46 SLE: 0.24 Item: Generic NRG Innovations SRK-161H Steerin...\u001b[0m\n",
      "\u001b[91m150: Guess: $190.24 Truth: $32.99 Error: $157.25 SLE: 2.98 Item: Learning Resources Coding Critters Range...\u001b[0m\n",
      "\u001b[91m151: Guess: $261.33 Truth: $71.20 Error: $190.13 SLE: 1.66 Item: Bosch Automotive 15463 Oxygen Sensor, OE...\u001b[0m\n",
      "\u001b[91m152: Guess: $201.32 Truth: $112.75 Error: $88.57 SLE: 0.33 Item: Case of 24-2 Inch Blue Painters Tape - 6...\u001b[0m\n",
      "\u001b[91m153: Guess: $259.99 Truth: $142.43 Error: $117.56 SLE: 0.36 Item: MOCA Engine Water Pump & Fan Clutch fit ...\u001b[0m\n",
      "\u001b[93m154: Guess: $257.40 Truth: $398.99 Error: $141.59 SLE: 0.19 Item: SAREMAS Foot Step Bars for Hyundai Palis...\u001b[0m\n",
      "\u001b[91m155: Guess: $191.41 Truth: $449.00 Error: $257.59 SLE: 0.72 Item: Gretsch G9210 Square Neck Boxcar Mahogan...\u001b[0m\n",
      "\u001b[92m156: Guess: $190.24 Truth: $189.00 Error: $1.24 SLE: 0.00 Item: NikoMaku Mirror Dash Cam Front and Rear ...\u001b[0m\n",
      "\u001b[93m157: Guess: $191.14 Truth: $120.91 Error: $70.23 SLE: 0.21 Item: Fenix HP25R v2.0 USB-C Rechargeable Head...\u001b[0m\n",
      "\u001b[92m158: Guess: $237.07 Truth: $203.53 Error: $33.54 SLE: 0.02 Item: R&L Racing Heavy Duty Roll-Up Soft Tonne...\u001b[0m\n",
      "\u001b[91m159: Guess: $188.56 Truth: $349.99 Error: $161.43 SLE: 0.38 Item: Garmin 010-02258-10 GPSMAP 64sx, Handhel...\u001b[0m\n",
      "\u001b[91m160: Guess: $208.46 Truth: $34.35 Error: $174.11 SLE: 3.17 Item: Brown 5-7/8\" X 8-1/2\" X 3/16\" Thick Heav...\u001b[0m\n",
      "\u001b[91m161: Guess: $191.22 Truth: $384.99 Error: $193.77 SLE: 0.49 Item: GAOMON PD2200 Pen Display & 20 Pen Nibs ...\u001b[0m\n",
      "\u001b[92m162: Guess: $210.15 Truth: $211.00 Error: $0.85 SLE: 0.00 Item: VXMOTOR for 97-03 Ford F150/F250 Lightdu...\u001b[0m\n",
      "\u001b[93m163: Guess: $207.87 Truth: $129.00 Error: $78.87 SLE: 0.22 Item: HP EliteBook 2540p Intel Core i7-640LM X...\u001b[0m\n",
      "\u001b[91m164: Guess: $210.44 Truth: $111.45 Error: $98.99 SLE: 0.40 Item: Green EPX Mixing Nozzles 100-Pack-fits 3...\u001b[0m\n",
      "\u001b[91m165: Guess: $203.56 Truth: $81.12 Error: $122.44 SLE: 0.83 Item: Box Partners 6 1/4 x 3 1/8\" 13 Pt. Manil...\u001b[0m\n",
      "\u001b[91m166: Guess: $212.01 Truth: $457.08 Error: $245.07 SLE: 0.59 Item: Vixen Air 1/2\" NPT Air Ride Suspension H...\u001b[0m\n",
      "\u001b[91m167: Guess: $190.96 Truth: $49.49 Error: $141.47 SLE: 1.78 Item: Smart Floor Lamp, 2700-6500K+RGBPink Mul...\u001b[0m\n",
      "\u001b[91m168: Guess: $214.57 Truth: $80.56 Error: $134.01 SLE: 0.94 Item: SOZG 324mm Wheelbase Body Shell RC Car B...\u001b[0m\n",
      "\u001b[92m169: Guess: $223.84 Truth: $278.39 Error: $54.55 SLE: 0.05 Item: Mickey Thompson ET Street S/S Racing Rad...\u001b[0m\n",
      "\u001b[91m170: Guess: $204.93 Truth: $364.50 Error: $159.57 SLE: 0.33 Item: Pirelli 275/40R20 106W XL RFT P0 PZ4-LUX...\u001b[0m\n",
      "\u001b[93m171: Guess: $234.26 Truth: $378.99 Error: $144.73 SLE: 0.23 Item: Torklift C3212 Rear Tie Down\u001b[0m\n",
      "\u001b[93m172: Guess: $209.73 Truth: $165.28 Error: $44.45 SLE: 0.06 Item: Cardone 78-4226 Remanufactured Ford Comp...\u001b[0m\n",
      "\u001b[91m173: Guess: $201.48 Truth: $56.74 Error: $144.74 SLE: 1.57 Item: Kidde AccessPoint 001798 Supra TouchPoin...\u001b[0m\n",
      "\u001b[93m174: Guess: $209.41 Truth: $307.95 Error: $98.54 SLE: 0.15 Item: 3M Protecta 3100414 Self Retracting Life...\u001b[0m\n",
      "\u001b[91m175: Guess: $187.78 Truth: $38.00 Error: $149.78 SLE: 2.49 Item: Plantronics 89435-01 Wired Headset, Blac...\u001b[0m\n",
      "\u001b[91m176: Guess: $189.06 Truth: $53.00 Error: $136.06 SLE: 1.58 Item: Logitech K750 Wireless Solar Keyboard fo...\u001b[0m\n",
      "\u001b[91m177: Guess: $207.80 Truth: $498.00 Error: $290.20 SLE: 0.76 Item: Olympus PEN E-PL9 Body Only with 3-Inch ...\u001b[0m\n",
      "\u001b[91m178: Guess: $210.03 Truth: $53.99 Error: $156.04 SLE: 1.81 Item: Beck/Arnley 051-6066 Hub & Bearing Assem...\u001b[0m\n",
      "\u001b[93m179: Guess: $253.12 Truth: $350.00 Error: $96.88 SLE: 0.10 Item: Eibach Pro-Kit Performance Springs E10-6...\u001b[0m\n",
      "\u001b[93m180: Guess: $209.99 Truth: $299.95 Error: $89.96 SLE: 0.13 Item: LEGO DC Batman 1989 Batwing 76161 Displa...\u001b[0m\n",
      "\u001b[91m181: Guess: $196.77 Truth: $94.93 Error: $101.84 SLE: 0.52 Item: Kingston Brass KS3608PL Restoration 4-In...\u001b[0m\n",
      "\u001b[91m182: Guess: $193.96 Truth: $379.00 Error: $185.04 SLE: 0.45 Item: Polk Vanishing Series 265-LS In-Wall 3-W...\u001b[0m\n",
      "\u001b[93m183: Guess: $212.42 Truth: $299.95 Error: $87.53 SLE: 0.12 Item: Spec-D Tuning LED Projector Headlights G...\u001b[0m\n",
      "\u001b[91m184: Guess: $197.08 Truth: $24.99 Error: $172.09 SLE: 4.12 Item: RICHMOND & FINCH Airpod Pro Case, Green ...\u001b[0m\n",
      "\u001b[91m185: Guess: $244.68 Truth: $41.04 Error: $203.64 SLE: 3.12 Item: LFA Industries 43B-5A-33JT 1/16-1/2-1.5-...\u001b[0m\n",
      "\u001b[93m186: Guess: $207.27 Truth: $327.90 Error: $120.63 SLE: 0.21 Item: SAUTVS LED Headlight Assembly for Slings...\u001b[0m\n",
      "\u001b[91m187: Guess: $211.83 Truth: $10.99 Error: $200.84 SLE: 8.27 Item: 2 Pack Combo Womens Safety Glasses Impac...\u001b[0m\n",
      "\u001b[91m188: Guess: $197.58 Truth: $14.99 Error: $182.59 SLE: 6.35 Item: Arepa - Venezuelan cuisine - Venezuela P...\u001b[0m\n",
      "\u001b[91m189: Guess: $194.77 Truth: $84.95 Error: $109.82 SLE: 0.68 Item: Schlage Lock Company KS23D2300 Padlock, ...\u001b[0m\n",
      "\u001b[91m190: Guess: $192.83 Truth: $111.00 Error: $81.83 SLE: 0.30 Item: Techni Mobili White Sit to Stand Mobile ...\u001b[0m\n",
      "\u001b[91m191: Guess: $207.32 Truth: $123.73 Error: $83.59 SLE: 0.26 Item: Special Lite Products Contemporary Wall ...\u001b[0m\n",
      "\u001b[91m192: Guess: $193.53 Truth: $557.38 Error: $363.85 SLE: 1.11 Item: Tascam DP-24SD 24-Track Digital Portastu...\u001b[0m\n",
      "\u001b[91m193: Guess: $208.37 Truth: $95.55 Error: $112.82 SLE: 0.60 Item: Glow Lighting 636CC10SP Vista Crystal Fl...\u001b[0m\n",
      "\u001b[91m194: Guess: $255.01 Truth: $154.00 Error: $101.01 SLE: 0.25 Item: Z3 Wind Deflector, Smoke Tint, Lexan, Wi...\u001b[0m\n",
      "\u001b[92m195: Guess: $208.11 Truth: $198.99 Error: $9.12 SLE: 0.00 Item: Olympus E-20 5MP Digital Camera w/ 4x Op...\u001b[0m\n",
      "\u001b[91m196: Guess: $226.06 Truth: $430.44 Error: $204.38 SLE: 0.41 Item: PHYNEDI 1:1000 World Trade Center (1973-...\u001b[0m\n",
      "\u001b[91m197: Guess: $196.46 Truth: $45.67 Error: $150.79 SLE: 2.08 Item: YANGHUAN Unstable Unicorns Adventure Car...\u001b[0m\n",
      "\u001b[93m198: Guess: $188.66 Truth: $249.00 Error: $60.34 SLE: 0.08 Item: Interlogix NX-1820E NetworX Touch Screen...\u001b[0m\n",
      "\u001b[91m199: Guess: $209.96 Truth: $42.99 Error: $166.97 SLE: 2.46 Item: Steering Damper,Universal Motorcycle Han...\u001b[0m\n",
      "\u001b[92m200: Guess: $194.19 Truth: $181.33 Error: $12.86 SLE: 0.00 Item: Amprobe TIC 410A Hot Stick Attachment\u001b[0m\n",
      "\u001b[91m201: Guess: $188.04 Truth: $6.03 Error: $182.01 SLE: 10.84 Item: MyCableMart 3.5mm Plug/Jack, 4 Conductor...\u001b[0m\n",
      "\u001b[91m202: Guess: $189.03 Truth: $29.99 Error: $159.04 SLE: 3.29 Item: OtterBox + Pop Symmetry Series Case for ...\u001b[0m\n",
      "\u001b[91m203: Guess: $397.17 Truth: $899.00 Error: $501.83 SLE: 0.67 Item: Dell XPS X8700-1572BLK Desktop ( Intel C...\u001b[0m\n",
      "\u001b[91m204: Guess: $197.96 Truth: $399.99 Error: $202.03 SLE: 0.49 Item: Franklin Iron Works Sperry Industrial Br...\u001b[0m\n",
      "\u001b[91m205: Guess: $189.57 Truth: $4.66 Error: $184.91 SLE: 12.37 Item: Avery Legal Dividers, Standard Collated ...\u001b[0m\n",
      "\u001b[92m206: Guess: $217.83 Truth: $261.41 Error: $43.58 SLE: 0.03 Item: Moen 8346 Commercial Posi-Temp Pressure ...\u001b[0m\n",
      "\u001b[93m207: Guess: $208.80 Truth: $136.97 Error: $71.83 SLE: 0.18 Item: Carlisle Versa Trail ATR All Terrain Rad...\u001b[0m\n",
      "\u001b[91m208: Guess: $187.65 Truth: $79.00 Error: $108.65 SLE: 0.74 Item: SUNWAYFOTO 44mm Tripod Ball Head Arca Co...\u001b[0m\n",
      "\u001b[91m209: Guess: $189.95 Truth: $444.99 Error: $255.04 SLE: 0.72 Item: NanoBeam AC NBE-5AC-Gen2-US 4 Units 5GHz...\u001b[0m\n",
      "\u001b[91m210: Guess: $214.79 Truth: $411.94 Error: $197.15 SLE: 0.42 Item: WULF 4\" Front 2\" Rear Leveling Lift Kit ...\u001b[0m\n",
      "\u001b[93m211: Guess: $212.15 Truth: $148.40 Error: $63.75 SLE: 0.13 Item: Alera ALEVABFMC Valencia Series Mobile B...\u001b[0m\n",
      "\u001b[92m212: Guess: $207.27 Truth: $244.99 Error: $37.72 SLE: 0.03 Item: YU-GI-OH! Ignition Assault Booster Box\u001b[0m\n",
      "\u001b[91m213: Guess: $262.45 Truth: $86.50 Error: $175.95 SLE: 1.21 Item: 48\" x 36\" Extra-Large Framed Magnetic Bl...\u001b[0m\n",
      "\u001b[93m214: Guess: $406.83 Truth: $297.95 Error: $108.88 SLE: 0.10 Item: Dell Latitude D620 Renewed Notebook PC\u001b[0m\n",
      "\u001b[91m215: Guess: $209.91 Truth: $399.99 Error: $190.08 SLE: 0.41 Item: acer Aspire 5 Laptop, AMD Ryzen 3 5300U ...\u001b[0m\n",
      "\u001b[91m216: Guess: $212.34 Truth: $599.00 Error: $386.66 SLE: 1.07 Item: Elk 31080/6RC-GRN 30 by 6-Inch Viva 6-Li...\u001b[0m\n",
      "\u001b[91m217: Guess: $210.49 Truth: $105.99 Error: $104.50 SLE: 0.46 Item: Barbie Top Model Doll\u001b[0m\n",
      "\u001b[91m218: Guess: $213.76 Truth: $689.00 Error: $475.24 SLE: 1.36 Item: Danby Designer 20-In. Electric Range wit...\u001b[0m\n",
      "\u001b[91m219: Guess: $212.42 Truth: $404.99 Error: $192.57 SLE: 0.41 Item: FixtureDisplays® Metal Truss Podium Doub...\u001b[0m\n",
      "\u001b[93m220: Guess: $258.95 Truth: $207.76 Error: $51.19 SLE: 0.05 Item: ACDelco 13597235 GM Original Equipment A...\u001b[0m\n",
      "\u001b[93m221: Guess: $218.28 Truth: $171.82 Error: $46.46 SLE: 0.06 Item: EBC S1KF1135 Stage-1 Premium Street Brak...\u001b[0m\n",
      "\u001b[93m222: Guess: $208.47 Truth: $293.24 Error: $84.77 SLE: 0.12 Item: FXR Men's Boost FX Jacket (Black/Orange/...\u001b[0m\n",
      "\u001b[91m223: Guess: $203.27 Truth: $374.95 Error: $171.68 SLE: 0.37 Item: SuperATV Scratch Resistant 3-in-1 Flip W...\u001b[0m\n",
      "\u001b[91m224: Guess: $258.22 Truth: $111.99 Error: $146.23 SLE: 0.69 Item: SBU 3 Layer All Weather Mini Van Car Cov...\u001b[0m\n",
      "\u001b[91m225: Guess: $192.94 Truth: $42.99 Error: $149.95 SLE: 2.20 Item: 2 Pack Outdoor Brochure Holder Advertisi...\u001b[0m\n",
      "\u001b[91m226: Guess: $294.53 Truth: $116.71 Error: $177.82 SLE: 0.85 Item: Monroe Shocks & Struts Quick-Strut 17158...\u001b[0m\n",
      "\u001b[91m227: Guess: $201.96 Truth: $118.61 Error: $83.35 SLE: 0.28 Item: Elements of Design Magellan EB235AL Thre...\u001b[0m\n",
      "\u001b[93m228: Guess: $197.23 Truth: $147.12 Error: $50.11 SLE: 0.08 Item: GM Genuine Parts 15-62961 Air Conditioni...\u001b[0m\n",
      "\u001b[93m229: Guess: $187.79 Truth: $119.99 Error: $67.80 SLE: 0.20 Item: Baseus 17-in-1 USB C Docking Station to ...\u001b[0m\n",
      "\u001b[91m230: Guess: $214.58 Truth: $369.98 Error: $155.40 SLE: 0.29 Item: Whitehall™ Personalized Whitehall Capito...\u001b[0m\n",
      "\u001b[93m231: Guess: $228.56 Truth: $315.55 Error: $86.99 SLE: 0.10 Item: Pro Circuit Works Pipe PY05250 for 02-19...\u001b[0m\n",
      "\u001b[92m232: Guess: $202.42 Truth: $190.99 Error: $11.43 SLE: 0.00 Item: HYANKA 15 \"1200W Professional DJ Speaker...\u001b[0m\n",
      "\u001b[92m233: Guess: $187.76 Truth: $155.00 Error: $32.76 SLE: 0.04 Item: Bluetooth X6BT Card Reader Writer Encode...\u001b[0m\n",
      "\u001b[93m234: Guess: $212.05 Truth: $349.99 Error: $137.94 SLE: 0.25 Item: AIRAID Cold Air Intake System by K&N: In...\u001b[0m\n",
      "\u001b[93m235: Guess: $195.15 Truth: $249.99 Error: $54.84 SLE: 0.06 Item: Bostingner Shower Faucets Sets Complete,...\u001b[0m\n",
      "\u001b[91m236: Guess: $191.20 Truth: $42.99 Error: $148.21 SLE: 2.17 Item: PIT66 Front Bumper Turn Signal Lights, C...\u001b[0m\n",
      "\u001b[91m237: Guess: $189.38 Truth: $17.99 Error: $171.39 SLE: 5.31 Item: Caseology Bumpy Compatible with Google P...\u001b[0m\n",
      "\u001b[91m238: Guess: $197.20 Truth: $425.00 Error: $227.80 SLE: 0.59 Item: Fleck 2510 Timer Mechanical Filter Contr...\u001b[0m\n",
      "\u001b[93m239: Guess: $190.62 Truth: $249.99 Error: $59.37 SLE: 0.07 Item: Haloview MC7108 Wireless RV Backup Camer...\u001b[0m\n",
      "\u001b[93m240: Guess: $207.46 Truth: $138.23 Error: $69.23 SLE: 0.16 Item: Schmidt Spiele - Manhattan\u001b[0m\n",
      "\u001b[91m241: Guess: $221.32 Truth: $414.99 Error: $193.67 SLE: 0.39 Item: Corsa 14333 Tip Kit (Ford Mustang GT)\u001b[0m\n",
      "\u001b[92m242: Guess: $205.85 Truth: $168.28 Error: $37.57 SLE: 0.04 Item: Hoshizaki FM116A Fan Motor Kit 1\u001b[0m\n",
      "\u001b[92m243: Guess: $200.98 Truth: $199.99 Error: $0.99 SLE: 0.00 Item: BAINUO Antler Chandelier Lighting,6 Ligh...\u001b[0m\n",
      "\u001b[93m244: Guess: $195.78 Truth: $126.70 Error: $69.08 SLE: 0.19 Item: DNA MOTORING HL-OH-FEXP06-SM-AM Smoke Le...\u001b[0m\n",
      "\u001b[91m245: Guess: $211.41 Truth: $5.91 Error: $205.50 SLE: 11.73 Item: Wera Stainless 3840/1 TS 2.5mm Hex Inser...\u001b[0m\n",
      "\u001b[92m246: Guess: $192.01 Truth: $193.06 Error: $1.05 SLE: 0.00 Item: Celestron - PowerSeeker 127EQ Telescope ...\u001b[0m\n",
      "\u001b[93m247: Guess: $192.94 Truth: $249.99 Error: $57.05 SLE: 0.07 Item: NHOPEEW 10.1inch Android Car Radio Carpl...\u001b[0m\n",
      "\u001b[91m248: Guess: $207.64 Truth: $64.12 Error: $143.52 SLE: 1.36 Item: Other Harmonica (Suzuki-2Timer24- A)\u001b[0m\n",
      "\u001b[91m249: Guess: $202.20 Truth: $114.99 Error: $87.21 SLE: 0.31 Item: Harley Air Filter Venturi Intake Air Cle...\u001b[0m\n",
      "\u001b[91m250: Guess: $195.34 Truth: $926.00 Error: $730.66 SLE: 2.41 Item: Elite Screens Edge Free Ambient Light Re...\u001b[0m\n"
     ]
    },
    {
     "data": {
      "image/png": "[encoded data removed]",
      "text/plain": [
       "<Figure size 1200x800 with 1 Axes>"
      ]
     },
     "metadata": {},
     "output_type": "display_data"
    }
   ],
   "source": [
    "# test it\n",
    "\n",
    "Tester.test(linear_regression_pricer)"
   ]
  },
  {
   "cell_type": "code",
   "execution_count": null,
   "id": "35c4b36f-5235-4742-b95c-95994a945157",
   "metadata": {},
   "outputs": [],
   "source": []
  }
 ],
 "metadata": {
  "kernelspec": {
   "display_name": "Python 3 (ipykernel)",
   "language": "python",
   "name": "python3"
  },
  "language_info": {
   "codemirror_mode": {
    "name": "ipython",
    "version": 3
   },
   "file_extension": ".py",
   "mimetype": "text/x-python",
   "name": "python",
   "nbconvert_exporter": "python",
   "pygments_lexer": "ipython3",
   "version": "3.11.11"
  }
 },
 "nbformat": 4,
 "nbformat_minor": 5
}
