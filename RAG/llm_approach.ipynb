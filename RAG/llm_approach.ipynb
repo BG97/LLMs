{
 "cells": [
  {
   "cell_type": "code",
   "execution_count": 151,
   "id": "53a0c1ed-65c5-4f13-bf16-12c310d59a6d",
   "metadata": {},
   "outputs": [],
   "source": [
    "# Input data\n",
    "articles_data = \\\n",
    "{\n",
    "  \"articles\": [\n",
    "    {\n",
    "      \"articleId\": \"1\",\n",
    "      \"title\": \"Adaptive Frequency Hopping in 5G Networks for Enhanced QoS\",\n",
    "      \"abstract\": \"This paper explores the implementation of adaptive frequency hopping techniques in 5G networks to improve Quality of Service (QoS). We discuss the challenges of interference management and propose a novel algorithm that dynamically adjusts hopping patterns based on real-time network conditions. Simulation results show a significant enhancement in both latency and throughput.\"\n",
    "    },\n",
    "    {\n",
    "      \"articleId\": \"2\",\n",
    "      \"title\": \"Energy-Efficient Routing Protocols for IoT Networks\",\n",
    "      \"abstract\": \"With the proliferation of IoT devices, energy efficiency in wireless networks has become crucial. This article introduces new routing protocols designed to minimize energy consumption while maintaining network connectivity. Through extensive simulations, we demonstrate that our protocols extend battery life by up to 30% compared to existing solutions.\"\n",
    "    },\n",
    "    {\n",
    "      \"articleId\": \"3\",\n",
    "      \"title\": \"Millimeter Wave Communication: Challenges and Opportunities\",\n",
    "      \"abstract\": \"Millimeter wave (mmWave) technology offers significant bandwidth for high data rates but comes with unique challenges like high path loss and sensitivity to blockages. This review examines the state-of-the-art in mmWave communication, focusing on propagation characteristics, beamforming techniques, and practical deployment issues.\"\n",
    "    },\n",
    "    {\n",
    "      \"articleId\": \"4\",\n",
    "      \"title\": \"Secure Data Transmission in Ad Hoc Networks via Blockchain\",\n",
    "      \"abstract\": \"Security remains a pivotal concern in ad hoc networks due to their dynamic nature. This study proposes integrating blockchain technology to ensure secure data transmission. The approach leverages distributed ledgers for transaction verification, providing a robust security framework against tampering and denial-of-service attacks.\"\n",
    "    },\n",
    "    {\n",
    "      \"articleId\": \"5\",\n",
    "      \"title\": \"Network Slicing for Next-Generation Wireless Systems\",\n",
    "      \"abstract\": \"Network slicing is pivotal for tailoring network services to specific applications in 5G and beyond. This paper discusses various slicing strategies, their implementation complexities, and performance benefits. We present a case study using a simulated urban environment to illustrate how slicing can optimize resource allocation for different service classes.\"\n",
    "    },\n",
    "    {\n",
    "      \"articleId\": \"6\",\n",
    "      \"title\": \"Impact of UAVs on Wireless Network Performance\",\n",
    "      \"abstract\": \"Unmanned Aerial Vehicles (UAVs) are increasingly used for extending network coverage and capacity. This article quantifies the impact of UAV-assisted networks on traditional wireless infrastructure. We analyze aspects like signal shadowing, interference, and mobility, providing insights into optimizing UAV deployment for maximum network efficiency.\"\n",
    "    },\n",
    "    {\n",
    "      \"articleId\": \"7\",\n",
    "      \"title\": \"Machine Learning for Predictive Channel Modeling in Wireless Networks\",\n",
    "      \"abstract\": \"Channel modeling is central to wireless network performance. This paper applies machine learning techniques to predict channel characteristics in dynamic environments. Our models, trained on real-world data, show superior prediction accuracy, which can lead to more efficient resource management and reduced interference.\"\n",
    "    },\n",
    "    {\n",
    "      \"articleId\": \"8\",\n",
    "      \"title\": \"Latency Optimization in Wireless Sensor Networks\",\n",
    "      \"abstract\": \"Latency in wireless sensor networks can critically affect data timeliness, especially in applications requiring real-time responses. This research introduces a method to optimize latency through adaptive sleep/wake cycles and dynamic data aggregation. Field tests demonstrate significant latency reductions without compromising energy efficiency.\"\n",
    "    },\n",
    "    {\n",
    "      \"articleId\": \"9\",\n",
    "      \"title\": \"Cross-Layer Design for Enhancing Throughput in Wi-Fi 6 Networks\",\n",
    "      \"abstract\": \"Wi-Fi 6 introduces several enhancements, yet challenges in throughput persist. This study investigates a cross-layer approach to optimize data transmission in Wi-Fi 6 environments, focusing on MAC and PHY layer interactions. Our findings suggest that such designs can increase throughput by adapting to network conditions more effectively.\"\n",
    "    },\n",
    "    {\n",
    "      \"articleId\": \"10\",\n",
    "      \"title\": \"Interference Management in Dense Wireless Networks\",\n",
    "      \"abstract\": \"In dense deployments, interference becomes a major issue. Here, we propose and evaluate an interference management strategy based on cooperative MIMO and cognitive radio techniques. The results from our experimental network setup show a marked improvement in signal quality and user experience in high-density scenarios.\"\n",
    "    }\n",
    "  ]\n",
    "}"
   ]
  },
  {
   "cell_type": "code",
   "execution_count": 177,
   "id": "1fd0b8bd-6ea5-4295-aa2d-286d85ee4b5e",
   "metadata": {},
   "outputs": [],
   "source": [
    "\n",
    "# Task 1 - Build a machine learning solution to identify key terms\n",
    "# and their definitions in articles\n",
    "\n",
    "# sample output:\n",
    "# articleId, term, definition\n",
    "# 1, adaptive frequency hopping, \"Adaptive Frequency Hopping (AFH) is a \\\n",
    "# Bluetooth technology that improves resistance to radio frequency \\\n",
    "# interference by dynamically avoiding high-traffic frequencies within \\\n",
    "# the hopping sequence.\""
   ]
  },
  {
   "cell_type": "code",
   "execution_count": 179,
   "id": "5f3a0bb4-149a-4cdd-aa1a-49a9aea6460d",
   "metadata": {},
   "outputs": [],
   "source": [
    "# Import necessary packages\n",
    "import openai\n",
    "import pandas as pd\n",
    "import time\n",
    "from dotenv import load_dotenv\n",
    "import os"
   ]
  },
  {
   "cell_type": "code",
   "execution_count": 180,
   "id": "33be3310-3b27-43fa-85ea-1622ec562614",
   "metadata": {},
   "outputs": [],
   "source": [
    "# Model & API Key Initialization\n",
    "MODEL = \"gpt-4o-mini\"\n",
    "load_dotenv(override=True)\n",
    "os.environ['OPENAI_API_KEY'] = os.getenv('OPENAI_API_KEY', 'your-key-if-not-using-env')"
   ]
  },
  {
   "cell_type": "code",
   "execution_count": 181,
   "id": "fd98c107-781f-446e-b27c-665d14729d3c",
   "metadata": {},
   "outputs": [],
   "source": [
    "# GPT Function to Extract Key Terms\n",
    "def extract_key_terms(title, abstract):\n",
    "    prompt = f\"\"\"\n",
    "Below is the title and abstract of a technical research paper.  \n",
    "Please extract 1 most important technical terms or concepts mentioned in it.  \n",
    "Output only a bullet-point list of the terms (without definitions).\n",
    "\n",
    "Title: {title}\n",
    "\"\"\"\n",
    "    # Call the OpenAI Chat API to extract terms\n",
    "    response = openai.chat.completions.create(\n",
    "        model=MODEL,\n",
    "        messages=[{\"role\": \"user\", \"content\": prompt}],\n",
    "        temperature=0.4\n",
    "    )\n",
    "    # Parse lines that start with \"-\" as bullet points\n",
    "    return [line.strip('- ').strip() for line in response.choices[0].message.content.splitlines() if line.startswith(\"-\")]\n"
   ]
  },
  {
   "cell_type": "code",
   "execution_count": 182,
   "id": "48c1968e-9b29-4702-8b93-f1712e8bb4f9",
   "metadata": {},
   "outputs": [],
   "source": [
    "# GPT Function to Define a Term\n",
    "def define_term(term):\n",
    "    prompt = f\"\"\"Please give a concise technical definition (1-2 sentences) of the term: \"{term}\".\n",
    "The context is wireless communications or computer networks.\"\"\"\n",
    "    # Call the GPT model to generate the definition\n",
    "    response = openai.chat.completions.create(\n",
    "        model=MODEL,\n",
    "        messages=[{\"role\": \"user\", \"content\": prompt}],\n",
    "        temperature=0.5\n",
    "    )\n",
    "    return response.choices[0].message.content\n"
   ]
  },
  {
   "cell_type": "code",
   "execution_count": 183,
   "id": "728393f4-4ff1-4e19-9da1-fd58200ced2d",
   "metadata": {},
   "outputs": [],
   "source": [
    "# Store terms and article metadata\n",
    "terms = {}\n",
    "article_lookup  = {}\n",
    "for article in articles_data[\"articles\"]:\n",
    "    article_id = article[\"articleId\"]\n",
    "    title = article[\"title\"]\n",
    "    abstract = article[\"abstract\"]\n",
    "\n",
    "    ## Use GPT to extract key terms from title and abstract\n",
    "    terms[article_id] = extract_key_terms(article[\"title\"],article[\"abstract\"])\n",
    "    \n",
    "    # Store the title and abstract for later use in the article table\n",
    "    article_lookup[article_id] =  (title, abstract)\n",
    "\n"
   ]
  },
  {
   "cell_type": "code",
   "execution_count": 184,
   "id": "081f2cee-eecb-4e83-8b8d-650c97cdb3b5",
   "metadata": {},
   "outputs": [],
   "source": [
    "# # Loop through each article and its associated list of terms\n",
    "result = []\n",
    "\n",
    "for articleid,term in terms.items():\n",
    "    # Use GPT to generate a concise technical definition for each term\n",
    "    definition = define_term(term)\n",
    "    # Append the full (articleid, term, definition) tuple to results\n",
    "    result.append((articleid,term,definition))\n",
    "    # Sleep briefly to avoid hitting GPT API rate limits\n",
    "    time.sleep(1.5)"
   ]
  },
  {
   "cell_type": "code",
   "execution_count": 185,
   "id": "fb439252-4c61-4a8b-941c-8dc0fc903426",
   "metadata": {},
   "outputs": [
    {
     "name": "stdout",
     "output_type": "stream",
     "text": [
      "('1', ['Adaptive Frequency Hopping'], 'Adaptive Frequency Hopping (AFH) is a technique used in wireless communications that dynamically adjusts the frequency channels used for transmission to minimize interference and improve communication reliability, particularly in environments with multiple devices or competing signals. It enhances the traditional frequency hopping spread spectrum (FHSS) by analyzing the quality of available channels and selecting those that offer the best performance.')\n",
      "('2', ['Energy-Efficient Routing'], 'Energy-efficient routing refers to the process of selecting optimal paths for data transmission in wireless communications or computer networks that minimize energy consumption, thereby extending the lifespan of devices and improving overall network performance. This involves algorithms that consider factors such as node energy levels, transmission power, and network topology to reduce energy usage while maintaining reliable communication.')\n",
      "('3', ['Millimeter Wave Communication'], 'Millimeter Wave Communication refers to the transmission of radio waves in the frequency range of 30 GHz to 300 GHz, characterized by short wavelengths between 1 mm and 10 mm, enabling high data rate wireless communication with enhanced bandwidth and reduced latency, but limited range and penetration capabilities.')\n",
      "('4', ['Blockchain'], 'Blockchain is a decentralized and distributed digital ledger technology that records transactions across multiple nodes in a secure, immutable, and transparent manner, enabling trustless interactions and data integrity in wireless communications and computer networks.')\n",
      "('5', ['Network Slicing'], 'Network slicing is a network architecture technique that enables the creation of multiple virtual networks on a single physical infrastructure, allowing for the customization of network resources and services to meet specific requirements of different applications or user groups. This approach enhances efficiency, flexibility, and scalability in wireless communications and computer networks.')\n",
      "('6', ['UAVs'], 'Unmanned Aerial Vehicles (UAVs) are aircraft systems that operate without a human pilot onboard, often equipped with communication and sensing technologies to enable remote operation, data collection, and real-time wireless communication in various applications, including surveillance, mapping, and delivery services. In the context of wireless communications, UAVs can serve as aerial platforms to enhance network coverage, facilitate data relay, and support Internet of Things (IoT) applications.')\n",
      "('7', ['Predictive Channel Modeling'], 'Predictive Channel Modeling refers to the use of statistical and machine learning techniques to forecast the behavior of communication channels in wireless networks, enabling the optimization of resource allocation and signal processing based on anticipated channel conditions. This approach leverages historical data and environmental factors to enhance the reliability and efficiency of data transmission.')\n",
      "('8', ['Latency Optimization'], 'Latency optimization refers to the techniques and strategies employed to reduce the delay in data transmission across a network, enhancing the responsiveness of applications and services by minimizing the time taken for data packets to travel from the source to the destination. This can involve optimizing routing paths, reducing processing delays, and enhancing bandwidth utilization in wireless communications or computer networks.')\n",
      "('9', ['Cross-Layer Design'], 'Cross-layer design refers to an approach in wireless communications and computer networks that optimizes the performance of a system by allowing interactions and sharing of information between different layers of the protocol stack, rather than treating each layer independently. This method aims to enhance overall efficiency, throughput, and resource utilization by leveraging the dependencies and trade-offs across layers.')\n",
      "('10', ['Interference Management'], 'Interference management in wireless communications and computer networks refers to the techniques and strategies employed to minimize or mitigate the impact of unwanted signals or noise that can degrade the performance of a communication system, ensuring reliable data transmission and optimal network efficiency. This can involve methods such as frequency hopping, power control, spatial diversity, and advanced signal processing algorithms.')\n"
     ]
    }
   ],
   "source": [
    "# Loop through and display all extracted results\n",
    "for row in result:\n",
    "    print(row)"
   ]
  },
  {
   "cell_type": "markdown",
   "id": "f6445177-28a7-4d60-859c-280395b2b860",
   "metadata": {},
   "source": [
    "# Task 2 - Create a database with necessary tables from the data in Task 1"
   ]
  },
  {
   "cell_type": "code",
   "execution_count": 186,
   "id": "b566bae6-3dde-454a-b3e1-dcf91c99cc06",
   "metadata": {},
   "outputs": [],
   "source": [
    "import sqlite3"
   ]
  },
  {
   "cell_type": "code",
   "execution_count": 187,
   "id": "8e6a9fe8-03dc-4287-b681-33567c1d3eac",
   "metadata": {},
   "outputs": [],
   "source": [
    "# Connect to SQLite database (creates a new file if it doesn't exist)\n",
    "conn = sqlite3.connect(\"articles.db\")\n",
    "cursor = conn.cursor()"
   ]
  },
  {
   "cell_type": "code",
   "execution_count": 188,
   "id": "4dd18710-463a-46f9-aeaf-41af8d941f78",
   "metadata": {},
   "outputs": [
    {
     "data": {
      "text/plain": [
       "<sqlite3.Cursor at 0x153d77bb3c0>"
      ]
     },
     "execution_count": 188,
     "metadata": {},
     "output_type": "execute_result"
    }
   ],
   "source": [
    "# (Optional) Drop old tables if they already exist\n",
    "cursor.execute(\"DROP TABLE IF EXISTS article\")\n",
    "cursor.execute(\"DROP TABLE IF EXISTS definitionTable\")\n",
    "cursor.execute(\"DROP TABLE IF EXISTS articleTerm\")"
   ]
  },
  {
   "cell_type": "code",
   "execution_count": 189,
   "id": "15ef8d1e-c596-40c4-9bb5-80b0ef36b8ad",
   "metadata": {},
   "outputs": [
    {
     "data": {
      "text/plain": [
       "<sqlite3.Cursor at 0x153d77bb3c0>"
      ]
     },
     "execution_count": 189,
     "metadata": {},
     "output_type": "execute_result"
    }
   ],
   "source": [
    "# Create the article table: stores article metadata\n",
    "cursor.execute(\"\"\"\n",
    "CREATE TABLE definitionTable (\n",
    "    termid INTEGER PRIMARY KEY AUTOINCREMENT,\n",
    "    termname TEXT UNIQUE,\n",
    "    definition TEXT\n",
    ")\n",
    "\"\"\")\n"
   ]
  },
  {
   "cell_type": "code",
   "execution_count": 190,
   "id": "4c4ce681-dcf9-43b2-ab8a-03c850e2819a",
   "metadata": {},
   "outputs": [
    {
     "data": {
      "text/plain": [
       "<sqlite3.Cursor at 0x153d77bb3c0>"
      ]
     },
     "execution_count": 190,
     "metadata": {},
     "output_type": "execute_result"
    }
   ],
   "source": [
    "#Create the definition table: stores unique terms and their definitions\n",
    "cursor.execute(\"\"\"\n",
    "CREATE TABLE article (\n",
    "    articleid TEXT PRIMARY KEY,\n",
    "    articletitle TEXT,\n",
    "    articlearticle TEXT\n",
    ")\n",
    "\"\"\")"
   ]
  },
  {
   "cell_type": "code",
   "execution_count": 191,
   "id": "202c0768-95e5-4364-97fb-26a52864b8a2",
   "metadata": {},
   "outputs": [
    {
     "data": {
      "text/plain": [
       "<sqlite3.Cursor at 0x153d77bb3c0>"
      ]
     },
     "execution_count": 191,
     "metadata": {},
     "output_type": "execute_result"
    }
   ],
   "source": [
    "#Create the mapping table: links each article to multiple terms\n",
    "\n",
    "cursor.execute(\"\"\"\n",
    "CREATE TABLE articleTerm (\n",
    "    articleid TEXT,\n",
    "    termid INTEGER,\n",
    "    FOREIGN KEY(articleid) REFERENCES article(articleid),\n",
    "    FOREIGN KEY(termid) REFERENCES definitionTable(termid)\n",
    ")\n",
    "\"\"\")"
   ]
  },
  {
   "cell_type": "code",
   "execution_count": 192,
   "id": "24b518b2-629b-4c18-a1b4-3d0bfaff87fd",
   "metadata": {},
   "outputs": [],
   "source": [
    "# Insert data into the article table using the lookup dictionary\n",
    "for article_id, (title, abstract) in article_lookup.items():\n",
    "    cursor.execute(\"INSERT INTO article VALUES (?, ?, ?)\", (article_id, title, abstract))\n"
   ]
  },
  {
   "cell_type": "code",
   "execution_count": 193,
   "id": "0d3c3011-4dde-4721-ac70-d8f7fe18e44f",
   "metadata": {},
   "outputs": [],
   "source": [
    "termid_map = {}# Dictionary to map term names to their assigned term IDs\n",
    "\n",
    "# Loop over each (article_id, term_list, definition) from GPT results\n",
    "for article_id, term_list, definition in result:\n",
    "    for term in term_list:\n",
    "        if term not in termid_map:\n",
    "            # Insert a new term and definition into definitionTable\n",
    "            cursor.execute(\"INSERT INTO definitionTable (termname, definition) VALUES (?, ?)\", (term, definition))\n",
    "            termid = cursor.lastrowid\n",
    "            termid_map[term] = termid\n",
    "        else:\n",
    "            #Reuse existing term ID if already inserted\n",
    "            termid = termid_map[term]\n",
    "        # Insert the link between article and term into articleTerm\n",
    "        cursor.execute(\"INSERT INTO articleTerm VALUES (?, ?)\", (article_id, termid))"
   ]
  },
  {
   "cell_type": "code",
   "execution_count": 194,
   "id": "2bd63402-11de-4b45-9a91-aea60d494b72",
   "metadata": {},
   "outputs": [
    {
     "name": "stdout",
     "output_type": "stream",
     "text": [
      "All table：               name\n",
      "0  sqlite_sequence\n",
      "1  definitionTable\n",
      "2          article\n",
      "3      articleTerm\n"
     ]
    }
   ],
   "source": [
    "# Print out all table names in the current SQLite database\n",
    "print(\"All table：\", pd.read_sql(\"SELECT name FROM sqlite_master WHERE type='table';\", conn))"
   ]
  },
  {
   "cell_type": "code",
   "execution_count": 195,
   "id": "9ef0906e-9384-40c5-a7c0-caf96ee591b6",
   "metadata": {},
   "outputs": [
    {
     "name": "stdout",
     "output_type": "stream",
     "text": [
      "📄 article table：\n"
     ]
    },
    {
     "data": {
      "text/html": [
       "<div>\n",
       "<style scoped>\n",
       "    .dataframe tbody tr th:only-of-type {\n",
       "        vertical-align: middle;\n",
       "    }\n",
       "\n",
       "    .dataframe tbody tr th {\n",
       "        vertical-align: top;\n",
       "    }\n",
       "\n",
       "    .dataframe thead th {\n",
       "        text-align: right;\n",
       "    }\n",
       "</style>\n",
       "<table border=\"1\" class=\"dataframe\">\n",
       "  <thead>\n",
       "    <tr style=\"text-align: right;\">\n",
       "      <th></th>\n",
       "      <th>articleid</th>\n",
       "      <th>articletitle</th>\n",
       "      <th>articlearticle</th>\n",
       "    </tr>\n",
       "  </thead>\n",
       "  <tbody>\n",
       "    <tr>\n",
       "      <th>0</th>\n",
       "      <td>1</td>\n",
       "      <td>Adaptive Frequency Hopping in 5G Networks for ...</td>\n",
       "      <td>This paper explores the implementation of adap...</td>\n",
       "    </tr>\n",
       "    <tr>\n",
       "      <th>1</th>\n",
       "      <td>2</td>\n",
       "      <td>Energy-Efficient Routing Protocols for IoT Net...</td>\n",
       "      <td>With the proliferation of IoT devices, energy ...</td>\n",
       "    </tr>\n",
       "    <tr>\n",
       "      <th>2</th>\n",
       "      <td>3</td>\n",
       "      <td>Millimeter Wave Communication: Challenges and ...</td>\n",
       "      <td>Millimeter wave (mmWave) technology offers sig...</td>\n",
       "    </tr>\n",
       "    <tr>\n",
       "      <th>3</th>\n",
       "      <td>4</td>\n",
       "      <td>Secure Data Transmission in Ad Hoc Networks vi...</td>\n",
       "      <td>Security remains a pivotal concern in ad hoc n...</td>\n",
       "    </tr>\n",
       "    <tr>\n",
       "      <th>4</th>\n",
       "      <td>5</td>\n",
       "      <td>Network Slicing for Next-Generation Wireless S...</td>\n",
       "      <td>Network slicing is pivotal for tailoring netwo...</td>\n",
       "    </tr>\n",
       "    <tr>\n",
       "      <th>5</th>\n",
       "      <td>6</td>\n",
       "      <td>Impact of UAVs on Wireless Network Performance</td>\n",
       "      <td>Unmanned Aerial Vehicles (UAVs) are increasing...</td>\n",
       "    </tr>\n",
       "    <tr>\n",
       "      <th>6</th>\n",
       "      <td>7</td>\n",
       "      <td>Machine Learning for Predictive Channel Modeli...</td>\n",
       "      <td>Channel modeling is central to wireless networ...</td>\n",
       "    </tr>\n",
       "    <tr>\n",
       "      <th>7</th>\n",
       "      <td>8</td>\n",
       "      <td>Latency Optimization in Wireless Sensor Networks</td>\n",
       "      <td>Latency in wireless sensor networks can critic...</td>\n",
       "    </tr>\n",
       "    <tr>\n",
       "      <th>8</th>\n",
       "      <td>9</td>\n",
       "      <td>Cross-Layer Design for Enhancing Throughput in...</td>\n",
       "      <td>Wi-Fi 6 introduces several enhancements, yet c...</td>\n",
       "    </tr>\n",
       "    <tr>\n",
       "      <th>9</th>\n",
       "      <td>10</td>\n",
       "      <td>Interference Management in Dense Wireless Netw...</td>\n",
       "      <td>In dense deployments, interference becomes a m...</td>\n",
       "    </tr>\n",
       "  </tbody>\n",
       "</table>\n",
       "</div>"
      ],
      "text/plain": [
       "  articleid                                       articletitle  \\\n",
       "0         1  Adaptive Frequency Hopping in 5G Networks for ...   \n",
       "1         2  Energy-Efficient Routing Protocols for IoT Net...   \n",
       "2         3  Millimeter Wave Communication: Challenges and ...   \n",
       "3         4  Secure Data Transmission in Ad Hoc Networks vi...   \n",
       "4         5  Network Slicing for Next-Generation Wireless S...   \n",
       "5         6     Impact of UAVs on Wireless Network Performance   \n",
       "6         7  Machine Learning for Predictive Channel Modeli...   \n",
       "7         8   Latency Optimization in Wireless Sensor Networks   \n",
       "8         9  Cross-Layer Design for Enhancing Throughput in...   \n",
       "9        10  Interference Management in Dense Wireless Netw...   \n",
       "\n",
       "                                      articlearticle  \n",
       "0  This paper explores the implementation of adap...  \n",
       "1  With the proliferation of IoT devices, energy ...  \n",
       "2  Millimeter wave (mmWave) technology offers sig...  \n",
       "3  Security remains a pivotal concern in ad hoc n...  \n",
       "4  Network slicing is pivotal for tailoring netwo...  \n",
       "5  Unmanned Aerial Vehicles (UAVs) are increasing...  \n",
       "6  Channel modeling is central to wireless networ...  \n",
       "7  Latency in wireless sensor networks can critic...  \n",
       "8  Wi-Fi 6 introduces several enhancements, yet c...  \n",
       "9  In dense deployments, interference becomes a m...  "
      ]
     },
     "metadata": {},
     "output_type": "display_data"
    }
   ],
   "source": [
    "#Read and display all rows from the article table\n",
    "df_articles = pd.read_sql(\"SELECT * FROM article\", conn)\n",
    "print(\"📄 article table：\")\n",
    "display(df_articles)"
   ]
  },
  {
   "cell_type": "code",
   "execution_count": 196,
   "id": "34ffd9ee-bc3a-442f-9186-8d4784a5d184",
   "metadata": {},
   "outputs": [
    {
     "name": "stdout",
     "output_type": "stream",
     "text": [
      "📚 definitionTable table：\n"
     ]
    },
    {
     "data": {
      "text/html": [
       "<div>\n",
       "<style scoped>\n",
       "    .dataframe tbody tr th:only-of-type {\n",
       "        vertical-align: middle;\n",
       "    }\n",
       "\n",
       "    .dataframe tbody tr th {\n",
       "        vertical-align: top;\n",
       "    }\n",
       "\n",
       "    .dataframe thead th {\n",
       "        text-align: right;\n",
       "    }\n",
       "</style>\n",
       "<table border=\"1\" class=\"dataframe\">\n",
       "  <thead>\n",
       "    <tr style=\"text-align: right;\">\n",
       "      <th></th>\n",
       "      <th>termid</th>\n",
       "      <th>termname</th>\n",
       "      <th>definition</th>\n",
       "    </tr>\n",
       "  </thead>\n",
       "  <tbody>\n",
       "    <tr>\n",
       "      <th>0</th>\n",
       "      <td>1</td>\n",
       "      <td>Adaptive Frequency Hopping</td>\n",
       "      <td>Adaptive Frequency Hopping (AFH) is a techniqu...</td>\n",
       "    </tr>\n",
       "    <tr>\n",
       "      <th>1</th>\n",
       "      <td>2</td>\n",
       "      <td>Energy-Efficient Routing</td>\n",
       "      <td>Energy-efficient routing refers to the process...</td>\n",
       "    </tr>\n",
       "    <tr>\n",
       "      <th>2</th>\n",
       "      <td>3</td>\n",
       "      <td>Millimeter Wave Communication</td>\n",
       "      <td>Millimeter Wave Communication refers to the tr...</td>\n",
       "    </tr>\n",
       "    <tr>\n",
       "      <th>3</th>\n",
       "      <td>4</td>\n",
       "      <td>Blockchain</td>\n",
       "      <td>Blockchain is a decentralized and distributed ...</td>\n",
       "    </tr>\n",
       "    <tr>\n",
       "      <th>4</th>\n",
       "      <td>5</td>\n",
       "      <td>Network Slicing</td>\n",
       "      <td>Network slicing is a network architecture tech...</td>\n",
       "    </tr>\n",
       "    <tr>\n",
       "      <th>5</th>\n",
       "      <td>6</td>\n",
       "      <td>UAVs</td>\n",
       "      <td>Unmanned Aerial Vehicles (UAVs) are aircraft s...</td>\n",
       "    </tr>\n",
       "    <tr>\n",
       "      <th>6</th>\n",
       "      <td>7</td>\n",
       "      <td>Predictive Channel Modeling</td>\n",
       "      <td>Predictive Channel Modeling refers to the use ...</td>\n",
       "    </tr>\n",
       "    <tr>\n",
       "      <th>7</th>\n",
       "      <td>8</td>\n",
       "      <td>Latency Optimization</td>\n",
       "      <td>Latency optimization refers to the techniques ...</td>\n",
       "    </tr>\n",
       "    <tr>\n",
       "      <th>8</th>\n",
       "      <td>9</td>\n",
       "      <td>Cross-Layer Design</td>\n",
       "      <td>Cross-layer design refers to an approach in wi...</td>\n",
       "    </tr>\n",
       "    <tr>\n",
       "      <th>9</th>\n",
       "      <td>10</td>\n",
       "      <td>Interference Management</td>\n",
       "      <td>Interference management in wireless communicat...</td>\n",
       "    </tr>\n",
       "  </tbody>\n",
       "</table>\n",
       "</div>"
      ],
      "text/plain": [
       "   termid                       termname  \\\n",
       "0       1     Adaptive Frequency Hopping   \n",
       "1       2       Energy-Efficient Routing   \n",
       "2       3  Millimeter Wave Communication   \n",
       "3       4                     Blockchain   \n",
       "4       5                Network Slicing   \n",
       "5       6                           UAVs   \n",
       "6       7    Predictive Channel Modeling   \n",
       "7       8           Latency Optimization   \n",
       "8       9             Cross-Layer Design   \n",
       "9      10        Interference Management   \n",
       "\n",
       "                                          definition  \n",
       "0  Adaptive Frequency Hopping (AFH) is a techniqu...  \n",
       "1  Energy-efficient routing refers to the process...  \n",
       "2  Millimeter Wave Communication refers to the tr...  \n",
       "3  Blockchain is a decentralized and distributed ...  \n",
       "4  Network slicing is a network architecture tech...  \n",
       "5  Unmanned Aerial Vehicles (UAVs) are aircraft s...  \n",
       "6  Predictive Channel Modeling refers to the use ...  \n",
       "7  Latency optimization refers to the techniques ...  \n",
       "8  Cross-layer design refers to an approach in wi...  \n",
       "9  Interference management in wireless communicat...  "
      ]
     },
     "metadata": {},
     "output_type": "display_data"
    }
   ],
   "source": [
    "# Read the entire definitionTable from the database\n",
    "df_terms = pd.read_sql(\"SELECT * FROM definitionTable\", conn)\n",
    "print(\"📚 definitionTable table：\")\n",
    "display(df_terms)"
   ]
  },
  {
   "cell_type": "code",
   "execution_count": 197,
   "id": "f05fbbc1-c7f5-4d09-807a-625eba5f870d",
   "metadata": {},
   "outputs": [
    {
     "name": "stdout",
     "output_type": "stream",
     "text": [
      "🔗 articleTerm table：\n"
     ]
    },
    {
     "data": {
      "text/html": [
       "<div>\n",
       "<style scoped>\n",
       "    .dataframe tbody tr th:only-of-type {\n",
       "        vertical-align: middle;\n",
       "    }\n",
       "\n",
       "    .dataframe tbody tr th {\n",
       "        vertical-align: top;\n",
       "    }\n",
       "\n",
       "    .dataframe thead th {\n",
       "        text-align: right;\n",
       "    }\n",
       "</style>\n",
       "<table border=\"1\" class=\"dataframe\">\n",
       "  <thead>\n",
       "    <tr style=\"text-align: right;\">\n",
       "      <th></th>\n",
       "      <th>articleid</th>\n",
       "      <th>termid</th>\n",
       "    </tr>\n",
       "  </thead>\n",
       "  <tbody>\n",
       "    <tr>\n",
       "      <th>0</th>\n",
       "      <td>1</td>\n",
       "      <td>1</td>\n",
       "    </tr>\n",
       "    <tr>\n",
       "      <th>1</th>\n",
       "      <td>2</td>\n",
       "      <td>2</td>\n",
       "    </tr>\n",
       "    <tr>\n",
       "      <th>2</th>\n",
       "      <td>3</td>\n",
       "      <td>3</td>\n",
       "    </tr>\n",
       "    <tr>\n",
       "      <th>3</th>\n",
       "      <td>4</td>\n",
       "      <td>4</td>\n",
       "    </tr>\n",
       "    <tr>\n",
       "      <th>4</th>\n",
       "      <td>5</td>\n",
       "      <td>5</td>\n",
       "    </tr>\n",
       "    <tr>\n",
       "      <th>5</th>\n",
       "      <td>6</td>\n",
       "      <td>6</td>\n",
       "    </tr>\n",
       "    <tr>\n",
       "      <th>6</th>\n",
       "      <td>7</td>\n",
       "      <td>7</td>\n",
       "    </tr>\n",
       "    <tr>\n",
       "      <th>7</th>\n",
       "      <td>8</td>\n",
       "      <td>8</td>\n",
       "    </tr>\n",
       "    <tr>\n",
       "      <th>8</th>\n",
       "      <td>9</td>\n",
       "      <td>9</td>\n",
       "    </tr>\n",
       "    <tr>\n",
       "      <th>9</th>\n",
       "      <td>10</td>\n",
       "      <td>10</td>\n",
       "    </tr>\n",
       "  </tbody>\n",
       "</table>\n",
       "</div>"
      ],
      "text/plain": [
       "  articleid  termid\n",
       "0         1       1\n",
       "1         2       2\n",
       "2         3       3\n",
       "3         4       4\n",
       "4         5       5\n",
       "5         6       6\n",
       "6         7       7\n",
       "7         8       8\n",
       "8         9       9\n",
       "9        10      10"
      ]
     },
     "metadata": {},
     "output_type": "display_data"
    }
   ],
   "source": [
    "#Read the articleTerm table, which links articles to terms by their IDs\n",
    "df_links = pd.read_sql(\"SELECT * FROM articleTerm\", conn)\n",
    "print(\"🔗 articleTerm table：\")\n",
    "display(df_links)"
   ]
  },
  {
   "cell_type": "code",
   "execution_count": 198,
   "id": "551e741b-ea02-481a-a05f-4e47fade8c2d",
   "metadata": {},
   "outputs": [],
   "source": [
    "#Execute SQL JOIN across three tables to get a complete view\n",
    "df_join = pd.read_sql(\"\"\"\n",
    "SELECT a.articleid, a.articletitle, d.termname, d.definition\n",
    "FROM article a\n",
    "JOIN articleTerm at ON a.articleid = at.articleid\n",
    "JOIN definitionTable d ON at.termid = d.termid\n",
    "\"\"\", conn)"
   ]
  },
  {
   "cell_type": "code",
   "execution_count": 199,
   "id": "bc44947c-446a-469b-9524-4ea20eaaccfd",
   "metadata": {},
   "outputs": [
    {
     "data": {
      "text/html": [
       "<div>\n",
       "<style scoped>\n",
       "    .dataframe tbody tr th:only-of-type {\n",
       "        vertical-align: middle;\n",
       "    }\n",
       "\n",
       "    .dataframe tbody tr th {\n",
       "        vertical-align: top;\n",
       "    }\n",
       "\n",
       "    .dataframe thead th {\n",
       "        text-align: right;\n",
       "    }\n",
       "</style>\n",
       "<table border=\"1\" class=\"dataframe\">\n",
       "  <thead>\n",
       "    <tr style=\"text-align: right;\">\n",
       "      <th></th>\n",
       "      <th>articleid</th>\n",
       "      <th>articletitle</th>\n",
       "      <th>termname</th>\n",
       "      <th>definition</th>\n",
       "    </tr>\n",
       "  </thead>\n",
       "  <tbody>\n",
       "    <tr>\n",
       "      <th>0</th>\n",
       "      <td>1</td>\n",
       "      <td>Adaptive Frequency Hopping in 5G Networks for ...</td>\n",
       "      <td>Adaptive Frequency Hopping</td>\n",
       "      <td>Adaptive Frequency Hopping (AFH) is a techniqu...</td>\n",
       "    </tr>\n",
       "    <tr>\n",
       "      <th>1</th>\n",
       "      <td>2</td>\n",
       "      <td>Energy-Efficient Routing Protocols for IoT Net...</td>\n",
       "      <td>Energy-Efficient Routing</td>\n",
       "      <td>Energy-efficient routing refers to the process...</td>\n",
       "    </tr>\n",
       "    <tr>\n",
       "      <th>2</th>\n",
       "      <td>3</td>\n",
       "      <td>Millimeter Wave Communication: Challenges and ...</td>\n",
       "      <td>Millimeter Wave Communication</td>\n",
       "      <td>Millimeter Wave Communication refers to the tr...</td>\n",
       "    </tr>\n",
       "    <tr>\n",
       "      <th>3</th>\n",
       "      <td>4</td>\n",
       "      <td>Secure Data Transmission in Ad Hoc Networks vi...</td>\n",
       "      <td>Blockchain</td>\n",
       "      <td>Blockchain is a decentralized and distributed ...</td>\n",
       "    </tr>\n",
       "    <tr>\n",
       "      <th>4</th>\n",
       "      <td>5</td>\n",
       "      <td>Network Slicing for Next-Generation Wireless S...</td>\n",
       "      <td>Network Slicing</td>\n",
       "      <td>Network slicing is a network architecture tech...</td>\n",
       "    </tr>\n",
       "    <tr>\n",
       "      <th>5</th>\n",
       "      <td>6</td>\n",
       "      <td>Impact of UAVs on Wireless Network Performance</td>\n",
       "      <td>UAVs</td>\n",
       "      <td>Unmanned Aerial Vehicles (UAVs) are aircraft s...</td>\n",
       "    </tr>\n",
       "    <tr>\n",
       "      <th>6</th>\n",
       "      <td>7</td>\n",
       "      <td>Machine Learning for Predictive Channel Modeli...</td>\n",
       "      <td>Predictive Channel Modeling</td>\n",
       "      <td>Predictive Channel Modeling refers to the use ...</td>\n",
       "    </tr>\n",
       "    <tr>\n",
       "      <th>7</th>\n",
       "      <td>8</td>\n",
       "      <td>Latency Optimization in Wireless Sensor Networks</td>\n",
       "      <td>Latency Optimization</td>\n",
       "      <td>Latency optimization refers to the techniques ...</td>\n",
       "    </tr>\n",
       "    <tr>\n",
       "      <th>8</th>\n",
       "      <td>9</td>\n",
       "      <td>Cross-Layer Design for Enhancing Throughput in...</td>\n",
       "      <td>Cross-Layer Design</td>\n",
       "      <td>Cross-layer design refers to an approach in wi...</td>\n",
       "    </tr>\n",
       "    <tr>\n",
       "      <th>9</th>\n",
       "      <td>10</td>\n",
       "      <td>Interference Management in Dense Wireless Netw...</td>\n",
       "      <td>Interference Management</td>\n",
       "      <td>Interference management in wireless communicat...</td>\n",
       "    </tr>\n",
       "  </tbody>\n",
       "</table>\n",
       "</div>"
      ],
      "text/plain": [
       "  articleid                                       articletitle  \\\n",
       "0         1  Adaptive Frequency Hopping in 5G Networks for ...   \n",
       "1         2  Energy-Efficient Routing Protocols for IoT Net...   \n",
       "2         3  Millimeter Wave Communication: Challenges and ...   \n",
       "3         4  Secure Data Transmission in Ad Hoc Networks vi...   \n",
       "4         5  Network Slicing for Next-Generation Wireless S...   \n",
       "5         6     Impact of UAVs on Wireless Network Performance   \n",
       "6         7  Machine Learning for Predictive Channel Modeli...   \n",
       "7         8   Latency Optimization in Wireless Sensor Networks   \n",
       "8         9  Cross-Layer Design for Enhancing Throughput in...   \n",
       "9        10  Interference Management in Dense Wireless Netw...   \n",
       "\n",
       "                        termname  \\\n",
       "0     Adaptive Frequency Hopping   \n",
       "1       Energy-Efficient Routing   \n",
       "2  Millimeter Wave Communication   \n",
       "3                     Blockchain   \n",
       "4                Network Slicing   \n",
       "5                           UAVs   \n",
       "6    Predictive Channel Modeling   \n",
       "7           Latency Optimization   \n",
       "8             Cross-Layer Design   \n",
       "9        Interference Management   \n",
       "\n",
       "                                          definition  \n",
       "0  Adaptive Frequency Hopping (AFH) is a techniqu...  \n",
       "1  Energy-efficient routing refers to the process...  \n",
       "2  Millimeter Wave Communication refers to the tr...  \n",
       "3  Blockchain is a decentralized and distributed ...  \n",
       "4  Network slicing is a network architecture tech...  \n",
       "5  Unmanned Aerial Vehicles (UAVs) are aircraft s...  \n",
       "6  Predictive Channel Modeling refers to the use ...  \n",
       "7  Latency optimization refers to the techniques ...  \n",
       "8  Cross-layer design refers to an approach in wi...  \n",
       "9  Interference management in wireless communicat...  "
      ]
     },
     "metadata": {},
     "output_type": "display_data"
    }
   ],
   "source": [
    "\n",
    "display(df_join)"
   ]
  },
  {
   "cell_type": "code",
   "execution_count": 200,
   "id": "f4a90035-55cd-4b1b-acf4-39a62a510632",
   "metadata": {},
   "outputs": [],
   "source": [
    "#Commit and close\n",
    "conn.commit()\n",
    "conn.close()\n"
   ]
  },
  {
   "cell_type": "code",
   "execution_count": null,
   "id": "5987a94b-b3c2-41a6-bf56-df0caf03fae3",
   "metadata": {},
   "outputs": [],
   "source": []
  }
 ],
 "metadata": {
  "kernelspec": {
   "display_name": "Python 3 (ipykernel)",
   "language": "python",
   "name": "python3"
  },
  "language_info": {
   "codemirror_mode": {
    "name": "ipython",
    "version": 3
   },
   "file_extension": ".py",
   "mimetype": "text/x-python",
   "name": "python",
   "nbconvert_exporter": "python",
   "pygments_lexer": "ipython3",
   "version": "3.11.11"
  }
 },
 "nbformat": 4,
 "nbformat_minor": 5
}
