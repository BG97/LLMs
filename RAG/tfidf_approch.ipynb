{
 "cells": [
  {
   "cell_type": "code",
   "execution_count": 1,
   "id": "783b1c1d-e61f-4e93-83c4-53c6ca93350e",
   "metadata": {},
   "outputs": [],
   "source": [
    "# Input data\n",
    "articles_data = \\\n",
    "{\n",
    "  \"articles\": [\n",
    "    {\n",
    "      \"articleId\": \"1\",\n",
    "      \"title\": \"Adaptive Frequency Hopping in 5G Networks for Enhanced QoS\",\n",
    "      \"abstract\": \"This paper explores the implementation of adaptive frequency hopping techniques in 5G networks to improve Quality of Service (QoS). We discuss the challenges of interference management and propose a novel algorithm that dynamically adjusts hopping patterns based on real-time network conditions. Simulation results show a significant enhancement in both latency and throughput.\"\n",
    "    },\n",
    "    {\n",
    "      \"articleId\": \"2\",\n",
    "      \"title\": \"Energy-Efficient Routing Protocols for IoT Networks\",\n",
    "      \"abstract\": \"With the proliferation of IoT devices, energy efficiency in wireless networks has become crucial. This article introduces new routing protocols designed to minimize energy consumption while maintaining network connectivity. Through extensive simulations, we demonstrate that our protocols extend battery life by up to 30% compared to existing solutions.\"\n",
    "    },\n",
    "    {\n",
    "      \"articleId\": \"3\",\n",
    "      \"title\": \"Millimeter Wave Communication: Challenges and Opportunities\",\n",
    "      \"abstract\": \"Millimeter wave (mmWave) technology offers significant bandwidth for high data rates but comes with unique challenges like high path loss and sensitivity to blockages. This review examines the state-of-the-art in mmWave communication, focusing on propagation characteristics, beamforming techniques, and practical deployment issues.\"\n",
    "    },\n",
    "    {\n",
    "      \"articleId\": \"4\",\n",
    "      \"title\": \"Secure Data Transmission in Ad Hoc Networks via Blockchain\",\n",
    "      \"abstract\": \"Security remains a pivotal concern in ad hoc networks due to their dynamic nature. This study proposes integrating blockchain technology to ensure secure data transmission. The approach leverages distributed ledgers for transaction verification, providing a robust security framework against tampering and denial-of-service attacks.\"\n",
    "    },\n",
    "    {\n",
    "      \"articleId\": \"5\",\n",
    "      \"title\": \"Network Slicing for Next-Generation Wireless Systems\",\n",
    "      \"abstract\": \"Network slicing is pivotal for tailoring network services to specific applications in 5G and beyond. This paper discusses various slicing strategies, their implementation complexities, and performance benefits. We present a case study using a simulated urban environment to illustrate how slicing can optimize resource allocation for different service classes.\"\n",
    "    },\n",
    "    {\n",
    "      \"articleId\": \"6\",\n",
    "      \"title\": \"Impact of UAVs on Wireless Network Performance\",\n",
    "      \"abstract\": \"Unmanned Aerial Vehicles (UAVs) are increasingly used for extending network coverage and capacity. This article quantifies the impact of UAV-assisted networks on traditional wireless infrastructure. We analyze aspects like signal shadowing, interference, and mobility, providing insights into optimizing UAV deployment for maximum network efficiency.\"\n",
    "    },\n",
    "    {\n",
    "      \"articleId\": \"7\",\n",
    "      \"title\": \"Machine Learning for Predictive Channel Modeling in Wireless Networks\",\n",
    "      \"abstract\": \"Channel modeling is central to wireless network performance. This paper applies machine learning techniques to predict channel characteristics in dynamic environments. Our models, trained on real-world data, show superior prediction accuracy, which can lead to more efficient resource management and reduced interference.\"\n",
    "    },\n",
    "    {\n",
    "      \"articleId\": \"8\",\n",
    "      \"title\": \"Latency Optimization in Wireless Sensor Networks\",\n",
    "      \"abstract\": \"Latency in wireless sensor networks can critically affect data timeliness, especially in applications requiring real-time responses. This research introduces a method to optimize latency through adaptive sleep/wake cycles and dynamic data aggregation. Field tests demonstrate significant latency reductions without compromising energy efficiency.\"\n",
    "    },\n",
    "    {\n",
    "      \"articleId\": \"9\",\n",
    "      \"title\": \"Cross-Layer Design for Enhancing Throughput in Wi-Fi 6 Networks\",\n",
    "      \"abstract\": \"Wi-Fi 6 introduces several enhancements, yet challenges in throughput persist. This study investigates a cross-layer approach to optimize data transmission in Wi-Fi 6 environments, focusing on MAC and PHY layer interactions. Our findings suggest that such designs can increase throughput by adapting to network conditions more effectively.\"\n",
    "    },\n",
    "    {\n",
    "      \"articleId\": \"10\",\n",
    "      \"title\": \"Interference Management in Dense Wireless Networks\",\n",
    "      \"abstract\": \"In dense deployments, interference becomes a major issue. Here, we propose and evaluate an interference management strategy based on cooperative MIMO and cognitive radio techniques. The results from our experimental network setup show a marked improvement in signal quality and user experience in high-density scenarios.\"\n",
    "    }\n",
    "  ]\n",
    "}"
   ]
  },
  {
   "cell_type": "code",
   "execution_count": 6,
   "id": "b001cd42-0c7f-46d8-8d79-0a60b6753694",
   "metadata": {},
   "outputs": [],
   "source": [
    "import pandas as pd\n",
    "import sqlite3\n",
    "from sklearn.feature_extraction.text import TfidfVectorizer\n",
    "import re"
   ]
  },
  {
   "cell_type": "code",
   "execution_count": 7,
   "id": "5c512dfb-8290-4628-99d4-7647df70af71",
   "metadata": {},
   "outputs": [],
   "source": [
    "df = pd.DataFrame(articles_data[\"articles\"])\n",
    "df[\"text\"] = df[\"title\"] + \". \" + df[\"abstract\"]\n"
   ]
  },
  {
   "cell_type": "code",
   "execution_count": 15,
   "id": "5ce9f583-f033-4c8f-8d29-94198cae5a1b",
   "metadata": {},
   "outputs": [],
   "source": [
    "vectorizer = TfidfVectorizer(ngram_range=(2, 3),stop_words=\"english\", max_features=10)\n",
    "X = vectorizer.fit_transform(df[\"text\"])\n",
    "terms = vectorizer.get_feature_names_out()"
   ]
  },
  {
   "cell_type": "code",
   "execution_count": 16,
   "id": "4d988548-60bc-4783-80a0-219843118422",
   "metadata": {},
   "outputs": [],
   "source": [
    "def split_sentences(text):\n",
    "    return re.split(r'(?<=[.?!])\\s+', text)"
   ]
  },
  {
   "cell_type": "code",
   "execution_count": 17,
   "id": "17abc53b-a506-45aa-b2cc-057b49509bff",
   "metadata": {},
   "outputs": [],
   "source": [
    "term_defs = []\n",
    "term_id_map = {}\n",
    "term_counter = 1\n",
    "article_term_links = []"
   ]
  },
  {
   "cell_type": "code",
   "execution_count": 18,
   "id": "474f0803-4ad3-45a2-88ee-a2ffd3c7b6a6",
   "metadata": {},
   "outputs": [],
   "source": [
    "for _, row in df.iterrows():\n",
    "    article_id = row[\"articleId\"]\n",
    "    abstract = row[\"abstract\"]\n",
    "    sentences = split_sentences(abstract)\n",
    "    for term in terms:\n",
    "        if any(term in sentence.lower() for sentence in sentences):\n",
    "            if term not in term_id_map:\n",
    "                definition = next((s for s in sentences if term in s.lower()), \"\")\n",
    "                term_id_map[term] = term_counter\n",
    "                term_defs.append((term_counter, term, definition))\n",
    "                term_counter += 1\n",
    "            article_term_links.append((article_id, term_id_map[term]))"
   ]
  },
  {
   "cell_type": "code",
   "execution_count": 19,
   "id": "dbb9e16d-c87d-477c-9087-b507ca525411",
   "metadata": {},
   "outputs": [
    {
     "data": {
      "text/plain": [
       "[(1,\n",
       "  'frequency hopping',\n",
       "  'This paper explores the implementation of adaptive frequency hopping techniques in 5G networks to improve Quality of Service (QoS).'),\n",
       " (2,\n",
       "  'interference management',\n",
       "  'We discuss the challenges of interference management and propose a novel algorithm that dynamically adjusts hopping patterns based on real-time network conditions.'),\n",
       " (3,\n",
       "  'energy efficiency',\n",
       "  'With the proliferation of IoT devices, energy efficiency in wireless networks has become crucial.'),\n",
       " (4,\n",
       "  'wireless networks',\n",
       "  'With the proliferation of IoT devices, energy efficiency in wireless networks has become crucial.'),\n",
       " (5,\n",
       "  'data transmission',\n",
       "  'This study proposes integrating blockchain technology to ensure secure data transmission.'),\n",
       " (6,\n",
       "  'secure data',\n",
       "  'This study proposes integrating blockchain technology to ensure secure data transmission.'),\n",
       " (7,\n",
       "  'secure data transmission',\n",
       "  'This study proposes integrating blockchain technology to ensure secure data transmission.'),\n",
       " (8,\n",
       "  'sensor networks',\n",
       "  'Latency in wireless sensor networks can critically affect data timeliness, especially in applications requiring real-time responses.')]"
      ]
     },
     "execution_count": 19,
     "metadata": {},
     "output_type": "execute_result"
    }
   ],
   "source": [
    "term_defs "
   ]
  },
  {
   "cell_type": "code",
   "execution_count": null,
   "id": "86ef3673-b2bc-4704-9ea6-e5ff0f1a2bcd",
   "metadata": {},
   "outputs": [],
   "source": []
  }
 ],
 "metadata": {
  "kernelspec": {
   "display_name": "Python 3 (ipykernel)",
   "language": "python",
   "name": "python3"
  },
  "language_info": {
   "codemirror_mode": {
    "name": "ipython",
    "version": 3
   },
   "file_extension": ".py",
   "mimetype": "text/x-python",
   "name": "python",
   "nbconvert_exporter": "python",
   "pygments_lexer": "ipython3",
   "version": "3.11.11"
  }
 },
 "nbformat": 4,
 "nbformat_minor": 5
}
