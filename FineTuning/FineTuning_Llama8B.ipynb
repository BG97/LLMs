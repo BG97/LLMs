{
 "cells": [
  {
   "cell_type": "code",
   "execution_count": 21,
   "id": "2a53001d-c849-491f-adcf-0a44e29eb41c",
   "metadata": {},
   "outputs": [],
   "source": [
    "import os\n",
    "from dotenv import load_dotenv\n",
    "import re\n",
    "import math\n",
    "from tqdm import tqdm\n",
    "from huggingface_hub import login\n",
    "import torch\n",
    "import transformers\n",
    "from transformers import AutoModelForCausalLM, AutoTokenizer, TrainingArguments, set_seed, BitsAndBytesConfig\n",
    "from datasets import load_dataset, Dataset, DatasetDict\n",
    "import wandb\n",
    "from peft import LoraConfig\n",
    "from trl import SFTTrainer, SFTConfig\n",
    "from datetime import datetime\n",
    "import matplotlib.pyplot as plt\n",
    "from peft import PeftModel\n",
    "import torch.nn.functional as F"
   ]
  },
  {
   "cell_type": "code",
   "execution_count": 2,
   "id": "3db46bf1-7aa1-4ffd-a204-7b5ca5c706bf",
   "metadata": {},
   "outputs": [],
   "source": [
    "BASE_MODEL = \"meta-llama/Meta-Llama-3.1-8B\"\n",
    "PROJECT_NAME = \"pricer\"\n",
    "HF_USER = \"Benny97\"\n",
    "\n",
    "# Data\n",
    "\n",
    "DATASET_NAME = f\"{HF_USER}/pricer-data\"\n",
    "MAX_SEQUENCE_LENGTH = 182\n",
    "REVISION = None\n",
    "\n",
    "# Run name for saving the model in the hub\n",
    "RUN_NAME =  f\"{datetime.now():%Y-%m-%d_%H.%M.%S}\"\n",
    "PROJECT_RUN_NAME = f\"{PROJECT_NAME}-{RUN_NAME}\"\n",
    "HUB_MODEL_NAME = f\"{HF_USER}/{PROJECT_RUN_NAME}\"\n",
    "\n",
    "# Hyperparameters for QLoRA\n",
    "\n",
    "LORA_R = 32\n",
    "LORA_ALPHA = 64\n",
    "TARGET_MODULES = [\"q_proj\", \"v_proj\", \"k_proj\", \"o_proj\"]\n",
    "LORA_DROPOUT = 0.1\n",
    "QUANT_4_BIT = True\n",
    "\n",
    "# Hyperparameters for Training\n",
    "\n",
    "EPOCHS = 1 \n",
    "BATCH_SIZE = 1\n",
    "GRADIENT_ACCUMULATION_STEPS = 16\n",
    "LEARNING_RATE = 1e-4\n",
    "LR_SCHEDULER_TYPE = 'cosine'\n",
    "WARMUP_RATIO = 0.03\n",
    "OPTIMIZER = \"paged_adamw_32bit\"\n",
    "\n",
    "# Admin config - note that SAVE_STEPS is how often it will upload to the hub\n",
    "\n",
    "STEPS = 50\n",
    "SAVE_STEPS = 2000\n",
    "LOG_TO_WANDB = True\n",
    "\n",
    "%matplotlib inline"
   ]
  },
  {
   "cell_type": "code",
   "execution_count": 3,
   "id": "16ddb027-0dbe-4226-a821-2cdfd30a1083",
   "metadata": {},
   "outputs": [
    {
     "data": {
      "text/plain": [
       "'Benny97/pricer-2025-05-08_23.00.31'"
      ]
     },
     "execution_count": 3,
     "metadata": {},
     "output_type": "execute_result"
    }
   ],
   "source": [
    "HUB_MODEL_NAME"
   ]
  },
  {
   "cell_type": "code",
   "execution_count": 3,
   "id": "2a5ea595-9a45-48aa-a5d9-916b3cfa5030",
   "metadata": {},
   "outputs": [],
   "source": [
    "# Log in to HuggingFace\n",
    "load_dotenv(override=True)\n",
    "os.environ['HUGGINGFACE_RW_TOKEN'] = os.getenv('HUGGINGFACE_RW_TOKEN')\n",
    "hf_token = os.environ['HUGGINGFACE_RW_TOKEN']\n",
    "login(hf_token, add_to_git_credential=True)"
   ]
  },
  {
   "cell_type": "code",
   "execution_count": 4,
   "id": "e7a9f022-ff25-45c5-9a64-d73dd828709d",
   "metadata": {},
   "outputs": [
    {
     "name": "stderr",
     "output_type": "stream",
     "text": [
      "wandb: Currently logged in as: benny-guan97 (benny-guan97-iee) to https://api.wandb.ai. Use `wandb login --relogin` to force relogin\n"
     ]
    }
   ],
   "source": [
    "# Log in to Weights & Biases\n",
    "load_dotenv(override=True)\n",
    "os.environ['WANDB_API_KEY'] = os.getenv('WANDB_API_KEY')\n",
    "wandb.login()\n",
    "\n",
    "# Configure Weights & Biases to record against our project\n",
    "os.environ[\"WANDB_PROJECT\"] = PROJECT_NAME\n",
    "os.environ[\"WANDB_LOG_MODEL\"] = \"checkpoint\" if LOG_TO_WANDB else \"end\"\n",
    "os.environ[\"WANDB_WATCH\"] = \"gradients\""
   ]
  },
  {
   "cell_type": "code",
   "execution_count": 5,
   "id": "83415b08-2769-41ca-9dfa-75ec6996c397",
   "metadata": {},
   "outputs": [],
   "source": [
    "dataset = load_dataset(DATASET_NAME)\n",
    "train = dataset['train'].shuffle(seed=42).select(range(16_000))\n",
    "test = dataset['test']"
   ]
  },
  {
   "cell_type": "code",
   "execution_count": 7,
   "id": "4b268395-2bdd-4c45-bc28-5b528c606964",
   "metadata": {},
   "outputs": [
    {
     "data": {
      "text/html": [
       "Changes to your `wandb` environment variables will be ignored because your `wandb` session has already started. For more information on how to modify your settings with `wandb.init()` arguments, please refer to <a href='https://wandb.me/wandb-init' target=\"_blank\">the W&B docs</a>."
      ],
      "text/plain": [
       "<IPython.core.display.HTML object>"
      ]
     },
     "metadata": {},
     "output_type": "display_data"
    },
    {
     "data": {
      "text/html": [
       "Tracking run with wandb version 0.19.11"
      ],
      "text/plain": [
       "<IPython.core.display.HTML object>"
      ]
     },
     "metadata": {},
     "output_type": "display_data"
    },
    {
     "data": {
      "text/html": [
       "Run data is saved locally in <code>D:\\Learning Square\\LLMs\\FineTuning\\wandb\\run-20250508_230038-d34uo2uy</code>"
      ],
      "text/plain": [
       "<IPython.core.display.HTML object>"
      ]
     },
     "metadata": {},
     "output_type": "display_data"
    },
    {
     "data": {
      "text/html": [
       "Syncing run <strong><a href='https://wandb.ai/benny-guan97-iee/pricer/runs/d34uo2uy' target=\"_blank\">2025-05-08_23.00.31</a></strong> to <a href='https://wandb.ai/benny-guan97-iee/pricer' target=\"_blank\">Weights & Biases</a> (<a href='https://wandb.me/developer-guide' target=\"_blank\">docs</a>)<br>"
      ],
      "text/plain": [
       "<IPython.core.display.HTML object>"
      ]
     },
     "metadata": {},
     "output_type": "display_data"
    },
    {
     "data": {
      "text/html": [
       " View project at <a href='https://wandb.ai/benny-guan97-iee/pricer' target=\"_blank\">https://wandb.ai/benny-guan97-iee/pricer</a>"
      ],
      "text/plain": [
       "<IPython.core.display.HTML object>"
      ]
     },
     "metadata": {},
     "output_type": "display_data"
    },
    {
     "data": {
      "text/html": [
       " View run at <a href='https://wandb.ai/benny-guan97-iee/pricer/runs/d34uo2uy' target=\"_blank\">https://wandb.ai/benny-guan97-iee/pricer/runs/d34uo2uy</a>"
      ],
      "text/plain": [
       "<IPython.core.display.HTML object>"
      ]
     },
     "metadata": {},
     "output_type": "display_data"
    }
   ],
   "source": [
    "if LOG_TO_WANDB:\n",
    "  wandb.init(project=PROJECT_NAME, name=RUN_NAME)"
   ]
  },
  {
   "cell_type": "code",
   "execution_count": 6,
   "id": "9f1baf7a-5f69-41a1-b518-a93ab0cf901f",
   "metadata": {},
   "outputs": [],
   "source": [
    "if QUANT_4_BIT:\n",
    "  quant_config = BitsAndBytesConfig(\n",
    "    load_in_4bit=True,\n",
    "    bnb_4bit_use_double_quant=True,\n",
    "    bnb_4bit_compute_dtype=torch.bfloat16,\n",
    "    bnb_4bit_quant_type=\"nf4\"\n",
    "  )\n",
    "else:\n",
    "  quant_config = BitsAndBytesConfig(\n",
    "    load_in_8bit=True,\n",
    "    bnb_8bit_compute_dtype=torch.bfloat16\n",
    "  )"
   ]
  },
  {
   "cell_type": "code",
   "execution_count": 7,
   "id": "97093211-4f6e-49fe-8f1e-88e179655822",
   "metadata": {},
   "outputs": [
    {
     "data": {
      "application/vnd.jupyter.widget-view+json": {
       "model_id": "73d500d472384539b565555f8ccf2331",
       "version_major": 2,
       "version_minor": 0
      },
      "text/plain": [
       "Loading checkpoint shards:   0%|          | 0/4 [00:00<?, ?it/s]"
      ]
     },
     "metadata": {},
     "output_type": "display_data"
    },
    {
     "name": "stdout",
     "output_type": "stream",
     "text": [
      "Memory footprint: 5591.5 MB\n"
     ]
    }
   ],
   "source": [
    "tokenizer = AutoTokenizer.from_pretrained(BASE_MODEL, trust_remote_code=True)\n",
    "tokenizer.pad_token = tokenizer.eos_token\n",
    "tokenizer.padding_side = \"right\"\n",
    "\n",
    "base_model = AutoModelForCausalLM.from_pretrained(\n",
    "    BASE_MODEL,\n",
    "    quantization_config=quant_config,\n",
    "    device_map='cuda',\n",
    "    torch_dtype=torch.bfloat16\n",
    ")\n",
    "base_model.generation_config.pad_token_id = tokenizer.pad_token_id\n",
    "\n",
    "print(f\"Memory footprint: {base_model.get_memory_footprint() / 1e6:.1f} MB\")"
   ]
  },
  {
   "cell_type": "code",
   "execution_count": 10,
   "id": "c92dfe1b-fae7-471d-bbfb-37abdb2cb4a7",
   "metadata": {},
   "outputs": [],
   "source": [
    "from trl import DataCollatorForCompletionOnlyLM\n",
    "response_template = \"Price is $\"\n",
    "collator = DataCollatorForCompletionOnlyLM(response_template, tokenizer=tokenizer)"
   ]
  },
  {
   "cell_type": "code",
   "execution_count": 14,
   "id": "ed3cc679-f282-47cb-8a68-659b4d78aebf",
   "metadata": {},
   "outputs": [
    {
     "name": "stderr",
     "output_type": "stream",
     "text": [
      "C:\\Users\\benny\\anaconda3\\envs\\llms\\Lib\\site-packages\\peft\\mapping_func.py:73: UserWarning: You are trying to modify a model with PEFT for a second time. If you want to reload the model with a different config, make sure to call `.unload()` before.\n",
      "  warnings.warn(\n",
      "C:\\Users\\benny\\anaconda3\\envs\\llms\\Lib\\site-packages\\peft\\tuners\\tuners_utils.py:167: UserWarning: Already found a `peft_config` attribute in the model. This will lead to having multiple adapters in the model. Make sure to know what you are doing!\n",
      "  warnings.warn(\n",
      "No label_names provided for model class `PeftModelForCausalLM`. Since `PeftModel` hides base models input arguments, if label_names is not given, label_names can't be set automatically within `Trainer`. Note that empty label_names list will be used instead.\n"
     ]
    }
   ],
   "source": [
    "# First, specify the configuration parameters for LoRA\n",
    "\n",
    "lora_parameters = LoraConfig(\n",
    "    lora_alpha=LORA_ALPHA,\n",
    "    lora_dropout=LORA_DROPOUT,\n",
    "    r=LORA_R,\n",
    "    bias=\"none\",\n",
    "    task_type=\"CAUSAL_LM\",\n",
    "    target_modules=TARGET_MODULES,\n",
    ")\n",
    "\n",
    "# Next, specify the general configuration parameters for training\n",
    "\n",
    "train_parameters = SFTConfig(\n",
    "    output_dir=PROJECT_RUN_NAME,\n",
    "    num_train_epochs=EPOCHS,\n",
    "    per_device_train_batch_size=BATCH_SIZE,\n",
    "    per_device_eval_batch_size=1,\n",
    "    eval_strategy=\"no\",\n",
    "    gradient_accumulation_steps=GRADIENT_ACCUMULATION_STEPS,\n",
    "    optim=OPTIMIZER,\n",
    "    save_steps=SAVE_STEPS,\n",
    "    save_total_limit=10,\n",
    "    logging_steps=STEPS,\n",
    "    learning_rate=LEARNING_RATE,\n",
    "    weight_decay=0.001,\n",
    "    fp16=False,\n",
    "    bf16=True,\n",
    "    max_grad_norm=0.3,\n",
    "    max_steps=-1,\n",
    "    warmup_ratio=WARMUP_RATIO,\n",
    "    group_by_length=True,\n",
    "    lr_scheduler_type=LR_SCHEDULER_TYPE,\n",
    "    report_to=\"wandb\" if LOG_TO_WANDB else None,\n",
    "    run_name=RUN_NAME,\n",
    "    max_seq_length=MAX_SEQUENCE_LENGTH,\n",
    "    dataset_text_field=\"text\",\n",
    "    save_strategy=\"steps\",\n",
    "    hub_strategy=\"every_save\",\n",
    "    push_to_hub=True,\n",
    "    hub_model_id=HUB_MODEL_NAME,\n",
    "    hub_private_repo=True\n",
    ")\n",
    "\n",
    "# And now, the Supervised Fine Tuning Trainer will carry out the fine-tuning\n",
    "# Given these 2 sets of configuration parameters\n",
    "# The latest version of trl is showing a warning about labels - please ignore this warning\n",
    "# But let me know if you don't see good training results (loss coming down).\n",
    "\n",
    "fine_tuning = SFTTrainer(\n",
    "    model=base_model,\n",
    "    train_dataset=train,\n",
    "    peft_config=lora_parameters,\n",
    "    args=train_parameters,\n",
    "    data_collator=collator\n",
    "  )"
   ]
  },
  {
   "cell_type": "code",
   "execution_count": 12,
   "id": "d3e16551-3467-4d54-8274-01cf11e856ee",
   "metadata": {
    "scrolled": true
   },
   "outputs": [
    {
     "name": "stderr",
     "output_type": "stream",
     "text": [
      "wandb: WARNING The get_url method is deprecated and will be removed in a future release. Please use `run.url` instead.\n"
     ]
    },
    {
     "data": {
      "text/html": [
       "\n",
       "    <div>\n",
       "      \n",
       "      <progress value='1000' max='1000' style='width:300px; height:20px; vertical-align: middle;'></progress>\n",
       "      [1000/1000 2:28:57, Epoch 1/1]\n",
       "    </div>\n",
       "    <table border=\"1\" class=\"dataframe\">\n",
       "  <thead>\n",
       " <tr style=\"text-align: left;\">\n",
       "      <th>Step</th>\n",
       "      <th>Training Loss</th>\n",
       "    </tr>\n",
       "  </thead>\n",
       "  <tbody>\n",
       "    <tr>\n",
       "      <td>50</td>\n",
       "      <td>2.141600</td>\n",
       "    </tr>\n",
       "    <tr>\n",
       "      <td>100</td>\n",
       "      <td>1.895000</td>\n",
       "    </tr>\n",
       "    <tr>\n",
       "      <td>150</td>\n",
       "      <td>1.887400</td>\n",
       "    </tr>\n",
       "    <tr>\n",
       "      <td>200</td>\n",
       "      <td>1.881400</td>\n",
       "    </tr>\n",
       "    <tr>\n",
       "      <td>250</td>\n",
       "      <td>1.922200</td>\n",
       "    </tr>\n",
       "    <tr>\n",
       "      <td>300</td>\n",
       "      <td>1.874300</td>\n",
       "    </tr>\n",
       "    <tr>\n",
       "      <td>350</td>\n",
       "      <td>1.873200</td>\n",
       "    </tr>\n",
       "    <tr>\n",
       "      <td>400</td>\n",
       "      <td>1.847000</td>\n",
       "    </tr>\n",
       "    <tr>\n",
       "      <td>450</td>\n",
       "      <td>1.841900</td>\n",
       "    </tr>\n",
       "    <tr>\n",
       "      <td>500</td>\n",
       "      <td>1.868700</td>\n",
       "    </tr>\n",
       "    <tr>\n",
       "      <td>550</td>\n",
       "      <td>1.836800</td>\n",
       "    </tr>\n",
       "    <tr>\n",
       "      <td>600</td>\n",
       "      <td>1.829900</td>\n",
       "    </tr>\n",
       "    <tr>\n",
       "      <td>650</td>\n",
       "      <td>1.845400</td>\n",
       "    </tr>\n",
       "    <tr>\n",
       "      <td>700</td>\n",
       "      <td>1.825100</td>\n",
       "    </tr>\n",
       "    <tr>\n",
       "      <td>750</td>\n",
       "      <td>1.835800</td>\n",
       "    </tr>\n",
       "    <tr>\n",
       "      <td>800</td>\n",
       "      <td>1.841300</td>\n",
       "    </tr>\n",
       "    <tr>\n",
       "      <td>850</td>\n",
       "      <td>1.800200</td>\n",
       "    </tr>\n",
       "    <tr>\n",
       "      <td>900</td>\n",
       "      <td>1.807800</td>\n",
       "    </tr>\n",
       "    <tr>\n",
       "      <td>950</td>\n",
       "      <td>1.808500</td>\n",
       "    </tr>\n",
       "    <tr>\n",
       "      <td>1000</td>\n",
       "      <td>1.819500</td>\n",
       "    </tr>\n",
       "  </tbody>\n",
       "</table><p>"
      ],
      "text/plain": [
       "<IPython.core.display.HTML object>"
      ]
     },
     "metadata": {},
     "output_type": "display_data"
    },
    {
     "name": "stderr",
     "output_type": "stream",
     "text": [
      "wandb: Adding directory to artifact (.\\pricer-2025-05-08_23.00.31\\checkpoint-1000)... Done. 0.5s\n",
      "No label_names provided for model class `PeftModelForCausalLM`. Since `PeftModel` hides base models input arguments, if label_names is not given, label_names can't be set automatically within `Trainer`. Note that empty label_names list will be used instead.\n"
     ]
    },
    {
     "data": {
      "application/vnd.jupyter.widget-view+json": {
       "model_id": "942e806f54a043b7a45dd45efdcffb47",
       "version_major": 2,
       "version_minor": 0
      },
      "text/plain": [
       "README.md:   0%|          | 0.00/1.52k [00:00<?, ?B/s]"
      ]
     },
     "metadata": {},
     "output_type": "display_data"
    },
    {
     "name": "stderr",
     "output_type": "stream",
     "text": [
      "C:\\Users\\benny\\anaconda3\\envs\\llms\\Lib\\site-packages\\huggingface_hub\\file_download.py:142: UserWarning: `huggingface_hub` cache-system uses symlinks by default to efficiently store duplicated files but your machine does not support them in C:\\Users\\benny\\.cache\\huggingface\\hub\\models--Benny97--pricer-2025-05-08_23.00.31. Caching files will still work but in a degraded version that might require more space on your disk. This warning can be disabled by setting the `HF_HUB_DISABLE_SYMLINKS_WARNING` environment variable. For more details, see https://huggingface.co/docs/huggingface_hub/how-to-cache#limitations.\n",
      "To support symlinks on Windows, you either need to activate Developer Mode or to run Python as an administrator. In order to activate developer mode, see this article: https://docs.microsoft.com/en-us/windows/apps/get-started/enable-your-device-for-development\n",
      "  warnings.warn(message)\n"
     ]
    },
    {
     "name": "stdout",
     "output_type": "stream",
     "text": [
      "Saved to the hub: pricer-2025-05-08_23.00.31\n"
     ]
    }
   ],
   "source": [
    "# Fine-tune!\n",
    "fine_tuning.train()\n",
    "\n",
    "# Push fine-tuned model to Hugging Face\n",
    "fine_tuning.model.push_to_hub(PROJECT_RUN_NAME, private=True)\n",
    "print(f\"Saved to the hub: {PROJECT_RUN_NAME}\")"
   ]
  },
  {
   "cell_type": "code",
   "execution_count": 13,
   "id": "6090f199-e4f1-49fe-8f7a-dac99b733f57",
   "metadata": {},
   "outputs": [
    {
     "data": {
      "text/html": [],
      "text/plain": [
       "<IPython.core.display.HTML object>"
      ]
     },
     "metadata": {},
     "output_type": "display_data"
    },
    {
     "data": {
      "text/html": [
       "<br>    <style><br>        .wandb-row {<br>            display: flex;<br>            flex-direction: row;<br>            flex-wrap: wrap;<br>            justify-content: flex-start;<br>            width: 100%;<br>        }<br>        .wandb-col {<br>            display: flex;<br>            flex-direction: column;<br>            flex-basis: 100%;<br>            flex: 1;<br>            padding: 10px;<br>        }<br>    </style><br><div class=\"wandb-row\"><div class=\"wandb-col\"><h3>Run history:</h3><br/><table class=\"wandb\"><tr><td>train/epoch</td><td>▁▁▂▂▂▃▃▄▄▄▅▅▅▆▆▇▇▇███</td></tr><tr><td>train/global_step</td><td>▁▁▂▂▂▃▃▄▄▄▅▅▅▆▆▇▇▇███</td></tr><tr><td>train/grad_norm</td><td>▅▂▃▃▂▄▁▃▁█▅▄▄▁▃▆▇▄▂▂</td></tr><tr><td>train/learning_rate</td><td>███▇▇▇▆▆▅▅▄▄▃▃▂▂▁▁▁▁</td></tr><tr><td>train/loss</td><td>█▃▃▃▄▃▂▂▂▂▂▂▂▂▂▂▁▁▁▁</td></tr><tr><td>train/mean_token_accuracy</td><td>▁▆▆▇▇▇█▇▇▆▇██▇▇▇█▇▇▇</td></tr><tr><td>train/num_tokens</td><td>▁▁▂▂▂▃▃▄▄▄▅▅▅▆▆▇▇▇██</td></tr></table><br/></div><div class=\"wandb-col\"><h3>Run summary:</h3><br/><table class=\"wandb\"><tr><td>total_flos</td><td>1.2921826442276045e+17</td></tr><tr><td>train/epoch</td><td>1</td></tr><tr><td>train/global_step</td><td>1000</td></tr><tr><td>train/grad_norm</td><td>1.47619</td></tr><tr><td>train/learning_rate</td><td>0</td></tr><tr><td>train/loss</td><td>1.8195</td></tr><tr><td>train/mean_token_accuracy</td><td>0.67375</td></tr><tr><td>train/num_tokens</td><td>2859246.0</td></tr><tr><td>train_loss</td><td>1.86416</td></tr><tr><td>train_runtime</td><td>8788.2852</td></tr><tr><td>train_samples_per_second</td><td>1.821</td></tr><tr><td>train_steps_per_second</td><td>0.114</td></tr></table><br/></div></div>"
      ],
      "text/plain": [
       "<IPython.core.display.HTML object>"
      ]
     },
     "metadata": {},
     "output_type": "display_data"
    },
    {
     "data": {
      "text/html": [
       " View run <strong style=\"color:#cdcd00\">2025-05-08_23.00.31</strong> at: <a href='https://wandb.ai/benny-guan97-iee/pricer/runs/d34uo2uy' target=\"_blank\">https://wandb.ai/benny-guan97-iee/pricer/runs/d34uo2uy</a><br> View project at: <a href='https://wandb.ai/benny-guan97-iee/pricer' target=\"_blank\">https://wandb.ai/benny-guan97-iee/pricer</a><br>Synced 5 W&B file(s), 0 media file(s), 16 artifact file(s) and 0 other file(s)"
      ],
      "text/plain": [
       "<IPython.core.display.HTML object>"
      ]
     },
     "metadata": {},
     "output_type": "display_data"
    },
    {
     "data": {
      "text/html": [
       "Find logs at: <code>.\\wandb\\run-20250508_230038-d34uo2uy\\logs</code>"
      ],
      "text/plain": [
       "<IPython.core.display.HTML object>"
      ]
     },
     "metadata": {},
     "output_type": "display_data"
    }
   ],
   "source": [
    "if LOG_TO_WANDB:\n",
    "  wandb.finish()"
   ]
  },
  {
   "cell_type": "code",
   "execution_count": 10,
   "id": "3665101a-1e2f-405d-9d54-657ee4933993",
   "metadata": {},
   "outputs": [],
   "source": [
    "\n",
    "RUN_NAME = \"2025-05-08_23.00.31\"\n",
    "PROJECT_RUN_NAME = f\"{PROJECT_NAME}-{RUN_NAME}\"\n",
    "REVISION = None\n",
    "FINETUNED_MODEL = f\"{HF_USER}/{PROJECT_RUN_NAME}\""
   ]
  },
  {
   "cell_type": "code",
   "execution_count": 11,
   "id": "c5de100a-1d88-4f34-aba7-a98710a21bf0",
   "metadata": {},
   "outputs": [
    {
     "name": "stdout",
     "output_type": "stream",
     "text": [
      "Memory footprint: 5700.6 MB\n"
     ]
    }
   ],
   "source": [
    "if REVISION:\n",
    "  fine_tuned_model = PeftModel.from_pretrained(base_model, FINETUNED_MODEL, revision=REVISION)\n",
    "else:\n",
    "  fine_tuned_model = PeftModel.from_pretrained(base_model, FINETUNED_MODEL)\n",
    "print(f\"Memory footprint: {fine_tuned_model.get_memory_footprint() / 1e6:.1f} MB\")"
   ]
  },
  {
   "cell_type": "code",
   "execution_count": 12,
   "id": "37a5a7d7-cdb6-46c9-8a6a-2633de3dd4cf",
   "metadata": {},
   "outputs": [
    {
     "data": {
      "text/plain": [
       "PeftModelForCausalLM(\n",
       "  (base_model): LoraModel(\n",
       "    (model): LlamaForCausalLM(\n",
       "      (model): LlamaModel(\n",
       "        (embed_tokens): Embedding(128256, 4096)\n",
       "        (layers): ModuleList(\n",
       "          (0-31): 32 x LlamaDecoderLayer(\n",
       "            (self_attn): LlamaAttention(\n",
       "              (q_proj): lora.Linear4bit(\n",
       "                (base_layer): Linear4bit(in_features=4096, out_features=4096, bias=False)\n",
       "                (lora_dropout): ModuleDict(\n",
       "                  (default): Dropout(p=0.1, inplace=False)\n",
       "                )\n",
       "                (lora_A): ModuleDict(\n",
       "                  (default): Linear(in_features=4096, out_features=32, bias=False)\n",
       "                )\n",
       "                (lora_B): ModuleDict(\n",
       "                  (default): Linear(in_features=32, out_features=4096, bias=False)\n",
       "                )\n",
       "                (lora_embedding_A): ParameterDict()\n",
       "                (lora_embedding_B): ParameterDict()\n",
       "                (lora_magnitude_vector): ModuleDict()\n",
       "              )\n",
       "              (k_proj): lora.Linear4bit(\n",
       "                (base_layer): Linear4bit(in_features=4096, out_features=1024, bias=False)\n",
       "                (lora_dropout): ModuleDict(\n",
       "                  (default): Dropout(p=0.1, inplace=False)\n",
       "                )\n",
       "                (lora_A): ModuleDict(\n",
       "                  (default): Linear(in_features=4096, out_features=32, bias=False)\n",
       "                )\n",
       "                (lora_B): ModuleDict(\n",
       "                  (default): Linear(in_features=32, out_features=1024, bias=False)\n",
       "                )\n",
       "                (lora_embedding_A): ParameterDict()\n",
       "                (lora_embedding_B): ParameterDict()\n",
       "                (lora_magnitude_vector): ModuleDict()\n",
       "              )\n",
       "              (v_proj): lora.Linear4bit(\n",
       "                (base_layer): Linear4bit(in_features=4096, out_features=1024, bias=False)\n",
       "                (lora_dropout): ModuleDict(\n",
       "                  (default): Dropout(p=0.1, inplace=False)\n",
       "                )\n",
       "                (lora_A): ModuleDict(\n",
       "                  (default): Linear(in_features=4096, out_features=32, bias=False)\n",
       "                )\n",
       "                (lora_B): ModuleDict(\n",
       "                  (default): Linear(in_features=32, out_features=1024, bias=False)\n",
       "                )\n",
       "                (lora_embedding_A): ParameterDict()\n",
       "                (lora_embedding_B): ParameterDict()\n",
       "                (lora_magnitude_vector): ModuleDict()\n",
       "              )\n",
       "              (o_proj): lora.Linear4bit(\n",
       "                (base_layer): Linear4bit(in_features=4096, out_features=4096, bias=False)\n",
       "                (lora_dropout): ModuleDict(\n",
       "                  (default): Dropout(p=0.1, inplace=False)\n",
       "                )\n",
       "                (lora_A): ModuleDict(\n",
       "                  (default): Linear(in_features=4096, out_features=32, bias=False)\n",
       "                )\n",
       "                (lora_B): ModuleDict(\n",
       "                  (default): Linear(in_features=32, out_features=4096, bias=False)\n",
       "                )\n",
       "                (lora_embedding_A): ParameterDict()\n",
       "                (lora_embedding_B): ParameterDict()\n",
       "                (lora_magnitude_vector): ModuleDict()\n",
       "              )\n",
       "            )\n",
       "            (mlp): LlamaMLP(\n",
       "              (gate_proj): Linear4bit(in_features=4096, out_features=14336, bias=False)\n",
       "              (up_proj): Linear4bit(in_features=4096, out_features=14336, bias=False)\n",
       "              (down_proj): Linear4bit(in_features=14336, out_features=4096, bias=False)\n",
       "              (act_fn): SiLU()\n",
       "            )\n",
       "            (input_layernorm): LlamaRMSNorm((4096,), eps=1e-05)\n",
       "            (post_attention_layernorm): LlamaRMSNorm((4096,), eps=1e-05)\n",
       "          )\n",
       "        )\n",
       "        (norm): LlamaRMSNorm((4096,), eps=1e-05)\n",
       "        (rotary_emb): LlamaRotaryEmbedding()\n",
       "      )\n",
       "      (lm_head): Linear(in_features=4096, out_features=128256, bias=False)\n",
       "    )\n",
       "  )\n",
       ")"
      ]
     },
     "execution_count": 12,
     "metadata": {},
     "output_type": "execute_result"
    }
   ],
   "source": [
    "fine_tuned_model"
   ]
  },
  {
   "cell_type": "code",
   "execution_count": 13,
   "id": "ebf5e3bd-367d-4c0f-99d4-7d3329abf900",
   "metadata": {},
   "outputs": [],
   "source": [
    "def extract_price(s):\n",
    "    if \"Price is $\" in s:\n",
    "      contents = s.split(\"Price is $\")[1]\n",
    "      contents = contents.replace(',','')\n",
    "      match = re.search(r\"[-+]?\\d*\\.\\d+|\\d+\", contents)\n",
    "      return float(match.group()) if match else 0\n",
    "    return 0"
   ]
  },
  {
   "cell_type": "code",
   "execution_count": 14,
   "id": "8ed66a70-22ce-4562-9eca-42370d997ee4",
   "metadata": {},
   "outputs": [],
   "source": [
    "# Original prediction function takes the most likely next token\n",
    "\n",
    "def model_predict(prompt):\n",
    "    set_seed(42)\n",
    "    inputs = tokenizer.encode(prompt, return_tensors=\"pt\").to(\"cuda\")\n",
    "    attention_mask = torch.ones(inputs.shape, device=\"cuda\")\n",
    "    outputs = fine_tuned_model.generate(inputs, attention_mask=attention_mask, max_new_tokens=3, num_return_sequences=1)\n",
    "    response = tokenizer.decode(outputs[0])\n",
    "    return extract_price(response)"
   ]
  },
  {
   "cell_type": "code",
   "execution_count": 19,
   "id": "a43ab01f-580b-4ab4-a10d-5f089fb0fa3b",
   "metadata": {},
   "outputs": [],
   "source": [
    "# An improved prediction function takes a weighted average of the top 3 choices\n",
    "top_K = 3\n",
    "\n",
    "def improved_model_predict(prompt, device=\"cuda\"):\n",
    "    set_seed(42)\n",
    "    inputs = tokenizer.encode(prompt, return_tensors=\"pt\").to(device)\n",
    "    attention_mask = torch.ones(inputs.shape, device=device)\n",
    "\n",
    "    with torch.no_grad():\n",
    "        outputs = fine_tuned_model(inputs, attention_mask=attention_mask)\n",
    "        next_token_logits = outputs.logits[:, -1, :].to('cpu')\n",
    "\n",
    "    next_token_probs = F.softmax(next_token_logits, dim=-1)\n",
    "    top_prob, top_token_id = next_token_probs.topk(top_K)\n",
    "    prices, weights = [], []\n",
    "    for i in range(top_K):\n",
    "      predicted_token = tokenizer.decode(top_token_id[0][i])\n",
    "      probability = top_prob[0][i]\n",
    "      try:\n",
    "        result = float(predicted_token)\n",
    "      except ValueError as e:\n",
    "        result = 0.0\n",
    "      if result > 0:\n",
    "        prices.append(result)\n",
    "        weights.append(probability)\n",
    "    if not prices:\n",
    "      return 0.0, 0.0\n",
    "    total = sum(weights)\n",
    "    weighted_prices = [price * weight / total for price, weight in zip(prices, weights)]\n",
    "    return sum(weighted_prices).item()"
   ]
  },
  {
   "cell_type": "code",
   "execution_count": 30,
   "id": "1837ec97-a3ce-4870-99a3-7c0c34f6cf25",
   "metadata": {},
   "outputs": [],
   "source": [
    "\n",
    "\n",
    "# Used for writing to output in color\n",
    "\n",
    "GREEN = \"\\033[92m\"\n",
    "YELLOW = \"\\033[93m\"\n",
    "RED = \"\\033[91m\"\n",
    "RESET = \"\\033[0m\"\n",
    "COLOR_MAP = {\"red\":RED, \"orange\": YELLOW, \"green\": GREEN}\n",
    "\n",
    "%matplotlib inline"
   ]
  },
  {
   "cell_type": "code",
   "execution_count": 32,
   "id": "0838d9a1-a91d-4a83-8156-460117cdf90b",
   "metadata": {},
   "outputs": [],
   "source": [
    "class Tester:\n",
    "\n",
    "    def __init__(self, predictor, data, title=None, size=250):\n",
    "        self.predictor = predictor\n",
    "        self.data = data\n",
    "        self.title = title or predictor.__name__.replace(\"_\", \" \").title()\n",
    "        self.size = size\n",
    "        self.guesses = []\n",
    "        self.truths = []\n",
    "        self.errors = []\n",
    "        self.sles = []\n",
    "        self.colors = []\n",
    "\n",
    "    def color_for(self, error, truth):\n",
    "        if error<40 or error/truth < 0.2:\n",
    "            return \"green\"\n",
    "        elif error<80 or error/truth < 0.4:\n",
    "            return \"orange\"\n",
    "        else:\n",
    "            return \"red\"\n",
    "\n",
    "    def run_datapoint(self, i):\n",
    "        datapoint = self.data[i]\n",
    "        guess = self.predictor(datapoint[\"text\"])\n",
    "        truth = datapoint[\"price\"]\n",
    "        error = abs(guess - truth)\n",
    "        log_error = math.log(truth+1) - math.log(guess+1)\n",
    "        sle = log_error ** 2\n",
    "        color = self.color_for(error, truth)\n",
    "        title = datapoint[\"text\"].split(\"\\n\\n\")[1][:20] + \"...\"\n",
    "        self.guesses.append(guess)\n",
    "        self.truths.append(truth)\n",
    "        self.errors.append(error)\n",
    "        self.sles.append(sle)\n",
    "        self.colors.append(color)\n",
    "        print(f\"{COLOR_MAP[color]}{i+1}: Guess: ${guess:,.2f} Truth: ${truth:,.2f} Error: ${error:,.2f} SLE: {sle:,.2f} Item: {title}{RESET}\")\n",
    "\n",
    "    def chart(self, title):\n",
    "        max_error = max(self.errors)\n",
    "        plt.figure(figsize=(12, 8))\n",
    "        max_val = max(max(self.truths), max(self.guesses))\n",
    "        plt.plot([0, max_val], [0, max_val], color='deepskyblue', lw=2, alpha=0.6)\n",
    "        plt.scatter(self.truths, self.guesses, s=3, c=self.colors)\n",
    "        plt.xlabel('Ground Truth')\n",
    "        plt.ylabel('Model Estimate')\n",
    "        plt.xlim(0, max_val)\n",
    "        plt.ylim(0, max_val)\n",
    "        plt.title(title)\n",
    "        plt.show()\n",
    "\n",
    "    def report(self):\n",
    "        average_error = sum(self.errors) / self.size\n",
    "        rmsle = math.sqrt(sum(self.sles) / self.size)\n",
    "        hits = sum(1 for color in self.colors if color==\"green\")\n",
    "        title = f\"{self.title} Error=${average_error:,.2f} RMSLE={rmsle:,.2f} Hits={hits/self.size*100:.1f}%\"\n",
    "        self.chart(title)\n",
    "\n",
    "    def run(self):\n",
    "        self.error = 0\n",
    "        for i in range(self.size):\n",
    "            self.run_datapoint(i)\n",
    "        self.report()\n",
    "\n",
    "    @classmethod\n",
    "    def test(cls, function, data):\n",
    "        cls(function, data).run()"
   ]
  },
  {
   "cell_type": "code",
   "execution_count": 36,
   "id": "44996180-21ba-4387-92e1-77fbee0eddec",
   "metadata": {},
   "outputs": [
    {
     "name": "stdout",
     "output_type": "stream",
     "text": [
      "1: Guess: $346.00 Truth: $374.41 Error: $28.41 SLE: 0.01 Item: OEM AC Compressor w/...\n",
      "2: Guess: $141.00 Truth: $225.11 Error: $84.11 SLE: 0.22 Item: Motorcraft YB3125 Fa...\n",
      "3: Guess: $37.50 Truth: $61.68 Error: $24.18 SLE: 0.24 Item: Dorman Front Washer ...\n",
      "4: Guess: $592.00 Truth: $599.99 Error: $7.99 SLE: 0.00 Item: HP Premium HD Plus T...\n",
      "5: Guess: $29.50 Truth: $16.99 Error: $12.51 SLE: 0.28 Item: Super Switch Pickup ...\n",
      "6: Guess: $14.25 Truth: $31.99 Error: $17.74 SLE: 0.60 Item: Horror Bookmarks, Re...\n",
      "7: Guess: $124.00 Truth: $101.79 Error: $22.21 SLE: 0.04 Item: SK6241 - Stinger 4 G...\n",
      "8: Guess: $284.00 Truth: $289.00 Error: $5.00 SLE: 0.00 Item: Godox ML60Bi LED Lig...\n",
      "9: Guess: $860.00 Truth: $635.86 Error: $224.14 SLE: 0.09 Item: Randall G3 Plus Comb...\n",
      "10: Guess: $60.00 Truth: $65.99 Error: $5.99 SLE: 0.01 Item: HOLDWILL 6 Pack LED ...\n",
      "11: Guess: $296.00 Truth: $254.21 Error: $41.79 SLE: 0.02 Item: Viking Horns 3 Gallo...\n",
      "12: Guess: $298.00 Truth: $412.99 Error: $114.99 SLE: 0.11 Item: CURT 70110 Custom To...\n",
      "13: Guess: $49.00 Truth: $205.50 Error: $156.50 SLE: 2.01 Item: Solar HAMMERED BRONZ...\n",
      "14: Guess: $258.00 Truth: $248.23 Error: $9.77 SLE: 0.00 Item: COSTWAY Electric Tum...\n",
      "15: Guess: $310.00 Truth: $399.00 Error: $89.00 SLE: 0.06 Item: FREE SIGNAL TV Trans...\n",
      "16: Guess: $350.00 Truth: $373.94 Error: $23.94 SLE: 0.00 Item: Bilstein 5100 Monotu...\n",
      "17: Guess: $110.50 Truth: $92.89 Error: $17.61 SLE: 0.03 Item: Sangean K-200 Multi-...\n",
      "18: Guess: $132.00 Truth: $51.99 Error: $80.01 SLE: 0.85 Item: Charles Leonard Magn...\n",
      "19: Guess: $242.00 Truth: $179.00 Error: $63.00 SLE: 0.09 Item: Gigabyte AMD Radeon ...\n",
      "20: Guess: $12.00 Truth: $19.42 Error: $7.42 SLE: 0.20 Item: 3dRose LLC 8 x 8 x 0...\n",
      "21: Guess: $406.00 Truth: $539.95 Error: $133.95 SLE: 0.08 Item: ROKINON 85mm F1.4 Au...\n",
      "22: Guess: $143.00 Truth: $147.67 Error: $4.67 SLE: 0.00 Item: Headlight Assembly C...\n",
      "23: Guess: $41.00 Truth: $24.99 Error: $16.01 SLE: 0.23 Item: ASI NAUTICAL 2.5 Inc...\n",
      "24: Guess: $86.00 Truth: $149.00 Error: $63.00 SLE: 0.30 Item: Behringer TUBE OVERD...\n",
      "25: Guess: $7.97 Truth: $16.99 Error: $9.02 SLE: 0.48 Item: Fun Express Insect F...\n",
      "26: Guess: $10.31 Truth: $7.99 Error: $2.32 SLE: 0.05 Item: WAFJAMF Roller Stamp...\n",
      "27: Guess: $266.00 Truth: $199.99 Error: $66.01 SLE: 0.08 Item: Capulina Tiffany Flo...\n",
      "28: Guess: $276.00 Truth: $251.45 Error: $24.55 SLE: 0.01 Item: Apple Watch Series 6...\n",
      "29: Guess: $148.00 Truth: $231.62 Error: $83.62 SLE: 0.20 Item: ICON 01725 Tandem Ax...\n",
      "30: Guess: $115.00 Truth: $135.00 Error: $20.00 SLE: 0.03 Item: SanDisk 128GB Ultra ...\n",
      "31: Guess: $350.00 Truth: $356.62 Error: $6.62 SLE: 0.00 Item: Velvac - 715427\n",
      "2020...\n",
      "32: Guess: $300.00 Truth: $257.99 Error: $42.01 SLE: 0.02 Item: TCMT Passenger Backr...\n",
      "33: Guess: $34.75 Truth: $27.99 Error: $6.76 SLE: 0.04 Item: Alnicov 63.5MM Brass...\n",
      "34: Guess: $134.00 Truth: $171.20 Error: $37.20 SLE: 0.06 Item: Subaru Forester Outb...\n",
      "35: Guess: $302.00 Truth: $225.00 Error: $77.00 SLE: 0.09 Item: Richmond Auto Uphols...\n",
      "36: Guess: $137.00 Truth: $105.00 Error: $32.00 SLE: 0.07 Item: AP-39 Automotive Pai...\n",
      "37: Guess: $249.00 Truth: $299.99 Error: $50.99 SLE: 0.03 Item: Road Top Wireless Ca...\n",
      "38: Guess: $700.00 Truth: $535.09 Error: $164.91 SLE: 0.07 Item: Gibson Performance E...\n",
      "39: Guess: $24.88 Truth: $12.33 Error: $12.54 SLE: 0.44 Item: Bella Tunno Happy Li...\n",
      "40: Guess: $111.50 Truth: $84.99 Error: $26.51 SLE: 0.07 Item: CANMORE H300 Handhel...\n",
      "41: Guess: $13.62 Truth: $15.99 Error: $2.37 SLE: 0.02 Item: DCPOWER AC Adapter C...\n",
      "42: Guess: $45.25 Truth: $62.44 Error: $17.19 SLE: 0.10 Item: Sharp, Commercial De...\n",
      "43: Guess: $69.50 Truth: $82.99 Error: $13.49 SLE: 0.03 Item: Melissa & Doug Lifel...\n",
      "44: Guess: $342.00 Truth: $599.95 Error: $257.95 SLE: 0.31 Item: Sony SSCS8 2-Way Cen...\n",
      "45: Guess: $255.00 Truth: $194.99 Error: $60.01 SLE: 0.07 Item: ASUS Chromebook CX1,...\n",
      "46: Guess: $428.00 Truth: $344.95 Error: $83.05 SLE: 0.05 Item: FiiO X7 32GB Hi-Res ...\n",
      "47: Guess: $38.00 Truth: $37.99 Error: $0.01 SLE: 0.00 Item: TORRO Leather Case C...\n",
      "48: Guess: $264.00 Truth: $224.35 Error: $39.65 SLE: 0.03 Item: Universal Air Condit...\n",
      "49: Guess: $608.00 Truth: $814.00 Error: $206.00 SLE: 0.08 Item: Street Series Stainl...\n",
      "50: Guess: $428.00 Truth: $439.88 Error: $11.88 SLE: 0.00 Item: Lenovo IdeaPad 3 Lap...\n",
      "51: Guess: $300.00 Truth: $341.43 Error: $41.43 SLE: 0.02 Item: Access Bed Covers To...\n",
      "52: Guess: $41.25 Truth: $46.78 Error: $5.53 SLE: 0.02 Item: G.I. JOE Hasbro 3 3/...\n",
      "53: Guess: $222.00 Truth: $171.44 Error: $50.56 SLE: 0.07 Item: T&S Brass Double Pan...\n",
      "54: Guess: $268.00 Truth: $458.00 Error: $190.00 SLE: 0.29 Item: ZTUOAUMA Fuel Inject...\n",
      "55: Guess: $242.00 Truth: $130.75 Error: $111.25 SLE: 0.37 Item: Hp Prime Graphing Ca...\n",
      "56: Guess: $58.75 Truth: $83.81 Error: $25.06 SLE: 0.12 Item: Lowrance Nmea 2000 2...\n",
      "57: Guess: $154.00 Truth: $386.39 Error: $232.39 SLE: 0.84 Item: Jeep Genuine Accesso...\n",
      "58: Guess: $240.00 Truth: $169.00 Error: $71.00 SLE: 0.12 Item: GODOX CB-06 Hard Car...\n",
      "59: Guess: $8.00 Truth: $17.95 Error: $9.95 SLE: 0.55 Item: Au-Tomotive Gold, IN...\n",
      "60: Guess: $214.00 Truth: $269.00 Error: $55.00 SLE: 0.05 Item: Snailfly Black Roof ...\n",
      "61: Guess: $58.75 Truth: $77.77 Error: $19.02 SLE: 0.08 Item: KING SHA Anti Glare ...\n",
      "62: Guess: $133.00 Truth: $88.99 Error: $44.01 SLE: 0.16 Item: APS Compatible with ...\n",
      "63: Guess: $266.00 Truth: $364.41 Error: $98.41 SLE: 0.10 Item: Wilwood Engineering ...\n",
      "64: Guess: $143.00 Truth: $127.03 Error: $15.97 SLE: 0.01 Item: ACDelco Gold Starter...\n",
      "65: Guess: $688.00 Truth: $778.95 Error: $90.95 SLE: 0.02 Item: UWS Matte Black Heav...\n",
      "66: Guess: $152.00 Truth: $206.66 Error: $54.66 SLE: 0.09 Item: Dell Latitude E5440 ...\n",
      "67: Guess: $35.00 Truth: $35.94 Error: $0.94 SLE: 0.00 Item: (Plug and Play) Spar...\n",
      "68: Guess: $244.00 Truth: $149.00 Error: $95.00 SLE: 0.24 Item: The Ultimate Roadsid...\n",
      "69: Guess: $264.00 Truth: $251.98 Error: $12.02 SLE: 0.00 Item: Brand New 18 x 8.5 R...\n",
      "70: Guess: $220.00 Truth: $160.00 Error: $60.00 SLE: 0.10 Item: Headlight Headlamp L...\n",
      "71: Guess: $26.00 Truth: $39.99 Error: $13.99 SLE: 0.17 Item: Lilo And Stitch Delu...\n",
      "72: Guess: $176.00 Truth: $362.41 Error: $186.41 SLE: 0.52 Item: AC Compressor & A/C ...\n",
      "73: Guess: $134.00 Truth: $344.00 Error: $210.00 SLE: 0.88 Item: House Of Troy Pinnac...\n",
      "74: Guess: $37.50 Truth: $25.09 Error: $12.41 SLE: 0.15 Item: Juno T29 WH Floating...\n",
      "75: Guess: $124.00 Truth: $175.95 Error: $51.95 SLE: 0.12 Item: Sherman GO-PARTS - f...\n",
      "76: Guess: $286.00 Truth: $132.64 Error: $153.36 SLE: 0.58 Item: Roland RPU-3 Electro...\n",
      "77: Guess: $348.00 Truth: $422.99 Error: $74.99 SLE: 0.04 Item: Rockland VMI14 12,00...\n",
      "78: Guess: $157.00 Truth: $146.48 Error: $10.52 SLE: 0.00 Item: Max Advanced Brakes ...\n",
      "79: Guess: $148.00 Truth: $156.83 Error: $8.83 SLE: 0.00 Item: Quality-Built 11030 ...\n",
      "80: Guess: $124.50 Truth: $251.99 Error: $127.49 SLE: 0.49 Item: Lucida LG-510 Studen...\n",
      "81: Guess: $253.00 Truth: $940.33 Error: $687.33 SLE: 1.72 Item: Longacre Aluminum Tu...\n",
      "82: Guess: $40.50 Truth: $52.99 Error: $12.49 SLE: 0.07 Item: Motion Pro Adjustabl...\n",
      "83: Guess: $238.00 Truth: $219.95 Error: $18.05 SLE: 0.01 Item: Glyph Thunderbolt 3 ...\n",
      "84: Guess: $276.00 Truth: $441.03 Error: $165.03 SLE: 0.22 Item: TOYO Open Country MT...\n",
      "85: Guess: $182.00 Truth: $168.98 Error: $13.02 SLE: 0.01 Item: Razer Seiren X USB S...\n",
      "86: Guess: $3.84 Truth: $2.49 Error: $1.35 SLE: 0.11 Item: Happy Birthday to Da...\n",
      "87: Guess: $215.00 Truth: $98.62 Error: $116.38 SLE: 0.60 Item: Little Tikes My Real...\n",
      "88: Guess: $314.00 Truth: $256.95 Error: $57.05 SLE: 0.04 Item: Studio M Peace and H...\n",
      "89: Guess: $12.06 Truth: $30.99 Error: $18.93 SLE: 0.80 Item: MyVolts 12V Power Su...\n",
      "90: Guess: $568.00 Truth: $569.84 Error: $1.84 SLE: 0.00 Item: Dell Latitude 7212 R...\n",
      "91: Guess: $264.00 Truth: $177.99 Error: $86.01 SLE: 0.15 Item: Covermates Contour F...\n",
      "92: Guess: $494.00 Truth: $997.99 Error: $503.99 SLE: 0.49 Item: Westin Black HDX Gri...\n",
      "93: Guess: $284.00 Truth: $219.00 Error: $65.00 SLE: 0.07 Item: Fieldpiece JL2 Job L...\n",
      "94: Guess: $316.00 Truth: $225.55 Error: $90.45 SLE: 0.11 Item: hansgrohe Talis S Mo...\n",
      "95: Guess: $884.00 Truth: $495.95 Error: $388.05 SLE: 0.33 Item: G-Technology G-SPEED...\n",
      "96: Guess: $568.00 Truth: $942.37 Error: $374.37 SLE: 0.26 Item: DreamLine Shower Doo...\n",
      "97: Guess: $4.34 Truth: $1.94 Error: $2.40 SLE: 0.36 Item: Sanctuary Square Bac...\n",
      "98: Guess: $272.00 Truth: $284.34 Error: $12.34 SLE: 0.00 Item: Pelican Protector 17...\n",
      "99: Guess: $174.00 Truth: $171.90 Error: $2.10 SLE: 0.00 Item: Brock Replacement Dr...\n",
      "100: Guess: $260.00 Truth: $144.99 Error: $115.01 SLE: 0.34 Item: Carlinkit Ai Box Min...\n",
      "101: Guess: $360.00 Truth: $470.47 Error: $110.47 SLE: 0.07 Item: StarDot YouTube Live...\n",
      "102: Guess: $53.50 Truth: $66.95 Error: $13.45 SLE: 0.05 Item: Atomic Compatible ME...\n",
      "103: Guess: $112.00 Truth: $117.00 Error: $5.00 SLE: 0.00 Item: Bandai Awakening of ...\n",
      "104: Guess: $144.00 Truth: $172.14 Error: $28.14 SLE: 0.03 Item: Fit System 62135G Pa...\n",
      "105: Guess: $276.00 Truth: $392.74 Error: $116.74 SLE: 0.12 Item: Black Horse Black Al...\n",
      "106: Guess: $13.62 Truth: $16.99 Error: $3.36 SLE: 0.04 Item: Dearsun Twinkle Star...\n",
      "107: Guess: $1.75 Truth: $1.34 Error: $0.41 SLE: 0.03 Item: Pokemon - Gallade Sp...\n",
      "108: Guess: $262.00 Truth: $349.98 Error: $87.98 SLE: 0.08 Item: Ibanez GIO Series Cl...\n",
      "109: Guess: $352.00 Truth: $370.71 Error: $18.71 SLE: 0.00 Item: Set 2 Heavy Duty 12 ...\n",
      "110: Guess: $60.00 Truth: $65.88 Error: $5.88 SLE: 0.01 Item: Hairpin Table Legs 2...\n",
      "111: Guess: $272.00 Truth: $229.99 Error: $42.01 SLE: 0.03 Item: Marada Racing Seat w...\n",
      "112: Guess: $4.00 Truth: $9.14 Error: $5.14 SLE: 0.50 Item: Remington Industries...\n",
      "113: Guess: $330.00 Truth: $199.00 Error: $131.00 SLE: 0.25 Item: Acer Ultrabook, Inte...\n",
      "114: Guess: $296.00 Truth: $109.99 Error: $186.01 SLE: 0.97 Item: ICBEAMER 7 RGB LED H...\n",
      "115: Guess: $352.00 Truth: $570.42 Error: $218.42 SLE: 0.23 Item: R1 Concepts Front Re...\n",
      "116: Guess: $230.00 Truth: $279.99 Error: $49.99 SLE: 0.04 Item: Camplux 2.64 GPM Tan...\n",
      "117: Guess: $24.25 Truth: $30.99 Error: $6.74 SLE: 0.06 Item: KNOKLOCK 10 Pack 3.7...\n",
      "118: Guess: $24.62 Truth: $31.99 Error: $7.36 SLE: 0.06 Item: Valley Enterprises Y...\n",
      "119: Guess: $34.75 Truth: $15.90 Error: $18.85 SLE: 0.56 Item: G9 LED Light 100W re...\n",
      "120: Guess: $126.00 Truth: $45.99 Error: $80.01 SLE: 0.99 Item: ZCHAOZ 4 Lights Anti...\n",
      "121: Guess: $148.00 Truth: $113.52 Error: $34.48 SLE: 0.07 Item: Honeywell Honeywell ...\n",
      "122: Guess: $356.00 Truth: $516.99 Error: $160.99 SLE: 0.14 Item: Patriot Exhaust 1-7/...\n",
      "123: Guess: $148.00 Truth: $196.99 Error: $48.99 SLE: 0.08 Item: Fitrite Autopart New...\n",
      "124: Guess: $15.62 Truth: $46.55 Error: $30.92 SLE: 1.10 Item: Technical Precision ...\n",
      "125: Guess: $218.00 Truth: $356.99 Error: $138.99 SLE: 0.24 Item: Covercraft Carhartt ...\n",
      "126: Guess: $312.00 Truth: $319.95 Error: $7.95 SLE: 0.00 Item: Sennheiser SD Pro 2 ...\n",
      "127: Guess: $75.00 Truth: $96.06 Error: $21.06 SLE: 0.06 Item: Hitachi Mass Air Flo...\n",
      "128: Guess: $312.00 Truth: $190.99 Error: $121.01 SLE: 0.24 Item: AmScope LED Cordless...\n",
      "129: Guess: $65.50 Truth: $257.95 Error: $192.45 SLE: 1.85 Item: Front Left Driver Si...\n",
      "130: Guess: $71.00 Truth: $62.95 Error: $8.05 SLE: 0.01 Item: Premium Replica Hubc...\n",
      "131: Guess: $25.75 Truth: $47.66 Error: $21.91 SLE: 0.36 Item: Excellerations Phoni...\n",
      "132: Guess: $238.00 Truth: $226.99 Error: $11.01 SLE: 0.00 Item: RC4WD BigDog Dual Ax...\n",
      "133: Guess: $342.00 Truth: $359.95 Error: $17.95 SLE: 0.00 Item: Unknown Stage 2 Clut...\n",
      "134: Guess: $51.00 Truth: $78.40 Error: $27.40 SLE: 0.18 Item: Dodge Ram 1500 Mopar...\n",
      "135: Guess: $183.00 Truth: $172.77 Error: $10.23 SLE: 0.00 Item: Pro Comp Alloys Seri...\n",
      "136: Guess: $272.00 Truth: $316.45 Error: $44.45 SLE: 0.02 Item: Detroit Axle - Front...\n",
      "137: Guess: $108.00 Truth: $87.99 Error: $20.01 SLE: 0.04 Item: ECCPP Rear Wheel Axl...\n",
      "138: Guess: $256.00 Truth: $226.63 Error: $29.37 SLE: 0.01 Item: Dell Latitude E6520 ...\n",
      "139: Guess: $34.75 Truth: $31.49 Error: $3.26 SLE: 0.01 Item: F FIERCE CYCLE 251pc...\n",
      "140: Guess: $248.00 Truth: $196.00 Error: $52.00 SLE: 0.05 Item: Flash Furniture 4 Pk...\n",
      "141: Guess: $58.50 Truth: $78.40 Error: $19.90 SLE: 0.08 Item: B&M 30287 Throttle V...\n",
      "142: Guess: $120.00 Truth: $116.25 Error: $3.75 SLE: 0.00 Item: Gates TCK226 PowerGr...\n",
      "143: Guess: $144.00 Truth: $112.78 Error: $31.22 SLE: 0.06 Item: Monroe Shocks & Stru...\n",
      "144: Guess: $40.75 Truth: $27.32 Error: $13.43 SLE: 0.15 Item: Feit Electric 35W EQ...\n",
      "145: Guess: $62.00 Truth: $145.91 Error: $83.91 SLE: 0.72 Item: Yellow Jacket 2806 C...\n",
      "146: Guess: $143.00 Truth: $171.09 Error: $28.09 SLE: 0.03 Item: Garage-Pro Tailgate ...\n",
      "147: Guess: $119.00 Truth: $167.95 Error: $48.95 SLE: 0.12 Item: 3M Perfect It Buffin...\n",
      "148: Guess: $36.50 Truth: $28.49 Error: $8.01 SLE: 0.06 Item: Chinese Style Dollho...\n",
      "149: Guess: $107.00 Truth: $122.23 Error: $15.23 SLE: 0.02 Item: Generic NRG Innovati...\n",
      "150: Guess: $49.50 Truth: $32.99 Error: $16.51 SLE: 0.16 Item: Learning Resources C...\n",
      "151: Guess: $59.00 Truth: $71.20 Error: $12.20 SLE: 0.03 Item: Bosch Automotive 154...\n",
      "152: Guess: $62.50 Truth: $112.75 Error: $50.25 SLE: 0.34 Item: Case of 24-2 Inch Bl...\n",
      "153: Guess: $107.00 Truth: $142.43 Error: $35.43 SLE: 0.08 Item: MOCA Engine Water Pu...\n",
      "154: Guess: $276.00 Truth: $398.99 Error: $122.99 SLE: 0.13 Item: SAREMAS Foot Step Ba...\n",
      "155: Guess: $832.00 Truth: $449.00 Error: $383.00 SLE: 0.38 Item: Gretsch G9210 Square...\n",
      "156: Guess: $254.00 Truth: $189.00 Error: $65.00 SLE: 0.09 Item: NikoMaku Mirror Dash...\n",
      "157: Guess: $141.00 Truth: $120.91 Error: $20.09 SLE: 0.02 Item: Fenix HP25R v2.0 USB...\n",
      "158: Guess: $266.00 Truth: $203.53 Error: $62.47 SLE: 0.07 Item: R&L Racing Heavy Dut...\n",
      "159: Guess: $300.00 Truth: $349.99 Error: $49.99 SLE: 0.02 Item: Garmin GPSMAP 64sx, ...\n",
      "160: Guess: $23.00 Truth: $34.35 Error: $11.35 SLE: 0.15 Item: Brown 5-7/8 X 8-1/2 ...\n",
      "161: Guess: $344.00 Truth: $384.99 Error: $40.99 SLE: 0.01 Item: GAOMON PD2200 Pen Di...\n",
      "162: Guess: $266.00 Truth: $211.00 Error: $55.00 SLE: 0.05 Item: VXMOTOR for 97-03 Fo...\n",
      "163: Guess: $236.00 Truth: $129.00 Error: $107.00 SLE: 0.36 Item: HP EliteBook 2540p I...\n",
      "164: Guess: $7.00 Truth: $111.45 Error: $104.45 SLE: 6.99 Item: Green EPX Mixing Noz...\n",
      "165: Guess: $25.12 Truth: $81.12 Error: $56.00 SLE: 1.31 Item: Box Partners 6 1/4 x...\n",
      "166: Guess: $346.00 Truth: $457.08 Error: $111.08 SLE: 0.08 Item: Vixen Air 1/2 NPT Ai...\n",
      "167: Guess: $109.50 Truth: $49.49 Error: $60.01 SLE: 0.61 Item: Smart Floor Lamp, Mu...\n",
      "168: Guess: $54.50 Truth: $80.56 Error: $26.06 SLE: 0.15 Item: SOZG 324mm Wheelbase...\n",
      "169: Guess: $314.00 Truth: $278.39 Error: $35.61 SLE: 0.01 Item: Mickey Thompson ET S...\n",
      "170: Guess: $398.00 Truth: $364.50 Error: $33.50 SLE: 0.01 Item: Pirelli 106W XL RFT ...\n",
      "171: Guess: $396.00 Truth: $378.99 Error: $17.01 SLE: 0.00 Item: Torklift C3212 Rear ...\n",
      "172: Guess: $228.00 Truth: $165.28 Error: $62.72 SLE: 0.10 Item: Cardone Remanufactur...\n",
      "173: Guess: $62.25 Truth: $56.74 Error: $5.51 SLE: 0.01 Item: Kidde AccessPoint 00...\n",
      "174: Guess: $149.00 Truth: $307.95 Error: $158.95 SLE: 0.52 Item: 3M Protecta Self Ret...\n",
      "175: Guess: $70.00 Truth: $38.00 Error: $32.00 SLE: 0.36 Item: Plantronics Wired He...\n",
      "176: Guess: $86.00 Truth: $53.00 Error: $33.00 SLE: 0.23 Item: Logitech K750 Wirele...\n",
      "177: Guess: $524.00 Truth: $498.00 Error: $26.00 SLE: 0.00 Item: Olympus PEN E-PL9 Bo...\n",
      "178: Guess: $142.00 Truth: $53.99 Error: $88.01 SLE: 0.91 Item: Beck/Arnley Hub & Be...\n",
      "179: Guess: $302.00 Truth: $350.00 Error: $48.00 SLE: 0.02 Item: Eibach Pro-Kit Perfo...\n",
      "180: Guess: $312.00 Truth: $299.95 Error: $12.05 SLE: 0.00 Item: LEGO DC Batman 1989 ...\n",
      "181: Guess: $62.50 Truth: $94.93 Error: $32.43 SLE: 0.17 Item: Kingston Brass Resto...\n",
      "182: Guess: $260.00 Truth: $379.00 Error: $119.00 SLE: 0.14 Item: Polk Vanishing Serie...\n",
      "183: Guess: $340.00 Truth: $299.95 Error: $40.05 SLE: 0.02 Item: Spec-D Tuning LED Pr...\n",
      "184: Guess: $17.00 Truth: $24.99 Error: $7.99 SLE: 0.13 Item: RICHMOND & FINCH Air...\n",
      "185: Guess: $73.00 Truth: $41.04 Error: $31.96 SLE: 0.32 Item: LFA Industries - mm ...\n",
      "186: Guess: $270.00 Truth: $327.90 Error: $57.90 SLE: 0.04 Item: SAUTVS LED Headlight...\n",
      "187: Guess: $17.88 Truth: $10.99 Error: $6.88 SLE: 0.21 Item: 2 Pack Combo Womens ...\n",
      "188: Guess: $15.12 Truth: $14.99 Error: $0.13 SLE: 0.00 Item: Arepa - Venezuelan c...\n",
      "189: Guess: $7.09 Truth: $84.95 Error: $77.86 SLE: 5.58 Item: Schlage Lock Company...\n",
      "190: Guess: $76.50 Truth: $111.00 Error: $34.50 SLE: 0.14 Item: Techni Mobili White ...\n",
      "191: Guess: $248.00 Truth: $123.73 Error: $124.27 SLE: 0.48 Item: Special Lite Product...\n",
      "192: Guess: $334.00 Truth: $557.38 Error: $223.38 SLE: 0.26 Item: Tascam Digital Porta...\n",
      "193: Guess: $104.00 Truth: $95.55 Error: $8.45 SLE: 0.01 Item: Glow Lighting Vista ...\n",
      "194: Guess: $266.00 Truth: $154.00 Error: $112.00 SLE: 0.30 Item: Z3 Wind Deflector, S...\n",
      "195: Guess: $314.00 Truth: $198.99 Error: $115.01 SLE: 0.21 Item: Olympus E-20 5MP Dig...\n",
      "196: Guess: $306.00 Truth: $430.44 Error: $124.44 SLE: 0.12 Item: PHYNEDI 1 1000 World...\n",
      "197: Guess: $25.12 Truth: $45.67 Error: $20.55 SLE: 0.34 Item: YANGHUAN Unstable Un...\n",
      "198: Guess: $256.00 Truth: $249.00 Error: $7.00 SLE: 0.00 Item: Interlogix NetworX T...\n",
      "199: Guess: $19.62 Truth: $42.99 Error: $23.37 SLE: 0.57 Item: Steering Damper,Univ...\n",
      "200: Guess: $225.00 Truth: $181.33 Error: $43.67 SLE: 0.05 Item: Amprobe TIC 410A Hot...\n",
      "201: Guess: $1.44 Truth: $6.03 Error: $4.59 SLE: 1.12 Item: MyCableMart 3.5mm Pl...\n",
      "202: Guess: $46.25 Truth: $29.99 Error: $16.26 SLE: 0.18 Item: OtterBox + Pop Symme...\n",
      "203: Guess: $496.00 Truth: $899.00 Error: $403.00 SLE: 0.35 Item: Dell XPS Desktop ( I...\n",
      "204: Guess: $350.00 Truth: $399.99 Error: $49.99 SLE: 0.02 Item: Franklin Iron Works ...\n",
      "205: Guess: $37.50 Truth: $4.66 Error: $32.84 SLE: 3.68 Item: Avery Legal Dividers...\n",
      "206: Guess: $193.00 Truth: $261.41 Error: $68.41 SLE: 0.09 Item: Moen 8346 Commercial...\n",
      "207: Guess: $185.00 Truth: $136.97 Error: $48.03 SLE: 0.09 Item: Carlisle Versa Trail...\n",
      "208: Guess: $83.00 Truth: $79.00 Error: $4.00 SLE: 0.00 Item: SUNWAYFOTO 44mm Trip...\n",
      "209: Guess: $258.00 Truth: $444.99 Error: $186.99 SLE: 0.30 Item: NanoBeam AC 4 Units ...\n",
      "210: Guess: $356.00 Truth: $411.94 Error: $55.94 SLE: 0.02 Item: WULF 4 Front 2 Rear ...\n",
      "211: Guess: $155.00 Truth: $148.40 Error: $6.60 SLE: 0.00 Item: Alera ALEVABFMC Vale...\n",
      "212: Guess: $113.00 Truth: $244.99 Error: $131.99 SLE: 0.59 Item: YU-GI-OH! Ignition A...\n",
      "213: Guess: $234.00 Truth: $86.50 Error: $147.50 SLE: 0.98 Item: 48 x 36 Extra-Large ...\n",
      "214: Guess: $160.00 Truth: $297.95 Error: $137.95 SLE: 0.38 Item: Dell Latitude D620 R...\n",
      "215: Guess: $544.00 Truth: $399.99 Error: $144.01 SLE: 0.09 Item: acer Aspire 5 Laptop...\n",
      "216: Guess: $268.00 Truth: $599.00 Error: $331.00 SLE: 0.64 Item: Elk 30 by 6-Inch Viv...\n",
      "217: Guess: $142.00 Truth: $105.99 Error: $36.01 SLE: 0.08 Item: Barbie Top Model Dol...\n",
      "218: Guess: $460.00 Truth: $689.00 Error: $229.00 SLE: 0.16 Item: Danby Designer 20-In...\n",
      "219: Guess: $348.00 Truth: $404.99 Error: $56.99 SLE: 0.02 Item: FixtureDisplays® Met...\n",
      "220: Guess: $148.00 Truth: $207.76 Error: $59.76 SLE: 0.11 Item: ACDelco GM Original ...\n",
      "221: Guess: $272.00 Truth: $171.82 Error: $100.18 SLE: 0.21 Item: EBC Premium Street B...\n",
      "222: Guess: $352.00 Truth: $293.24 Error: $58.76 SLE: 0.03 Item: FXR Men's Boost FX J...\n",
      "223: Guess: $350.00 Truth: $374.95 Error: $24.95 SLE: 0.00 Item: SuperATV Scratch Res...\n",
      "224: Guess: $75.50 Truth: $111.99 Error: $36.49 SLE: 0.15 Item: SBU 3 Layer All Weat...\n",
      "225: Guess: $22.00 Truth: $42.99 Error: $20.99 SLE: 0.42 Item: 2 Pack Outdoor Broch...\n",
      "226: Guess: $142.00 Truth: $116.71 Error: $25.29 SLE: 0.04 Item: Monroe Shocks & Stru...\n",
      "227: Guess: $312.00 Truth: $118.61 Error: $193.39 SLE: 0.93 Item: Elements of Design M...\n",
      "228: Guess: $154.00 Truth: $147.12 Error: $6.88 SLE: 0.00 Item: GM Genuine Parts Air...\n",
      "229: Guess: $140.00 Truth: $119.99 Error: $20.01 SLE: 0.02 Item: Baseus USB C Docking...\n",
      "230: Guess: $298.00 Truth: $369.98 Error: $71.98 SLE: 0.05 Item: Whitehall™ Personali...\n",
      "231: Guess: $352.00 Truth: $315.55 Error: $36.45 SLE: 0.01 Item: Pro Circuit Works Pi...\n",
      "232: Guess: $308.00 Truth: $190.99 Error: $117.01 SLE: 0.23 Item: HYANKA 15 1200W Prof...\n",
      "233: Guess: $86.00 Truth: $155.00 Error: $69.00 SLE: 0.34 Item: Bluetooth X6BT Card ...\n",
      "234: Guess: $344.00 Truth: $349.99 Error: $5.99 SLE: 0.00 Item: AIRAID Cold Air Inta...\n",
      "235: Guess: $254.00 Truth: $249.99 Error: $4.01 SLE: 0.00 Item: Bostingner Shower Fa...\n",
      "236: Guess: $56.00 Truth: $42.99 Error: $13.01 SLE: 0.07 Item: PIT66 Front Bumper T...\n",
      "237: Guess: $11.50 Truth: $17.99 Error: $6.49 SLE: 0.17 Item: Caseology Bumpy Comp...\n",
      "238: Guess: $300.00 Truth: $425.00 Error: $125.00 SLE: 0.12 Item: Fleck 2510 Timer Mec...\n",
      "239: Guess: $256.00 Truth: $249.99 Error: $6.01 SLE: 0.00 Item: Haloview MC7108 Wire...\n",
      "240: Guess: $42.00 Truth: $138.23 Error: $96.23 SLE: 1.38 Item: Schmidt Spiele - Man...\n",
      "241: Guess: $346.00 Truth: $414.99 Error: $68.99 SLE: 0.03 Item: Corsa 14333 Tip Kit ...\n",
      "242: Guess: $148.00 Truth: $168.28 Error: $20.28 SLE: 0.02 Item: Hoshizaki FM116A Fan...\n",
      "243: Guess: $258.00 Truth: $199.99 Error: $58.01 SLE: 0.06 Item: BAINUO Antler Chande...\n",
      "244: Guess: $126.50 Truth: $126.70 Error: $0.20 SLE: 0.00 Item: DNA MOTORING Smoke L...\n",
      "245: Guess: $4.00 Truth: $5.91 Error: $1.91 SLE: 0.10 Item: Wera Stainless 3840/...\n",
      "246: Guess: $304.00 Truth: $193.06 Error: $110.94 SLE: 0.20 Item: Celestron - PowerSee...\n",
      "247: Guess: $300.00 Truth: $249.99 Error: $50.01 SLE: 0.03 Item: NHOPEEW Android Car ...\n",
      "248: Guess: $66.50 Truth: $64.12 Error: $2.38 SLE: 0.00 Item: Other Harmonica A)\n",
      "F...\n",
      "249: Guess: $240.00 Truth: $114.99 Error: $125.01 SLE: 0.53 Item: Harley Air Filter Ve...\n",
      "250: Guess: $350.00 Truth: $926.00 Error: $576.00 SLE: 0.94 Item: Elite Screens Edge F...\n"
     ]
    },
    {
     "data": {
      "image/png": "[encoded data removed]",
      "text/plain": [
       "<Figure size 1200x800 with 1 Axes>"
      ]
     },
     "metadata": {},
     "output_type": "display_data"
    }
   ],
   "source": [
    "Tester.test(improved_model_predict, test)"
   ]
  },
  {
   "cell_type": "code",
   "execution_count": null,
   "id": "d46cf4f1-7001-4edb-befc-c7ff1c9b341c",
   "metadata": {},
   "outputs": [],
   "source": []
  }
 ],
 "metadata": {
  "kernelspec": {
   "display_name": "Python 3 (ipykernel)",
   "language": "python",
   "name": "python3"
  },
  "language_info": {
   "codemirror_mode": {
    "name": "ipython",
    "version": 3
   },
   "file_extension": ".py",
   "mimetype": "text/x-python",
   "name": "python",
   "nbconvert_exporter": "python",
   "pygments_lexer": "ipython3",
   "version": "3.11.11"
  }
 },
 "nbformat": 4,
 "nbformat_minor": 5
}
