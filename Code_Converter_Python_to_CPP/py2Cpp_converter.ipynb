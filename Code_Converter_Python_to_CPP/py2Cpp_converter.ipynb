{
 "cells": [
  {
   "cell_type": "markdown",
   "id": "d0bc194e-6c52-433f-9157-4792759d9b91",
   "metadata": {},
   "source": [
    "# Code Converter - Python to C++"
   ]
  },
  {
   "cell_type": "code",
   "execution_count": 128,
   "id": "f6704182-5b2d-4e39-ab67-8c8021a9abf0",
   "metadata": {},
   "outputs": [],
   "source": [
    "# imports\n",
    "\n",
    "import os\n",
    "import io\n",
    "import sys\n",
    "from dotenv import load_dotenv\n",
    "from openai import OpenAI\n",
    "import google.generativeai\n",
    "import anthropic\n",
    "from IPython.display import Markdown, display, update_display\n",
    "import gradio as gr\n",
    "import subprocess"
   ]
  },
  {
   "cell_type": "code",
   "execution_count": 129,
   "id": "93f0cc8f-9fb8-4ed6-b71c-ab98a385e07e",
   "metadata": {},
   "outputs": [],
   "source": [
    "# environment\n",
    "\n",
    "load_dotenv(override=True)\n",
    "openai_api_key = os.getenv('OPENAI_API_KEY')\n",
    "deepseek_api_key = os.getenv('DEEPSEEK_API_KEY')\n"
   ]
  },
  {
   "cell_type": "code",
   "execution_count": 130,
   "id": "5f193361-6220-4eaf-b972-fd171ebb502c",
   "metadata": {},
   "outputs": [],
   "source": [
    "# initialize\n",
    "# NOTE - option to use ultra-low cost models by uncommenting last 2 lines\n",
    "\n",
    "openai = OpenAI()\n",
    "deepseek_via_openai_client = OpenAI(\n",
    "    api_key=deepseek_api_key, \n",
    "    base_url=\"https://api.deepseek.com\"\n",
    ")\n",
    "\n",
    "OPENAI_MODEL = \"gpt-4o\"\n",
    "DEEPSEEK_MODEL=\"deepseek-chat\"\n"
   ]
  },
  {
   "cell_type": "code",
   "execution_count": 131,
   "id": "66af10d7-4bd8-4cd0-a878-432a93335074",
   "metadata": {},
   "outputs": [],
   "source": [
    "system_message = \"You are an assistant that reimplements Python code in high performance C++ for an Windows 11. \"\n",
    "system_message += \"Respond only with C++ code; use comments sparingly and do not provide any explanation other than occasional comments. \"\n",
    "system_message += \"The C++ response needs to produce an identical output in the fastest possible time.\""
   ]
  },
  {
   "cell_type": "code",
   "execution_count": 132,
   "id": "74cf04f1-c591-458f-94ba-111baf0fc35a",
   "metadata": {},
   "outputs": [],
   "source": [
    "def user_prompt_for(python):\n",
    "    user_prompt = \"Rewrite this Python code in C++ with the fastest possible implementation that produces identical output in the least time. \"\n",
    "    user_prompt += \"Respond only with C++ code; do not explain your work other than a few comments. \"\n",
    "    user_prompt += \"Pay attention to number types to ensure no int overflows. Remember to #include all necessary C++ packages such as iomanip.\\n\\n\"\n",
    "    user_prompt += python\n",
    "    return user_prompt"
   ]
  },
  {
   "cell_type": "code",
   "execution_count": 133,
   "id": "d28f2a08-d447-4463-b6e5-847035cc97eb",
   "metadata": {},
   "outputs": [],
   "source": [
    "def messages_for(python):\n",
    "    return [\n",
    "        {\"role\": \"system\", \"content\": system_message},\n",
    "        {\"role\": \"user\", \"content\": user_prompt_for(python)}\n",
    "    ]"
   ]
  },
  {
   "cell_type": "code",
   "execution_count": 134,
   "id": "12ac97c7-b710-424f-ac94-301fb3a37cb2",
   "metadata": {},
   "outputs": [],
   "source": [
    "# write to a file called optimized.cpp\n",
    "\n",
    "def write_output(cpp,*model):\n",
    "    code = cpp.replace(\"```cpp\",\"\").replace(\"```\",\"\")\n",
    "    if model == 'gpt':\n",
    "        with open(\"optimized_gpt.cpp\", \"w\") as f:\n",
    "            f.write(code)\n",
    "    elif model == 'deepseek':\n",
    "        with open(\"optimized_deepseek.cpp\", \"w\") as f:\n",
    "            f.write(code)\n",
    "    else:\n",
    "        with open(\"optimized.cpp\", \"w\") as f:\n",
    "            f.write(code)"
   ]
  },
  {
   "cell_type": "code",
   "execution_count": 135,
   "id": "ac452949-24c6-4c80-9b1b-474bd00b0981",
   "metadata": {},
   "outputs": [],
   "source": [
    "def optimize_gpt(python):    \n",
    "    stream = openai.chat.completions.create(model=OPENAI_MODEL, messages=messages_for(python), stream=True)\n",
    "    reply = \"\"\n",
    "    for chunk in stream:\n",
    "        fragment = chunk.choices[0].delta.content or \"\"\n",
    "        reply += fragment\n",
    "        print(fragment, end='', flush=True)\n",
    "    write_output(reply,'gpt')"
   ]
  },
  {
   "cell_type": "code",
   "execution_count": 136,
   "id": "9daa9f02-b92d-4be6-813d-81cf4dd0d2ab",
   "metadata": {},
   "outputs": [],
   "source": [
    "def optimize_deepseek(python):\n",
    "    result = deepseek_via_openai_client.chat.completions.create(\n",
    "        model=DEEPSEEK_MODEL,\n",
    "        messages=messages_for(python),\n",
    "        stream=True\n",
    "    )\n",
    "    reply = \"\"\n",
    "    for chunk in result:\n",
    "        fragment = chunk.choices[0].delta.content or \"\"\n",
    "        reply += fragment\n",
    "        print(fragment, end='', flush=True)\n",
    "    write_output(reply,'deepseek')"
   ]
  },
  {
   "cell_type": "code",
   "execution_count": 137,
   "id": "e7c4fd0c-cd71-455c-a2b6-c77acbb86073",
   "metadata": {},
   "outputs": [],
   "source": [
    "pi = \"\"\"\n",
    "import time\n",
    "\n",
    "def calculate(iterations, param1, param2):\n",
    "    result = 1.0\n",
    "    for i in range(1, iterations+1):\n",
    "        j = i * param1 - param2\n",
    "        result -= (1/j)\n",
    "        j = i * param1 + param2\n",
    "        result += (1/j)\n",
    "    return result\n",
    "\n",
    "start_time = time.time()\n",
    "result = calculate(100_000_000, 4, 1) * 4\n",
    "end_time = time.time()\n",
    "\n",
    "print(f\"Result: {result:.12f}\")\n",
    "print(f\"Execution Time: {(end_time - start_time):.6f} seconds\")\n",
    "\"\"\""
   ]
  },
  {
   "cell_type": "code",
   "execution_count": 12,
   "id": "b4fa63b4-9595-4997-a96a-e2a9157ee043",
   "metadata": {},
   "outputs": [
    {
     "name": "stdout",
     "output_type": "stream",
     "text": [
      "Result: 3.141592658589\n",
      "Execution Time: 10.601091 seconds\n"
     ]
    }
   ],
   "source": [
    "exec(pi)"
   ]
  },
  {
   "cell_type": "code",
   "execution_count": 13,
   "id": "f9869e61-584b-437e-9c67-49b302ef1bf4",
   "metadata": {},
   "outputs": [
    {
     "name": "stdout",
     "output_type": "stream",
     "text": [
      "```cpp\n",
      "#include <iostream>\n",
      "#include <iomanip>\n",
      "#include <chrono>\n",
      "\n",
      " Function to perform the calculation\n",
      "double calculate(int iterations, int param1, int param2) {\n",
      "    double result = 1.0;\n",
      "    for (int i = 1; i <= iterations; ++i) {\n",
      "        // Perform arithmetic operations and update result\n",
      "        double j = static_cast<double>(i * param1 - param2);\n",
      "        result -= (1.0 / j);\n",
      "        j = static_cast<double>(i * param1 + param2);\n",
      "        result += (1.0 / j);\n",
      "    }\n",
      "    return result;\n",
      "}\n",
      "\n",
      "int main() {\n",
      "    // Start time measurement\n",
      "    auto start_time = std::chrono::high_resolution_clock::now();\n",
      "    \n",
      "    // Perform calculation\n",
      "    double result = calculate(100000000, 4, 1) * 4;\n",
      "    \n",
      "    // End time measurement\n",
      "    auto end_time = std::chrono::high_resolution_clock::now();\n",
      "    std::chrono::duration<double> elapsed_seconds = end_time - start_time;\n",
      "\n",
      "    // Output the result with precision\n",
      "    std::cout << \"Result: \" << std::setprecision(12) << result << std::endl;\n",
      "    std::cout << \"Execution Time: \" << std::fixed << std::setprecision(6) << elapsed_seconds.count() << \" seconds\" << std::endl;\n",
      "\n",
      "    return 0;\n",
      "}\n",
      "```"
     ]
    }
   ],
   "source": [
    "optimize_gpt(pi)"
   ]
  },
  {
   "cell_type": "code",
   "execution_count": 14,
   "id": "7c8402ee-2bfb-46a3-9e2b-0deb7709fa10",
   "metadata": {},
   "outputs": [
    {
     "name": "stdout",
     "output_type": "stream",
     "text": [
      "Result: 3.141592658589\n",
      "Execution Time: 10.638783 seconds\n"
     ]
    }
   ],
   "source": [
    "exec(pi)"
   ]
  },
  {
   "cell_type": "code",
   "execution_count": 15,
   "id": "91f21d69-486b-4e4f-bf40-9b5bf0492e12",
   "metadata": {},
   "outputs": [
    {
     "name": "stdout",
     "output_type": "stream",
     "text": [
      "```cpp\n",
      "#include <iostream>\n",
      "#include <iomanip>\n",
      "#include <chrono>\n",
      "\n",
      "double calculate(int iterations, int param1, int param2) {\n",
      "    double result = 1.0;\n",
      "    for (int i = 1; i <= iterations; ++i) {\n",
      "        int j = i * param1 - param2;\n",
      "        result -= (1.0 / j);\n",
      "        j = i * param1 + param2;\n",
      "        result += (1.0 / j);\n",
      "    }\n",
      "    return result;\n",
      "}\n",
      "\n",
      "int main() {\n",
      "    using namespace std::chrono;\n",
      "    auto start_time = high_resolution_clock::now();\n",
      "\n",
      "    double result = calculate(100'000'000, 4, 1) * 4;\n",
      "\n",
      "    auto end_time = high_resolution_clock::now();\n",
      "    duration<double> execution_time = end_time - start_time;\n",
      "\n",
      "    std::cout << std::fixed << std::setprecision(12)\n",
      "              << \"Result: \" << result << std::endl\n",
      "              << \"Execution Time: \" << execution_time.count() << \" seconds\" << std::endl;\n",
      "\n",
      "    return 0;\n",
      "}\n",
      "```"
     ]
    }
   ],
   "source": [
    "optimize_gpt(pi)"
   ]
  },
  {
   "cell_type": "code",
   "execution_count": 16,
   "id": "17b120cb-8065-40e9-a9e6-703166d0ea8e",
   "metadata": {},
   "outputs": [
    {
     "name": "stdout",
     "output_type": "stream",
     "text": [
      "Result: 3.141592658589\n",
      "Execution Time: 0.385336000000 seconds\n"
     ]
    }
   ],
   "source": [
    "# Compile C++ and run the executable\n",
    "\n",
    "! g++ ./optimized_gpt.cpp -o optimized_gpt\n",
    "! ./optimized_gpt\n"
   ]
  },
  {
   "cell_type": "code",
   "execution_count": 17,
   "id": "7876a80e-1a05-47ee-b11f-cfc94596fbab",
   "metadata": {},
   "outputs": [
    {
     "name": "stdout",
     "output_type": "stream",
     "text": [
      "```cpp\n",
      "#include <iostream>\n",
      "#include <iomanip>\n",
      "#include <chrono>\n",
      "\n",
      "double calculate(int iterations, int param1, int param2) {\n",
      "    double result = 1.0;\n",
      "    for (int i = 1; i <= iterations; ++i) {\n",
      "        double j = i * param1 - param2;\n",
      "        result -= (1.0 / j);\n",
      "        j = i * param1 + param2;\n",
      "        result += (1.0 / j);\n",
      "    }\n",
      "    return result;\n",
      "}\n",
      "\n",
      "int main() {\n",
      "    auto start_time = std::chrono::high_resolution_clock::now();\n",
      "    double result = calculate(100000000, 4, 1) * 4;\n",
      "    auto end_time = std::chrono::high_resolution_clock::now();\n",
      "    std::chrono::duration<double> elapsed = end_time - start_time;\n",
      "\n",
      "    std::cout << std::fixed << std::setprecision(12);\n",
      "    std::cout << \"Result: \" << result << std::endl;\n",
      "    std::cout << \"Execution Time: \" << elapsed.count() << \" seconds\" << std::endl;\n",
      "\n",
      "    return 0;\n",
      "}\n",
      "```"
     ]
    }
   ],
   "source": [
    "optimize_deepseek(pi)"
   ]
  },
  {
   "cell_type": "code",
   "execution_count": 18,
   "id": "4997cbd0-4802-4597-a585-1ac6138eaabe",
   "metadata": {},
   "outputs": [
    {
     "name": "stdout",
     "output_type": "stream",
     "text": [
      "Result: 3.141592658589\n",
      "Execution Time: 0.400021000000 seconds\n"
     ]
    }
   ],
   "source": [
    "! g++ ./optimized_deepseek.cpp -o optimized_deepseek\n",
    "! ./optimized_deepseek"
   ]
  },
  {
   "cell_type": "code",
   "execution_count": 138,
   "id": "9d07e29b-82fd-4731-a1ef-62e6c32f24ef",
   "metadata": {},
   "outputs": [],
   "source": [
    "def stream_gpt(python):    \n",
    "    stream = openai.chat.completions.create(model=OPENAI_MODEL, messages=messages_for(python), stream=True)\n",
    "    reply = \"\"\n",
    "    for chunk in stream:\n",
    "        fragment = chunk.choices[0].delta.content or \"\"\n",
    "        reply += fragment\n",
    "        yield reply.replace('```cpp\\n','').replace('```','')"
   ]
  },
  {
   "cell_type": "code",
   "execution_count": 139,
   "id": "b3b5d5a1-8a20-4668-ba5d-ecb32a7c0727",
   "metadata": {},
   "outputs": [],
   "source": [
    "def stream_deepseek(python):    \n",
    "    stream = deepseek_via_openai_client.chat.completions.create(model=DEEPSEEK_MODEL, messages=messages_for(python), stream=True)\n",
    "    reply = \"\"\n",
    "    for chunk in stream:\n",
    "        fragment = chunk.choices[0].delta.content or \"\"\n",
    "        reply += fragment\n",
    "        yield reply.replace('```cpp\\n','').replace('```','')"
   ]
  },
  {
   "cell_type": "code",
   "execution_count": 140,
   "id": "cfe56e85-f278-4146-8129-d9b053aced4e",
   "metadata": {},
   "outputs": [],
   "source": [
    "def optimize(python, model):\n",
    "    if model==\"GPT\":\n",
    "        result = stream_gpt(python)\n",
    "    elif model==\"Deepseek\":\n",
    "        result = stream_deepseek(python)\n",
    "    else:\n",
    "        raise ValueError(\"Unknown model\")\n",
    "    for stream_so_far in result:\n",
    "        yield stream_so_far      "
   ]
  },
  {
   "cell_type": "code",
   "execution_count": 16,
   "id": "4f83a294-cc14-4ea9-ad41-1a36adf83a67",
   "metadata": {},
   "outputs": [
    {
     "name": "stdout",
     "output_type": "stream",
     "text": [
      "* Running on local URL:  http://127.0.0.1:7860\n",
      "\n",
      "To create a public link, set `share=True` in `launch()`.\n"
     ]
    },
    {
     "data": {
      "text/html": [
       "<div><iframe src=\"http://127.0.0.1:7860/\" width=\"100%\" height=\"500\" allow=\"autoplay; camera; microphone; clipboard-read; clipboard-write;\" frameborder=\"0\" allowfullscreen></iframe></div>"
      ],
      "text/plain": [
       "<IPython.core.display.HTML object>"
      ]
     },
     "metadata": {},
     "output_type": "display_data"
    },
    {
     "data": {
      "text/plain": []
     },
     "execution_count": 16,
     "metadata": {},
     "output_type": "execute_result"
    }
   ],
   "source": [
    "with gr.Blocks() as ui:\n",
    "    with gr.Row():\n",
    "        python = gr.Textbox(label=\"Python code:\", lines=10, value=pi)\n",
    "        cpp = gr.Textbox(label=\"C++ code:\", lines=10)\n",
    "    with gr.Row():\n",
    "        model = gr.Dropdown([\"GPT\", \"Deepseek\"], label=\"Select model\", value=\"GPT\")\n",
    "        convert = gr.Button(\"Convert code\")\n",
    "\n",
    "    convert.click(optimize, inputs=[python, model], outputs=[cpp])\n",
    "\n",
    "ui.launch(inbrowser=True)"
   ]
  },
  {
   "cell_type": "code",
   "execution_count": 141,
   "id": "57282163-13cf-4fed-bfea-416c7e086d40",
   "metadata": {},
   "outputs": [],
   "source": [
    "def execute_python(code):\n",
    "    try:\n",
    "        output = io.StringIO()\n",
    "        sys.stdout = output\n",
    "        exec(code)\n",
    "    finally:\n",
    "        sys.stdout = sys.__stdout__\n",
    "    return output.getvalue()"
   ]
  },
  {
   "cell_type": "code",
   "execution_count": 142,
   "id": "b92d7e42-17be-4471-b22d-12edb3ae4e6b",
   "metadata": {},
   "outputs": [],
   "source": [
    "def execute_cpp(code):\n",
    "        write_output(code)\n",
    "        try:\n",
    "            compile_cmd = [\"g++\", \"./optimized.cpp\", \"-o\", \"optimized\"]\n",
    "            compile_result = subprocess.run(compile_cmd, check=True, text=True, capture_output=True)\n",
    "            run_cmd = [\"./optimized\"]\n",
    "            run_result = subprocess.run(run_cmd, check=True, text=True, capture_output=True)\n",
    "            return run_result.stdout\n",
    "        except subprocess.CalledProcessError as e:\n",
    "            return f\"An error occurred:\\n{e.stderr}\""
   ]
  },
  {
   "cell_type": "code",
   "execution_count": 143,
   "id": "0b65835a-c2c7-4190-9f19-a0cf82227352",
   "metadata": {},
   "outputs": [],
   "source": [
    "css = \"\"\"\n",
    ".python {background-color: #306998;}\n",
    ".cpp {background-color: #050;}\n",
    "\"\"\""
   ]
  },
  {
   "cell_type": "code",
   "execution_count": 20,
   "id": "0c2695a5-9765-4c87-afe1-4890d3ec1be8",
   "metadata": {},
   "outputs": [
    {
     "name": "stdout",
     "output_type": "stream",
     "text": [
      "* Running on local URL:  http://127.0.0.1:7861\n",
      "\n",
      "To create a public link, set `share=True` in `launch()`.\n"
     ]
    },
    {
     "data": {
      "text/html": [
       "<div><iframe src=\"http://127.0.0.1:7861/\" width=\"100%\" height=\"500\" allow=\"autoplay; camera; microphone; clipboard-read; clipboard-write;\" frameborder=\"0\" allowfullscreen></iframe></div>"
      ],
      "text/plain": [
       "<IPython.core.display.HTML object>"
      ]
     },
     "metadata": {},
     "output_type": "display_data"
    },
    {
     "data": {
      "text/plain": []
     },
     "execution_count": 20,
     "metadata": {},
     "output_type": "execute_result"
    }
   ],
   "source": [
    "with gr.Blocks(css=css) as ui:\n",
    "    gr.Markdown(\"## Convert code from Python to C++\")\n",
    "    with gr.Row():\n",
    "        python = gr.Textbox(label=\"Python code:\", value=pi, lines=10)\n",
    "        cpp = gr.Textbox(label=\"C++ code:\", lines=10)\n",
    "    with gr.Row():\n",
    "        model = gr.Dropdown([\"GPT\", \"Deepseek\"], label=\"Select model\", value=\"GPT\")\n",
    "    with gr.Row():\n",
    "        convert = gr.Button(\"Convert code\")\n",
    "    with gr.Row():\n",
    "        python_run = gr.Button(\"Run Python\")\n",
    "        cpp_run = gr.Button(\"Run C++\")\n",
    "    with gr.Row():\n",
    "        python_out = gr.TextArea(label=\"Python result:\", elem_classes=[\"python\"])\n",
    "        cpp_out = gr.TextArea(label=\"C++ result:\", elem_classes=[\"cpp\"])\n",
    "\n",
    "    convert.click(optimize, inputs=[python, model], outputs=[cpp])\n",
    "    python_run.click(execute_python, inputs=[python], outputs=[python_out])\n",
    "    cpp_run.click(execute_cpp, inputs=[cpp], outputs=[cpp_out])\n",
    "\n",
    "ui.launch(inbrowser=True)"
   ]
  },
  {
   "cell_type": "code",
   "execution_count": 160,
   "id": "ac7d1604-921d-452c-b5b4-b5dcd0b3fdbc",
   "metadata": {},
   "outputs": [],
   "source": [
    "from huggingface_hub import login, InferenceClient\n",
    "from transformers import TextStreamer, pipeline,AutoTokenizer, AutoModelForCausalLM,TextIteratorStreamer\n",
    "from threading import Thread\n",
    "import torch"
   ]
  },
  {
   "cell_type": "code",
   "execution_count": 145,
   "id": "8cd81608-688f-4e7a-bcb7-8f97d2cd34ab",
   "metadata": {},
   "outputs": [],
   "source": [
    "hf_token = os.environ['HUGGINGFACE_RW_TOKEN']\n",
    "login(hf_token, add_to_git_credential=True)"
   ]
  },
  {
   "cell_type": "code",
   "execution_count": 161,
   "id": "cf1b6d69-0c69-4a21-b58a-a362fb8288d2",
   "metadata": {},
   "outputs": [
    {
     "data": {
      "application/vnd.jupyter.widget-view+json": {
       "model_id": "9c0d15b961aa412b9fcc2870dd36bea4",
       "version_major": 2,
       "version_minor": 0
      },
      "text/plain": [
       "Loading checkpoint shards:   0%|          | 0/4 [00:00<?, ?it/s]"
      ]
     },
     "metadata": {},
     "output_type": "display_data"
    },
    {
     "name": "stderr",
     "output_type": "stream",
     "text": [
      "Some parameters are on the meta device because they were offloaded to the cpu.\n"
     ]
    }
   ],
   "source": [
    "tokenizer = AutoTokenizer.from_pretrained(\"Qwen/CodeQwen1.5-7B-Chat\")\n",
    "Qwen_model = AutoModelForCausalLM.from_pretrained(\"Qwen/CodeQwen1.5-7B-Chat\",\n",
    "    torch_dtype=torch.float16,\n",
    "    device_map=\"auto\")"
   ]
  },
  {
   "cell_type": "code",
   "execution_count": 162,
   "id": "9d8b4c8b-3718-4c76-b8ac-56bbc432f576",
   "metadata": {},
   "outputs": [],
   "source": [
    "messages = messages_for(pi)\n",
    "text = tokenizer.apply_chat_template(messages, tokenize=False, add_generation_prompt=True)"
   ]
  },
  {
   "cell_type": "code",
   "execution_count": 164,
   "id": "748b00c5-0cdf-4eff-bd30-5c8bf331bb4a",
   "metadata": {},
   "outputs": [],
   "source": [
    "tokenizer.pad_token = tokenizer.eos_token\n",
    "model_inputs = tokenizer([text], return_tensors=\"pt\").to('cuda')\n"
   ]
  },
  {
   "cell_type": "code",
   "execution_count": 165,
   "id": "059f61cd-62b2-4db6-8fd3-ab2a828df680",
   "metadata": {},
   "outputs": [],
   "source": [
    "if 'token_type_ids' in model_inputs:\n",
    "    del model_inputs['token_type_ids']"
   ]
  },
  {
   "cell_type": "code",
   "execution_count": 166,
   "id": "afda0249-4f48-415c-a794-a517f98e80db",
   "metadata": {},
   "outputs": [],
   "source": [
    "streamer = TextStreamer(tokenizer, skip_prompt=True, skip_special_tokens=True)"
   ]
  },
  {
   "cell_type": "code",
   "execution_count": 167,
   "id": "30466dd9-7228-4073-82cb-eff9a6658631",
   "metadata": {},
   "outputs": [
    {
     "name": "stdout",
     "output_type": "stream",
     "text": [
      "Here is the C++ code that reimplements the Python code:\n",
      "\n",
      "```cpp\n",
      "#include <iostream>\n",
      "#include <iomanip>\n",
      "#include <chrono>\n",
      "\n",
      "double calculate(int iterations, int param1, int param2) {\n",
      "    double result = 1.0;\n",
      "    for (int i = 1; i <= iterations; ++i) {\n",
      "        int j = i * param1 - param2;\n",
      "        result -= 1.0 / j;\n",
      "        j = i * param1 + param2;\n",
      "        result += 1.0 / j;\n",
      "    }\n",
      "    return result;\n",
      "}\n",
      "\n",
      "int main() {\n",
      "    auto start_time = std::chrono::high_resolution_clock::now();\n",
      "    double result = calculate(100000000, 4, 1) * 4;\n",
      "    auto end_time = std::chrono::high_resolution_clock::now();\n",
      "\n",
      "    std::cout << \"Result: \" << std::setprecision(12) << result << std::endl;\n",
      "    std::cout << \"Execution Time: \" << std::chrono::duration<double>(end_time - start_time).count() << \" seconds\" << std::endl;\n",
      "\n",
      "    return 0;\n",
      "}\n",
      "```\n",
      "\n",
      "This C++ code does the same thing as the Python code: it calc\n"
     ]
    },
    {
     "data": {
      "text/plain": [
       "tensor([[    3, 10326,  1396,  4260,  1789,  1748, 13710,  1726,  1692,  1698,\n",
       "         16784, 18773,  4214,  1672,  2522,  4187,  1718,  4778,  1713,  1748,\n",
       "          8433, 35321,    39, 35342, 28432,  2151,  1749,  1718,  4778,  4214,\n",
       "         35382,  2243,  5702,  1840,  3448,  1716,  1679,  1858,  1821,  3403,\n",
       "          2050, 12160,  2037,  2096, 19236,  5702, 35342,  1751,  1718,  4778,\n",
       "          4630,  3945,  1676,  6496,  1748, 13433,  5723,  1672,  1651, 18455,\n",
       "          3335,  2038, 35342,     4,  1396,     3,  5435,  1396, 35368,  2182,\n",
       "          5334,  1820, 18773,  4214,  1672,  1718,  4778,  1749,  1651, 18455,\n",
       "          3335,  9423,  1726, 13321, 13433,  5723,  1672,  1651,  3373,  2038,\n",
       "         35342, 28432,  2151,  1749,  1718,  4778,  4214, 35382,  1858,  1821,\n",
       "          7565,  1902,  2095,  2037,  2096,  1643,  2780,  5702, 35342,  9863,\n",
       "          5018,  1676,  2697,  5484,  1676,  5532,  1968,  2308,  2036, 28530,\n",
       "         35342, 12869,  1676,  2184,  4922,  1857,  5047,  1718,  4778, 15106,\n",
       "          2313,  1746,  1994,  3543,  1904, 35342,    30,  1396, 10553,  2038,\n",
       "            30,  3138, 12855, 35354,  3228,  1984, 35343,  3511, 35381, 35343,\n",
       "          3511, 35385,  3405,  1396,    32,  7462,  1813, 35321, 35381, 35342,\n",
       "         35384,  1396,    32,  2935,  1994,  1672,  3954, 35354, 35381, 35343,\n",
       "         25596, 35402, 35381,  3405,  1396,    33, 35374,  1813,  1994,  2016,\n",
       "          3511, 35381,  1923,  3511, 35385,  1396,    33,  7462, 29479,  1737,\n",
       "         35381, 35376, 35374, 35353,  1396,    33, 35374,  1813,  1994,  2016,\n",
       "          3511, 35381,  2279,  3511, 35385,  1396,    33,  7462,  7946,  1737,\n",
       "         35381, 35376, 35374, 35353,  1396,    32,  3166,  2475,    30,  6896,\n",
       "         35356,  3522,  1813,  2038, 35342,  3522,  2296,  1396,  7462,  1813,\n",
       "         12855, 35354,   128, 35356,  1118, 35356,  1118, 35343, 35321, 35404,\n",
       "         35343, 35321, 35381, 35353,  2016, 35321, 35404,  1396,  1768, 35356,\n",
       "          3522,  1813,  2038, 35342,  3522,  2296,    30,  5134, 35354, 35338,\n",
       "         35360,  8839, 35371,  1922,  7462, 33359,    40, 35338, 35349,  3701,\n",
       "          1396,  5134, 35354, 35338, 35360, 31700,  7525, 35371,  1922, 35354,\n",
       "          1768, 35356,  3522,  1923,  2470, 35356,  3522,  3405, 35342, 35408,\n",
       "         35338, 35349,  8553,  3701,  1396,     4,  1396,     3,  1864, 15504,\n",
       "          1396, 18528,  1709,  1651,  1718,  4778,  4214,  1726,  1692,  1698,\n",
       "         16784,  1651, 18773,  4214, 35371,    30, 18414, 35425, 19318,  1396,\n",
       "         35406,  4922,  2100, 35325, 33228, 35393,  1396, 35406,  4922,  2100,\n",
       "         35325,  3543,  1904, 35393,  1396, 35406,  4922,  2100, 11779, 35326,\n",
       "         35393,    30, 11170, 12855, 35354,  1941, 25596, 35343,  2308,  3511,\n",
       "         35381, 35343,  2308,  3511, 35385, 35353,  1922,  1396,    32, 11170,\n",
       "          2475,  1813, 35321, 35381, 35342, 35384, 35382,  1396,    32,  2935,\n",
       "          1737,  1941,  1994,  1813, 35321, 35381, 35382,  1994, 14202, 25596,\n",
       "         35382, 13846, 35325, 35353,  1922,  1396,    33,  1941,  1834,  1813,\n",
       "          1994,  2016,  3511, 35381,  1923,  3511, 35385, 35382,  1396,    33,\n",
       "          7462, 29479, 35321, 35381, 35342, 35384,  2539,  1834, 35382,  1396,\n",
       "            33, 35374,  1813,  1994,  2016,  3511, 35381,  2279,  3511, 35385,\n",
       "         35382,  1396,    33,  7462,  7946, 35321, 35381, 35342, 35384,  2539,\n",
       "          1834, 35382,  1396,    32, 35349,  1396,    32,  3166,  2475, 35382,\n",
       "          1396, 35349,    30,  1941,  2786,  2296,  1922,  1396,    32, 15661,\n",
       "          2470, 35356,  3522,  1813,  5761,  2483, 11779, 35326,  2483, 10152,\n",
       "         35356, 25345, 35356, 16865,  2483,  4710,  2866,  1396,    32, 11170,\n",
       "          2475,  1813, 12855, 35354,   128,  1118,  1118, 35343, 35321, 35404,\n",
       "         35343, 35321, 35381, 35353,  2016, 35321, 35404, 35382,  1396,    32,\n",
       "         15661,  2319, 35356,  3522,  1813,  5761,  2483, 11779, 35326,  2483,\n",
       "         10152, 35356, 25345, 35356, 16865,  2483,  4710,  2866,    30,    32,\n",
       "          8521,  2483, 24630,  5850,  1784,  8839, 35371,  1784,  5850,  5761,\n",
       "          2483,  2598, 15629,  2872, 35354,    40, 35353,  5850,  2475,  5850,\n",
       "          5761,  2483, 28662, 35382,  1396,    32,  8521,  2483, 24630,  5850,\n",
       "          1784, 31700,  7525, 35371,  1784,  5850,  5761,  2483, 11779, 35326,\n",
       "          2483, 31905, 35403, 11170,  9195,  1768, 35356,  3522,  1923,  2470,\n",
       "         35356,  3522,  2000,  7253,  2296,  5850,  1784,  8553, 35360,  5850,\n",
       "          5761,  2483, 28662, 35382,    30,    32,  3166, 35321, 35384, 35382,\n",
       "          1396, 35349,  1396, 18414, 35425,    30,  5223,  1718,  4778,  4214,\n",
       "          2493,  1651,  2563,  3294,  1746,  1651, 18773,  4214, 35371,  1750,\n",
       "          4524]], device='cuda:0')"
      ]
     },
     "execution_count": 167,
     "metadata": {},
     "output_type": "execute_result"
    }
   ],
   "source": [
    "Qwen_model.generate(\n",
    "    **model_inputs,\n",
    "    streamer=streamer,\n",
    "    max_new_tokens=300,\n",
    "    do_sample=False,\n",
    "    temperature=0.7\n",
    ")"
   ]
  },
  {
   "cell_type": "code",
   "execution_count": null,
   "id": "915d9e7e-e491-4156-bb5a-0e5c2247b80a",
   "metadata": {},
   "outputs": [],
   "source": [
    "generated_ids = Qwen_model.generate(\n",
    "    model_inputs.input_ids,\n",
    "    max_new_tokens=512\n",
    ")\n",
    "generated_ids = [\n",
    "    output_ids[len(input_ids):] for input_ids, output_ids in zip(model_inputs.input_ids, generated_ids)\n",
    "] "
   ]
  },
  {
   "cell_type": "code",
   "execution_count": 71,
   "id": "3995e24e-e581-40ac-8ab4-6816cca017f5",
   "metadata": {},
   "outputs": [],
   "source": [
    "response = tokenizer.batch_decode(model_inputs, skip_special_tokens=True)[0]"
   ]
  },
  {
   "cell_type": "code",
   "execution_count": 72,
   "id": "ed95582a-bfa5-4bf8-91f8-926db5964e8d",
   "metadata": {},
   "outputs": [
    {
     "data": {
      "text/plain": [
       "'Here is the C++ code that reimplements the Python code:\\n\\n```cpp\\n#include <iostream>\\n#include <iomanip>\\n#include <chrono>\\n\\ndouble calculate(int iterations, int param1, int param2) {\\n    double result = 1.0;\\n    for (int i = 1; i <= iterations; ++i) {\\n        int j = i * param1 - param2;\\n        result -= 1.0 / j;\\n        j = i * param1 + param2;\\n        result += 1.0 / j;\\n    }\\n    return result;\\n}\\n\\nint main() {\\n    auto start_time = std::chrono::high_resolution_clock::now();\\n    double result = calculate(100000000, 4, 1) * 4;\\n    auto end_time = std::chrono::high_resolution_clock::now();\\n\\n    std::cout << \"Result: \" << std::setprecision(12) << result << std::endl;\\n    std::cout << \"Execution Time: \" << std::chrono::duration<double>(end_time - start_time).count() << \" seconds\" << std::endl;\\n\\n    return 0;\\n}\\n```\\n\\nThis C++ code does the same thing as the Python code: it calculates a mathematical function and measures the execution time. The main differences are:\\n\\n1. The function `calculate` takes `int` parameters instead of `float` or `double` parameters. This is because `int` is a built-in type in C++ that can hold large values, which is necessary for the calculations in the function.\\n\\n2. The `main` function uses `std::chrono` to measure the execution time of the `calculate` function. This is a more accurate way to measure the execution time than using `time.time()` in Python.\\n\\n3. The `std::setprecision(12)` function is used to print the result with 12 decimal places. This is equivalent to `f\"Result: {result:.12f}\"` in Python.\\n\\n4. The `main` function calls `calculate` with the same parameters as the Python code, and then prints the result and execution time. This is equivalent to the Python code `print(f\"Result: {'"
      ]
     },
     "execution_count": 72,
     "metadata": {},
     "output_type": "execute_result"
    }
   ],
   "source": [
    "response"
   ]
  },
  {
   "cell_type": "code",
   "execution_count": null,
   "id": "a3c3384d-3769-4d7f-969a-c1445137696e",
   "metadata": {},
   "outputs": [],
   "source": []
  }
 ],
 "metadata": {
  "kernelspec": {
   "display_name": "Python 3 (ipykernel)",
   "language": "python",
   "name": "python3"
  },
  "language_info": {
   "codemirror_mode": {
    "name": "ipython",
    "version": 3
   },
   "file_extension": ".py",
   "mimetype": "text/x-python",
   "name": "python",
   "nbconvert_exporter": "python",
   "pygments_lexer": "ipython3",
   "version": "3.11.11"
  }
 },
 "nbformat": 4,
 "nbformat_minor": 5
}
