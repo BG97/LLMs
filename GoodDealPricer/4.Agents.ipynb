{
 "cells": [
  {
   "cell_type": "code",
   "execution_count": 1,
   "id": "10d1d259-f8d3-401d-8f49-790d5430b0c5",
   "metadata": {},
   "outputs": [],
   "source": [
    "from dotenv import load_dotenv\n",
    "from agents.messaging_agent import MessagingAgent"
   ]
  },
  {
   "cell_type": "code",
   "execution_count": 2,
   "id": "6b0a0b10-1e7d-4476-b83f-6a35ab362764",
   "metadata": {},
   "outputs": [],
   "source": [
    "load_dotenv(override=True)\n",
    "DB = \"products_vectorstore\""
   ]
  },
  {
   "cell_type": "code",
   "execution_count": 3,
   "id": "bcb37702-63de-4b4a-ab7b-8f0a5f6463da",
   "metadata": {},
   "outputs": [],
   "source": [
    "agent = MessagingAgent()"
   ]
  },
  {
   "cell_type": "code",
   "execution_count": 5,
   "id": "851bce0f-80ed-4353-ae04-1d8c7b6a824a",
   "metadata": {},
   "outputs": [],
   "source": [
    "agent.push(\"MASSIVE NEWS!!!\")"
   ]
  },
  {
   "cell_type": "code",
   "execution_count": 6,
   "id": "cf4f20a1-eab7-4fe0-a1cd-eeb563fd4d0a",
   "metadata": {},
   "outputs": [],
   "source": [
    "import chromadb\n",
    "DB = \"products_vectorstore\"\n",
    "client = chromadb.PersistentClient(path=DB)\n",
    "collection = client.get_or_create_collection('products')\n",
    "from agents.planning_agent import PlanningAgent"
   ]
  },
  {
   "cell_type": "code",
   "execution_count": 7,
   "id": "da81f85d-5914-4590-8fc0-31f955254160",
   "metadata": {},
   "outputs": [],
   "source": [
    "planner = PlanningAgent(collection)"
   ]
  },
  {
   "cell_type": "code",
   "execution_count": 8,
   "id": "b6901adb-5e07-45a2-8827-73cb23d5f953",
   "metadata": {},
   "outputs": [
    {
     "data": {
      "text/plain": [
       "Opportunity(deal=Deal(product_description='The Vizio V4K50M-08 is a 50-inch 4K HDR LED UHD Smart TV that delivers stunning picture quality and vibrant colors. With a resolution of 3840x2160, it supports HDR 10+ for an enhanced viewing experience. This smart TV is compatible with voice assistants like Alexa and Google Assistant, allowing for hands-free control. It also includes multiple HDMI ports for easy connectivity with gaming consoles and streaming devices, making it an excellent choice for your home entertainment setup.', price=214.0, url='https://www.dealnews.com/products/Vizio/Vizio-V4-K50-M-08-50-4-K-HDR-LED-UHD-Smart-TV/475625.html?iref=rss-c142'), estimate=478.616618302903, discount=264.616618302903)"
      ]
     },
     "execution_count": 8,
     "metadata": {},
     "output_type": "execute_result"
    }
   ],
   "source": [
    "planner.plan()"
   ]
  },
  {
   "cell_type": "code",
   "execution_count": null,
   "id": "37085eb3-6e8f-4bf1-906d-2e8edfd9ea9c",
   "metadata": {},
   "outputs": [],
   "source": []
  }
 ],
 "metadata": {
  "kernelspec": {
   "display_name": "Python 3 (ipykernel)",
   "language": "python",
   "name": "python3"
  },
  "language_info": {
   "codemirror_mode": {
    "name": "ipython",
    "version": 3
   },
   "file_extension": ".py",
   "mimetype": "text/x-python",
   "name": "python",
   "nbconvert_exporter": "python",
   "pygments_lexer": "ipython3",
   "version": "3.11.11"
  }
 },
 "nbformat": 4,
 "nbformat_minor": 5
}
