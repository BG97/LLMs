{
 "cells": [
  {
   "cell_type": "code",
   "execution_count": 1,
   "id": "798878dd-81bb-4d71-a42a-9fb07905aa59",
   "metadata": {},
   "outputs": [],
   "source": [
    "# imports\n",
    "\n",
    "import os\n",
    "import json\n",
    "from dotenv import load_dotenv\n",
    "from openai import OpenAI\n",
    "from agents.deals import ScrapedDeal, DealSelection"
   ]
  },
  {
   "cell_type": "code",
   "execution_count": 2,
   "id": "da7b8d6a-9412-4141-8d67-d816c750bf82",
   "metadata": {},
   "outputs": [],
   "source": [
    "# Initialize and constants\n",
    "\n",
    "load_dotenv(override=True)\n",
    "os.environ['OPENAI_API_KEY'] = os.getenv('OPENAI_API_KEY', 'your-key-if-not-using-env')\n",
    "MODEL = 'gpt-4o-mini'\n",
    "openai = OpenAI()"
   ]
  },
  {
   "cell_type": "code",
   "execution_count": 3,
   "id": "182e4cf1-c0da-4090-a406-abbedd6ee095",
   "metadata": {},
   "outputs": [
    {
     "name": "stderr",
     "output_type": "stream",
     "text": [
      "100%|████████████████████████████████████████████| 5/5 [00:50<00:00, 10.04s/it]\n"
     ]
    }
   ],
   "source": [
    "deals = ScrapedDeal.fetch(show_progress=True)"
   ]
  },
  {
   "cell_type": "code",
   "execution_count": 4,
   "id": "8ce888e7-3983-4cc9-b223-5bb68047801c",
   "metadata": {},
   "outputs": [
    {
     "data": {
      "text/plain": [
       "50"
      ]
     },
     "execution_count": 4,
     "metadata": {},
     "output_type": "execute_result"
    }
   ],
   "source": [
    "len(deals)"
   ]
  },
  {
   "cell_type": "code",
   "execution_count": 6,
   "id": "b35adde0-3b82-45d8-a0a8-cd27bd16d0f8",
   "metadata": {},
   "outputs": [
    {
     "data": {
      "text/plain": [
       "\"Title: Good 'n' Fun Triple Flavor Kabobs 4-oz. Bag for $3 + free shipping w/ $35\\nDetails: Get 50 cents off this best seller. Opt for store pickup (where available) tp dodge the $6.99 shipping fee or orders of $35 or more ships for free. Buy Now at Walmart\\nFeatures: \\nURL: https://www.dealnews.com/Good-n-Fun-Triple-Flavor-Kabobs-4-oz-Bag-for-3-free-shipping-w-35/21736382.html?iref=rss-c196\""
      ]
     },
     "execution_count": 6,
     "metadata": {},
     "output_type": "execute_result"
    }
   ],
   "source": [
    "deals[44].describe()"
   ]
  },
  {
   "cell_type": "code",
   "execution_count": 11,
   "id": "b1d9a463-d472-4489-90fb-6d370d7ad245",
   "metadata": {},
   "outputs": [],
   "source": [
    "system_prompt = \"\"\"You identify and summarize the 5 most detailed deals from a list, by selecting deals that have the most detailed, high quality description and the most clear price.\n",
    "Respond strictly in JSON with no explanation, using this format. You should provide the price as a number derived from the description. If the price of a deal isn't clear, do not include that deal in your response.\n",
    "Most important is that you respond with the 5 deals that have the most detailed product description with price. It's not important to mention the terms of the deal; most important is a thorough description of the product.\n",
    "Be careful with products that are described as \"$XXX off\" or \"reduced by $XXX\" - this isn't the actual price of the product. Only respond with products when you are highly confident about the price. \n",
    "\n",
    "{\"deals\": [\n",
    "    {\n",
    "        \"product_description\": \"Your clearly expressed summary of the product in 4-5 sentences. Details of the item are much more important than why it's a good deal. Avoid mentioning discounts and coupons; focus on the item itself. There should be a paragpraph of text for each item you choose.\",\n",
    "        \"price\": 99.99,\n",
    "        \"url\": \"the url as provided\"\n",
    "    },\n",
    "    ...\n",
    "]}\"\"\""
   ]
  },
  {
   "cell_type": "code",
   "execution_count": 7,
   "id": "3a040873-ed28-4a0c-a3cc-b5a98845fb55",
   "metadata": {},
   "outputs": [],
   "source": [
    "user_prompt = \"\"\"Respond with the most promising 5 deals from this list, selecting those which have the most detailed, high quality product description and a clear price.\n",
    "Respond strictly in JSON, and only JSON. You should rephrase the description to be a summary of the product itself, not the terms of the deal.\n",
    "Remember to respond with a paragraph of text in the product_description field for each of the 5 items that you select.\n",
    "Be careful with products that are described as \"$XXX off\" or \"reduced by $XXX\" - this isn't the actual price of the product. Only respond with products when you are highly confident about the price. \n",
    "\n",
    "Deals:\n",
    "\n",
    "\"\"\"\n",
    "user_prompt += '\\n\\n'.join([deal.describe() for deal in deals])"
   ]
  },
  {
   "cell_type": "code",
   "execution_count": 8,
   "id": "383b0801-2e65-4cab-858b-a8d847bf7e70",
   "metadata": {},
   "outputs": [
    {
     "name": "stdout",
     "output_type": "stream",
     "text": [
      "Respond with the most promising 5 deals from this list, selecting those which have the most detailed, high quality product description and a clear price.\n",
      "Respond strictly in JSON, and only JSON. You should rephrase the description to be a summary of the product itself, not the terms of the deal.\n",
      "Remember to respond with a paragraph of text in the product_description field for each of the 5 items that you select.\n",
      "Be careful with products that are described as \"$XXX off\" or \"reduced by $XXX\" - this isn't the actual price of the product. Only respond with products when you are highly confident about the price. \n",
      "\n",
      "Deals:\n",
      "\n",
      "Title: Refurb Apple Watch SE 40mm GPS Smartwatch for $95 + free shipping\n",
      "Details: That's 68% off and the lowest price we've seen for this model in any condition. A 1-year Allstate Warranty applies. Buy Now at eBay\n",
      "Features: \n",
      "URL: https://www.dealnews.com/products/Apple/Apple-Watch-SE-40-mm-GPS-Smartwatch/489595.html?iref=rss-c142\n",
      "\n",
      "Title: Unlocked Samsung Galaxy S25+ Android Smartphones: $150 off or up to $530 off w/ trade + free shipping\n",
      "Details: Samsung's current offer on this phone is up to $530 credit when you trade in your current device, or get $150 off with no trade required. That puts starting prices at $850 after the discount. Shop Now at Samsung\n",
      "Features: \n",
      "URL: https://www.dealnews.com/Unlocked-Samsung-Galaxy-S25-Android-Smartphones-150-off-or-up-to-530-off-w-trade-free-shipping/21736434.html?iref=rss-c142\n",
      "\n",
      "Title: Samsung Galaxy Buds3 Noise Cancelling In-Ear Headphones: $40 off or up to $100 off w/ trade + free shipping\n",
      "Details: Save $40 with no trade required. Or trade your current audio device, and get up to $100 off, depending on the value of your trade. That puts starting prices at $80. Shop Now at Samsung\n",
      "Features: \n",
      "URL: https://www.dealnews.com/Samsung-Galaxy-Buds3-Noise-Cancelling-In-Ear-Headphones-40-off-or-up-to-100-off-w-trade-free-shipping/21736428.html?iref=rss-c142\n",
      "\n",
      "Title: Samsung Galaxy AI Smart Ring w/ $100 Best Buy Gift Card for\n"
     ]
    }
   ],
   "source": [
    "print(user_prompt[:2000])"
   ]
  },
  {
   "cell_type": "code",
   "execution_count": 9,
   "id": "53133641-c69d-4036-807c-472800689913",
   "metadata": {},
   "outputs": [],
   "source": [
    "def get_recommendations():\n",
    "    completion = openai.beta.chat.completions.parse(\n",
    "        model=\"gpt-4o-mini\",\n",
    "        messages=[\n",
    "            {\"role\": \"system\", \"content\": system_prompt},\n",
    "            {\"role\": \"user\", \"content\": user_prompt}\n",
    "      ],\n",
    "        response_format=DealSelection\n",
    "    )\n",
    "    result = completion.choices[0].message.parsed\n",
    "    return result"
   ]
  },
  {
   "cell_type": "code",
   "execution_count": 12,
   "id": "d00bbd1e-0288-46ab-bd94-d935cc69d898",
   "metadata": {},
   "outputs": [],
   "source": [
    "result = get_recommendations()"
   ]
  },
  {
   "cell_type": "code",
   "execution_count": 13,
   "id": "2e175988-78f3-4117-a8c6-74d5a9d9063a",
   "metadata": {},
   "outputs": [
    {
     "data": {
      "text/plain": [
       "5"
      ]
     },
     "execution_count": 13,
     "metadata": {},
     "output_type": "execute_result"
    }
   ],
   "source": [
    "len(result.deals)"
   ]
  },
  {
   "cell_type": "code",
   "execution_count": 14,
   "id": "fd955f0a-a031-41af-a159-f9c7e7d027cd",
   "metadata": {},
   "outputs": [
    {
     "data": {
      "text/plain": [
       "Deal(product_description='The Samsung Galaxy AI Smart Ring is a cutting-edge health and fitness companion that tracks various metrics, including workouts, sleep, and heart rate, all within a compact ring design. With a 7-day battery life, this smart ring provides continuous health monitoring and insights into your well-being. It comes bundled with a $100 Best Buy gift card, offering fantastic value for those looking to enhance their health tracking capabilities.', price=300.0, url='https://www.dealnews.com/products/Samsung/Samsung-Galaxy-AI-Smart-Ring/477024.html?iref=rss-c142')"
      ]
     },
     "execution_count": 14,
     "metadata": {},
     "output_type": "execute_result"
    }
   ],
   "source": [
    "result.deals[1]"
   ]
  },
  {
   "cell_type": "code",
   "execution_count": 15,
   "id": "a2f077f3-62d9-4afa-8fe8-fc430da8425e",
   "metadata": {},
   "outputs": [],
   "source": [
    "from agents.scanner_agent import ScannerAgent"
   ]
  },
  {
   "cell_type": "code",
   "execution_count": 16,
   "id": "582dfc8d-68dc-4c55-b726-fcdcaca01b9c",
   "metadata": {},
   "outputs": [],
   "source": [
    "agent = ScannerAgent()\n",
    "result = agent.scan()"
   ]
  },
  {
   "cell_type": "code",
   "execution_count": 17,
   "id": "fd2b0c62-db4e-4b7b-bd87-178a0893fc61",
   "metadata": {},
   "outputs": [
    {
     "data": {
      "text/plain": [
       "DealSelection(deals=[Deal(product_description='This Refurbished Apple Watch SE features a lightweight design perfect for everyday use and encompasses a variety of functions catering to your fitness and health needs. The watch includes GPS capabilities, letting you track your workouts and manage notifications from your smartphone without having to carry it along. It boasts a clear display to provide you with all the necessary information at a glance. With a year-long warranty from Allstate, this smartwatch is a dependable companion for anyone looking to maintain a healthy lifestyle.', price=95.0, url='https://www.dealnews.com/products/Apple/Apple-Watch-SE-40-mm-GPS-Smartwatch/489595.html?iref=rss-c142'), Deal(product_description='The certified refurbished Sonos Era 100 is a Bluetooth Smart Speaker that delivers impressive sound quality and versatility with Alexa integration for voice control. It supports multiple connectivity options including Bluetooth and Wi-Fi, ensuring seamless streaming from your devices. The speaker employs Trueplay tuning technology, adjusting the sound based on the acoustics of your environment for an optimal listening experience. This model comes with a 2-year Allstate warranty, providing extra peace of mind for your purchase.', price=159.0, url='https://www.dealnews.com/products/Sonos/Sonos-Era-100-Bluetooth-Smart-Speaker/488007.html?iref=rss-f1912'), Deal(product_description='Experience superior cleaning with the Certified Refurb Roborock Q Revo Robot Vacuum and Mop, designed to autonomously vacuum and mop your floors for a thorough clean. This model features advanced navigation technology, ensuring it can easily maneuver around your home and avoid obstacles. The vacuum comes equipped with a high-capacity water tank and mop function for an effective clean on hard surfaces. A 2-year Allstate warranty accompanies this model, verifying its reliability and quality.', price=331.0, url='https://www.dealnews.com/products/Roborock/Roborock-Q-Revo-Robot-Vacuum-and-Mop/482472.html?iref=rss-f1912'), Deal(product_description='The Eco-Worthy 3,584Wh 12V 280Ah LiFePO4 Bluetooth Lithium Battery offers a powerful energy solution for solar installs or powering heavy-duty appliances off the grid. This battery comes with a built-in Bluetooth monitoring system, allowing users to easily track battery health and performance through a smartphone app. Its installation is straightforward, and it comes with a charger for convenience. This product is ideal for anyone looking to enhance their off-grid performance and storage capabilities.', price=374.0, url='https://www.dealnews.com/Eco-Worthy-3-584-Wh-12-V-280-Ah-Li-Fe-PO4-Bluetooth-Lithium-Battery-w-Charger-for-374-free-shipping/21735965.html?iref=rss-c142'), Deal(product_description=\"The Samsung Galaxy AI Smart Ring is a sophisticated health tracking device that monitors various health metrics including workouts and sleep patterns. It features advanced biometric sensors and a long-lasting battery for continuous monitoring without frequent recharges. The device's sleek design is easily wearable all day, making it a perfect companion for fitness and health enthusiasts. The inclusion of a $100 Best Buy gift card makes this deal particularly appealing, offering added value beyond the primary product.\", price=300.0, url='https://www.dealnews.com/products/Samsung/Samsung-Galaxy-AI-Smart-Ring/477024.html?iref=rss-c142')])"
      ]
     },
     "execution_count": 17,
     "metadata": {},
     "output_type": "execute_result"
    }
   ],
   "source": [
    "result"
   ]
  },
  {
   "cell_type": "code",
   "execution_count": null,
   "id": "27cda092-f365-45af-9400-e5c6b0638c04",
   "metadata": {},
   "outputs": [],
   "source": []
  }
 ],
 "metadata": {
  "kernelspec": {
   "display_name": "Python 3 (ipykernel)",
   "language": "python",
   "name": "python3"
  },
  "language_info": {
   "codemirror_mode": {
    "name": "ipython",
    "version": 3
   },
   "file_extension": ".py",
   "mimetype": "text/x-python",
   "name": "python",
   "nbconvert_exporter": "python",
   "pygments_lexer": "ipython3",
   "version": "3.11.11"
  }
 },
 "nbformat": 4,
 "nbformat_minor": 5
}
