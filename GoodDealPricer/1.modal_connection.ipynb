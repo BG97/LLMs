{
 "cells": [
  {
   "cell_type": "code",
   "execution_count": 1,
   "id": "14c575c1-3327-4faa-bc29-d06e060108ae",
   "metadata": {},
   "outputs": [],
   "source": [
    "# Just one import to start with!!\n",
    "\n",
    "import modal"
   ]
  },
  {
   "cell_type": "code",
   "execution_count": 3,
   "id": "45ea69b0-2126-4640-9d3a-3c99f15288d4",
   "metadata": {
    "scrolled": true
   },
   "outputs": [
    {
     "name": "stdout",
     "output_type": "stream",
     "text": [
      "⠋ Waiting for authentication in the web browser\n",
      "The web browser should have opened for you to authenticate and get an API \n",
      "token.\n",
      "If it didn't, please copy this URL into your web browser manually:\n",
      "\n",
      "⠋ Waiting for authentication in the web browser\n",
      "https://modal.com/token-flow/tf-FDBEz5buoQONVvVT1NGTO7\n",
      "\n",
      "⠋ Waiting for authentication in the web browser\n",
      "⠋ Waiting for authentication in the web browser\n",
      "\n",
      "⠋ Waiting for token flow to complete...\n",
      "⠙ Waiting for token flow to complete...\n",
      "⠹ Waiting for token flow to complete...\n",
      "⠸ Waiting for token flow to complete...\n",
      "⠼ Waiting for token flow to complete...\n",
      "⠴ Waiting for token flow to complete...\n",
      "⠧ Waiting for token flow to complete...\n",
      "⠇ Waiting for token flow to complete...\n",
      "⠏ Waiting for token flow to complete...\n",
      "⠋ Waiting for token flow to complete...\n",
      "⠙ Waiting for token flow to complete...\n",
      "⠹ Waiting for token flow to complete...\n",
      "⠼ Waiting for token flow to complete...\n",
      "⠴ Waiting for token flow to complete...\n",
      "⠦ Waiting for token flow to complete...\n",
      "⠧ Waiting for token flow to complete...\n",
      "⠧ Waiting for token flow to complete...\n",
      "\n",
      "Web authentication finished successfully!\n",
      "Token is connected to the benny-guan97 workspace.\n",
      "Verifying token against https://api.modal.com\n",
      "Token verified successfully!\n",
      "⠋ Storing token\n",
      "\n",
      "Token written to C:\\Users\\benny/.modal.toml in profile benny-guan97.\n"
     ]
    }
   ],
   "source": [
    "# Remove the '# ' from the next line and run the cell\n",
    "\n",
    "\n",
    "!modal setup"
   ]
  },
  {
   "cell_type": "code",
   "execution_count": 4,
   "id": "33eeae18-153f-491c-bdf8-4ecf378660f5",
   "metadata": {},
   "outputs": [],
   "source": [
    "from hello import app, hello, hello_europe"
   ]
  },
  {
   "cell_type": "code",
   "execution_count": 5,
   "id": "81c07521-0d44-4e48-a4fd-6c5c386aad0e",
   "metadata": {},
   "outputs": [
    {
     "data": {
      "text/plain": [
       "'Hello from South Plainfield, New Jersey, US!!'"
      ]
     },
     "execution_count": 5,
     "metadata": {},
     "output_type": "execute_result"
    }
   ],
   "source": [
    "with app.run():\n",
    "    reply=hello.local()\n",
    "reply"
   ]
  },
  {
   "cell_type": "code",
   "execution_count": 6,
   "id": "dc7dd28c-4d65-4428-8eb8-61777a88b0bd",
   "metadata": {},
   "outputs": [
    {
     "data": {
      "text/plain": [
       "'Hello from Ashburn, Virginia, US!!'"
      ]
     },
     "execution_count": 6,
     "metadata": {},
     "output_type": "execute_result"
    }
   ],
   "source": [
    "with app.run():\n",
    "    reply=hello.remote()\n",
    "reply"
   ]
  },
  {
   "cell_type": "code",
   "execution_count": 7,
   "id": "ce52f583-a2c5-4fda-ad1b-60b537ab42c9",
   "metadata": {},
   "outputs": [
    {
     "name": "stderr",
     "output_type": "stream",
     "text": [
      "D:\\Learning Square\\LLMs\\Untitled Folder\\llama.py:14: DeprecationError: 2025-02-03: Modal will stop implicitly adding local Python modules to the Image (\"automounting\") in a future update. The following modules need to be explicitly added for future compatibility:\n",
      "* hello\n",
      "\n",
      "e.g.:\n",
      "image_with_source = my_image.add_local_python_source(\"hello\")\n",
      "\n",
      "For more information, see https://modal.com/docs/guide/modal-1-0-migration\n",
      "  @app.function(image=image, secrets=secrets, gpu=GPU, timeout=1800)\n"
     ]
    }
   ],
   "source": [
    "from llama import app, generate"
   ]
  },
  {
   "cell_type": "code",
   "execution_count": 9,
   "id": "e4ccfe85-712f-4812-81c8-79932c4e6da7",
   "metadata": {
    "scrolled": true
   },
   "outputs": [
    {
     "data": {
      "application/vnd.jupyter.widget-view+json": {
       "model_id": "e2d69806b8e847b7a491c2b40233662b",
       "version_major": 2,
       "version_minor": 0
      },
      "text/plain": [
       "Output()"
      ]
     },
     "metadata": {},
     "output_type": "display_data"
    },
    {
     "data": {
      "text/html": [
       "<pre style=\"white-space:pre;overflow-x:auto;line-height:normal;font-family:Menlo,'DejaVu Sans Mono',consolas,'Courier New',monospace\"><span style=\"color: #008000; text-decoration-color: #008000\">✓</span> Initialized. <span style=\"color: #b2b2b2; text-decoration-color: #b2b2b2\">View run at </span><span style=\"color: #b2b2b2; text-decoration-color: #b2b2b2; text-decoration: underline\">https://modal.com/apps/benny-guan97/main/ap-Z6Weguu114fZFamCgIdGYf</span>\n",
       "</pre>\n"
      ],
      "text/plain": [
       "\u001b[32m✓\u001b[0m Initialized. \u001b[38;5;249mView run at \u001b[0m\u001b[4;38;5;249mhttps://modal.com/apps/benny-guan97/main/ap-Z6Weguu114fZFamCgIdGYf\u001b[0m\n"
      ]
     },
     "metadata": {},
     "output_type": "display_data"
    },
    {
     "data": {
      "text/html": [
       "<pre style=\"white-space:pre;overflow-x:auto;line-height:normal;font-family:Menlo,'DejaVu Sans Mono',consolas,'Courier New',monospace\"></pre>\n"
      ],
      "text/plain": []
     },
     "metadata": {},
     "output_type": "display_data"
    },
    {
     "data": {
      "application/vnd.jupyter.widget-view+json": {
       "model_id": "c39d3991b34148b4b04efcad007da756",
       "version_major": 2,
       "version_minor": 0
      },
      "text/plain": [
       "Output()"
      ]
     },
     "metadata": {},
     "output_type": "display_data"
    },
    {
     "data": {
      "text/html": [
       "<pre style=\"white-space:pre;overflow-x:auto;line-height:normal;font-family:Menlo,'DejaVu Sans Mono',consolas,'Courier New',monospace\"><span style=\"color: #808000; text-decoration-color: #808000\">Building image im-jYSFoY5USpMgi0hsRURuVU\n",
       "</span></pre>\n"
      ],
      "text/plain": [
       "\u001b[33mBuilding image im-jYSFoY5USpMgi0hsRURuVU\n",
       "\u001b[0m"
      ]
     },
     "metadata": {},
     "output_type": "display_data"
    },
    {
     "data": {
      "text/html": [
       "<pre style=\"white-space:pre;overflow-x:auto;line-height:normal;font-family:Menlo,'DejaVu Sans Mono',consolas,'Courier New',monospace\"><span style=\"color: #808000; text-decoration-color: #808000\">\n",
       "=&gt; Step 0: FROM base\n",
       "</span></pre>\n"
      ],
      "text/plain": [
       "\u001b[33m\n",
       "=> Step 0: FROM base\n",
       "\u001b[0m"
      ]
     },
     "metadata": {},
     "output_type": "display_data"
    },
    {
     "data": {
      "text/html": [
       "<pre style=\"white-space:pre;overflow-x:auto;line-height:normal;font-family:Menlo,'DejaVu Sans Mono',consolas,'Courier New',monospace\"><span style=\"color: #808000; text-decoration-color: #808000\">\n",
       "=&gt; Step 1: RUN python -m pip install accelerate bitsandbytes torch transformers\n",
       "</span></pre>\n"
      ],
      "text/plain": [
       "\u001b[33m\n",
       "=> Step 1: RUN python -m pip install accelerate bitsandbytes torch transformers\n",
       "\u001b[0m"
      ]
     },
     "metadata": {},
     "output_type": "display_data"
    },
    {
     "data": {
      "text/html": [
       "<pre style=\"white-space:pre;overflow-x:auto;line-height:normal;font-family:Menlo,'DejaVu Sans Mono',consolas,'Courier New',monospace\"><span style=\"color: #808000; text-decoration-color: #808000\">Looking in indexes: http://pypi-mirror.modal.local:5555/simple\n",
       "</span></pre>\n"
      ],
      "text/plain": [
       "\u001b[33mLooking in indexes: http://pypi-mirror.modal.local:5555/simple\n",
       "\u001b[0m"
      ]
     },
     "metadata": {},
     "output_type": "display_data"
    },
    {
     "data": {
      "text/html": [
       "<pre style=\"white-space:pre;overflow-x:auto;line-height:normal;font-family:Menlo,'DejaVu Sans Mono',consolas,'Courier New',monospace\"><span style=\"color: #808000; text-decoration-color: #808000\">Collecting accelerate\n",
       "</span></pre>\n"
      ],
      "text/plain": [
       "\u001b[33mCollecting accelerate\n",
       "\u001b[0m"
      ]
     },
     "metadata": {},
     "output_type": "display_data"
    },
    {
     "data": {
      "text/html": [
       "<pre style=\"white-space:pre;overflow-x:auto;line-height:normal;font-family:Menlo,'DejaVu Sans Mono',consolas,'Courier New',monospace\"><span style=\"color: #808000; text-decoration-color: #808000\">  Downloading http://pypi-mirror.modal.local:5555/simple/accelerate/accelerate-1.6.0-py3-none-any.whl.metadata (19 kB)\n",
       "</span></pre>\n"
      ],
      "text/plain": [
       "\u001b[33m  Downloading http://pypi-mirror.modal.local:5555/simple/accelerate/accelerate-1.6.0-py3-none-any.whl.metadata (19 kB)\n",
       "\u001b[0m"
      ]
     },
     "metadata": {},
     "output_type": "display_data"
    },
    {
     "data": {
      "text/html": [
       "<pre style=\"white-space:pre;overflow-x:auto;line-height:normal;font-family:Menlo,'DejaVu Sans Mono',consolas,'Courier New',monospace\"><span style=\"color: #808000; text-decoration-color: #808000\">Collecting bitsandbytes\n",
       "</span></pre>\n"
      ],
      "text/plain": [
       "\u001b[33mCollecting bitsandbytes\n",
       "\u001b[0m"
      ]
     },
     "metadata": {},
     "output_type": "display_data"
    },
    {
     "data": {
      "text/html": [
       "<pre style=\"white-space:pre;overflow-x:auto;line-height:normal;font-family:Menlo,'DejaVu Sans Mono',consolas,'Courier New',monospace\"><span style=\"color: #808000; text-decoration-color: #808000\">  Downloading http://pypi-mirror.modal.local:5555/simple/bitsandbytes/bitsandbytes-0.45.5-py3-none-manylinux_2_24_x86_64.whl.metadata (5.0 kB)\n",
       "</span></pre>\n"
      ],
      "text/plain": [
       "\u001b[33m  Downloading http://pypi-mirror.modal.local:5555/simple/bitsandbytes/bitsandbytes-0.45.5-py3-none-manylinux_2_24_x86_64.whl.metadata (5.0 kB)\n",
       "\u001b[0m"
      ]
     },
     "metadata": {},
     "output_type": "display_data"
    },
    {
     "data": {
      "text/html": [
       "<pre style=\"white-space:pre;overflow-x:auto;line-height:normal;font-family:Menlo,'DejaVu Sans Mono',consolas,'Courier New',monospace\"><span style=\"color: #808000; text-decoration-color: #808000\">Collecting torch\n",
       "</span></pre>\n"
      ],
      "text/plain": [
       "\u001b[33mCollecting torch\n",
       "\u001b[0m"
      ]
     },
     "metadata": {},
     "output_type": "display_data"
    },
    {
     "data": {
      "text/html": [
       "<pre style=\"white-space:pre;overflow-x:auto;line-height:normal;font-family:Menlo,'DejaVu Sans Mono',consolas,'Courier New',monospace\"><span style=\"color: #808000; text-decoration-color: #808000\">  Downloading http://pypi-mirror.modal.local:5555/simple/torch/torch-2.7.0-cp311-cp311-manylinux_2_28_x86_64.whl.metadata (29 kB)\n",
       "</span></pre>\n"
      ],
      "text/plain": [
       "\u001b[33m  Downloading http://pypi-mirror.modal.local:5555/simple/torch/torch-2.7.0-cp311-cp311-manylinux_2_28_x86_64.whl.metadata (29 kB)\n",
       "\u001b[0m"
      ]
     },
     "metadata": {},
     "output_type": "display_data"
    },
    {
     "data": {
      "text/html": [
       "<pre style=\"white-space:pre;overflow-x:auto;line-height:normal;font-family:Menlo,'DejaVu Sans Mono',consolas,'Courier New',monospace\"><span style=\"color: #808000; text-decoration-color: #808000\">Collecting transformers\n",
       "</span></pre>\n"
      ],
      "text/plain": [
       "\u001b[33mCollecting transformers\n",
       "\u001b[0m"
      ]
     },
     "metadata": {},
     "output_type": "display_data"
    },
    {
     "data": {
      "text/html": [
       "<pre style=\"white-space:pre;overflow-x:auto;line-height:normal;font-family:Menlo,'DejaVu Sans Mono',consolas,'Courier New',monospace\"><span style=\"color: #808000; text-decoration-color: #808000\">  Downloading http://pypi-mirror.modal.local:5555/simple/transformers/transformers-4.51.3-py3-none-any.whl.metadata (38 kB)\n",
       "</span></pre>\n"
      ],
      "text/plain": [
       "\u001b[33m  Downloading http://pypi-mirror.modal.local:5555/simple/transformers/transformers-4.51.3-py3-none-any.whl.metadata (38 kB)\n",
       "\u001b[0m"
      ]
     },
     "metadata": {},
     "output_type": "display_data"
    },
    {
     "data": {
      "text/html": [
       "<pre style=\"white-space:pre;overflow-x:auto;line-height:normal;font-family:Menlo,'DejaVu Sans Mono',consolas,'Courier New',monospace\"><span style=\"color: #808000; text-decoration-color: #808000\">Collecting numpy&lt;3.0.0,&gt;=1.17 (from accelerate)\n",
       "</span></pre>\n"
      ],
      "text/plain": [
       "\u001b[33mCollecting numpy<3.0.0,>=1.17 (from accelerate)\n",
       "\u001b[0m"
      ]
     },
     "metadata": {},
     "output_type": "display_data"
    },
    {
     "data": {
      "text/html": [
       "<pre style=\"white-space:pre;overflow-x:auto;line-height:normal;font-family:Menlo,'DejaVu Sans Mono',consolas,'Courier New',monospace\"><span style=\"color: #808000; text-decoration-color: #808000\">  Downloading http://pypi-mirror.modal.local:5555/simple/numpy/numpy-2.2.5-cp311-cp311-manylinux_2_17_x86_64.manylinux2014_x86_64.whl.metadata (62 kB)\n",
       "</span></pre>\n"
      ],
      "text/plain": [
       "\u001b[33m  Downloading http://pypi-mirror.modal.local:5555/simple/numpy/numpy-2.2.5-cp311-cp311-manylinux_2_17_x86_64.manylinux2014_x86_64.whl.metadata (62 kB)\n",
       "\u001b[0m"
      ]
     },
     "metadata": {},
     "output_type": "display_data"
    },
    {
     "data": {
      "text/html": [
       "<pre style=\"white-space:pre;overflow-x:auto;line-height:normal;font-family:Menlo,'DejaVu Sans Mono',consolas,'Courier New',monospace\"><span style=\"color: #808000; text-decoration-color: #808000\">Collecting packaging&gt;=20.0 (from accelerate)\n",
       "</span></pre>\n"
      ],
      "text/plain": [
       "\u001b[33mCollecting packaging>=20.0 (from accelerate)\n",
       "\u001b[0m"
      ]
     },
     "metadata": {},
     "output_type": "display_data"
    },
    {
     "data": {
      "text/html": [
       "<pre style=\"white-space:pre;overflow-x:auto;line-height:normal;font-family:Menlo,'DejaVu Sans Mono',consolas,'Courier New',monospace\"><span style=\"color: #808000; text-decoration-color: #808000\">  Downloading http://pypi-mirror.modal.local:5555/simple/packaging/packaging-25.0-py3-none-any.whl.metadata (3.3 kB)\n",
       "</span></pre>\n"
      ],
      "text/plain": [
       "\u001b[33m  Downloading http://pypi-mirror.modal.local:5555/simple/packaging/packaging-25.0-py3-none-any.whl.metadata (3.3 kB)\n",
       "\u001b[0m"
      ]
     },
     "metadata": {},
     "output_type": "display_data"
    },
    {
     "data": {
      "text/html": [
       "<pre style=\"white-space:pre;overflow-x:auto;line-height:normal;font-family:Menlo,'DejaVu Sans Mono',consolas,'Courier New',monospace\"><span style=\"color: #808000; text-decoration-color: #808000\">Collecting psutil (from accelerate)\n",
       "</span></pre>\n"
      ],
      "text/plain": [
       "\u001b[33mCollecting psutil (from accelerate)\n",
       "\u001b[0m"
      ]
     },
     "metadata": {},
     "output_type": "display_data"
    },
    {
     "data": {
      "text/html": [
       "<pre style=\"white-space:pre;overflow-x:auto;line-height:normal;font-family:Menlo,'DejaVu Sans Mono',consolas,'Courier New',monospace\"><span style=\"color: #808000; text-decoration-color: #808000\">  Downloading http://pypi-mirror.modal.local:5555/simple/psutil/psutil-7.0.0-cp36-abi3-manylinux_2_12_x86_64.manylinux2010_x86_64.manylinux_2_17_x86_64.manylinux2014_x86_64.whl.metadata (22 kB)\n",
       "</span></pre>\n"
      ],
      "text/plain": [
       "\u001b[33m  Downloading http://pypi-mirror.modal.local:5555/simple/psutil/psutil-7.0.0-cp36-abi3-manylinux_2_12_x86_64.manylinux2010_x86_64.manylinux_2_17_x86_64.manylinux2014_x86_64.whl.metadata (22 kB)\n",
       "\u001b[0m"
      ]
     },
     "metadata": {},
     "output_type": "display_data"
    },
    {
     "data": {
      "text/html": [
       "<pre style=\"white-space:pre;overflow-x:auto;line-height:normal;font-family:Menlo,'DejaVu Sans Mono',consolas,'Courier New',monospace\"><span style=\"color: #808000; text-decoration-color: #808000\">Collecting pyyaml (from accelerate)\n",
       "</span></pre>\n"
      ],
      "text/plain": [
       "\u001b[33mCollecting pyyaml (from accelerate)\n",
       "\u001b[0m"
      ]
     },
     "metadata": {},
     "output_type": "display_data"
    },
    {
     "data": {
      "text/html": [
       "<pre style=\"white-space:pre;overflow-x:auto;line-height:normal;font-family:Menlo,'DejaVu Sans Mono',consolas,'Courier New',monospace\"><span style=\"color: #808000; text-decoration-color: #808000\">  Downloading http://pypi-mirror.modal.local:5555/simple/pyyaml/PyYAML-6.0.2-cp311-cp311-manylinux_2_17_x86_64.manylinux2014_x86_64.whl.metadata (2.1 kB)\n",
       "</span></pre>\n"
      ],
      "text/plain": [
       "\u001b[33m  Downloading http://pypi-mirror.modal.local:5555/simple/pyyaml/PyYAML-6.0.2-cp311-cp311-manylinux_2_17_x86_64.manylinux2014_x86_64.whl.metadata (2.1 kB)\n",
       "\u001b[0m"
      ]
     },
     "metadata": {},
     "output_type": "display_data"
    },
    {
     "data": {
      "text/html": [
       "<pre style=\"white-space:pre;overflow-x:auto;line-height:normal;font-family:Menlo,'DejaVu Sans Mono',consolas,'Courier New',monospace\"><span style=\"color: #808000; text-decoration-color: #808000\">Collecting huggingface-hub&gt;=0.21.0 (from accelerate)\n",
       "</span></pre>\n"
      ],
      "text/plain": [
       "\u001b[33mCollecting huggingface-hub>=0.21.0 (from accelerate)\n",
       "\u001b[0m"
      ]
     },
     "metadata": {},
     "output_type": "display_data"
    },
    {
     "data": {
      "text/html": [
       "<pre style=\"white-space:pre;overflow-x:auto;line-height:normal;font-family:Menlo,'DejaVu Sans Mono',consolas,'Courier New',monospace\"><span style=\"color: #808000; text-decoration-color: #808000\">  Downloading http://pypi-mirror.modal.local:5555/simple/huggingface-hub/huggingface_hub-0.31.1-py3-none-any.whl.metadata (13 kB)\n",
       "</span></pre>\n"
      ],
      "text/plain": [
       "\u001b[33m  Downloading http://pypi-mirror.modal.local:5555/simple/huggingface-hub/huggingface_hub-0.31.1-py3-none-any.whl.metadata (13 kB)\n",
       "\u001b[0m"
      ]
     },
     "metadata": {},
     "output_type": "display_data"
    },
    {
     "data": {
      "text/html": [
       "<pre style=\"white-space:pre;overflow-x:auto;line-height:normal;font-family:Menlo,'DejaVu Sans Mono',consolas,'Courier New',monospace\"><span style=\"color: #808000; text-decoration-color: #808000\">Collecting safetensors&gt;=0.4.3 (from accelerate)\n",
       "</span></pre>\n"
      ],
      "text/plain": [
       "\u001b[33mCollecting safetensors>=0.4.3 (from accelerate)\n",
       "\u001b[0m"
      ]
     },
     "metadata": {},
     "output_type": "display_data"
    },
    {
     "data": {
      "text/html": [
       "<pre style=\"white-space:pre;overflow-x:auto;line-height:normal;font-family:Menlo,'DejaVu Sans Mono',consolas,'Courier New',monospace\"><span style=\"color: #808000; text-decoration-color: #808000\">  Downloading http://pypi-mirror.modal.local:5555/simple/safetensors/safetensors-0.5.3-cp38-abi3-manylinux_2_17_x86_64.manylinux2014_x86_64.whl.metadata (3.8 kB)\n",
       "</span></pre>\n"
      ],
      "text/plain": [
       "\u001b[33m  Downloading http://pypi-mirror.modal.local:5555/simple/safetensors/safetensors-0.5.3-cp38-abi3-manylinux_2_17_x86_64.manylinux2014_x86_64.whl.metadata (3.8 kB)\n",
       "\u001b[0m"
      ]
     },
     "metadata": {},
     "output_type": "display_data"
    },
    {
     "data": {
      "text/html": [
       "<pre style=\"white-space:pre;overflow-x:auto;line-height:normal;font-family:Menlo,'DejaVu Sans Mono',consolas,'Courier New',monospace\"><span style=\"color: #808000; text-decoration-color: #808000\">Collecting filelock (from torch)\n",
       "</span></pre>\n"
      ],
      "text/plain": [
       "\u001b[33mCollecting filelock (from torch)\n",
       "\u001b[0m"
      ]
     },
     "metadata": {},
     "output_type": "display_data"
    },
    {
     "data": {
      "text/html": [
       "<pre style=\"white-space:pre;overflow-x:auto;line-height:normal;font-family:Menlo,'DejaVu Sans Mono',consolas,'Courier New',monospace\"><span style=\"color: #808000; text-decoration-color: #808000\">  Downloading http://pypi-mirror.modal.local:5555/simple/filelock/filelock-3.18.0-py3-none-any.whl.metadata (2.9 kB)\n",
       "Requirement already satisfied: typing-extensions&gt;=4.10.0 in /usr/local/lib/python3.11/site-packages (from torch) (4.12.2)\n",
       "</span></pre>\n"
      ],
      "text/plain": [
       "\u001b[33m  Downloading http://pypi-mirror.modal.local:5555/simple/filelock/filelock-3.18.0-py3-none-any.whl.metadata (2.9 kB)\n",
       "Requirement already satisfied: typing-extensions>=4.10.0 in /usr/local/lib/python3.11/site-packages (from torch) (4.12.2)\n",
       "\u001b[0m"
      ]
     },
     "metadata": {},
     "output_type": "display_data"
    },
    {
     "data": {
      "text/html": [
       "<pre style=\"white-space:pre;overflow-x:auto;line-height:normal;font-family:Menlo,'DejaVu Sans Mono',consolas,'Courier New',monospace\"><span style=\"color: #808000; text-decoration-color: #808000\">Collecting sympy&gt;=1.13.3 (from torch)\n",
       "</span></pre>\n"
      ],
      "text/plain": [
       "\u001b[33mCollecting sympy>=1.13.3 (from torch)\n",
       "\u001b[0m"
      ]
     },
     "metadata": {},
     "output_type": "display_data"
    },
    {
     "data": {
      "text/html": [
       "<pre style=\"white-space:pre;overflow-x:auto;line-height:normal;font-family:Menlo,'DejaVu Sans Mono',consolas,'Courier New',monospace\"><span style=\"color: #808000; text-decoration-color: #808000\">  Downloading http://pypi-mirror.modal.local:5555/simple/sympy/sympy-1.14.0-py3-none-any.whl.metadata (12 kB)\n",
       "</span></pre>\n"
      ],
      "text/plain": [
       "\u001b[33m  Downloading http://pypi-mirror.modal.local:5555/simple/sympy/sympy-1.14.0-py3-none-any.whl.metadata (12 kB)\n",
       "\u001b[0m"
      ]
     },
     "metadata": {},
     "output_type": "display_data"
    },
    {
     "data": {
      "text/html": [
       "<pre style=\"white-space:pre;overflow-x:auto;line-height:normal;font-family:Menlo,'DejaVu Sans Mono',consolas,'Courier New',monospace\"><span style=\"color: #808000; text-decoration-color: #808000\">Collecting networkx (from torch)\n",
       "</span></pre>\n"
      ],
      "text/plain": [
       "\u001b[33mCollecting networkx (from torch)\n",
       "\u001b[0m"
      ]
     },
     "metadata": {},
     "output_type": "display_data"
    },
    {
     "data": {
      "text/html": [
       "<pre style=\"white-space:pre;overflow-x:auto;line-height:normal;font-family:Menlo,'DejaVu Sans Mono',consolas,'Courier New',monospace\"><span style=\"color: #808000; text-decoration-color: #808000\">  Downloading http://pypi-mirror.modal.local:5555/simple/networkx/networkx-3.4.2-py3-none-any.whl.metadata (6.3 kB)\n",
       "</span></pre>\n"
      ],
      "text/plain": [
       "\u001b[33m  Downloading http://pypi-mirror.modal.local:5555/simple/networkx/networkx-3.4.2-py3-none-any.whl.metadata (6.3 kB)\n",
       "\u001b[0m"
      ]
     },
     "metadata": {},
     "output_type": "display_data"
    },
    {
     "data": {
      "text/html": [
       "<pre style=\"white-space:pre;overflow-x:auto;line-height:normal;font-family:Menlo,'DejaVu Sans Mono',consolas,'Courier New',monospace\"><span style=\"color: #808000; text-decoration-color: #808000\">Collecting jinja2 (from torch)\n",
       "</span></pre>\n"
      ],
      "text/plain": [
       "\u001b[33mCollecting jinja2 (from torch)\n",
       "\u001b[0m"
      ]
     },
     "metadata": {},
     "output_type": "display_data"
    },
    {
     "data": {
      "text/html": [
       "<pre style=\"white-space:pre;overflow-x:auto;line-height:normal;font-family:Menlo,'DejaVu Sans Mono',consolas,'Courier New',monospace\"><span style=\"color: #808000; text-decoration-color: #808000\">  Downloading http://pypi-mirror.modal.local:5555/simple/jinja2/jinja2-3.1.6-py3-none-any.whl.metadata (2.9 kB)\n",
       "</span></pre>\n"
      ],
      "text/plain": [
       "\u001b[33m  Downloading http://pypi-mirror.modal.local:5555/simple/jinja2/jinja2-3.1.6-py3-none-any.whl.metadata (2.9 kB)\n",
       "\u001b[0m"
      ]
     },
     "metadata": {},
     "output_type": "display_data"
    },
    {
     "data": {
      "text/html": [
       "<pre style=\"white-space:pre;overflow-x:auto;line-height:normal;font-family:Menlo,'DejaVu Sans Mono',consolas,'Courier New',monospace\"><span style=\"color: #808000; text-decoration-color: #808000\">Collecting fsspec (from torch)\n",
       "</span></pre>\n"
      ],
      "text/plain": [
       "\u001b[33mCollecting fsspec (from torch)\n",
       "\u001b[0m"
      ]
     },
     "metadata": {},
     "output_type": "display_data"
    },
    {
     "data": {
      "text/html": [
       "<pre style=\"white-space:pre;overflow-x:auto;line-height:normal;font-family:Menlo,'DejaVu Sans Mono',consolas,'Courier New',monospace\"><span style=\"color: #808000; text-decoration-color: #808000\">  Downloading http://pypi-mirror.modal.local:5555/simple/fsspec/fsspec-2025.3.2-py3-none-any.whl.metadata (11 kB)\n",
       "</span></pre>\n"
      ],
      "text/plain": [
       "\u001b[33m  Downloading http://pypi-mirror.modal.local:5555/simple/fsspec/fsspec-2025.3.2-py3-none-any.whl.metadata (11 kB)\n",
       "\u001b[0m"
      ]
     },
     "metadata": {},
     "output_type": "display_data"
    },
    {
     "data": {
      "text/html": [
       "<pre style=\"white-space:pre;overflow-x:auto;line-height:normal;font-family:Menlo,'DejaVu Sans Mono',consolas,'Courier New',monospace\"><span style=\"color: #808000; text-decoration-color: #808000\">Collecting nvidia-cuda-nvrtc-cu12==12.6.77 (from torch)\n",
       "</span></pre>\n"
      ],
      "text/plain": [
       "\u001b[33mCollecting nvidia-cuda-nvrtc-cu12==12.6.77 (from torch)\n",
       "\u001b[0m"
      ]
     },
     "metadata": {},
     "output_type": "display_data"
    },
    {
     "data": {
      "text/html": [
       "<pre style=\"white-space:pre;overflow-x:auto;line-height:normal;font-family:Menlo,'DejaVu Sans Mono',consolas,'Courier New',monospace\"><span style=\"color: #808000; text-decoration-color: #808000\">  Downloading http://pypi-mirror.modal.local:5555/simple/nvidia-cuda-nvrtc-cu12/nvidia_cuda_nvrtc_cu12-12.6.77-py3-none-manylinux2014_x86_64.whl.metadata (1.5 kB)\n",
       "</span></pre>\n"
      ],
      "text/plain": [
       "\u001b[33m  Downloading http://pypi-mirror.modal.local:5555/simple/nvidia-cuda-nvrtc-cu12/nvidia_cuda_nvrtc_cu12-12.6.77-py3-none-manylinux2014_x86_64.whl.metadata (1.5 kB)\n",
       "\u001b[0m"
      ]
     },
     "metadata": {},
     "output_type": "display_data"
    },
    {
     "data": {
      "text/html": [
       "<pre style=\"white-space:pre;overflow-x:auto;line-height:normal;font-family:Menlo,'DejaVu Sans Mono',consolas,'Courier New',monospace\"><span style=\"color: #808000; text-decoration-color: #808000\">Collecting nvidia-cuda-runtime-cu12==12.6.77 (from torch)\n",
       "</span></pre>\n"
      ],
      "text/plain": [
       "\u001b[33mCollecting nvidia-cuda-runtime-cu12==12.6.77 (from torch)\n",
       "\u001b[0m"
      ]
     },
     "metadata": {},
     "output_type": "display_data"
    },
    {
     "data": {
      "text/html": [
       "<pre style=\"white-space:pre;overflow-x:auto;line-height:normal;font-family:Menlo,'DejaVu Sans Mono',consolas,'Courier New',monospace\"><span style=\"color: #808000; text-decoration-color: #808000\">  Downloading http://pypi-mirror.modal.local:5555/simple/nvidia-cuda-runtime-cu12/nvidia_cuda_runtime_cu12-12.6.77-py3-none-manylinux2014_x86_64.manylinux_2_17_x86_64.whl.metadata (1.5 kB)\n",
       "</span></pre>\n"
      ],
      "text/plain": [
       "\u001b[33m  Downloading http://pypi-mirror.modal.local:5555/simple/nvidia-cuda-runtime-cu12/nvidia_cuda_runtime_cu12-12.6.77-py3-none-manylinux2014_x86_64.manylinux_2_17_x86_64.whl.metadata (1.5 kB)\n",
       "\u001b[0m"
      ]
     },
     "metadata": {},
     "output_type": "display_data"
    },
    {
     "data": {
      "text/html": [
       "<pre style=\"white-space:pre;overflow-x:auto;line-height:normal;font-family:Menlo,'DejaVu Sans Mono',consolas,'Courier New',monospace\"><span style=\"color: #808000; text-decoration-color: #808000\">Collecting nvidia-cuda-cupti-cu12==12.6.80 (from torch)\n",
       "</span></pre>\n"
      ],
      "text/plain": [
       "\u001b[33mCollecting nvidia-cuda-cupti-cu12==12.6.80 (from torch)\n",
       "\u001b[0m"
      ]
     },
     "metadata": {},
     "output_type": "display_data"
    },
    {
     "data": {
      "text/html": [
       "<pre style=\"white-space:pre;overflow-x:auto;line-height:normal;font-family:Menlo,'DejaVu Sans Mono',consolas,'Courier New',monospace\"><span style=\"color: #808000; text-decoration-color: #808000\">  Downloading http://pypi-mirror.modal.local:5555/simple/nvidia-cuda-cupti-cu12/nvidia_cuda_cupti_cu12-12.6.80-py3-none-manylinux2014_x86_64.manylinux_2_17_x86_64.whl.metadata (1.6 kB)\n",
       "</span></pre>\n"
      ],
      "text/plain": [
       "\u001b[33m  Downloading http://pypi-mirror.modal.local:5555/simple/nvidia-cuda-cupti-cu12/nvidia_cuda_cupti_cu12-12.6.80-py3-none-manylinux2014_x86_64.manylinux_2_17_x86_64.whl.metadata (1.6 kB)\n",
       "\u001b[0m"
      ]
     },
     "metadata": {},
     "output_type": "display_data"
    },
    {
     "data": {
      "text/html": [
       "<pre style=\"white-space:pre;overflow-x:auto;line-height:normal;font-family:Menlo,'DejaVu Sans Mono',consolas,'Courier New',monospace\"><span style=\"color: #808000; text-decoration-color: #808000\">Collecting nvidia-cudnn-cu12==9.5.1.17 (from torch)\n",
       "</span></pre>\n"
      ],
      "text/plain": [
       "\u001b[33mCollecting nvidia-cudnn-cu12==9.5.1.17 (from torch)\n",
       "\u001b[0m"
      ]
     },
     "metadata": {},
     "output_type": "display_data"
    },
    {
     "data": {
      "text/html": [
       "<pre style=\"white-space:pre;overflow-x:auto;line-height:normal;font-family:Menlo,'DejaVu Sans Mono',consolas,'Courier New',monospace\"><span style=\"color: #808000; text-decoration-color: #808000\">  Downloading http://pypi-mirror.modal.local:5555/simple/nvidia-cudnn-cu12/nvidia_cudnn_cu12-9.5.1.17-py3-none-manylinux_2_28_x86_64.whl.metadata (1.6 kB)\n",
       "</span></pre>\n"
      ],
      "text/plain": [
       "\u001b[33m  Downloading http://pypi-mirror.modal.local:5555/simple/nvidia-cudnn-cu12/nvidia_cudnn_cu12-9.5.1.17-py3-none-manylinux_2_28_x86_64.whl.metadata (1.6 kB)\n",
       "\u001b[0m"
      ]
     },
     "metadata": {},
     "output_type": "display_data"
    },
    {
     "data": {
      "text/html": [
       "<pre style=\"white-space:pre;overflow-x:auto;line-height:normal;font-family:Menlo,'DejaVu Sans Mono',consolas,'Courier New',monospace\"><span style=\"color: #808000; text-decoration-color: #808000\">Collecting nvidia-cublas-cu12==12.6.4.1 (from torch)\n",
       "</span></pre>\n"
      ],
      "text/plain": [
       "\u001b[33mCollecting nvidia-cublas-cu12==12.6.4.1 (from torch)\n",
       "\u001b[0m"
      ]
     },
     "metadata": {},
     "output_type": "display_data"
    },
    {
     "data": {
      "text/html": [
       "<pre style=\"white-space:pre;overflow-x:auto;line-height:normal;font-family:Menlo,'DejaVu Sans Mono',consolas,'Courier New',monospace\"><span style=\"color: #808000; text-decoration-color: #808000\">  Downloading http://pypi-mirror.modal.local:5555/simple/nvidia-cublas-cu12/nvidia_cublas_cu12-12.6.4.1-py3-none-manylinux2014_x86_64.manylinux_2_17_x86_64.whl.metadata (1.5 kB)\n",
       "</span></pre>\n"
      ],
      "text/plain": [
       "\u001b[33m  Downloading http://pypi-mirror.modal.local:5555/simple/nvidia-cublas-cu12/nvidia_cublas_cu12-12.6.4.1-py3-none-manylinux2014_x86_64.manylinux_2_17_x86_64.whl.metadata (1.5 kB)\n",
       "\u001b[0m"
      ]
     },
     "metadata": {},
     "output_type": "display_data"
    },
    {
     "data": {
      "text/html": [
       "<pre style=\"white-space:pre;overflow-x:auto;line-height:normal;font-family:Menlo,'DejaVu Sans Mono',consolas,'Courier New',monospace\"><span style=\"color: #808000; text-decoration-color: #808000\">Collecting nvidia-cufft-cu12==11.3.0.4 (from torch)\n",
       "</span></pre>\n"
      ],
      "text/plain": [
       "\u001b[33mCollecting nvidia-cufft-cu12==11.3.0.4 (from torch)\n",
       "\u001b[0m"
      ]
     },
     "metadata": {},
     "output_type": "display_data"
    },
    {
     "data": {
      "text/html": [
       "<pre style=\"white-space:pre;overflow-x:auto;line-height:normal;font-family:Menlo,'DejaVu Sans Mono',consolas,'Courier New',monospace\"><span style=\"color: #808000; text-decoration-color: #808000\">  Downloading http://pypi-mirror.modal.local:5555/simple/nvidia-cufft-cu12/nvidia_cufft_cu12-11.3.0.4-py3-none-manylinux2014_x86_64.manylinux_2_17_x86_64.whl.metadata (1.5 kB)\n",
       "</span></pre>\n"
      ],
      "text/plain": [
       "\u001b[33m  Downloading http://pypi-mirror.modal.local:5555/simple/nvidia-cufft-cu12/nvidia_cufft_cu12-11.3.0.4-py3-none-manylinux2014_x86_64.manylinux_2_17_x86_64.whl.metadata (1.5 kB)\n",
       "\u001b[0m"
      ]
     },
     "metadata": {},
     "output_type": "display_data"
    },
    {
     "data": {
      "text/html": [
       "<pre style=\"white-space:pre;overflow-x:auto;line-height:normal;font-family:Menlo,'DejaVu Sans Mono',consolas,'Courier New',monospace\"><span style=\"color: #808000; text-decoration-color: #808000\">Collecting nvidia-curand-cu12==10.3.7.77 (from torch)\n",
       "</span></pre>\n"
      ],
      "text/plain": [
       "\u001b[33mCollecting nvidia-curand-cu12==10.3.7.77 (from torch)\n",
       "\u001b[0m"
      ]
     },
     "metadata": {},
     "output_type": "display_data"
    },
    {
     "data": {
      "text/html": [
       "<pre style=\"white-space:pre;overflow-x:auto;line-height:normal;font-family:Menlo,'DejaVu Sans Mono',consolas,'Courier New',monospace\"><span style=\"color: #808000; text-decoration-color: #808000\">  Downloading http://pypi-mirror.modal.local:5555/simple/nvidia-curand-cu12/nvidia_curand_cu12-10.3.7.77-py3-none-manylinux2014_x86_64.manylinux_2_17_x86_64.whl.metadata (1.5 kB)\n",
       "</span></pre>\n"
      ],
      "text/plain": [
       "\u001b[33m  Downloading http://pypi-mirror.modal.local:5555/simple/nvidia-curand-cu12/nvidia_curand_cu12-10.3.7.77-py3-none-manylinux2014_x86_64.manylinux_2_17_x86_64.whl.metadata (1.5 kB)\n",
       "\u001b[0m"
      ]
     },
     "metadata": {},
     "output_type": "display_data"
    },
    {
     "data": {
      "text/html": [
       "<pre style=\"white-space:pre;overflow-x:auto;line-height:normal;font-family:Menlo,'DejaVu Sans Mono',consolas,'Courier New',monospace\"><span style=\"color: #808000; text-decoration-color: #808000\">Collecting nvidia-cusolver-cu12==11.7.1.2 (from torch)\n",
       "</span></pre>\n"
      ],
      "text/plain": [
       "\u001b[33mCollecting nvidia-cusolver-cu12==11.7.1.2 (from torch)\n",
       "\u001b[0m"
      ]
     },
     "metadata": {},
     "output_type": "display_data"
    },
    {
     "data": {
      "text/html": [
       "<pre style=\"white-space:pre;overflow-x:auto;line-height:normal;font-family:Menlo,'DejaVu Sans Mono',consolas,'Courier New',monospace\"><span style=\"color: #808000; text-decoration-color: #808000\">  Downloading http://pypi-mirror.modal.local:5555/simple/nvidia-cusolver-cu12/nvidia_cusolver_cu12-11.7.1.2-py3-none-manylinux2014_x86_64.manylinux_2_17_x86_64.whl.metadata (1.6 kB)\n",
       "</span></pre>\n"
      ],
      "text/plain": [
       "\u001b[33m  Downloading http://pypi-mirror.modal.local:5555/simple/nvidia-cusolver-cu12/nvidia_cusolver_cu12-11.7.1.2-py3-none-manylinux2014_x86_64.manylinux_2_17_x86_64.whl.metadata (1.6 kB)\n",
       "\u001b[0m"
      ]
     },
     "metadata": {},
     "output_type": "display_data"
    },
    {
     "data": {
      "text/html": [
       "<pre style=\"white-space:pre;overflow-x:auto;line-height:normal;font-family:Menlo,'DejaVu Sans Mono',consolas,'Courier New',monospace\"><span style=\"color: #808000; text-decoration-color: #808000\">Collecting nvidia-cusparse-cu12==12.5.4.2 (from torch)\n",
       "</span></pre>\n"
      ],
      "text/plain": [
       "\u001b[33mCollecting nvidia-cusparse-cu12==12.5.4.2 (from torch)\n",
       "\u001b[0m"
      ]
     },
     "metadata": {},
     "output_type": "display_data"
    },
    {
     "data": {
      "text/html": [
       "<pre style=\"white-space:pre;overflow-x:auto;line-height:normal;font-family:Menlo,'DejaVu Sans Mono',consolas,'Courier New',monospace\"><span style=\"color: #808000; text-decoration-color: #808000\">  Downloading http://pypi-mirror.modal.local:5555/simple/nvidia-cusparse-cu12/nvidia_cusparse_cu12-12.5.4.2-py3-none-manylinux2014_x86_64.manylinux_2_17_x86_64.whl.metadata (1.6 kB)\n",
       "</span></pre>\n"
      ],
      "text/plain": [
       "\u001b[33m  Downloading http://pypi-mirror.modal.local:5555/simple/nvidia-cusparse-cu12/nvidia_cusparse_cu12-12.5.4.2-py3-none-manylinux2014_x86_64.manylinux_2_17_x86_64.whl.metadata (1.6 kB)\n",
       "\u001b[0m"
      ]
     },
     "metadata": {},
     "output_type": "display_data"
    },
    {
     "data": {
      "text/html": [
       "<pre style=\"white-space:pre;overflow-x:auto;line-height:normal;font-family:Menlo,'DejaVu Sans Mono',consolas,'Courier New',monospace\"><span style=\"color: #808000; text-decoration-color: #808000\">Collecting nvidia-cusparselt-cu12==0.6.3 (from torch)\n",
       "</span></pre>\n"
      ],
      "text/plain": [
       "\u001b[33mCollecting nvidia-cusparselt-cu12==0.6.3 (from torch)\n",
       "\u001b[0m"
      ]
     },
     "metadata": {},
     "output_type": "display_data"
    },
    {
     "data": {
      "text/html": [
       "<pre style=\"white-space:pre;overflow-x:auto;line-height:normal;font-family:Menlo,'DejaVu Sans Mono',consolas,'Courier New',monospace\"><span style=\"color: #808000; text-decoration-color: #808000\">  Downloading http://pypi-mirror.modal.local:5555/simple/nvidia-cusparselt-cu12/nvidia_cusparselt_cu12-0.6.3-py3-none-manylinux2014_x86_64.whl.metadata (6.8 kB)\n",
       "</span></pre>\n"
      ],
      "text/plain": [
       "\u001b[33m  Downloading http://pypi-mirror.modal.local:5555/simple/nvidia-cusparselt-cu12/nvidia_cusparselt_cu12-0.6.3-py3-none-manylinux2014_x86_64.whl.metadata (6.8 kB)\n",
       "\u001b[0m"
      ]
     },
     "metadata": {},
     "output_type": "display_data"
    },
    {
     "data": {
      "text/html": [
       "<pre style=\"white-space:pre;overflow-x:auto;line-height:normal;font-family:Menlo,'DejaVu Sans Mono',consolas,'Courier New',monospace\"><span style=\"color: #808000; text-decoration-color: #808000\">Collecting nvidia-nccl-cu12==2.26.2 (from torch)\n",
       "</span></pre>\n"
      ],
      "text/plain": [
       "\u001b[33mCollecting nvidia-nccl-cu12==2.26.2 (from torch)\n",
       "\u001b[0m"
      ]
     },
     "metadata": {},
     "output_type": "display_data"
    },
    {
     "data": {
      "text/html": [
       "<pre style=\"white-space:pre;overflow-x:auto;line-height:normal;font-family:Menlo,'DejaVu Sans Mono',consolas,'Courier New',monospace\"><span style=\"color: #808000; text-decoration-color: #808000\">  Downloading http://pypi-mirror.modal.local:5555/simple/nvidia-nccl-cu12/nvidia_nccl_cu12-2.26.2-py3-none-manylinux2014_x86_64.manylinux_2_17_x86_64.whl.metadata (2.0 kB)\n",
       "</span></pre>\n"
      ],
      "text/plain": [
       "\u001b[33m  Downloading http://pypi-mirror.modal.local:5555/simple/nvidia-nccl-cu12/nvidia_nccl_cu12-2.26.2-py3-none-manylinux2014_x86_64.manylinux_2_17_x86_64.whl.metadata (2.0 kB)\n",
       "\u001b[0m"
      ]
     },
     "metadata": {},
     "output_type": "display_data"
    },
    {
     "data": {
      "text/html": [
       "<pre style=\"white-space:pre;overflow-x:auto;line-height:normal;font-family:Menlo,'DejaVu Sans Mono',consolas,'Courier New',monospace\"><span style=\"color: #808000; text-decoration-color: #808000\">Collecting nvidia-nvtx-cu12==12.6.77 (from torch)\n",
       "</span></pre>\n"
      ],
      "text/plain": [
       "\u001b[33mCollecting nvidia-nvtx-cu12==12.6.77 (from torch)\n",
       "\u001b[0m"
      ]
     },
     "metadata": {},
     "output_type": "display_data"
    },
    {
     "data": {
      "text/html": [
       "<pre style=\"white-space:pre;overflow-x:auto;line-height:normal;font-family:Menlo,'DejaVu Sans Mono',consolas,'Courier New',monospace\"><span style=\"color: #808000; text-decoration-color: #808000\">  Downloading http://pypi-mirror.modal.local:5555/simple/nvidia-nvtx-cu12/nvidia_nvtx_cu12-12.6.77-py3-none-manylinux2014_x86_64.manylinux_2_17_x86_64.whl.metadata (1.6 kB)\n",
       "</span></pre>\n"
      ],
      "text/plain": [
       "\u001b[33m  Downloading http://pypi-mirror.modal.local:5555/simple/nvidia-nvtx-cu12/nvidia_nvtx_cu12-12.6.77-py3-none-manylinux2014_x86_64.manylinux_2_17_x86_64.whl.metadata (1.6 kB)\n",
       "\u001b[0m"
      ]
     },
     "metadata": {},
     "output_type": "display_data"
    },
    {
     "data": {
      "text/html": [
       "<pre style=\"white-space:pre;overflow-x:auto;line-height:normal;font-family:Menlo,'DejaVu Sans Mono',consolas,'Courier New',monospace\"><span style=\"color: #808000; text-decoration-color: #808000\">Collecting nvidia-nvjitlink-cu12==12.6.85 (from torch)\n",
       "</span></pre>\n"
      ],
      "text/plain": [
       "\u001b[33mCollecting nvidia-nvjitlink-cu12==12.6.85 (from torch)\n",
       "\u001b[0m"
      ]
     },
     "metadata": {},
     "output_type": "display_data"
    },
    {
     "data": {
      "text/html": [
       "<pre style=\"white-space:pre;overflow-x:auto;line-height:normal;font-family:Menlo,'DejaVu Sans Mono',consolas,'Courier New',monospace\"><span style=\"color: #808000; text-decoration-color: #808000\">  Downloading http://pypi-mirror.modal.local:5555/simple/nvidia-nvjitlink-cu12/nvidia_nvjitlink_cu12-12.6.85-py3-none-manylinux2010_x86_64.manylinux_2_12_x86_64.whl.metadata (1.5 kB)\n",
       "</span></pre>\n"
      ],
      "text/plain": [
       "\u001b[33m  Downloading http://pypi-mirror.modal.local:5555/simple/nvidia-nvjitlink-cu12/nvidia_nvjitlink_cu12-12.6.85-py3-none-manylinux2010_x86_64.manylinux_2_12_x86_64.whl.metadata (1.5 kB)\n",
       "\u001b[0m"
      ]
     },
     "metadata": {},
     "output_type": "display_data"
    },
    {
     "data": {
      "text/html": [
       "<pre style=\"white-space:pre;overflow-x:auto;line-height:normal;font-family:Menlo,'DejaVu Sans Mono',consolas,'Courier New',monospace\"><span style=\"color: #808000; text-decoration-color: #808000\">Collecting nvidia-cufile-cu12==1.11.1.6 (from torch)\n",
       "</span></pre>\n"
      ],
      "text/plain": [
       "\u001b[33mCollecting nvidia-cufile-cu12==1.11.1.6 (from torch)\n",
       "\u001b[0m"
      ]
     },
     "metadata": {},
     "output_type": "display_data"
    },
    {
     "data": {
      "text/html": [
       "<pre style=\"white-space:pre;overflow-x:auto;line-height:normal;font-family:Menlo,'DejaVu Sans Mono',consolas,'Courier New',monospace\"><span style=\"color: #808000; text-decoration-color: #808000\">  Downloading http://pypi-mirror.modal.local:5555/simple/nvidia-cufile-cu12/nvidia_cufile_cu12-1.11.1.6-py3-none-manylinux2014_x86_64.manylinux_2_17_x86_64.whl.metadata (1.5 kB)\n",
       "</span></pre>\n"
      ],
      "text/plain": [
       "\u001b[33m  Downloading http://pypi-mirror.modal.local:5555/simple/nvidia-cufile-cu12/nvidia_cufile_cu12-1.11.1.6-py3-none-manylinux2014_x86_64.manylinux_2_17_x86_64.whl.metadata (1.5 kB)\n",
       "\u001b[0m"
      ]
     },
     "metadata": {},
     "output_type": "display_data"
    },
    {
     "data": {
      "text/html": [
       "<pre style=\"white-space:pre;overflow-x:auto;line-height:normal;font-family:Menlo,'DejaVu Sans Mono',consolas,'Courier New',monospace\"><span style=\"color: #808000; text-decoration-color: #808000\">Collecting triton==3.3.0 (from torch)\n",
       "</span></pre>\n"
      ],
      "text/plain": [
       "\u001b[33mCollecting triton==3.3.0 (from torch)\n",
       "\u001b[0m"
      ]
     },
     "metadata": {},
     "output_type": "display_data"
    },
    {
     "data": {
      "text/html": [
       "<pre style=\"white-space:pre;overflow-x:auto;line-height:normal;font-family:Menlo,'DejaVu Sans Mono',consolas,'Courier New',monospace\"><span style=\"color: #808000; text-decoration-color: #808000\">  Downloading http://pypi-mirror.modal.local:5555/simple/triton/triton-3.3.0-cp311-cp311-manylinux_2_27_x86_64.manylinux_2_28_x86_64.whl.metadata (1.5 kB)\n",
       "</span></pre>\n"
      ],
      "text/plain": [
       "\u001b[33m  Downloading http://pypi-mirror.modal.local:5555/simple/triton/triton-3.3.0-cp311-cp311-manylinux_2_27_x86_64.manylinux_2_28_x86_64.whl.metadata (1.5 kB)\n",
       "\u001b[0m"
      ]
     },
     "metadata": {},
     "output_type": "display_data"
    },
    {
     "data": {
      "text/html": [
       "<pre style=\"white-space:pre;overflow-x:auto;line-height:normal;font-family:Menlo,'DejaVu Sans Mono',consolas,'Courier New',monospace\"><span style=\"color: #808000; text-decoration-color: #808000\">Requirement already satisfied: setuptools&gt;=40.8.0 in /usr/local/lib/python3.11/site-packages (from triton==3.3.0-&gt;torch) (65.5.1)\n",
       "</span></pre>\n"
      ],
      "text/plain": [
       "\u001b[33mRequirement already satisfied: setuptools>=40.8.0 in /usr/local/lib/python3.11/site-packages (from triton==3.3.0->torch) (65.5.1)\n",
       "\u001b[0m"
      ]
     },
     "metadata": {},
     "output_type": "display_data"
    },
    {
     "data": {
      "text/html": [
       "<pre style=\"white-space:pre;overflow-x:auto;line-height:normal;font-family:Menlo,'DejaVu Sans Mono',consolas,'Courier New',monospace\"><span style=\"color: #808000; text-decoration-color: #808000\">Collecting regex!=2019.12.17 (from transformers)\n",
       "</span></pre>\n"
      ],
      "text/plain": [
       "\u001b[33mCollecting regex!=2019.12.17 (from transformers)\n",
       "\u001b[0m"
      ]
     },
     "metadata": {},
     "output_type": "display_data"
    },
    {
     "data": {
      "text/html": [
       "<pre style=\"white-space:pre;overflow-x:auto;line-height:normal;font-family:Menlo,'DejaVu Sans Mono',consolas,'Courier New',monospace\"><span style=\"color: #808000; text-decoration-color: #808000\">  Downloading http://pypi-mirror.modal.local:5555/simple/regex/regex-2024.11.6-cp311-cp311-manylinux_2_17_x86_64.manylinux2014_x86_64.whl.metadata (40 kB)\n",
       "</span></pre>\n"
      ],
      "text/plain": [
       "\u001b[33m  Downloading http://pypi-mirror.modal.local:5555/simple/regex/regex-2024.11.6-cp311-cp311-manylinux_2_17_x86_64.manylinux2014_x86_64.whl.metadata (40 kB)\n",
       "\u001b[0m"
      ]
     },
     "metadata": {},
     "output_type": "display_data"
    },
    {
     "data": {
      "text/html": [
       "<pre style=\"white-space:pre;overflow-x:auto;line-height:normal;font-family:Menlo,'DejaVu Sans Mono',consolas,'Courier New',monospace\"><span style=\"color: #808000; text-decoration-color: #808000\">Collecting requests (from transformers)\n",
       "</span></pre>\n"
      ],
      "text/plain": [
       "\u001b[33mCollecting requests (from transformers)\n",
       "\u001b[0m"
      ]
     },
     "metadata": {},
     "output_type": "display_data"
    },
    {
     "data": {
      "text/html": [
       "<pre style=\"white-space:pre;overflow-x:auto;line-height:normal;font-family:Menlo,'DejaVu Sans Mono',consolas,'Courier New',monospace\"><span style=\"color: #808000; text-decoration-color: #808000\">  Downloading http://pypi-mirror.modal.local:5555/simple/requests/requests-2.32.3-py3-none-any.whl.metadata (4.6 kB)\n",
       "</span></pre>\n"
      ],
      "text/plain": [
       "\u001b[33m  Downloading http://pypi-mirror.modal.local:5555/simple/requests/requests-2.32.3-py3-none-any.whl.metadata (4.6 kB)\n",
       "\u001b[0m"
      ]
     },
     "metadata": {},
     "output_type": "display_data"
    },
    {
     "data": {
      "text/html": [
       "<pre style=\"white-space:pre;overflow-x:auto;line-height:normal;font-family:Menlo,'DejaVu Sans Mono',consolas,'Courier New',monospace\"><span style=\"color: #808000; text-decoration-color: #808000\">Collecting tokenizers&lt;0.22,&gt;=0.21 (from transformers)\n",
       "</span></pre>\n"
      ],
      "text/plain": [
       "\u001b[33mCollecting tokenizers<0.22,>=0.21 (from transformers)\n",
       "\u001b[0m"
      ]
     },
     "metadata": {},
     "output_type": "display_data"
    },
    {
     "data": {
      "text/html": [
       "<pre style=\"white-space:pre;overflow-x:auto;line-height:normal;font-family:Menlo,'DejaVu Sans Mono',consolas,'Courier New',monospace\"><span style=\"color: #808000; text-decoration-color: #808000\">  Downloading http://pypi-mirror.modal.local:5555/simple/tokenizers/tokenizers-0.21.1-cp39-abi3-manylinux_2_17_x86_64.manylinux2014_x86_64.whl.metadata (6.8 kB)\n",
       "</span></pre>\n"
      ],
      "text/plain": [
       "\u001b[33m  Downloading http://pypi-mirror.modal.local:5555/simple/tokenizers/tokenizers-0.21.1-cp39-abi3-manylinux_2_17_x86_64.manylinux2014_x86_64.whl.metadata (6.8 kB)\n",
       "\u001b[0m"
      ]
     },
     "metadata": {},
     "output_type": "display_data"
    },
    {
     "data": {
      "text/html": [
       "<pre style=\"white-space:pre;overflow-x:auto;line-height:normal;font-family:Menlo,'DejaVu Sans Mono',consolas,'Courier New',monospace\"><span style=\"color: #808000; text-decoration-color: #808000\">Collecting tqdm&gt;=4.27 (from transformers)\n",
       "</span></pre>\n"
      ],
      "text/plain": [
       "\u001b[33mCollecting tqdm>=4.27 (from transformers)\n",
       "\u001b[0m"
      ]
     },
     "metadata": {},
     "output_type": "display_data"
    },
    {
     "data": {
      "text/html": [
       "<pre style=\"white-space:pre;overflow-x:auto;line-height:normal;font-family:Menlo,'DejaVu Sans Mono',consolas,'Courier New',monospace\"><span style=\"color: #808000; text-decoration-color: #808000\">  Downloading http://pypi-mirror.modal.local:5555/simple/tqdm/tqdm-4.67.1-py3-none-any.whl.metadata (57 kB)\n",
       "</span></pre>\n"
      ],
      "text/plain": [
       "\u001b[33m  Downloading http://pypi-mirror.modal.local:5555/simple/tqdm/tqdm-4.67.1-py3-none-any.whl.metadata (57 kB)\n",
       "\u001b[0m"
      ]
     },
     "metadata": {},
     "output_type": "display_data"
    },
    {
     "data": {
      "text/html": [
       "<pre style=\"white-space:pre;overflow-x:auto;line-height:normal;font-family:Menlo,'DejaVu Sans Mono',consolas,'Courier New',monospace\"><span style=\"color: #808000; text-decoration-color: #808000\">Collecting hf-xet&lt;2.0.0,&gt;=1.1.0 (from huggingface-hub&gt;=0.21.0-&gt;accelerate)\n",
       "</span></pre>\n"
      ],
      "text/plain": [
       "\u001b[33mCollecting hf-xet<2.0.0,>=1.1.0 (from huggingface-hub>=0.21.0->accelerate)\n",
       "\u001b[0m"
      ]
     },
     "metadata": {},
     "output_type": "display_data"
    },
    {
     "data": {
      "text/html": [
       "<pre style=\"white-space:pre;overflow-x:auto;line-height:normal;font-family:Menlo,'DejaVu Sans Mono',consolas,'Courier New',monospace\"><span style=\"color: #808000; text-decoration-color: #808000\">  Downloading http://pypi-mirror.modal.local:5555/simple/hf-xet/hf_xet-1.1.0-cp37-abi3-manylinux_2_17_x86_64.manylinux2014_x86_64.whl.metadata (494 bytes)\n",
       "</span></pre>\n"
      ],
      "text/plain": [
       "\u001b[33m  Downloading http://pypi-mirror.modal.local:5555/simple/hf-xet/hf_xet-1.1.0-cp37-abi3-manylinux_2_17_x86_64.manylinux2014_x86_64.whl.metadata (494 bytes)\n",
       "\u001b[0m"
      ]
     },
     "metadata": {},
     "output_type": "display_data"
    },
    {
     "data": {
      "text/html": [
       "<pre style=\"white-space:pre;overflow-x:auto;line-height:normal;font-family:Menlo,'DejaVu Sans Mono',consolas,'Courier New',monospace\"><span style=\"color: #808000; text-decoration-color: #808000\">Collecting mpmath&lt;1.4,&gt;=1.1.0 (from sympy&gt;=1.13.3-&gt;torch)\n",
       "</span></pre>\n"
      ],
      "text/plain": [
       "\u001b[33mCollecting mpmath<1.4,>=1.1.0 (from sympy>=1.13.3->torch)\n",
       "\u001b[0m"
      ]
     },
     "metadata": {},
     "output_type": "display_data"
    },
    {
     "data": {
      "text/html": [
       "<pre style=\"white-space:pre;overflow-x:auto;line-height:normal;font-family:Menlo,'DejaVu Sans Mono',consolas,'Courier New',monospace\"><span style=\"color: #808000; text-decoration-color: #808000\">  Downloading http://pypi-mirror.modal.local:5555/simple/mpmath/mpmath-1.3.0-py3-none-any.whl.metadata (8.6 kB)\n",
       "</span></pre>\n"
      ],
      "text/plain": [
       "\u001b[33m  Downloading http://pypi-mirror.modal.local:5555/simple/mpmath/mpmath-1.3.0-py3-none-any.whl.metadata (8.6 kB)\n",
       "\u001b[0m"
      ]
     },
     "metadata": {},
     "output_type": "display_data"
    },
    {
     "data": {
      "text/html": [
       "<pre style=\"white-space:pre;overflow-x:auto;line-height:normal;font-family:Menlo,'DejaVu Sans Mono',consolas,'Courier New',monospace\"><span style=\"color: #808000; text-decoration-color: #808000\">Collecting MarkupSafe&gt;=2.0 (from jinja2-&gt;torch)\n",
       "</span></pre>\n"
      ],
      "text/plain": [
       "\u001b[33mCollecting MarkupSafe>=2.0 (from jinja2->torch)\n",
       "\u001b[0m"
      ]
     },
     "metadata": {},
     "output_type": "display_data"
    },
    {
     "data": {
      "text/html": [
       "<pre style=\"white-space:pre;overflow-x:auto;line-height:normal;font-family:Menlo,'DejaVu Sans Mono',consolas,'Courier New',monospace\"><span style=\"color: #808000; text-decoration-color: #808000\">  Downloading http://pypi-mirror.modal.local:5555/simple/markupsafe/MarkupSafe-3.0.2-cp311-cp311-manylinux_2_17_x86_64.manylinux2014_x86_64.whl.metadata (4.0 kB)\n",
       "</span></pre>\n"
      ],
      "text/plain": [
       "\u001b[33m  Downloading http://pypi-mirror.modal.local:5555/simple/markupsafe/MarkupSafe-3.0.2-cp311-cp311-manylinux_2_17_x86_64.manylinux2014_x86_64.whl.metadata (4.0 kB)\n",
       "\u001b[0m"
      ]
     },
     "metadata": {},
     "output_type": "display_data"
    },
    {
     "data": {
      "text/html": [
       "<pre style=\"white-space:pre;overflow-x:auto;line-height:normal;font-family:Menlo,'DejaVu Sans Mono',consolas,'Courier New',monospace\"><span style=\"color: #808000; text-decoration-color: #808000\">Collecting charset-normalizer&lt;4,&gt;=2 (from requests-&gt;transformers)\n",
       "</span></pre>\n"
      ],
      "text/plain": [
       "\u001b[33mCollecting charset-normalizer<4,>=2 (from requests->transformers)\n",
       "\u001b[0m"
      ]
     },
     "metadata": {},
     "output_type": "display_data"
    },
    {
     "data": {
      "text/html": [
       "<pre style=\"white-space:pre;overflow-x:auto;line-height:normal;font-family:Menlo,'DejaVu Sans Mono',consolas,'Courier New',monospace\"><span style=\"color: #808000; text-decoration-color: #808000\">  Downloading http://pypi-mirror.modal.local:5555/simple/charset-normalizer/charset_normalizer-3.4.2-cp311-cp311-manylinux_2_17_x86_64.manylinux2014_x86_64.whl.metadata (35 kB)\n",
       "</span></pre>\n"
      ],
      "text/plain": [
       "\u001b[33m  Downloading http://pypi-mirror.modal.local:5555/simple/charset-normalizer/charset_normalizer-3.4.2-cp311-cp311-manylinux_2_17_x86_64.manylinux2014_x86_64.whl.metadata (35 kB)\n",
       "\u001b[0m"
      ]
     },
     "metadata": {},
     "output_type": "display_data"
    },
    {
     "data": {
      "text/html": [
       "<pre style=\"white-space:pre;overflow-x:auto;line-height:normal;font-family:Menlo,'DejaVu Sans Mono',consolas,'Courier New',monospace\"><span style=\"color: #808000; text-decoration-color: #808000\">Requirement already satisfied: idna&lt;4,&gt;=2.5 in /usr/local/lib/python3.11/site-packages (from requests-&gt;transformers) (3.10)\n",
       "</span></pre>\n"
      ],
      "text/plain": [
       "\u001b[33mRequirement already satisfied: idna<4,>=2.5 in /usr/local/lib/python3.11/site-packages (from requests->transformers) (3.10)\n",
       "\u001b[0m"
      ]
     },
     "metadata": {},
     "output_type": "display_data"
    },
    {
     "data": {
      "text/html": [
       "<pre style=\"white-space:pre;overflow-x:auto;line-height:normal;font-family:Menlo,'DejaVu Sans Mono',consolas,'Courier New',monospace\"><span style=\"color: #808000; text-decoration-color: #808000\">Collecting urllib3&lt;3,&gt;=1.21.1 (from requests-&gt;transformers)\n",
       "</span></pre>\n"
      ],
      "text/plain": [
       "\u001b[33mCollecting urllib3<3,>=1.21.1 (from requests->transformers)\n",
       "\u001b[0m"
      ]
     },
     "metadata": {},
     "output_type": "display_data"
    },
    {
     "data": {
      "text/html": [
       "<pre style=\"white-space:pre;overflow-x:auto;line-height:normal;font-family:Menlo,'DejaVu Sans Mono',consolas,'Courier New',monospace\"><span style=\"color: #808000; text-decoration-color: #808000\">  Downloading http://pypi-mirror.modal.local:5555/simple/urllib3/urllib3-2.4.0-py3-none-any.whl.metadata (6.5 kB)\n",
       "Requirement already satisfied: certifi&gt;=2017.4.17 in /usr/local/lib/python3.11/site-packages (from requests-&gt;transformers) (2024.8.30)\n",
       "</span></pre>\n"
      ],
      "text/plain": [
       "\u001b[33m  Downloading http://pypi-mirror.modal.local:5555/simple/urllib3/urllib3-2.4.0-py3-none-any.whl.metadata (6.5 kB)\n",
       "Requirement already satisfied: certifi>=2017.4.17 in /usr/local/lib/python3.11/site-packages (from requests->transformers) (2024.8.30)\n",
       "\u001b[0m"
      ]
     },
     "metadata": {},
     "output_type": "display_data"
    },
    {
     "data": {
      "text/html": [
       "<pre style=\"white-space:pre;overflow-x:auto;line-height:normal;font-family:Menlo,'DejaVu Sans Mono',consolas,'Courier New',monospace\"><span style=\"color: #808000; text-decoration-color: #808000\">Downloading http://pypi-mirror.modal.local:5555/simple/accelerate/accelerate-1.6.0-py3-none-any.whl (354 kB)\n",
       "</span></pre>\n"
      ],
      "text/plain": [
       "\u001b[33mDownloading http://pypi-mirror.modal.local:5555/simple/accelerate/accelerate-1.6.0-py3-none-any.whl (354 kB)\n",
       "\u001b[0m"
      ]
     },
     "metadata": {},
     "output_type": "display_data"
    },
    {
     "data": {
      "text/html": [
       "<pre style=\"white-space:pre;overflow-x:auto;line-height:normal;font-family:Menlo,'DejaVu Sans Mono',consolas,'Courier New',monospace\"><span style=\"color: #808000; text-decoration-color: #808000\">Downloading http://pypi-mirror.modal.local:5555/simple/bitsandbytes/bitsandbytes-0.45.5-py3-none-manylinux_2_24_x86_64.whl (76.1 MB)\n",
       "</span></pre>\n"
      ],
      "text/plain": [
       "\u001b[33mDownloading http://pypi-mirror.modal.local:5555/simple/bitsandbytes/bitsandbytes-0.45.5-py3-none-manylinux_2_24_x86_64.whl (76.1 MB)\n",
       "\u001b[0m"
      ]
     },
     "metadata": {},
     "output_type": "display_data"
    },
    {
     "data": {
      "text/html": [
       "<pre style=\"white-space:pre;overflow-x:auto;line-height:normal;font-family:Menlo,'DejaVu Sans Mono',consolas,'Courier New',monospace\"><span style=\"color: #808000; text-decoration-color: #808000\"></span></pre>\n"
      ],
      "text/plain": []
     },
     "metadata": {},
     "output_type": "display_data"
    },
    {
     "data": {
      "text/html": [
       "<pre style=\"white-space:pre;overflow-x:auto;line-height:normal;font-family:Menlo,'DejaVu Sans Mono',consolas,'Courier New',monospace\"><span style=\"color: #808000; text-decoration-color: #808000\">   ━━━━━━━━━━━━━━━━━━━━━━━━━━━━━━━━━━━━━━━━ 76.1/76.1 MB 312.8 MB/s eta 0:00:00\n",
       "</span></pre>\n"
      ],
      "text/plain": [
       "\u001b[33m   ━━━━━━━━━━━━━━━━━━━━━━━━━━━━━━━━━━━━━━━━ 76.1/76.1 MB 312.8 MB/s eta 0:00:00\n",
       "\u001b[0m"
      ]
     },
     "metadata": {},
     "output_type": "display_data"
    },
    {
     "data": {
      "text/html": [
       "<pre style=\"white-space:pre;overflow-x:auto;line-height:normal;font-family:Menlo,'DejaVu Sans Mono',consolas,'Courier New',monospace\"><span style=\"color: #808000; text-decoration-color: #808000\">Downloading http://pypi-mirror.modal.local:5555/simple/torch/torch-2.7.0-cp311-cp311-manylinux_2_28_x86_64.whl (865.2 MB)\n",
       "</span></pre>\n"
      ],
      "text/plain": [
       "\u001b[33mDownloading http://pypi-mirror.modal.local:5555/simple/torch/torch-2.7.0-cp311-cp311-manylinux_2_28_x86_64.whl (865.2 MB)\n",
       "\u001b[0m"
      ]
     },
     "metadata": {},
     "output_type": "display_data"
    },
    {
     "data": {
      "text/html": [
       "<pre style=\"white-space:pre;overflow-x:auto;line-height:normal;font-family:Menlo,'DejaVu Sans Mono',consolas,'Courier New',monospace\"><span style=\"color: #808000; text-decoration-color: #808000\"></span></pre>\n"
      ],
      "text/plain": []
     },
     "metadata": {},
     "output_type": "display_data"
    },
    {
     "data": {
      "text/html": [
       "<pre style=\"white-space:pre;overflow-x:auto;line-height:normal;font-family:Menlo,'DejaVu Sans Mono',consolas,'Courier New',monospace\"><span style=\"color: #808000; text-decoration-color: #808000\">   ━━━━━━━━━━━━━━━━━━━━━━━━━━━━━━━━━━━━━━━ 865.2/865.2 MB 434.2 MB/s eta 0:00:00\n",
       "</span></pre>\n"
      ],
      "text/plain": [
       "\u001b[33m   ━━━━━━━━━━━━━━━━━━━━━━━━━━━━━━━━━━━━━━━ 865.2/865.2 MB 434.2 MB/s eta 0:00:00\n",
       "\u001b[0m"
      ]
     },
     "metadata": {},
     "output_type": "display_data"
    },
    {
     "data": {
      "text/html": [
       "<pre style=\"white-space:pre;overflow-x:auto;line-height:normal;font-family:Menlo,'DejaVu Sans Mono',consolas,'Courier New',monospace\"><span style=\"color: #808000; text-decoration-color: #808000\">Downloading http://pypi-mirror.modal.local:5555/simple/nvidia-cublas-cu12/nvidia_cublas_cu12-12.6.4.1-py3-none-manylinux2014_x86_64.manylinux_2_17_x86_64.whl (393.1 MB)\n",
       "</span></pre>\n"
      ],
      "text/plain": [
       "\u001b[33mDownloading http://pypi-mirror.modal.local:5555/simple/nvidia-cublas-cu12/nvidia_cublas_cu12-12.6.4.1-py3-none-manylinux2014_x86_64.manylinux_2_17_x86_64.whl (393.1 MB)\n",
       "\u001b[0m"
      ]
     },
     "metadata": {},
     "output_type": "display_data"
    },
    {
     "data": {
      "text/html": [
       "<pre style=\"white-space:pre;overflow-x:auto;line-height:normal;font-family:Menlo,'DejaVu Sans Mono',consolas,'Courier New',monospace\"><span style=\"color: #808000; text-decoration-color: #808000\"></span></pre>\n"
      ],
      "text/plain": []
     },
     "metadata": {},
     "output_type": "display_data"
    },
    {
     "data": {
      "text/html": [
       "<pre style=\"white-space:pre;overflow-x:auto;line-height:normal;font-family:Menlo,'DejaVu Sans Mono',consolas,'Courier New',monospace\"><span style=\"color: #808000; text-decoration-color: #808000\">   ━━━━━━━━━━━━━━━━━━━━━━━━━━━━━━━━━━━━━━━ 393.1/393.1 MB 484.1 MB/s eta 0:00:00\n",
       "</span></pre>\n"
      ],
      "text/plain": [
       "\u001b[33m   ━━━━━━━━━━━━━━━━━━━━━━━━━━━━━━━━━━━━━━━ 393.1/393.1 MB 484.1 MB/s eta 0:00:00\n",
       "\u001b[0m"
      ]
     },
     "metadata": {},
     "output_type": "display_data"
    },
    {
     "data": {
      "text/html": [
       "<pre style=\"white-space:pre;overflow-x:auto;line-height:normal;font-family:Menlo,'DejaVu Sans Mono',consolas,'Courier New',monospace\"><span style=\"color: #808000; text-decoration-color: #808000\">Downloading http://pypi-mirror.modal.local:5555/simple/nvidia-cuda-cupti-cu12/nvidia_cuda_cupti_cu12-12.6.80-py3-none-manylinux2014_x86_64.manylinux_2_17_x86_64.whl (8.9 MB)\n",
       "</span></pre>\n"
      ],
      "text/plain": [
       "\u001b[33mDownloading http://pypi-mirror.modal.local:5555/simple/nvidia-cuda-cupti-cu12/nvidia_cuda_cupti_cu12-12.6.80-py3-none-manylinux2014_x86_64.manylinux_2_17_x86_64.whl (8.9 MB)\n",
       "\u001b[0m"
      ]
     },
     "metadata": {},
     "output_type": "display_data"
    },
    {
     "data": {
      "text/html": [
       "<pre style=\"white-space:pre;overflow-x:auto;line-height:normal;font-family:Menlo,'DejaVu Sans Mono',consolas,'Courier New',monospace\"><span style=\"color: #808000; text-decoration-color: #808000\"></span></pre>\n"
      ],
      "text/plain": []
     },
     "metadata": {},
     "output_type": "display_data"
    },
    {
     "data": {
      "text/html": [
       "<pre style=\"white-space:pre;overflow-x:auto;line-height:normal;font-family:Menlo,'DejaVu Sans Mono',consolas,'Courier New',monospace\"><span style=\"color: #808000; text-decoration-color: #808000\">   ━━━━━━━━━━━━━━━━━━━━━━━━━━━━━━━━━━━━━━━━ 8.9/8.9 MB 453.7 MB/s eta 0:00:00\n",
       "</span></pre>\n"
      ],
      "text/plain": [
       "\u001b[33m   ━━━━━━━━━━━━━━━━━━━━━━━━━━━━━━━━━━━━━━━━ 8.9/8.9 MB 453.7 MB/s eta 0:00:00\n",
       "\u001b[0m"
      ]
     },
     "metadata": {},
     "output_type": "display_data"
    },
    {
     "data": {
      "text/html": [
       "<pre style=\"white-space:pre;overflow-x:auto;line-height:normal;font-family:Menlo,'DejaVu Sans Mono',consolas,'Courier New',monospace\"><span style=\"color: #808000; text-decoration-color: #808000\">Downloading http://pypi-mirror.modal.local:5555/simple/nvidia-cuda-nvrtc-cu12/nvidia_cuda_nvrtc_cu12-12.6.77-py3-none-manylinux2014_x86_64.whl (23.7 MB)\n",
       "</span></pre>\n"
      ],
      "text/plain": [
       "\u001b[33mDownloading http://pypi-mirror.modal.local:5555/simple/nvidia-cuda-nvrtc-cu12/nvidia_cuda_nvrtc_cu12-12.6.77-py3-none-manylinux2014_x86_64.whl (23.7 MB)\n",
       "\u001b[0m"
      ]
     },
     "metadata": {},
     "output_type": "display_data"
    },
    {
     "data": {
      "text/html": [
       "<pre style=\"white-space:pre;overflow-x:auto;line-height:normal;font-family:Menlo,'DejaVu Sans Mono',consolas,'Courier New',monospace\"><span style=\"color: #808000; text-decoration-color: #808000\"></span></pre>\n"
      ],
      "text/plain": []
     },
     "metadata": {},
     "output_type": "display_data"
    },
    {
     "data": {
      "text/html": [
       "<pre style=\"white-space:pre;overflow-x:auto;line-height:normal;font-family:Menlo,'DejaVu Sans Mono',consolas,'Courier New',monospace\"><span style=\"color: #808000; text-decoration-color: #808000\">   ━━━━━━━━━━━━━━━━━━━━━━━━━━━━━━━━━━━━━━━━ 23.7/23.7 MB 485.4 MB/s eta 0:00:00\n",
       "</span></pre>\n"
      ],
      "text/plain": [
       "\u001b[33m   ━━━━━━━━━━━━━━━━━━━━━━━━━━━━━━━━━━━━━━━━ 23.7/23.7 MB 485.4 MB/s eta 0:00:00\n",
       "\u001b[0m"
      ]
     },
     "metadata": {},
     "output_type": "display_data"
    },
    {
     "data": {
      "text/html": [
       "<pre style=\"white-space:pre;overflow-x:auto;line-height:normal;font-family:Menlo,'DejaVu Sans Mono',consolas,'Courier New',monospace\"><span style=\"color: #808000; text-decoration-color: #808000\">Downloading http://pypi-mirror.modal.local:5555/simple/nvidia-cuda-runtime-cu12/nvidia_cuda_runtime_cu12-12.6.77-py3-none-manylinux2014_x86_64.manylinux_2_17_x86_64.whl (897 kB)\n",
       "   ━━━━━━━━━━━━━━━━━━━━━━━━━━━━━━━━━━━━━━━━ 897.7/897.7 kB 1.2 GB/s eta 0:00:00\n",
       "</span></pre>\n"
      ],
      "text/plain": [
       "\u001b[33mDownloading http://pypi-mirror.modal.local:5555/simple/nvidia-cuda-runtime-cu12/nvidia_cuda_runtime_cu12-12.6.77-py3-none-manylinux2014_x86_64.manylinux_2_17_x86_64.whl (897 kB)\n",
       "   ━━━━━━━━━━━━━━━━━━━━━━━━━━━━━━━━━━━━━━━━ 897.7/897.7 kB 1.2 GB/s eta 0:00:00\n",
       "\u001b[0m"
      ]
     },
     "metadata": {},
     "output_type": "display_data"
    },
    {
     "data": {
      "text/html": [
       "<pre style=\"white-space:pre;overflow-x:auto;line-height:normal;font-family:Menlo,'DejaVu Sans Mono',consolas,'Courier New',monospace\"><span style=\"color: #808000; text-decoration-color: #808000\">Downloading http://pypi-mirror.modal.local:5555/simple/nvidia-cudnn-cu12/nvidia_cudnn_cu12-9.5.1.17-py3-none-manylinux_2_28_x86_64.whl (571.0 MB)\n",
       "</span></pre>\n"
      ],
      "text/plain": [
       "\u001b[33mDownloading http://pypi-mirror.modal.local:5555/simple/nvidia-cudnn-cu12/nvidia_cudnn_cu12-9.5.1.17-py3-none-manylinux_2_28_x86_64.whl (571.0 MB)\n",
       "\u001b[0m"
      ]
     },
     "metadata": {},
     "output_type": "display_data"
    },
    {
     "data": {
      "text/html": [
       "<pre style=\"white-space:pre;overflow-x:auto;line-height:normal;font-family:Menlo,'DejaVu Sans Mono',consolas,'Courier New',monospace\"><span style=\"color: #808000; text-decoration-color: #808000\"></span></pre>\n"
      ],
      "text/plain": []
     },
     "metadata": {},
     "output_type": "display_data"
    },
    {
     "data": {
      "text/html": [
       "<pre style=\"white-space:pre;overflow-x:auto;line-height:normal;font-family:Menlo,'DejaVu Sans Mono',consolas,'Courier New',monospace\"><span style=\"color: #808000; text-decoration-color: #808000\">   ━━━━━━━━━━━━━━━━━━━━━━━━━━━━━━━━━━━━━━━ 571.0/571.0 MB 473.9 MB/s eta 0:00:00\n",
       "</span></pre>\n"
      ],
      "text/plain": [
       "\u001b[33m   ━━━━━━━━━━━━━━━━━━━━━━━━━━━━━━━━━━━━━━━ 571.0/571.0 MB 473.9 MB/s eta 0:00:00\n",
       "\u001b[0m"
      ]
     },
     "metadata": {},
     "output_type": "display_data"
    },
    {
     "data": {
      "text/html": [
       "<pre style=\"white-space:pre;overflow-x:auto;line-height:normal;font-family:Menlo,'DejaVu Sans Mono',consolas,'Courier New',monospace\"><span style=\"color: #808000; text-decoration-color: #808000\">Downloading http://pypi-mirror.modal.local:5555/simple/nvidia-cufft-cu12/nvidia_cufft_cu12-11.3.0.4-py3-none-manylinux2014_x86_64.manylinux_2_17_x86_64.whl (200.2 MB)\n",
       "</span></pre>\n"
      ],
      "text/plain": [
       "\u001b[33mDownloading http://pypi-mirror.modal.local:5555/simple/nvidia-cufft-cu12/nvidia_cufft_cu12-11.3.0.4-py3-none-manylinux2014_x86_64.manylinux_2_17_x86_64.whl (200.2 MB)\n",
       "\u001b[0m"
      ]
     },
     "metadata": {},
     "output_type": "display_data"
    },
    {
     "data": {
      "text/html": [
       "<pre style=\"white-space:pre;overflow-x:auto;line-height:normal;font-family:Menlo,'DejaVu Sans Mono',consolas,'Courier New',monospace\"><span style=\"color: #808000; text-decoration-color: #808000\"></span></pre>\n"
      ],
      "text/plain": []
     },
     "metadata": {},
     "output_type": "display_data"
    },
    {
     "data": {
      "text/html": [
       "<pre style=\"white-space:pre;overflow-x:auto;line-height:normal;font-family:Menlo,'DejaVu Sans Mono',consolas,'Courier New',monospace\"><span style=\"color: #808000; text-decoration-color: #808000\">   ━━━━━━━━━━━━━━━━━━━━━━━━━━━━━━━━━━━━━━━ 200.2/200.2 MB 445.1 MB/s eta 0:00:00\n",
       "</span></pre>\n"
      ],
      "text/plain": [
       "\u001b[33m   ━━━━━━━━━━━━━━━━━━━━━━━━━━━━━━━━━━━━━━━ 200.2/200.2 MB 445.1 MB/s eta 0:00:00\n",
       "\u001b[0m"
      ]
     },
     "metadata": {},
     "output_type": "display_data"
    },
    {
     "data": {
      "text/html": [
       "<pre style=\"white-space:pre;overflow-x:auto;line-height:normal;font-family:Menlo,'DejaVu Sans Mono',consolas,'Courier New',monospace\"><span style=\"color: #808000; text-decoration-color: #808000\">Downloading http://pypi-mirror.modal.local:5555/simple/nvidia-cufile-cu12/nvidia_cufile_cu12-1.11.1.6-py3-none-manylinux2014_x86_64.manylinux_2_17_x86_64.whl (1.1 MB)\n",
       "</span></pre>\n"
      ],
      "text/plain": [
       "\u001b[33mDownloading http://pypi-mirror.modal.local:5555/simple/nvidia-cufile-cu12/nvidia_cufile_cu12-1.11.1.6-py3-none-manylinux2014_x86_64.manylinux_2_17_x86_64.whl (1.1 MB)\n",
       "\u001b[0m"
      ]
     },
     "metadata": {},
     "output_type": "display_data"
    },
    {
     "data": {
      "text/html": [
       "<pre style=\"white-space:pre;overflow-x:auto;line-height:normal;font-family:Menlo,'DejaVu Sans Mono',consolas,'Courier New',monospace\"><span style=\"color: #808000; text-decoration-color: #808000\"></span></pre>\n"
      ],
      "text/plain": []
     },
     "metadata": {},
     "output_type": "display_data"
    },
    {
     "data": {
      "text/html": [
       "<pre style=\"white-space:pre;overflow-x:auto;line-height:normal;font-family:Menlo,'DejaVu Sans Mono',consolas,'Courier New',monospace\"><span style=\"color: #808000; text-decoration-color: #808000\">   ━━━━━━━━━━━━━━━━━━━━━━━━━━━━━━━━━━━━━━━━ 1.1/1.1 MB 800.4 MB/s eta 0:00:00\n",
       "</span></pre>\n"
      ],
      "text/plain": [
       "\u001b[33m   ━━━━━━━━━━━━━━━━━━━━━━━━━━━━━━━━━━━━━━━━ 1.1/1.1 MB 800.4 MB/s eta 0:00:00\n",
       "\u001b[0m"
      ]
     },
     "metadata": {},
     "output_type": "display_data"
    },
    {
     "data": {
      "text/html": [
       "<pre style=\"white-space:pre;overflow-x:auto;line-height:normal;font-family:Menlo,'DejaVu Sans Mono',consolas,'Courier New',monospace\"><span style=\"color: #808000; text-decoration-color: #808000\">Downloading http://pypi-mirror.modal.local:5555/simple/nvidia-curand-cu12/nvidia_curand_cu12-10.3.7.77-py3-none-manylinux2014_x86_64.manylinux_2_17_x86_64.whl (56.3 MB)\n",
       "</span></pre>\n"
      ],
      "text/plain": [
       "\u001b[33mDownloading http://pypi-mirror.modal.local:5555/simple/nvidia-curand-cu12/nvidia_curand_cu12-10.3.7.77-py3-none-manylinux2014_x86_64.manylinux_2_17_x86_64.whl (56.3 MB)\n",
       "\u001b[0m"
      ]
     },
     "metadata": {},
     "output_type": "display_data"
    },
    {
     "data": {
      "text/html": [
       "<pre style=\"white-space:pre;overflow-x:auto;line-height:normal;font-family:Menlo,'DejaVu Sans Mono',consolas,'Courier New',monospace\"><span style=\"color: #808000; text-decoration-color: #808000\"></span></pre>\n"
      ],
      "text/plain": []
     },
     "metadata": {},
     "output_type": "display_data"
    },
    {
     "data": {
      "text/html": [
       "<pre style=\"white-space:pre;overflow-x:auto;line-height:normal;font-family:Menlo,'DejaVu Sans Mono',consolas,'Courier New',monospace\"><span style=\"color: #808000; text-decoration-color: #808000\">   ━━━━━━━━━━━━━━━━━━━━━━━━━━━━━━━━━━━━━━━━ 56.3/56.3 MB 528.6 MB/s eta 0:00:00\n",
       "</span></pre>\n"
      ],
      "text/plain": [
       "\u001b[33m   ━━━━━━━━━━━━━━━━━━━━━━━━━━━━━━━━━━━━━━━━ 56.3/56.3 MB 528.6 MB/s eta 0:00:00\n",
       "\u001b[0m"
      ]
     },
     "metadata": {},
     "output_type": "display_data"
    },
    {
     "data": {
      "text/html": [
       "<pre style=\"white-space:pre;overflow-x:auto;line-height:normal;font-family:Menlo,'DejaVu Sans Mono',consolas,'Courier New',monospace\"><span style=\"color: #808000; text-decoration-color: #808000\">Downloading http://pypi-mirror.modal.local:5555/simple/nvidia-cusolver-cu12/nvidia_cusolver_cu12-11.7.1.2-py3-none-manylinux2014_x86_64.manylinux_2_17_x86_64.whl (158.2 MB)\n",
       "</span></pre>\n"
      ],
      "text/plain": [
       "\u001b[33mDownloading http://pypi-mirror.modal.local:5555/simple/nvidia-cusolver-cu12/nvidia_cusolver_cu12-11.7.1.2-py3-none-manylinux2014_x86_64.manylinux_2_17_x86_64.whl (158.2 MB)\n",
       "\u001b[0m"
      ]
     },
     "metadata": {},
     "output_type": "display_data"
    },
    {
     "data": {
      "text/html": [
       "<pre style=\"white-space:pre;overflow-x:auto;line-height:normal;font-family:Menlo,'DejaVu Sans Mono',consolas,'Courier New',monospace\"><span style=\"color: #808000; text-decoration-color: #808000\"></span></pre>\n"
      ],
      "text/plain": []
     },
     "metadata": {},
     "output_type": "display_data"
    },
    {
     "data": {
      "text/html": [
       "<pre style=\"white-space:pre;overflow-x:auto;line-height:normal;font-family:Menlo,'DejaVu Sans Mono',consolas,'Courier New',monospace\"><span style=\"color: #808000; text-decoration-color: #808000\">   ━━━━━━━━━━━━━━━━━━━━━━━━━━━━━━━━━━━━━━━ 158.2/158.2 MB 497.0 MB/s eta 0:00:00\n",
       "</span></pre>\n"
      ],
      "text/plain": [
       "\u001b[33m   ━━━━━━━━━━━━━━━━━━━━━━━━━━━━━━━━━━━━━━━ 158.2/158.2 MB 497.0 MB/s eta 0:00:00\n",
       "\u001b[0m"
      ]
     },
     "metadata": {},
     "output_type": "display_data"
    },
    {
     "data": {
      "text/html": [
       "<pre style=\"white-space:pre;overflow-x:auto;line-height:normal;font-family:Menlo,'DejaVu Sans Mono',consolas,'Courier New',monospace\"><span style=\"color: #808000; text-decoration-color: #808000\">Downloading http://pypi-mirror.modal.local:5555/simple/nvidia-cusparse-cu12/nvidia_cusparse_cu12-12.5.4.2-py3-none-manylinux2014_x86_64.manylinux_2_17_x86_64.whl (216.6 MB)\n",
       "</span></pre>\n"
      ],
      "text/plain": [
       "\u001b[33mDownloading http://pypi-mirror.modal.local:5555/simple/nvidia-cusparse-cu12/nvidia_cusparse_cu12-12.5.4.2-py3-none-manylinux2014_x86_64.manylinux_2_17_x86_64.whl (216.6 MB)\n",
       "\u001b[0m"
      ]
     },
     "metadata": {},
     "output_type": "display_data"
    },
    {
     "data": {
      "text/html": [
       "<pre style=\"white-space:pre;overflow-x:auto;line-height:normal;font-family:Menlo,'DejaVu Sans Mono',consolas,'Courier New',monospace\"><span style=\"color: #808000; text-decoration-color: #808000\"></span></pre>\n"
      ],
      "text/plain": []
     },
     "metadata": {},
     "output_type": "display_data"
    },
    {
     "data": {
      "text/html": [
       "<pre style=\"white-space:pre;overflow-x:auto;line-height:normal;font-family:Menlo,'DejaVu Sans Mono',consolas,'Courier New',monospace\"><span style=\"color: #808000; text-decoration-color: #808000\">   ━━━━━━━━━━━━━━━━━━━━━━━━━━━━━━━━━━━━━━━ 216.6/216.6 MB 530.0 MB/s eta 0:00:00\n",
       "</span></pre>\n"
      ],
      "text/plain": [
       "\u001b[33m   ━━━━━━━━━━━━━━━━━━━━━━━━━━━━━━━━━━━━━━━ 216.6/216.6 MB 530.0 MB/s eta 0:00:00\n",
       "\u001b[0m"
      ]
     },
     "metadata": {},
     "output_type": "display_data"
    },
    {
     "data": {
      "text/html": [
       "<pre style=\"white-space:pre;overflow-x:auto;line-height:normal;font-family:Menlo,'DejaVu Sans Mono',consolas,'Courier New',monospace\"><span style=\"color: #808000; text-decoration-color: #808000\">Downloading http://pypi-mirror.modal.local:5555/simple/nvidia-cusparselt-cu12/nvidia_cusparselt_cu12-0.6.3-py3-none-manylinux2014_x86_64.whl (156.8 MB)\n",
       "</span></pre>\n"
      ],
      "text/plain": [
       "\u001b[33mDownloading http://pypi-mirror.modal.local:5555/simple/nvidia-cusparselt-cu12/nvidia_cusparselt_cu12-0.6.3-py3-none-manylinux2014_x86_64.whl (156.8 MB)\n",
       "\u001b[0m"
      ]
     },
     "metadata": {},
     "output_type": "display_data"
    },
    {
     "data": {
      "text/html": [
       "<pre style=\"white-space:pre;overflow-x:auto;line-height:normal;font-family:Menlo,'DejaVu Sans Mono',consolas,'Courier New',monospace\"><span style=\"color: #808000; text-decoration-color: #808000\"></span></pre>\n"
      ],
      "text/plain": []
     },
     "metadata": {},
     "output_type": "display_data"
    },
    {
     "data": {
      "text/html": [
       "<pre style=\"white-space:pre;overflow-x:auto;line-height:normal;font-family:Menlo,'DejaVu Sans Mono',consolas,'Courier New',monospace\"><span style=\"color: #808000; text-decoration-color: #808000\">   ━━━━━━━━━━━━━━━━━━━━━━━━━━━━━━━━━━━━━━━ 156.8/156.8 MB 480.6 MB/s eta 0:00:00\n",
       "</span></pre>\n"
      ],
      "text/plain": [
       "\u001b[33m   ━━━━━━━━━━━━━━━━━━━━━━━━━━━━━━━━━━━━━━━ 156.8/156.8 MB 480.6 MB/s eta 0:00:00\n",
       "\u001b[0m"
      ]
     },
     "metadata": {},
     "output_type": "display_data"
    },
    {
     "data": {
      "text/html": [
       "<pre style=\"white-space:pre;overflow-x:auto;line-height:normal;font-family:Menlo,'DejaVu Sans Mono',consolas,'Courier New',monospace\"><span style=\"color: #808000; text-decoration-color: #808000\">Downloading http://pypi-mirror.modal.local:5555/simple/nvidia-nccl-cu12/nvidia_nccl_cu12-2.26.2-py3-none-manylinux2014_x86_64.manylinux_2_17_x86_64.whl (201.3 MB)\n",
       "</span></pre>\n"
      ],
      "text/plain": [
       "\u001b[33mDownloading http://pypi-mirror.modal.local:5555/simple/nvidia-nccl-cu12/nvidia_nccl_cu12-2.26.2-py3-none-manylinux2014_x86_64.manylinux_2_17_x86_64.whl (201.3 MB)\n",
       "\u001b[0m"
      ]
     },
     "metadata": {},
     "output_type": "display_data"
    },
    {
     "data": {
      "text/html": [
       "<pre style=\"white-space:pre;overflow-x:auto;line-height:normal;font-family:Menlo,'DejaVu Sans Mono',consolas,'Courier New',monospace\"><span style=\"color: #808000; text-decoration-color: #808000\"></span></pre>\n"
      ],
      "text/plain": []
     },
     "metadata": {},
     "output_type": "display_data"
    },
    {
     "data": {
      "text/html": [
       "<pre style=\"white-space:pre;overflow-x:auto;line-height:normal;font-family:Menlo,'DejaVu Sans Mono',consolas,'Courier New',monospace\"><span style=\"color: #808000; text-decoration-color: #808000\">   ━━━━━━━━━━━━━━━━━━━━━━━━━━━━━━━━━━━━━━━ 201.3/201.3 MB 454.3 MB/s eta 0:00:00\n",
       "</span></pre>\n"
      ],
      "text/plain": [
       "\u001b[33m   ━━━━━━━━━━━━━━━━━━━━━━━━━━━━━━━━━━━━━━━ 201.3/201.3 MB 454.3 MB/s eta 0:00:00\n",
       "\u001b[0m"
      ]
     },
     "metadata": {},
     "output_type": "display_data"
    },
    {
     "data": {
      "text/html": [
       "<pre style=\"white-space:pre;overflow-x:auto;line-height:normal;font-family:Menlo,'DejaVu Sans Mono',consolas,'Courier New',monospace\"><span style=\"color: #808000; text-decoration-color: #808000\">Downloading http://pypi-mirror.modal.local:5555/simple/nvidia-nvjitlink-cu12/nvidia_nvjitlink_cu12-12.6.85-py3-none-manylinux2010_x86_64.manylinux_2_12_x86_64.whl (19.7 MB)\n",
       "</span></pre>\n"
      ],
      "text/plain": [
       "\u001b[33mDownloading http://pypi-mirror.modal.local:5555/simple/nvidia-nvjitlink-cu12/nvidia_nvjitlink_cu12-12.6.85-py3-none-manylinux2010_x86_64.manylinux_2_12_x86_64.whl (19.7 MB)\n",
       "\u001b[0m"
      ]
     },
     "metadata": {},
     "output_type": "display_data"
    },
    {
     "data": {
      "text/html": [
       "<pre style=\"white-space:pre;overflow-x:auto;line-height:normal;font-family:Menlo,'DejaVu Sans Mono',consolas,'Courier New',monospace\"><span style=\"color: #808000; text-decoration-color: #808000\"></span></pre>\n"
      ],
      "text/plain": []
     },
     "metadata": {},
     "output_type": "display_data"
    },
    {
     "data": {
      "text/html": [
       "<pre style=\"white-space:pre;overflow-x:auto;line-height:normal;font-family:Menlo,'DejaVu Sans Mono',consolas,'Courier New',monospace\"><span style=\"color: #808000; text-decoration-color: #808000\">   ━━━━━━━━━━━━━━━━━━━━━━━━━━━━━━━━━━━━━━━━ 19.7/19.7 MB 463.0 MB/s eta 0:00:00\n",
       "</span></pre>\n"
      ],
      "text/plain": [
       "\u001b[33m   ━━━━━━━━━━━━━━━━━━━━━━━━━━━━━━━━━━━━━━━━ 19.7/19.7 MB 463.0 MB/s eta 0:00:00\n",
       "\u001b[0m"
      ]
     },
     "metadata": {},
     "output_type": "display_data"
    },
    {
     "data": {
      "text/html": [
       "<pre style=\"white-space:pre;overflow-x:auto;line-height:normal;font-family:Menlo,'DejaVu Sans Mono',consolas,'Courier New',monospace\"><span style=\"color: #808000; text-decoration-color: #808000\">Downloading http://pypi-mirror.modal.local:5555/simple/nvidia-nvtx-cu12/nvidia_nvtx_cu12-12.6.77-py3-none-manylinux2014_x86_64.manylinux_2_17_x86_64.whl (89 kB)\n",
       "</span></pre>\n"
      ],
      "text/plain": [
       "\u001b[33mDownloading http://pypi-mirror.modal.local:5555/simple/nvidia-nvtx-cu12/nvidia_nvtx_cu12-12.6.77-py3-none-manylinux2014_x86_64.manylinux_2_17_x86_64.whl (89 kB)\n",
       "\u001b[0m"
      ]
     },
     "metadata": {},
     "output_type": "display_data"
    },
    {
     "data": {
      "text/html": [
       "<pre style=\"white-space:pre;overflow-x:auto;line-height:normal;font-family:Menlo,'DejaVu Sans Mono',consolas,'Courier New',monospace\"><span style=\"color: #808000; text-decoration-color: #808000\">Downloading http://pypi-mirror.modal.local:5555/simple/triton/triton-3.3.0-cp311-cp311-manylinux_2_27_x86_64.manylinux_2_28_x86_64.whl (156.5 MB)\n",
       "</span></pre>\n"
      ],
      "text/plain": [
       "\u001b[33mDownloading http://pypi-mirror.modal.local:5555/simple/triton/triton-3.3.0-cp311-cp311-manylinux_2_27_x86_64.manylinux_2_28_x86_64.whl (156.5 MB)\n",
       "\u001b[0m"
      ]
     },
     "metadata": {},
     "output_type": "display_data"
    },
    {
     "data": {
      "text/html": [
       "<pre style=\"white-space:pre;overflow-x:auto;line-height:normal;font-family:Menlo,'DejaVu Sans Mono',consolas,'Courier New',monospace\"><span style=\"color: #808000; text-decoration-color: #808000\"></span></pre>\n"
      ],
      "text/plain": []
     },
     "metadata": {},
     "output_type": "display_data"
    },
    {
     "data": {
      "text/html": [
       "<pre style=\"white-space:pre;overflow-x:auto;line-height:normal;font-family:Menlo,'DejaVu Sans Mono',consolas,'Courier New',monospace\"><span style=\"color: #808000; text-decoration-color: #808000\">   ━━━━━━━━━━━━━━━━━━━━━━━━━━━━━━━━━━━━━━━ 156.5/156.5 MB 215.1 MB/s eta 0:00:00\n",
       "</span></pre>\n"
      ],
      "text/plain": [
       "\u001b[33m   ━━━━━━━━━━━━━━━━━━━━━━━━━━━━━━━━━━━━━━━ 156.5/156.5 MB 215.1 MB/s eta 0:00:00\n",
       "\u001b[0m"
      ]
     },
     "metadata": {},
     "output_type": "display_data"
    },
    {
     "data": {
      "text/html": [
       "<pre style=\"white-space:pre;overflow-x:auto;line-height:normal;font-family:Menlo,'DejaVu Sans Mono',consolas,'Courier New',monospace\"><span style=\"color: #808000; text-decoration-color: #808000\">Downloading http://pypi-mirror.modal.local:5555/simple/transformers/transformers-4.51.3-py3-none-any.whl (10.4 MB)\n",
       "</span></pre>\n"
      ],
      "text/plain": [
       "\u001b[33mDownloading http://pypi-mirror.modal.local:5555/simple/transformers/transformers-4.51.3-py3-none-any.whl (10.4 MB)\n",
       "\u001b[0m"
      ]
     },
     "metadata": {},
     "output_type": "display_data"
    },
    {
     "data": {
      "text/html": [
       "<pre style=\"white-space:pre;overflow-x:auto;line-height:normal;font-family:Menlo,'DejaVu Sans Mono',consolas,'Courier New',monospace\"><span style=\"color: #808000; text-decoration-color: #808000\"></span></pre>\n"
      ],
      "text/plain": []
     },
     "metadata": {},
     "output_type": "display_data"
    },
    {
     "data": {
      "text/html": [
       "<pre style=\"white-space:pre;overflow-x:auto;line-height:normal;font-family:Menlo,'DejaVu Sans Mono',consolas,'Courier New',monospace\"><span style=\"color: #808000; text-decoration-color: #808000\">   ━━━━━━━━━━━━━━━━━━━━━━━━━━━━━━━━━━━━━━━━ 10.4/10.4 MB 524.5 MB/s eta 0:00:00\n",
       "</span></pre>\n"
      ],
      "text/plain": [
       "\u001b[33m   ━━━━━━━━━━━━━━━━━━━━━━━━━━━━━━━━━━━━━━━━ 10.4/10.4 MB 524.5 MB/s eta 0:00:00\n",
       "\u001b[0m"
      ]
     },
     "metadata": {},
     "output_type": "display_data"
    },
    {
     "data": {
      "text/html": [
       "<pre style=\"white-space:pre;overflow-x:auto;line-height:normal;font-family:Menlo,'DejaVu Sans Mono',consolas,'Courier New',monospace\"><span style=\"color: #808000; text-decoration-color: #808000\">Downloading http://pypi-mirror.modal.local:5555/simple/huggingface-hub/huggingface_hub-0.31.1-py3-none-any.whl (484 kB)\n",
       "Downloading http://pypi-mirror.modal.local:5555/simple/fsspec/fsspec-2025.3.2-py3-none-any.whl (194 kB)\n",
       "</span></pre>\n"
      ],
      "text/plain": [
       "\u001b[33mDownloading http://pypi-mirror.modal.local:5555/simple/huggingface-hub/huggingface_hub-0.31.1-py3-none-any.whl (484 kB)\n",
       "Downloading http://pypi-mirror.modal.local:5555/simple/fsspec/fsspec-2025.3.2-py3-none-any.whl (194 kB)\n",
       "\u001b[0m"
      ]
     },
     "metadata": {},
     "output_type": "display_data"
    },
    {
     "data": {
      "text/html": [
       "<pre style=\"white-space:pre;overflow-x:auto;line-height:normal;font-family:Menlo,'DejaVu Sans Mono',consolas,'Courier New',monospace\"><span style=\"color: #808000; text-decoration-color: #808000\">Downloading http://pypi-mirror.modal.local:5555/simple/numpy/numpy-2.2.5-cp311-cp311-manylinux_2_17_x86_64.manylinux2014_x86_64.whl (16.4 MB)\n",
       "</span></pre>\n"
      ],
      "text/plain": [
       "\u001b[33mDownloading http://pypi-mirror.modal.local:5555/simple/numpy/numpy-2.2.5-cp311-cp311-manylinux_2_17_x86_64.manylinux2014_x86_64.whl (16.4 MB)\n",
       "\u001b[0m"
      ]
     },
     "metadata": {},
     "output_type": "display_data"
    },
    {
     "data": {
      "text/html": [
       "<pre style=\"white-space:pre;overflow-x:auto;line-height:normal;font-family:Menlo,'DejaVu Sans Mono',consolas,'Courier New',monospace\"><span style=\"color: #808000; text-decoration-color: #808000\"></span></pre>\n"
      ],
      "text/plain": []
     },
     "metadata": {},
     "output_type": "display_data"
    },
    {
     "data": {
      "text/html": [
       "<pre style=\"white-space:pre;overflow-x:auto;line-height:normal;font-family:Menlo,'DejaVu Sans Mono',consolas,'Courier New',monospace\"><span style=\"color: #808000; text-decoration-color: #808000\">   ━━━━━━━━━━━━━━━━━━━━━━━━━━━━━━━━━━━━━━━━ 16.4/16.4 MB 367.2 MB/s eta 0:00:00\n",
       "</span></pre>\n"
      ],
      "text/plain": [
       "\u001b[33m   ━━━━━━━━━━━━━━━━━━━━━━━━━━━━━━━━━━━━━━━━ 16.4/16.4 MB 367.2 MB/s eta 0:00:00\n",
       "\u001b[0m"
      ]
     },
     "metadata": {},
     "output_type": "display_data"
    },
    {
     "data": {
      "text/html": [
       "<pre style=\"white-space:pre;overflow-x:auto;line-height:normal;font-family:Menlo,'DejaVu Sans Mono',consolas,'Courier New',monospace\"><span style=\"color: #808000; text-decoration-color: #808000\">Downloading http://pypi-mirror.modal.local:5555/simple/packaging/packaging-25.0-py3-none-any.whl (66 kB)\n",
       "Downloading http://pypi-mirror.modal.local:5555/simple/pyyaml/PyYAML-6.0.2-cp311-cp311-manylinux_2_17_x86_64.manylinux2014_x86_64.whl (762 kB)\n",
       "</span></pre>\n"
      ],
      "text/plain": [
       "\u001b[33mDownloading http://pypi-mirror.modal.local:5555/simple/packaging/packaging-25.0-py3-none-any.whl (66 kB)\n",
       "Downloading http://pypi-mirror.modal.local:5555/simple/pyyaml/PyYAML-6.0.2-cp311-cp311-manylinux_2_17_x86_64.manylinux2014_x86_64.whl (762 kB)\n",
       "\u001b[0m"
      ]
     },
     "metadata": {},
     "output_type": "display_data"
    },
    {
     "data": {
      "text/html": [
       "<pre style=\"white-space:pre;overflow-x:auto;line-height:normal;font-family:Menlo,'DejaVu Sans Mono',consolas,'Courier New',monospace\"><span style=\"color: #808000; text-decoration-color: #808000\"></span></pre>\n"
      ],
      "text/plain": []
     },
     "metadata": {},
     "output_type": "display_data"
    },
    {
     "data": {
      "text/html": [
       "<pre style=\"white-space:pre;overflow-x:auto;line-height:normal;font-family:Menlo,'DejaVu Sans Mono',consolas,'Courier New',monospace\"><span style=\"color: #808000; text-decoration-color: #808000\">   ━━━━━━━━━━━━━━━━━━━━━━━━━━━━━━━━━━━━━━━ 763.0/763.0 kB 448.5 MB/s eta 0:00:00\n",
       "</span></pre>\n"
      ],
      "text/plain": [
       "\u001b[33m   ━━━━━━━━━━━━━━━━━━━━━━━━━━━━━━━━━━━━━━━ 763.0/763.0 kB 448.5 MB/s eta 0:00:00\n",
       "\u001b[0m"
      ]
     },
     "metadata": {},
     "output_type": "display_data"
    },
    {
     "data": {
      "text/html": [
       "<pre style=\"white-space:pre;overflow-x:auto;line-height:normal;font-family:Menlo,'DejaVu Sans Mono',consolas,'Courier New',monospace\"><span style=\"color: #808000; text-decoration-color: #808000\">Downloading http://pypi-mirror.modal.local:5555/simple/regex/regex-2024.11.6-cp311-cp311-manylinux_2_17_x86_64.manylinux2014_x86_64.whl (792 kB)\n",
       "</span></pre>\n"
      ],
      "text/plain": [
       "\u001b[33mDownloading http://pypi-mirror.modal.local:5555/simple/regex/regex-2024.11.6-cp311-cp311-manylinux_2_17_x86_64.manylinux2014_x86_64.whl (792 kB)\n",
       "\u001b[0m"
      ]
     },
     "metadata": {},
     "output_type": "display_data"
    },
    {
     "data": {
      "text/html": [
       "<pre style=\"white-space:pre;overflow-x:auto;line-height:normal;font-family:Menlo,'DejaVu Sans Mono',consolas,'Courier New',monospace\"><span style=\"color: #808000; text-decoration-color: #808000\"></span></pre>\n"
      ],
      "text/plain": []
     },
     "metadata": {},
     "output_type": "display_data"
    },
    {
     "data": {
      "text/html": [
       "<pre style=\"white-space:pre;overflow-x:auto;line-height:normal;font-family:Menlo,'DejaVu Sans Mono',consolas,'Courier New',monospace\"><span style=\"color: #808000; text-decoration-color: #808000\">   ━━━━━━━━━━━━━━━━━━━━━━━━━━━━━━━━━━━━━━━ 792.7/792.7 kB 330.2 MB/s eta 0:00:00\n",
       "</span></pre>\n"
      ],
      "text/plain": [
       "\u001b[33m   ━━━━━━━━━━━━━━━━━━━━━━━━━━━━━━━━━━━━━━━ 792.7/792.7 kB 330.2 MB/s eta 0:00:00\n",
       "\u001b[0m"
      ]
     },
     "metadata": {},
     "output_type": "display_data"
    },
    {
     "data": {
      "text/html": [
       "<pre style=\"white-space:pre;overflow-x:auto;line-height:normal;font-family:Menlo,'DejaVu Sans Mono',consolas,'Courier New',monospace\"><span style=\"color: #808000; text-decoration-color: #808000\">Downloading http://pypi-mirror.modal.local:5555/simple/safetensors/safetensors-0.5.3-cp38-abi3-manylinux_2_17_x86_64.manylinux2014_x86_64.whl (471 kB)\n",
       "Downloading http://pypi-mirror.modal.local:5555/simple/sympy/sympy-1.14.0-py3-none-any.whl (6.3 MB)\n",
       "</span></pre>\n"
      ],
      "text/plain": [
       "\u001b[33mDownloading http://pypi-mirror.modal.local:5555/simple/safetensors/safetensors-0.5.3-cp38-abi3-manylinux_2_17_x86_64.manylinux2014_x86_64.whl (471 kB)\n",
       "Downloading http://pypi-mirror.modal.local:5555/simple/sympy/sympy-1.14.0-py3-none-any.whl (6.3 MB)\n",
       "\u001b[0m"
      ]
     },
     "metadata": {},
     "output_type": "display_data"
    },
    {
     "data": {
      "text/html": [
       "<pre style=\"white-space:pre;overflow-x:auto;line-height:normal;font-family:Menlo,'DejaVu Sans Mono',consolas,'Courier New',monospace\"><span style=\"color: #808000; text-decoration-color: #808000\"></span></pre>\n"
      ],
      "text/plain": []
     },
     "metadata": {},
     "output_type": "display_data"
    },
    {
     "data": {
      "text/html": [
       "<pre style=\"white-space:pre;overflow-x:auto;line-height:normal;font-family:Menlo,'DejaVu Sans Mono',consolas,'Courier New',monospace\"><span style=\"color: #808000; text-decoration-color: #808000\">   ━━━━━━━━━━━━━━━━━━━━━━━━━━━━━━━━━━━━━━━━ 6.3/6.3 MB 487.8 MB/s eta 0:00:00\n",
       "</span></pre>\n"
      ],
      "text/plain": [
       "\u001b[33m   ━━━━━━━━━━━━━━━━━━━━━━━━━━━━━━━━━━━━━━━━ 6.3/6.3 MB 487.8 MB/s eta 0:00:00\n",
       "\u001b[0m"
      ]
     },
     "metadata": {},
     "output_type": "display_data"
    },
    {
     "data": {
      "text/html": [
       "<pre style=\"white-space:pre;overflow-x:auto;line-height:normal;font-family:Menlo,'DejaVu Sans Mono',consolas,'Courier New',monospace\"><span style=\"color: #808000; text-decoration-color: #808000\">Downloading http://pypi-mirror.modal.local:5555/simple/tokenizers/tokenizers-0.21.1-cp39-abi3-manylinux_2_17_x86_64.manylinux2014_x86_64.whl (3.0 MB)\n",
       "</span></pre>\n"
      ],
      "text/plain": [
       "\u001b[33mDownloading http://pypi-mirror.modal.local:5555/simple/tokenizers/tokenizers-0.21.1-cp39-abi3-manylinux_2_17_x86_64.manylinux2014_x86_64.whl (3.0 MB)\n",
       "\u001b[0m"
      ]
     },
     "metadata": {},
     "output_type": "display_data"
    },
    {
     "data": {
      "text/html": [
       "<pre style=\"white-space:pre;overflow-x:auto;line-height:normal;font-family:Menlo,'DejaVu Sans Mono',consolas,'Courier New',monospace\"><span style=\"color: #808000; text-decoration-color: #808000\"></span></pre>\n"
      ],
      "text/plain": []
     },
     "metadata": {},
     "output_type": "display_data"
    },
    {
     "data": {
      "text/html": [
       "<pre style=\"white-space:pre;overflow-x:auto;line-height:normal;font-family:Menlo,'DejaVu Sans Mono',consolas,'Courier New',monospace\"><span style=\"color: #808000; text-decoration-color: #808000\">   ━━━━━━━━━━━━━━━━━━━━━━━━━━━━━━━━━━━━━━━━ 3.0/3.0 MB 497.7 MB/s eta 0:00:00\n",
       "</span></pre>\n"
      ],
      "text/plain": [
       "\u001b[33m   ━━━━━━━━━━━━━━━━━━━━━━━━━━━━━━━━━━━━━━━━ 3.0/3.0 MB 497.7 MB/s eta 0:00:00\n",
       "\u001b[0m"
      ]
     },
     "metadata": {},
     "output_type": "display_data"
    },
    {
     "data": {
      "text/html": [
       "<pre style=\"white-space:pre;overflow-x:auto;line-height:normal;font-family:Menlo,'DejaVu Sans Mono',consolas,'Courier New',monospace\"><span style=\"color: #808000; text-decoration-color: #808000\">Downloading http://pypi-mirror.modal.local:5555/simple/tqdm/tqdm-4.67.1-py3-none-any.whl (78 kB)\n",
       "Downloading http://pypi-mirror.modal.local:5555/simple/filelock/filelock-3.18.0-py3-none-any.whl (16 kB)\n",
       "Downloading http://pypi-mirror.modal.local:5555/simple/jinja2/jinja2-3.1.6-py3-none-any.whl (134 kB)\n",
       "</span></pre>\n"
      ],
      "text/plain": [
       "\u001b[33mDownloading http://pypi-mirror.modal.local:5555/simple/tqdm/tqdm-4.67.1-py3-none-any.whl (78 kB)\n",
       "Downloading http://pypi-mirror.modal.local:5555/simple/filelock/filelock-3.18.0-py3-none-any.whl (16 kB)\n",
       "Downloading http://pypi-mirror.modal.local:5555/simple/jinja2/jinja2-3.1.6-py3-none-any.whl (134 kB)\n",
       "\u001b[0m"
      ]
     },
     "metadata": {},
     "output_type": "display_data"
    },
    {
     "data": {
      "text/html": [
       "<pre style=\"white-space:pre;overflow-x:auto;line-height:normal;font-family:Menlo,'DejaVu Sans Mono',consolas,'Courier New',monospace\"><span style=\"color: #808000; text-decoration-color: #808000\">Downloading http://pypi-mirror.modal.local:5555/simple/networkx/networkx-3.4.2-py3-none-any.whl (1.7 MB)\n",
       "</span></pre>\n"
      ],
      "text/plain": [
       "\u001b[33mDownloading http://pypi-mirror.modal.local:5555/simple/networkx/networkx-3.4.2-py3-none-any.whl (1.7 MB)\n",
       "\u001b[0m"
      ]
     },
     "metadata": {},
     "output_type": "display_data"
    },
    {
     "data": {
      "text/html": [
       "<pre style=\"white-space:pre;overflow-x:auto;line-height:normal;font-family:Menlo,'DejaVu Sans Mono',consolas,'Courier New',monospace\"><span style=\"color: #808000; text-decoration-color: #808000\">   ━━━━━━━━━━━━━━━━━━━━━━━━━━━━━━━━━━━━━━━━ 1.7/1.7 MB 546.7 MB/s eta 0:00:00\n",
       "</span></pre>\n"
      ],
      "text/plain": [
       "\u001b[33m   ━━━━━━━━━━━━━━━━━━━━━━━━━━━━━━━━━━━━━━━━ 1.7/1.7 MB 546.7 MB/s eta 0:00:00\n",
       "\u001b[0m"
      ]
     },
     "metadata": {},
     "output_type": "display_data"
    },
    {
     "data": {
      "text/html": [
       "<pre style=\"white-space:pre;overflow-x:auto;line-height:normal;font-family:Menlo,'DejaVu Sans Mono',consolas,'Courier New',monospace\"><span style=\"color: #808000; text-decoration-color: #808000\">Downloading http://pypi-mirror.modal.local:5555/simple/psutil/psutil-7.0.0-cp36-abi3-manylinux_2_12_x86_64.manylinux2010_x86_64.manylinux_2_17_x86_64.manylinux2014_x86_64.whl (277 kB)\n",
       "</span></pre>\n"
      ],
      "text/plain": [
       "\u001b[33mDownloading http://pypi-mirror.modal.local:5555/simple/psutil/psutil-7.0.0-cp36-abi3-manylinux_2_12_x86_64.manylinux2010_x86_64.manylinux_2_17_x86_64.manylinux2014_x86_64.whl (277 kB)\n",
       "\u001b[0m"
      ]
     },
     "metadata": {},
     "output_type": "display_data"
    },
    {
     "data": {
      "text/html": [
       "<pre style=\"white-space:pre;overflow-x:auto;line-height:normal;font-family:Menlo,'DejaVu Sans Mono',consolas,'Courier New',monospace\"><span style=\"color: #808000; text-decoration-color: #808000\">Downloading http://pypi-mirror.modal.local:5555/simple/requests/requests-2.32.3-py3-none-any.whl (64 kB)\n",
       "</span></pre>\n"
      ],
      "text/plain": [
       "\u001b[33mDownloading http://pypi-mirror.modal.local:5555/simple/requests/requests-2.32.3-py3-none-any.whl (64 kB)\n",
       "\u001b[0m"
      ]
     },
     "metadata": {},
     "output_type": "display_data"
    },
    {
     "data": {
      "text/html": [
       "<pre style=\"white-space:pre;overflow-x:auto;line-height:normal;font-family:Menlo,'DejaVu Sans Mono',consolas,'Courier New',monospace\"><span style=\"color: #808000; text-decoration-color: #808000\">Downloading http://pypi-mirror.modal.local:5555/simple/charset-normalizer/charset_normalizer-3.4.2-cp311-cp311-manylinux_2_17_x86_64.manylinux2014_x86_64.whl (147 kB)\n",
       "Downloading http://pypi-mirror.modal.local:5555/simple/hf-xet/hf_xet-1.1.0-cp37-abi3-manylinux_2_17_x86_64.manylinux2014_x86_64.whl (53.6 MB)\n",
       "</span></pre>\n"
      ],
      "text/plain": [
       "\u001b[33mDownloading http://pypi-mirror.modal.local:5555/simple/charset-normalizer/charset_normalizer-3.4.2-cp311-cp311-manylinux_2_17_x86_64.manylinux2014_x86_64.whl (147 kB)\n",
       "Downloading http://pypi-mirror.modal.local:5555/simple/hf-xet/hf_xet-1.1.0-cp37-abi3-manylinux_2_17_x86_64.manylinux2014_x86_64.whl (53.6 MB)\n",
       "\u001b[0m"
      ]
     },
     "metadata": {},
     "output_type": "display_data"
    },
    {
     "data": {
      "text/html": [
       "<pre style=\"white-space:pre;overflow-x:auto;line-height:normal;font-family:Menlo,'DejaVu Sans Mono',consolas,'Courier New',monospace\"><span style=\"color: #808000; text-decoration-color: #808000\"></span></pre>\n"
      ],
      "text/plain": []
     },
     "metadata": {},
     "output_type": "display_data"
    },
    {
     "data": {
      "text/html": [
       "<pre style=\"white-space:pre;overflow-x:auto;line-height:normal;font-family:Menlo,'DejaVu Sans Mono',consolas,'Courier New',monospace\"><span style=\"color: #808000; text-decoration-color: #808000\">   ━━━━━━━━━━━━━━━━━━━━━━━━━━━━━━━━━━━━━━━━ 53.6/53.6 MB 508.3 MB/s eta 0:00:00\n",
       "</span></pre>\n"
      ],
      "text/plain": [
       "\u001b[33m   ━━━━━━━━━━━━━━━━━━━━━━━━━━━━━━━━━━━━━━━━ 53.6/53.6 MB 508.3 MB/s eta 0:00:00\n",
       "\u001b[0m"
      ]
     },
     "metadata": {},
     "output_type": "display_data"
    },
    {
     "data": {
      "text/html": [
       "<pre style=\"white-space:pre;overflow-x:auto;line-height:normal;font-family:Menlo,'DejaVu Sans Mono',consolas,'Courier New',monospace\"><span style=\"color: #808000; text-decoration-color: #808000\">Downloading http://pypi-mirror.modal.local:5555/simple/markupsafe/MarkupSafe-3.0.2-cp311-cp311-manylinux_2_17_x86_64.manylinux2014_x86_64.whl (23 kB)\n",
       "Downloading http://pypi-mirror.modal.local:5555/simple/mpmath/mpmath-1.3.0-py3-none-any.whl (536 kB)\n",
       "</span></pre>\n"
      ],
      "text/plain": [
       "\u001b[33mDownloading http://pypi-mirror.modal.local:5555/simple/markupsafe/MarkupSafe-3.0.2-cp311-cp311-manylinux_2_17_x86_64.manylinux2014_x86_64.whl (23 kB)\n",
       "Downloading http://pypi-mirror.modal.local:5555/simple/mpmath/mpmath-1.3.0-py3-none-any.whl (536 kB)\n",
       "\u001b[0m"
      ]
     },
     "metadata": {},
     "output_type": "display_data"
    },
    {
     "data": {
      "text/html": [
       "<pre style=\"white-space:pre;overflow-x:auto;line-height:normal;font-family:Menlo,'DejaVu Sans Mono',consolas,'Courier New',monospace\"><span style=\"color: #808000; text-decoration-color: #808000\"></span></pre>\n"
      ],
      "text/plain": []
     },
     "metadata": {},
     "output_type": "display_data"
    },
    {
     "data": {
      "text/html": [
       "<pre style=\"white-space:pre;overflow-x:auto;line-height:normal;font-family:Menlo,'DejaVu Sans Mono',consolas,'Courier New',monospace\"><span style=\"color: #808000; text-decoration-color: #808000\">   ━━━━━━━━━━━━━━━━━━━━━━━━━━━━━━━━━━━━━━━ 536.2/536.2 kB 919.9 MB/s eta 0:00:00\n",
       "</span></pre>\n"
      ],
      "text/plain": [
       "\u001b[33m   ━━━━━━━━━━━━━━━━━━━━━━━━━━━━━━━━━━━━━━━ 536.2/536.2 kB 919.9 MB/s eta 0:00:00\n",
       "\u001b[0m"
      ]
     },
     "metadata": {},
     "output_type": "display_data"
    },
    {
     "data": {
      "text/html": [
       "<pre style=\"white-space:pre;overflow-x:auto;line-height:normal;font-family:Menlo,'DejaVu Sans Mono',consolas,'Courier New',monospace\"><span style=\"color: #808000; text-decoration-color: #808000\">Downloading http://pypi-mirror.modal.local:5555/simple/urllib3/urllib3-2.4.0-py3-none-any.whl (128 kB)\n",
       "</span></pre>\n"
      ],
      "text/plain": [
       "\u001b[33mDownloading http://pypi-mirror.modal.local:5555/simple/urllib3/urllib3-2.4.0-py3-none-any.whl (128 kB)\n",
       "\u001b[0m"
      ]
     },
     "metadata": {},
     "output_type": "display_data"
    },
    {
     "data": {
      "text/html": [
       "<pre style=\"white-space:pre;overflow-x:auto;line-height:normal;font-family:Menlo,'DejaVu Sans Mono',consolas,'Courier New',monospace\"><span style=\"color: #808000; text-decoration-color: #808000\">Installing collected packages: nvidia-cusparselt-cu12, mpmath, urllib3, triton, tqdm, sympy, safetensors, regex, pyyaml, psutil, packaging, nvidia-nvtx-cu12, nvidia-nvjitlink-cu12, nvidia-nccl-cu12, nvidia-curand-cu12, nvidia-cufile-cu12, nvidia-cuda-runtime-cu12, nvidia-cuda-nvrtc-cu12, nvidia-cuda-cupti-cu12, nvidia-cublas-cu12, numpy, networkx, MarkupSafe, hf-xet, fsspec, filelock, charset-normalizer, requests, nvidia-cusparse-cu12, nvidia-cufft-cu12, nvidia-cudnn-cu12, jinja2, nvidia-cusolver-cu12, huggingface-hub, torch, tokenizers, transformers, bitsandbytes, accelerate\n",
       "</span></pre>\n"
      ],
      "text/plain": [
       "\u001b[33mInstalling collected packages: nvidia-cusparselt-cu12, mpmath, urllib3, triton, tqdm, sympy, safetensors, regex, pyyaml, psutil, packaging, nvidia-nvtx-cu12, nvidia-nvjitlink-cu12, nvidia-nccl-cu12, nvidia-curand-cu12, nvidia-cufile-cu12, nvidia-cuda-runtime-cu12, nvidia-cuda-nvrtc-cu12, nvidia-cuda-cupti-cu12, nvidia-cublas-cu12, numpy, networkx, MarkupSafe, hf-xet, fsspec, filelock, charset-normalizer, requests, nvidia-cusparse-cu12, nvidia-cufft-cu12, nvidia-cudnn-cu12, jinja2, nvidia-cusolver-cu12, huggingface-hub, torch, tokenizers, transformers, bitsandbytes, accelerate\n",
       "\u001b[0m"
      ]
     },
     "metadata": {},
     "output_type": "display_data"
    },
    {
     "data": {
      "text/html": [
       "<pre style=\"white-space:pre;overflow-x:auto;line-height:normal;font-family:Menlo,'DejaVu Sans Mono',consolas,'Courier New',monospace\"><span style=\"color: #808000; text-decoration-color: #808000\">Successfully installed MarkupSafe-3.0.2 accelerate-1.6.0 bitsandbytes-0.45.5 charset-normalizer-3.4.2 filelock-3.18.0 fsspec-2025.3.2 hf-xet-1.1.0 huggingface-hub-0.31.1 jinja2-3.1.6 mpmath-1.3.0 networkx-3.4.2 numpy-2.2.5 nvidia-cublas-cu12-12.6.4.1 nvidia-cuda-cupti-cu12-12.6.80 nvidia-cuda-nvrtc-cu12-12.6.77 nvidia-cuda-runtime-cu12-12.6.77 nvidia-cudnn-cu12-9.5.1.17 nvidia-cufft-cu12-11.3.0.4 nvidia-cufile-cu12-1.11.1.6 nvidia-curand-cu12-10.3.7.77 nvidia-cusolver-cu12-11.7.1.2 nvidia-cusparse-cu12-12.5.4.2 nvidia-cusparselt-cu12-0.6.3 nvidia-nccl-cu12-2.26.2 nvidia-nvjitlink-cu12-12.6.85 nvidia-nvtx-cu12-12.6.77 packaging-25.0 psutil-7.0.0 pyyaml-6.0.2 regex-2024.11.6 requests-2.32.3 safetensors-0.5.3 sympy-1.14.0 tokenizers-0.21.1 torch-2.7.0 tqdm-4.67.1 transformers-4.51.3 triton-3.3.0 urllib3-2.4.0\n",
       "</span></pre>\n"
      ],
      "text/plain": [
       "\u001b[33mSuccessfully installed MarkupSafe-3.0.2 accelerate-1.6.0 bitsandbytes-0.45.5 charset-normalizer-3.4.2 filelock-3.18.0 fsspec-2025.3.2 hf-xet-1.1.0 huggingface-hub-0.31.1 jinja2-3.1.6 mpmath-1.3.0 networkx-3.4.2 numpy-2.2.5 nvidia-cublas-cu12-12.6.4.1 nvidia-cuda-cupti-cu12-12.6.80 nvidia-cuda-nvrtc-cu12-12.6.77 nvidia-cuda-runtime-cu12-12.6.77 nvidia-cudnn-cu12-9.5.1.17 nvidia-cufft-cu12-11.3.0.4 nvidia-cufile-cu12-1.11.1.6 nvidia-curand-cu12-10.3.7.77 nvidia-cusolver-cu12-11.7.1.2 nvidia-cusparse-cu12-12.5.4.2 nvidia-cusparselt-cu12-0.6.3 nvidia-nccl-cu12-2.26.2 nvidia-nvjitlink-cu12-12.6.85 nvidia-nvtx-cu12-12.6.77 packaging-25.0 psutil-7.0.0 pyyaml-6.0.2 regex-2024.11.6 requests-2.32.3 safetensors-0.5.3 sympy-1.14.0 tokenizers-0.21.1 torch-2.7.0 tqdm-4.67.1 transformers-4.51.3 triton-3.3.0 urllib3-2.4.0\n",
       "\u001b[0m"
      ]
     },
     "metadata": {},
     "output_type": "display_data"
    },
    {
     "data": {
      "text/html": [
       "<pre style=\"white-space:pre;overflow-x:auto;line-height:normal;font-family:Menlo,'DejaVu Sans Mono',consolas,'Courier New',monospace\"><span style=\"color: #808000; text-decoration-color: #808000\">\n",
       "[notice] A new release of pip is available: 24.3.1 -&gt; 25.1.1\n",
       "[notice] To update, run: pip install --upgrade pip\n",
       "</span></pre>\n"
      ],
      "text/plain": [
       "\u001b[33m\n",
       "[notice] A new release of pip is available: 24.3.1 -> 25.1.1\n",
       "[notice] To update, run: pip install --upgrade pip\n",
       "\u001b[0m"
      ]
     },
     "metadata": {},
     "output_type": "display_data"
    },
    {
     "data": {
      "text/html": [
       "<pre style=\"white-space:pre;overflow-x:auto;line-height:normal;font-family:Menlo,'DejaVu Sans Mono',consolas,'Courier New',monospace\"><span style=\"color: #808000; text-decoration-color: #808000\">Saving image...\n",
       "</span></pre>\n"
      ],
      "text/plain": [
       "\u001b[33mSaving image...\n",
       "\u001b[0m"
      ]
     },
     "metadata": {},
     "output_type": "display_data"
    },
    {
     "data": {
      "text/html": [
       "<pre style=\"white-space:pre;overflow-x:auto;line-height:normal;font-family:Menlo,'DejaVu Sans Mono',consolas,'Courier New',monospace\"><span style=\"color: #808000; text-decoration-color: #808000\">Image saved, took 4.41s\n",
       "</span></pre>\n"
      ],
      "text/plain": [
       "\u001b[33mImage saved, took 4.41s\n",
       "\u001b[0m"
      ]
     },
     "metadata": {},
     "output_type": "display_data"
    },
    {
     "data": {
      "text/html": [
       "<pre style=\"white-space:pre;overflow-x:auto;line-height:normal;font-family:Menlo,'DejaVu Sans Mono',consolas,'Courier New',monospace\"><span style=\"color: #808000; text-decoration-color: #808000\">\n",
       "Built image im-jYSFoY5USpMgi0hsRURuVU in 71.86s\n",
       "\n",
       "\n",
       "</span></pre>\n"
      ],
      "text/plain": [
       "\u001b[33m\n",
       "Built image im-jYSFoY5USpMgi0hsRURuVU in 71.86s\n",
       "\n",
       "\n",
       "\u001b[0m"
      ]
     },
     "metadata": {},
     "output_type": "display_data"
    },
    {
     "data": {
      "text/html": [
       "<pre style=\"white-space:pre;overflow-x:auto;line-height:normal;font-family:Menlo,'DejaVu Sans Mono',consolas,'Courier New',monospace\"></pre>\n"
      ],
      "text/plain": []
     },
     "metadata": {},
     "output_type": "display_data"
    },
    {
     "data": {
      "text/html": [
       "<pre style=\"white-space:pre;overflow-x:auto;line-height:normal;font-family:Menlo,'DejaVu Sans Mono',consolas,'Courier New',monospace\"><span style=\"color: #008000; text-decoration-color: #008000\">✓</span> Created objects.\n",
       "<span style=\"color: #808080; text-decoration-color: #808080\">├── </span>🔨 Created mount D:\\Learning Square\\LLMs\\Untitled Folder\\llama.py\n",
       "<span style=\"color: #808080; text-decoration-color: #808080\">├── </span>🔨 Created mount PythonPackage:hello\n",
       "<span style=\"color: #808080; text-decoration-color: #808080\">└── </span>🔨 Created function generate.\n",
       "</pre>\n"
      ],
      "text/plain": [
       "\u001b[32m✓\u001b[0m Created objects.\n",
       "\u001b[38;5;244m├── \u001b[0m🔨 Created mount D:\\Learning Square\\LLMs\\Untitled Folder\\llama.py\n",
       "\u001b[38;5;244m├── \u001b[0m🔨 Created mount PythonPackage:hello\n",
       "\u001b[38;5;244m└── \u001b[0m🔨 Created function generate.\n"
      ]
     },
     "metadata": {},
     "output_type": "display_data"
    },
    {
     "data": {
      "application/vnd.jupyter.widget-view+json": {
       "model_id": "ee0ed665d4834514acdafa254f1c7e1b",
       "version_major": 2,
       "version_minor": 0
      },
      "text/plain": [
       "Output()"
      ]
     },
     "metadata": {},
     "output_type": "display_data"
    },
    {
     "data": {
      "text/html": [
       "<pre style=\"white-space:pre;overflow-x:auto;line-height:normal;font-family:Menlo,'DejaVu Sans Mono',consolas,'Courier New',monospace\"><span style=\"color: #800000; text-decoration-color: #800000\">\n",
       "</span></pre>\n"
      ],
      "text/plain": [
       "\u001b[31m\n",
       "\u001b[0m"
      ]
     },
     "metadata": {},
     "output_type": "display_data"
    },
    {
     "data": {
      "text/html": [
       "<pre style=\"white-space:pre;overflow-x:auto;line-height:normal;font-family:Menlo,'DejaVu Sans Mono',consolas,'Courier New',monospace\"><span style=\"color: #800000; text-decoration-color: #800000\">\u001b[1AFetching 4 files:   0%|          | 0/4 [00:00&lt;?, ?it/s]</span></pre>\n"
      ],
      "text/plain": [
       "\u001b[31m\u001b[1AFetching 4 files:   0%|          | 0/4 [00:00<?, ?it/s]\u001b[0m"
      ]
     },
     "metadata": {},
     "output_type": "display_data"
    },
    {
     "data": {
      "text/html": [
       "<pre style=\"white-space:pre;overflow-x:auto;line-height:normal;font-family:Menlo,'DejaVu Sans Mono',consolas,'Courier New',monospace\"><span style=\"color: #800000; text-decoration-color: #800000\">\n",
       "</span></pre>\n"
      ],
      "text/plain": [
       "\u001b[31m\n",
       "\u001b[0m"
      ]
     },
     "metadata": {},
     "output_type": "display_data"
    },
    {
     "data": {
      "text/html": [
       "<pre style=\"white-space:pre;overflow-x:auto;line-height:normal;font-family:Menlo,'DejaVu Sans Mono',consolas,'Courier New',monospace\"><span style=\"color: #800000; text-decoration-color: #800000\">\u001b[1AFetching 4 files:  25%|██▌       | 1/4 [01:06&lt;03:19, 66.36s/it]</span></pre>\n"
      ],
      "text/plain": [
       "\u001b[31m\u001b[1AFetching 4 files:  25%|██▌       | 1/4 [01:06<03:19, 66.36s/it]\u001b[0m"
      ]
     },
     "metadata": {},
     "output_type": "display_data"
    },
    {
     "data": {
      "text/html": [
       "<pre style=\"white-space:pre;overflow-x:auto;line-height:normal;font-family:Menlo,'DejaVu Sans Mono',consolas,'Courier New',monospace\"><span style=\"color: #800000; text-decoration-color: #800000\">\n",
       "</span></pre>\n"
      ],
      "text/plain": [
       "\u001b[31m\n",
       "\u001b[0m"
      ]
     },
     "metadata": {},
     "output_type": "display_data"
    },
    {
     "data": {
      "text/html": [
       "<pre style=\"white-space:pre;overflow-x:auto;line-height:normal;font-family:Menlo,'DejaVu Sans Mono',consolas,'Courier New',monospace\"><span style=\"color: #800000; text-decoration-color: #800000\">\u001b[1AFetching 4 files:  50%|█████     | 2/4 [01:15&lt;01:04, 32.42s/it]Fetching 4 files: 100%|██████████| 4/4 [01:15&lt;00:00, 18.76s/it]\n",
       "</span></pre>\n"
      ],
      "text/plain": [
       "\u001b[31m\u001b[1AFetching 4 files:  50%|█████     | 2/4 [01:15<01:04, 32.42s/it]Fetching 4 files: 100%|██████████| 4/4 [01:15<00:00, 18.76s/it]\n",
       "\u001b[0m"
      ]
     },
     "metadata": {},
     "output_type": "display_data"
    },
    {
     "data": {
      "text/html": [
       "<pre style=\"white-space:pre;overflow-x:auto;line-height:normal;font-family:Menlo,'DejaVu Sans Mono',consolas,'Courier New',monospace\"><span style=\"color: #800000; text-decoration-color: #800000\">\n",
       "</span></pre>\n"
      ],
      "text/plain": [
       "\u001b[31m\n",
       "\u001b[0m"
      ]
     },
     "metadata": {},
     "output_type": "display_data"
    },
    {
     "data": {
      "text/html": [
       "<pre style=\"white-space:pre;overflow-x:auto;line-height:normal;font-family:Menlo,'DejaVu Sans Mono',consolas,'Courier New',monospace\"><span style=\"color: #800000; text-decoration-color: #800000\">\u001b[1ALoading checkpoint shards:   0%|          | 0/4 [00:00&lt;?, ?it/s]\n",
       "</span></pre>\n"
      ],
      "text/plain": [
       "\u001b[31m\u001b[1ALoading checkpoint shards:   0%|          | 0/4 [00:00<?, ?it/s]\n",
       "\u001b[0m"
      ]
     },
     "metadata": {},
     "output_type": "display_data"
    },
    {
     "data": {
      "text/html": [
       "<pre style=\"white-space:pre;overflow-x:auto;line-height:normal;font-family:Menlo,'DejaVu Sans Mono',consolas,'Courier New',monospace\"><span style=\"color: #800000; text-decoration-color: #800000\">\u001b[1ALoading checkpoint shards:  25%|██▌       | 1/4 [00:04&lt;00:13,  4.52s/it]\n",
       "</span></pre>\n"
      ],
      "text/plain": [
       "\u001b[31m\u001b[1ALoading checkpoint shards:  25%|██▌       | 1/4 [00:04<00:13,  4.52s/it]\n",
       "\u001b[0m"
      ]
     },
     "metadata": {},
     "output_type": "display_data"
    },
    {
     "data": {
      "text/html": [
       "<pre style=\"white-space:pre;overflow-x:auto;line-height:normal;font-family:Menlo,'DejaVu Sans Mono',consolas,'Courier New',monospace\"><span style=\"color: #800000; text-decoration-color: #800000\">\u001b[1ALoading checkpoint shards:  50%|█████     | 2/4 [00:09&lt;00:09,  4.82s/it]\n",
       "</span></pre>\n"
      ],
      "text/plain": [
       "\u001b[31m\u001b[1ALoading checkpoint shards:  50%|█████     | 2/4 [00:09<00:09,  4.82s/it]\n",
       "\u001b[0m"
      ]
     },
     "metadata": {},
     "output_type": "display_data"
    },
    {
     "data": {
      "text/html": [
       "<pre style=\"white-space:pre;overflow-x:auto;line-height:normal;font-family:Menlo,'DejaVu Sans Mono',consolas,'Courier New',monospace\"><span style=\"color: #800000; text-decoration-color: #800000\">\u001b[1ALoading checkpoint shards:  75%|███████▌  | 3/4 [00:14&lt;00:04,  4.88s/it]\n",
       "</span></pre>\n"
      ],
      "text/plain": [
       "\u001b[31m\u001b[1ALoading checkpoint shards:  75%|███████▌  | 3/4 [00:14<00:04,  4.88s/it]\n",
       "\u001b[0m"
      ]
     },
     "metadata": {},
     "output_type": "display_data"
    },
    {
     "data": {
      "text/html": [
       "<pre style=\"white-space:pre;overflow-x:auto;line-height:normal;font-family:Menlo,'DejaVu Sans Mono',consolas,'Courier New',monospace\"><span style=\"color: #800000; text-decoration-color: #800000\">\u001b[1ALoading checkpoint shards: 100%|██████████| 4/4 [00:14&lt;00:00,  3.09s/it]Loading checkpoint shards: 100%|██████████| 4/4 [00:14&lt;00:00,  3.71s/it]\n",
       "</span></pre>\n"
      ],
      "text/plain": [
       "\u001b[31m\u001b[1ALoading checkpoint shards: 100%|██████████| 4/4 [00:14<00:00,  3.09s/it]Loading checkpoint shards: 100%|██████████| 4/4 [00:14<00:00,  3.71s/it]\n",
       "\u001b[0m"
      ]
     },
     "metadata": {},
     "output_type": "display_data"
    },
    {
     "data": {
      "text/html": [
       "<pre style=\"white-space:pre;overflow-x:auto;line-height:normal;font-family:Menlo,'DejaVu Sans Mono',consolas,'Courier New',monospace\"><span style=\"color: #800000; text-decoration-color: #800000\">Setting `pad_token_id` to `eos_token_id`:128001 for open-end generation.\n",
       "</span></pre>\n"
      ],
      "text/plain": [
       "\u001b[31mSetting `pad_token_id` to `eos_token_id`:128001 for open-end generation.\n",
       "\u001b[0m"
      ]
     },
     "metadata": {},
     "output_type": "display_data"
    },
    {
     "data": {
      "text/html": [
       "<pre style=\"white-space:pre;overflow-x:auto;line-height:normal;font-family:Menlo,'DejaVu Sans Mono',consolas,'Courier New',monospace\"></pre>\n"
      ],
      "text/plain": []
     },
     "metadata": {},
     "output_type": "display_data"
    },
    {
     "data": {
      "text/html": [
       "<pre style=\"white-space:pre;overflow-x:auto;line-height:normal;font-family:Menlo,'DejaVu Sans Mono',consolas,'Courier New',monospace\"><span style=\"color: #808000; text-decoration-color: #808000\">Stopping app - local entrypoint completed.\n",
       "</span></pre>\n"
      ],
      "text/plain": [
       "\u001b[33mStopping app - local entrypoint completed.\n",
       "\u001b[0m"
      ]
     },
     "metadata": {},
     "output_type": "display_data"
    },
    {
     "data": {
      "text/html": [
       "<pre style=\"white-space:pre;overflow-x:auto;line-height:normal;font-family:Menlo,'DejaVu Sans Mono',consolas,'Courier New',monospace\"><span style=\"color: #808000; text-decoration-color: #808000\">Runner terminated.\n",
       "</span></pre>\n"
      ],
      "text/plain": [
       "\u001b[33mRunner terminated.\n",
       "\u001b[0m"
      ]
     },
     "metadata": {},
     "output_type": "display_data"
    },
    {
     "data": {
      "text/html": [
       "<pre style=\"white-space:pre;overflow-x:auto;line-height:normal;font-family:Menlo,'DejaVu Sans Mono',consolas,'Courier New',monospace\"><span style=\"color: #008000; text-decoration-color: #008000\">✓</span> App completed. <span style=\"color: #b2b2b2; text-decoration-color: #b2b2b2\">View run at </span><span style=\"color: #b2b2b2; text-decoration-color: #b2b2b2; text-decoration: underline\">https://modal.com/apps/benny-guan97/main/ap-Z6Weguu114fZFamCgIdGYf</span>\n",
       "</pre>\n"
      ],
      "text/plain": [
       "\u001b[32m✓\u001b[0m App completed. \u001b[38;5;249mView run at \u001b[0m\u001b[4;38;5;249mhttps://modal.com/apps/benny-guan97/main/ap-Z6Weguu114fZFamCgIdGYf\u001b[0m\n"
      ]
     },
     "metadata": {},
     "output_type": "display_data"
    },
    {
     "data": {
      "text/plain": [
       "'<|begin_of_text|>Life is a mystery, everyone must stand alone, I hear you call my name,'"
      ]
     },
     "execution_count": 9,
     "metadata": {},
     "output_type": "execute_result"
    }
   ],
   "source": [
    "with modal.enable_output():\n",
    "    with app.run():\n",
    "        result=generate.remote(\"Life is a mystery, everyone must stand alone, I hear\")\n",
    "result"
   ]
  },
  {
   "cell_type": "code",
   "execution_count": 10,
   "id": "d0f29e66-b1ba-46a2-bcc7-45ab206b8810",
   "metadata": {},
   "outputs": [
    {
     "name": "stderr",
     "output_type": "stream",
     "text": [
      "D:\\Learning Square\\LLMs\\Untitled Folder\\pricer_ephemeral.py:22: DeprecationError: 2025-02-03: Modal will stop implicitly adding local Python modules to the Image (\"automounting\") in a future update. The following modules need to be explicitly added for future compatibility:\n",
      "* hello\n",
      "* llama\n",
      "\n",
      "e.g.:\n",
      "image_with_source = my_image.add_local_python_source(\"hello\", \"llama\")\n",
      "\n",
      "For more information, see https://modal.com/docs/guide/modal-1-0-migration\n",
      "  @app.function(image=image, secrets=secrets, gpu=GPU, timeout=1800)\n"
     ]
    }
   ],
   "source": [
    "import modal\n",
    "from pricer_ephemeral import app, price"
   ]
  },
  {
   "cell_type": "code",
   "execution_count": 11,
   "id": "1c0d7080-e5dc-4fe6-bbbe-2ce19047345f",
   "metadata": {
    "scrolled": true
   },
   "outputs": [
    {
     "data": {
      "application/vnd.jupyter.widget-view+json": {
       "model_id": "04c15d568e844b9abc3f1a41893155d6",
       "version_major": 2,
       "version_minor": 0
      },
      "text/plain": [
       "Output()"
      ]
     },
     "metadata": {},
     "output_type": "display_data"
    },
    {
     "data": {
      "text/html": [
       "<pre style=\"white-space:pre;overflow-x:auto;line-height:normal;font-family:Menlo,'DejaVu Sans Mono',consolas,'Courier New',monospace\"><span style=\"color: #008000; text-decoration-color: #008000\">✓</span> Initialized. <span style=\"color: #b2b2b2; text-decoration-color: #b2b2b2\">View run at </span><span style=\"color: #b2b2b2; text-decoration-color: #b2b2b2; text-decoration: underline\">https://modal.com/apps/benny-guan97/main/ap-DpH9zLRBBHAPFBwTiDKQZb</span>\n",
       "</pre>\n"
      ],
      "text/plain": [
       "\u001b[32m✓\u001b[0m Initialized. \u001b[38;5;249mView run at \u001b[0m\u001b[4;38;5;249mhttps://modal.com/apps/benny-guan97/main/ap-DpH9zLRBBHAPFBwTiDKQZb\u001b[0m\n"
      ]
     },
     "metadata": {},
     "output_type": "display_data"
    },
    {
     "data": {
      "text/html": [
       "<pre style=\"white-space:pre;overflow-x:auto;line-height:normal;font-family:Menlo,'DejaVu Sans Mono',consolas,'Courier New',monospace\"></pre>\n"
      ],
      "text/plain": []
     },
     "metadata": {},
     "output_type": "display_data"
    },
    {
     "data": {
      "application/vnd.jupyter.widget-view+json": {
       "model_id": "293e45473e2c4a17986aaadf62a9f744",
       "version_major": 2,
       "version_minor": 0
      },
      "text/plain": [
       "Output()"
      ]
     },
     "metadata": {},
     "output_type": "display_data"
    },
    {
     "data": {
      "text/html": [
       "<pre style=\"white-space:pre;overflow-x:auto;line-height:normal;font-family:Menlo,'DejaVu Sans Mono',consolas,'Courier New',monospace\"><span style=\"color: #808000; text-decoration-color: #808000\">Building image im-8yds8nn0u8giNtroFmyPoO\n",
       "</span></pre>\n"
      ],
      "text/plain": [
       "\u001b[33mBuilding image im-8yds8nn0u8giNtroFmyPoO\n",
       "\u001b[0m"
      ]
     },
     "metadata": {},
     "output_type": "display_data"
    },
    {
     "data": {
      "text/html": [
       "<pre style=\"white-space:pre;overflow-x:auto;line-height:normal;font-family:Menlo,'DejaVu Sans Mono',consolas,'Courier New',monospace\"><span style=\"color: #808000; text-decoration-color: #808000\">\n",
       "=&gt; Step 0: FROM base\n",
       "</span></pre>\n"
      ],
      "text/plain": [
       "\u001b[33m\n",
       "=> Step 0: FROM base\n",
       "\u001b[0m"
      ]
     },
     "metadata": {},
     "output_type": "display_data"
    },
    {
     "data": {
      "text/html": [
       "<pre style=\"white-space:pre;overflow-x:auto;line-height:normal;font-family:Menlo,'DejaVu Sans Mono',consolas,'Courier New',monospace\"><span style=\"color: #808000; text-decoration-color: #808000\">\n",
       "=&gt; Step 1: RUN python -m pip install accelerate bitsandbytes peft torch transformers\n",
       "</span></pre>\n"
      ],
      "text/plain": [
       "\u001b[33m\n",
       "=> Step 1: RUN python -m pip install accelerate bitsandbytes peft torch transformers\n",
       "\u001b[0m"
      ]
     },
     "metadata": {},
     "output_type": "display_data"
    },
    {
     "data": {
      "text/html": [
       "<pre style=\"white-space:pre;overflow-x:auto;line-height:normal;font-family:Menlo,'DejaVu Sans Mono',consolas,'Courier New',monospace\"><span style=\"color: #808000; text-decoration-color: #808000\">Looking in indexes: http://pypi-mirror.modal.local:5555/simple\n",
       "</span></pre>\n"
      ],
      "text/plain": [
       "\u001b[33mLooking in indexes: http://pypi-mirror.modal.local:5555/simple\n",
       "\u001b[0m"
      ]
     },
     "metadata": {},
     "output_type": "display_data"
    },
    {
     "data": {
      "text/html": [
       "<pre style=\"white-space:pre;overflow-x:auto;line-height:normal;font-family:Menlo,'DejaVu Sans Mono',consolas,'Courier New',monospace\"><span style=\"color: #808000; text-decoration-color: #808000\">Collecting accelerate\n",
       "</span></pre>\n"
      ],
      "text/plain": [
       "\u001b[33mCollecting accelerate\n",
       "\u001b[0m"
      ]
     },
     "metadata": {},
     "output_type": "display_data"
    },
    {
     "data": {
      "text/html": [
       "<pre style=\"white-space:pre;overflow-x:auto;line-height:normal;font-family:Menlo,'DejaVu Sans Mono',consolas,'Courier New',monospace\"><span style=\"color: #808000; text-decoration-color: #808000\">  Downloading http://pypi-mirror.modal.local:5555/simple/accelerate/accelerate-1.6.0-py3-none-any.whl.metadata (19 kB)\n",
       "</span></pre>\n"
      ],
      "text/plain": [
       "\u001b[33m  Downloading http://pypi-mirror.modal.local:5555/simple/accelerate/accelerate-1.6.0-py3-none-any.whl.metadata (19 kB)\n",
       "\u001b[0m"
      ]
     },
     "metadata": {},
     "output_type": "display_data"
    },
    {
     "data": {
      "text/html": [
       "<pre style=\"white-space:pre;overflow-x:auto;line-height:normal;font-family:Menlo,'DejaVu Sans Mono',consolas,'Courier New',monospace\"><span style=\"color: #808000; text-decoration-color: #808000\">Collecting bitsandbytes\n",
       "</span></pre>\n"
      ],
      "text/plain": [
       "\u001b[33mCollecting bitsandbytes\n",
       "\u001b[0m"
      ]
     },
     "metadata": {},
     "output_type": "display_data"
    },
    {
     "data": {
      "text/html": [
       "<pre style=\"white-space:pre;overflow-x:auto;line-height:normal;font-family:Menlo,'DejaVu Sans Mono',consolas,'Courier New',monospace\"><span style=\"color: #808000; text-decoration-color: #808000\">  Downloading http://pypi-mirror.modal.local:5555/simple/bitsandbytes/bitsandbytes-0.45.5-py3-none-manylinux_2_24_x86_64.whl.metadata (5.0 kB)\n",
       "</span></pre>\n"
      ],
      "text/plain": [
       "\u001b[33m  Downloading http://pypi-mirror.modal.local:5555/simple/bitsandbytes/bitsandbytes-0.45.5-py3-none-manylinux_2_24_x86_64.whl.metadata (5.0 kB)\n",
       "\u001b[0m"
      ]
     },
     "metadata": {},
     "output_type": "display_data"
    },
    {
     "data": {
      "text/html": [
       "<pre style=\"white-space:pre;overflow-x:auto;line-height:normal;font-family:Menlo,'DejaVu Sans Mono',consolas,'Courier New',monospace\"><span style=\"color: #808000; text-decoration-color: #808000\">Collecting peft\n",
       "</span></pre>\n"
      ],
      "text/plain": [
       "\u001b[33mCollecting peft\n",
       "\u001b[0m"
      ]
     },
     "metadata": {},
     "output_type": "display_data"
    },
    {
     "data": {
      "text/html": [
       "<pre style=\"white-space:pre;overflow-x:auto;line-height:normal;font-family:Menlo,'DejaVu Sans Mono',consolas,'Courier New',monospace\"><span style=\"color: #808000; text-decoration-color: #808000\">  Downloading http://pypi-mirror.modal.local:5555/simple/peft/peft-0.15.2-py3-none-any.whl.metadata (13 kB)\n",
       "</span></pre>\n"
      ],
      "text/plain": [
       "\u001b[33m  Downloading http://pypi-mirror.modal.local:5555/simple/peft/peft-0.15.2-py3-none-any.whl.metadata (13 kB)\n",
       "\u001b[0m"
      ]
     },
     "metadata": {},
     "output_type": "display_data"
    },
    {
     "data": {
      "text/html": [
       "<pre style=\"white-space:pre;overflow-x:auto;line-height:normal;font-family:Menlo,'DejaVu Sans Mono',consolas,'Courier New',monospace\"><span style=\"color: #808000; text-decoration-color: #808000\">Collecting torch\n",
       "</span></pre>\n"
      ],
      "text/plain": [
       "\u001b[33mCollecting torch\n",
       "\u001b[0m"
      ]
     },
     "metadata": {},
     "output_type": "display_data"
    },
    {
     "data": {
      "text/html": [
       "<pre style=\"white-space:pre;overflow-x:auto;line-height:normal;font-family:Menlo,'DejaVu Sans Mono',consolas,'Courier New',monospace\"><span style=\"color: #808000; text-decoration-color: #808000\">  Downloading http://pypi-mirror.modal.local:5555/simple/torch/torch-2.7.0-cp311-cp311-manylinux_2_28_x86_64.whl.metadata (29 kB)\n",
       "</span></pre>\n"
      ],
      "text/plain": [
       "\u001b[33m  Downloading http://pypi-mirror.modal.local:5555/simple/torch/torch-2.7.0-cp311-cp311-manylinux_2_28_x86_64.whl.metadata (29 kB)\n",
       "\u001b[0m"
      ]
     },
     "metadata": {},
     "output_type": "display_data"
    },
    {
     "data": {
      "text/html": [
       "<pre style=\"white-space:pre;overflow-x:auto;line-height:normal;font-family:Menlo,'DejaVu Sans Mono',consolas,'Courier New',monospace\"><span style=\"color: #808000; text-decoration-color: #808000\">Collecting transformers\n",
       "</span></pre>\n"
      ],
      "text/plain": [
       "\u001b[33mCollecting transformers\n",
       "\u001b[0m"
      ]
     },
     "metadata": {},
     "output_type": "display_data"
    },
    {
     "data": {
      "text/html": [
       "<pre style=\"white-space:pre;overflow-x:auto;line-height:normal;font-family:Menlo,'DejaVu Sans Mono',consolas,'Courier New',monospace\"><span style=\"color: #808000; text-decoration-color: #808000\">  Downloading http://pypi-mirror.modal.local:5555/simple/transformers/transformers-4.51.3-py3-none-any.whl.metadata (38 kB)\n",
       "</span></pre>\n"
      ],
      "text/plain": [
       "\u001b[33m  Downloading http://pypi-mirror.modal.local:5555/simple/transformers/transformers-4.51.3-py3-none-any.whl.metadata (38 kB)\n",
       "\u001b[0m"
      ]
     },
     "metadata": {},
     "output_type": "display_data"
    },
    {
     "data": {
      "text/html": [
       "<pre style=\"white-space:pre;overflow-x:auto;line-height:normal;font-family:Menlo,'DejaVu Sans Mono',consolas,'Courier New',monospace\"><span style=\"color: #808000; text-decoration-color: #808000\">Collecting numpy&lt;3.0.0,&gt;=1.17 (from accelerate)\n",
       "</span></pre>\n"
      ],
      "text/plain": [
       "\u001b[33mCollecting numpy<3.0.0,>=1.17 (from accelerate)\n",
       "\u001b[0m"
      ]
     },
     "metadata": {},
     "output_type": "display_data"
    },
    {
     "data": {
      "text/html": [
       "<pre style=\"white-space:pre;overflow-x:auto;line-height:normal;font-family:Menlo,'DejaVu Sans Mono',consolas,'Courier New',monospace\"><span style=\"color: #808000; text-decoration-color: #808000\">  Downloading http://pypi-mirror.modal.local:5555/simple/numpy/numpy-2.2.5-cp311-cp311-manylinux_2_17_x86_64.manylinux2014_x86_64.whl.metadata (62 kB)\n",
       "</span></pre>\n"
      ],
      "text/plain": [
       "\u001b[33m  Downloading http://pypi-mirror.modal.local:5555/simple/numpy/numpy-2.2.5-cp311-cp311-manylinux_2_17_x86_64.manylinux2014_x86_64.whl.metadata (62 kB)\n",
       "\u001b[0m"
      ]
     },
     "metadata": {},
     "output_type": "display_data"
    },
    {
     "data": {
      "text/html": [
       "<pre style=\"white-space:pre;overflow-x:auto;line-height:normal;font-family:Menlo,'DejaVu Sans Mono',consolas,'Courier New',monospace\"><span style=\"color: #808000; text-decoration-color: #808000\">Collecting packaging&gt;=20.0 (from accelerate)\n",
       "</span></pre>\n"
      ],
      "text/plain": [
       "\u001b[33mCollecting packaging>=20.0 (from accelerate)\n",
       "\u001b[0m"
      ]
     },
     "metadata": {},
     "output_type": "display_data"
    },
    {
     "data": {
      "text/html": [
       "<pre style=\"white-space:pre;overflow-x:auto;line-height:normal;font-family:Menlo,'DejaVu Sans Mono',consolas,'Courier New',monospace\"><span style=\"color: #808000; text-decoration-color: #808000\">  Downloading http://pypi-mirror.modal.local:5555/simple/packaging/packaging-25.0-py3-none-any.whl.metadata (3.3 kB)\n",
       "</span></pre>\n"
      ],
      "text/plain": [
       "\u001b[33m  Downloading http://pypi-mirror.modal.local:5555/simple/packaging/packaging-25.0-py3-none-any.whl.metadata (3.3 kB)\n",
       "\u001b[0m"
      ]
     },
     "metadata": {},
     "output_type": "display_data"
    },
    {
     "data": {
      "text/html": [
       "<pre style=\"white-space:pre;overflow-x:auto;line-height:normal;font-family:Menlo,'DejaVu Sans Mono',consolas,'Courier New',monospace\"><span style=\"color: #808000; text-decoration-color: #808000\">Collecting psutil (from accelerate)\n",
       "</span></pre>\n"
      ],
      "text/plain": [
       "\u001b[33mCollecting psutil (from accelerate)\n",
       "\u001b[0m"
      ]
     },
     "metadata": {},
     "output_type": "display_data"
    },
    {
     "data": {
      "text/html": [
       "<pre style=\"white-space:pre;overflow-x:auto;line-height:normal;font-family:Menlo,'DejaVu Sans Mono',consolas,'Courier New',monospace\"><span style=\"color: #808000; text-decoration-color: #808000\">  Downloading http://pypi-mirror.modal.local:5555/simple/psutil/psutil-7.0.0-cp36-abi3-manylinux_2_12_x86_64.manylinux2010_x86_64.manylinux_2_17_x86_64.manylinux2014_x86_64.whl.metadata (22 kB)\n",
       "</span></pre>\n"
      ],
      "text/plain": [
       "\u001b[33m  Downloading http://pypi-mirror.modal.local:5555/simple/psutil/psutil-7.0.0-cp36-abi3-manylinux_2_12_x86_64.manylinux2010_x86_64.manylinux_2_17_x86_64.manylinux2014_x86_64.whl.metadata (22 kB)\n",
       "\u001b[0m"
      ]
     },
     "metadata": {},
     "output_type": "display_data"
    },
    {
     "data": {
      "text/html": [
       "<pre style=\"white-space:pre;overflow-x:auto;line-height:normal;font-family:Menlo,'DejaVu Sans Mono',consolas,'Courier New',monospace\"><span style=\"color: #808000; text-decoration-color: #808000\">Collecting pyyaml (from accelerate)\n",
       "</span></pre>\n"
      ],
      "text/plain": [
       "\u001b[33mCollecting pyyaml (from accelerate)\n",
       "\u001b[0m"
      ]
     },
     "metadata": {},
     "output_type": "display_data"
    },
    {
     "data": {
      "text/html": [
       "<pre style=\"white-space:pre;overflow-x:auto;line-height:normal;font-family:Menlo,'DejaVu Sans Mono',consolas,'Courier New',monospace\"><span style=\"color: #808000; text-decoration-color: #808000\">  Downloading http://pypi-mirror.modal.local:5555/simple/pyyaml/PyYAML-6.0.2-cp311-cp311-manylinux_2_17_x86_64.manylinux2014_x86_64.whl.metadata (2.1 kB)\n",
       "</span></pre>\n"
      ],
      "text/plain": [
       "\u001b[33m  Downloading http://pypi-mirror.modal.local:5555/simple/pyyaml/PyYAML-6.0.2-cp311-cp311-manylinux_2_17_x86_64.manylinux2014_x86_64.whl.metadata (2.1 kB)\n",
       "\u001b[0m"
      ]
     },
     "metadata": {},
     "output_type": "display_data"
    },
    {
     "data": {
      "text/html": [
       "<pre style=\"white-space:pre;overflow-x:auto;line-height:normal;font-family:Menlo,'DejaVu Sans Mono',consolas,'Courier New',monospace\"><span style=\"color: #808000; text-decoration-color: #808000\">Collecting huggingface-hub&gt;=0.21.0 (from accelerate)\n",
       "</span></pre>\n"
      ],
      "text/plain": [
       "\u001b[33mCollecting huggingface-hub>=0.21.0 (from accelerate)\n",
       "\u001b[0m"
      ]
     },
     "metadata": {},
     "output_type": "display_data"
    },
    {
     "data": {
      "text/html": [
       "<pre style=\"white-space:pre;overflow-x:auto;line-height:normal;font-family:Menlo,'DejaVu Sans Mono',consolas,'Courier New',monospace\"><span style=\"color: #808000; text-decoration-color: #808000\">  Downloading http://pypi-mirror.modal.local:5555/simple/huggingface-hub/huggingface_hub-0.31.1-py3-none-any.whl.metadata (13 kB)\n",
       "</span></pre>\n"
      ],
      "text/plain": [
       "\u001b[33m  Downloading http://pypi-mirror.modal.local:5555/simple/huggingface-hub/huggingface_hub-0.31.1-py3-none-any.whl.metadata (13 kB)\n",
       "\u001b[0m"
      ]
     },
     "metadata": {},
     "output_type": "display_data"
    },
    {
     "data": {
      "text/html": [
       "<pre style=\"white-space:pre;overflow-x:auto;line-height:normal;font-family:Menlo,'DejaVu Sans Mono',consolas,'Courier New',monospace\"><span style=\"color: #808000; text-decoration-color: #808000\">Collecting safetensors&gt;=0.4.3 (from accelerate)\n",
       "</span></pre>\n"
      ],
      "text/plain": [
       "\u001b[33mCollecting safetensors>=0.4.3 (from accelerate)\n",
       "\u001b[0m"
      ]
     },
     "metadata": {},
     "output_type": "display_data"
    },
    {
     "data": {
      "text/html": [
       "<pre style=\"white-space:pre;overflow-x:auto;line-height:normal;font-family:Menlo,'DejaVu Sans Mono',consolas,'Courier New',monospace\"><span style=\"color: #808000; text-decoration-color: #808000\">  Downloading http://pypi-mirror.modal.local:5555/simple/safetensors/safetensors-0.5.3-cp38-abi3-manylinux_2_17_x86_64.manylinux2014_x86_64.whl.metadata (3.8 kB)\n",
       "</span></pre>\n"
      ],
      "text/plain": [
       "\u001b[33m  Downloading http://pypi-mirror.modal.local:5555/simple/safetensors/safetensors-0.5.3-cp38-abi3-manylinux_2_17_x86_64.manylinux2014_x86_64.whl.metadata (3.8 kB)\n",
       "\u001b[0m"
      ]
     },
     "metadata": {},
     "output_type": "display_data"
    },
    {
     "data": {
      "text/html": [
       "<pre style=\"white-space:pre;overflow-x:auto;line-height:normal;font-family:Menlo,'DejaVu Sans Mono',consolas,'Courier New',monospace\"><span style=\"color: #808000; text-decoration-color: #808000\">Collecting tqdm (from peft)\n",
       "</span></pre>\n"
      ],
      "text/plain": [
       "\u001b[33mCollecting tqdm (from peft)\n",
       "\u001b[0m"
      ]
     },
     "metadata": {},
     "output_type": "display_data"
    },
    {
     "data": {
      "text/html": [
       "<pre style=\"white-space:pre;overflow-x:auto;line-height:normal;font-family:Menlo,'DejaVu Sans Mono',consolas,'Courier New',monospace\"><span style=\"color: #808000; text-decoration-color: #808000\">  Downloading http://pypi-mirror.modal.local:5555/simple/tqdm/tqdm-4.67.1-py3-none-any.whl.metadata (57 kB)\n",
       "</span></pre>\n"
      ],
      "text/plain": [
       "\u001b[33m  Downloading http://pypi-mirror.modal.local:5555/simple/tqdm/tqdm-4.67.1-py3-none-any.whl.metadata (57 kB)\n",
       "\u001b[0m"
      ]
     },
     "metadata": {},
     "output_type": "display_data"
    },
    {
     "data": {
      "text/html": [
       "<pre style=\"white-space:pre;overflow-x:auto;line-height:normal;font-family:Menlo,'DejaVu Sans Mono',consolas,'Courier New',monospace\"><span style=\"color: #808000; text-decoration-color: #808000\">Collecting filelock (from torch)\n",
       "</span></pre>\n"
      ],
      "text/plain": [
       "\u001b[33mCollecting filelock (from torch)\n",
       "\u001b[0m"
      ]
     },
     "metadata": {},
     "output_type": "display_data"
    },
    {
     "data": {
      "text/html": [
       "<pre style=\"white-space:pre;overflow-x:auto;line-height:normal;font-family:Menlo,'DejaVu Sans Mono',consolas,'Courier New',monospace\"><span style=\"color: #808000; text-decoration-color: #808000\">  Downloading http://pypi-mirror.modal.local:5555/simple/filelock/filelock-3.18.0-py3-none-any.whl.metadata (2.9 kB)\n",
       "</span></pre>\n"
      ],
      "text/plain": [
       "\u001b[33m  Downloading http://pypi-mirror.modal.local:5555/simple/filelock/filelock-3.18.0-py3-none-any.whl.metadata (2.9 kB)\n",
       "\u001b[0m"
      ]
     },
     "metadata": {},
     "output_type": "display_data"
    },
    {
     "data": {
      "text/html": [
       "<pre style=\"white-space:pre;overflow-x:auto;line-height:normal;font-family:Menlo,'DejaVu Sans Mono',consolas,'Courier New',monospace\"><span style=\"color: #808000; text-decoration-color: #808000\">Requirement already satisfied: typing-extensions&gt;=4.10.0 in /usr/local/lib/python3.11/site-packages (from torch) (4.12.2)\n",
       "</span></pre>\n"
      ],
      "text/plain": [
       "\u001b[33mRequirement already satisfied: typing-extensions>=4.10.0 in /usr/local/lib/python3.11/site-packages (from torch) (4.12.2)\n",
       "\u001b[0m"
      ]
     },
     "metadata": {},
     "output_type": "display_data"
    },
    {
     "data": {
      "text/html": [
       "<pre style=\"white-space:pre;overflow-x:auto;line-height:normal;font-family:Menlo,'DejaVu Sans Mono',consolas,'Courier New',monospace\"><span style=\"color: #808000; text-decoration-color: #808000\">Collecting sympy&gt;=1.13.3 (from torch)\n",
       "</span></pre>\n"
      ],
      "text/plain": [
       "\u001b[33mCollecting sympy>=1.13.3 (from torch)\n",
       "\u001b[0m"
      ]
     },
     "metadata": {},
     "output_type": "display_data"
    },
    {
     "data": {
      "text/html": [
       "<pre style=\"white-space:pre;overflow-x:auto;line-height:normal;font-family:Menlo,'DejaVu Sans Mono',consolas,'Courier New',monospace\"><span style=\"color: #808000; text-decoration-color: #808000\">  Downloading http://pypi-mirror.modal.local:5555/simple/sympy/sympy-1.14.0-py3-none-any.whl.metadata (12 kB)\n",
       "</span></pre>\n"
      ],
      "text/plain": [
       "\u001b[33m  Downloading http://pypi-mirror.modal.local:5555/simple/sympy/sympy-1.14.0-py3-none-any.whl.metadata (12 kB)\n",
       "\u001b[0m"
      ]
     },
     "metadata": {},
     "output_type": "display_data"
    },
    {
     "data": {
      "text/html": [
       "<pre style=\"white-space:pre;overflow-x:auto;line-height:normal;font-family:Menlo,'DejaVu Sans Mono',consolas,'Courier New',monospace\"><span style=\"color: #808000; text-decoration-color: #808000\">Collecting networkx (from torch)\n",
       "</span></pre>\n"
      ],
      "text/plain": [
       "\u001b[33mCollecting networkx (from torch)\n",
       "\u001b[0m"
      ]
     },
     "metadata": {},
     "output_type": "display_data"
    },
    {
     "data": {
      "text/html": [
       "<pre style=\"white-space:pre;overflow-x:auto;line-height:normal;font-family:Menlo,'DejaVu Sans Mono',consolas,'Courier New',monospace\"><span style=\"color: #808000; text-decoration-color: #808000\">  Downloading http://pypi-mirror.modal.local:5555/simple/networkx/networkx-3.4.2-py3-none-any.whl.metadata (6.3 kB)\n",
       "</span></pre>\n"
      ],
      "text/plain": [
       "\u001b[33m  Downloading http://pypi-mirror.modal.local:5555/simple/networkx/networkx-3.4.2-py3-none-any.whl.metadata (6.3 kB)\n",
       "\u001b[0m"
      ]
     },
     "metadata": {},
     "output_type": "display_data"
    },
    {
     "data": {
      "text/html": [
       "<pre style=\"white-space:pre;overflow-x:auto;line-height:normal;font-family:Menlo,'DejaVu Sans Mono',consolas,'Courier New',monospace\"><span style=\"color: #808000; text-decoration-color: #808000\">Collecting jinja2 (from torch)\n",
       "</span></pre>\n"
      ],
      "text/plain": [
       "\u001b[33mCollecting jinja2 (from torch)\n",
       "\u001b[0m"
      ]
     },
     "metadata": {},
     "output_type": "display_data"
    },
    {
     "data": {
      "text/html": [
       "<pre style=\"white-space:pre;overflow-x:auto;line-height:normal;font-family:Menlo,'DejaVu Sans Mono',consolas,'Courier New',monospace\"><span style=\"color: #808000; text-decoration-color: #808000\">  Downloading http://pypi-mirror.modal.local:5555/simple/jinja2/jinja2-3.1.6-py3-none-any.whl.metadata (2.9 kB)\n",
       "</span></pre>\n"
      ],
      "text/plain": [
       "\u001b[33m  Downloading http://pypi-mirror.modal.local:5555/simple/jinja2/jinja2-3.1.6-py3-none-any.whl.metadata (2.9 kB)\n",
       "\u001b[0m"
      ]
     },
     "metadata": {},
     "output_type": "display_data"
    },
    {
     "data": {
      "text/html": [
       "<pre style=\"white-space:pre;overflow-x:auto;line-height:normal;font-family:Menlo,'DejaVu Sans Mono',consolas,'Courier New',monospace\"><span style=\"color: #808000; text-decoration-color: #808000\">Collecting fsspec (from torch)\n",
       "</span></pre>\n"
      ],
      "text/plain": [
       "\u001b[33mCollecting fsspec (from torch)\n",
       "\u001b[0m"
      ]
     },
     "metadata": {},
     "output_type": "display_data"
    },
    {
     "data": {
      "text/html": [
       "<pre style=\"white-space:pre;overflow-x:auto;line-height:normal;font-family:Menlo,'DejaVu Sans Mono',consolas,'Courier New',monospace\"><span style=\"color: #808000; text-decoration-color: #808000\">  Downloading http://pypi-mirror.modal.local:5555/simple/fsspec/fsspec-2025.3.2-py3-none-any.whl.metadata (11 kB)\n",
       "</span></pre>\n"
      ],
      "text/plain": [
       "\u001b[33m  Downloading http://pypi-mirror.modal.local:5555/simple/fsspec/fsspec-2025.3.2-py3-none-any.whl.metadata (11 kB)\n",
       "\u001b[0m"
      ]
     },
     "metadata": {},
     "output_type": "display_data"
    },
    {
     "data": {
      "text/html": [
       "<pre style=\"white-space:pre;overflow-x:auto;line-height:normal;font-family:Menlo,'DejaVu Sans Mono',consolas,'Courier New',monospace\"><span style=\"color: #808000; text-decoration-color: #808000\">Collecting nvidia-cuda-nvrtc-cu12==12.6.77 (from torch)\n",
       "</span></pre>\n"
      ],
      "text/plain": [
       "\u001b[33mCollecting nvidia-cuda-nvrtc-cu12==12.6.77 (from torch)\n",
       "\u001b[0m"
      ]
     },
     "metadata": {},
     "output_type": "display_data"
    },
    {
     "data": {
      "text/html": [
       "<pre style=\"white-space:pre;overflow-x:auto;line-height:normal;font-family:Menlo,'DejaVu Sans Mono',consolas,'Courier New',monospace\"><span style=\"color: #808000; text-decoration-color: #808000\">  Downloading http://pypi-mirror.modal.local:5555/simple/nvidia-cuda-nvrtc-cu12/nvidia_cuda_nvrtc_cu12-12.6.77-py3-none-manylinux2014_x86_64.whl.metadata (1.5 kB)\n",
       "</span></pre>\n"
      ],
      "text/plain": [
       "\u001b[33m  Downloading http://pypi-mirror.modal.local:5555/simple/nvidia-cuda-nvrtc-cu12/nvidia_cuda_nvrtc_cu12-12.6.77-py3-none-manylinux2014_x86_64.whl.metadata (1.5 kB)\n",
       "\u001b[0m"
      ]
     },
     "metadata": {},
     "output_type": "display_data"
    },
    {
     "data": {
      "text/html": [
       "<pre style=\"white-space:pre;overflow-x:auto;line-height:normal;font-family:Menlo,'DejaVu Sans Mono',consolas,'Courier New',monospace\"><span style=\"color: #808000; text-decoration-color: #808000\">Collecting nvidia-cuda-runtime-cu12==12.6.77 (from torch)\n",
       "</span></pre>\n"
      ],
      "text/plain": [
       "\u001b[33mCollecting nvidia-cuda-runtime-cu12==12.6.77 (from torch)\n",
       "\u001b[0m"
      ]
     },
     "metadata": {},
     "output_type": "display_data"
    },
    {
     "data": {
      "text/html": [
       "<pre style=\"white-space:pre;overflow-x:auto;line-height:normal;font-family:Menlo,'DejaVu Sans Mono',consolas,'Courier New',monospace\"><span style=\"color: #808000; text-decoration-color: #808000\">  Downloading http://pypi-mirror.modal.local:5555/simple/nvidia-cuda-runtime-cu12/nvidia_cuda_runtime_cu12-12.6.77-py3-none-manylinux2014_x86_64.manylinux_2_17_x86_64.whl.metadata (1.5 kB)\n",
       "</span></pre>\n"
      ],
      "text/plain": [
       "\u001b[33m  Downloading http://pypi-mirror.modal.local:5555/simple/nvidia-cuda-runtime-cu12/nvidia_cuda_runtime_cu12-12.6.77-py3-none-manylinux2014_x86_64.manylinux_2_17_x86_64.whl.metadata (1.5 kB)\n",
       "\u001b[0m"
      ]
     },
     "metadata": {},
     "output_type": "display_data"
    },
    {
     "data": {
      "text/html": [
       "<pre style=\"white-space:pre;overflow-x:auto;line-height:normal;font-family:Menlo,'DejaVu Sans Mono',consolas,'Courier New',monospace\"><span style=\"color: #808000; text-decoration-color: #808000\">Collecting nvidia-cuda-cupti-cu12==12.6.80 (from torch)\n",
       "</span></pre>\n"
      ],
      "text/plain": [
       "\u001b[33mCollecting nvidia-cuda-cupti-cu12==12.6.80 (from torch)\n",
       "\u001b[0m"
      ]
     },
     "metadata": {},
     "output_type": "display_data"
    },
    {
     "data": {
      "text/html": [
       "<pre style=\"white-space:pre;overflow-x:auto;line-height:normal;font-family:Menlo,'DejaVu Sans Mono',consolas,'Courier New',monospace\"><span style=\"color: #808000; text-decoration-color: #808000\">  Downloading http://pypi-mirror.modal.local:5555/simple/nvidia-cuda-cupti-cu12/nvidia_cuda_cupti_cu12-12.6.80-py3-none-manylinux2014_x86_64.manylinux_2_17_x86_64.whl.metadata (1.6 kB)\n",
       "</span></pre>\n"
      ],
      "text/plain": [
       "\u001b[33m  Downloading http://pypi-mirror.modal.local:5555/simple/nvidia-cuda-cupti-cu12/nvidia_cuda_cupti_cu12-12.6.80-py3-none-manylinux2014_x86_64.manylinux_2_17_x86_64.whl.metadata (1.6 kB)\n",
       "\u001b[0m"
      ]
     },
     "metadata": {},
     "output_type": "display_data"
    },
    {
     "data": {
      "text/html": [
       "<pre style=\"white-space:pre;overflow-x:auto;line-height:normal;font-family:Menlo,'DejaVu Sans Mono',consolas,'Courier New',monospace\"><span style=\"color: #808000; text-decoration-color: #808000\">Collecting nvidia-cudnn-cu12==9.5.1.17 (from torch)\n",
       "</span></pre>\n"
      ],
      "text/plain": [
       "\u001b[33mCollecting nvidia-cudnn-cu12==9.5.1.17 (from torch)\n",
       "\u001b[0m"
      ]
     },
     "metadata": {},
     "output_type": "display_data"
    },
    {
     "data": {
      "text/html": [
       "<pre style=\"white-space:pre;overflow-x:auto;line-height:normal;font-family:Menlo,'DejaVu Sans Mono',consolas,'Courier New',monospace\"><span style=\"color: #808000; text-decoration-color: #808000\">  Downloading http://pypi-mirror.modal.local:5555/simple/nvidia-cudnn-cu12/nvidia_cudnn_cu12-9.5.1.17-py3-none-manylinux_2_28_x86_64.whl.metadata (1.6 kB)\n",
       "</span></pre>\n"
      ],
      "text/plain": [
       "\u001b[33m  Downloading http://pypi-mirror.modal.local:5555/simple/nvidia-cudnn-cu12/nvidia_cudnn_cu12-9.5.1.17-py3-none-manylinux_2_28_x86_64.whl.metadata (1.6 kB)\n",
       "\u001b[0m"
      ]
     },
     "metadata": {},
     "output_type": "display_data"
    },
    {
     "data": {
      "text/html": [
       "<pre style=\"white-space:pre;overflow-x:auto;line-height:normal;font-family:Menlo,'DejaVu Sans Mono',consolas,'Courier New',monospace\"><span style=\"color: #808000; text-decoration-color: #808000\">Collecting nvidia-cublas-cu12==12.6.4.1 (from torch)\n",
       "</span></pre>\n"
      ],
      "text/plain": [
       "\u001b[33mCollecting nvidia-cublas-cu12==12.6.4.1 (from torch)\n",
       "\u001b[0m"
      ]
     },
     "metadata": {},
     "output_type": "display_data"
    },
    {
     "data": {
      "text/html": [
       "<pre style=\"white-space:pre;overflow-x:auto;line-height:normal;font-family:Menlo,'DejaVu Sans Mono',consolas,'Courier New',monospace\"><span style=\"color: #808000; text-decoration-color: #808000\">  Downloading http://pypi-mirror.modal.local:5555/simple/nvidia-cublas-cu12/nvidia_cublas_cu12-12.6.4.1-py3-none-manylinux2014_x86_64.manylinux_2_17_x86_64.whl.metadata (1.5 kB)\n",
       "</span></pre>\n"
      ],
      "text/plain": [
       "\u001b[33m  Downloading http://pypi-mirror.modal.local:5555/simple/nvidia-cublas-cu12/nvidia_cublas_cu12-12.6.4.1-py3-none-manylinux2014_x86_64.manylinux_2_17_x86_64.whl.metadata (1.5 kB)\n",
       "\u001b[0m"
      ]
     },
     "metadata": {},
     "output_type": "display_data"
    },
    {
     "data": {
      "text/html": [
       "<pre style=\"white-space:pre;overflow-x:auto;line-height:normal;font-family:Menlo,'DejaVu Sans Mono',consolas,'Courier New',monospace\"><span style=\"color: #808000; text-decoration-color: #808000\">Collecting nvidia-cufft-cu12==11.3.0.4 (from torch)\n",
       "</span></pre>\n"
      ],
      "text/plain": [
       "\u001b[33mCollecting nvidia-cufft-cu12==11.3.0.4 (from torch)\n",
       "\u001b[0m"
      ]
     },
     "metadata": {},
     "output_type": "display_data"
    },
    {
     "data": {
      "text/html": [
       "<pre style=\"white-space:pre;overflow-x:auto;line-height:normal;font-family:Menlo,'DejaVu Sans Mono',consolas,'Courier New',monospace\"><span style=\"color: #808000; text-decoration-color: #808000\">  Downloading http://pypi-mirror.modal.local:5555/simple/nvidia-cufft-cu12/nvidia_cufft_cu12-11.3.0.4-py3-none-manylinux2014_x86_64.manylinux_2_17_x86_64.whl.metadata (1.5 kB)\n",
       "</span></pre>\n"
      ],
      "text/plain": [
       "\u001b[33m  Downloading http://pypi-mirror.modal.local:5555/simple/nvidia-cufft-cu12/nvidia_cufft_cu12-11.3.0.4-py3-none-manylinux2014_x86_64.manylinux_2_17_x86_64.whl.metadata (1.5 kB)\n",
       "\u001b[0m"
      ]
     },
     "metadata": {},
     "output_type": "display_data"
    },
    {
     "data": {
      "text/html": [
       "<pre style=\"white-space:pre;overflow-x:auto;line-height:normal;font-family:Menlo,'DejaVu Sans Mono',consolas,'Courier New',monospace\"><span style=\"color: #808000; text-decoration-color: #808000\">Collecting nvidia-curand-cu12==10.3.7.77 (from torch)\n",
       "</span></pre>\n"
      ],
      "text/plain": [
       "\u001b[33mCollecting nvidia-curand-cu12==10.3.7.77 (from torch)\n",
       "\u001b[0m"
      ]
     },
     "metadata": {},
     "output_type": "display_data"
    },
    {
     "data": {
      "text/html": [
       "<pre style=\"white-space:pre;overflow-x:auto;line-height:normal;font-family:Menlo,'DejaVu Sans Mono',consolas,'Courier New',monospace\"><span style=\"color: #808000; text-decoration-color: #808000\">  Downloading http://pypi-mirror.modal.local:5555/simple/nvidia-curand-cu12/nvidia_curand_cu12-10.3.7.77-py3-none-manylinux2014_x86_64.manylinux_2_17_x86_64.whl.metadata (1.5 kB)\n",
       "</span></pre>\n"
      ],
      "text/plain": [
       "\u001b[33m  Downloading http://pypi-mirror.modal.local:5555/simple/nvidia-curand-cu12/nvidia_curand_cu12-10.3.7.77-py3-none-manylinux2014_x86_64.manylinux_2_17_x86_64.whl.metadata (1.5 kB)\n",
       "\u001b[0m"
      ]
     },
     "metadata": {},
     "output_type": "display_data"
    },
    {
     "data": {
      "text/html": [
       "<pre style=\"white-space:pre;overflow-x:auto;line-height:normal;font-family:Menlo,'DejaVu Sans Mono',consolas,'Courier New',monospace\"><span style=\"color: #808000; text-decoration-color: #808000\">Collecting nvidia-cusolver-cu12==11.7.1.2 (from torch)\n",
       "</span></pre>\n"
      ],
      "text/plain": [
       "\u001b[33mCollecting nvidia-cusolver-cu12==11.7.1.2 (from torch)\n",
       "\u001b[0m"
      ]
     },
     "metadata": {},
     "output_type": "display_data"
    },
    {
     "data": {
      "text/html": [
       "<pre style=\"white-space:pre;overflow-x:auto;line-height:normal;font-family:Menlo,'DejaVu Sans Mono',consolas,'Courier New',monospace\"><span style=\"color: #808000; text-decoration-color: #808000\">  Downloading http://pypi-mirror.modal.local:5555/simple/nvidia-cusolver-cu12/nvidia_cusolver_cu12-11.7.1.2-py3-none-manylinux2014_x86_64.manylinux_2_17_x86_64.whl.metadata (1.6 kB)\n",
       "</span></pre>\n"
      ],
      "text/plain": [
       "\u001b[33m  Downloading http://pypi-mirror.modal.local:5555/simple/nvidia-cusolver-cu12/nvidia_cusolver_cu12-11.7.1.2-py3-none-manylinux2014_x86_64.manylinux_2_17_x86_64.whl.metadata (1.6 kB)\n",
       "\u001b[0m"
      ]
     },
     "metadata": {},
     "output_type": "display_data"
    },
    {
     "data": {
      "text/html": [
       "<pre style=\"white-space:pre;overflow-x:auto;line-height:normal;font-family:Menlo,'DejaVu Sans Mono',consolas,'Courier New',monospace\"><span style=\"color: #808000; text-decoration-color: #808000\">Collecting nvidia-cusparse-cu12==12.5.4.2 (from torch)\n",
       "</span></pre>\n"
      ],
      "text/plain": [
       "\u001b[33mCollecting nvidia-cusparse-cu12==12.5.4.2 (from torch)\n",
       "\u001b[0m"
      ]
     },
     "metadata": {},
     "output_type": "display_data"
    },
    {
     "data": {
      "text/html": [
       "<pre style=\"white-space:pre;overflow-x:auto;line-height:normal;font-family:Menlo,'DejaVu Sans Mono',consolas,'Courier New',monospace\"><span style=\"color: #808000; text-decoration-color: #808000\">  Downloading http://pypi-mirror.modal.local:5555/simple/nvidia-cusparse-cu12/nvidia_cusparse_cu12-12.5.4.2-py3-none-manylinux2014_x86_64.manylinux_2_17_x86_64.whl.metadata (1.6 kB)\n",
       "</span></pre>\n"
      ],
      "text/plain": [
       "\u001b[33m  Downloading http://pypi-mirror.modal.local:5555/simple/nvidia-cusparse-cu12/nvidia_cusparse_cu12-12.5.4.2-py3-none-manylinux2014_x86_64.manylinux_2_17_x86_64.whl.metadata (1.6 kB)\n",
       "\u001b[0m"
      ]
     },
     "metadata": {},
     "output_type": "display_data"
    },
    {
     "data": {
      "text/html": [
       "<pre style=\"white-space:pre;overflow-x:auto;line-height:normal;font-family:Menlo,'DejaVu Sans Mono',consolas,'Courier New',monospace\"><span style=\"color: #808000; text-decoration-color: #808000\">Collecting nvidia-cusparselt-cu12==0.6.3 (from torch)\n",
       "</span></pre>\n"
      ],
      "text/plain": [
       "\u001b[33mCollecting nvidia-cusparselt-cu12==0.6.3 (from torch)\n",
       "\u001b[0m"
      ]
     },
     "metadata": {},
     "output_type": "display_data"
    },
    {
     "data": {
      "text/html": [
       "<pre style=\"white-space:pre;overflow-x:auto;line-height:normal;font-family:Menlo,'DejaVu Sans Mono',consolas,'Courier New',monospace\"><span style=\"color: #808000; text-decoration-color: #808000\">  Downloading http://pypi-mirror.modal.local:5555/simple/nvidia-cusparselt-cu12/nvidia_cusparselt_cu12-0.6.3-py3-none-manylinux2014_x86_64.whl.metadata (6.8 kB)\n",
       "</span></pre>\n"
      ],
      "text/plain": [
       "\u001b[33m  Downloading http://pypi-mirror.modal.local:5555/simple/nvidia-cusparselt-cu12/nvidia_cusparselt_cu12-0.6.3-py3-none-manylinux2014_x86_64.whl.metadata (6.8 kB)\n",
       "\u001b[0m"
      ]
     },
     "metadata": {},
     "output_type": "display_data"
    },
    {
     "data": {
      "text/html": [
       "<pre style=\"white-space:pre;overflow-x:auto;line-height:normal;font-family:Menlo,'DejaVu Sans Mono',consolas,'Courier New',monospace\"><span style=\"color: #808000; text-decoration-color: #808000\">Collecting nvidia-nccl-cu12==2.26.2 (from torch)\n",
       "</span></pre>\n"
      ],
      "text/plain": [
       "\u001b[33mCollecting nvidia-nccl-cu12==2.26.2 (from torch)\n",
       "\u001b[0m"
      ]
     },
     "metadata": {},
     "output_type": "display_data"
    },
    {
     "data": {
      "text/html": [
       "<pre style=\"white-space:pre;overflow-x:auto;line-height:normal;font-family:Menlo,'DejaVu Sans Mono',consolas,'Courier New',monospace\"><span style=\"color: #808000; text-decoration-color: #808000\">  Downloading http://pypi-mirror.modal.local:5555/simple/nvidia-nccl-cu12/nvidia_nccl_cu12-2.26.2-py3-none-manylinux2014_x86_64.manylinux_2_17_x86_64.whl.metadata (2.0 kB)\n",
       "</span></pre>\n"
      ],
      "text/plain": [
       "\u001b[33m  Downloading http://pypi-mirror.modal.local:5555/simple/nvidia-nccl-cu12/nvidia_nccl_cu12-2.26.2-py3-none-manylinux2014_x86_64.manylinux_2_17_x86_64.whl.metadata (2.0 kB)\n",
       "\u001b[0m"
      ]
     },
     "metadata": {},
     "output_type": "display_data"
    },
    {
     "data": {
      "text/html": [
       "<pre style=\"white-space:pre;overflow-x:auto;line-height:normal;font-family:Menlo,'DejaVu Sans Mono',consolas,'Courier New',monospace\"><span style=\"color: #808000; text-decoration-color: #808000\">Collecting nvidia-nvtx-cu12==12.6.77 (from torch)\n",
       "</span></pre>\n"
      ],
      "text/plain": [
       "\u001b[33mCollecting nvidia-nvtx-cu12==12.6.77 (from torch)\n",
       "\u001b[0m"
      ]
     },
     "metadata": {},
     "output_type": "display_data"
    },
    {
     "data": {
      "text/html": [
       "<pre style=\"white-space:pre;overflow-x:auto;line-height:normal;font-family:Menlo,'DejaVu Sans Mono',consolas,'Courier New',monospace\"><span style=\"color: #808000; text-decoration-color: #808000\">  Downloading http://pypi-mirror.modal.local:5555/simple/nvidia-nvtx-cu12/nvidia_nvtx_cu12-12.6.77-py3-none-manylinux2014_x86_64.manylinux_2_17_x86_64.whl.metadata (1.6 kB)\n",
       "</span></pre>\n"
      ],
      "text/plain": [
       "\u001b[33m  Downloading http://pypi-mirror.modal.local:5555/simple/nvidia-nvtx-cu12/nvidia_nvtx_cu12-12.6.77-py3-none-manylinux2014_x86_64.manylinux_2_17_x86_64.whl.metadata (1.6 kB)\n",
       "\u001b[0m"
      ]
     },
     "metadata": {},
     "output_type": "display_data"
    },
    {
     "data": {
      "text/html": [
       "<pre style=\"white-space:pre;overflow-x:auto;line-height:normal;font-family:Menlo,'DejaVu Sans Mono',consolas,'Courier New',monospace\"><span style=\"color: #808000; text-decoration-color: #808000\">Collecting nvidia-nvjitlink-cu12==12.6.85 (from torch)\n",
       "</span></pre>\n"
      ],
      "text/plain": [
       "\u001b[33mCollecting nvidia-nvjitlink-cu12==12.6.85 (from torch)\n",
       "\u001b[0m"
      ]
     },
     "metadata": {},
     "output_type": "display_data"
    },
    {
     "data": {
      "text/html": [
       "<pre style=\"white-space:pre;overflow-x:auto;line-height:normal;font-family:Menlo,'DejaVu Sans Mono',consolas,'Courier New',monospace\"><span style=\"color: #808000; text-decoration-color: #808000\">  Downloading http://pypi-mirror.modal.local:5555/simple/nvidia-nvjitlink-cu12/nvidia_nvjitlink_cu12-12.6.85-py3-none-manylinux2010_x86_64.manylinux_2_12_x86_64.whl.metadata (1.5 kB)\n",
       "</span></pre>\n"
      ],
      "text/plain": [
       "\u001b[33m  Downloading http://pypi-mirror.modal.local:5555/simple/nvidia-nvjitlink-cu12/nvidia_nvjitlink_cu12-12.6.85-py3-none-manylinux2010_x86_64.manylinux_2_12_x86_64.whl.metadata (1.5 kB)\n",
       "\u001b[0m"
      ]
     },
     "metadata": {},
     "output_type": "display_data"
    },
    {
     "data": {
      "text/html": [
       "<pre style=\"white-space:pre;overflow-x:auto;line-height:normal;font-family:Menlo,'DejaVu Sans Mono',consolas,'Courier New',monospace\"><span style=\"color: #808000; text-decoration-color: #808000\">Collecting nvidia-cufile-cu12==1.11.1.6 (from torch)\n",
       "</span></pre>\n"
      ],
      "text/plain": [
       "\u001b[33mCollecting nvidia-cufile-cu12==1.11.1.6 (from torch)\n",
       "\u001b[0m"
      ]
     },
     "metadata": {},
     "output_type": "display_data"
    },
    {
     "data": {
      "text/html": [
       "<pre style=\"white-space:pre;overflow-x:auto;line-height:normal;font-family:Menlo,'DejaVu Sans Mono',consolas,'Courier New',monospace\"><span style=\"color: #808000; text-decoration-color: #808000\">  Downloading http://pypi-mirror.modal.local:5555/simple/nvidia-cufile-cu12/nvidia_cufile_cu12-1.11.1.6-py3-none-manylinux2014_x86_64.manylinux_2_17_x86_64.whl.metadata (1.5 kB)\n",
       "</span></pre>\n"
      ],
      "text/plain": [
       "\u001b[33m  Downloading http://pypi-mirror.modal.local:5555/simple/nvidia-cufile-cu12/nvidia_cufile_cu12-1.11.1.6-py3-none-manylinux2014_x86_64.manylinux_2_17_x86_64.whl.metadata (1.5 kB)\n",
       "\u001b[0m"
      ]
     },
     "metadata": {},
     "output_type": "display_data"
    },
    {
     "data": {
      "text/html": [
       "<pre style=\"white-space:pre;overflow-x:auto;line-height:normal;font-family:Menlo,'DejaVu Sans Mono',consolas,'Courier New',monospace\"><span style=\"color: #808000; text-decoration-color: #808000\">Collecting triton==3.3.0 (from torch)\n",
       "</span></pre>\n"
      ],
      "text/plain": [
       "\u001b[33mCollecting triton==3.3.0 (from torch)\n",
       "\u001b[0m"
      ]
     },
     "metadata": {},
     "output_type": "display_data"
    },
    {
     "data": {
      "text/html": [
       "<pre style=\"white-space:pre;overflow-x:auto;line-height:normal;font-family:Menlo,'DejaVu Sans Mono',consolas,'Courier New',monospace\"><span style=\"color: #808000; text-decoration-color: #808000\">  Downloading http://pypi-mirror.modal.local:5555/simple/triton/triton-3.3.0-cp311-cp311-manylinux_2_27_x86_64.manylinux_2_28_x86_64.whl.metadata (1.5 kB)\n",
       "</span></pre>\n"
      ],
      "text/plain": [
       "\u001b[33m  Downloading http://pypi-mirror.modal.local:5555/simple/triton/triton-3.3.0-cp311-cp311-manylinux_2_27_x86_64.manylinux_2_28_x86_64.whl.metadata (1.5 kB)\n",
       "\u001b[0m"
      ]
     },
     "metadata": {},
     "output_type": "display_data"
    },
    {
     "data": {
      "text/html": [
       "<pre style=\"white-space:pre;overflow-x:auto;line-height:normal;font-family:Menlo,'DejaVu Sans Mono',consolas,'Courier New',monospace\"><span style=\"color: #808000; text-decoration-color: #808000\">Requirement already satisfied: setuptools&gt;=40.8.0 in /usr/local/lib/python3.11/site-packages (from triton==3.3.0-&gt;torch) (65.5.1)\n",
       "</span></pre>\n"
      ],
      "text/plain": [
       "\u001b[33mRequirement already satisfied: setuptools>=40.8.0 in /usr/local/lib/python3.11/site-packages (from triton==3.3.0->torch) (65.5.1)\n",
       "\u001b[0m"
      ]
     },
     "metadata": {},
     "output_type": "display_data"
    },
    {
     "data": {
      "text/html": [
       "<pre style=\"white-space:pre;overflow-x:auto;line-height:normal;font-family:Menlo,'DejaVu Sans Mono',consolas,'Courier New',monospace\"><span style=\"color: #808000; text-decoration-color: #808000\">Collecting regex!=2019.12.17 (from transformers)\n",
       "</span></pre>\n"
      ],
      "text/plain": [
       "\u001b[33mCollecting regex!=2019.12.17 (from transformers)\n",
       "\u001b[0m"
      ]
     },
     "metadata": {},
     "output_type": "display_data"
    },
    {
     "data": {
      "text/html": [
       "<pre style=\"white-space:pre;overflow-x:auto;line-height:normal;font-family:Menlo,'DejaVu Sans Mono',consolas,'Courier New',monospace\"><span style=\"color: #808000; text-decoration-color: #808000\">  Downloading http://pypi-mirror.modal.local:5555/simple/regex/regex-2024.11.6-cp311-cp311-manylinux_2_17_x86_64.manylinux2014_x86_64.whl.metadata (40 kB)\n",
       "</span></pre>\n"
      ],
      "text/plain": [
       "\u001b[33m  Downloading http://pypi-mirror.modal.local:5555/simple/regex/regex-2024.11.6-cp311-cp311-manylinux_2_17_x86_64.manylinux2014_x86_64.whl.metadata (40 kB)\n",
       "\u001b[0m"
      ]
     },
     "metadata": {},
     "output_type": "display_data"
    },
    {
     "data": {
      "text/html": [
       "<pre style=\"white-space:pre;overflow-x:auto;line-height:normal;font-family:Menlo,'DejaVu Sans Mono',consolas,'Courier New',monospace\"><span style=\"color: #808000; text-decoration-color: #808000\">Collecting requests (from transformers)\n",
       "</span></pre>\n"
      ],
      "text/plain": [
       "\u001b[33mCollecting requests (from transformers)\n",
       "\u001b[0m"
      ]
     },
     "metadata": {},
     "output_type": "display_data"
    },
    {
     "data": {
      "text/html": [
       "<pre style=\"white-space:pre;overflow-x:auto;line-height:normal;font-family:Menlo,'DejaVu Sans Mono',consolas,'Courier New',monospace\"><span style=\"color: #808000; text-decoration-color: #808000\">  Downloading http://pypi-mirror.modal.local:5555/simple/requests/requests-2.32.3-py3-none-any.whl.metadata (4.6 kB)\n",
       "</span></pre>\n"
      ],
      "text/plain": [
       "\u001b[33m  Downloading http://pypi-mirror.modal.local:5555/simple/requests/requests-2.32.3-py3-none-any.whl.metadata (4.6 kB)\n",
       "\u001b[0m"
      ]
     },
     "metadata": {},
     "output_type": "display_data"
    },
    {
     "data": {
      "text/html": [
       "<pre style=\"white-space:pre;overflow-x:auto;line-height:normal;font-family:Menlo,'DejaVu Sans Mono',consolas,'Courier New',monospace\"><span style=\"color: #808000; text-decoration-color: #808000\">Collecting tokenizers&lt;0.22,&gt;=0.21 (from transformers)\n",
       "</span></pre>\n"
      ],
      "text/plain": [
       "\u001b[33mCollecting tokenizers<0.22,>=0.21 (from transformers)\n",
       "\u001b[0m"
      ]
     },
     "metadata": {},
     "output_type": "display_data"
    },
    {
     "data": {
      "text/html": [
       "<pre style=\"white-space:pre;overflow-x:auto;line-height:normal;font-family:Menlo,'DejaVu Sans Mono',consolas,'Courier New',monospace\"><span style=\"color: #808000; text-decoration-color: #808000\">  Downloading http://pypi-mirror.modal.local:5555/simple/tokenizers/tokenizers-0.21.1-cp39-abi3-manylinux_2_17_x86_64.manylinux2014_x86_64.whl.metadata (6.8 kB)\n",
       "</span></pre>\n"
      ],
      "text/plain": [
       "\u001b[33m  Downloading http://pypi-mirror.modal.local:5555/simple/tokenizers/tokenizers-0.21.1-cp39-abi3-manylinux_2_17_x86_64.manylinux2014_x86_64.whl.metadata (6.8 kB)\n",
       "\u001b[0m"
      ]
     },
     "metadata": {},
     "output_type": "display_data"
    },
    {
     "data": {
      "text/html": [
       "<pre style=\"white-space:pre;overflow-x:auto;line-height:normal;font-family:Menlo,'DejaVu Sans Mono',consolas,'Courier New',monospace\"><span style=\"color: #808000; text-decoration-color: #808000\">Collecting hf-xet&lt;2.0.0,&gt;=1.1.0 (from huggingface-hub&gt;=0.21.0-&gt;accelerate)\n",
       "</span></pre>\n"
      ],
      "text/plain": [
       "\u001b[33mCollecting hf-xet<2.0.0,>=1.1.0 (from huggingface-hub>=0.21.0->accelerate)\n",
       "\u001b[0m"
      ]
     },
     "metadata": {},
     "output_type": "display_data"
    },
    {
     "data": {
      "text/html": [
       "<pre style=\"white-space:pre;overflow-x:auto;line-height:normal;font-family:Menlo,'DejaVu Sans Mono',consolas,'Courier New',monospace\"><span style=\"color: #808000; text-decoration-color: #808000\">  Downloading http://pypi-mirror.modal.local:5555/simple/hf-xet/hf_xet-1.1.0-cp37-abi3-manylinux_2_17_x86_64.manylinux2014_x86_64.whl.metadata (494 bytes)\n",
       "</span></pre>\n"
      ],
      "text/plain": [
       "\u001b[33m  Downloading http://pypi-mirror.modal.local:5555/simple/hf-xet/hf_xet-1.1.0-cp37-abi3-manylinux_2_17_x86_64.manylinux2014_x86_64.whl.metadata (494 bytes)\n",
       "\u001b[0m"
      ]
     },
     "metadata": {},
     "output_type": "display_data"
    },
    {
     "data": {
      "text/html": [
       "<pre style=\"white-space:pre;overflow-x:auto;line-height:normal;font-family:Menlo,'DejaVu Sans Mono',consolas,'Courier New',monospace\"><span style=\"color: #808000; text-decoration-color: #808000\">Collecting mpmath&lt;1.4,&gt;=1.1.0 (from sympy&gt;=1.13.3-&gt;torch)\n",
       "</span></pre>\n"
      ],
      "text/plain": [
       "\u001b[33mCollecting mpmath<1.4,>=1.1.0 (from sympy>=1.13.3->torch)\n",
       "\u001b[0m"
      ]
     },
     "metadata": {},
     "output_type": "display_data"
    },
    {
     "data": {
      "text/html": [
       "<pre style=\"white-space:pre;overflow-x:auto;line-height:normal;font-family:Menlo,'DejaVu Sans Mono',consolas,'Courier New',monospace\"><span style=\"color: #808000; text-decoration-color: #808000\">  Downloading http://pypi-mirror.modal.local:5555/simple/mpmath/mpmath-1.3.0-py3-none-any.whl.metadata (8.6 kB)\n",
       "</span></pre>\n"
      ],
      "text/plain": [
       "\u001b[33m  Downloading http://pypi-mirror.modal.local:5555/simple/mpmath/mpmath-1.3.0-py3-none-any.whl.metadata (8.6 kB)\n",
       "\u001b[0m"
      ]
     },
     "metadata": {},
     "output_type": "display_data"
    },
    {
     "data": {
      "text/html": [
       "<pre style=\"white-space:pre;overflow-x:auto;line-height:normal;font-family:Menlo,'DejaVu Sans Mono',consolas,'Courier New',monospace\"><span style=\"color: #808000; text-decoration-color: #808000\">Collecting MarkupSafe&gt;=2.0 (from jinja2-&gt;torch)\n",
       "</span></pre>\n"
      ],
      "text/plain": [
       "\u001b[33mCollecting MarkupSafe>=2.0 (from jinja2->torch)\n",
       "\u001b[0m"
      ]
     },
     "metadata": {},
     "output_type": "display_data"
    },
    {
     "data": {
      "text/html": [
       "<pre style=\"white-space:pre;overflow-x:auto;line-height:normal;font-family:Menlo,'DejaVu Sans Mono',consolas,'Courier New',monospace\"><span style=\"color: #808000; text-decoration-color: #808000\">  Downloading http://pypi-mirror.modal.local:5555/simple/markupsafe/MarkupSafe-3.0.2-cp311-cp311-manylinux_2_17_x86_64.manylinux2014_x86_64.whl.metadata (4.0 kB)\n",
       "</span></pre>\n"
      ],
      "text/plain": [
       "\u001b[33m  Downloading http://pypi-mirror.modal.local:5555/simple/markupsafe/MarkupSafe-3.0.2-cp311-cp311-manylinux_2_17_x86_64.manylinux2014_x86_64.whl.metadata (4.0 kB)\n",
       "\u001b[0m"
      ]
     },
     "metadata": {},
     "output_type": "display_data"
    },
    {
     "data": {
      "text/html": [
       "<pre style=\"white-space:pre;overflow-x:auto;line-height:normal;font-family:Menlo,'DejaVu Sans Mono',consolas,'Courier New',monospace\"><span style=\"color: #808000; text-decoration-color: #808000\">Collecting charset-normalizer&lt;4,&gt;=2 (from requests-&gt;transformers)\n",
       "</span></pre>\n"
      ],
      "text/plain": [
       "\u001b[33mCollecting charset-normalizer<4,>=2 (from requests->transformers)\n",
       "\u001b[0m"
      ]
     },
     "metadata": {},
     "output_type": "display_data"
    },
    {
     "data": {
      "text/html": [
       "<pre style=\"white-space:pre;overflow-x:auto;line-height:normal;font-family:Menlo,'DejaVu Sans Mono',consolas,'Courier New',monospace\"><span style=\"color: #808000; text-decoration-color: #808000\">  Downloading http://pypi-mirror.modal.local:5555/simple/charset-normalizer/charset_normalizer-3.4.2-cp311-cp311-manylinux_2_17_x86_64.manylinux2014_x86_64.whl.metadata (35 kB)\n",
       "</span></pre>\n"
      ],
      "text/plain": [
       "\u001b[33m  Downloading http://pypi-mirror.modal.local:5555/simple/charset-normalizer/charset_normalizer-3.4.2-cp311-cp311-manylinux_2_17_x86_64.manylinux2014_x86_64.whl.metadata (35 kB)\n",
       "\u001b[0m"
      ]
     },
     "metadata": {},
     "output_type": "display_data"
    },
    {
     "data": {
      "text/html": [
       "<pre style=\"white-space:pre;overflow-x:auto;line-height:normal;font-family:Menlo,'DejaVu Sans Mono',consolas,'Courier New',monospace\"><span style=\"color: #808000; text-decoration-color: #808000\">Requirement already satisfied: idna&lt;4,&gt;=2.5 in /usr/local/lib/python3.11/site-packages (from requests-&gt;transformers) (3.10)\n",
       "</span></pre>\n"
      ],
      "text/plain": [
       "\u001b[33mRequirement already satisfied: idna<4,>=2.5 in /usr/local/lib/python3.11/site-packages (from requests->transformers) (3.10)\n",
       "\u001b[0m"
      ]
     },
     "metadata": {},
     "output_type": "display_data"
    },
    {
     "data": {
      "text/html": [
       "<pre style=\"white-space:pre;overflow-x:auto;line-height:normal;font-family:Menlo,'DejaVu Sans Mono',consolas,'Courier New',monospace\"><span style=\"color: #808000; text-decoration-color: #808000\">Collecting urllib3&lt;3,&gt;=1.21.1 (from requests-&gt;transformers)\n",
       "</span></pre>\n"
      ],
      "text/plain": [
       "\u001b[33mCollecting urllib3<3,>=1.21.1 (from requests->transformers)\n",
       "\u001b[0m"
      ]
     },
     "metadata": {},
     "output_type": "display_data"
    },
    {
     "data": {
      "text/html": [
       "<pre style=\"white-space:pre;overflow-x:auto;line-height:normal;font-family:Menlo,'DejaVu Sans Mono',consolas,'Courier New',monospace\"><span style=\"color: #808000; text-decoration-color: #808000\">  Downloading http://pypi-mirror.modal.local:5555/simple/urllib3/urllib3-2.4.0-py3-none-any.whl.metadata (6.5 kB)\n",
       "Requirement already satisfied: certifi&gt;=2017.4.17 in /usr/local/lib/python3.11/site-packages (from requests-&gt;transformers) (2024.8.30)\n",
       "</span></pre>\n"
      ],
      "text/plain": [
       "\u001b[33m  Downloading http://pypi-mirror.modal.local:5555/simple/urllib3/urllib3-2.4.0-py3-none-any.whl.metadata (6.5 kB)\n",
       "Requirement already satisfied: certifi>=2017.4.17 in /usr/local/lib/python3.11/site-packages (from requests->transformers) (2024.8.30)\n",
       "\u001b[0m"
      ]
     },
     "metadata": {},
     "output_type": "display_data"
    },
    {
     "data": {
      "text/html": [
       "<pre style=\"white-space:pre;overflow-x:auto;line-height:normal;font-family:Menlo,'DejaVu Sans Mono',consolas,'Courier New',monospace\"><span style=\"color: #808000; text-decoration-color: #808000\">Downloading http://pypi-mirror.modal.local:5555/simple/accelerate/accelerate-1.6.0-py3-none-any.whl (354 kB)\n",
       "</span></pre>\n"
      ],
      "text/plain": [
       "\u001b[33mDownloading http://pypi-mirror.modal.local:5555/simple/accelerate/accelerate-1.6.0-py3-none-any.whl (354 kB)\n",
       "\u001b[0m"
      ]
     },
     "metadata": {},
     "output_type": "display_data"
    },
    {
     "data": {
      "text/html": [
       "<pre style=\"white-space:pre;overflow-x:auto;line-height:normal;font-family:Menlo,'DejaVu Sans Mono',consolas,'Courier New',monospace\"><span style=\"color: #808000; text-decoration-color: #808000\">Downloading http://pypi-mirror.modal.local:5555/simple/bitsandbytes/bitsandbytes-0.45.5-py3-none-manylinux_2_24_x86_64.whl (76.1 MB)\n",
       "</span></pre>\n"
      ],
      "text/plain": [
       "\u001b[33mDownloading http://pypi-mirror.modal.local:5555/simple/bitsandbytes/bitsandbytes-0.45.5-py3-none-manylinux_2_24_x86_64.whl (76.1 MB)\n",
       "\u001b[0m"
      ]
     },
     "metadata": {},
     "output_type": "display_data"
    },
    {
     "data": {
      "text/html": [
       "<pre style=\"white-space:pre;overflow-x:auto;line-height:normal;font-family:Menlo,'DejaVu Sans Mono',consolas,'Courier New',monospace\"><span style=\"color: #808000; text-decoration-color: #808000\"></span></pre>\n"
      ],
      "text/plain": []
     },
     "metadata": {},
     "output_type": "display_data"
    },
    {
     "data": {
      "text/html": [
       "<pre style=\"white-space:pre;overflow-x:auto;line-height:normal;font-family:Menlo,'DejaVu Sans Mono',consolas,'Courier New',monospace\"><span style=\"color: #808000; text-decoration-color: #808000\">   ━━━━━━━━━━━━━━━━━━━━━━━━━━━━━━━━━━━━━━━━ 76.1/76.1 MB 208.0 MB/s eta 0:00:00\n",
       "</span></pre>\n"
      ],
      "text/plain": [
       "\u001b[33m   ━━━━━━━━━━━━━━━━━━━━━━━━━━━━━━━━━━━━━━━━ 76.1/76.1 MB 208.0 MB/s eta 0:00:00\n",
       "\u001b[0m"
      ]
     },
     "metadata": {},
     "output_type": "display_data"
    },
    {
     "data": {
      "text/html": [
       "<pre style=\"white-space:pre;overflow-x:auto;line-height:normal;font-family:Menlo,'DejaVu Sans Mono',consolas,'Courier New',monospace\"><span style=\"color: #808000; text-decoration-color: #808000\">Downloading http://pypi-mirror.modal.local:5555/simple/peft/peft-0.15.2-py3-none-any.whl (411 kB)\n",
       "</span></pre>\n"
      ],
      "text/plain": [
       "\u001b[33mDownloading http://pypi-mirror.modal.local:5555/simple/peft/peft-0.15.2-py3-none-any.whl (411 kB)\n",
       "\u001b[0m"
      ]
     },
     "metadata": {},
     "output_type": "display_data"
    },
    {
     "data": {
      "text/html": [
       "<pre style=\"white-space:pre;overflow-x:auto;line-height:normal;font-family:Menlo,'DejaVu Sans Mono',consolas,'Courier New',monospace\"><span style=\"color: #808000; text-decoration-color: #808000\">Downloading http://pypi-mirror.modal.local:5555/simple/torch/torch-2.7.0-cp311-cp311-manylinux_2_28_x86_64.whl (865.2 MB)\n",
       "</span></pre>\n"
      ],
      "text/plain": [
       "\u001b[33mDownloading http://pypi-mirror.modal.local:5555/simple/torch/torch-2.7.0-cp311-cp311-manylinux_2_28_x86_64.whl (865.2 MB)\n",
       "\u001b[0m"
      ]
     },
     "metadata": {},
     "output_type": "display_data"
    },
    {
     "data": {
      "text/html": [
       "<pre style=\"white-space:pre;overflow-x:auto;line-height:normal;font-family:Menlo,'DejaVu Sans Mono',consolas,'Courier New',monospace\"><span style=\"color: #808000; text-decoration-color: #808000\"></span></pre>\n"
      ],
      "text/plain": []
     },
     "metadata": {},
     "output_type": "display_data"
    },
    {
     "data": {
      "text/html": [
       "<pre style=\"white-space:pre;overflow-x:auto;line-height:normal;font-family:Menlo,'DejaVu Sans Mono',consolas,'Courier New',monospace\"><span style=\"color: #808000; text-decoration-color: #808000\">   ━━━━━━━━━━━━━━━━━━━━━━━━━━━━━━━━━━━━━━━ 865.2/865.2 MB 331.4 MB/s eta 0:00:00\n",
       "</span></pre>\n"
      ],
      "text/plain": [
       "\u001b[33m   ━━━━━━━━━━━━━━━━━━━━━━━━━━━━━━━━━━━━━━━ 865.2/865.2 MB 331.4 MB/s eta 0:00:00\n",
       "\u001b[0m"
      ]
     },
     "metadata": {},
     "output_type": "display_data"
    },
    {
     "data": {
      "text/html": [
       "<pre style=\"white-space:pre;overflow-x:auto;line-height:normal;font-family:Menlo,'DejaVu Sans Mono',consolas,'Courier New',monospace\"><span style=\"color: #808000; text-decoration-color: #808000\">Downloading http://pypi-mirror.modal.local:5555/simple/nvidia-cublas-cu12/nvidia_cublas_cu12-12.6.4.1-py3-none-manylinux2014_x86_64.manylinux_2_17_x86_64.whl (393.1 MB)\n",
       "</span></pre>\n"
      ],
      "text/plain": [
       "\u001b[33mDownloading http://pypi-mirror.modal.local:5555/simple/nvidia-cublas-cu12/nvidia_cublas_cu12-12.6.4.1-py3-none-manylinux2014_x86_64.manylinux_2_17_x86_64.whl (393.1 MB)\n",
       "\u001b[0m"
      ]
     },
     "metadata": {},
     "output_type": "display_data"
    },
    {
     "data": {
      "text/html": [
       "<pre style=\"white-space:pre;overflow-x:auto;line-height:normal;font-family:Menlo,'DejaVu Sans Mono',consolas,'Courier New',monospace\"><span style=\"color: #808000; text-decoration-color: #808000\"></span></pre>\n"
      ],
      "text/plain": []
     },
     "metadata": {},
     "output_type": "display_data"
    },
    {
     "data": {
      "text/html": [
       "<pre style=\"white-space:pre;overflow-x:auto;line-height:normal;font-family:Menlo,'DejaVu Sans Mono',consolas,'Courier New',monospace\"><span style=\"color: #808000; text-decoration-color: #808000\">   ━━━━━━━━━━━━━━━━━━━━━━━━━━━━━━━━━━━━━━━ 393.1/393.1 MB 468.9 MB/s eta 0:00:00\n",
       "</span></pre>\n"
      ],
      "text/plain": [
       "\u001b[33m   ━━━━━━━━━━━━━━━━━━━━━━━━━━━━━━━━━━━━━━━ 393.1/393.1 MB 468.9 MB/s eta 0:00:00\n",
       "\u001b[0m"
      ]
     },
     "metadata": {},
     "output_type": "display_data"
    },
    {
     "data": {
      "text/html": [
       "<pre style=\"white-space:pre;overflow-x:auto;line-height:normal;font-family:Menlo,'DejaVu Sans Mono',consolas,'Courier New',monospace\"><span style=\"color: #808000; text-decoration-color: #808000\">Downloading http://pypi-mirror.modal.local:5555/simple/nvidia-cuda-cupti-cu12/nvidia_cuda_cupti_cu12-12.6.80-py3-none-manylinux2014_x86_64.manylinux_2_17_x86_64.whl (8.9 MB)\n",
       "</span></pre>\n"
      ],
      "text/plain": [
       "\u001b[33mDownloading http://pypi-mirror.modal.local:5555/simple/nvidia-cuda-cupti-cu12/nvidia_cuda_cupti_cu12-12.6.80-py3-none-manylinux2014_x86_64.manylinux_2_17_x86_64.whl (8.9 MB)\n",
       "\u001b[0m"
      ]
     },
     "metadata": {},
     "output_type": "display_data"
    },
    {
     "data": {
      "text/html": [
       "<pre style=\"white-space:pre;overflow-x:auto;line-height:normal;font-family:Menlo,'DejaVu Sans Mono',consolas,'Courier New',monospace\"><span style=\"color: #808000; text-decoration-color: #808000\"></span></pre>\n"
      ],
      "text/plain": []
     },
     "metadata": {},
     "output_type": "display_data"
    },
    {
     "data": {
      "text/html": [
       "<pre style=\"white-space:pre;overflow-x:auto;line-height:normal;font-family:Menlo,'DejaVu Sans Mono',consolas,'Courier New',monospace\"><span style=\"color: #808000; text-decoration-color: #808000\">   ━━━━━━━━━━━━━━━━━━━━━━━━━━━━━━━━━━━━━━━━ 8.9/8.9 MB 511.5 MB/s eta 0:00:00\n",
       "</span></pre>\n"
      ],
      "text/plain": [
       "\u001b[33m   ━━━━━━━━━━━━━━━━━━━━━━━━━━━━━━━━━━━━━━━━ 8.9/8.9 MB 511.5 MB/s eta 0:00:00\n",
       "\u001b[0m"
      ]
     },
     "metadata": {},
     "output_type": "display_data"
    },
    {
     "data": {
      "text/html": [
       "<pre style=\"white-space:pre;overflow-x:auto;line-height:normal;font-family:Menlo,'DejaVu Sans Mono',consolas,'Courier New',monospace\"><span style=\"color: #808000; text-decoration-color: #808000\">Downloading http://pypi-mirror.modal.local:5555/simple/nvidia-cuda-nvrtc-cu12/nvidia_cuda_nvrtc_cu12-12.6.77-py3-none-manylinux2014_x86_64.whl (23.7 MB)\n",
       "</span></pre>\n"
      ],
      "text/plain": [
       "\u001b[33mDownloading http://pypi-mirror.modal.local:5555/simple/nvidia-cuda-nvrtc-cu12/nvidia_cuda_nvrtc_cu12-12.6.77-py3-none-manylinux2014_x86_64.whl (23.7 MB)\n",
       "\u001b[0m"
      ]
     },
     "metadata": {},
     "output_type": "display_data"
    },
    {
     "data": {
      "text/html": [
       "<pre style=\"white-space:pre;overflow-x:auto;line-height:normal;font-family:Menlo,'DejaVu Sans Mono',consolas,'Courier New',monospace\"><span style=\"color: #808000; text-decoration-color: #808000\"></span></pre>\n"
      ],
      "text/plain": []
     },
     "metadata": {},
     "output_type": "display_data"
    },
    {
     "data": {
      "text/html": [
       "<pre style=\"white-space:pre;overflow-x:auto;line-height:normal;font-family:Menlo,'DejaVu Sans Mono',consolas,'Courier New',monospace\"><span style=\"color: #808000; text-decoration-color: #808000\">   ━━━━━━━━━━━━━━━━━━━━━━━━━━━━━━━━━━━━━━━━ 23.7/23.7 MB 465.9 MB/s eta 0:00:00\n",
       "</span></pre>\n"
      ],
      "text/plain": [
       "\u001b[33m   ━━━━━━━━━━━━━━━━━━━━━━━━━━━━━━━━━━━━━━━━ 23.7/23.7 MB 465.9 MB/s eta 0:00:00\n",
       "\u001b[0m"
      ]
     },
     "metadata": {},
     "output_type": "display_data"
    },
    {
     "data": {
      "text/html": [
       "<pre style=\"white-space:pre;overflow-x:auto;line-height:normal;font-family:Menlo,'DejaVu Sans Mono',consolas,'Courier New',monospace\"><span style=\"color: #808000; text-decoration-color: #808000\">Downloading http://pypi-mirror.modal.local:5555/simple/nvidia-cuda-runtime-cu12/nvidia_cuda_runtime_cu12-12.6.77-py3-none-manylinux2014_x86_64.manylinux_2_17_x86_64.whl (897 kB)\n",
       "   ━━━━━━━━━━━━━━━━━━━━━━━━━━━━━━━━━━━━━━━ 897.7/897.7 kB 783.4 MB/s eta 0:00:00\n",
       "</span></pre>\n"
      ],
      "text/plain": [
       "\u001b[33mDownloading http://pypi-mirror.modal.local:5555/simple/nvidia-cuda-runtime-cu12/nvidia_cuda_runtime_cu12-12.6.77-py3-none-manylinux2014_x86_64.manylinux_2_17_x86_64.whl (897 kB)\n",
       "   ━━━━━━━━━━━━━━━━━━━━━━━━━━━━━━━━━━━━━━━ 897.7/897.7 kB 783.4 MB/s eta 0:00:00\n",
       "\u001b[0m"
      ]
     },
     "metadata": {},
     "output_type": "display_data"
    },
    {
     "data": {
      "text/html": [
       "<pre style=\"white-space:pre;overflow-x:auto;line-height:normal;font-family:Menlo,'DejaVu Sans Mono',consolas,'Courier New',monospace\"><span style=\"color: #808000; text-decoration-color: #808000\">Downloading http://pypi-mirror.modal.local:5555/simple/nvidia-cudnn-cu12/nvidia_cudnn_cu12-9.5.1.17-py3-none-manylinux_2_28_x86_64.whl (571.0 MB)\n",
       "</span></pre>\n"
      ],
      "text/plain": [
       "\u001b[33mDownloading http://pypi-mirror.modal.local:5555/simple/nvidia-cudnn-cu12/nvidia_cudnn_cu12-9.5.1.17-py3-none-manylinux_2_28_x86_64.whl (571.0 MB)\n",
       "\u001b[0m"
      ]
     },
     "metadata": {},
     "output_type": "display_data"
    },
    {
     "data": {
      "text/html": [
       "<pre style=\"white-space:pre;overflow-x:auto;line-height:normal;font-family:Menlo,'DejaVu Sans Mono',consolas,'Courier New',monospace\"><span style=\"color: #808000; text-decoration-color: #808000\"></span></pre>\n"
      ],
      "text/plain": []
     },
     "metadata": {},
     "output_type": "display_data"
    },
    {
     "data": {
      "text/html": [
       "<pre style=\"white-space:pre;overflow-x:auto;line-height:normal;font-family:Menlo,'DejaVu Sans Mono',consolas,'Courier New',monospace\"><span style=\"color: #808000; text-decoration-color: #808000\">   ━━━━━━━━━━━━━━━━━━━━━━━━━━━━━━━━━━━━━━━ 571.0/571.0 MB 457.6 MB/s eta 0:00:00\n",
       "</span></pre>\n"
      ],
      "text/plain": [
       "\u001b[33m   ━━━━━━━━━━━━━━━━━━━━━━━━━━━━━━━━━━━━━━━ 571.0/571.0 MB 457.6 MB/s eta 0:00:00\n",
       "\u001b[0m"
      ]
     },
     "metadata": {},
     "output_type": "display_data"
    },
    {
     "data": {
      "text/html": [
       "<pre style=\"white-space:pre;overflow-x:auto;line-height:normal;font-family:Menlo,'DejaVu Sans Mono',consolas,'Courier New',monospace\"><span style=\"color: #808000; text-decoration-color: #808000\">Downloading http://pypi-mirror.modal.local:5555/simple/nvidia-cufft-cu12/nvidia_cufft_cu12-11.3.0.4-py3-none-manylinux2014_x86_64.manylinux_2_17_x86_64.whl (200.2 MB)\n",
       "</span></pre>\n"
      ],
      "text/plain": [
       "\u001b[33mDownloading http://pypi-mirror.modal.local:5555/simple/nvidia-cufft-cu12/nvidia_cufft_cu12-11.3.0.4-py3-none-manylinux2014_x86_64.manylinux_2_17_x86_64.whl (200.2 MB)\n",
       "\u001b[0m"
      ]
     },
     "metadata": {},
     "output_type": "display_data"
    },
    {
     "data": {
      "text/html": [
       "<pre style=\"white-space:pre;overflow-x:auto;line-height:normal;font-family:Menlo,'DejaVu Sans Mono',consolas,'Courier New',monospace\"><span style=\"color: #808000; text-decoration-color: #808000\"></span></pre>\n"
      ],
      "text/plain": []
     },
     "metadata": {},
     "output_type": "display_data"
    },
    {
     "data": {
      "text/html": [
       "<pre style=\"white-space:pre;overflow-x:auto;line-height:normal;font-family:Menlo,'DejaVu Sans Mono',consolas,'Courier New',monospace\"><span style=\"color: #808000; text-decoration-color: #808000\">   ━━━━━━━━━━━━━━━━━━━━━━━━━━━━━━━━━━━━━━━ 200.2/200.2 MB 494.9 MB/s eta 0:00:00\n",
       "</span></pre>\n"
      ],
      "text/plain": [
       "\u001b[33m   ━━━━━━━━━━━━━━━━━━━━━━━━━━━━━━━━━━━━━━━ 200.2/200.2 MB 494.9 MB/s eta 0:00:00\n",
       "\u001b[0m"
      ]
     },
     "metadata": {},
     "output_type": "display_data"
    },
    {
     "data": {
      "text/html": [
       "<pre style=\"white-space:pre;overflow-x:auto;line-height:normal;font-family:Menlo,'DejaVu Sans Mono',consolas,'Courier New',monospace\"><span style=\"color: #808000; text-decoration-color: #808000\">Downloading http://pypi-mirror.modal.local:5555/simple/nvidia-cufile-cu12/nvidia_cufile_cu12-1.11.1.6-py3-none-manylinux2014_x86_64.manylinux_2_17_x86_64.whl (1.1 MB)\n",
       "   ━━━━━━━━━━━━━━━━━━━━━━━━━━━━━━━━━━━━━━━━ 1.1/1.1 MB 683.1 MB/s eta 0:00:00\n",
       "</span></pre>\n"
      ],
      "text/plain": [
       "\u001b[33mDownloading http://pypi-mirror.modal.local:5555/simple/nvidia-cufile-cu12/nvidia_cufile_cu12-1.11.1.6-py3-none-manylinux2014_x86_64.manylinux_2_17_x86_64.whl (1.1 MB)\n",
       "   ━━━━━━━━━━━━━━━━━━━━━━━━━━━━━━━━━━━━━━━━ 1.1/1.1 MB 683.1 MB/s eta 0:00:00\n",
       "\u001b[0m"
      ]
     },
     "metadata": {},
     "output_type": "display_data"
    },
    {
     "data": {
      "text/html": [
       "<pre style=\"white-space:pre;overflow-x:auto;line-height:normal;font-family:Menlo,'DejaVu Sans Mono',consolas,'Courier New',monospace\"><span style=\"color: #808000; text-decoration-color: #808000\">Downloading http://pypi-mirror.modal.local:5555/simple/nvidia-curand-cu12/nvidia_curand_cu12-10.3.7.77-py3-none-manylinux2014_x86_64.manylinux_2_17_x86_64.whl (56.3 MB)\n",
       "</span></pre>\n"
      ],
      "text/plain": [
       "\u001b[33mDownloading http://pypi-mirror.modal.local:5555/simple/nvidia-curand-cu12/nvidia_curand_cu12-10.3.7.77-py3-none-manylinux2014_x86_64.manylinux_2_17_x86_64.whl (56.3 MB)\n",
       "\u001b[0m"
      ]
     },
     "metadata": {},
     "output_type": "display_data"
    },
    {
     "data": {
      "text/html": [
       "<pre style=\"white-space:pre;overflow-x:auto;line-height:normal;font-family:Menlo,'DejaVu Sans Mono',consolas,'Courier New',monospace\"><span style=\"color: #808000; text-decoration-color: #808000\"></span></pre>\n"
      ],
      "text/plain": []
     },
     "metadata": {},
     "output_type": "display_data"
    },
    {
     "data": {
      "text/html": [
       "<pre style=\"white-space:pre;overflow-x:auto;line-height:normal;font-family:Menlo,'DejaVu Sans Mono',consolas,'Courier New',monospace\"><span style=\"color: #808000; text-decoration-color: #808000\">   ━━━━━━━━━━━━━━━━━━━━━━━━━━━━━━━━━━━━━━━━ 56.3/56.3 MB 511.9 MB/s eta 0:00:00\n",
       "</span></pre>\n"
      ],
      "text/plain": [
       "\u001b[33m   ━━━━━━━━━━━━━━━━━━━━━━━━━━━━━━━━━━━━━━━━ 56.3/56.3 MB 511.9 MB/s eta 0:00:00\n",
       "\u001b[0m"
      ]
     },
     "metadata": {},
     "output_type": "display_data"
    },
    {
     "data": {
      "text/html": [
       "<pre style=\"white-space:pre;overflow-x:auto;line-height:normal;font-family:Menlo,'DejaVu Sans Mono',consolas,'Courier New',monospace\"><span style=\"color: #808000; text-decoration-color: #808000\">Downloading http://pypi-mirror.modal.local:5555/simple/nvidia-cusolver-cu12/nvidia_cusolver_cu12-11.7.1.2-py3-none-manylinux2014_x86_64.manylinux_2_17_x86_64.whl (158.2 MB)\n",
       "</span></pre>\n"
      ],
      "text/plain": [
       "\u001b[33mDownloading http://pypi-mirror.modal.local:5555/simple/nvidia-cusolver-cu12/nvidia_cusolver_cu12-11.7.1.2-py3-none-manylinux2014_x86_64.manylinux_2_17_x86_64.whl (158.2 MB)\n",
       "\u001b[0m"
      ]
     },
     "metadata": {},
     "output_type": "display_data"
    },
    {
     "data": {
      "text/html": [
       "<pre style=\"white-space:pre;overflow-x:auto;line-height:normal;font-family:Menlo,'DejaVu Sans Mono',consolas,'Courier New',monospace\"><span style=\"color: #808000; text-decoration-color: #808000\"></span></pre>\n"
      ],
      "text/plain": []
     },
     "metadata": {},
     "output_type": "display_data"
    },
    {
     "data": {
      "text/html": [
       "<pre style=\"white-space:pre;overflow-x:auto;line-height:normal;font-family:Menlo,'DejaVu Sans Mono',consolas,'Courier New',monospace\"><span style=\"color: #808000; text-decoration-color: #808000\">   ━━━━━━━━━━━━━━━━━━━━━━━━━━━━━━━━━━━━━━━ 158.2/158.2 MB 492.3 MB/s eta 0:00:00\n",
       "</span></pre>\n"
      ],
      "text/plain": [
       "\u001b[33m   ━━━━━━━━━━━━━━━━━━━━━━━━━━━━━━━━━━━━━━━ 158.2/158.2 MB 492.3 MB/s eta 0:00:00\n",
       "\u001b[0m"
      ]
     },
     "metadata": {},
     "output_type": "display_data"
    },
    {
     "data": {
      "text/html": [
       "<pre style=\"white-space:pre;overflow-x:auto;line-height:normal;font-family:Menlo,'DejaVu Sans Mono',consolas,'Courier New',monospace\"><span style=\"color: #808000; text-decoration-color: #808000\">Downloading http://pypi-mirror.modal.local:5555/simple/nvidia-cusparse-cu12/nvidia_cusparse_cu12-12.5.4.2-py3-none-manylinux2014_x86_64.manylinux_2_17_x86_64.whl (216.6 MB)\n",
       "</span></pre>\n"
      ],
      "text/plain": [
       "\u001b[33mDownloading http://pypi-mirror.modal.local:5555/simple/nvidia-cusparse-cu12/nvidia_cusparse_cu12-12.5.4.2-py3-none-manylinux2014_x86_64.manylinux_2_17_x86_64.whl (216.6 MB)\n",
       "\u001b[0m"
      ]
     },
     "metadata": {},
     "output_type": "display_data"
    },
    {
     "data": {
      "text/html": [
       "<pre style=\"white-space:pre;overflow-x:auto;line-height:normal;font-family:Menlo,'DejaVu Sans Mono',consolas,'Courier New',monospace\"><span style=\"color: #808000; text-decoration-color: #808000\"></span></pre>\n"
      ],
      "text/plain": []
     },
     "metadata": {},
     "output_type": "display_data"
    },
    {
     "data": {
      "text/html": [
       "<pre style=\"white-space:pre;overflow-x:auto;line-height:normal;font-family:Menlo,'DejaVu Sans Mono',consolas,'Courier New',monospace\"><span style=\"color: #808000; text-decoration-color: #808000\">   ━━━━━━━━━━━━━━━━━━━━━━━━━━━━━━━━━━━━━━━ 216.6/216.6 MB 384.9 MB/s eta 0:00:00\n",
       "</span></pre>\n"
      ],
      "text/plain": [
       "\u001b[33m   ━━━━━━━━━━━━━━━━━━━━━━━━━━━━━━━━━━━━━━━ 216.6/216.6 MB 384.9 MB/s eta 0:00:00\n",
       "\u001b[0m"
      ]
     },
     "metadata": {},
     "output_type": "display_data"
    },
    {
     "data": {
      "text/html": [
       "<pre style=\"white-space:pre;overflow-x:auto;line-height:normal;font-family:Menlo,'DejaVu Sans Mono',consolas,'Courier New',monospace\"><span style=\"color: #808000; text-decoration-color: #808000\">Downloading http://pypi-mirror.modal.local:5555/simple/nvidia-cusparselt-cu12/nvidia_cusparselt_cu12-0.6.3-py3-none-manylinux2014_x86_64.whl (156.8 MB)\n",
       "</span></pre>\n"
      ],
      "text/plain": [
       "\u001b[33mDownloading http://pypi-mirror.modal.local:5555/simple/nvidia-cusparselt-cu12/nvidia_cusparselt_cu12-0.6.3-py3-none-manylinux2014_x86_64.whl (156.8 MB)\n",
       "\u001b[0m"
      ]
     },
     "metadata": {},
     "output_type": "display_data"
    },
    {
     "data": {
      "text/html": [
       "<pre style=\"white-space:pre;overflow-x:auto;line-height:normal;font-family:Menlo,'DejaVu Sans Mono',consolas,'Courier New',monospace\"><span style=\"color: #808000; text-decoration-color: #808000\"></span></pre>\n"
      ],
      "text/plain": []
     },
     "metadata": {},
     "output_type": "display_data"
    },
    {
     "data": {
      "text/html": [
       "<pre style=\"white-space:pre;overflow-x:auto;line-height:normal;font-family:Menlo,'DejaVu Sans Mono',consolas,'Courier New',monospace\"><span style=\"color: #808000; text-decoration-color: #808000\">   ━━━━━━━━━━━━━━━━━━━━━━━━━━━━━━━━━━━━━━━ 156.8/156.8 MB 525.9 MB/s eta 0:00:00\n",
       "</span></pre>\n"
      ],
      "text/plain": [
       "\u001b[33m   ━━━━━━━━━━━━━━━━━━━━━━━━━━━━━━━━━━━━━━━ 156.8/156.8 MB 525.9 MB/s eta 0:00:00\n",
       "\u001b[0m"
      ]
     },
     "metadata": {},
     "output_type": "display_data"
    },
    {
     "data": {
      "text/html": [
       "<pre style=\"white-space:pre;overflow-x:auto;line-height:normal;font-family:Menlo,'DejaVu Sans Mono',consolas,'Courier New',monospace\"><span style=\"color: #808000; text-decoration-color: #808000\">Downloading http://pypi-mirror.modal.local:5555/simple/nvidia-nccl-cu12/nvidia_nccl_cu12-2.26.2-py3-none-manylinux2014_x86_64.manylinux_2_17_x86_64.whl (201.3 MB)\n",
       "</span></pre>\n"
      ],
      "text/plain": [
       "\u001b[33mDownloading http://pypi-mirror.modal.local:5555/simple/nvidia-nccl-cu12/nvidia_nccl_cu12-2.26.2-py3-none-manylinux2014_x86_64.manylinux_2_17_x86_64.whl (201.3 MB)\n",
       "\u001b[0m"
      ]
     },
     "metadata": {},
     "output_type": "display_data"
    },
    {
     "data": {
      "text/html": [
       "<pre style=\"white-space:pre;overflow-x:auto;line-height:normal;font-family:Menlo,'DejaVu Sans Mono',consolas,'Courier New',monospace\"><span style=\"color: #808000; text-decoration-color: #808000\"></span></pre>\n"
      ],
      "text/plain": []
     },
     "metadata": {},
     "output_type": "display_data"
    },
    {
     "data": {
      "text/html": [
       "<pre style=\"white-space:pre;overflow-x:auto;line-height:normal;font-family:Menlo,'DejaVu Sans Mono',consolas,'Courier New',monospace\"><span style=\"color: #808000; text-decoration-color: #808000\">   ━━━━━━━━━━━━━━━━━━━━━━━━━━━━━━━━━━━━━━━ 201.3/201.3 MB 527.1 MB/s eta 0:00:00\n",
       "</span></pre>\n"
      ],
      "text/plain": [
       "\u001b[33m   ━━━━━━━━━━━━━━━━━━━━━━━━━━━━━━━━━━━━━━━ 201.3/201.3 MB 527.1 MB/s eta 0:00:00\n",
       "\u001b[0m"
      ]
     },
     "metadata": {},
     "output_type": "display_data"
    },
    {
     "data": {
      "text/html": [
       "<pre style=\"white-space:pre;overflow-x:auto;line-height:normal;font-family:Menlo,'DejaVu Sans Mono',consolas,'Courier New',monospace\"><span style=\"color: #808000; text-decoration-color: #808000\">Downloading http://pypi-mirror.modal.local:5555/simple/nvidia-nvjitlink-cu12/nvidia_nvjitlink_cu12-12.6.85-py3-none-manylinux2010_x86_64.manylinux_2_12_x86_64.whl (19.7 MB)\n",
       "</span></pre>\n"
      ],
      "text/plain": [
       "\u001b[33mDownloading http://pypi-mirror.modal.local:5555/simple/nvidia-nvjitlink-cu12/nvidia_nvjitlink_cu12-12.6.85-py3-none-manylinux2010_x86_64.manylinux_2_12_x86_64.whl (19.7 MB)\n",
       "\u001b[0m"
      ]
     },
     "metadata": {},
     "output_type": "display_data"
    },
    {
     "data": {
      "text/html": [
       "<pre style=\"white-space:pre;overflow-x:auto;line-height:normal;font-family:Menlo,'DejaVu Sans Mono',consolas,'Courier New',monospace\"><span style=\"color: #808000; text-decoration-color: #808000\"></span></pre>\n"
      ],
      "text/plain": []
     },
     "metadata": {},
     "output_type": "display_data"
    },
    {
     "data": {
      "text/html": [
       "<pre style=\"white-space:pre;overflow-x:auto;line-height:normal;font-family:Menlo,'DejaVu Sans Mono',consolas,'Courier New',monospace\"><span style=\"color: #808000; text-decoration-color: #808000\">   ━━━━━━━━━━━━━━━━━━━━━━━━━━━━━━━━━━━━━━━━ 19.7/19.7 MB 524.6 MB/s eta 0:00:00\n",
       "</span></pre>\n"
      ],
      "text/plain": [
       "\u001b[33m   ━━━━━━━━━━━━━━━━━━━━━━━━━━━━━━━━━━━━━━━━ 19.7/19.7 MB 524.6 MB/s eta 0:00:00\n",
       "\u001b[0m"
      ]
     },
     "metadata": {},
     "output_type": "display_data"
    },
    {
     "data": {
      "text/html": [
       "<pre style=\"white-space:pre;overflow-x:auto;line-height:normal;font-family:Menlo,'DejaVu Sans Mono',consolas,'Courier New',monospace\"><span style=\"color: #808000; text-decoration-color: #808000\">Downloading http://pypi-mirror.modal.local:5555/simple/nvidia-nvtx-cu12/nvidia_nvtx_cu12-12.6.77-py3-none-manylinux2014_x86_64.manylinux_2_17_x86_64.whl (89 kB)\n",
       "</span></pre>\n"
      ],
      "text/plain": [
       "\u001b[33mDownloading http://pypi-mirror.modal.local:5555/simple/nvidia-nvtx-cu12/nvidia_nvtx_cu12-12.6.77-py3-none-manylinux2014_x86_64.manylinux_2_17_x86_64.whl (89 kB)\n",
       "\u001b[0m"
      ]
     },
     "metadata": {},
     "output_type": "display_data"
    },
    {
     "data": {
      "text/html": [
       "<pre style=\"white-space:pre;overflow-x:auto;line-height:normal;font-family:Menlo,'DejaVu Sans Mono',consolas,'Courier New',monospace\"><span style=\"color: #808000; text-decoration-color: #808000\">Downloading http://pypi-mirror.modal.local:5555/simple/triton/triton-3.3.0-cp311-cp311-manylinux_2_27_x86_64.manylinux_2_28_x86_64.whl (156.5 MB)\n",
       "</span></pre>\n"
      ],
      "text/plain": [
       "\u001b[33mDownloading http://pypi-mirror.modal.local:5555/simple/triton/triton-3.3.0-cp311-cp311-manylinux_2_27_x86_64.manylinux_2_28_x86_64.whl (156.5 MB)\n",
       "\u001b[0m"
      ]
     },
     "metadata": {},
     "output_type": "display_data"
    },
    {
     "data": {
      "text/html": [
       "<pre style=\"white-space:pre;overflow-x:auto;line-height:normal;font-family:Menlo,'DejaVu Sans Mono',consolas,'Courier New',monospace\"><span style=\"color: #808000; text-decoration-color: #808000\"></span></pre>\n"
      ],
      "text/plain": []
     },
     "metadata": {},
     "output_type": "display_data"
    },
    {
     "data": {
      "text/html": [
       "<pre style=\"white-space:pre;overflow-x:auto;line-height:normal;font-family:Menlo,'DejaVu Sans Mono',consolas,'Courier New',monospace\"><span style=\"color: #808000; text-decoration-color: #808000\">   ━━━━━━━━━━━━━━━━━━━━━━━━━━━━━━━━━━━━━━━ 156.5/156.5 MB 238.3 MB/s eta 0:00:00\n",
       "</span></pre>\n"
      ],
      "text/plain": [
       "\u001b[33m   ━━━━━━━━━━━━━━━━━━━━━━━━━━━━━━━━━━━━━━━ 156.5/156.5 MB 238.3 MB/s eta 0:00:00\n",
       "\u001b[0m"
      ]
     },
     "metadata": {},
     "output_type": "display_data"
    },
    {
     "data": {
      "text/html": [
       "<pre style=\"white-space:pre;overflow-x:auto;line-height:normal;font-family:Menlo,'DejaVu Sans Mono',consolas,'Courier New',monospace\"><span style=\"color: #808000; text-decoration-color: #808000\">Downloading http://pypi-mirror.modal.local:5555/simple/transformers/transformers-4.51.3-py3-none-any.whl (10.4 MB)\n",
       "</span></pre>\n"
      ],
      "text/plain": [
       "\u001b[33mDownloading http://pypi-mirror.modal.local:5555/simple/transformers/transformers-4.51.3-py3-none-any.whl (10.4 MB)\n",
       "\u001b[0m"
      ]
     },
     "metadata": {},
     "output_type": "display_data"
    },
    {
     "data": {
      "text/html": [
       "<pre style=\"white-space:pre;overflow-x:auto;line-height:normal;font-family:Menlo,'DejaVu Sans Mono',consolas,'Courier New',monospace\"><span style=\"color: #808000; text-decoration-color: #808000\"></span></pre>\n"
      ],
      "text/plain": []
     },
     "metadata": {},
     "output_type": "display_data"
    },
    {
     "data": {
      "text/html": [
       "<pre style=\"white-space:pre;overflow-x:auto;line-height:normal;font-family:Menlo,'DejaVu Sans Mono',consolas,'Courier New',monospace\"><span style=\"color: #808000; text-decoration-color: #808000\">   ━━━━━━━━━━━━━━━━━━━━━━━━━━━━━━━━━━━━━━━━ 10.4/10.4 MB 411.9 MB/s eta 0:00:00\n",
       "</span></pre>\n"
      ],
      "text/plain": [
       "\u001b[33m   ━━━━━━━━━━━━━━━━━━━━━━━━━━━━━━━━━━━━━━━━ 10.4/10.4 MB 411.9 MB/s eta 0:00:00\n",
       "\u001b[0m"
      ]
     },
     "metadata": {},
     "output_type": "display_data"
    },
    {
     "data": {
      "text/html": [
       "<pre style=\"white-space:pre;overflow-x:auto;line-height:normal;font-family:Menlo,'DejaVu Sans Mono',consolas,'Courier New',monospace\"><span style=\"color: #808000; text-decoration-color: #808000\">Downloading http://pypi-mirror.modal.local:5555/simple/huggingface-hub/huggingface_hub-0.31.1-py3-none-any.whl (484 kB)\n",
       "</span></pre>\n"
      ],
      "text/plain": [
       "\u001b[33mDownloading http://pypi-mirror.modal.local:5555/simple/huggingface-hub/huggingface_hub-0.31.1-py3-none-any.whl (484 kB)\n",
       "\u001b[0m"
      ]
     },
     "metadata": {},
     "output_type": "display_data"
    },
    {
     "data": {
      "text/html": [
       "<pre style=\"white-space:pre;overflow-x:auto;line-height:normal;font-family:Menlo,'DejaVu Sans Mono',consolas,'Courier New',monospace\"><span style=\"color: #808000; text-decoration-color: #808000\">Downloading http://pypi-mirror.modal.local:5555/simple/fsspec/fsspec-2025.3.2-py3-none-any.whl (194 kB)\n",
       "</span></pre>\n"
      ],
      "text/plain": [
       "\u001b[33mDownloading http://pypi-mirror.modal.local:5555/simple/fsspec/fsspec-2025.3.2-py3-none-any.whl (194 kB)\n",
       "\u001b[0m"
      ]
     },
     "metadata": {},
     "output_type": "display_data"
    },
    {
     "data": {
      "text/html": [
       "<pre style=\"white-space:pre;overflow-x:auto;line-height:normal;font-family:Menlo,'DejaVu Sans Mono',consolas,'Courier New',monospace\"><span style=\"color: #808000; text-decoration-color: #808000\">Downloading http://pypi-mirror.modal.local:5555/simple/numpy/numpy-2.2.5-cp311-cp311-manylinux_2_17_x86_64.manylinux2014_x86_64.whl (16.4 MB)\n",
       "</span></pre>\n"
      ],
      "text/plain": [
       "\u001b[33mDownloading http://pypi-mirror.modal.local:5555/simple/numpy/numpy-2.2.5-cp311-cp311-manylinux_2_17_x86_64.manylinux2014_x86_64.whl (16.4 MB)\n",
       "\u001b[0m"
      ]
     },
     "metadata": {},
     "output_type": "display_data"
    },
    {
     "data": {
      "text/html": [
       "<pre style=\"white-space:pre;overflow-x:auto;line-height:normal;font-family:Menlo,'DejaVu Sans Mono',consolas,'Courier New',monospace\"><span style=\"color: #808000; text-decoration-color: #808000\"></span></pre>\n"
      ],
      "text/plain": []
     },
     "metadata": {},
     "output_type": "display_data"
    },
    {
     "data": {
      "text/html": [
       "<pre style=\"white-space:pre;overflow-x:auto;line-height:normal;font-family:Menlo,'DejaVu Sans Mono',consolas,'Courier New',monospace\"><span style=\"color: #808000; text-decoration-color: #808000\">   ━━━━━━━━━━━━━━━━━━━━━━━━━━━━━━━━━━━━━━━━ 16.4/16.4 MB 453.8 MB/s eta 0:00:00\n",
       "</span></pre>\n"
      ],
      "text/plain": [
       "\u001b[33m   ━━━━━━━━━━━━━━━━━━━━━━━━━━━━━━━━━━━━━━━━ 16.4/16.4 MB 453.8 MB/s eta 0:00:00\n",
       "\u001b[0m"
      ]
     },
     "metadata": {},
     "output_type": "display_data"
    },
    {
     "data": {
      "text/html": [
       "<pre style=\"white-space:pre;overflow-x:auto;line-height:normal;font-family:Menlo,'DejaVu Sans Mono',consolas,'Courier New',monospace\"><span style=\"color: #808000; text-decoration-color: #808000\">Downloading http://pypi-mirror.modal.local:5555/simple/packaging/packaging-25.0-py3-none-any.whl (66 kB)\n",
       "Downloading http://pypi-mirror.modal.local:5555/simple/pyyaml/PyYAML-6.0.2-cp311-cp311-manylinux_2_17_x86_64.manylinux2014_x86_64.whl (762 kB)\n",
       "</span></pre>\n"
      ],
      "text/plain": [
       "\u001b[33mDownloading http://pypi-mirror.modal.local:5555/simple/packaging/packaging-25.0-py3-none-any.whl (66 kB)\n",
       "Downloading http://pypi-mirror.modal.local:5555/simple/pyyaml/PyYAML-6.0.2-cp311-cp311-manylinux_2_17_x86_64.manylinux2014_x86_64.whl (762 kB)\n",
       "\u001b[0m"
      ]
     },
     "metadata": {},
     "output_type": "display_data"
    },
    {
     "data": {
      "text/html": [
       "<pre style=\"white-space:pre;overflow-x:auto;line-height:normal;font-family:Menlo,'DejaVu Sans Mono',consolas,'Courier New',monospace\"><span style=\"color: #808000; text-decoration-color: #808000\"></span></pre>\n"
      ],
      "text/plain": []
     },
     "metadata": {},
     "output_type": "display_data"
    },
    {
     "data": {
      "text/html": [
       "<pre style=\"white-space:pre;overflow-x:auto;line-height:normal;font-family:Menlo,'DejaVu Sans Mono',consolas,'Courier New',monospace\"><span style=\"color: #808000; text-decoration-color: #808000\">   ━━━━━━━━━━━━━━━━━━━━━━━━━━━━━━━━━━━━━━━ 763.0/763.0 kB 436.3 MB/s eta 0:00:00\n",
       "</span></pre>\n"
      ],
      "text/plain": [
       "\u001b[33m   ━━━━━━━━━━━━━━━━━━━━━━━━━━━━━━━━━━━━━━━ 763.0/763.0 kB 436.3 MB/s eta 0:00:00\n",
       "\u001b[0m"
      ]
     },
     "metadata": {},
     "output_type": "display_data"
    },
    {
     "data": {
      "text/html": [
       "<pre style=\"white-space:pre;overflow-x:auto;line-height:normal;font-family:Menlo,'DejaVu Sans Mono',consolas,'Courier New',monospace\"><span style=\"color: #808000; text-decoration-color: #808000\">Downloading http://pypi-mirror.modal.local:5555/simple/regex/regex-2024.11.6-cp311-cp311-manylinux_2_17_x86_64.manylinux2014_x86_64.whl (792 kB)\n",
       "</span></pre>\n"
      ],
      "text/plain": [
       "\u001b[33mDownloading http://pypi-mirror.modal.local:5555/simple/regex/regex-2024.11.6-cp311-cp311-manylinux_2_17_x86_64.manylinux2014_x86_64.whl (792 kB)\n",
       "\u001b[0m"
      ]
     },
     "metadata": {},
     "output_type": "display_data"
    },
    {
     "data": {
      "text/html": [
       "<pre style=\"white-space:pre;overflow-x:auto;line-height:normal;font-family:Menlo,'DejaVu Sans Mono',consolas,'Courier New',monospace\"><span style=\"color: #808000; text-decoration-color: #808000\"></span></pre>\n"
      ],
      "text/plain": []
     },
     "metadata": {},
     "output_type": "display_data"
    },
    {
     "data": {
      "text/html": [
       "<pre style=\"white-space:pre;overflow-x:auto;line-height:normal;font-family:Menlo,'DejaVu Sans Mono',consolas,'Courier New',monospace\"><span style=\"color: #808000; text-decoration-color: #808000\">   ━━━━━━━━━━━━━━━━━━━━━━━━━━━━━━━━━━━━━━━ 792.7/792.7 kB 156.1 MB/s eta 0:00:00\n",
       "</span></pre>\n"
      ],
      "text/plain": [
       "\u001b[33m   ━━━━━━━━━━━━━━━━━━━━━━━━━━━━━━━━━━━━━━━ 792.7/792.7 kB 156.1 MB/s eta 0:00:00\n",
       "\u001b[0m"
      ]
     },
     "metadata": {},
     "output_type": "display_data"
    },
    {
     "data": {
      "text/html": [
       "<pre style=\"white-space:pre;overflow-x:auto;line-height:normal;font-family:Menlo,'DejaVu Sans Mono',consolas,'Courier New',monospace\"><span style=\"color: #808000; text-decoration-color: #808000\">Downloading http://pypi-mirror.modal.local:5555/simple/safetensors/safetensors-0.5.3-cp38-abi3-manylinux_2_17_x86_64.manylinux2014_x86_64.whl (471 kB)\n",
       "</span></pre>\n"
      ],
      "text/plain": [
       "\u001b[33mDownloading http://pypi-mirror.modal.local:5555/simple/safetensors/safetensors-0.5.3-cp38-abi3-manylinux_2_17_x86_64.manylinux2014_x86_64.whl (471 kB)\n",
       "\u001b[0m"
      ]
     },
     "metadata": {},
     "output_type": "display_data"
    },
    {
     "data": {
      "text/html": [
       "<pre style=\"white-space:pre;overflow-x:auto;line-height:normal;font-family:Menlo,'DejaVu Sans Mono',consolas,'Courier New',monospace\"><span style=\"color: #808000; text-decoration-color: #808000\">Downloading http://pypi-mirror.modal.local:5555/simple/sympy/sympy-1.14.0-py3-none-any.whl (6.3 MB)\n",
       "</span></pre>\n"
      ],
      "text/plain": [
       "\u001b[33mDownloading http://pypi-mirror.modal.local:5555/simple/sympy/sympy-1.14.0-py3-none-any.whl (6.3 MB)\n",
       "\u001b[0m"
      ]
     },
     "metadata": {},
     "output_type": "display_data"
    },
    {
     "data": {
      "text/html": [
       "<pre style=\"white-space:pre;overflow-x:auto;line-height:normal;font-family:Menlo,'DejaVu Sans Mono',consolas,'Courier New',monospace\"><span style=\"color: #808000; text-decoration-color: #808000\"></span></pre>\n"
      ],
      "text/plain": []
     },
     "metadata": {},
     "output_type": "display_data"
    },
    {
     "data": {
      "text/html": [
       "<pre style=\"white-space:pre;overflow-x:auto;line-height:normal;font-family:Menlo,'DejaVu Sans Mono',consolas,'Courier New',monospace\"><span style=\"color: #808000; text-decoration-color: #808000\">   ━━━━━━━━━━━━━━━━━━━━━━━━━━━━━━━━━━━━━━━━ 6.3/6.3 MB 433.5 MB/s eta 0:00:00\n",
       "</span></pre>\n"
      ],
      "text/plain": [
       "\u001b[33m   ━━━━━━━━━━━━━━━━━━━━━━━━━━━━━━━━━━━━━━━━ 6.3/6.3 MB 433.5 MB/s eta 0:00:00\n",
       "\u001b[0m"
      ]
     },
     "metadata": {},
     "output_type": "display_data"
    },
    {
     "data": {
      "text/html": [
       "<pre style=\"white-space:pre;overflow-x:auto;line-height:normal;font-family:Menlo,'DejaVu Sans Mono',consolas,'Courier New',monospace\"><span style=\"color: #808000; text-decoration-color: #808000\">Downloading http://pypi-mirror.modal.local:5555/simple/tokenizers/tokenizers-0.21.1-cp39-abi3-manylinux_2_17_x86_64.manylinux2014_x86_64.whl (3.0 MB)\n",
       "</span></pre>\n"
      ],
      "text/plain": [
       "\u001b[33mDownloading http://pypi-mirror.modal.local:5555/simple/tokenizers/tokenizers-0.21.1-cp39-abi3-manylinux_2_17_x86_64.manylinux2014_x86_64.whl (3.0 MB)\n",
       "\u001b[0m"
      ]
     },
     "metadata": {},
     "output_type": "display_data"
    },
    {
     "data": {
      "text/html": [
       "<pre style=\"white-space:pre;overflow-x:auto;line-height:normal;font-family:Menlo,'DejaVu Sans Mono',consolas,'Courier New',monospace\"><span style=\"color: #808000; text-decoration-color: #808000\"></span></pre>\n"
      ],
      "text/plain": []
     },
     "metadata": {},
     "output_type": "display_data"
    },
    {
     "data": {
      "text/html": [
       "<pre style=\"white-space:pre;overflow-x:auto;line-height:normal;font-family:Menlo,'DejaVu Sans Mono',consolas,'Courier New',monospace\"><span style=\"color: #808000; text-decoration-color: #808000\">   ━━━━━━━━━━━━━━━━━━━━━━━━━━━━━━━━━━━━━━━━ 3.0/3.0 MB 329.9 MB/s eta 0:00:00\n",
       "</span></pre>\n"
      ],
      "text/plain": [
       "\u001b[33m   ━━━━━━━━━━━━━━━━━━━━━━━━━━━━━━━━━━━━━━━━ 3.0/3.0 MB 329.9 MB/s eta 0:00:00\n",
       "\u001b[0m"
      ]
     },
     "metadata": {},
     "output_type": "display_data"
    },
    {
     "data": {
      "text/html": [
       "<pre style=\"white-space:pre;overflow-x:auto;line-height:normal;font-family:Menlo,'DejaVu Sans Mono',consolas,'Courier New',monospace\"><span style=\"color: #808000; text-decoration-color: #808000\">Downloading http://pypi-mirror.modal.local:5555/simple/tqdm/tqdm-4.67.1-py3-none-any.whl (78 kB)\n",
       "</span></pre>\n"
      ],
      "text/plain": [
       "\u001b[33mDownloading http://pypi-mirror.modal.local:5555/simple/tqdm/tqdm-4.67.1-py3-none-any.whl (78 kB)\n",
       "\u001b[0m"
      ]
     },
     "metadata": {},
     "output_type": "display_data"
    },
    {
     "data": {
      "text/html": [
       "<pre style=\"white-space:pre;overflow-x:auto;line-height:normal;font-family:Menlo,'DejaVu Sans Mono',consolas,'Courier New',monospace\"><span style=\"color: #808000; text-decoration-color: #808000\">Downloading http://pypi-mirror.modal.local:5555/simple/filelock/filelock-3.18.0-py3-none-any.whl (16 kB)\n",
       "Downloading http://pypi-mirror.modal.local:5555/simple/jinja2/jinja2-3.1.6-py3-none-any.whl (134 kB)\n",
       "</span></pre>\n"
      ],
      "text/plain": [
       "\u001b[33mDownloading http://pypi-mirror.modal.local:5555/simple/filelock/filelock-3.18.0-py3-none-any.whl (16 kB)\n",
       "Downloading http://pypi-mirror.modal.local:5555/simple/jinja2/jinja2-3.1.6-py3-none-any.whl (134 kB)\n",
       "\u001b[0m"
      ]
     },
     "metadata": {},
     "output_type": "display_data"
    },
    {
     "data": {
      "text/html": [
       "<pre style=\"white-space:pre;overflow-x:auto;line-height:normal;font-family:Menlo,'DejaVu Sans Mono',consolas,'Courier New',monospace\"><span style=\"color: #808000; text-decoration-color: #808000\">Downloading http://pypi-mirror.modal.local:5555/simple/networkx/networkx-3.4.2-py3-none-any.whl (1.7 MB)\n",
       "</span></pre>\n"
      ],
      "text/plain": [
       "\u001b[33mDownloading http://pypi-mirror.modal.local:5555/simple/networkx/networkx-3.4.2-py3-none-any.whl (1.7 MB)\n",
       "\u001b[0m"
      ]
     },
     "metadata": {},
     "output_type": "display_data"
    },
    {
     "data": {
      "text/html": [
       "<pre style=\"white-space:pre;overflow-x:auto;line-height:normal;font-family:Menlo,'DejaVu Sans Mono',consolas,'Courier New',monospace\"><span style=\"color: #808000; text-decoration-color: #808000\"></span></pre>\n"
      ],
      "text/plain": []
     },
     "metadata": {},
     "output_type": "display_data"
    },
    {
     "data": {
      "text/html": [
       "<pre style=\"white-space:pre;overflow-x:auto;line-height:normal;font-family:Menlo,'DejaVu Sans Mono',consolas,'Courier New',monospace\"><span style=\"color: #808000; text-decoration-color: #808000\">   ━━━━━━━━━━━━━━━━━━━━━━━━━━━━━━━━━━━━━━━━ 1.7/1.7 MB 496.9 MB/s eta 0:00:00\n",
       "</span></pre>\n"
      ],
      "text/plain": [
       "\u001b[33m   ━━━━━━━━━━━━━━━━━━━━━━━━━━━━━━━━━━━━━━━━ 1.7/1.7 MB 496.9 MB/s eta 0:00:00\n",
       "\u001b[0m"
      ]
     },
     "metadata": {},
     "output_type": "display_data"
    },
    {
     "data": {
      "text/html": [
       "<pre style=\"white-space:pre;overflow-x:auto;line-height:normal;font-family:Menlo,'DejaVu Sans Mono',consolas,'Courier New',monospace\"><span style=\"color: #808000; text-decoration-color: #808000\">Downloading http://pypi-mirror.modal.local:5555/simple/psutil/psutil-7.0.0-cp36-abi3-manylinux_2_12_x86_64.manylinux2010_x86_64.manylinux_2_17_x86_64.manylinux2014_x86_64.whl (277 kB)\n",
       "</span></pre>\n"
      ],
      "text/plain": [
       "\u001b[33mDownloading http://pypi-mirror.modal.local:5555/simple/psutil/psutil-7.0.0-cp36-abi3-manylinux_2_12_x86_64.manylinux2010_x86_64.manylinux_2_17_x86_64.manylinux2014_x86_64.whl (277 kB)\n",
       "\u001b[0m"
      ]
     },
     "metadata": {},
     "output_type": "display_data"
    },
    {
     "data": {
      "text/html": [
       "<pre style=\"white-space:pre;overflow-x:auto;line-height:normal;font-family:Menlo,'DejaVu Sans Mono',consolas,'Courier New',monospace\"><span style=\"color: #808000; text-decoration-color: #808000\">Downloading http://pypi-mirror.modal.local:5555/simple/requests/requests-2.32.3-py3-none-any.whl (64 kB)\n",
       "</span></pre>\n"
      ],
      "text/plain": [
       "\u001b[33mDownloading http://pypi-mirror.modal.local:5555/simple/requests/requests-2.32.3-py3-none-any.whl (64 kB)\n",
       "\u001b[0m"
      ]
     },
     "metadata": {},
     "output_type": "display_data"
    },
    {
     "data": {
      "text/html": [
       "<pre style=\"white-space:pre;overflow-x:auto;line-height:normal;font-family:Menlo,'DejaVu Sans Mono',consolas,'Courier New',monospace\"><span style=\"color: #808000; text-decoration-color: #808000\">Downloading http://pypi-mirror.modal.local:5555/simple/charset-normalizer/charset_normalizer-3.4.2-cp311-cp311-manylinux_2_17_x86_64.manylinux2014_x86_64.whl (147 kB)\n",
       "</span></pre>\n"
      ],
      "text/plain": [
       "\u001b[33mDownloading http://pypi-mirror.modal.local:5555/simple/charset-normalizer/charset_normalizer-3.4.2-cp311-cp311-manylinux_2_17_x86_64.manylinux2014_x86_64.whl (147 kB)\n",
       "\u001b[0m"
      ]
     },
     "metadata": {},
     "output_type": "display_data"
    },
    {
     "data": {
      "text/html": [
       "<pre style=\"white-space:pre;overflow-x:auto;line-height:normal;font-family:Menlo,'DejaVu Sans Mono',consolas,'Courier New',monospace\"><span style=\"color: #808000; text-decoration-color: #808000\">Downloading http://pypi-mirror.modal.local:5555/simple/hf-xet/hf_xet-1.1.0-cp37-abi3-manylinux_2_17_x86_64.manylinux2014_x86_64.whl (53.6 MB)\n",
       "</span></pre>\n"
      ],
      "text/plain": [
       "\u001b[33mDownloading http://pypi-mirror.modal.local:5555/simple/hf-xet/hf_xet-1.1.0-cp37-abi3-manylinux_2_17_x86_64.manylinux2014_x86_64.whl (53.6 MB)\n",
       "\u001b[0m"
      ]
     },
     "metadata": {},
     "output_type": "display_data"
    },
    {
     "data": {
      "text/html": [
       "<pre style=\"white-space:pre;overflow-x:auto;line-height:normal;font-family:Menlo,'DejaVu Sans Mono',consolas,'Courier New',monospace\"><span style=\"color: #808000; text-decoration-color: #808000\"></span></pre>\n"
      ],
      "text/plain": []
     },
     "metadata": {},
     "output_type": "display_data"
    },
    {
     "data": {
      "text/html": [
       "<pre style=\"white-space:pre;overflow-x:auto;line-height:normal;font-family:Menlo,'DejaVu Sans Mono',consolas,'Courier New',monospace\"><span style=\"color: #808000; text-decoration-color: #808000\">   ━━━━━━━━━━━━━━━━━━━━━━━━━━━━━━━━━━━━━━━━ 53.6/53.6 MB 506.2 MB/s eta 0:00:00\n",
       "</span></pre>\n"
      ],
      "text/plain": [
       "\u001b[33m   ━━━━━━━━━━━━━━━━━━━━━━━━━━━━━━━━━━━━━━━━ 53.6/53.6 MB 506.2 MB/s eta 0:00:00\n",
       "\u001b[0m"
      ]
     },
     "metadata": {},
     "output_type": "display_data"
    },
    {
     "data": {
      "text/html": [
       "<pre style=\"white-space:pre;overflow-x:auto;line-height:normal;font-family:Menlo,'DejaVu Sans Mono',consolas,'Courier New',monospace\"><span style=\"color: #808000; text-decoration-color: #808000\">Downloading http://pypi-mirror.modal.local:5555/simple/markupsafe/MarkupSafe-3.0.2-cp311-cp311-manylinux_2_17_x86_64.manylinux2014_x86_64.whl (23 kB)\n",
       "Downloading http://pypi-mirror.modal.local:5555/simple/mpmath/mpmath-1.3.0-py3-none-any.whl (536 kB)\n",
       "</span></pre>\n"
      ],
      "text/plain": [
       "\u001b[33mDownloading http://pypi-mirror.modal.local:5555/simple/markupsafe/MarkupSafe-3.0.2-cp311-cp311-manylinux_2_17_x86_64.manylinux2014_x86_64.whl (23 kB)\n",
       "Downloading http://pypi-mirror.modal.local:5555/simple/mpmath/mpmath-1.3.0-py3-none-any.whl (536 kB)\n",
       "\u001b[0m"
      ]
     },
     "metadata": {},
     "output_type": "display_data"
    },
    {
     "data": {
      "text/html": [
       "<pre style=\"white-space:pre;overflow-x:auto;line-height:normal;font-family:Menlo,'DejaVu Sans Mono',consolas,'Courier New',monospace\"><span style=\"color: #808000; text-decoration-color: #808000\"></span></pre>\n"
      ],
      "text/plain": []
     },
     "metadata": {},
     "output_type": "display_data"
    },
    {
     "data": {
      "text/html": [
       "<pre style=\"white-space:pre;overflow-x:auto;line-height:normal;font-family:Menlo,'DejaVu Sans Mono',consolas,'Courier New',monospace\"><span style=\"color: #808000; text-decoration-color: #808000\">   ━━━━━━━━━━━━━━━━━━━━━━━━━━━━━━━━━━━━━━━ 536.2/536.2 kB 924.7 MB/s eta 0:00:00\n",
       "</span></pre>\n"
      ],
      "text/plain": [
       "\u001b[33m   ━━━━━━━━━━━━━━━━━━━━━━━━━━━━━━━━━━━━━━━ 536.2/536.2 kB 924.7 MB/s eta 0:00:00\n",
       "\u001b[0m"
      ]
     },
     "metadata": {},
     "output_type": "display_data"
    },
    {
     "data": {
      "text/html": [
       "<pre style=\"white-space:pre;overflow-x:auto;line-height:normal;font-family:Menlo,'DejaVu Sans Mono',consolas,'Courier New',monospace\"><span style=\"color: #808000; text-decoration-color: #808000\">Downloading http://pypi-mirror.modal.local:5555/simple/urllib3/urllib3-2.4.0-py3-none-any.whl (128 kB)\n",
       "</span></pre>\n"
      ],
      "text/plain": [
       "\u001b[33mDownloading http://pypi-mirror.modal.local:5555/simple/urllib3/urllib3-2.4.0-py3-none-any.whl (128 kB)\n",
       "\u001b[0m"
      ]
     },
     "metadata": {},
     "output_type": "display_data"
    },
    {
     "data": {
      "text/html": [
       "<pre style=\"white-space:pre;overflow-x:auto;line-height:normal;font-family:Menlo,'DejaVu Sans Mono',consolas,'Courier New',monospace\"><span style=\"color: #808000; text-decoration-color: #808000\">Installing collected packages: nvidia-cusparselt-cu12, mpmath, urllib3, triton, tqdm, sympy, safetensors, regex, pyyaml, psutil, packaging, nvidia-nvtx-cu12, nvidia-nvjitlink-cu12, nvidia-nccl-cu12, nvidia-curand-cu12, nvidia-cufile-cu12, nvidia-cuda-runtime-cu12, nvidia-cuda-nvrtc-cu12, nvidia-cuda-cupti-cu12, nvidia-cublas-cu12, numpy, networkx, MarkupSafe, hf-xet, fsspec, filelock, charset-normalizer, requests, nvidia-cusparse-cu12, nvidia-cufft-cu12, nvidia-cudnn-cu12, jinja2, nvidia-cusolver-cu12, huggingface-hub, torch, tokenizers, transformers, bitsandbytes, accelerate, peft\n",
       "</span></pre>\n"
      ],
      "text/plain": [
       "\u001b[33mInstalling collected packages: nvidia-cusparselt-cu12, mpmath, urllib3, triton, tqdm, sympy, safetensors, regex, pyyaml, psutil, packaging, nvidia-nvtx-cu12, nvidia-nvjitlink-cu12, nvidia-nccl-cu12, nvidia-curand-cu12, nvidia-cufile-cu12, nvidia-cuda-runtime-cu12, nvidia-cuda-nvrtc-cu12, nvidia-cuda-cupti-cu12, nvidia-cublas-cu12, numpy, networkx, MarkupSafe, hf-xet, fsspec, filelock, charset-normalizer, requests, nvidia-cusparse-cu12, nvidia-cufft-cu12, nvidia-cudnn-cu12, jinja2, nvidia-cusolver-cu12, huggingface-hub, torch, tokenizers, transformers, bitsandbytes, accelerate, peft\n",
       "\u001b[0m"
      ]
     },
     "metadata": {},
     "output_type": "display_data"
    },
    {
     "data": {
      "text/html": [
       "<pre style=\"white-space:pre;overflow-x:auto;line-height:normal;font-family:Menlo,'DejaVu Sans Mono',consolas,'Courier New',monospace\"><span style=\"color: #808000; text-decoration-color: #808000\">Successfully installed MarkupSafe-3.0.2 accelerate-1.6.0 bitsandbytes-0.45.5 charset-normalizer-3.4.2 filelock-3.18.0 fsspec-2025.3.2 hf-xet-1.1.0 huggingface-hub-0.31.1 jinja2-3.1.6 mpmath-1.3.0 networkx-3.4.2 numpy-2.2.5 nvidia-cublas-cu12-12.6.4.1 nvidia-cuda-cupti-cu12-12.6.80 nvidia-cuda-nvrtc-cu12-12.6.77 nvidia-cuda-runtime-cu12-12.6.77 nvidia-cudnn-cu12-9.5.1.17 nvidia-cufft-cu12-11.3.0.4 nvidia-cufile-cu12-1.11.1.6 nvidia-curand-cu12-10.3.7.77 nvidia-cusolver-cu12-11.7.1.2 nvidia-cusparse-cu12-12.5.4.2 nvidia-cusparselt-cu12-0.6.3 nvidia-nccl-cu12-2.26.2 nvidia-nvjitlink-cu12-12.6.85 nvidia-nvtx-cu12-12.6.77 packaging-25.0 peft-0.15.2 psutil-7.0.0 pyyaml-6.0.2 regex-2024.11.6 requests-2.32.3 safetensors-0.5.3 sympy-1.14.0 tokenizers-0.21.1 torch-2.7.0 tqdm-4.67.1 transformers-4.51.3 triton-3.3.0 urllib3-2.4.0\n",
       "</span></pre>\n"
      ],
      "text/plain": [
       "\u001b[33mSuccessfully installed MarkupSafe-3.0.2 accelerate-1.6.0 bitsandbytes-0.45.5 charset-normalizer-3.4.2 filelock-3.18.0 fsspec-2025.3.2 hf-xet-1.1.0 huggingface-hub-0.31.1 jinja2-3.1.6 mpmath-1.3.0 networkx-3.4.2 numpy-2.2.5 nvidia-cublas-cu12-12.6.4.1 nvidia-cuda-cupti-cu12-12.6.80 nvidia-cuda-nvrtc-cu12-12.6.77 nvidia-cuda-runtime-cu12-12.6.77 nvidia-cudnn-cu12-9.5.1.17 nvidia-cufft-cu12-11.3.0.4 nvidia-cufile-cu12-1.11.1.6 nvidia-curand-cu12-10.3.7.77 nvidia-cusolver-cu12-11.7.1.2 nvidia-cusparse-cu12-12.5.4.2 nvidia-cusparselt-cu12-0.6.3 nvidia-nccl-cu12-2.26.2 nvidia-nvjitlink-cu12-12.6.85 nvidia-nvtx-cu12-12.6.77 packaging-25.0 peft-0.15.2 psutil-7.0.0 pyyaml-6.0.2 regex-2024.11.6 requests-2.32.3 safetensors-0.5.3 sympy-1.14.0 tokenizers-0.21.1 torch-2.7.0 tqdm-4.67.1 transformers-4.51.3 triton-3.3.0 urllib3-2.4.0\n",
       "\u001b[0m"
      ]
     },
     "metadata": {},
     "output_type": "display_data"
    },
    {
     "data": {
      "text/html": [
       "<pre style=\"white-space:pre;overflow-x:auto;line-height:normal;font-family:Menlo,'DejaVu Sans Mono',consolas,'Courier New',monospace\"><span style=\"color: #808000; text-decoration-color: #808000\">\n",
       "[notice] A new release of pip is available: 24.3.1 -&gt; 25.1.1\n",
       "[notice] To update, run: pip install --upgrade pip\n",
       "</span></pre>\n"
      ],
      "text/plain": [
       "\u001b[33m\n",
       "[notice] A new release of pip is available: 24.3.1 -> 25.1.1\n",
       "[notice] To update, run: pip install --upgrade pip\n",
       "\u001b[0m"
      ]
     },
     "metadata": {},
     "output_type": "display_data"
    },
    {
     "data": {
      "text/html": [
       "<pre style=\"white-space:pre;overflow-x:auto;line-height:normal;font-family:Menlo,'DejaVu Sans Mono',consolas,'Courier New',monospace\"><span style=\"color: #808000; text-decoration-color: #808000\">Saving image...\n",
       "</span></pre>\n"
      ],
      "text/plain": [
       "\u001b[33mSaving image...\n",
       "\u001b[0m"
      ]
     },
     "metadata": {},
     "output_type": "display_data"
    },
    {
     "data": {
      "text/html": [
       "<pre style=\"white-space:pre;overflow-x:auto;line-height:normal;font-family:Menlo,'DejaVu Sans Mono',consolas,'Courier New',monospace\"><span style=\"color: #808000; text-decoration-color: #808000\">Image saved, took 4.15s\n",
       "</span></pre>\n"
      ],
      "text/plain": [
       "\u001b[33mImage saved, took 4.15s\n",
       "\u001b[0m"
      ]
     },
     "metadata": {},
     "output_type": "display_data"
    },
    {
     "data": {
      "text/html": [
       "<pre style=\"white-space:pre;overflow-x:auto;line-height:normal;font-family:Menlo,'DejaVu Sans Mono',consolas,'Courier New',monospace\"><span style=\"color: #808000; text-decoration-color: #808000\">\n",
       "Built image im-8yds8nn0u8giNtroFmyPoO in 76.53s\n",
       "\n",
       "\n",
       "</span></pre>\n"
      ],
      "text/plain": [
       "\u001b[33m\n",
       "Built image im-8yds8nn0u8giNtroFmyPoO in 76.53s\n",
       "\n",
       "\n",
       "\u001b[0m"
      ]
     },
     "metadata": {},
     "output_type": "display_data"
    },
    {
     "data": {
      "text/html": [
       "<pre style=\"white-space:pre;overflow-x:auto;line-height:normal;font-family:Menlo,'DejaVu Sans Mono',consolas,'Courier New',monospace\"></pre>\n"
      ],
      "text/plain": []
     },
     "metadata": {},
     "output_type": "display_data"
    },
    {
     "data": {
      "text/html": [
       "<pre style=\"white-space:pre;overflow-x:auto;line-height:normal;font-family:Menlo,'DejaVu Sans Mono',consolas,'Courier New',monospace\"><span style=\"color: #008000; text-decoration-color: #008000\">✓</span> Created objects.\n",
       "<span style=\"color: #808080; text-decoration-color: #808080\">├── </span>🔨 Created mount D:\\Learning Square\\LLMs\\Untitled Folder\\pricer_ephemeral.py\n",
       "<span style=\"color: #808080; text-decoration-color: #808080\">├── </span>🔨 Created mount PythonPackage:hello\n",
       "<span style=\"color: #808080; text-decoration-color: #808080\">├── </span>🔨 Created mount PythonPackage:llama\n",
       "<span style=\"color: #808080; text-decoration-color: #808080\">└── </span>🔨 Created function price.\n",
       "</pre>\n"
      ],
      "text/plain": [
       "\u001b[32m✓\u001b[0m Created objects.\n",
       "\u001b[38;5;244m├── \u001b[0m🔨 Created mount D:\\Learning Square\\LLMs\\Untitled Folder\\pricer_ephemeral.py\n",
       "\u001b[38;5;244m├── \u001b[0m🔨 Created mount PythonPackage:hello\n",
       "\u001b[38;5;244m├── \u001b[0m🔨 Created mount PythonPackage:llama\n",
       "\u001b[38;5;244m└── \u001b[0m🔨 Created function price.\n"
      ]
     },
     "metadata": {},
     "output_type": "display_data"
    },
    {
     "data": {
      "application/vnd.jupyter.widget-view+json": {
       "model_id": "2cd4ca9d05994deb8ba11ed5d338e4eb",
       "version_major": 2,
       "version_minor": 0
      },
      "text/plain": [
       "Output()"
      ]
     },
     "metadata": {},
     "output_type": "display_data"
    },
    {
     "data": {
      "text/html": [
       "<pre style=\"white-space:pre;overflow-x:auto;line-height:normal;font-family:Menlo,'DejaVu Sans Mono',consolas,'Courier New',monospace\"><span style=\"color: #800000; text-decoration-color: #800000\">\n",
       "</span></pre>\n"
      ],
      "text/plain": [
       "\u001b[31m\n",
       "\u001b[0m"
      ]
     },
     "metadata": {},
     "output_type": "display_data"
    },
    {
     "data": {
      "text/html": [
       "<pre style=\"white-space:pre;overflow-x:auto;line-height:normal;font-family:Menlo,'DejaVu Sans Mono',consolas,'Courier New',monospace\"><span style=\"color: #800000; text-decoration-color: #800000\">\u001b[1AFetching 4 files:   0%|          | 0/4 [00:00&lt;?, ?it/s]</span></pre>\n"
      ],
      "text/plain": [
       "\u001b[31m\u001b[1AFetching 4 files:   0%|          | 0/4 [00:00<?, ?it/s]\u001b[0m"
      ]
     },
     "metadata": {},
     "output_type": "display_data"
    },
    {
     "data": {
      "text/html": [
       "<pre style=\"white-space:pre;overflow-x:auto;line-height:normal;font-family:Menlo,'DejaVu Sans Mono',consolas,'Courier New',monospace\"><span style=\"color: #800000; text-decoration-color: #800000\">\n",
       "</span></pre>\n"
      ],
      "text/plain": [
       "\u001b[31m\n",
       "\u001b[0m"
      ]
     },
     "metadata": {},
     "output_type": "display_data"
    },
    {
     "data": {
      "text/html": [
       "<pre style=\"white-space:pre;overflow-x:auto;line-height:normal;font-family:Menlo,'DejaVu Sans Mono',consolas,'Courier New',monospace\"><span style=\"color: #800000; text-decoration-color: #800000\">\u001b[1AFetching 4 files:  25%|██▌       | 1/4 [01:13&lt;03:39, 73.04s/it]</span></pre>\n"
      ],
      "text/plain": [
       "\u001b[31m\u001b[1AFetching 4 files:  25%|██▌       | 1/4 [01:13<03:39, 73.04s/it]\u001b[0m"
      ]
     },
     "metadata": {},
     "output_type": "display_data"
    },
    {
     "data": {
      "text/html": [
       "<pre style=\"white-space:pre;overflow-x:auto;line-height:normal;font-family:Menlo,'DejaVu Sans Mono',consolas,'Courier New',monospace\"><span style=\"color: #800000; text-decoration-color: #800000\">\n",
       "</span></pre>\n"
      ],
      "text/plain": [
       "\u001b[31m\n",
       "\u001b[0m"
      ]
     },
     "metadata": {},
     "output_type": "display_data"
    },
    {
     "data": {
      "text/html": [
       "<pre style=\"white-space:pre;overflow-x:auto;line-height:normal;font-family:Menlo,'DejaVu Sans Mono',consolas,'Courier New',monospace\"><span style=\"color: #800000; text-decoration-color: #800000\">\u001b[1AFetching 4 files:  50%|█████     | 2/4 [01:14&lt;01:01, 30.94s/it]Fetching 4 files: 100%|██████████| 4/4 [01:14&lt;00:00, 18.63s/it]\n",
       "</span></pre>\n"
      ],
      "text/plain": [
       "\u001b[31m\u001b[1AFetching 4 files:  50%|█████     | 2/4 [01:14<01:01, 30.94s/it]Fetching 4 files: 100%|██████████| 4/4 [01:14<00:00, 18.63s/it]\n",
       "\u001b[0m"
      ]
     },
     "metadata": {},
     "output_type": "display_data"
    },
    {
     "data": {
      "text/html": [
       "<pre style=\"white-space:pre;overflow-x:auto;line-height:normal;font-family:Menlo,'DejaVu Sans Mono',consolas,'Courier New',monospace\"><span style=\"color: #800000; text-decoration-color: #800000\">\n",
       "</span></pre>\n"
      ],
      "text/plain": [
       "\u001b[31m\n",
       "\u001b[0m"
      ]
     },
     "metadata": {},
     "output_type": "display_data"
    },
    {
     "data": {
      "text/html": [
       "<pre style=\"white-space:pre;overflow-x:auto;line-height:normal;font-family:Menlo,'DejaVu Sans Mono',consolas,'Courier New',monospace\"><span style=\"color: #800000; text-decoration-color: #800000\">\u001b[1ALoading checkpoint shards:   0%|          | 0/4 [00:00&lt;?, ?it/s]\n",
       "</span></pre>\n"
      ],
      "text/plain": [
       "\u001b[31m\u001b[1ALoading checkpoint shards:   0%|          | 0/4 [00:00<?, ?it/s]\n",
       "\u001b[0m"
      ]
     },
     "metadata": {},
     "output_type": "display_data"
    },
    {
     "data": {
      "text/html": [
       "<pre style=\"white-space:pre;overflow-x:auto;line-height:normal;font-family:Menlo,'DejaVu Sans Mono',consolas,'Courier New',monospace\"><span style=\"color: #800000; text-decoration-color: #800000\">\u001b[1ALoading checkpoint shards:  25%|██▌       | 1/4 [00:03&lt;00:11,  4.00s/it]\n",
       "</span></pre>\n"
      ],
      "text/plain": [
       "\u001b[31m\u001b[1ALoading checkpoint shards:  25%|██▌       | 1/4 [00:03<00:11,  4.00s/it]\n",
       "\u001b[0m"
      ]
     },
     "metadata": {},
     "output_type": "display_data"
    },
    {
     "data": {
      "text/html": [
       "<pre style=\"white-space:pre;overflow-x:auto;line-height:normal;font-family:Menlo,'DejaVu Sans Mono',consolas,'Courier New',monospace\"><span style=\"color: #800000; text-decoration-color: #800000\">\u001b[1ALoading checkpoint shards:  50%|█████     | 2/4 [00:08&lt;00:08,  4.34s/it]\n",
       "</span></pre>\n"
      ],
      "text/plain": [
       "\u001b[31m\u001b[1ALoading checkpoint shards:  50%|█████     | 2/4 [00:08<00:08,  4.34s/it]\n",
       "\u001b[0m"
      ]
     },
     "metadata": {},
     "output_type": "display_data"
    },
    {
     "data": {
      "text/html": [
       "<pre style=\"white-space:pre;overflow-x:auto;line-height:normal;font-family:Menlo,'DejaVu Sans Mono',consolas,'Courier New',monospace\"><span style=\"color: #800000; text-decoration-color: #800000\">\u001b[1ALoading checkpoint shards:  75%|███████▌  | 3/4 [00:13&lt;00:04,  4.54s/it]\n",
       "</span></pre>\n"
      ],
      "text/plain": [
       "\u001b[31m\u001b[1ALoading checkpoint shards:  75%|███████▌  | 3/4 [00:13<00:04,  4.54s/it]\n",
       "\u001b[0m"
      ]
     },
     "metadata": {},
     "output_type": "display_data"
    },
    {
     "data": {
      "text/html": [
       "<pre style=\"white-space:pre;overflow-x:auto;line-height:normal;font-family:Menlo,'DejaVu Sans Mono',consolas,'Courier New',monospace\"><span style=\"color: #800000; text-decoration-color: #800000\">\u001b[1ALoading checkpoint shards: 100%|██████████| 4/4 [00:13&lt;00:00,  2.88s/it]Loading checkpoint shards: 100%|██████████| 4/4 [00:13&lt;00:00,  3.42s/it]\n",
       "</span></pre>\n"
      ],
      "text/plain": [
       "\u001b[31m\u001b[1ALoading checkpoint shards: 100%|██████████| 4/4 [00:13<00:00,  2.88s/it]Loading checkpoint shards: 100%|██████████| 4/4 [00:13<00:00,  3.42s/it]\n",
       "\u001b[0m"
      ]
     },
     "metadata": {},
     "output_type": "display_data"
    },
    {
     "data": {
      "text/html": [
       "<pre style=\"white-space:pre;overflow-x:auto;line-height:normal;font-family:Menlo,'DejaVu Sans Mono',consolas,'Courier New',monospace\"><span style=\"color: #800000; text-decoration-color: #800000\">Setting `pad_token_id` to `eos_token_id`:128001 for open-end generation.\n",
       "</span></pre>\n"
      ],
      "text/plain": [
       "\u001b[31mSetting `pad_token_id` to `eos_token_id`:128001 for open-end generation.\n",
       "\u001b[0m"
      ]
     },
     "metadata": {},
     "output_type": "display_data"
    },
    {
     "data": {
      "text/html": [
       "<pre style=\"white-space:pre;overflow-x:auto;line-height:normal;font-family:Menlo,'DejaVu Sans Mono',consolas,'Courier New',monospace\"></pre>\n"
      ],
      "text/plain": []
     },
     "metadata": {},
     "output_type": "display_data"
    },
    {
     "data": {
      "text/html": [
       "<pre style=\"white-space:pre;overflow-x:auto;line-height:normal;font-family:Menlo,'DejaVu Sans Mono',consolas,'Courier New',monospace\"><span style=\"color: #808000; text-decoration-color: #808000\">Stopping app - local entrypoint completed.\n",
       "</span></pre>\n"
      ],
      "text/plain": [
       "\u001b[33mStopping app - local entrypoint completed.\n",
       "\u001b[0m"
      ]
     },
     "metadata": {},
     "output_type": "display_data"
    },
    {
     "data": {
      "text/html": [
       "<pre style=\"white-space:pre;overflow-x:auto;line-height:normal;font-family:Menlo,'DejaVu Sans Mono',consolas,'Courier New',monospace\"><span style=\"color: #808000; text-decoration-color: #808000\">Runner terminated.\n",
       "</span></pre>\n"
      ],
      "text/plain": [
       "\u001b[33mRunner terminated.\n",
       "\u001b[0m"
      ]
     },
     "metadata": {},
     "output_type": "display_data"
    },
    {
     "data": {
      "text/html": [
       "<pre style=\"white-space:pre;overflow-x:auto;line-height:normal;font-family:Menlo,'DejaVu Sans Mono',consolas,'Courier New',monospace\"><span style=\"color: #008000; text-decoration-color: #008000\">✓</span> App completed. <span style=\"color: #b2b2b2; text-decoration-color: #b2b2b2\">View run at </span><span style=\"color: #b2b2b2; text-decoration-color: #b2b2b2; text-decoration: underline\">https://modal.com/apps/benny-guan97/main/ap-DpH9zLRBBHAPFBwTiDKQZb</span>\n",
       "</pre>\n"
      ],
      "text/plain": [
       "\u001b[32m✓\u001b[0m App completed. \u001b[38;5;249mView run at \u001b[0m\u001b[4;38;5;249mhttps://modal.com/apps/benny-guan97/main/ap-DpH9zLRBBHAPFBwTiDKQZb\u001b[0m\n"
      ]
     },
     "metadata": {},
     "output_type": "display_data"
    },
    {
     "data": {
      "text/plain": [
       "133.0"
      ]
     },
     "execution_count": 11,
     "metadata": {},
     "output_type": "execute_result"
    }
   ],
   "source": [
    "with modal.enable_output():\n",
    "    with app.run():\n",
    "        result=price.remote(\"Quadcast HyperX condenser mic, connects via usb-c to your computer for crystal clear audio\")\n",
    "result"
   ]
  },
  {
   "cell_type": "code",
   "execution_count": 12,
   "id": "5b645e4a-b43c-4387-ab7b-d62b37ae5633",
   "metadata": {
    "scrolled": true
   },
   "outputs": [
    {
     "name": "stdout",
     "output_type": "stream",
     "text": [
      "┌─ Modal Deprecation Warning (2025-02-06) ────────────────────────────────────┐\n",
      "│ Using Python module paths will require using the -m flag in a future        │\n",
      "│ version of Modal.                                                           │\n",
      "│ Use `modal deploy -m pricer_service` instead.                               │\n",
      "└─────────────────────────────────────────────────────────────────────────────┘\n",
      "- Creating objects...\n",
      "| Creating objects...\n",
      "└── - Creating mount D:\\Learning Square\\LLMs\\Untitled Folder\\pricer_service.py:\n",
      "    Finalizing index of 1 files\n",
      "/ Creating objects...\n",
      "├── 🔨 Created mount D:\\Learning Square\\LLMs\\Untitled Folder\\pricer_service.py\n",
      "└── 🔨 Created function price.\n",
      "\n",
      "✓ Created objects.\n",
      "├── 🔨 Created mount D:\\Learning Square\\LLMs\\Untitled Folder\\pricer_service.py\n",
      "└── 🔨 Created function price.\n",
      "✓ App deployed in 0.683s! 🎉\n",
      "\n",
      "View Deployment: \n",
      "https://modal.com/apps/benny-guan97/main/deployed/pricer-service\n"
     ]
    }
   ],
   "source": [
    "!modal deploy pricer_service"
   ]
  },
  {
   "cell_type": "code",
   "execution_count": 13,
   "id": "a64fa082-b68a-4ae6-a307-007598498d40",
   "metadata": {},
   "outputs": [
    {
     "name": "stderr",
     "output_type": "stream",
     "text": [
      "C:\\Users\\benny\\anaconda3\\envs\\llms\\Lib\\asyncio\\events.py:84: DeprecationError: 2025-01-27: `modal.Function.lookup` is deprecated and will be removed in a future release. It can be replaced with `modal.Function.from_name`.\n",
      "\n",
      "See https://modal.com/docs/guide/modal-1-0-migration for more information.\n",
      "  self._context.run(self._callback, *self._args)\n"
     ]
    }
   ],
   "source": [
    "pricer = modal.Function.from_name(\"pricer-service\", \"price\")"
   ]
  },
  {
   "cell_type": "code",
   "execution_count": 14,
   "id": "45d0bff1-2693-4ba0-b28e-13a523152018",
   "metadata": {},
   "outputs": [
    {
     "data": {
      "text/plain": [
       "133.0"
      ]
     },
     "execution_count": 14,
     "metadata": {},
     "output_type": "execute_result"
    }
   ],
   "source": [
    "pricer.remote(\"Quadcast HyperX condenser mic, connects via usb-c to your computer for crystal clear audio\")"
   ]
  },
  {
   "cell_type": "code",
   "execution_count": 15,
   "id": "7cf9d86a-a3ca-453b-bd33-f40176fb2652",
   "metadata": {
    "scrolled": true
   },
   "outputs": [
    {
     "name": "stdout",
     "output_type": "stream",
     "text": [
      "┌─ Modal Deprecation Warning (2025-01-15) ────────────────────────────────────┐\n",
      "│ The `@modal.build` decorator is deprecated and will be removed in a future  │\n",
      "│ release.                                                                    │\n",
      "│                                                                             │\n",
      "│ We now recommend storing large assets (such as model weights) using a       │\n",
      "│ `modal.Volume` instead of writing them directly into the `modal.Image`      │\n",
      "│ filesystem. For other use cases we recommend using `Image.run_function`     │\n",
      "│ instead.                                                                    │\n",
      "│                                                                             │\n",
      "│ See https://modal.com/docs/guide/modal-1-0-migration for more information.  │\n",
      "│                                                                             │\n",
      "│ Source: D:\\Learning Square\\LLMs\\Untitled Folder\\pricer_service2.py:29       │\n",
      "│   @modal.build()                                                            │\n",
      "└─────────────────────────────────────────────────────────────────────────────┘\n",
      "- Creating objects...\n",
      "| Creating objects...\n",
      "└── 🔨 Created mount D:\\Learning Square\\LLMs\\Untitled Folder\\pricer_service2.py\n",
      "- Creating objects...\n",
      "└── 🔨 Created mount D:\\Learning Square\\LLMs\\Untitled Folder\\pricer_service2.py\n",
      "| Creating objects...\n",
      "└── 🔨 Created mount D:\\Learning Square\\LLMs\\Untitled Folder\\pricer_service2.py\n",
      "Building image im-9tVZbK4JQOPitAkvelRdbv\n",
      "| Creating objects...\n",
      "└── 🔨 Created mount D:\\Learning Square\\LLMs\\Untitled Folder\\pricer_service2.py\n",
      "- Creating objects...\n",
      "└── 🔨 Created mount D:\\Learning Square\\LLMs\\Untitled Folder\\pricer_service2.py\n",
      "\n",
      "=> Step 0: FROM base\n",
      "| Creating objects...\n",
      "└── 🔨 Created mount D:\\Learning Square\\LLMs\\Untitled Folder\\pricer_service2.py\n",
      "\n",
      "=> Step 1: RUN python -m pip install accelerate bitsandbytes huggingface peft torch transformers\n",
      "| Creating objects...\n",
      "└── 🔨 Created mount D:\\Learning Square\\LLMs\\Untitled Folder\\pricer_service2.py\n",
      "| Creating objects...\n",
      "└── 🔨 Created mount D:\\Learning Square\\LLMs\\Untitled Folder\\pricer_service2.py\n",
      "- Creating objects...\n",
      "└── 🔨 Created mount D:\\Learning Square\\LLMs\\Untitled Folder\\pricer_service2.py\n",
      "| Creating objects...\n",
      "└── 🔨 Created mount D:\\Learning Square\\LLMs\\Untitled Folder\\pricer_service2.py\n",
      "- Creating objects...\n",
      "└── 🔨 Created mount D:\\Learning Square\\LLMs\\Untitled Folder\\pricer_service2.py\n",
      "| Creating objects...\n",
      "└── 🔨 Created mount D:\\Learning Square\\LLMs\\Untitled Folder\\pricer_service2.py\n",
      "- Creating objects...\n",
      "└── 🔨 Created mount D:\\Learning Square\\LLMs\\Untitled Folder\\pricer_service2.py\n",
      "Looking in indexes: http://pypi-mirror.modal.local:5555/simple\n",
      "| Creating objects...\n",
      "└── 🔨 Created mount D:\\Learning Square\\LLMs\\Untitled Folder\\pricer_service2.py\n",
      "| Creating objects...\n",
      "└── 🔨 Created mount D:\\Learning Square\\LLMs\\Untitled Folder\\pricer_service2.py\n",
      "- Creating objects...\n",
      "└── 🔨 Created mount D:\\Learning Square\\LLMs\\Untitled Folder\\pricer_service2.py\n",
      "Collecting accelerate\n",
      "- Creating objects...\n",
      "└── 🔨 Created mount D:\\Learning Square\\LLMs\\Untitled Folder\\pricer_service2.py\n",
      "  Downloading http://pypi-mirror.modal.local:5555/simple/accelerate/accelerate-1.6.0-py3-none-any.whl.metadata (19 kB)\n",
      "- Creating objects...\n",
      "└── 🔨 Created mount D:\\Learning Square\\LLMs\\Untitled Folder\\pricer_service2.py\n",
      "Collecting bitsandbytes\n",
      "- Creating objects...\n",
      "└── 🔨 Created mount D:\\Learning Square\\LLMs\\Untitled Folder\\pricer_service2.py\n",
      "  Downloading http://pypi-mirror.modal.local:5555/simple/bitsandbytes/bitsandbytes-0.45.5-py3-none-manylinux_2_24_x86_64.whl.metadata (5.0 kB)\n",
      "- Creating objects...\n",
      "└── 🔨 Created mount D:\\Learning Square\\LLMs\\Untitled Folder\\pricer_service2.py\n",
      "| Creating objects...\n",
      "└── 🔨 Created mount D:\\Learning Square\\LLMs\\Untitled Folder\\pricer_service2.py\n",
      "Collecting huggingface\n",
      "| Creating objects...\n",
      "└── 🔨 Created mount D:\\Learning Square\\LLMs\\Untitled Folder\\pricer_service2.py\n",
      "  Downloading http://pypi-mirror.modal.local:5555/simple/huggingface/huggingface-0.0.1-py3-none-any.whl.metadata (2.9 kB)\n",
      "| Creating objects...\n",
      "└── 🔨 Created mount D:\\Learning Square\\LLMs\\Untitled Folder\\pricer_service2.py\n",
      "Collecting peft\n",
      "| Creating objects...\n",
      "└── 🔨 Created mount D:\\Learning Square\\LLMs\\Untitled Folder\\pricer_service2.py\n",
      "  Downloading http://pypi-mirror.modal.local:5555/simple/peft/peft-0.15.2-py3-none-any.whl.metadata (13 kB)\n",
      "| Creating objects...\n",
      "└── 🔨 Created mount D:\\Learning Square\\LLMs\\Untitled Folder\\pricer_service2.py\n",
      "- Creating objects...\n",
      "└── 🔨 Created mount D:\\Learning Square\\LLMs\\Untitled Folder\\pricer_service2.py\n",
      "Collecting torch\n",
      "- Creating objects...\n",
      "└── 🔨 Created mount D:\\Learning Square\\LLMs\\Untitled Folder\\pricer_service2.py\n",
      "  Downloading http://pypi-mirror.modal.local:5555/simple/torch/torch-2.7.0-cp311-cp311-manylinux_2_28_x86_64.whl.metadata (29 kB)\n",
      "- Creating objects...\n",
      "└── 🔨 Created mount D:\\Learning Square\\LLMs\\Untitled Folder\\pricer_service2.py\n",
      "Collecting transformers\n",
      "- Creating objects...\n",
      "└── 🔨 Created mount D:\\Learning Square\\LLMs\\Untitled Folder\\pricer_service2.py\n",
      "  Downloading http://pypi-mirror.modal.local:5555/simple/transformers/transformers-4.51.3-py3-none-any.whl.metadata (38 kB)\n",
      "- Creating objects...\n",
      "└── 🔨 Created mount D:\\Learning Square\\LLMs\\Untitled Folder\\pricer_service2.py\n",
      "| Creating objects...\n",
      "└── 🔨 Created mount D:\\Learning Square\\LLMs\\Untitled Folder\\pricer_service2.py\n",
      "Collecting numpy<3.0.0,>=1.17 (from accelerate)\n",
      "| Creating objects...\n",
      "└── 🔨 Created mount D:\\Learning Square\\LLMs\\Untitled Folder\\pricer_service2.py\n",
      "- Creating objects...\n",
      "└── 🔨 Created mount D:\\Learning Square\\LLMs\\Untitled Folder\\pricer_service2.py\n",
      "  Downloading http://pypi-mirror.modal.local:5555/simple/numpy/numpy-2.2.5-cp311-cp311-manylinux_2_17_x86_64.manylinux2014_x86_64.whl.metadata (62 kB)\n",
      "- Creating objects...\n",
      "└── 🔨 Created mount D:\\Learning Square\\LLMs\\Untitled Folder\\pricer_service2.py\n",
      "Collecting packaging>=20.0 (from accelerate)\n",
      "- Creating objects...\n",
      "└── 🔨 Created mount D:\\Learning Square\\LLMs\\Untitled Folder\\pricer_service2.py\n",
      "  Downloading http://pypi-mirror.modal.local:5555/simple/packaging/packaging-25.0-py3-none-any.whl.metadata (3.3 kB)\n",
      "- Creating objects...\n",
      "└── 🔨 Created mount D:\\Learning Square\\LLMs\\Untitled Folder\\pricer_service2.py\n",
      "Collecting psutil (from accelerate)\n",
      "- Creating objects...\n",
      "└── 🔨 Created mount D:\\Learning Square\\LLMs\\Untitled Folder\\pricer_service2.py\n",
      "  Downloading http://pypi-mirror.modal.local:5555/simple/psutil/psutil-7.0.0-cp36-abi3-manylinux_2_12_x86_64.manylinux2010_x86_64.manylinux_2_17_x86_64.manylinux2014_x86_64.whl.metadata (22 kB)\n",
      "- Creating objects...\n",
      "└── 🔨 Created mount D:\\Learning Square\\LLMs\\Untitled Folder\\pricer_service2.py\n",
      "Collecting pyyaml (from accelerate)\n",
      "- Creating objects...\n",
      "└── 🔨 Created mount D:\\Learning Square\\LLMs\\Untitled Folder\\pricer_service2.py\n",
      "  Downloading http://pypi-mirror.modal.local:5555/simple/pyyaml/PyYAML-6.0.2-cp311-cp311-manylinux_2_17_x86_64.manylinux2014_x86_64.whl.metadata (2.1 kB)\n",
      "- Creating objects...\n",
      "└── 🔨 Created mount D:\\Learning Square\\LLMs\\Untitled Folder\\pricer_service2.py\n",
      "| Creating objects...\n",
      "└── 🔨 Created mount D:\\Learning Square\\LLMs\\Untitled Folder\\pricer_service2.py\n",
      "Collecting huggingface-hub>=0.21.0 (from accelerate)\n",
      "| Creating objects...\n",
      "└── 🔨 Created mount D:\\Learning Square\\LLMs\\Untitled Folder\\pricer_service2.py\n",
      "  Downloading http://pypi-mirror.modal.local:5555/simple/huggingface-hub/huggingface_hub-0.31.1-py3-none-any.whl.metadata (13 kB)\n",
      "| Creating objects...\n",
      "└── 🔨 Created mount D:\\Learning Square\\LLMs\\Untitled Folder\\pricer_service2.py\n",
      "Collecting safetensors>=0.4.3 (from accelerate)\n",
      "| Creating objects...\n",
      "└── 🔨 Created mount D:\\Learning Square\\LLMs\\Untitled Folder\\pricer_service2.py\n",
      "  Downloading http://pypi-mirror.modal.local:5555/simple/safetensors/safetensors-0.5.3-cp38-abi3-manylinux_2_17_x86_64.manylinux2014_x86_64.whl.metadata (3.8 kB)\n",
      "| Creating objects...\n",
      "└── 🔨 Created mount D:\\Learning Square\\LLMs\\Untitled Folder\\pricer_service2.py\n",
      "- Creating objects...\n",
      "└── 🔨 Created mount D:\\Learning Square\\LLMs\\Untitled Folder\\pricer_service2.py\n",
      "Collecting tqdm (from peft)\n",
      "- Creating objects...\n",
      "└── 🔨 Created mount D:\\Learning Square\\LLMs\\Untitled Folder\\pricer_service2.py\n",
      "  Downloading http://pypi-mirror.modal.local:5555/simple/tqdm/tqdm-4.67.1-py3-none-any.whl.metadata (57 kB)\n",
      "- Creating objects...\n",
      "└── 🔨 Created mount D:\\Learning Square\\LLMs\\Untitled Folder\\pricer_service2.py\n",
      "Collecting filelock (from torch)\n",
      "- Creating objects...\n",
      "└── 🔨 Created mount D:\\Learning Square\\LLMs\\Untitled Folder\\pricer_service2.py\n",
      "  Downloading http://pypi-mirror.modal.local:5555/simple/filelock/filelock-3.18.0-py3-none-any.whl.metadata (2.9 kB)\n",
      "- Creating objects...\n",
      "└── 🔨 Created mount D:\\Learning Square\\LLMs\\Untitled Folder\\pricer_service2.py\n",
      "Requirement already satisfied: typing-extensions>=4.10.0 in /usr/local/lib/python3.11/site-packages (from torch) (4.12.2)\n",
      "- Creating objects...\n",
      "└── 🔨 Created mount D:\\Learning Square\\LLMs\\Untitled Folder\\pricer_service2.py\n",
      "Collecting sympy>=1.13.3 (from torch)\n",
      "\\ Creating objects...\n",
      "└── 🔨 Created mount D:\\Learning Square\\LLMs\\Untitled Folder\\pricer_service2.py\n",
      "  Downloading http://pypi-mirror.modal.local:5555/simple/sympy/sympy-1.14.0-py3-none-any.whl.metadata (12 kB)\n",
      "\\ Creating objects...\n",
      "└── 🔨 Created mount D:\\Learning Square\\LLMs\\Untitled Folder\\pricer_service2.py\n",
      "Collecting networkx (from torch)\n",
      "\\ Creating objects...\n",
      "└── 🔨 Created mount D:\\Learning Square\\LLMs\\Untitled Folder\\pricer_service2.py\n",
      "  Downloading http://pypi-mirror.modal.local:5555/simple/networkx/networkx-3.4.2-py3-none-any.whl.metadata (6.3 kB)\n",
      "\\ Creating objects...\n",
      "└── 🔨 Created mount D:\\Learning Square\\LLMs\\Untitled Folder\\pricer_service2.py\n",
      "Collecting jinja2 (from torch)\n",
      "\\ Creating objects...\n",
      "└── 🔨 Created mount D:\\Learning Square\\LLMs\\Untitled Folder\\pricer_service2.py\n",
      "  Downloading http://pypi-mirror.modal.local:5555/simple/jinja2/jinja2-3.1.6-py3-none-any.whl.metadata (2.9 kB)\n",
      "\\ Creating objects...\n",
      "└── 🔨 Created mount D:\\Learning Square\\LLMs\\Untitled Folder\\pricer_service2.py\n",
      "| Creating objects...\n",
      "└── 🔨 Created mount D:\\Learning Square\\LLMs\\Untitled Folder\\pricer_service2.py\n",
      "Collecting fsspec (from torch)\n",
      "/ Creating objects...\n",
      "└── 🔨 Created mount D:\\Learning Square\\LLMs\\Untitled Folder\\pricer_service2.py\n",
      "  Downloading http://pypi-mirror.modal.local:5555/simple/fsspec/fsspec-2025.3.2-py3-none-any.whl.metadata (11 kB)\n",
      "/ Creating objects...\n",
      "└── 🔨 Created mount D:\\Learning Square\\LLMs\\Untitled Folder\\pricer_service2.py\n",
      "Collecting nvidia-cuda-nvrtc-cu12==12.6.77 (from torch)\n",
      "/ Creating objects...\n",
      "└── 🔨 Created mount D:\\Learning Square\\LLMs\\Untitled Folder\\pricer_service2.py\n",
      "  Downloading http://pypi-mirror.modal.local:5555/simple/nvidia-cuda-nvrtc-cu12/nvidia_cuda_nvrtc_cu12-12.6.77-py3-none-manylinux2014_x86_64.whl.metadata (1.5 kB)\n",
      "/ Creating objects...\n",
      "└── 🔨 Created mount D:\\Learning Square\\LLMs\\Untitled Folder\\pricer_service2.py\n",
      "Collecting nvidia-cuda-runtime-cu12==12.6.77 (from torch)\n",
      "/ Creating objects...\n",
      "└── 🔨 Created mount D:\\Learning Square\\LLMs\\Untitled Folder\\pricer_service2.py\n",
      "  Downloading http://pypi-mirror.modal.local:5555/simple/nvidia-cuda-runtime-cu12/nvidia_cuda_runtime_cu12-12.6.77-py3-none-manylinux2014_x86_64.manylinux_2_17_x86_64.whl.metadata (1.5 kB)\n",
      "/ Creating objects...\n",
      "└── 🔨 Created mount D:\\Learning Square\\LLMs\\Untitled Folder\\pricer_service2.py\n",
      "Collecting nvidia-cuda-cupti-cu12==12.6.80 (from torch)\n",
      "/ Creating objects...\n",
      "└── 🔨 Created mount D:\\Learning Square\\LLMs\\Untitled Folder\\pricer_service2.py\n",
      "  Downloading http://pypi-mirror.modal.local:5555/simple/nvidia-cuda-cupti-cu12/nvidia_cuda_cupti_cu12-12.6.80-py3-none-manylinux2014_x86_64.manylinux_2_17_x86_64.whl.metadata (1.6 kB)\n",
      "/ Creating objects...\n",
      "└── 🔨 Created mount D:\\Learning Square\\LLMs\\Untitled Folder\\pricer_service2.py\n",
      "Collecting nvidia-cudnn-cu12==9.5.1.17 (from torch)\n",
      "/ Creating objects...\n",
      "└── 🔨 Created mount D:\\Learning Square\\LLMs\\Untitled Folder\\pricer_service2.py\n",
      "  Downloading http://pypi-mirror.modal.local:5555/simple/nvidia-cudnn-cu12/nvidia_cudnn_cu12-9.5.1.17-py3-none-manylinux_2_28_x86_64.whl.metadata (1.6 kB)\n",
      "/ Creating objects...\n",
      "└── 🔨 Created mount D:\\Learning Square\\LLMs\\Untitled Folder\\pricer_service2.py\n",
      "Collecting nvidia-cublas-cu12==12.6.4.1 (from torch)\n",
      "/ Creating objects...\n",
      "└── 🔨 Created mount D:\\Learning Square\\LLMs\\Untitled Folder\\pricer_service2.py\n",
      "  Downloading http://pypi-mirror.modal.local:5555/simple/nvidia-cublas-cu12/nvidia_cublas_cu12-12.6.4.1-py3-none-manylinux2014_x86_64.manylinux_2_17_x86_64.whl.metadata (1.5 kB)\n",
      "/ Creating objects...\n",
      "└── 🔨 Created mount D:\\Learning Square\\LLMs\\Untitled Folder\\pricer_service2.py\n",
      "Collecting nvidia-cufft-cu12==11.3.0.4 (from torch)\n",
      "/ Creating objects...\n",
      "└── 🔨 Created mount D:\\Learning Square\\LLMs\\Untitled Folder\\pricer_service2.py\n",
      "  Downloading http://pypi-mirror.modal.local:5555/simple/nvidia-cufft-cu12/nvidia_cufft_cu12-11.3.0.4-py3-none-manylinux2014_x86_64.manylinux_2_17_x86_64.whl.metadata (1.5 kB)\n",
      "/ Creating objects...\n",
      "└── 🔨 Created mount D:\\Learning Square\\LLMs\\Untitled Folder\\pricer_service2.py\n",
      "Collecting nvidia-curand-cu12==10.3.7.77 (from torch)\n",
      "/ Creating objects...\n",
      "└── 🔨 Created mount D:\\Learning Square\\LLMs\\Untitled Folder\\pricer_service2.py\n",
      "  Downloading http://pypi-mirror.modal.local:5555/simple/nvidia-curand-cu12/nvidia_curand_cu12-10.3.7.77-py3-none-manylinux2014_x86_64.manylinux_2_17_x86_64.whl.metadata (1.5 kB)\n",
      "/ Creating objects...\n",
      "└── 🔨 Created mount D:\\Learning Square\\LLMs\\Untitled Folder\\pricer_service2.py\n",
      "- Creating objects...\n",
      "└── 🔨 Created mount D:\\Learning Square\\LLMs\\Untitled Folder\\pricer_service2.py\n",
      "Collecting nvidia-cusolver-cu12==11.7.1.2 (from torch)\n",
      "\\ Creating objects...\n",
      "└── 🔨 Created mount D:\\Learning Square\\LLMs\\Untitled Folder\\pricer_service2.py\n",
      "  Downloading http://pypi-mirror.modal.local:5555/simple/nvidia-cusolver-cu12/nvidia_cusolver_cu12-11.7.1.2-py3-none-manylinux2014_x86_64.manylinux_2_17_x86_64.whl.metadata (1.6 kB)\n",
      "\\ Creating objects...\n",
      "└── 🔨 Created mount D:\\Learning Square\\LLMs\\Untitled Folder\\pricer_service2.py\n",
      "Collecting nvidia-cusparse-cu12==12.5.4.2 (from torch)\n",
      "\\ Creating objects...\n",
      "└── 🔨 Created mount D:\\Learning Square\\LLMs\\Untitled Folder\\pricer_service2.py\n",
      "  Downloading http://pypi-mirror.modal.local:5555/simple/nvidia-cusparse-cu12/nvidia_cusparse_cu12-12.5.4.2-py3-none-manylinux2014_x86_64.manylinux_2_17_x86_64.whl.metadata (1.6 kB)\n",
      "\\ Creating objects...\n",
      "└── 🔨 Created mount D:\\Learning Square\\LLMs\\Untitled Folder\\pricer_service2.py\n",
      "Collecting nvidia-cusparselt-cu12==0.6.3 (from torch)\n",
      "\\ Creating objects...\n",
      "└── 🔨 Created mount D:\\Learning Square\\LLMs\\Untitled Folder\\pricer_service2.py\n",
      "  Downloading http://pypi-mirror.modal.local:5555/simple/nvidia-cusparselt-cu12/nvidia_cusparselt_cu12-0.6.3-py3-none-manylinux2014_x86_64.whl.metadata (6.8 kB)\n",
      "\\ Creating objects...\n",
      "└── 🔨 Created mount D:\\Learning Square\\LLMs\\Untitled Folder\\pricer_service2.py\n",
      "Collecting nvidia-nccl-cu12==2.26.2 (from torch)\n",
      "\\ Creating objects...\n",
      "└── 🔨 Created mount D:\\Learning Square\\LLMs\\Untitled Folder\\pricer_service2.py\n",
      "  Downloading http://pypi-mirror.modal.local:5555/simple/nvidia-nccl-cu12/nvidia_nccl_cu12-2.26.2-py3-none-manylinux2014_x86_64.manylinux_2_17_x86_64.whl.metadata (2.0 kB)\n",
      "\\ Creating objects...\n",
      "└── 🔨 Created mount D:\\Learning Square\\LLMs\\Untitled Folder\\pricer_service2.py\n",
      "Collecting nvidia-nvtx-cu12==12.6.77 (from torch)\n",
      "\\ Creating objects...\n",
      "└── 🔨 Created mount D:\\Learning Square\\LLMs\\Untitled Folder\\pricer_service2.py\n",
      "  Downloading http://pypi-mirror.modal.local:5555/simple/nvidia-nvtx-cu12/nvidia_nvtx_cu12-12.6.77-py3-none-manylinux2014_x86_64.manylinux_2_17_x86_64.whl.metadata (1.6 kB)\n",
      "\\ Creating objects...\n",
      "└── 🔨 Created mount D:\\Learning Square\\LLMs\\Untitled Folder\\pricer_service2.py\n",
      "Collecting nvidia-nvjitlink-cu12==12.6.85 (from torch)\n",
      "\\ Creating objects...\n",
      "└── 🔨 Created mount D:\\Learning Square\\LLMs\\Untitled Folder\\pricer_service2.py\n",
      "  Downloading http://pypi-mirror.modal.local:5555/simple/nvidia-nvjitlink-cu12/nvidia_nvjitlink_cu12-12.6.85-py3-none-manylinux2010_x86_64.manylinux_2_12_x86_64.whl.metadata (1.5 kB)\n",
      "\\ Creating objects...\n",
      "└── 🔨 Created mount D:\\Learning Square\\LLMs\\Untitled Folder\\pricer_service2.py\n",
      "Collecting nvidia-cufile-cu12==1.11.1.6 (from torch)\n",
      "\\ Creating objects...\n",
      "└── 🔨 Created mount D:\\Learning Square\\LLMs\\Untitled Folder\\pricer_service2.py\n",
      "  Downloading http://pypi-mirror.modal.local:5555/simple/nvidia-cufile-cu12/nvidia_cufile_cu12-1.11.1.6-py3-none-manylinux2014_x86_64.manylinux_2_17_x86_64.whl.metadata (1.5 kB)\n",
      "\\ Creating objects...\n",
      "└── 🔨 Created mount D:\\Learning Square\\LLMs\\Untitled Folder\\pricer_service2.py\n",
      "Collecting triton==3.3.0 (from torch)\n",
      "\\ Creating objects...\n",
      "└── 🔨 Created mount D:\\Learning Square\\LLMs\\Untitled Folder\\pricer_service2.py\n",
      "  Downloading http://pypi-mirror.modal.local:5555/simple/triton/triton-3.3.0-cp311-cp311-manylinux_2_27_x86_64.manylinux_2_28_x86_64.whl.metadata (1.5 kB)\n",
      "\\ Creating objects...\n",
      "└── 🔨 Created mount D:\\Learning Square\\LLMs\\Untitled Folder\\pricer_service2.py\n",
      "Requirement already satisfied: setuptools>=40.8.0 in /usr/local/lib/python3.11/site-packages (from triton==3.3.0->torch) (65.5.1)\n",
      "\\ Creating objects...\n",
      "└── 🔨 Created mount D:\\Learning Square\\LLMs\\Untitled Folder\\pricer_service2.py\n",
      "| Creating objects...\n",
      "└── 🔨 Created mount D:\\Learning Square\\LLMs\\Untitled Folder\\pricer_service2.py\n",
      "Collecting regex!=2019.12.17 (from transformers)\n",
      "- Creating objects...\n",
      "└── 🔨 Created mount D:\\Learning Square\\LLMs\\Untitled Folder\\pricer_service2.py\n",
      "- Creating objects...\n",
      "└── 🔨 Created mount D:\\Learning Square\\LLMs\\Untitled Folder\\pricer_service2.py\n",
      "  Downloading http://pypi-mirror.modal.local:5555/simple/regex/regex-2024.11.6-cp311-cp311-manylinux_2_17_x86_64.manylinux2014_x86_64.whl.metadata (40 kB)\n",
      "| Creating objects...\n",
      "└── 🔨 Created mount D:\\Learning Square\\LLMs\\Untitled Folder\\pricer_service2.py\n",
      "| Creating objects...\n",
      "└── 🔨 Created mount D:\\Learning Square\\LLMs\\Untitled Folder\\pricer_service2.py\n",
      "Collecting requests (from transformers)\n",
      "| Creating objects...\n",
      "└── 🔨 Created mount D:\\Learning Square\\LLMs\\Untitled Folder\\pricer_service2.py\n",
      "  Downloading http://pypi-mirror.modal.local:5555/simple/requests/requests-2.32.3-py3-none-any.whl.metadata (4.6 kB)\n",
      "| Creating objects...\n",
      "└── 🔨 Created mount D:\\Learning Square\\LLMs\\Untitled Folder\\pricer_service2.py\n",
      "Collecting tokenizers<0.22,>=0.21 (from transformers)\n",
      "- Creating objects...\n",
      "└── 🔨 Created mount D:\\Learning Square\\LLMs\\Untitled Folder\\pricer_service2.py\n",
      "  Downloading http://pypi-mirror.modal.local:5555/simple/tokenizers/tokenizers-0.21.1-cp39-abi3-manylinux_2_17_x86_64.manylinux2014_x86_64.whl.metadata (6.8 kB)\n",
      "- Creating objects...\n",
      "└── 🔨 Created mount D:\\Learning Square\\LLMs\\Untitled Folder\\pricer_service2.py\n",
      "Collecting hf-xet<2.0.0,>=1.1.0 (from huggingface-hub>=0.21.0->accelerate)\n",
      "- Creating objects...\n",
      "└── 🔨 Created mount D:\\Learning Square\\LLMs\\Untitled Folder\\pricer_service2.py\n",
      "- Creating objects...\n",
      "└── 🔨 Created mount D:\\Learning Square\\LLMs\\Untitled Folder\\pricer_service2.py\n",
      "  Downloading http://pypi-mirror.modal.local:5555/simple/hf-xet/hf_xet-1.1.0-cp37-abi3-manylinux_2_17_x86_64.manylinux2014_x86_64.whl.metadata (494 bytes)\n",
      "- Creating objects...\n",
      "└── 🔨 Created mount D:\\Learning Square\\LLMs\\Untitled Folder\\pricer_service2.py\n",
      "Collecting mpmath<1.4,>=1.1.0 (from sympy>=1.13.3->torch)\n",
      "- Creating objects...\n",
      "└── 🔨 Created mount D:\\Learning Square\\LLMs\\Untitled Folder\\pricer_service2.py\n",
      "  Downloading http://pypi-mirror.modal.local:5555/simple/mpmath/mpmath-1.3.0-py3-none-any.whl.metadata (8.6 kB)\n",
      "- Creating objects...\n",
      "└── 🔨 Created mount D:\\Learning Square\\LLMs\\Untitled Folder\\pricer_service2.py\n",
      "Collecting MarkupSafe>=2.0 (from jinja2->torch)\n",
      "- Creating objects...\n",
      "└── 🔨 Created mount D:\\Learning Square\\LLMs\\Untitled Folder\\pricer_service2.py\n",
      "  Downloading http://pypi-mirror.modal.local:5555/simple/markupsafe/MarkupSafe-3.0.2-cp311-cp311-manylinux_2_17_x86_64.manylinux2014_x86_64.whl.metadata (4.0 kB)\n",
      "- Creating objects...\n",
      "└── 🔨 Created mount D:\\Learning Square\\LLMs\\Untitled Folder\\pricer_service2.py\n",
      "Collecting charset-normalizer<4,>=2 (from requests->transformers)\n",
      "| Creating objects...\n",
      "└── 🔨 Created mount D:\\Learning Square\\LLMs\\Untitled Folder\\pricer_service2.py\n",
      "  Downloading http://pypi-mirror.modal.local:5555/simple/charset-normalizer/charset_normalizer-3.4.2-cp311-cp311-manylinux_2_17_x86_64.manylinux2014_x86_64.whl.metadata (35 kB)\n",
      "| Creating objects...\n",
      "└── 🔨 Created mount D:\\Learning Square\\LLMs\\Untitled Folder\\pricer_service2.py\n",
      "Requirement already satisfied: idna<4,>=2.5 in /usr/local/lib/python3.11/site-packages (from requests->transformers) (3.10)\n",
      "| Creating objects...\n",
      "└── 🔨 Created mount D:\\Learning Square\\LLMs\\Untitled Folder\\pricer_service2.py\n",
      "| Creating objects...\n",
      "└── 🔨 Created mount D:\\Learning Square\\LLMs\\Untitled Folder\\pricer_service2.py\n",
      "Collecting urllib3<3,>=1.21.1 (from requests->transformers)\n",
      "| Creating objects...\n",
      "└── 🔨 Created mount D:\\Learning Square\\LLMs\\Untitled Folder\\pricer_service2.py\n",
      "  Downloading http://pypi-mirror.modal.local:5555/simple/urllib3/urllib3-2.4.0-py3-none-any.whl.metadata (6.5 kB)\n",
      "Requirement already satisfied: certifi>=2017.4.17 in /usr/local/lib/python3.11/site-packages (from requests->transformers) (2024.8.30)\n",
      "| Creating objects...\n",
      "└── 🔨 Created mount D:\\Learning Square\\LLMs\\Untitled Folder\\pricer_service2.py\n",
      "Downloading http://pypi-mirror.modal.local:5555/simple/accelerate/accelerate-1.6.0-py3-none-any.whl (354 kB)\n",
      "| Creating objects...\n",
      "└── 🔨 Created mount D:\\Learning Square\\LLMs\\Untitled Folder\\pricer_service2.py\n",
      "Downloading http://pypi-mirror.modal.local:5555/simple/bitsandbytes/bitsandbytes-0.45.5-py3-none-manylinux_2_24_x86_64.whl (76.1 MB)\n",
      "| Creating objects...\n",
      "└── 🔨 Created mount D:\\Learning Square\\LLMs\\Untitled Folder\\pricer_service2.py\n",
      "- Creating objects...\n",
      "└── 🔨 Created mount D:\\Learning Square\\LLMs\\Untitled Folder\\pricer_service2.py\n",
      "| Creating objects...\n",
      "└── 🔨 Created mount D:\\Learning Square\\LLMs\\Untitled Folder\\pricer_service2.py\n",
      "/ Creating objects...\n",
      "└── 🔨 Created mount D:\\Learning Square\\LLMs\\Untitled Folder\\pricer_service2.py\n",
      "- Creating objects...\n",
      "└── 🔨 Created mount D:\\Learning Square\\LLMs\\Untitled Folder\\pricer_service2.py\n",
      "   ━━━━━━━━━━━━━━━━━━━━━━━━━━━━━━━━━━━━━━━━ 76.1/76.1 MB 128.1 MB/s eta 0:00:00\n",
      "\\ Creating objects...\n",
      "└── 🔨 Created mount D:\\Learning Square\\LLMs\\Untitled Folder\\pricer_service2.py\n",
      "Downloading http://pypi-mirror.modal.local:5555/simple/huggingface/huggingface-0.0.1-py3-none-any.whl (2.5 kB)\n",
      "\\ Creating objects...\n",
      "└── 🔨 Created mount D:\\Learning Square\\LLMs\\Untitled Folder\\pricer_service2.py\n",
      "Downloading http://pypi-mirror.modal.local:5555/simple/peft/peft-0.15.2-py3-none-any.whl (411 kB)\n",
      "\\ Creating objects...\n",
      "└── 🔨 Created mount D:\\Learning Square\\LLMs\\Untitled Folder\\pricer_service2.py\n",
      "Downloading http://pypi-mirror.modal.local:5555/simple/torch/torch-2.7.0-cp311-cp311-manylinux_2_28_x86_64.whl (865.2 MB)\n",
      "\\ Creating objects...\n",
      "└── 🔨 Created mount D:\\Learning Square\\LLMs\\Untitled Folder\\pricer_service2.py\n",
      "| Creating objects...\n",
      "└── 🔨 Created mount D:\\Learning Square\\LLMs\\Untitled Folder\\pricer_service2.py\n",
      "- Creating objects...\n",
      "└── 🔨 Created mount D:\\Learning Square\\LLMs\\Untitled Folder\\pricer_service2.py\n",
      "| Creating objects...\n",
      "└── 🔨 Created mount D:\\Learning Square\\LLMs\\Untitled Folder\\pricer_service2.py\n",
      "\\ Creating objects...\n",
      "└── 🔨 Created mount D:\\Learning Square\\LLMs\\Untitled Folder\\pricer_service2.py\n",
      "| Creating objects...\n",
      "└── 🔨 Created mount D:\\Learning Square\\LLMs\\Untitled Folder\\pricer_service2.py\n",
      "\\ Creating objects...\n",
      "└── 🔨 Created mount D:\\Learning Square\\LLMs\\Untitled Folder\\pricer_service2.py\n",
      "/ Creating objects...\n",
      "└── 🔨 Created mount D:\\Learning Square\\LLMs\\Untitled Folder\\pricer_service2.py\n",
      "\\ Creating objects...\n",
      "└── 🔨 Created mount D:\\Learning Square\\LLMs\\Untitled Folder\\pricer_service2.py\n",
      "/ Creating objects...\n",
      "└── 🔨 Created mount D:\\Learning Square\\LLMs\\Untitled Folder\\pricer_service2.py\n",
      "\\ Creating objects...\n",
      "└── 🔨 Created mount D:\\Learning Square\\LLMs\\Untitled Folder\\pricer_service2.py\n",
      "/ Creating objects...\n",
      "└── 🔨 Created mount D:\\Learning Square\\LLMs\\Untitled Folder\\pricer_service2.py\n",
      "\\ Creating objects...\n",
      "└── 🔨 Created mount D:\\Learning Square\\LLMs\\Untitled Folder\\pricer_service2.py\n",
      "/ Creating objects...\n",
      "└── 🔨 Created mount D:\\Learning Square\\LLMs\\Untitled Folder\\pricer_service2.py\n",
      "\\ Creating objects...\n",
      "└── 🔨 Created mount D:\\Learning Square\\LLMs\\Untitled Folder\\pricer_service2.py\n",
      "/ Creating objects...\n",
      "└── 🔨 Created mount D:\\Learning Square\\LLMs\\Untitled Folder\\pricer_service2.py\n",
      "\\ Creating objects...\n",
      "└── 🔨 Created mount D:\\Learning Square\\LLMs\\Untitled Folder\\pricer_service2.py\n",
      "/ Creating objects...\n",
      "└── 🔨 Created mount D:\\Learning Square\\LLMs\\Untitled Folder\\pricer_service2.py\n",
      "\\ Creating objects...\n",
      "└── 🔨 Created mount D:\\Learning Square\\LLMs\\Untitled Folder\\pricer_service2.py\n",
      "\\ Creating objects...\n",
      "└── 🔨 Created mount D:\\Learning Square\\LLMs\\Untitled Folder\\pricer_service2.py\n",
      "/ Creating objects...\n",
      "└── 🔨 Created mount D:\\Learning Square\\LLMs\\Untitled Folder\\pricer_service2.py\n",
      "   ━━━━━━━━━━━━━━━━━━━━━━━━━━━━━━━━━━━━━━━ 865.2/865.2 MB 176.9 MB/s eta 0:00:00\n",
      "/ Creating objects...\n",
      "└── 🔨 Created mount D:\\Learning Square\\LLMs\\Untitled Folder\\pricer_service2.py\n",
      "Downloading http://pypi-mirror.modal.local:5555/simple/nvidia-cublas-cu12/nvidia_cublas_cu12-12.6.4.1-py3-none-manylinux2014_x86_64.manylinux_2_17_x86_64.whl (393.1 MB)\n",
      "/ Creating objects...\n",
      "└── 🔨 Created mount D:\\Learning Square\\LLMs\\Untitled Folder\\pricer_service2.py\n",
      "\\ Creating objects...\n",
      "└── 🔨 Created mount D:\\Learning Square\\LLMs\\Untitled Folder\\pricer_service2.py\n",
      "/ Creating objects...\n",
      "└── 🔨 Created mount D:\\Learning Square\\LLMs\\Untitled Folder\\pricer_service2.py\n",
      "\\ Creating objects...\n",
      "└── 🔨 Created mount D:\\Learning Square\\LLMs\\Untitled Folder\\pricer_service2.py\n",
      "/ Creating objects...\n",
      "└── 🔨 Created mount D:\\Learning Square\\LLMs\\Untitled Folder\\pricer_service2.py\n",
      "\\ Creating objects...\n",
      "└── 🔨 Created mount D:\\Learning Square\\LLMs\\Untitled Folder\\pricer_service2.py\n",
      "/ Creating objects...\n",
      "└── 🔨 Created mount D:\\Learning Square\\LLMs\\Untitled Folder\\pricer_service2.py\n",
      "\\ Creating objects...\n",
      "└── 🔨 Created mount D:\\Learning Square\\LLMs\\Untitled Folder\\pricer_service2.py\n",
      "| Creating objects...\n",
      "└── 🔨 Created mount D:\\Learning Square\\LLMs\\Untitled Folder\\pricer_service2.py\n",
      "/ Creating objects...\n",
      "└── 🔨 Created mount D:\\Learning Square\\LLMs\\Untitled Folder\\pricer_service2.py\n",
      "   ━━━━━━━━━━━━━━━━━━━━━━━━━━━━━━━━━━━━━━━ 393.1/393.1 MB 168.2 MB/s eta 0:00:00\n",
      "- Creating objects...\n",
      "└── 🔨 Created mount D:\\Learning Square\\LLMs\\Untitled Folder\\pricer_service2.py\n",
      "Downloading http://pypi-mirror.modal.local:5555/simple/nvidia-cuda-cupti-cu12/nvidia_cuda_cupti_cu12-12.6.80-py3-none-manylinux2014_x86_64.manylinux_2_17_x86_64.whl (8.9 MB)\n",
      "- Creating objects...\n",
      "└── 🔨 Created mount D:\\Learning Square\\LLMs\\Untitled Folder\\pricer_service2.py\n",
      "- Creating objects...\n",
      "└── 🔨 Created mount D:\\Learning Square\\LLMs\\Untitled Folder\\pricer_service2.py\n",
      "   ━━━━━━━━━━━━━━━━━━━━━━━━━━━━━━━━━━━━━━━━ 8.9/8.9 MB 172.6 MB/s eta 0:00:00\n",
      "- Creating objects...\n",
      "└── 🔨 Created mount D:\\Learning Square\\LLMs\\Untitled Folder\\pricer_service2.py\n",
      "Downloading http://pypi-mirror.modal.local:5555/simple/nvidia-cuda-nvrtc-cu12/nvidia_cuda_nvrtc_cu12-12.6.77-py3-none-manylinux2014_x86_64.whl (23.7 MB)\n",
      "- Creating objects...\n",
      "└── 🔨 Created mount D:\\Learning Square\\LLMs\\Untitled Folder\\pricer_service2.py\n",
      "- Creating objects...\n",
      "└── 🔨 Created mount D:\\Learning Square\\LLMs\\Untitled Folder\\pricer_service2.py\n",
      "   ━━━━━━━━━━━━━━━━━━━━━━━━━━━━━━━━━━━━━━━━ 23.7/23.7 MB 168.4 MB/s eta 0:00:00\n",
      "- Creating objects...\n",
      "└── 🔨 Created mount D:\\Learning Square\\LLMs\\Untitled Folder\\pricer_service2.py\n",
      "Downloading http://pypi-mirror.modal.local:5555/simple/nvidia-cuda-runtime-cu12/nvidia_cuda_runtime_cu12-12.6.77-py3-none-manylinux2014_x86_64.manylinux_2_17_x86_64.whl (897 kB)\n",
      "- Creating objects...\n",
      "└── 🔨 Created mount D:\\Learning Square\\LLMs\\Untitled Folder\\pricer_service2.py\n",
      "- Creating objects...\n",
      "└── 🔨 Created mount D:\\Learning Square\\LLMs\\Untitled Folder\\pricer_service2.py\n",
      "   ━━━━━━━━━━━━━━━━━━━━━━━━━━━━━━━━━━━━━━━ 897.7/897.7 kB 166.0 MB/s eta 0:00:00\n",
      "- Creating objects...\n",
      "└── 🔨 Created mount D:\\Learning Square\\LLMs\\Untitled Folder\\pricer_service2.py\n",
      "Downloading http://pypi-mirror.modal.local:5555/simple/nvidia-cudnn-cu12/nvidia_cudnn_cu12-9.5.1.17-py3-none-manylinux_2_28_x86_64.whl (571.0 MB)\n",
      "- Creating objects...\n",
      "└── 🔨 Created mount D:\\Learning Square\\LLMs\\Untitled Folder\\pricer_service2.py\n",
      "\\ Creating objects...\n",
      "└── 🔨 Created mount D:\\Learning Square\\LLMs\\Untitled Folder\\pricer_service2.py\n",
      "/ Creating objects...\n",
      "└── 🔨 Created mount D:\\Learning Square\\LLMs\\Untitled Folder\\pricer_service2.py\n",
      "\\ Creating objects...\n",
      "└── 🔨 Created mount D:\\Learning Square\\LLMs\\Untitled Folder\\pricer_service2.py\n",
      "/ Creating objects...\n",
      "└── 🔨 Created mount D:\\Learning Square\\LLMs\\Untitled Folder\\pricer_service2.py\n",
      "\\ Creating objects...\n",
      "└── 🔨 Created mount D:\\Learning Square\\LLMs\\Untitled Folder\\pricer_service2.py\n",
      "/ Creating objects...\n",
      "└── 🔨 Created mount D:\\Learning Square\\LLMs\\Untitled Folder\\pricer_service2.py\n",
      "\\ Creating objects...\n",
      "└── 🔨 Created mount D:\\Learning Square\\LLMs\\Untitled Folder\\pricer_service2.py\n",
      "/ Creating objects...\n",
      "└── 🔨 Created mount D:\\Learning Square\\LLMs\\Untitled Folder\\pricer_service2.py\n",
      "\\ Creating objects...\n",
      "└── 🔨 Created mount D:\\Learning Square\\LLMs\\Untitled Folder\\pricer_service2.py\n",
      "/ Creating objects...\n",
      "└── 🔨 Created mount D:\\Learning Square\\LLMs\\Untitled Folder\\pricer_service2.py\n",
      "\\ Creating objects...\n",
      "└── 🔨 Created mount D:\\Learning Square\\LLMs\\Untitled Folder\\pricer_service2.py\n",
      "/ Creating objects...\n",
      "└── 🔨 Created mount D:\\Learning Square\\LLMs\\Untitled Folder\\pricer_service2.py\n",
      "\\ Creating objects...\n",
      "└── 🔨 Created mount D:\\Learning Square\\LLMs\\Untitled Folder\\pricer_service2.py\n",
      "\\ Creating objects...\n",
      "└── 🔨 Created mount D:\\Learning Square\\LLMs\\Untitled Folder\\pricer_service2.py\n",
      "   ━━━━━━━━━━━━━━━━━━━━━━━━━━━━━━━━━━━━━━━ 571.0/571.0 MB 183.6 MB/s eta 0:00:00\n",
      "/ Creating objects...\n",
      "└── 🔨 Created mount D:\\Learning Square\\LLMs\\Untitled Folder\\pricer_service2.py\n",
      "Downloading http://pypi-mirror.modal.local:5555/simple/nvidia-cufft-cu12/nvidia_cufft_cu12-11.3.0.4-py3-none-manylinux2014_x86_64.manylinux_2_17_x86_64.whl (200.2 MB)\n",
      "/ Creating objects...\n",
      "└── 🔨 Created mount D:\\Learning Square\\LLMs\\Untitled Folder\\pricer_service2.py\n",
      "/ Creating objects...\n",
      "└── 🔨 Created mount D:\\Learning Square\\LLMs\\Untitled Folder\\pricer_service2.py\n",
      "\\ Creating objects...\n",
      "└── 🔨 Created mount D:\\Learning Square\\LLMs\\Untitled Folder\\pricer_service2.py\n",
      "/ Creating objects...\n",
      "└── 🔨 Created mount D:\\Learning Square\\LLMs\\Untitled Folder\\pricer_service2.py\n",
      "\\ Creating objects...\n",
      "└── 🔨 Created mount D:\\Learning Square\\LLMs\\Untitled Folder\\pricer_service2.py\n",
      "| Creating objects...\n",
      "└── 🔨 Created mount D:\\Learning Square\\LLMs\\Untitled Folder\\pricer_service2.py\n",
      "   ━━━━━━━━━━━━━━━━━━━━━━━━━━━━━━━━━━━━━━━ 200.2/200.2 MB 180.7 MB/s eta 0:00:00\n",
      "/ Creating objects...\n",
      "└── 🔨 Created mount D:\\Learning Square\\LLMs\\Untitled Folder\\pricer_service2.py\n",
      "Downloading http://pypi-mirror.modal.local:5555/simple/nvidia-cufile-cu12/nvidia_cufile_cu12-1.11.1.6-py3-none-manylinux2014_x86_64.manylinux_2_17_x86_64.whl (1.1 MB)\n",
      "/ Creating objects...\n",
      "└── 🔨 Created mount D:\\Learning Square\\LLMs\\Untitled Folder\\pricer_service2.py\n",
      "/ Creating objects...\n",
      "└── 🔨 Created mount D:\\Learning Square\\LLMs\\Untitled Folder\\pricer_service2.py\n",
      "   ━━━━━━━━━━━━━━━━━━━━━━━━━━━━━━━━━━━━━━━━ 1.1/1.1 MB 196.0 MB/s eta 0:00:00\n",
      "/ Creating objects...\n",
      "└── 🔨 Created mount D:\\Learning Square\\LLMs\\Untitled Folder\\pricer_service2.py\n",
      "Downloading http://pypi-mirror.modal.local:5555/simple/nvidia-curand-cu12/nvidia_curand_cu12-10.3.7.77-py3-none-manylinux2014_x86_64.manylinux_2_17_x86_64.whl (56.3 MB)\n",
      "/ Creating objects...\n",
      "└── 🔨 Created mount D:\\Learning Square\\LLMs\\Untitled Folder\\pricer_service2.py\n",
      "/ Creating objects...\n",
      "└── 🔨 Created mount D:\\Learning Square\\LLMs\\Untitled Folder\\pricer_service2.py\n",
      "\\ Creating objects...\n",
      "└── 🔨 Created mount D:\\Learning Square\\LLMs\\Untitled Folder\\pricer_service2.py\n",
      "   ━━━━━━━━━━━━━━━━━━━━━━━━━━━━━━━━━━━━━━━━ 56.3/56.3 MB 186.6 MB/s eta 0:00:00\n",
      "\\ Creating objects...\n",
      "└── 🔨 Created mount D:\\Learning Square\\LLMs\\Untitled Folder\\pricer_service2.py\n",
      "Downloading http://pypi-mirror.modal.local:5555/simple/nvidia-cusolver-cu12/nvidia_cusolver_cu12-11.7.1.2-py3-none-manylinux2014_x86_64.manylinux_2_17_x86_64.whl (158.2 MB)\n",
      "\\ Creating objects...\n",
      "└── 🔨 Created mount D:\\Learning Square\\LLMs\\Untitled Folder\\pricer_service2.py\n",
      "| Creating objects...\n",
      "└── 🔨 Created mount D:\\Learning Square\\LLMs\\Untitled Folder\\pricer_service2.py\n",
      "/ Creating objects...\n",
      "└── 🔨 Created mount D:\\Learning Square\\LLMs\\Untitled Folder\\pricer_service2.py\n",
      "\\ Creating objects...\n",
      "└── 🔨 Created mount D:\\Learning Square\\LLMs\\Untitled Folder\\pricer_service2.py\n",
      "| Creating objects...\n",
      "└── 🔨 Created mount D:\\Learning Square\\LLMs\\Untitled Folder\\pricer_service2.py\n",
      "/ Creating objects...\n",
      "└── 🔨 Created mount D:\\Learning Square\\LLMs\\Untitled Folder\\pricer_service2.py\n",
      "   ━━━━━━━━━━━━━━━━━━━━━━━━━━━━━━━━━━━━━━━ 158.2/158.2 MB 188.4 MB/s eta 0:00:00\n",
      "- Creating objects...\n",
      "└── 🔨 Created mount D:\\Learning Square\\LLMs\\Untitled Folder\\pricer_service2.py\n",
      "Downloading http://pypi-mirror.modal.local:5555/simple/nvidia-cusparse-cu12/nvidia_cusparse_cu12-12.5.4.2-py3-none-manylinux2014_x86_64.manylinux_2_17_x86_64.whl (216.6 MB)\n",
      "- Creating objects...\n",
      "└── 🔨 Created mount D:\\Learning Square\\LLMs\\Untitled Folder\\pricer_service2.py\n",
      "\\ Creating objects...\n",
      "└── 🔨 Created mount D:\\Learning Square\\LLMs\\Untitled Folder\\pricer_service2.py\n",
      "/ Creating objects...\n",
      "└── 🔨 Created mount D:\\Learning Square\\LLMs\\Untitled Folder\\pricer_service2.py\n",
      "| Creating objects...\n",
      "└── 🔨 Created mount D:\\Learning Square\\LLMs\\Untitled Folder\\pricer_service2.py\n",
      "/ Creating objects...\n",
      "└── 🔨 Created mount D:\\Learning Square\\LLMs\\Untitled Folder\\pricer_service2.py\n",
      "- Creating objects...\n",
      "└── 🔨 Created mount D:\\Learning Square\\LLMs\\Untitled Folder\\pricer_service2.py\n",
      "   ━━━━━━━━━━━━━━━━━━━━━━━━━━━━━━━━━━━━━━━ 216.6/216.6 MB 191.7 MB/s eta 0:00:00\n",
      "\\ Creating objects...\n",
      "└── 🔨 Created mount D:\\Learning Square\\LLMs\\Untitled Folder\\pricer_service2.py\n",
      "Downloading http://pypi-mirror.modal.local:5555/simple/nvidia-cusparselt-cu12/nvidia_cusparselt_cu12-0.6.3-py3-none-manylinux2014_x86_64.whl (156.8 MB)\n",
      "\\ Creating objects...\n",
      "└── 🔨 Created mount D:\\Learning Square\\LLMs\\Untitled Folder\\pricer_service2.py\n",
      "\\ Creating objects...\n",
      "└── 🔨 Created mount D:\\Learning Square\\LLMs\\Untitled Folder\\pricer_service2.py\n",
      "- Creating objects...\n",
      "└── 🔨 Created mount D:\\Learning Square\\LLMs\\Untitled Folder\\pricer_service2.py\n",
      "\\ Creating objects...\n",
      "└── 🔨 Created mount D:\\Learning Square\\LLMs\\Untitled Folder\\pricer_service2.py\n",
      "| Creating objects...\n",
      "└── 🔨 Created mount D:\\Learning Square\\LLMs\\Untitled Folder\\pricer_service2.py\n",
      "   ━━━━━━━━━━━━━━━━━━━━━━━━━━━━━━━━━━━━━━━ 156.8/156.8 MB 192.8 MB/s eta 0:00:00\n",
      "/ Creating objects...\n",
      "└── 🔨 Created mount D:\\Learning Square\\LLMs\\Untitled Folder\\pricer_service2.py\n",
      "Downloading http://pypi-mirror.modal.local:5555/simple/nvidia-nccl-cu12/nvidia_nccl_cu12-2.26.2-py3-none-manylinux2014_x86_64.manylinux_2_17_x86_64.whl (201.3 MB)\n",
      "/ Creating objects...\n",
      "└── 🔨 Created mount D:\\Learning Square\\LLMs\\Untitled Folder\\pricer_service2.py\n",
      "- Creating objects...\n",
      "└── 🔨 Created mount D:\\Learning Square\\LLMs\\Untitled Folder\\pricer_service2.py\n",
      "| Creating objects...\n",
      "└── 🔨 Created mount D:\\Learning Square\\LLMs\\Untitled Folder\\pricer_service2.py\n",
      "- Creating objects...\n",
      "└── 🔨 Created mount D:\\Learning Square\\LLMs\\Untitled Folder\\pricer_service2.py\n",
      "\\ Creating objects...\n",
      "└── 🔨 Created mount D:\\Learning Square\\LLMs\\Untitled Folder\\pricer_service2.py\n",
      "| Creating objects...\n",
      "└── 🔨 Created mount D:\\Learning Square\\LLMs\\Untitled Folder\\pricer_service2.py\n",
      "   ━━━━━━━━━━━━━━━━━━━━━━━━━━━━━━━━━━━━━━━ 201.3/201.3 MB 193.1 MB/s eta 0:00:00\n",
      "/ Creating objects...\n",
      "└── 🔨 Created mount D:\\Learning Square\\LLMs\\Untitled Folder\\pricer_service2.py\n",
      "Downloading http://pypi-mirror.modal.local:5555/simple/nvidia-nvjitlink-cu12/nvidia_nvjitlink_cu12-12.6.85-py3-none-manylinux2010_x86_64.manylinux_2_12_x86_64.whl (19.7 MB)\n",
      "/ Creating objects...\n",
      "└── 🔨 Created mount D:\\Learning Square\\LLMs\\Untitled Folder\\pricer_service2.py\n",
      "/ Creating objects...\n",
      "└── 🔨 Created mount D:\\Learning Square\\LLMs\\Untitled Folder\\pricer_service2.py\n",
      "   ━━━━━━━━━━━━━━━━━━━━━━━━━━━━━━━━━━━━━━━━ 19.7/19.7 MB 203.8 MB/s eta 0:00:00\n",
      "/ Creating objects...\n",
      "└── 🔨 Created mount D:\\Learning Square\\LLMs\\Untitled Folder\\pricer_service2.py\n",
      "Downloading http://pypi-mirror.modal.local:5555/simple/nvidia-nvtx-cu12/nvidia_nvtx_cu12-12.6.77-py3-none-manylinux2014_x86_64.manylinux_2_17_x86_64.whl (89 kB)\n",
      "Downloading http://pypi-mirror.modal.local:5555/simple/triton/triton-3.3.0-cp311-cp311-manylinux_2_27_x86_64.manylinux_2_28_x86_64.whl (156.5 MB)\n",
      "/ Creating objects...\n",
      "└── 🔨 Created mount D:\\Learning Square\\LLMs\\Untitled Folder\\pricer_service2.py\n",
      "- Creating objects...\n",
      "└── 🔨 Created mount D:\\Learning Square\\LLMs\\Untitled Folder\\pricer_service2.py\n",
      "| Creating objects...\n",
      "└── 🔨 Created mount D:\\Learning Square\\LLMs\\Untitled Folder\\pricer_service2.py\n",
      "- Creating objects...\n",
      "└── 🔨 Created mount D:\\Learning Square\\LLMs\\Untitled Folder\\pricer_service2.py\n",
      "- Creating objects...\n",
      "└── 🔨 Created mount D:\\Learning Square\\LLMs\\Untitled Folder\\pricer_service2.py\n",
      "| Creating objects...\n",
      "└── 🔨 Created mount D:\\Learning Square\\LLMs\\Untitled Folder\\pricer_service2.py\n",
      "   ━━━━━━━━━━━━━━━━━━━━━━━━━━━━━━━━━━━━━━━ 156.5/156.5 MB 191.5 MB/s eta 0:00:00\n",
      "/ Creating objects...\n",
      "└── 🔨 Created mount D:\\Learning Square\\LLMs\\Untitled Folder\\pricer_service2.py\n",
      "Downloading http://pypi-mirror.modal.local:5555/simple/transformers/transformers-4.51.3-py3-none-any.whl (10.4 MB)\n",
      "/ Creating objects...\n",
      "└── 🔨 Created mount D:\\Learning Square\\LLMs\\Untitled Folder\\pricer_service2.py\n",
      "/ Creating objects...\n",
      "└── 🔨 Created mount D:\\Learning Square\\LLMs\\Untitled Folder\\pricer_service2.py\n",
      "   ━━━━━━━━━━━━━━━━━━━━━━━━━━━━━━━━━━━━━━━━ 10.4/10.4 MB 197.0 MB/s eta 0:00:00\n",
      "/ Creating objects...\n",
      "└── 🔨 Created mount D:\\Learning Square\\LLMs\\Untitled Folder\\pricer_service2.py\n",
      "Downloading http://pypi-mirror.modal.local:5555/simple/huggingface-hub/huggingface_hub-0.31.1-py3-none-any.whl (484 kB)\n",
      "/ Creating objects...\n",
      "└── 🔨 Created mount D:\\Learning Square\\LLMs\\Untitled Folder\\pricer_service2.py\n",
      "Downloading http://pypi-mirror.modal.local:5555/simple/fsspec/fsspec-2025.3.2-py3-none-any.whl (194 kB)\n",
      "Downloading http://pypi-mirror.modal.local:5555/simple/numpy/numpy-2.2.5-cp311-cp311-manylinux_2_17_x86_64.manylinux2014_x86_64.whl (16.4 MB)\n",
      "/ Creating objects...\n",
      "└── 🔨 Created mount D:\\Learning Square\\LLMs\\Untitled Folder\\pricer_service2.py\n",
      "/ Creating objects...\n",
      "└── 🔨 Created mount D:\\Learning Square\\LLMs\\Untitled Folder\\pricer_service2.py\n",
      "   ━━━━━━━━━━━━━━━━━━━━━━━━━━━━━━━━━━━━━━━━ 16.4/16.4 MB 194.8 MB/s eta 0:00:00\n",
      "/ Creating objects...\n",
      "└── 🔨 Created mount D:\\Learning Square\\LLMs\\Untitled Folder\\pricer_service2.py\n",
      "Downloading http://pypi-mirror.modal.local:5555/simple/packaging/packaging-25.0-py3-none-any.whl (66 kB)\n",
      "Downloading http://pypi-mirror.modal.local:5555/simple/pyyaml/PyYAML-6.0.2-cp311-cp311-manylinux_2_17_x86_64.manylinux2014_x86_64.whl (762 kB)\n",
      "/ Creating objects...\n",
      "└── 🔨 Created mount D:\\Learning Square\\LLMs\\Untitled Folder\\pricer_service2.py\n",
      "/ Creating objects...\n",
      "└── 🔨 Created mount D:\\Learning Square\\LLMs\\Untitled Folder\\pricer_service2.py\n",
      "   ━━━━━━━━━━━━━━━━━━━━━━━━━━━━━━━━━━━━━━━ 763.0/763.0 kB 198.4 MB/s eta 0:00:00\n",
      "/ Creating objects...\n",
      "└── 🔨 Created mount D:\\Learning Square\\LLMs\\Untitled Folder\\pricer_service2.py\n",
      "Downloading http://pypi-mirror.modal.local:5555/simple/regex/regex-2024.11.6-cp311-cp311-manylinux_2_17_x86_64.manylinux2014_x86_64.whl (792 kB)\n",
      "/ Creating objects...\n",
      "└── 🔨 Created mount D:\\Learning Square\\LLMs\\Untitled Folder\\pricer_service2.py\n",
      "/ Creating objects...\n",
      "└── 🔨 Created mount D:\\Learning Square\\LLMs\\Untitled Folder\\pricer_service2.py\n",
      "   ━━━━━━━━━━━━━━━━━━━━━━━━━━━━━━━━━━━━━━━ 792.7/792.7 kB 207.0 MB/s eta 0:00:00\n",
      "/ Creating objects...\n",
      "└── 🔨 Created mount D:\\Learning Square\\LLMs\\Untitled Folder\\pricer_service2.py\n",
      "Downloading http://pypi-mirror.modal.local:5555/simple/safetensors/safetensors-0.5.3-cp38-abi3-manylinux_2_17_x86_64.manylinux2014_x86_64.whl (471 kB)\n",
      "/ Creating objects...\n",
      "└── 🔨 Created mount D:\\Learning Square\\LLMs\\Untitled Folder\\pricer_service2.py\n",
      "Downloading http://pypi-mirror.modal.local:5555/simple/sympy/sympy-1.14.0-py3-none-any.whl (6.3 MB)\n",
      "/ Creating objects...\n",
      "└── 🔨 Created mount D:\\Learning Square\\LLMs\\Untitled Folder\\pricer_service2.py\n",
      "/ Creating objects...\n",
      "└── 🔨 Created mount D:\\Learning Square\\LLMs\\Untitled Folder\\pricer_service2.py\n",
      "   ━━━━━━━━━━━━━━━━━━━━━━━━━━━━━━━━━━━━━━━━ 6.3/6.3 MB 155.5 MB/s eta 0:00:00\n",
      "/ Creating objects...\n",
      "└── 🔨 Created mount D:\\Learning Square\\LLMs\\Untitled Folder\\pricer_service2.py\n",
      "Downloading http://pypi-mirror.modal.local:5555/simple/tokenizers/tokenizers-0.21.1-cp39-abi3-manylinux_2_17_x86_64.manylinux2014_x86_64.whl (3.0 MB)\n",
      "/ Creating objects...\n",
      "└── 🔨 Created mount D:\\Learning Square\\LLMs\\Untitled Folder\\pricer_service2.py\n",
      "/ Creating objects...\n",
      "└── 🔨 Created mount D:\\Learning Square\\LLMs\\Untitled Folder\\pricer_service2.py\n",
      "   ━━━━━━━━━━━━━━━━━━━━━━━━━━━━━━━━━━━━━━━━ 3.0/3.0 MB 188.1 MB/s eta 0:00:00\n",
      "/ Creating objects...\n",
      "└── 🔨 Created mount D:\\Learning Square\\LLMs\\Untitled Folder\\pricer_service2.py\n",
      "Downloading http://pypi-mirror.modal.local:5555/simple/tqdm/tqdm-4.67.1-py3-none-any.whl (78 kB)\n",
      "Downloading http://pypi-mirror.modal.local:5555/simple/filelock/filelock-3.18.0-py3-none-any.whl (16 kB)\n",
      "Downloading http://pypi-mirror.modal.local:5555/simple/jinja2/jinja2-3.1.6-py3-none-any.whl (134 kB)\n",
      "/ Creating objects...\n",
      "└── 🔨 Created mount D:\\Learning Square\\LLMs\\Untitled Folder\\pricer_service2.py\n",
      "Downloading http://pypi-mirror.modal.local:5555/simple/networkx/networkx-3.4.2-py3-none-any.whl (1.7 MB)\n",
      "/ Creating objects...\n",
      "└── 🔨 Created mount D:\\Learning Square\\LLMs\\Untitled Folder\\pricer_service2.py\n",
      "/ Creating objects...\n",
      "└── 🔨 Created mount D:\\Learning Square\\LLMs\\Untitled Folder\\pricer_service2.py\n",
      "   ━━━━━━━━━━━━━━━━━━━━━━━━━━━━━━━━━━━━━━━━ 1.7/1.7 MB 196.0 MB/s eta 0:00:00\n",
      "/ Creating objects...\n",
      "└── 🔨 Created mount D:\\Learning Square\\LLMs\\Untitled Folder\\pricer_service2.py\n",
      "Downloading http://pypi-mirror.modal.local:5555/simple/psutil/psutil-7.0.0-cp36-abi3-manylinux_2_12_x86_64.manylinux2010_x86_64.manylinux_2_17_x86_64.manylinux2014_x86_64.whl (277 kB)\n",
      "Downloading http://pypi-mirror.modal.local:5555/simple/requests/requests-2.32.3-py3-none-any.whl (64 kB)\n",
      "/ Creating objects...\n",
      "└── 🔨 Created mount D:\\Learning Square\\LLMs\\Untitled Folder\\pricer_service2.py\n",
      "Downloading http://pypi-mirror.modal.local:5555/simple/charset-normalizer/charset_normalizer-3.4.2-cp311-cp311-manylinux_2_17_x86_64.manylinux2014_x86_64.whl (147 kB)\n",
      "/ Creating objects...\n",
      "└── 🔨 Created mount D:\\Learning Square\\LLMs\\Untitled Folder\\pricer_service2.py\n",
      "Downloading http://pypi-mirror.modal.local:5555/simple/hf-xet/hf_xet-1.1.0-cp37-abi3-manylinux_2_17_x86_64.manylinux2014_x86_64.whl (53.6 MB)\n",
      "/ Creating objects...\n",
      "└── 🔨 Created mount D:\\Learning Square\\LLMs\\Untitled Folder\\pricer_service2.py\n",
      "- Creating objects...\n",
      "└── 🔨 Created mount D:\\Learning Square\\LLMs\\Untitled Folder\\pricer_service2.py\n",
      "\\ Creating objects...\n",
      "└── 🔨 Created mount D:\\Learning Square\\LLMs\\Untitled Folder\\pricer_service2.py\n",
      "   ━━━━━━━━━━━━━━━━━━━━━━━━━━━━━━━━━━━━━━━━ 53.6/53.6 MB 196.0 MB/s eta 0:00:00\n",
      "\\ Creating objects...\n",
      "└── 🔨 Created mount D:\\Learning Square\\LLMs\\Untitled Folder\\pricer_service2.py\n",
      "Downloading http://pypi-mirror.modal.local:5555/simple/markupsafe/MarkupSafe-3.0.2-cp311-cp311-manylinux_2_17_x86_64.manylinux2014_x86_64.whl (23 kB)\n",
      "Downloading http://pypi-mirror.modal.local:5555/simple/mpmath/mpmath-1.3.0-py3-none-any.whl (536 kB)\n",
      "\\ Creating objects...\n",
      "└── 🔨 Created mount D:\\Learning Square\\LLMs\\Untitled Folder\\pricer_service2.py\n",
      "\\ Creating objects...\n",
      "└── 🔨 Created mount D:\\Learning Square\\LLMs\\Untitled Folder\\pricer_service2.py\n",
      "   ━━━━━━━━━━━━━━━━━━━━━━━━━━━━━━━━━━━━━━━ 536.2/536.2 kB 200.2 MB/s eta 0:00:00\n",
      "\\ Creating objects...\n",
      "└── 🔨 Created mount D:\\Learning Square\\LLMs\\Untitled Folder\\pricer_service2.py\n",
      "| Creating objects...\n",
      "└── 🔨 Created mount D:\\Learning Square\\LLMs\\Untitled Folder\\pricer_service2.py\n",
      "Downloading http://pypi-mirror.modal.local:5555/simple/urllib3/urllib3-2.4.0-py3-none-any.whl (128 kB)\n",
      "/ Creating objects...\n",
      "└── 🔨 Created mount D:\\Learning Square\\LLMs\\Untitled Folder\\pricer_service2.py\n",
      "- Creating objects...\n",
      "└── 🔨 Created mount D:\\Learning Square\\LLMs\\Untitled Folder\\pricer_service2.py\n",
      "| Creating objects...\n",
      "└── 🔨 Created mount D:\\Learning Square\\LLMs\\Untitled Folder\\pricer_service2.py\n",
      "- Creating objects...\n",
      "└── 🔨 Created mount D:\\Learning Square\\LLMs\\Untitled Folder\\pricer_service2.py\n",
      "| Creating objects...\n",
      "└── 🔨 Created mount D:\\Learning Square\\LLMs\\Untitled Folder\\pricer_service2.py\n",
      "- Creating objects...\n",
      "└── 🔨 Created mount D:\\Learning Square\\LLMs\\Untitled Folder\\pricer_service2.py\n",
      "| Creating objects...\n",
      "└── 🔨 Created mount D:\\Learning Square\\LLMs\\Untitled Folder\\pricer_service2.py\n",
      "- Creating objects...\n",
      "└── 🔨 Created mount D:\\Learning Square\\LLMs\\Untitled Folder\\pricer_service2.py\n",
      "| Creating objects...\n",
      "└── 🔨 Created mount D:\\Learning Square\\LLMs\\Untitled Folder\\pricer_service2.py\n",
      "- Creating objects...\n",
      "└── 🔨 Created mount D:\\Learning Square\\LLMs\\Untitled Folder\\pricer_service2.py\n",
      "| Creating objects...\n",
      "└── 🔨 Created mount D:\\Learning Square\\LLMs\\Untitled Folder\\pricer_service2.py\n",
      "- Creating objects...\n",
      "└── 🔨 Created mount D:\\Learning Square\\LLMs\\Untitled Folder\\pricer_service2.py\n",
      "| Creating objects...\n",
      "└── 🔨 Created mount D:\\Learning Square\\LLMs\\Untitled Folder\\pricer_service2.py\n",
      "- Creating objects...\n",
      "└── 🔨 Created mount D:\\Learning Square\\LLMs\\Untitled Folder\\pricer_service2.py\n",
      "| Creating objects...\n",
      "└── 🔨 Created mount D:\\Learning Square\\LLMs\\Untitled Folder\\pricer_service2.py\n",
      "- Creating objects...\n",
      "└── 🔨 Created mount D:\\Learning Square\\LLMs\\Untitled Folder\\pricer_service2.py\n",
      "Installing collected packages: nvidia-cusparselt-cu12, mpmath, huggingface, urllib3, triton, tqdm, sympy, safetensors, regex, pyyaml, psutil, packaging, nvidia-nvtx-cu12, nvidia-nvjitlink-cu12, nvidia-nccl-cu12, nvidia-curand-cu12, nvidia-cufile-cu12, nvidia-cuda-runtime-cu12, nvidia-cuda-nvrtc-cu12, nvidia-cuda-cupti-cu12, nvidia-cublas-cu12, numpy, networkx, MarkupSafe, hf-xet, fsspec, filelock, charset-normalizer, requests, nvidia-cusparse-cu12, nvidia-cufft-cu12, nvidia-cudnn-cu12, jinja2, nvidia-cusolver-cu12, huggingface-hub, torch, tokenizers, transformers, bitsandbytes, accelerate, peft\n",
      "- Creating objects...\n",
      "└── 🔨 Created mount D:\\Learning Square\\LLMs\\Untitled Folder\\pricer_service2.py\n",
      "| Creating objects...\n",
      "└── 🔨 Created mount D:\\Learning Square\\LLMs\\Untitled Folder\\pricer_service2.py\n",
      "- Creating objects...\n",
      "└── 🔨 Created mount D:\\Learning Square\\LLMs\\Untitled Folder\\pricer_service2.py\n",
      "| Creating objects...\n",
      "└── 🔨 Created mount D:\\Learning Square\\LLMs\\Untitled Folder\\pricer_service2.py\n",
      "- Creating objects...\n",
      "└── 🔨 Created mount D:\\Learning Square\\LLMs\\Untitled Folder\\pricer_service2.py\n",
      "| Creating objects...\n",
      "└── 🔨 Created mount D:\\Learning Square\\LLMs\\Untitled Folder\\pricer_service2.py\n",
      "- Creating objects...\n",
      "└── 🔨 Created mount D:\\Learning Square\\LLMs\\Untitled Folder\\pricer_service2.py\n",
      "| Creating objects...\n",
      "└── 🔨 Created mount D:\\Learning Square\\LLMs\\Untitled Folder\\pricer_service2.py\n",
      "- Creating objects...\n",
      "└── 🔨 Created mount D:\\Learning Square\\LLMs\\Untitled Folder\\pricer_service2.py\n",
      "| Creating objects...\n",
      "└── 🔨 Created mount D:\\Learning Square\\LLMs\\Untitled Folder\\pricer_service2.py\n",
      "- Creating objects...\n",
      "└── 🔨 Created mount D:\\Learning Square\\LLMs\\Untitled Folder\\pricer_service2.py\n",
      "| Creating objects...\n",
      "└── 🔨 Created mount D:\\Learning Square\\LLMs\\Untitled Folder\\pricer_service2.py\n",
      "- Creating objects...\n",
      "└── 🔨 Created mount D:\\Learning Square\\LLMs\\Untitled Folder\\pricer_service2.py\n",
      "| Creating objects...\n",
      "└── 🔨 Created mount D:\\Learning Square\\LLMs\\Untitled Folder\\pricer_service2.py\n",
      "- Creating objects...\n",
      "└── 🔨 Created mount D:\\Learning Square\\LLMs\\Untitled Folder\\pricer_service2.py\n",
      "| Creating objects...\n",
      "└── 🔨 Created mount D:\\Learning Square\\LLMs\\Untitled Folder\\pricer_service2.py\n",
      "- Creating objects...\n",
      "└── 🔨 Created mount D:\\Learning Square\\LLMs\\Untitled Folder\\pricer_service2.py\n",
      "| Creating objects...\n",
      "└── 🔨 Created mount D:\\Learning Square\\LLMs\\Untitled Folder\\pricer_service2.py\n",
      "- Creating objects...\n",
      "└── 🔨 Created mount D:\\Learning Square\\LLMs\\Untitled Folder\\pricer_service2.py\n",
      "| Creating objects...\n",
      "└── 🔨 Created mount D:\\Learning Square\\LLMs\\Untitled Folder\\pricer_service2.py\n",
      "- Creating objects...\n",
      "└── 🔨 Created mount D:\\Learning Square\\LLMs\\Untitled Folder\\pricer_service2.py\n",
      "| Creating objects...\n",
      "└── 🔨 Created mount D:\\Learning Square\\LLMs\\Untitled Folder\\pricer_service2.py\n",
      "- Creating objects...\n",
      "└── 🔨 Created mount D:\\Learning Square\\LLMs\\Untitled Folder\\pricer_service2.py\n",
      "| Creating objects...\n",
      "└── 🔨 Created mount D:\\Learning Square\\LLMs\\Untitled Folder\\pricer_service2.py\n",
      "- Creating objects...\n",
      "└── 🔨 Created mount D:\\Learning Square\\LLMs\\Untitled Folder\\pricer_service2.py\n",
      "| Creating objects...\n",
      "└── 🔨 Created mount D:\\Learning Square\\LLMs\\Untitled Folder\\pricer_service2.py\n",
      "- Creating objects...\n",
      "└── 🔨 Created mount D:\\Learning Square\\LLMs\\Untitled Folder\\pricer_service2.py\n",
      "| Creating objects...\n",
      "└── 🔨 Created mount D:\\Learning Square\\LLMs\\Untitled Folder\\pricer_service2.py\n",
      "- Creating objects...\n",
      "└── 🔨 Created mount D:\\Learning Square\\LLMs\\Untitled Folder\\pricer_service2.py\n",
      "| Creating objects...\n",
      "└── 🔨 Created mount D:\\Learning Square\\LLMs\\Untitled Folder\\pricer_service2.py\n",
      "- Creating objects...\n",
      "└── 🔨 Created mount D:\\Learning Square\\LLMs\\Untitled Folder\\pricer_service2.py\n",
      "| Creating objects...\n",
      "└── 🔨 Created mount D:\\Learning Square\\LLMs\\Untitled Folder\\pricer_service2.py\n",
      "- Creating objects...\n",
      "└── 🔨 Created mount D:\\Learning Square\\LLMs\\Untitled Folder\\pricer_service2.py\n",
      "| Creating objects...\n",
      "└── 🔨 Created mount D:\\Learning Square\\LLMs\\Untitled Folder\\pricer_service2.py\n",
      "- Creating objects...\n",
      "└── 🔨 Created mount D:\\Learning Square\\LLMs\\Untitled Folder\\pricer_service2.py\n",
      "| Creating objects...\n",
      "└── 🔨 Created mount D:\\Learning Square\\LLMs\\Untitled Folder\\pricer_service2.py\n",
      "- Creating objects...\n",
      "└── 🔨 Created mount D:\\Learning Square\\LLMs\\Untitled Folder\\pricer_service2.py\n",
      "| Creating objects...\n",
      "└── 🔨 Created mount D:\\Learning Square\\LLMs\\Untitled Folder\\pricer_service2.py\n",
      "- Creating objects...\n",
      "└── 🔨 Created mount D:\\Learning Square\\LLMs\\Untitled Folder\\pricer_service2.py\n",
      "| Creating objects...\n",
      "└── 🔨 Created mount D:\\Learning Square\\LLMs\\Untitled Folder\\pricer_service2.py\n",
      "- Creating objects...\n",
      "└── 🔨 Created mount D:\\Learning Square\\LLMs\\Untitled Folder\\pricer_service2.py\n",
      "/ Creating objects...\n",
      "└── 🔨 Created mount D:\\Learning Square\\LLMs\\Untitled Folder\\pricer_service2.py\n",
      "- Creating objects...\n",
      "└── 🔨 Created mount D:\\Learning Square\\LLMs\\Untitled Folder\\pricer_service2.py\n",
      "| Creating objects...\n",
      "└── 🔨 Created mount D:\\Learning Square\\LLMs\\Untitled Folder\\pricer_service2.py\n",
      "\\ Creating objects...\n",
      "└── 🔨 Created mount D:\\Learning Square\\LLMs\\Untitled Folder\\pricer_service2.py\n",
      "/ Creating objects...\n",
      "└── 🔨 Created mount D:\\Learning Square\\LLMs\\Untitled Folder\\pricer_service2.py\n",
      "\\ Creating objects...\n",
      "└── 🔨 Created mount D:\\Learning Square\\LLMs\\Untitled Folder\\pricer_service2.py\n",
      "/ Creating objects...\n",
      "└── 🔨 Created mount D:\\Learning Square\\LLMs\\Untitled Folder\\pricer_service2.py\n",
      "\\ Creating objects...\n",
      "└── 🔨 Created mount D:\\Learning Square\\LLMs\\Untitled Folder\\pricer_service2.py\n",
      "/ Creating objects...\n",
      "└── 🔨 Created mount D:\\Learning Square\\LLMs\\Untitled Folder\\pricer_service2.py\n",
      "\\ Creating objects...\n",
      "└── 🔨 Created mount D:\\Learning Square\\LLMs\\Untitled Folder\\pricer_service2.py\n",
      "/ Creating objects...\n",
      "└── 🔨 Created mount D:\\Learning Square\\LLMs\\Untitled Folder\\pricer_service2.py\n",
      "\\ Creating objects...\n",
      "└── 🔨 Created mount D:\\Learning Square\\LLMs\\Untitled Folder\\pricer_service2.py\n",
      "/ Creating objects...\n",
      "└── 🔨 Created mount D:\\Learning Square\\LLMs\\Untitled Folder\\pricer_service2.py\n",
      "\\ Creating objects...\n",
      "└── 🔨 Created mount D:\\Learning Square\\LLMs\\Untitled Folder\\pricer_service2.py\n",
      "/ Creating objects...\n",
      "└── 🔨 Created mount D:\\Learning Square\\LLMs\\Untitled Folder\\pricer_service2.py\n",
      "\\ Creating objects...\n",
      "└── 🔨 Created mount D:\\Learning Square\\LLMs\\Untitled Folder\\pricer_service2.py\n",
      "/ Creating objects...\n",
      "└── 🔨 Created mount D:\\Learning Square\\LLMs\\Untitled Folder\\pricer_service2.py\n",
      "\\ Creating objects...\n",
      "└── 🔨 Created mount D:\\Learning Square\\LLMs\\Untitled Folder\\pricer_service2.py\n",
      "/ Creating objects...\n",
      "└── 🔨 Created mount D:\\Learning Square\\LLMs\\Untitled Folder\\pricer_service2.py\n",
      "\\ Creating objects...\n",
      "└── 🔨 Created mount D:\\Learning Square\\LLMs\\Untitled Folder\\pricer_service2.py\n",
      "/ Creating objects...\n",
      "└── 🔨 Created mount D:\\Learning Square\\LLMs\\Untitled Folder\\pricer_service2.py\n",
      "\\ Creating objects...\n",
      "└── 🔨 Created mount D:\\Learning Square\\LLMs\\Untitled Folder\\pricer_service2.py\n",
      "/ Creating objects...\n",
      "└── 🔨 Created mount D:\\Learning Square\\LLMs\\Untitled Folder\\pricer_service2.py\n",
      "\\ Creating objects...\n",
      "└── 🔨 Created mount D:\\Learning Square\\LLMs\\Untitled Folder\\pricer_service2.py\n",
      "/ Creating objects...\n",
      "└── 🔨 Created mount D:\\Learning Square\\LLMs\\Untitled Folder\\pricer_service2.py\n",
      "\\ Creating objects...\n",
      "└── 🔨 Created mount D:\\Learning Square\\LLMs\\Untitled Folder\\pricer_service2.py\n",
      "/ Creating objects...\n",
      "└── 🔨 Created mount D:\\Learning Square\\LLMs\\Untitled Folder\\pricer_service2.py\n",
      "\\ Creating objects...\n",
      "└── 🔨 Created mount D:\\Learning Square\\LLMs\\Untitled Folder\\pricer_service2.py\n",
      "/ Creating objects...\n",
      "└── 🔨 Created mount D:\\Learning Square\\LLMs\\Untitled Folder\\pricer_service2.py\n",
      "\\ Creating objects...\n",
      "└── 🔨 Created mount D:\\Learning Square\\LLMs\\Untitled Folder\\pricer_service2.py\n",
      "/ Creating objects...\n",
      "└── 🔨 Created mount D:\\Learning Square\\LLMs\\Untitled Folder\\pricer_service2.py\n",
      "\\ Creating objects...\n",
      "└── 🔨 Created mount D:\\Learning Square\\LLMs\\Untitled Folder\\pricer_service2.py\n",
      "/ Creating objects...\n",
      "└── 🔨 Created mount D:\\Learning Square\\LLMs\\Untitled Folder\\pricer_service2.py\n",
      "\\ Creating objects...\n",
      "└── 🔨 Created mount D:\\Learning Square\\LLMs\\Untitled Folder\\pricer_service2.py\n",
      "/ Creating objects...\n",
      "└── 🔨 Created mount D:\\Learning Square\\LLMs\\Untitled Folder\\pricer_service2.py\n",
      "\\ Creating objects...\n",
      "└── 🔨 Created mount D:\\Learning Square\\LLMs\\Untitled Folder\\pricer_service2.py\n",
      "/ Creating objects...\n",
      "└── 🔨 Created mount D:\\Learning Square\\LLMs\\Untitled Folder\\pricer_service2.py\n",
      "\\ Creating objects...\n",
      "└── 🔨 Created mount D:\\Learning Square\\LLMs\\Untitled Folder\\pricer_service2.py\n",
      "/ Creating objects...\n",
      "└── 🔨 Created mount D:\\Learning Square\\LLMs\\Untitled Folder\\pricer_service2.py\n",
      "\\ Creating objects...\n",
      "└── 🔨 Created mount D:\\Learning Square\\LLMs\\Untitled Folder\\pricer_service2.py\n",
      "/ Creating objects...\n",
      "└── 🔨 Created mount D:\\Learning Square\\LLMs\\Untitled Folder\\pricer_service2.py\n",
      "\\ Creating objects...\n",
      "└── 🔨 Created mount D:\\Learning Square\\LLMs\\Untitled Folder\\pricer_service2.py\n",
      "/ Creating objects...\n",
      "└── 🔨 Created mount D:\\Learning Square\\LLMs\\Untitled Folder\\pricer_service2.py\n",
      "\\ Creating objects...\n",
      "└── 🔨 Created mount D:\\Learning Square\\LLMs\\Untitled Folder\\pricer_service2.py\n",
      "/ Creating objects...\n",
      "└── 🔨 Created mount D:\\Learning Square\\LLMs\\Untitled Folder\\pricer_service2.py\n",
      "\\ Creating objects...\n",
      "└── 🔨 Created mount D:\\Learning Square\\LLMs\\Untitled Folder\\pricer_service2.py\n",
      "/ Creating objects...\n",
      "└── 🔨 Created mount D:\\Learning Square\\LLMs\\Untitled Folder\\pricer_service2.py\n",
      "\\ Creating objects...\n",
      "└── 🔨 Created mount D:\\Learning Square\\LLMs\\Untitled Folder\\pricer_service2.py\n",
      "/ Creating objects...\n",
      "└── 🔨 Created mount D:\\Learning Square\\LLMs\\Untitled Folder\\pricer_service2.py\n",
      "\\ Creating objects...\n",
      "└── 🔨 Created mount D:\\Learning Square\\LLMs\\Untitled Folder\\pricer_service2.py\n",
      "/ Creating objects...\n",
      "└── 🔨 Created mount D:\\Learning Square\\LLMs\\Untitled Folder\\pricer_service2.py\n",
      "\\ Creating objects...\n",
      "└── 🔨 Created mount D:\\Learning Square\\LLMs\\Untitled Folder\\pricer_service2.py\n",
      "/ Creating objects...\n",
      "└── 🔨 Created mount D:\\Learning Square\\LLMs\\Untitled Folder\\pricer_service2.py\n",
      "\\ Creating objects...\n",
      "└── 🔨 Created mount D:\\Learning Square\\LLMs\\Untitled Folder\\pricer_service2.py\n",
      "/ Creating objects...\n",
      "└── 🔨 Created mount D:\\Learning Square\\LLMs\\Untitled Folder\\pricer_service2.py\n",
      "\\ Creating objects...\n",
      "└── 🔨 Created mount D:\\Learning Square\\LLMs\\Untitled Folder\\pricer_service2.py\n",
      "/ Creating objects...\n",
      "└── 🔨 Created mount D:\\Learning Square\\LLMs\\Untitled Folder\\pricer_service2.py\n",
      "| Creating objects...\n",
      "└── 🔨 Created mount D:\\Learning Square\\LLMs\\Untitled Folder\\pricer_service2.py\n",
      "- Creating objects...\n",
      "└── 🔨 Created mount D:\\Learning Square\\LLMs\\Untitled Folder\\pricer_service2.py\n",
      "| Creating objects...\n",
      "└── 🔨 Created mount D:\\Learning Square\\LLMs\\Untitled Folder\\pricer_service2.py\n",
      "- Creating objects...\n",
      "└── 🔨 Created mount D:\\Learning Square\\LLMs\\Untitled Folder\\pricer_service2.py\n",
      "| Creating objects...\n",
      "└── 🔨 Created mount D:\\Learning Square\\LLMs\\Untitled Folder\\pricer_service2.py\n",
      "- Creating objects...\n",
      "└── 🔨 Created mount D:\\Learning Square\\LLMs\\Untitled Folder\\pricer_service2.py\n",
      "| Creating objects...\n",
      "└── 🔨 Created mount D:\\Learning Square\\LLMs\\Untitled Folder\\pricer_service2.py\n",
      "- Creating objects...\n",
      "└── 🔨 Created mount D:\\Learning Square\\LLMs\\Untitled Folder\\pricer_service2.py\n",
      "| Creating objects...\n",
      "└── 🔨 Created mount D:\\Learning Square\\LLMs\\Untitled Folder\\pricer_service2.py\n",
      "- Creating objects...\n",
      "└── 🔨 Created mount D:\\Learning Square\\LLMs\\Untitled Folder\\pricer_service2.py\n",
      "| Creating objects...\n",
      "└── 🔨 Created mount D:\\Learning Square\\LLMs\\Untitled Folder\\pricer_service2.py\n",
      "- Creating objects...\n",
      "└── 🔨 Created mount D:\\Learning Square\\LLMs\\Untitled Folder\\pricer_service2.py\n",
      "| Creating objects...\n",
      "└── 🔨 Created mount D:\\Learning Square\\LLMs\\Untitled Folder\\pricer_service2.py\n",
      "- Creating objects...\n",
      "└── 🔨 Created mount D:\\Learning Square\\LLMs\\Untitled Folder\\pricer_service2.py\n",
      "| Creating objects...\n",
      "└── 🔨 Created mount D:\\Learning Square\\LLMs\\Untitled Folder\\pricer_service2.py\n",
      "- Creating objects...\n",
      "└── 🔨 Created mount D:\\Learning Square\\LLMs\\Untitled Folder\\pricer_service2.py\n",
      "| Creating objects...\n",
      "└── 🔨 Created mount D:\\Learning Square\\LLMs\\Untitled Folder\\pricer_service2.py\n",
      "- Creating objects...\n",
      "└── 🔨 Created mount D:\\Learning Square\\LLMs\\Untitled Folder\\pricer_service2.py\n",
      "| Creating objects...\n",
      "└── 🔨 Created mount D:\\Learning Square\\LLMs\\Untitled Folder\\pricer_service2.py\n",
      "- Creating objects...\n",
      "└── 🔨 Created mount D:\\Learning Square\\LLMs\\Untitled Folder\\pricer_service2.py\n",
      "| Creating objects...\n",
      "└── 🔨 Created mount D:\\Learning Square\\LLMs\\Untitled Folder\\pricer_service2.py\n",
      "- Creating objects...\n",
      "└── 🔨 Created mount D:\\Learning Square\\LLMs\\Untitled Folder\\pricer_service2.py\n",
      "| Creating objects...\n",
      "└── 🔨 Created mount D:\\Learning Square\\LLMs\\Untitled Folder\\pricer_service2.py\n",
      "- Creating objects...\n",
      "└── 🔨 Created mount D:\\Learning Square\\LLMs\\Untitled Folder\\pricer_service2.py\n",
      "| Creating objects...\n",
      "└── 🔨 Created mount D:\\Learning Square\\LLMs\\Untitled Folder\\pricer_service2.py\n",
      "- Creating objects...\n",
      "└── 🔨 Created mount D:\\Learning Square\\LLMs\\Untitled Folder\\pricer_service2.py\n",
      "| Creating objects...\n",
      "└── 🔨 Created mount D:\\Learning Square\\LLMs\\Untitled Folder\\pricer_service2.py\n",
      "- Creating objects...\n",
      "└── 🔨 Created mount D:\\Learning Square\\LLMs\\Untitled Folder\\pricer_service2.py\n",
      "| Creating objects...\n",
      "└── 🔨 Created mount D:\\Learning Square\\LLMs\\Untitled Folder\\pricer_service2.py\n",
      "- Creating objects...\n",
      "└── 🔨 Created mount D:\\Learning Square\\LLMs\\Untitled Folder\\pricer_service2.py\n",
      "| Creating objects...\n",
      "└── 🔨 Created mount D:\\Learning Square\\LLMs\\Untitled Folder\\pricer_service2.py\n",
      "- Creating objects...\n",
      "└── 🔨 Created mount D:\\Learning Square\\LLMs\\Untitled Folder\\pricer_service2.py\n",
      "| Creating objects...\n",
      "└── 🔨 Created mount D:\\Learning Square\\LLMs\\Untitled Folder\\pricer_service2.py\n",
      "- Creating objects...\n",
      "└── 🔨 Created mount D:\\Learning Square\\LLMs\\Untitled Folder\\pricer_service2.py\n",
      "| Creating objects...\n",
      "└── 🔨 Created mount D:\\Learning Square\\LLMs\\Untitled Folder\\pricer_service2.py\n",
      "- Creating objects...\n",
      "└── 🔨 Created mount D:\\Learning Square\\LLMs\\Untitled Folder\\pricer_service2.py\n",
      "| Creating objects...\n",
      "└── 🔨 Created mount D:\\Learning Square\\LLMs\\Untitled Folder\\pricer_service2.py\n",
      "- Creating objects...\n",
      "└── 🔨 Created mount D:\\Learning Square\\LLMs\\Untitled Folder\\pricer_service2.py\n",
      "| Creating objects...\n",
      "└── 🔨 Created mount D:\\Learning Square\\LLMs\\Untitled Folder\\pricer_service2.py\n",
      "- Creating objects...\n",
      "└── 🔨 Created mount D:\\Learning Square\\LLMs\\Untitled Folder\\pricer_service2.py\n",
      "| Creating objects...\n",
      "└── 🔨 Created mount D:\\Learning Square\\LLMs\\Untitled Folder\\pricer_service2.py\n",
      "- Creating objects...\n",
      "└── 🔨 Created mount D:\\Learning Square\\LLMs\\Untitled Folder\\pricer_service2.py\n",
      "| Creating objects...\n",
      "└── 🔨 Created mount D:\\Learning Square\\LLMs\\Untitled Folder\\pricer_service2.py\n",
      "- Creating objects...\n",
      "└── 🔨 Created mount D:\\Learning Square\\LLMs\\Untitled Folder\\pricer_service2.py\n",
      "| Creating objects...\n",
      "└── 🔨 Created mount D:\\Learning Square\\LLMs\\Untitled Folder\\pricer_service2.py\n",
      "\\ Creating objects...\n",
      "└── 🔨 Created mount D:\\Learning Square\\LLMs\\Untitled Folder\\pricer_service2.py\n",
      "/ Creating objects...\n",
      "└── 🔨 Created mount D:\\Learning Square\\LLMs\\Untitled Folder\\pricer_service2.py\n",
      "\\ Creating objects...\n",
      "└── 🔨 Created mount D:\\Learning Square\\LLMs\\Untitled Folder\\pricer_service2.py\n",
      "/ Creating objects...\n",
      "└── 🔨 Created mount D:\\Learning Square\\LLMs\\Untitled Folder\\pricer_service2.py\n",
      "- Creating objects...\n",
      "└── 🔨 Created mount D:\\Learning Square\\LLMs\\Untitled Folder\\pricer_service2.py\n",
      "| Creating objects...\n",
      "└── 🔨 Created mount D:\\Learning Square\\LLMs\\Untitled Folder\\pricer_service2.py\n",
      "\\ Creating objects...\n",
      "└── 🔨 Created mount D:\\Learning Square\\LLMs\\Untitled Folder\\pricer_service2.py\n",
      "/ Creating objects...\n",
      "└── 🔨 Created mount D:\\Learning Square\\LLMs\\Untitled Folder\\pricer_service2.py\n",
      "\\ Creating objects...\n",
      "└── 🔨 Created mount D:\\Learning Square\\LLMs\\Untitled Folder\\pricer_service2.py\n",
      "/ Creating objects...\n",
      "└── 🔨 Created mount D:\\Learning Square\\LLMs\\Untitled Folder\\pricer_service2.py\n",
      "\\ Creating objects...\n",
      "└── 🔨 Created mount D:\\Learning Square\\LLMs\\Untitled Folder\\pricer_service2.py\n",
      "/ Creating objects...\n",
      "└── 🔨 Created mount D:\\Learning Square\\LLMs\\Untitled Folder\\pricer_service2.py\n",
      "\\ Creating objects...\n",
      "└── 🔨 Created mount D:\\Learning Square\\LLMs\\Untitled Folder\\pricer_service2.py\n",
      "/ Creating objects...\n",
      "└── 🔨 Created mount D:\\Learning Square\\LLMs\\Untitled Folder\\pricer_service2.py\n",
      "\\ Creating objects...\n",
      "└── 🔨 Created mount D:\\Learning Square\\LLMs\\Untitled Folder\\pricer_service2.py\n",
      "/ Creating objects...\n",
      "└── 🔨 Created mount D:\\Learning Square\\LLMs\\Untitled Folder\\pricer_service2.py\n",
      "\\ Creating objects...\n",
      "└── 🔨 Created mount D:\\Learning Square\\LLMs\\Untitled Folder\\pricer_service2.py\n",
      "/ Creating objects...\n",
      "└── 🔨 Created mount D:\\Learning Square\\LLMs\\Untitled Folder\\pricer_service2.py\n",
      "\\ Creating objects...\n",
      "└── 🔨 Created mount D:\\Learning Square\\LLMs\\Untitled Folder\\pricer_service2.py\n",
      "/ Creating objects...\n",
      "└── 🔨 Created mount D:\\Learning Square\\LLMs\\Untitled Folder\\pricer_service2.py\n",
      "\\ Creating objects...\n",
      "└── 🔨 Created mount D:\\Learning Square\\LLMs\\Untitled Folder\\pricer_service2.py\n",
      "/ Creating objects...\n",
      "└── 🔨 Created mount D:\\Learning Square\\LLMs\\Untitled Folder\\pricer_service2.py\n",
      "\\ Creating objects...\n",
      "└── 🔨 Created mount D:\\Learning Square\\LLMs\\Untitled Folder\\pricer_service2.py\n",
      "/ Creating objects...\n",
      "└── 🔨 Created mount D:\\Learning Square\\LLMs\\Untitled Folder\\pricer_service2.py\n",
      "\\ Creating objects...\n",
      "└── 🔨 Created mount D:\\Learning Square\\LLMs\\Untitled Folder\\pricer_service2.py\n",
      "/ Creating objects...\n",
      "└── 🔨 Created mount D:\\Learning Square\\LLMs\\Untitled Folder\\pricer_service2.py\n",
      "\\ Creating objects...\n",
      "└── 🔨 Created mount D:\\Learning Square\\LLMs\\Untitled Folder\\pricer_service2.py\n",
      "/ Creating objects...\n",
      "└── 🔨 Created mount D:\\Learning Square\\LLMs\\Untitled Folder\\pricer_service2.py\n",
      "\\ Creating objects...\n",
      "└── 🔨 Created mount D:\\Learning Square\\LLMs\\Untitled Folder\\pricer_service2.py\n",
      "/ Creating objects...\n",
      "└── 🔨 Created mount D:\\Learning Square\\LLMs\\Untitled Folder\\pricer_service2.py\n",
      "\\ Creating objects...\n",
      "└── 🔨 Created mount D:\\Learning Square\\LLMs\\Untitled Folder\\pricer_service2.py\n",
      "/ Creating objects...\n",
      "└── 🔨 Created mount D:\\Learning Square\\LLMs\\Untitled Folder\\pricer_service2.py\n",
      "\\ Creating objects...\n",
      "└── 🔨 Created mount D:\\Learning Square\\LLMs\\Untitled Folder\\pricer_service2.py\n",
      "/ Creating objects...\n",
      "└── 🔨 Created mount D:\\Learning Square\\LLMs\\Untitled Folder\\pricer_service2.py\n",
      "\\ Creating objects...\n",
      "└── 🔨 Created mount D:\\Learning Square\\LLMs\\Untitled Folder\\pricer_service2.py\n",
      "/ Creating objects...\n",
      "└── 🔨 Created mount D:\\Learning Square\\LLMs\\Untitled Folder\\pricer_service2.py\n",
      "\\ Creating objects...\n",
      "└── 🔨 Created mount D:\\Learning Square\\LLMs\\Untitled Folder\\pricer_service2.py\n",
      "/ Creating objects...\n",
      "└── 🔨 Created mount D:\\Learning Square\\LLMs\\Untitled Folder\\pricer_service2.py\n",
      "\\ Creating objects...\n",
      "└── 🔨 Created mount D:\\Learning Square\\LLMs\\Untitled Folder\\pricer_service2.py\n",
      "/ Creating objects...\n",
      "└── 🔨 Created mount D:\\Learning Square\\LLMs\\Untitled Folder\\pricer_service2.py\n",
      "\\ Creating objects...\n",
      "└── 🔨 Created mount D:\\Learning Square\\LLMs\\Untitled Folder\\pricer_service2.py\n",
      "/ Creating objects...\n",
      "└── 🔨 Created mount D:\\Learning Square\\LLMs\\Untitled Folder\\pricer_service2.py\n",
      "\\ Creating objects...\n",
      "└── 🔨 Created mount D:\\Learning Square\\LLMs\\Untitled Folder\\pricer_service2.py\n",
      "- Creating objects...\n",
      "└── 🔨 Created mount D:\\Learning Square\\LLMs\\Untitled Folder\\pricer_service2.py\n",
      "| Creating objects...\n",
      "└── 🔨 Created mount D:\\Learning Square\\LLMs\\Untitled Folder\\pricer_service2.py\n",
      "- Creating objects...\n",
      "└── 🔨 Created mount D:\\Learning Square\\LLMs\\Untitled Folder\\pricer_service2.py\n",
      "| Creating objects...\n",
      "└── 🔨 Created mount D:\\Learning Square\\LLMs\\Untitled Folder\\pricer_service2.py\n",
      "- Creating objects...\n",
      "└── 🔨 Created mount D:\\Learning Square\\LLMs\\Untitled Folder\\pricer_service2.py\n",
      "| Creating objects...\n",
      "└── 🔨 Created mount D:\\Learning Square\\LLMs\\Untitled Folder\\pricer_service2.py\n",
      "- Creating objects...\n",
      "└── 🔨 Created mount D:\\Learning Square\\LLMs\\Untitled Folder\\pricer_service2.py\n",
      "| Creating objects...\n",
      "└── 🔨 Created mount D:\\Learning Square\\LLMs\\Untitled Folder\\pricer_service2.py\n",
      "- Creating objects...\n",
      "└── 🔨 Created mount D:\\Learning Square\\LLMs\\Untitled Folder\\pricer_service2.py\n",
      "| Creating objects...\n",
      "└── 🔨 Created mount D:\\Learning Square\\LLMs\\Untitled Folder\\pricer_service2.py\n",
      "- Creating objects...\n",
      "└── 🔨 Created mount D:\\Learning Square\\LLMs\\Untitled Folder\\pricer_service2.py\n",
      "| Creating objects...\n",
      "└── 🔨 Created mount D:\\Learning Square\\LLMs\\Untitled Folder\\pricer_service2.py\n",
      "- Creating objects...\n",
      "└── 🔨 Created mount D:\\Learning Square\\LLMs\\Untitled Folder\\pricer_service2.py\n",
      "| Creating objects...\n",
      "└── 🔨 Created mount D:\\Learning Square\\LLMs\\Untitled Folder\\pricer_service2.py\n",
      "- Creating objects...\n",
      "└── 🔨 Created mount D:\\Learning Square\\LLMs\\Untitled Folder\\pricer_service2.py\n",
      "| Creating objects...\n",
      "└── 🔨 Created mount D:\\Learning Square\\LLMs\\Untitled Folder\\pricer_service2.py\n",
      "- Creating objects...\n",
      "└── 🔨 Created mount D:\\Learning Square\\LLMs\\Untitled Folder\\pricer_service2.py\n",
      "| Creating objects...\n",
      "└── 🔨 Created mount D:\\Learning Square\\LLMs\\Untitled Folder\\pricer_service2.py\n",
      "- Creating objects...\n",
      "└── 🔨 Created mount D:\\Learning Square\\LLMs\\Untitled Folder\\pricer_service2.py\n",
      "| Creating objects...\n",
      "└── 🔨 Created mount D:\\Learning Square\\LLMs\\Untitled Folder\\pricer_service2.py\n",
      "- Creating objects...\n",
      "└── 🔨 Created mount D:\\Learning Square\\LLMs\\Untitled Folder\\pricer_service2.py\n",
      "| Creating objects...\n",
      "└── 🔨 Created mount D:\\Learning Square\\LLMs\\Untitled Folder\\pricer_service2.py\n",
      "- Creating objects...\n",
      "└── 🔨 Created mount D:\\Learning Square\\LLMs\\Untitled Folder\\pricer_service2.py\n",
      "| Creating objects...\n",
      "└── 🔨 Created mount D:\\Learning Square\\LLMs\\Untitled Folder\\pricer_service2.py\n",
      "- Creating objects...\n",
      "└── 🔨 Created mount D:\\Learning Square\\LLMs\\Untitled Folder\\pricer_service2.py\n",
      "| Creating objects...\n",
      "└── 🔨 Created mount D:\\Learning Square\\LLMs\\Untitled Folder\\pricer_service2.py\n",
      "- Creating objects...\n",
      "└── 🔨 Created mount D:\\Learning Square\\LLMs\\Untitled Folder\\pricer_service2.py\n",
      "| Creating objects...\n",
      "└── 🔨 Created mount D:\\Learning Square\\LLMs\\Untitled Folder\\pricer_service2.py\n",
      "- Creating objects...\n",
      "└── 🔨 Created mount D:\\Learning Square\\LLMs\\Untitled Folder\\pricer_service2.py\n",
      "| Creating objects...\n",
      "└── 🔨 Created mount D:\\Learning Square\\LLMs\\Untitled Folder\\pricer_service2.py\n",
      "- Creating objects...\n",
      "└── 🔨 Created mount D:\\Learning Square\\LLMs\\Untitled Folder\\pricer_service2.py\n",
      "| Creating objects...\n",
      "└── 🔨 Created mount D:\\Learning Square\\LLMs\\Untitled Folder\\pricer_service2.py\n",
      "- Creating objects...\n",
      "└── 🔨 Created mount D:\\Learning Square\\LLMs\\Untitled Folder\\pricer_service2.py\n",
      "| Creating objects...\n",
      "└── 🔨 Created mount D:\\Learning Square\\LLMs\\Untitled Folder\\pricer_service2.py\n",
      "- Creating objects...\n",
      "└── 🔨 Created mount D:\\Learning Square\\LLMs\\Untitled Folder\\pricer_service2.py\n",
      "| Creating objects...\n",
      "└── 🔨 Created mount D:\\Learning Square\\LLMs\\Untitled Folder\\pricer_service2.py\n",
      "- Creating objects...\n",
      "└── 🔨 Created mount D:\\Learning Square\\LLMs\\Untitled Folder\\pricer_service2.py\n",
      "/ Creating objects...\n",
      "└── 🔨 Created mount D:\\Learning Square\\LLMs\\Untitled Folder\\pricer_service2.py\n",
      "\\ Creating objects...\n",
      "└── 🔨 Created mount D:\\Learning Square\\LLMs\\Untitled Folder\\pricer_service2.py\n",
      "/ Creating objects...\n",
      "└── 🔨 Created mount D:\\Learning Square\\LLMs\\Untitled Folder\\pricer_service2.py\n",
      "\\ Creating objects...\n",
      "└── 🔨 Created mount D:\\Learning Square\\LLMs\\Untitled Folder\\pricer_service2.py\n",
      "/ Creating objects...\n",
      "└── 🔨 Created mount D:\\Learning Square\\LLMs\\Untitled Folder\\pricer_service2.py\n",
      "\\ Creating objects...\n",
      "└── 🔨 Created mount D:\\Learning Square\\LLMs\\Untitled Folder\\pricer_service2.py\n",
      "/ Creating objects...\n",
      "└── 🔨 Created mount D:\\Learning Square\\LLMs\\Untitled Folder\\pricer_service2.py\n",
      "\\ Creating objects...\n",
      "└── 🔨 Created mount D:\\Learning Square\\LLMs\\Untitled Folder\\pricer_service2.py\n",
      "/ Creating objects...\n",
      "└── 🔨 Created mount D:\\Learning Square\\LLMs\\Untitled Folder\\pricer_service2.py\n",
      "\\ Creating objects...\n",
      "└── 🔨 Created mount D:\\Learning Square\\LLMs\\Untitled Folder\\pricer_service2.py\n",
      "/ Creating objects...\n",
      "└── 🔨 Created mount D:\\Learning Square\\LLMs\\Untitled Folder\\pricer_service2.py\n",
      "\\ Creating objects...\n",
      "└── 🔨 Created mount D:\\Learning Square\\LLMs\\Untitled Folder\\pricer_service2.py\n",
      "/ Creating objects...\n",
      "└── 🔨 Created mount D:\\Learning Square\\LLMs\\Untitled Folder\\pricer_service2.py\n",
      "\\ Creating objects...\n",
      "└── 🔨 Created mount D:\\Learning Square\\LLMs\\Untitled Folder\\pricer_service2.py\n",
      "/ Creating objects...\n",
      "└── 🔨 Created mount D:\\Learning Square\\LLMs\\Untitled Folder\\pricer_service2.py\n",
      "\\ Creating objects...\n",
      "└── 🔨 Created mount D:\\Learning Square\\LLMs\\Untitled Folder\\pricer_service2.py\n",
      "/ Creating objects...\n",
      "└── 🔨 Created mount D:\\Learning Square\\LLMs\\Untitled Folder\\pricer_service2.py\n",
      "\\ Creating objects...\n",
      "└── 🔨 Created mount D:\\Learning Square\\LLMs\\Untitled Folder\\pricer_service2.py\n",
      "/ Creating objects...\n",
      "└── 🔨 Created mount D:\\Learning Square\\LLMs\\Untitled Folder\\pricer_service2.py\n",
      "\\ Creating objects...\n",
      "└── 🔨 Created mount D:\\Learning Square\\LLMs\\Untitled Folder\\pricer_service2.py\n",
      "/ Creating objects...\n",
      "└── 🔨 Created mount D:\\Learning Square\\LLMs\\Untitled Folder\\pricer_service2.py\n",
      "\\ Creating objects...\n",
      "└── 🔨 Created mount D:\\Learning Square\\LLMs\\Untitled Folder\\pricer_service2.py\n",
      "/ Creating objects...\n",
      "└── 🔨 Created mount D:\\Learning Square\\LLMs\\Untitled Folder\\pricer_service2.py\n",
      "Successfully installed MarkupSafe-3.0.2 accelerate-1.6.0 bitsandbytes-0.45.5 charset-normalizer-3.4.2 filelock-3.18.0 fsspec-2025.3.2 hf-xet-1.1.0 huggingface-0.0.1 huggingface-hub-0.31.1 jinja2-3.1.6 mpmath-1.3.0 networkx-3.4.2 numpy-2.2.5 nvidia-cublas-cu12-12.6.4.1 nvidia-cuda-cupti-cu12-12.6.80 nvidia-cuda-nvrtc-cu12-12.6.77 nvidia-cuda-runtime-cu12-12.6.77 nvidia-cudnn-cu12-9.5.1.17 nvidia-cufft-cu12-11.3.0.4 nvidia-cufile-cu12-1.11.1.6 nvidia-curand-cu12-10.3.7.77 nvidia-cusolver-cu12-11.7.1.2 nvidia-cusparse-cu12-12.5.4.2 nvidia-cusparselt-cu12-0.6.3 nvidia-nccl-cu12-2.26.2 nvidia-nvjitlink-cu12-12.6.85 nvidia-nvtx-cu12-12.6.77 packaging-25.0 peft-0.15.2 psutil-7.0.0 pyyaml-6.0.2 regex-2024.11.6 requests-2.32.3 safetensors-0.5.3 sympy-1.14.0 tokenizers-0.21.1 torch-2.7.0 tqdm-4.67.1 transformers-4.51.3 triton-3.3.0 urllib3-2.4.0\n",
      "/ Creating objects...\n",
      "└── 🔨 Created mount D:\\Learning Square\\LLMs\\Untitled Folder\\pricer_service2.py\n",
      "\\ Creating objects...\n",
      "└── 🔨 Created mount D:\\Learning Square\\LLMs\\Untitled Folder\\pricer_service2.py\n",
      "\n",
      "[notice] A new release of pip is available: 24.3.1 -> 25.1.1\n",
      "[notice] To update, run: pip install --upgrade pip\n",
      "\\ Creating objects...\n",
      "└── 🔨 Created mount D:\\Learning Square\\LLMs\\Untitled Folder\\pricer_service2.py\n",
      "/ Creating objects...\n",
      "└── 🔨 Created mount D:\\Learning Square\\LLMs\\Untitled Folder\\pricer_service2.py\n",
      "\\ Creating objects...\n",
      "└── 🔨 Created mount D:\\Learning Square\\LLMs\\Untitled Folder\\pricer_service2.py\n",
      "/ Creating objects...\n",
      "└── 🔨 Created mount D:\\Learning Square\\LLMs\\Untitled Folder\\pricer_service2.py\n",
      "\\ Creating objects...\n",
      "└── 🔨 Created mount D:\\Learning Square\\LLMs\\Untitled Folder\\pricer_service2.py\n",
      "/ Creating objects...\n",
      "└── 🔨 Created mount D:\\Learning Square\\LLMs\\Untitled Folder\\pricer_service2.py\n",
      "Saving image...\n",
      "\\ Creating objects...\n",
      "└── 🔨 Created mount D:\\Learning Square\\LLMs\\Untitled Folder\\pricer_service2.py\n",
      "\\ Creating objects...\n",
      "└── 🔨 Created mount D:\\Learning Square\\LLMs\\Untitled Folder\\pricer_service2.py\n",
      "/ Creating objects...\n",
      "└── 🔨 Created mount D:\\Learning Square\\LLMs\\Untitled Folder\\pricer_service2.py\n",
      "\\ Creating objects...\n",
      "└── 🔨 Created mount D:\\Learning Square\\LLMs\\Untitled Folder\\pricer_service2.py\n",
      "/ Creating objects...\n",
      "└── 🔨 Created mount D:\\Learning Square\\LLMs\\Untitled Folder\\pricer_service2.py\n",
      "\\ Creating objects...\n",
      "└── 🔨 Created mount D:\\Learning Square\\LLMs\\Untitled Folder\\pricer_service2.py\n",
      "/ Creating objects...\n",
      "└── 🔨 Created mount D:\\Learning Square\\LLMs\\Untitled Folder\\pricer_service2.py\n",
      "\\ Creating objects...\n",
      "└── 🔨 Created mount D:\\Learning Square\\LLMs\\Untitled Folder\\pricer_service2.py\n",
      "Uploading image snapshot… -- ------------------------------- 0.4/6.1 GB 0:00:00\n",
      "/ Creating objects...\n",
      "└── 🔨 Created mount D:\\Learning Square\\LLMs\\Untitled Folder\\pricer_service2.py\n",
      "Uploading image snapshot… ---- ----------------------------- 0.8/6.1 GB 0:00:00\n",
      "\\ Creating objects...\n",
      "└── 🔨 Created mount D:\\Learning Square\\LLMs\\Untitled Folder\\pricer_service2.py\n",
      "Uploading image snapshot… ------------ --------------------- 2.3/6.1 GB 0:00:00\n",
      "/ Creating objects...\n",
      "└── 🔨 Created mount D:\\Learning Square\\LLMs\\Untitled Folder\\pricer_service2.py\n",
      "Uploading image snapshot… ---------------- ----------------- 2.9/6.1 GB 0:00:01\n",
      "| Creating objects...\n",
      "└── 🔨 Created mount D:\\Learning Square\\LLMs\\Untitled Folder\\pricer_service2.py\n",
      "Uploading image snapshot… ------------------- -------------- 3.5/6.1 GB 0:00:01\n",
      "- Creating objects...\n",
      "└── 🔨 Created mount D:\\Learning Square\\LLMs\\Untitled Folder\\pricer_service2.py\n",
      "Uploading image snapshot… ------------------- -------------- 3.5/6.1 GB 0:00:01\n",
      "| Creating objects...\n",
      "└── 🔨 Created mount D:\\Learning Square\\LLMs\\Untitled Folder\\pricer_service2.py\n",
      "Uploading image snapshot… ---------------------- ----------- 4.0/6.1 GB 0:00:01\n",
      "- Creating objects...\n",
      "└── 🔨 Created mount D:\\Learning Square\\LLMs\\Untitled Folder\\pricer_service2.py\n",
      "Uploading image snapshot… ---------------------- ----------- 4.0/6.1 GB 0:00:02\n",
      "| Creating objects...\n",
      "└── 🔨 Created mount D:\\Learning Square\\LLMs\\Untitled Folder\\pricer_service2.py\n",
      "Uploading image snapshot… -------------------------------- - 5.9/6.1 GB 0:00:02\n",
      "- Creating objects...\n",
      "└── 🔨 Created mount D:\\Learning Square\\LLMs\\Untitled Folder\\pricer_service2.py\n",
      "Uploading image snapshot… -------------------------------- - 5.9/6.1 GB 0:00:02\n",
      "| Creating objects...\n",
      "└── 🔨 Created mount D:\\Learning Square\\LLMs\\Untitled Folder\\pricer_service2.py\n",
      "Uploading image snapshot… ---------------------------------  5.9/6.1 GB 0:00:02\n",
      "- Creating objects...\n",
      "└── 🔨 Created mount D:\\Learning Square\\LLMs\\Untitled Folder\\pricer_service2.py\n",
      "Uploading image snapshot… ---------------------------------  5.9/6.1 GB 0:00:03\n",
      "| Creating objects...\n",
      "└── 🔨 Created mount D:\\Learning Square\\LLMs\\Untitled Folder\\pricer_service2.py\n",
      "Uploading image snapshot… ---------------------------------  6.0/6.1 GB 0:00:03\n",
      "- Creating objects...\n",
      "└── 🔨 Created mount D:\\Learning Square\\LLMs\\Untitled Folder\\pricer_service2.py\n",
      "Uploading image snapshot… ---------------------------------  6.0/6.1 GB 0:00:03\n",
      "| Creating objects...\n",
      "└── 🔨 Created mount D:\\Learning Square\\LLMs\\Untitled Folder\\pricer_service2.py\n",
      "Uploading image snapshot… ---------------------------------  6.1/6.1 GB 0:00:03\n",
      "- Creating objects...\n",
      "└── 🔨 Created mount D:\\Learning Square\\LLMs\\Untitled Folder\\pricer_service2.py\n",
      "Uploading image snapshot… ---------------------------------  6.1/6.1 GB 0:00:04\n",
      "| Creating objects...\n",
      "└── 🔨 Created mount D:\\Learning Square\\LLMs\\Untitled Folder\\pricer_service2.py\n",
      "- Creating objects...\n",
      "└── 🔨 Created mount D:\\Learning Square\\LLMs\\Untitled Folder\\pricer_service2.py\n",
      "| Creating objects...\n",
      "└── 🔨 Created mount D:\\Learning Square\\LLMs\\Untitled Folder\\pricer_service2.py\n",
      "- Creating objects...\n",
      "└── 🔨 Created mount D:\\Learning Square\\LLMs\\Untitled Folder\\pricer_service2.py\n",
      "| Creating objects...\n",
      "└── 🔨 Created mount D:\\Learning Square\\LLMs\\Untitled Folder\\pricer_service2.py\n",
      "- Creating objects...\n",
      "└── 🔨 Created mount D:\\Learning Square\\LLMs\\Untitled Folder\\pricer_service2.py\n",
      "| Creating objects...\n",
      "└── 🔨 Created mount D:\\Learning Square\\LLMs\\Untitled Folder\\pricer_service2.py\n",
      "- Creating objects...\n",
      "└── 🔨 Created mount D:\\Learning Square\\LLMs\\Untitled Folder\\pricer_service2.py\n",
      "| Creating objects...\n",
      "└── 🔨 Created mount D:\\Learning Square\\LLMs\\Untitled Folder\\pricer_service2.py\n",
      "- Creating objects...\n",
      "└── 🔨 Created mount D:\\Learning Square\\LLMs\\Untitled Folder\\pricer_service2.py\n",
      "| Creating objects...\n",
      "└── 🔨 Created mount D:\\Learning Square\\LLMs\\Untitled Folder\\pricer_service2.py\n",
      "- Creating objects...\n",
      "└── 🔨 Created mount D:\\Learning Square\\LLMs\\Untitled Folder\\pricer_service2.py\n",
      "| Creating objects...\n",
      "└── 🔨 Created mount D:\\Learning Square\\LLMs\\Untitled Folder\\pricer_service2.py\n",
      "- Creating objects...\n",
      "└── 🔨 Created mount D:\\Learning Square\\LLMs\\Untitled Folder\\pricer_service2.py\n",
      "| Creating objects...\n",
      "└── 🔨 Created mount D:\\Learning Square\\LLMs\\Untitled Folder\\pricer_service2.py\n",
      "- Creating objects...\n",
      "└── 🔨 Created mount D:\\Learning Square\\LLMs\\Untitled Folder\\pricer_service2.py\n",
      "Image saved, took 9.84s\n",
      "\\ Creating objects...\n",
      "└── 🔨 Created mount D:\\Learning Square\\LLMs\\Untitled Folder\\pricer_service2.py\n",
      "| Creating objects...\n",
      "└── 🔨 Created mount D:\\Learning Square\\LLMs\\Untitled Folder\\pricer_service2.py\n",
      "\n",
      "Built image im-9tVZbK4JQOPitAkvelRdbv in 103.89s\n",
      "\n",
      "\n",
      "/ Creating objects...\n",
      "└── 🔨 Created mount D:\\Learning Square\\LLMs\\Untitled Folder\\pricer_service2.py\n",
      "- Creating objects...\n",
      "└── 🔨 Created mount D:\\Learning Square\\LLMs\\Untitled Folder\\pricer_service2.py\n",
      "| Creating objects...\n",
      "└── 🔨 Created mount D:\\Learning Square\\LLMs\\Untitled Folder\\pricer_service2.py\n",
      "- Creating objects...\n",
      "└── 🔨 Created mount D:\\Learning Square\\LLMs\\Untitled Folder\\pricer_service2.py\n",
      "| Creating objects...\n",
      "└── 🔨 Created mount D:\\Learning Square\\LLMs\\Untitled Folder\\pricer_service2.py\n",
      "- Creating objects...\n",
      "└── 🔨 Created mount D:\\Learning Square\\LLMs\\Untitled Folder\\pricer_service2.py\n",
      "| Creating objects...\n",
      "└── 🔨 Created mount D:\\Learning Square\\LLMs\\Untitled Folder\\pricer_service2.py\n",
      "\\ Creating objects...\n",
      "└── 🔨 Created mount D:\\Learning Square\\LLMs\\Untitled Folder\\pricer_service2.py\n",
      "/ Creating objects...\n",
      "└── 🔨 Created mount D:\\Learning Square\\LLMs\\Untitled Folder\\pricer_service2.py\n",
      "\\ Creating objects...\n",
      "└── 🔨 Created mount D:\\Learning Square\\LLMs\\Untitled Folder\\pricer_service2.py\n",
      "/ Creating objects...\n",
      "├── 🔨 Created mount D:\\Learning Square\\LLMs\\Untitled Folder\\pricer_service2.py\n",
      "└── 🔨 Created function Pricer.download_model_to_folder.\n",
      "\\ Creating objects...\n",
      "├── 🔨 Created mount D:\\Learning Square\\LLMs\\Untitled Folder\\pricer_service2.py\n",
      "└── 🔨 Created function Pricer.download_model_to_folder.\n",
      "/ Creating objects...\n",
      "├── 🔨 Created mount D:\\Learning Square\\LLMs\\Untitled Folder\\pricer_service2.py\n",
      "└── 🔨 Created function Pricer.download_model_to_folder.\n",
      "\\ Creating objects...\n",
      "├── 🔨 Created mount D:\\Learning Square\\LLMs\\Untitled Folder\\pricer_service2.py\n",
      "└── 🔨 Created function Pricer.download_model_to_folder.\n",
      "/ Creating objects...\n",
      "├── 🔨 Created mount D:\\Learning Square\\LLMs\\Untitled Folder\\pricer_service2.py\n",
      "└── 🔨 Created function Pricer.download_model_to_folder.\n",
      "\\ Creating objects...\n",
      "├── 🔨 Created mount D:\\Learning Square\\LLMs\\Untitled Folder\\pricer_service2.py\n",
      "└── 🔨 Created function Pricer.download_model_to_folder.\n",
      "/ Creating objects...\n",
      "├── 🔨 Created mount D:\\Learning Square\\LLMs\\Untitled Folder\\pricer_service2.py\n",
      "└── 🔨 Created function Pricer.download_model_to_folder.\n",
      "\\ Creating objects...\n",
      "├── 🔨 Created mount D:\\Learning Square\\LLMs\\Untitled Folder\\pricer_service2.py\n",
      "└── 🔨 Created function Pricer.download_model_to_folder.\n",
      "/ Creating objects...\n",
      "├── 🔨 Created mount D:\\Learning Square\\LLMs\\Untitled Folder\\pricer_service2.py\n",
      "└── 🔨 Created function Pricer.download_model_to_folder.\n",
      "\\ Creating objects...\n",
      "├── 🔨 Created mount D:\\Learning Square\\LLMs\\Untitled Folder\\pricer_service2.py\n",
      "└── 🔨 Created function Pricer.download_model_to_folder.\n",
      "/ Creating objects...\n",
      "├── 🔨 Created mount D:\\Learning Square\\LLMs\\Untitled Folder\\pricer_service2.py\n",
      "└── 🔨 Created function Pricer.download_model_to_folder.\n",
      "\\ Creating objects...\n",
      "├── 🔨 Created mount D:\\Learning Square\\LLMs\\Untitled Folder\\pricer_service2.py\n",
      "└── 🔨 Created function Pricer.download_model_to_folder.\n",
      "/ Creating objects...\n",
      "├── 🔨 Created mount D:\\Learning Square\\LLMs\\Untitled Folder\\pricer_service2.py\n",
      "└── 🔨 Created function Pricer.download_model_to_folder.\n",
      "\\ Creating objects...\n",
      "├── 🔨 Created mount D:\\Learning Square\\LLMs\\Untitled Folder\\pricer_service2.py\n",
      "└── 🔨 Created function Pricer.download_model_to_folder.\n",
      "/ Creating objects...\n",
      "├── 🔨 Created mount D:\\Learning Square\\LLMs\\Untitled Folder\\pricer_service2.py\n",
      "└── 🔨 Created function Pricer.download_model_to_folder.\n",
      "\\ Creating objects...\n",
      "├── 🔨 Created mount D:\\Learning Square\\LLMs\\Untitled Folder\\pricer_service2.py\n",
      "└── 🔨 Created function Pricer.download_model_to_folder.\n",
      "/ Creating objects...\n",
      "├── 🔨 Created mount D:\\Learning Square\\LLMs\\Untitled Folder\\pricer_service2.py\n",
      "└── 🔨 Created function Pricer.download_model_to_folder.\n",
      "\\ Creating objects...\n",
      "├── 🔨 Created mount D:\\Learning Square\\LLMs\\Untitled Folder\\pricer_service2.py\n",
      "└── 🔨 Created function Pricer.download_model_to_folder.\n",
      "/ Creating objects...\n",
      "├── 🔨 Created mount D:\\Learning Square\\LLMs\\Untitled Folder\\pricer_service2.py\n",
      "└── 🔨 Created function Pricer.download_model_to_folder.\n",
      "\\ Creating objects...\n",
      "├── 🔨 Created mount D:\\Learning Square\\LLMs\\Untitled Folder\\pricer_service2.py\n",
      "└── 🔨 Created function Pricer.download_model_to_folder.\n",
      "/ Creating objects...\n",
      "├── 🔨 Created mount D:\\Learning Square\\LLMs\\Untitled Folder\\pricer_service2.py\n",
      "└── 🔨 Created function Pricer.download_model_to_folder.\n",
      "\\ Creating objects...\n",
      "├── 🔨 Created mount D:\\Learning Square\\LLMs\\Untitled Folder\\pricer_service2.py\n",
      "└── 🔨 Created function Pricer.download_model_to_folder.\n",
      "/ Creating objects...\n",
      "├── 🔨 Created mount D:\\Learning Square\\LLMs\\Untitled Folder\\pricer_service2.py\n",
      "└── 🔨 Created function Pricer.download_model_to_folder.\n",
      "\\ Creating objects...\n",
      "├── 🔨 Created mount D:\\Learning Square\\LLMs\\Untitled Folder\\pricer_service2.py\n",
      "└── 🔨 Created function Pricer.download_model_to_folder.\n",
      "/ Creating objects...\n",
      "├── 🔨 Created mount D:\\Learning Square\\LLMs\\Untitled Folder\\pricer_service2.py\n",
      "└── 🔨 Created function Pricer.download_model_to_folder.\n",
      "\\ Creating objects...\n",
      "├── 🔨 Created mount D:\\Learning Square\\LLMs\\Untitled Folder\\pricer_service2.py\n",
      "└── 🔨 Created function Pricer.download_model_to_folder.\n",
      "/ Creating objects...\n",
      "├── 🔨 Created mount D:\\Learning Square\\LLMs\\Untitled Folder\\pricer_service2.py\n",
      "└── 🔨 Created function Pricer.download_model_to_folder.\n",
      "\\ Creating objects...\n",
      "├── 🔨 Created mount D:\\Learning Square\\LLMs\\Untitled Folder\\pricer_service2.py\n",
      "└── 🔨 Created function Pricer.download_model_to_folder.\n",
      "Building image im-y1cFODrxk715vprAE574ry\n",
      "| Creating objects...\n",
      "├── 🔨 Created mount D:\\Learning Square\\LLMs\\Untitled Folder\\pricer_service2.py\n",
      "└── 🔨 Created function Pricer.download_model_to_folder.\n",
      "\n",
      "=> Step 0: running function 'Pricer.download_model_to_folder'\n",
      "| Creating objects...\n",
      "├── 🔨 Created mount D:\\Learning Square\\LLMs\\Untitled Folder\\pricer_service2.py\n",
      "└── 🔨 Created function Pricer.download_model_to_folder.\n",
      "/ Creating objects...\n",
      "├── 🔨 Created mount D:\\Learning Square\\LLMs\\Untitled Folder\\pricer_service2.py\n",
      "└── 🔨 Created function Pricer.download_model_to_folder.\n",
      "\\ Creating objects...\n",
      "├── 🔨 Created mount D:\\Learning Square\\LLMs\\Untitled Folder\\pricer_service2.py\n",
      "└── 🔨 Created function Pricer.download_model_to_folder.\n",
      "/ Creating objects...\n",
      "├── 🔨 Created mount D:\\Learning Square\\LLMs\\Untitled Folder\\pricer_service2.py\n",
      "└── 🔨 Created function Pricer.download_model_to_folder.\n",
      "\\ Creating objects...\n",
      "├── 🔨 Created mount D:\\Learning Square\\LLMs\\Untitled Folder\\pricer_service2.py\n",
      "└── 🔨 Created function Pricer.download_model_to_folder.\n",
      "/ Creating objects...\n",
      "├── 🔨 Created mount D:\\Learning Square\\LLMs\\Untitled Folder\\pricer_service2.py\n",
      "└── 🔨 Created function Pricer.download_model_to_folder.\n",
      "\\ Creating objects...\n",
      "├── 🔨 Created mount D:\\Learning Square\\LLMs\\Untitled Folder\\pricer_service2.py\n",
      "└── 🔨 Created function Pricer.download_model_to_folder.\n",
      "/root/pricer_service2.py:29: DeprecationError: 2025-01-15: The `@modal.build` decorator is deprecated and will be removed in a future release.\n",
      "\n",
      "We now recommend storing large assets (such as model weights) using a `modal.Volume` instead of writing them directly into the `modal.Image` filesystem. For other use cases we recommend using `Image.run_function` instead.\n",
      "\n",
      "See https://modal.com/docs/guide/modal-1-0-migration for more information.\n",
      "  @modal.build()\n",
      "| Creating objects...\n",
      "├── 🔨 Created mount D:\\Learning Square\\LLMs\\Untitled Folder\\pricer_service2.py\n",
      "└── 🔨 Created function Pricer.download_model_to_folder.\n",
      "/ Creating objects...\n",
      "├── 🔨 Created mount D:\\Learning Square\\LLMs\\Untitled Folder\\pricer_service2.py\n",
      "└── 🔨 Created function Pricer.download_model_to_folder.\n",
      "\\ Creating objects...\n",
      "├── 🔨 Created mount D:\\Learning Square\\LLMs\\Untitled Folder\\pricer_service2.py\n",
      "└── 🔨 Created function Pricer.download_model_to_folder.\n",
      "\n",
      "\\ Creating objects...\n",
      "├── 🔨 Created mount D:\\Learning Square\\LLMs\\Untitled Folder\\pricer_service2.py\n",
      "└── 🔨 Created function Pricer.download_model_to_folder.\n",
      "/ Creating objects...\n",
      "├── 🔨 Created mount D:\\Learning Square\\LLMs\\Untitled Folder\\pricer_service2.py\n",
      "└── 🔨 Created function Pricer.download_model_to_folder.\n",
      "\u001b[1AFetching 17 files:   0%|          | 0/17 [00:00<?, ?it/s]\n",
      "/ Creating objects...\n",
      "├── 🔨 Created mount D:\\Learning Square\\LLMs\\Untitled Folder\\pricer_service2.py\n",
      "└── 🔨 Created function Pricer.download_model_to_folder.\n",
      "\\ Creating objects...\n",
      "├── 🔨 Created mount D:\\Learning Square\\LLMs\\Untitled Folder\\pricer_service2.py\n",
      "└── 🔨 Created function Pricer.download_model_to_folder.\n",
      "/ Creating objects...\n",
      "├── 🔨 Created mount D:\\Learning Square\\LLMs\\Untitled Folder\\pricer_service2.py\n",
      "└── 🔨 Created function Pricer.download_model_to_folder.\n",
      "\\ Creating objects...\n",
      "├── 🔨 Created mount D:\\Learning Square\\LLMs\\Untitled Folder\\pricer_service2.py\n",
      "└── 🔨 Created function Pricer.download_model_to_folder.\n",
      "/ Creating objects...\n",
      "├── 🔨 Created mount D:\\Learning Square\\LLMs\\Untitled Folder\\pricer_service2.py\n",
      "└── 🔨 Created function Pricer.download_model_to_folder.\n",
      "\\ Creating objects...\n",
      "├── 🔨 Created mount D:\\Learning Square\\LLMs\\Untitled Folder\\pricer_service2.py\n",
      "└── 🔨 Created function Pricer.download_model_to_folder.\n",
      "/ Creating objects...\n",
      "├── 🔨 Created mount D:\\Learning Square\\LLMs\\Untitled Folder\\pricer_service2.py\n",
      "└── 🔨 Created function Pricer.download_model_to_folder.\n",
      "\\ Creating objects...\n",
      "├── 🔨 Created mount D:\\Learning Square\\LLMs\\Untitled Folder\\pricer_service2.py\n",
      "└── 🔨 Created function Pricer.download_model_to_folder.\n",
      "/ Creating objects...\n",
      "├── 🔨 Created mount D:\\Learning Square\\LLMs\\Untitled Folder\\pricer_service2.py\n",
      "└── 🔨 Created function Pricer.download_model_to_folder.\n",
      "\\ Creating objects...\n",
      "├── 🔨 Created mount D:\\Learning Square\\LLMs\\Untitled Folder\\pricer_service2.py\n",
      "└── 🔨 Created function Pricer.download_model_to_folder.\n",
      "/ Creating objects...\n",
      "├── 🔨 Created mount D:\\Learning Square\\LLMs\\Untitled Folder\\pricer_service2.py\n",
      "└── 🔨 Created function Pricer.download_model_to_folder.\n",
      "| Creating objects...\n",
      "├── 🔨 Created mount D:\\Learning Square\\LLMs\\Untitled Folder\\pricer_service2.py\n",
      "└── 🔨 Created function Pricer.download_model_to_folder.\n",
      "- Creating objects...\n",
      "├── 🔨 Created mount D:\\Learning Square\\LLMs\\Untitled Folder\\pricer_service2.py\n",
      "└── 🔨 Created function Pricer.download_model_to_folder.\n",
      "| Creating objects...\n",
      "├── 🔨 Created mount D:\\Learning Square\\LLMs\\Untitled Folder\\pricer_service2.py\n",
      "└── 🔨 Created function Pricer.download_model_to_folder.\n",
      "- Creating objects...\n",
      "├── 🔨 Created mount D:\\Learning Square\\LLMs\\Untitled Folder\\pricer_service2.py\n",
      "└── 🔨 Created function Pricer.download_model_to_folder.\n",
      "| Creating objects...\n",
      "├── 🔨 Created mount D:\\Learning Square\\LLMs\\Untitled Folder\\pricer_service2.py\n",
      "└── 🔨 Created function Pricer.download_model_to_folder.\n",
      "- Creating objects...\n",
      "├── 🔨 Created mount D:\\Learning Square\\LLMs\\Untitled Folder\\pricer_service2.py\n",
      "└── 🔨 Created function Pricer.download_model_to_folder.\n",
      "| Creating objects...\n",
      "├── 🔨 Created mount D:\\Learning Square\\LLMs\\Untitled Folder\\pricer_service2.py\n",
      "└── 🔨 Created function Pricer.download_model_to_folder.\n",
      "- Creating objects...\n",
      "├── 🔨 Created mount D:\\Learning Square\\LLMs\\Untitled Folder\\pricer_service2.py\n",
      "└── 🔨 Created function Pricer.download_model_to_folder.\n",
      "| Creating objects...\n",
      "├── 🔨 Created mount D:\\Learning Square\\LLMs\\Untitled Folder\\pricer_service2.py\n",
      "└── 🔨 Created function Pricer.download_model_to_folder.\n",
      "- Creating objects...\n",
      "├── 🔨 Created mount D:\\Learning Square\\LLMs\\Untitled Folder\\pricer_service2.py\n",
      "└── 🔨 Created function Pricer.download_model_to_folder.\n",
      "| Creating objects...\n",
      "├── 🔨 Created mount D:\\Learning Square\\LLMs\\Untitled Folder\\pricer_service2.py\n",
      "└── 🔨 Created function Pricer.download_model_to_folder.\n",
      "- Creating objects...\n",
      "├── 🔨 Created mount D:\\Learning Square\\LLMs\\Untitled Folder\\pricer_service2.py\n",
      "└── 🔨 Created function Pricer.download_model_to_folder.\n",
      "| Creating objects...\n",
      "├── 🔨 Created mount D:\\Learning Square\\LLMs\\Untitled Folder\\pricer_service2.py\n",
      "└── 🔨 Created function Pricer.download_model_to_folder.\n",
      "- Creating objects...\n",
      "├── 🔨 Created mount D:\\Learning Square\\LLMs\\Untitled Folder\\pricer_service2.py\n",
      "└── 🔨 Created function Pricer.download_model_to_folder.\n",
      "| Creating objects...\n",
      "├── 🔨 Created mount D:\\Learning Square\\LLMs\\Untitled Folder\\pricer_service2.py\n",
      "└── 🔨 Created function Pricer.download_model_to_folder.\n",
      "- Creating objects...\n",
      "├── 🔨 Created mount D:\\Learning Square\\LLMs\\Untitled Folder\\pricer_service2.py\n",
      "└── 🔨 Created function Pricer.download_model_to_folder.\n",
      "| Creating objects...\n",
      "├── 🔨 Created mount D:\\Learning Square\\LLMs\\Untitled Folder\\pricer_service2.py\n",
      "└── 🔨 Created function Pricer.download_model_to_folder.\n",
      "- Creating objects...\n",
      "├── 🔨 Created mount D:\\Learning Square\\LLMs\\Untitled Folder\\pricer_service2.py\n",
      "└── 🔨 Created function Pricer.download_model_to_folder.\n",
      "| Creating objects...\n",
      "├── 🔨 Created mount D:\\Learning Square\\LLMs\\Untitled Folder\\pricer_service2.py\n",
      "└── 🔨 Created function Pricer.download_model_to_folder.\n",
      "- Creating objects...\n",
      "├── 🔨 Created mount D:\\Learning Square\\LLMs\\Untitled Folder\\pricer_service2.py\n",
      "└── 🔨 Created function Pricer.download_model_to_folder.\n",
      "| Creating objects...\n",
      "├── 🔨 Created mount D:\\Learning Square\\LLMs\\Untitled Folder\\pricer_service2.py\n",
      "└── 🔨 Created function Pricer.download_model_to_folder.\n",
      "- Creating objects...\n",
      "├── 🔨 Created mount D:\\Learning Square\\LLMs\\Untitled Folder\\pricer_service2.py\n",
      "└── 🔨 Created function Pricer.download_model_to_folder.\n",
      "| Creating objects...\n",
      "├── 🔨 Created mount D:\\Learning Square\\LLMs\\Untitled Folder\\pricer_service2.py\n",
      "└── 🔨 Created function Pricer.download_model_to_folder.\n",
      "- Creating objects...\n",
      "├── 🔨 Created mount D:\\Learning Square\\LLMs\\Untitled Folder\\pricer_service2.py\n",
      "└── 🔨 Created function Pricer.download_model_to_folder.\n",
      "| Creating objects...\n",
      "├── 🔨 Created mount D:\\Learning Square\\LLMs\\Untitled Folder\\pricer_service2.py\n",
      "└── 🔨 Created function Pricer.download_model_to_folder.\n",
      "- Creating objects...\n",
      "├── 🔨 Created mount D:\\Learning Square\\LLMs\\Untitled Folder\\pricer_service2.py\n",
      "└── 🔨 Created function Pricer.download_model_to_folder.\n",
      "| Creating objects...\n",
      "├── 🔨 Created mount D:\\Learning Square\\LLMs\\Untitled Folder\\pricer_service2.py\n",
      "└── 🔨 Created function Pricer.download_model_to_folder.\n",
      "- Creating objects...\n",
      "├── 🔨 Created mount D:\\Learning Square\\LLMs\\Untitled Folder\\pricer_service2.py\n",
      "└── 🔨 Created function Pricer.download_model_to_folder.\n",
      "/ Creating objects...\n",
      "├── 🔨 Created mount D:\\Learning Square\\LLMs\\Untitled Folder\\pricer_service2.py\n",
      "└── 🔨 Created function Pricer.download_model_to_folder.\n",
      "\\ Creating objects...\n",
      "├── 🔨 Created mount D:\\Learning Square\\LLMs\\Untitled Folder\\pricer_service2.py\n",
      "└── 🔨 Created function Pricer.download_model_to_folder.\n",
      "/ Creating objects...\n",
      "├── 🔨 Created mount D:\\Learning Square\\LLMs\\Untitled Folder\\pricer_service2.py\n",
      "└── 🔨 Created function Pricer.download_model_to_folder.\n",
      "\\ Creating objects...\n",
      "├── 🔨 Created mount D:\\Learning Square\\LLMs\\Untitled Folder\\pricer_service2.py\n",
      "└── 🔨 Created function Pricer.download_model_to_folder.\n",
      "/ Creating objects...\n",
      "├── 🔨 Created mount D:\\Learning Square\\LLMs\\Untitled Folder\\pricer_service2.py\n",
      "└── 🔨 Created function Pricer.download_model_to_folder.\n",
      "\\ Creating objects...\n",
      "├── 🔨 Created mount D:\\Learning Square\\LLMs\\Untitled Folder\\pricer_service2.py\n",
      "└── 🔨 Created function Pricer.download_model_to_folder.\n",
      "/ Creating objects...\n",
      "├── 🔨 Created mount D:\\Learning Square\\LLMs\\Untitled Folder\\pricer_service2.py\n",
      "└── 🔨 Created function Pricer.download_model_to_folder.\n",
      "\\ Creating objects...\n",
      "├── 🔨 Created mount D:\\Learning Square\\LLMs\\Untitled Folder\\pricer_service2.py\n",
      "└── 🔨 Created function Pricer.download_model_to_folder.\n",
      "/ Creating objects...\n",
      "├── 🔨 Created mount D:\\Learning Square\\LLMs\\Untitled Folder\\pricer_service2.py\n",
      "└── 🔨 Created function Pricer.download_model_to_folder.\n",
      "\\ Creating objects...\n",
      "├── 🔨 Created mount D:\\Learning Square\\LLMs\\Untitled Folder\\pricer_service2.py\n",
      "└── 🔨 Created function Pricer.download_model_to_folder.\n",
      "/ Creating objects...\n",
      "├── 🔨 Created mount D:\\Learning Square\\LLMs\\Untitled Folder\\pricer_service2.py\n",
      "└── 🔨 Created function Pricer.download_model_to_folder.\n",
      "\\ Creating objects...\n",
      "├── 🔨 Created mount D:\\Learning Square\\LLMs\\Untitled Folder\\pricer_service2.py\n",
      "└── 🔨 Created function Pricer.download_model_to_folder.\n",
      "/ Creating objects...\n",
      "├── 🔨 Created mount D:\\Learning Square\\LLMs\\Untitled Folder\\pricer_service2.py\n",
      "└── 🔨 Created function Pricer.download_model_to_folder.\n",
      "\\ Creating objects...\n",
      "├── 🔨 Created mount D:\\Learning Square\\LLMs\\Untitled Folder\\pricer_service2.py\n",
      "└── 🔨 Created function Pricer.download_model_to_folder.\n",
      "/ Creating objects...\n",
      "├── 🔨 Created mount D:\\Learning Square\\LLMs\\Untitled Folder\\pricer_service2.py\n",
      "└── 🔨 Created function Pricer.download_model_to_folder.\n",
      "\\ Creating objects...\n",
      "├── 🔨 Created mount D:\\Learning Square\\LLMs\\Untitled Folder\\pricer_service2.py\n",
      "└── 🔨 Created function Pricer.download_model_to_folder.\n",
      "/ Creating objects...\n",
      "├── 🔨 Created mount D:\\Learning Square\\LLMs\\Untitled Folder\\pricer_service2.py\n",
      "└── 🔨 Created function Pricer.download_model_to_folder.\n",
      "\\ Creating objects...\n",
      "├── 🔨 Created mount D:\\Learning Square\\LLMs\\Untitled Folder\\pricer_service2.py\n",
      "└── 🔨 Created function Pricer.download_model_to_folder.\n",
      "/ Creating objects...\n",
      "├── 🔨 Created mount D:\\Learning Square\\LLMs\\Untitled Folder\\pricer_service2.py\n",
      "└── 🔨 Created function Pricer.download_model_to_folder.\n",
      "\\ Creating objects...\n",
      "├── 🔨 Created mount D:\\Learning Square\\LLMs\\Untitled Folder\\pricer_service2.py\n",
      "└── 🔨 Created function Pricer.download_model_to_folder.\n",
      "/ Creating objects...\n",
      "├── 🔨 Created mount D:\\Learning Square\\LLMs\\Untitled Folder\\pricer_service2.py\n",
      "└── 🔨 Created function Pricer.download_model_to_folder.\n",
      "\\ Creating objects...\n",
      "├── 🔨 Created mount D:\\Learning Square\\LLMs\\Untitled Folder\\pricer_service2.py\n",
      "└── 🔨 Created function Pricer.download_model_to_folder.\n",
      "/ Creating objects...\n",
      "├── 🔨 Created mount D:\\Learning Square\\LLMs\\Untitled Folder\\pricer_service2.py\n",
      "└── 🔨 Created function Pricer.download_model_to_folder.\n",
      "\\ Creating objects...\n",
      "├── 🔨 Created mount D:\\Learning Square\\LLMs\\Untitled Folder\\pricer_service2.py\n",
      "└── 🔨 Created function Pricer.download_model_to_folder.\n",
      "/ Creating objects...\n",
      "├── 🔨 Created mount D:\\Learning Square\\LLMs\\Untitled Folder\\pricer_service2.py\n",
      "└── 🔨 Created function Pricer.download_model_to_folder.\n",
      "\\ Creating objects...\n",
      "├── 🔨 Created mount D:\\Learning Square\\LLMs\\Untitled Folder\\pricer_service2.py\n",
      "└── 🔨 Created function Pricer.download_model_to_folder.\n",
      "/ Creating objects...\n",
      "├── 🔨 Created mount D:\\Learning Square\\LLMs\\Untitled Folder\\pricer_service2.py\n",
      "└── 🔨 Created function Pricer.download_model_to_folder.\n",
      "\\ Creating objects...\n",
      "├── 🔨 Created mount D:\\Learning Square\\LLMs\\Untitled Folder\\pricer_service2.py\n",
      "└── 🔨 Created function Pricer.download_model_to_folder.\n",
      "/ Creating objects...\n",
      "├── 🔨 Created mount D:\\Learning Square\\LLMs\\Untitled Folder\\pricer_service2.py\n",
      "└── 🔨 Created function Pricer.download_model_to_folder.\n",
      "\\ Creating objects...\n",
      "├── 🔨 Created mount D:\\Learning Square\\LLMs\\Untitled Folder\\pricer_service2.py\n",
      "└── 🔨 Created function Pricer.download_model_to_folder.\n",
      "- Creating objects...\n",
      "├── 🔨 Created mount D:\\Learning Square\\LLMs\\Untitled Folder\\pricer_service2.py\n",
      "└── 🔨 Created function Pricer.download_model_to_folder.\n",
      "| Creating objects...\n",
      "├── 🔨 Created mount D:\\Learning Square\\LLMs\\Untitled Folder\\pricer_service2.py\n",
      "└── 🔨 Created function Pricer.download_model_to_folder.\n",
      "- Creating objects...\n",
      "├── 🔨 Created mount D:\\Learning Square\\LLMs\\Untitled Folder\\pricer_service2.py\n",
      "└── 🔨 Created function Pricer.download_model_to_folder.\n",
      "| Creating objects...\n",
      "├── 🔨 Created mount D:\\Learning Square\\LLMs\\Untitled Folder\\pricer_service2.py\n",
      "└── 🔨 Created function Pricer.download_model_to_folder.\n",
      "- Creating objects...\n",
      "├── 🔨 Created mount D:\\Learning Square\\LLMs\\Untitled Folder\\pricer_service2.py\n",
      "└── 🔨 Created function Pricer.download_model_to_folder.\n",
      "| Creating objects...\n",
      "├── 🔨 Created mount D:\\Learning Square\\LLMs\\Untitled Folder\\pricer_service2.py\n",
      "└── 🔨 Created function Pricer.download_model_to_folder.\n",
      "- Creating objects...\n",
      "├── 🔨 Created mount D:\\Learning Square\\LLMs\\Untitled Folder\\pricer_service2.py\n",
      "└── 🔨 Created function Pricer.download_model_to_folder.\n",
      "| Creating objects...\n",
      "├── 🔨 Created mount D:\\Learning Square\\LLMs\\Untitled Folder\\pricer_service2.py\n",
      "└── 🔨 Created function Pricer.download_model_to_folder.\n",
      "- Creating objects...\n",
      "├── 🔨 Created mount D:\\Learning Square\\LLMs\\Untitled Folder\\pricer_service2.py\n",
      "└── 🔨 Created function Pricer.download_model_to_folder.\n",
      "| Creating objects...\n",
      "├── 🔨 Created mount D:\\Learning Square\\LLMs\\Untitled Folder\\pricer_service2.py\n",
      "└── 🔨 Created function Pricer.download_model_to_folder.\n",
      "- Creating objects...\n",
      "├── 🔨 Created mount D:\\Learning Square\\LLMs\\Untitled Folder\\pricer_service2.py\n",
      "└── 🔨 Created function Pricer.download_model_to_folder.\n",
      "| Creating objects...\n",
      "├── 🔨 Created mount D:\\Learning Square\\LLMs\\Untitled Folder\\pricer_service2.py\n",
      "└── 🔨 Created function Pricer.download_model_to_folder.\n",
      "- Creating objects...\n",
      "├── 🔨 Created mount D:\\Learning Square\\LLMs\\Untitled Folder\\pricer_service2.py\n",
      "└── 🔨 Created function Pricer.download_model_to_folder.\n",
      "| Creating objects...\n",
      "├── 🔨 Created mount D:\\Learning Square\\LLMs\\Untitled Folder\\pricer_service2.py\n",
      "└── 🔨 Created function Pricer.download_model_to_folder.\n",
      "- Creating objects...\n",
      "├── 🔨 Created mount D:\\Learning Square\\LLMs\\Untitled Folder\\pricer_service2.py\n",
      "└── 🔨 Created function Pricer.download_model_to_folder.\n",
      "| Creating objects...\n",
      "├── 🔨 Created mount D:\\Learning Square\\LLMs\\Untitled Folder\\pricer_service2.py\n",
      "└── 🔨 Created function Pricer.download_model_to_folder.\n",
      "- Creating objects...\n",
      "├── 🔨 Created mount D:\\Learning Square\\LLMs\\Untitled Folder\\pricer_service2.py\n",
      "└── 🔨 Created function Pricer.download_model_to_folder.\n",
      "| Creating objects...\n",
      "├── 🔨 Created mount D:\\Learning Square\\LLMs\\Untitled Folder\\pricer_service2.py\n",
      "└── 🔨 Created function Pricer.download_model_to_folder.\n",
      "- Creating objects...\n",
      "├── 🔨 Created mount D:\\Learning Square\\LLMs\\Untitled Folder\\pricer_service2.py\n",
      "└── 🔨 Created function Pricer.download_model_to_folder.\n",
      "| Creating objects...\n",
      "├── 🔨 Created mount D:\\Learning Square\\LLMs\\Untitled Folder\\pricer_service2.py\n",
      "└── 🔨 Created function Pricer.download_model_to_folder.\n",
      "- Creating objects...\n",
      "├── 🔨 Created mount D:\\Learning Square\\LLMs\\Untitled Folder\\pricer_service2.py\n",
      "└── 🔨 Created function Pricer.download_model_to_folder.\n",
      "| Creating objects...\n",
      "├── 🔨 Created mount D:\\Learning Square\\LLMs\\Untitled Folder\\pricer_service2.py\n",
      "└── 🔨 Created function Pricer.download_model_to_folder.\n",
      "- Creating objects...\n",
      "├── 🔨 Created mount D:\\Learning Square\\LLMs\\Untitled Folder\\pricer_service2.py\n",
      "└── 🔨 Created function Pricer.download_model_to_folder.\n",
      "| Creating objects...\n",
      "├── 🔨 Created mount D:\\Learning Square\\LLMs\\Untitled Folder\\pricer_service2.py\n",
      "└── 🔨 Created function Pricer.download_model_to_folder.\n",
      "- Creating objects...\n",
      "├── 🔨 Created mount D:\\Learning Square\\LLMs\\Untitled Folder\\pricer_service2.py\n",
      "└── 🔨 Created function Pricer.download_model_to_folder.\n",
      "| Creating objects...\n",
      "├── 🔨 Created mount D:\\Learning Square\\LLMs\\Untitled Folder\\pricer_service2.py\n",
      "└── 🔨 Created function Pricer.download_model_to_folder.\n",
      "- Creating objects...\n",
      "├── 🔨 Created mount D:\\Learning Square\\LLMs\\Untitled Folder\\pricer_service2.py\n",
      "└── 🔨 Created function Pricer.download_model_to_folder.\n",
      "| Creating objects...\n",
      "├── 🔨 Created mount D:\\Learning Square\\LLMs\\Untitled Folder\\pricer_service2.py\n",
      "└── 🔨 Created function Pricer.download_model_to_folder.\n",
      "- Creating objects...\n",
      "├── 🔨 Created mount D:\\Learning Square\\LLMs\\Untitled Folder\\pricer_service2.py\n",
      "└── 🔨 Created function Pricer.download_model_to_folder.\n",
      "| Creating objects...\n",
      "├── 🔨 Created mount D:\\Learning Square\\LLMs\\Untitled Folder\\pricer_service2.py\n",
      "└── 🔨 Created function Pricer.download_model_to_folder.\n",
      "- Creating objects...\n",
      "├── 🔨 Created mount D:\\Learning Square\\LLMs\\Untitled Folder\\pricer_service2.py\n",
      "└── 🔨 Created function Pricer.download_model_to_folder.\n",
      "/ Creating objects...\n",
      "├── 🔨 Created mount D:\\Learning Square\\LLMs\\Untitled Folder\\pricer_service2.py\n",
      "└── 🔨 Created function Pricer.download_model_to_folder.\n",
      "\\ Creating objects...\n",
      "├── 🔨 Created mount D:\\Learning Square\\LLMs\\Untitled Folder\\pricer_service2.py\n",
      "└── 🔨 Created function Pricer.download_model_to_folder.\n",
      "/ Creating objects...\n",
      "├── 🔨 Created mount D:\\Learning Square\\LLMs\\Untitled Folder\\pricer_service2.py\n",
      "└── 🔨 Created function Pricer.download_model_to_folder.\n",
      "\\ Creating objects...\n",
      "├── 🔨 Created mount D:\\Learning Square\\LLMs\\Untitled Folder\\pricer_service2.py\n",
      "└── 🔨 Created function Pricer.download_model_to_folder.\n",
      "/ Creating objects...\n",
      "├── 🔨 Created mount D:\\Learning Square\\LLMs\\Untitled Folder\\pricer_service2.py\n",
      "└── 🔨 Created function Pricer.download_model_to_folder.\n",
      "\\ Creating objects...\n",
      "├── 🔨 Created mount D:\\Learning Square\\LLMs\\Untitled Folder\\pricer_service2.py\n",
      "└── 🔨 Created function Pricer.download_model_to_folder.\n",
      "/ Creating objects...\n",
      "├── 🔨 Created mount D:\\Learning Square\\LLMs\\Untitled Folder\\pricer_service2.py\n",
      "└── 🔨 Created function Pricer.download_model_to_folder.\n",
      "\\ Creating objects...\n",
      "├── 🔨 Created mount D:\\Learning Square\\LLMs\\Untitled Folder\\pricer_service2.py\n",
      "└── 🔨 Created function Pricer.download_model_to_folder.\n",
      "/ Creating objects...\n",
      "├── 🔨 Created mount D:\\Learning Square\\LLMs\\Untitled Folder\\pricer_service2.py\n",
      "└── 🔨 Created function Pricer.download_model_to_folder.\n",
      "\\ Creating objects...\n",
      "├── 🔨 Created mount D:\\Learning Square\\LLMs\\Untitled Folder\\pricer_service2.py\n",
      "└── 🔨 Created function Pricer.download_model_to_folder.\n",
      "/ Creating objects...\n",
      "├── 🔨 Created mount D:\\Learning Square\\LLMs\\Untitled Folder\\pricer_service2.py\n",
      "└── 🔨 Created function Pricer.download_model_to_folder.\n",
      "\\ Creating objects...\n",
      "├── 🔨 Created mount D:\\Learning Square\\LLMs\\Untitled Folder\\pricer_service2.py\n",
      "└── 🔨 Created function Pricer.download_model_to_folder.\n",
      "/ Creating objects...\n",
      "├── 🔨 Created mount D:\\Learning Square\\LLMs\\Untitled Folder\\pricer_service2.py\n",
      "└── 🔨 Created function Pricer.download_model_to_folder.\n",
      "\\ Creating objects...\n",
      "├── 🔨 Created mount D:\\Learning Square\\LLMs\\Untitled Folder\\pricer_service2.py\n",
      "└── 🔨 Created function Pricer.download_model_to_folder.\n",
      "/ Creating objects...\n",
      "├── 🔨 Created mount D:\\Learning Square\\LLMs\\Untitled Folder\\pricer_service2.py\n",
      "└── 🔨 Created function Pricer.download_model_to_folder.\n",
      "\\ Creating objects...\n",
      "├── 🔨 Created mount D:\\Learning Square\\LLMs\\Untitled Folder\\pricer_service2.py\n",
      "└── 🔨 Created function Pricer.download_model_to_folder.\n",
      "/ Creating objects...\n",
      "├── 🔨 Created mount D:\\Learning Square\\LLMs\\Untitled Folder\\pricer_service2.py\n",
      "└── 🔨 Created function Pricer.download_model_to_folder.\n",
      "\\ Creating objects...\n",
      "├── 🔨 Created mount D:\\Learning Square\\LLMs\\Untitled Folder\\pricer_service2.py\n",
      "└── 🔨 Created function Pricer.download_model_to_folder.\n",
      "/ Creating objects...\n",
      "├── 🔨 Created mount D:\\Learning Square\\LLMs\\Untitled Folder\\pricer_service2.py\n",
      "└── 🔨 Created function Pricer.download_model_to_folder.\n",
      "\\ Creating objects...\n",
      "├── 🔨 Created mount D:\\Learning Square\\LLMs\\Untitled Folder\\pricer_service2.py\n",
      "└── 🔨 Created function Pricer.download_model_to_folder.\n",
      "/ Creating objects...\n",
      "├── 🔨 Created mount D:\\Learning Square\\LLMs\\Untitled Folder\\pricer_service2.py\n",
      "└── 🔨 Created function Pricer.download_model_to_folder.\n",
      "\\ Creating objects...\n",
      "├── 🔨 Created mount D:\\Learning Square\\LLMs\\Untitled Folder\\pricer_service2.py\n",
      "└── 🔨 Created function Pricer.download_model_to_folder.\n",
      "/ Creating objects...\n",
      "├── 🔨 Created mount D:\\Learning Square\\LLMs\\Untitled Folder\\pricer_service2.py\n",
      "└── 🔨 Created function Pricer.download_model_to_folder.\n",
      "\\ Creating objects...\n",
      "├── 🔨 Created mount D:\\Learning Square\\LLMs\\Untitled Folder\\pricer_service2.py\n",
      "└── 🔨 Created function Pricer.download_model_to_folder.\n",
      "/ Creating objects...\n",
      "├── 🔨 Created mount D:\\Learning Square\\LLMs\\Untitled Folder\\pricer_service2.py\n",
      "└── 🔨 Created function Pricer.download_model_to_folder.\n",
      "\\ Creating objects...\n",
      "├── 🔨 Created mount D:\\Learning Square\\LLMs\\Untitled Folder\\pricer_service2.py\n",
      "└── 🔨 Created function Pricer.download_model_to_folder.\n",
      "- Creating objects...\n",
      "├── 🔨 Created mount D:\\Learning Square\\LLMs\\Untitled Folder\\pricer_service2.py\n",
      "└── 🔨 Created function Pricer.download_model_to_folder.\n",
      "| Creating objects...\n",
      "├── 🔨 Created mount D:\\Learning Square\\LLMs\\Untitled Folder\\pricer_service2.py\n",
      "└── 🔨 Created function Pricer.download_model_to_folder.\n",
      "- Creating objects...\n",
      "├── 🔨 Created mount D:\\Learning Square\\LLMs\\Untitled Folder\\pricer_service2.py\n",
      "└── 🔨 Created function Pricer.download_model_to_folder.\n",
      "| Creating objects...\n",
      "├── 🔨 Created mount D:\\Learning Square\\LLMs\\Untitled Folder\\pricer_service2.py\n",
      "└── 🔨 Created function Pricer.download_model_to_folder.\n",
      "- Creating objects...\n",
      "├── 🔨 Created mount D:\\Learning Square\\LLMs\\Untitled Folder\\pricer_service2.py\n",
      "└── 🔨 Created function Pricer.download_model_to_folder.\n",
      "| Creating objects...\n",
      "├── 🔨 Created mount D:\\Learning Square\\LLMs\\Untitled Folder\\pricer_service2.py\n",
      "└── 🔨 Created function Pricer.download_model_to_folder.\n",
      "- Creating objects...\n",
      "├── 🔨 Created mount D:\\Learning Square\\LLMs\\Untitled Folder\\pricer_service2.py\n",
      "└── 🔨 Created function Pricer.download_model_to_folder.\n",
      "| Creating objects...\n",
      "├── 🔨 Created mount D:\\Learning Square\\LLMs\\Untitled Folder\\pricer_service2.py\n",
      "└── 🔨 Created function Pricer.download_model_to_folder.\n",
      "- Creating objects...\n",
      "├── 🔨 Created mount D:\\Learning Square\\LLMs\\Untitled Folder\\pricer_service2.py\n",
      "└── 🔨 Created function Pricer.download_model_to_folder.\n",
      "| Creating objects...\n",
      "├── 🔨 Created mount D:\\Learning Square\\LLMs\\Untitled Folder\\pricer_service2.py\n",
      "└── 🔨 Created function Pricer.download_model_to_folder.\n",
      "- Creating objects...\n",
      "├── 🔨 Created mount D:\\Learning Square\\LLMs\\Untitled Folder\\pricer_service2.py\n",
      "└── 🔨 Created function Pricer.download_model_to_folder.\n",
      "| Creating objects...\n",
      "├── 🔨 Created mount D:\\Learning Square\\LLMs\\Untitled Folder\\pricer_service2.py\n",
      "└── 🔨 Created function Pricer.download_model_to_folder.\n",
      "- Creating objects...\n",
      "├── 🔨 Created mount D:\\Learning Square\\LLMs\\Untitled Folder\\pricer_service2.py\n",
      "└── 🔨 Created function Pricer.download_model_to_folder.\n",
      "| Creating objects...\n",
      "├── 🔨 Created mount D:\\Learning Square\\LLMs\\Untitled Folder\\pricer_service2.py\n",
      "└── 🔨 Created function Pricer.download_model_to_folder.\n",
      "- Creating objects...\n",
      "├── 🔨 Created mount D:\\Learning Square\\LLMs\\Untitled Folder\\pricer_service2.py\n",
      "└── 🔨 Created function Pricer.download_model_to_folder.\n",
      "| Creating objects...\n",
      "├── 🔨 Created mount D:\\Learning Square\\LLMs\\Untitled Folder\\pricer_service2.py\n",
      "└── 🔨 Created function Pricer.download_model_to_folder.\n",
      "- Creating objects...\n",
      "├── 🔨 Created mount D:\\Learning Square\\LLMs\\Untitled Folder\\pricer_service2.py\n",
      "└── 🔨 Created function Pricer.download_model_to_folder.\n",
      "| Creating objects...\n",
      "├── 🔨 Created mount D:\\Learning Square\\LLMs\\Untitled Folder\\pricer_service2.py\n",
      "└── 🔨 Created function Pricer.download_model_to_folder.\n",
      "- Creating objects...\n",
      "├── 🔨 Created mount D:\\Learning Square\\LLMs\\Untitled Folder\\pricer_service2.py\n",
      "└── 🔨 Created function Pricer.download_model_to_folder.\n",
      "| Creating objects...\n",
      "├── 🔨 Created mount D:\\Learning Square\\LLMs\\Untitled Folder\\pricer_service2.py\n",
      "└── 🔨 Created function Pricer.download_model_to_folder.\n",
      "\\ Creating objects...\n",
      "├── 🔨 Created mount D:\\Learning Square\\LLMs\\Untitled Folder\\pricer_service2.py\n",
      "└── 🔨 Created function Pricer.download_model_to_folder.\n",
      "/ Creating objects...\n",
      "├── 🔨 Created mount D:\\Learning Square\\LLMs\\Untitled Folder\\pricer_service2.py\n",
      "└── 🔨 Created function Pricer.download_model_to_folder.\n",
      "\\ Creating objects...\n",
      "├── 🔨 Created mount D:\\Learning Square\\LLMs\\Untitled Folder\\pricer_service2.py\n",
      "└── 🔨 Created function Pricer.download_model_to_folder.\n",
      "/ Creating objects...\n",
      "├── 🔨 Created mount D:\\Learning Square\\LLMs\\Untitled Folder\\pricer_service2.py\n",
      "└── 🔨 Created function Pricer.download_model_to_folder.\n",
      "\\ Creating objects...\n",
      "├── 🔨 Created mount D:\\Learning Square\\LLMs\\Untitled Folder\\pricer_service2.py\n",
      "└── 🔨 Created function Pricer.download_model_to_folder.\n",
      "/ Creating objects...\n",
      "├── 🔨 Created mount D:\\Learning Square\\LLMs\\Untitled Folder\\pricer_service2.py\n",
      "└── 🔨 Created function Pricer.download_model_to_folder.\n",
      "\\ Creating objects...\n",
      "├── 🔨 Created mount D:\\Learning Square\\LLMs\\Untitled Folder\\pricer_service2.py\n",
      "└── 🔨 Created function Pricer.download_model_to_folder.\n",
      "/ Creating objects...\n",
      "├── 🔨 Created mount D:\\Learning Square\\LLMs\\Untitled Folder\\pricer_service2.py\n",
      "└── 🔨 Created function Pricer.download_model_to_folder.\n",
      "\\ Creating objects...\n",
      "├── 🔨 Created mount D:\\Learning Square\\LLMs\\Untitled Folder\\pricer_service2.py\n",
      "└── 🔨 Created function Pricer.download_model_to_folder.\n",
      "/ Creating objects...\n",
      "├── 🔨 Created mount D:\\Learning Square\\LLMs\\Untitled Folder\\pricer_service2.py\n",
      "└── 🔨 Created function Pricer.download_model_to_folder.\n",
      "\\ Creating objects...\n",
      "├── 🔨 Created mount D:\\Learning Square\\LLMs\\Untitled Folder\\pricer_service2.py\n",
      "└── 🔨 Created function Pricer.download_model_to_folder.\n",
      "/ Creating objects...\n",
      "├── 🔨 Created mount D:\\Learning Square\\LLMs\\Untitled Folder\\pricer_service2.py\n",
      "└── 🔨 Created function Pricer.download_model_to_folder.\n",
      "\\ Creating objects...\n",
      "├── 🔨 Created mount D:\\Learning Square\\LLMs\\Untitled Folder\\pricer_service2.py\n",
      "└── 🔨 Created function Pricer.download_model_to_folder.\n",
      "/ Creating objects...\n",
      "├── 🔨 Created mount D:\\Learning Square\\LLMs\\Untitled Folder\\pricer_service2.py\n",
      "└── 🔨 Created function Pricer.download_model_to_folder.\n",
      "\\ Creating objects...\n",
      "├── 🔨 Created mount D:\\Learning Square\\LLMs\\Untitled Folder\\pricer_service2.py\n",
      "└── 🔨 Created function Pricer.download_model_to_folder.\n",
      "/ Creating objects...\n",
      "├── 🔨 Created mount D:\\Learning Square\\LLMs\\Untitled Folder\\pricer_service2.py\n",
      "└── 🔨 Created function Pricer.download_model_to_folder.\n",
      "\\ Creating objects...\n",
      "├── 🔨 Created mount D:\\Learning Square\\LLMs\\Untitled Folder\\pricer_service2.py\n",
      "└── 🔨 Created function Pricer.download_model_to_folder.\n",
      "/ Creating objects...\n",
      "├── 🔨 Created mount D:\\Learning Square\\LLMs\\Untitled Folder\\pricer_service2.py\n",
      "└── 🔨 Created function Pricer.download_model_to_folder.\n",
      "\\ Creating objects...\n",
      "├── 🔨 Created mount D:\\Learning Square\\LLMs\\Untitled Folder\\pricer_service2.py\n",
      "└── 🔨 Created function Pricer.download_model_to_folder.\n",
      "/ Creating objects...\n",
      "├── 🔨 Created mount D:\\Learning Square\\LLMs\\Untitled Folder\\pricer_service2.py\n",
      "└── 🔨 Created function Pricer.download_model_to_folder.\n",
      "\\ Creating objects...\n",
      "├── 🔨 Created mount D:\\Learning Square\\LLMs\\Untitled Folder\\pricer_service2.py\n",
      "└── 🔨 Created function Pricer.download_model_to_folder.\n",
      "/ Creating objects...\n",
      "├── 🔨 Created mount D:\\Learning Square\\LLMs\\Untitled Folder\\pricer_service2.py\n",
      "└── 🔨 Created function Pricer.download_model_to_folder.\n",
      "\\ Creating objects...\n",
      "├── 🔨 Created mount D:\\Learning Square\\LLMs\\Untitled Folder\\pricer_service2.py\n",
      "└── 🔨 Created function Pricer.download_model_to_folder.\n",
      "/ Creating objects...\n",
      "├── 🔨 Created mount D:\\Learning Square\\LLMs\\Untitled Folder\\pricer_service2.py\n",
      "└── 🔨 Created function Pricer.download_model_to_folder.\n",
      "\\ Creating objects...\n",
      "├── 🔨 Created mount D:\\Learning Square\\LLMs\\Untitled Folder\\pricer_service2.py\n",
      "└── 🔨 Created function Pricer.download_model_to_folder.\n",
      "/ Creating objects...\n",
      "├── 🔨 Created mount D:\\Learning Square\\LLMs\\Untitled Folder\\pricer_service2.py\n",
      "└── 🔨 Created function Pricer.download_model_to_folder.\n",
      "\\ Creating objects...\n",
      "├── 🔨 Created mount D:\\Learning Square\\LLMs\\Untitled Folder\\pricer_service2.py\n",
      "└── 🔨 Created function Pricer.download_model_to_folder.\n",
      "\u001b[1AFetching 17 files:  12%|█▏        | 2/17 [00:00<00:01,  8.02it/s]/ Creating objects...\n",
      "├── 🔨 Created mount D:\\Learning Square\\LLMs\\Untitled Folder\\pricer_service2.py\n",
      "└── 🔨 Created function Pricer.download_model_to_folder.\n",
      "/ Creating objects...\n",
      "├── 🔨 Created mount D:\\Learning Square\\LLMs\\Untitled Folder\\pricer_service2.py\n",
      "└── 🔨 Created function Pricer.download_model_to_folder.\n",
      "\\ Creating objects...\n",
      "├── 🔨 Created mount D:\\Learning Square\\LLMs\\Untitled Folder\\pricer_service2.py\n",
      "└── 🔨 Created function Pricer.download_model_to_folder.\n",
      "/ Creating objects...\n",
      "├── 🔨 Created mount D:\\Learning Square\\LLMs\\Untitled Folder\\pricer_service2.py\n",
      "└── 🔨 Created function Pricer.download_model_to_folder.\n",
      "\\ Creating objects...\n",
      "├── 🔨 Created mount D:\\Learning Square\\LLMs\\Untitled Folder\\pricer_service2.py\n",
      "└── 🔨 Created function Pricer.download_model_to_folder.\n",
      "/ Creating objects...\n",
      "├── 🔨 Created mount D:\\Learning Square\\LLMs\\Untitled Folder\\pricer_service2.py\n",
      "└── 🔨 Created function Pricer.download_model_to_folder.\n",
      "| Creating objects...\n",
      "├── 🔨 Created mount D:\\Learning Square\\LLMs\\Untitled Folder\\pricer_service2.py\n",
      "└── 🔨 Created function Pricer.download_model_to_folder.\n",
      "- Creating objects...\n",
      "├── 🔨 Created mount D:\\Learning Square\\LLMs\\Untitled Folder\\pricer_service2.py\n",
      "└── 🔨 Created function Pricer.download_model_to_folder.\n",
      "| Creating objects...\n",
      "├── 🔨 Created mount D:\\Learning Square\\LLMs\\Untitled Folder\\pricer_service2.py\n",
      "└── 🔨 Created function Pricer.download_model_to_folder.\n",
      "- Creating objects...\n",
      "├── 🔨 Created mount D:\\Learning Square\\LLMs\\Untitled Folder\\pricer_service2.py\n",
      "└── 🔨 Created function Pricer.download_model_to_folder.\n",
      "| Creating objects...\n",
      "├── 🔨 Created mount D:\\Learning Square\\LLMs\\Untitled Folder\\pricer_service2.py\n",
      "└── 🔨 Created function Pricer.download_model_to_folder.\n",
      "- Creating objects...\n",
      "├── 🔨 Created mount D:\\Learning Square\\LLMs\\Untitled Folder\\pricer_service2.py\n",
      "└── 🔨 Created function Pricer.download_model_to_folder.\n",
      "| Creating objects...\n",
      "├── 🔨 Created mount D:\\Learning Square\\LLMs\\Untitled Folder\\pricer_service2.py\n",
      "└── 🔨 Created function Pricer.download_model_to_folder.\n",
      "- Creating objects...\n",
      "├── 🔨 Created mount D:\\Learning Square\\LLMs\\Untitled Folder\\pricer_service2.py\n",
      "└── 🔨 Created function Pricer.download_model_to_folder.\n",
      "| Creating objects...\n",
      "├── 🔨 Created mount D:\\Learning Square\\LLMs\\Untitled Folder\\pricer_service2.py\n",
      "└── 🔨 Created function Pricer.download_model_to_folder.\n",
      "- Creating objects...\n",
      "├── 🔨 Created mount D:\\Learning Square\\LLMs\\Untitled Folder\\pricer_service2.py\n",
      "└── 🔨 Created function Pricer.download_model_to_folder.\n",
      "| Creating objects...\n",
      "├── 🔨 Created mount D:\\Learning Square\\LLMs\\Untitled Folder\\pricer_service2.py\n",
      "└── 🔨 Created function Pricer.download_model_to_folder.\n",
      "- Creating objects...\n",
      "├── 🔨 Created mount D:\\Learning Square\\LLMs\\Untitled Folder\\pricer_service2.py\n",
      "└── 🔨 Created function Pricer.download_model_to_folder.\n",
      "| Creating objects...\n",
      "├── 🔨 Created mount D:\\Learning Square\\LLMs\\Untitled Folder\\pricer_service2.py\n",
      "└── 🔨 Created function Pricer.download_model_to_folder.\n",
      "- Creating objects...\n",
      "├── 🔨 Created mount D:\\Learning Square\\LLMs\\Untitled Folder\\pricer_service2.py\n",
      "└── 🔨 Created function Pricer.download_model_to_folder.\n",
      "| Creating objects...\n",
      "├── 🔨 Created mount D:\\Learning Square\\LLMs\\Untitled Folder\\pricer_service2.py\n",
      "└── 🔨 Created function Pricer.download_model_to_folder.\n",
      "- Creating objects...\n",
      "├── 🔨 Created mount D:\\Learning Square\\LLMs\\Untitled Folder\\pricer_service2.py\n",
      "└── 🔨 Created function Pricer.download_model_to_folder.\n",
      "| Creating objects...\n",
      "├── 🔨 Created mount D:\\Learning Square\\LLMs\\Untitled Folder\\pricer_service2.py\n",
      "└── 🔨 Created function Pricer.download_model_to_folder.\n",
      "- Creating objects...\n",
      "├── 🔨 Created mount D:\\Learning Square\\LLMs\\Untitled Folder\\pricer_service2.py\n",
      "└── 🔨 Created function Pricer.download_model_to_folder.\n",
      "| Creating objects...\n",
      "├── 🔨 Created mount D:\\Learning Square\\LLMs\\Untitled Folder\\pricer_service2.py\n",
      "└── 🔨 Created function Pricer.download_model_to_folder.\n",
      "- Creating objects...\n",
      "├── 🔨 Created mount D:\\Learning Square\\LLMs\\Untitled Folder\\pricer_service2.py\n",
      "└── 🔨 Created function Pricer.download_model_to_folder.\n",
      "| Creating objects...\n",
      "├── 🔨 Created mount D:\\Learning Square\\LLMs\\Untitled Folder\\pricer_service2.py\n",
      "└── 🔨 Created function Pricer.download_model_to_folder.\n",
      "- Creating objects...\n",
      "├── 🔨 Created mount D:\\Learning Square\\LLMs\\Untitled Folder\\pricer_service2.py\n",
      "└── 🔨 Created function Pricer.download_model_to_folder.\n",
      "| Creating objects...\n",
      "├── 🔨 Created mount D:\\Learning Square\\LLMs\\Untitled Folder\\pricer_service2.py\n",
      "└── 🔨 Created function Pricer.download_model_to_folder.\n",
      "- Creating objects...\n",
      "├── 🔨 Created mount D:\\Learning Square\\LLMs\\Untitled Folder\\pricer_service2.py\n",
      "└── 🔨 Created function Pricer.download_model_to_folder.\n",
      "| Creating objects...\n",
      "├── 🔨 Created mount D:\\Learning Square\\LLMs\\Untitled Folder\\pricer_service2.py\n",
      "└── 🔨 Created function Pricer.download_model_to_folder.\n",
      "- Creating objects...\n",
      "├── 🔨 Created mount D:\\Learning Square\\LLMs\\Untitled Folder\\pricer_service2.py\n",
      "└── 🔨 Created function Pricer.download_model_to_folder.\n",
      "| Creating objects...\n",
      "├── 🔨 Created mount D:\\Learning Square\\LLMs\\Untitled Folder\\pricer_service2.py\n",
      "└── 🔨 Created function Pricer.download_model_to_folder.\n",
      "- Creating objects...\n",
      "├── 🔨 Created mount D:\\Learning Square\\LLMs\\Untitled Folder\\pricer_service2.py\n",
      "└── 🔨 Created function Pricer.download_model_to_folder.\n",
      "| Creating objects...\n",
      "├── 🔨 Created mount D:\\Learning Square\\LLMs\\Untitled Folder\\pricer_service2.py\n",
      "└── 🔨 Created function Pricer.download_model_to_folder.\n",
      "- Creating objects...\n",
      "├── 🔨 Created mount D:\\Learning Square\\LLMs\\Untitled Folder\\pricer_service2.py\n",
      "└── 🔨 Created function Pricer.download_model_to_folder.\n",
      "| Creating objects...\n",
      "├── 🔨 Created mount D:\\Learning Square\\LLMs\\Untitled Folder\\pricer_service2.py\n",
      "└── 🔨 Created function Pricer.download_model_to_folder.\n",
      "\\ Creating objects...\n",
      "├── 🔨 Created mount D:\\Learning Square\\LLMs\\Untitled Folder\\pricer_service2.py\n",
      "└── 🔨 Created function Pricer.download_model_to_folder.\n",
      "/ Creating objects...\n",
      "├── 🔨 Created mount D:\\Learning Square\\LLMs\\Untitled Folder\\pricer_service2.py\n",
      "└── 🔨 Created function Pricer.download_model_to_folder.\n",
      "\\ Creating objects...\n",
      "├── 🔨 Created mount D:\\Learning Square\\LLMs\\Untitled Folder\\pricer_service2.py\n",
      "└── 🔨 Created function Pricer.download_model_to_folder.\n",
      "/ Creating objects...\n",
      "├── 🔨 Created mount D:\\Learning Square\\LLMs\\Untitled Folder\\pricer_service2.py\n",
      "└── 🔨 Created function Pricer.download_model_to_folder.\n",
      "\\ Creating objects...\n",
      "├── 🔨 Created mount D:\\Learning Square\\LLMs\\Untitled Folder\\pricer_service2.py\n",
      "└── 🔨 Created function Pricer.download_model_to_folder.\n",
      "/ Creating objects...\n",
      "├── 🔨 Created mount D:\\Learning Square\\LLMs\\Untitled Folder\\pricer_service2.py\n",
      "└── 🔨 Created function Pricer.download_model_to_folder.\n",
      "\\ Creating objects...\n",
      "├── 🔨 Created mount D:\\Learning Square\\LLMs\\Untitled Folder\\pricer_service2.py\n",
      "└── 🔨 Created function Pricer.download_model_to_folder.\n",
      "/ Creating objects...\n",
      "├── 🔨 Created mount D:\\Learning Square\\LLMs\\Untitled Folder\\pricer_service2.py\n",
      "└── 🔨 Created function Pricer.download_model_to_folder.\n",
      "\\ Creating objects...\n",
      "├── 🔨 Created mount D:\\Learning Square\\LLMs\\Untitled Folder\\pricer_service2.py\n",
      "└── 🔨 Created function Pricer.download_model_to_folder.\n",
      "/ Creating objects...\n",
      "├── 🔨 Created mount D:\\Learning Square\\LLMs\\Untitled Folder\\pricer_service2.py\n",
      "└── 🔨 Created function Pricer.download_model_to_folder.\n",
      "\\ Creating objects...\n",
      "├── 🔨 Created mount D:\\Learning Square\\LLMs\\Untitled Folder\\pricer_service2.py\n",
      "└── 🔨 Created function Pricer.download_model_to_folder.\n",
      "/ Creating objects...\n",
      "├── 🔨 Created mount D:\\Learning Square\\LLMs\\Untitled Folder\\pricer_service2.py\n",
      "└── 🔨 Created function Pricer.download_model_to_folder.\n",
      "\\ Creating objects...\n",
      "├── 🔨 Created mount D:\\Learning Square\\LLMs\\Untitled Folder\\pricer_service2.py\n",
      "└── 🔨 Created function Pricer.download_model_to_folder.\n",
      "/ Creating objects...\n",
      "├── 🔨 Created mount D:\\Learning Square\\LLMs\\Untitled Folder\\pricer_service2.py\n",
      "└── 🔨 Created function Pricer.download_model_to_folder.\n",
      "\\ Creating objects...\n",
      "├── 🔨 Created mount D:\\Learning Square\\LLMs\\Untitled Folder\\pricer_service2.py\n",
      "└── 🔨 Created function Pricer.download_model_to_folder.\n",
      "/ Creating objects...\n",
      "├── 🔨 Created mount D:\\Learning Square\\LLMs\\Untitled Folder\\pricer_service2.py\n",
      "└── 🔨 Created function Pricer.download_model_to_folder.\n",
      "\\ Creating objects...\n",
      "├── 🔨 Created mount D:\\Learning Square\\LLMs\\Untitled Folder\\pricer_service2.py\n",
      "└── 🔨 Created function Pricer.download_model_to_folder.\n",
      "/ Creating objects...\n",
      "├── 🔨 Created mount D:\\Learning Square\\LLMs\\Untitled Folder\\pricer_service2.py\n",
      "└── 🔨 Created function Pricer.download_model_to_folder.\n",
      "\\ Creating objects...\n",
      "├── 🔨 Created mount D:\\Learning Square\\LLMs\\Untitled Folder\\pricer_service2.py\n",
      "└── 🔨 Created function Pricer.download_model_to_folder.\n",
      "/ Creating objects...\n",
      "├── 🔨 Created mount D:\\Learning Square\\LLMs\\Untitled Folder\\pricer_service2.py\n",
      "└── 🔨 Created function Pricer.download_model_to_folder.\n",
      "\\ Creating objects...\n",
      "├── 🔨 Created mount D:\\Learning Square\\LLMs\\Untitled Folder\\pricer_service2.py\n",
      "└── 🔨 Created function Pricer.download_model_to_folder.\n",
      "/ Creating objects...\n",
      "├── 🔨 Created mount D:\\Learning Square\\LLMs\\Untitled Folder\\pricer_service2.py\n",
      "└── 🔨 Created function Pricer.download_model_to_folder.\n",
      "\\ Creating objects...\n",
      "├── 🔨 Created mount D:\\Learning Square\\LLMs\\Untitled Folder\\pricer_service2.py\n",
      "└── 🔨 Created function Pricer.download_model_to_folder.\n",
      "/ Creating objects...\n",
      "├── 🔨 Created mount D:\\Learning Square\\LLMs\\Untitled Folder\\pricer_service2.py\n",
      "└── 🔨 Created function Pricer.download_model_to_folder.\n",
      "\\ Creating objects...\n",
      "├── 🔨 Created mount D:\\Learning Square\\LLMs\\Untitled Folder\\pricer_service2.py\n",
      "└── 🔨 Created function Pricer.download_model_to_folder.\n",
      "/ Creating objects...\n",
      "├── 🔨 Created mount D:\\Learning Square\\LLMs\\Untitled Folder\\pricer_service2.py\n",
      "└── 🔨 Created function Pricer.download_model_to_folder.\n",
      "\\ Creating objects...\n",
      "├── 🔨 Created mount D:\\Learning Square\\LLMs\\Untitled Folder\\pricer_service2.py\n",
      "└── 🔨 Created function Pricer.download_model_to_folder.\n",
      "/ Creating objects...\n",
      "├── 🔨 Created mount D:\\Learning Square\\LLMs\\Untitled Folder\\pricer_service2.py\n",
      "└── 🔨 Created function Pricer.download_model_to_folder.\n",
      "\\ Creating objects...\n",
      "├── 🔨 Created mount D:\\Learning Square\\LLMs\\Untitled Folder\\pricer_service2.py\n",
      "└── 🔨 Created function Pricer.download_model_to_folder.\n",
      "/ Creating objects...\n",
      "├── 🔨 Created mount D:\\Learning Square\\LLMs\\Untitled Folder\\pricer_service2.py\n",
      "└── 🔨 Created function Pricer.download_model_to_folder.\n",
      "\\ Creating objects...\n",
      "├── 🔨 Created mount D:\\Learning Square\\LLMs\\Untitled Folder\\pricer_service2.py\n",
      "└── 🔨 Created function Pricer.download_model_to_folder.\n",
      "/ Creating objects...\n",
      "├── 🔨 Created mount D:\\Learning Square\\LLMs\\Untitled Folder\\pricer_service2.py\n",
      "└── 🔨 Created function Pricer.download_model_to_folder.\n",
      "| Creating objects...\n",
      "├── 🔨 Created mount D:\\Learning Square\\LLMs\\Untitled Folder\\pricer_service2.py\n",
      "└── 🔨 Created function Pricer.download_model_to_folder.\n",
      "- Creating objects...\n",
      "├── 🔨 Created mount D:\\Learning Square\\LLMs\\Untitled Folder\\pricer_service2.py\n",
      "└── 🔨 Created function Pricer.download_model_to_folder.\n",
      "| Creating objects...\n",
      "├── 🔨 Created mount D:\\Learning Square\\LLMs\\Untitled Folder\\pricer_service2.py\n",
      "└── 🔨 Created function Pricer.download_model_to_folder.\n",
      "- Creating objects...\n",
      "├── 🔨 Created mount D:\\Learning Square\\LLMs\\Untitled Folder\\pricer_service2.py\n",
      "└── 🔨 Created function Pricer.download_model_to_folder.\n",
      "| Creating objects...\n",
      "├── 🔨 Created mount D:\\Learning Square\\LLMs\\Untitled Folder\\pricer_service2.py\n",
      "└── 🔨 Created function Pricer.download_model_to_folder.\n",
      "- Creating objects...\n",
      "├── 🔨 Created mount D:\\Learning Square\\LLMs\\Untitled Folder\\pricer_service2.py\n",
      "└── 🔨 Created function Pricer.download_model_to_folder.\n",
      "| Creating objects...\n",
      "├── 🔨 Created mount D:\\Learning Square\\LLMs\\Untitled Folder\\pricer_service2.py\n",
      "└── 🔨 Created function Pricer.download_model_to_folder.\n",
      "- Creating objects...\n",
      "├── 🔨 Created mount D:\\Learning Square\\LLMs\\Untitled Folder\\pricer_service2.py\n",
      "└── 🔨 Created function Pricer.download_model_to_folder.\n",
      "| Creating objects...\n",
      "├── 🔨 Created mount D:\\Learning Square\\LLMs\\Untitled Folder\\pricer_service2.py\n",
      "└── 🔨 Created function Pricer.download_model_to_folder.\n",
      "- Creating objects...\n",
      "├── 🔨 Created mount D:\\Learning Square\\LLMs\\Untitled Folder\\pricer_service2.py\n",
      "└── 🔨 Created function Pricer.download_model_to_folder.\n",
      "| Creating objects...\n",
      "├── 🔨 Created mount D:\\Learning Square\\LLMs\\Untitled Folder\\pricer_service2.py\n",
      "└── 🔨 Created function Pricer.download_model_to_folder.\n",
      "- Creating objects...\n",
      "├── 🔨 Created mount D:\\Learning Square\\LLMs\\Untitled Folder\\pricer_service2.py\n",
      "└── 🔨 Created function Pricer.download_model_to_folder.\n",
      "| Creating objects...\n",
      "├── 🔨 Created mount D:\\Learning Square\\LLMs\\Untitled Folder\\pricer_service2.py\n",
      "└── 🔨 Created function Pricer.download_model_to_folder.\n",
      "- Creating objects...\n",
      "├── 🔨 Created mount D:\\Learning Square\\LLMs\\Untitled Folder\\pricer_service2.py\n",
      "└── 🔨 Created function Pricer.download_model_to_folder.\n",
      "| Creating objects...\n",
      "├── 🔨 Created mount D:\\Learning Square\\LLMs\\Untitled Folder\\pricer_service2.py\n",
      "└── 🔨 Created function Pricer.download_model_to_folder.\n",
      "- Creating objects...\n",
      "├── 🔨 Created mount D:\\Learning Square\\LLMs\\Untitled Folder\\pricer_service2.py\n",
      "└── 🔨 Created function Pricer.download_model_to_folder.\n",
      "| Creating objects...\n",
      "├── 🔨 Created mount D:\\Learning Square\\LLMs\\Untitled Folder\\pricer_service2.py\n",
      "└── 🔨 Created function Pricer.download_model_to_folder.\n",
      "- Creating objects...\n",
      "├── 🔨 Created mount D:\\Learning Square\\LLMs\\Untitled Folder\\pricer_service2.py\n",
      "└── 🔨 Created function Pricer.download_model_to_folder.\n",
      "| Creating objects...\n",
      "├── 🔨 Created mount D:\\Learning Square\\LLMs\\Untitled Folder\\pricer_service2.py\n",
      "└── 🔨 Created function Pricer.download_model_to_folder.\n",
      "- Creating objects...\n",
      "├── 🔨 Created mount D:\\Learning Square\\LLMs\\Untitled Folder\\pricer_service2.py\n",
      "└── 🔨 Created function Pricer.download_model_to_folder.\n",
      "| Creating objects...\n",
      "├── 🔨 Created mount D:\\Learning Square\\LLMs\\Untitled Folder\\pricer_service2.py\n",
      "└── 🔨 Created function Pricer.download_model_to_folder.\n",
      "- Creating objects...\n",
      "├── 🔨 Created mount D:\\Learning Square\\LLMs\\Untitled Folder\\pricer_service2.py\n",
      "└── 🔨 Created function Pricer.download_model_to_folder.\n",
      "| Creating objects...\n",
      "├── 🔨 Created mount D:\\Learning Square\\LLMs\\Untitled Folder\\pricer_service2.py\n",
      "└── 🔨 Created function Pricer.download_model_to_folder.\n",
      "- Creating objects...\n",
      "├── 🔨 Created mount D:\\Learning Square\\LLMs\\Untitled Folder\\pricer_service2.py\n",
      "└── 🔨 Created function Pricer.download_model_to_folder.\n",
      "| Creating objects...\n",
      "├── 🔨 Created mount D:\\Learning Square\\LLMs\\Untitled Folder\\pricer_service2.py\n",
      "└── 🔨 Created function Pricer.download_model_to_folder.\n",
      "- Creating objects...\n",
      "├── 🔨 Created mount D:\\Learning Square\\LLMs\\Untitled Folder\\pricer_service2.py\n",
      "└── 🔨 Created function Pricer.download_model_to_folder.\n",
      "/ Creating objects...\n",
      "├── 🔨 Created mount D:\\Learning Square\\LLMs\\Untitled Folder\\pricer_service2.py\n",
      "└── 🔨 Created function Pricer.download_model_to_folder.\n",
      "\\ Creating objects...\n",
      "├── 🔨 Created mount D:\\Learning Square\\LLMs\\Untitled Folder\\pricer_service2.py\n",
      "└── 🔨 Created function Pricer.download_model_to_folder.\n",
      "/ Creating objects...\n",
      "├── 🔨 Created mount D:\\Learning Square\\LLMs\\Untitled Folder\\pricer_service2.py\n",
      "└── 🔨 Created function Pricer.download_model_to_folder.\n",
      "\\ Creating objects...\n",
      "├── 🔨 Created mount D:\\Learning Square\\LLMs\\Untitled Folder\\pricer_service2.py\n",
      "└── 🔨 Created function Pricer.download_model_to_folder.\n",
      "/ Creating objects...\n",
      "├── 🔨 Created mount D:\\Learning Square\\LLMs\\Untitled Folder\\pricer_service2.py\n",
      "└── 🔨 Created function Pricer.download_model_to_folder.\n",
      "\\ Creating objects...\n",
      "├── 🔨 Created mount D:\\Learning Square\\LLMs\\Untitled Folder\\pricer_service2.py\n",
      "└── 🔨 Created function Pricer.download_model_to_folder.\n",
      "/ Creating objects...\n",
      "├── 🔨 Created mount D:\\Learning Square\\LLMs\\Untitled Folder\\pricer_service2.py\n",
      "└── 🔨 Created function Pricer.download_model_to_folder.\n",
      "\\ Creating objects...\n",
      "├── 🔨 Created mount D:\\Learning Square\\LLMs\\Untitled Folder\\pricer_service2.py\n",
      "└── 🔨 Created function Pricer.download_model_to_folder.\n",
      "/ Creating objects...\n",
      "├── 🔨 Created mount D:\\Learning Square\\LLMs\\Untitled Folder\\pricer_service2.py\n",
      "└── 🔨 Created function Pricer.download_model_to_folder.\n",
      "\\ Creating objects...\n",
      "├── 🔨 Created mount D:\\Learning Square\\LLMs\\Untitled Folder\\pricer_service2.py\n",
      "└── 🔨 Created function Pricer.download_model_to_folder.\n",
      "/ Creating objects...\n",
      "├── 🔨 Created mount D:\\Learning Square\\LLMs\\Untitled Folder\\pricer_service2.py\n",
      "└── 🔨 Created function Pricer.download_model_to_folder.\n",
      "\\ Creating objects...\n",
      "├── 🔨 Created mount D:\\Learning Square\\LLMs\\Untitled Folder\\pricer_service2.py\n",
      "└── 🔨 Created function Pricer.download_model_to_folder.\n",
      "/ Creating objects...\n",
      "├── 🔨 Created mount D:\\Learning Square\\LLMs\\Untitled Folder\\pricer_service2.py\n",
      "└── 🔨 Created function Pricer.download_model_to_folder.\n",
      "\\ Creating objects...\n",
      "├── 🔨 Created mount D:\\Learning Square\\LLMs\\Untitled Folder\\pricer_service2.py\n",
      "└── 🔨 Created function Pricer.download_model_to_folder.\n",
      "/ Creating objects...\n",
      "├── 🔨 Created mount D:\\Learning Square\\LLMs\\Untitled Folder\\pricer_service2.py\n",
      "└── 🔨 Created function Pricer.download_model_to_folder.\n",
      "\\ Creating objects...\n",
      "├── 🔨 Created mount D:\\Learning Square\\LLMs\\Untitled Folder\\pricer_service2.py\n",
      "└── 🔨 Created function Pricer.download_model_to_folder.\n",
      "/ Creating objects...\n",
      "├── 🔨 Created mount D:\\Learning Square\\LLMs\\Untitled Folder\\pricer_service2.py\n",
      "└── 🔨 Created function Pricer.download_model_to_folder.\n",
      "\\ Creating objects...\n",
      "├── 🔨 Created mount D:\\Learning Square\\LLMs\\Untitled Folder\\pricer_service2.py\n",
      "└── 🔨 Created function Pricer.download_model_to_folder.\n",
      "/ Creating objects...\n",
      "├── 🔨 Created mount D:\\Learning Square\\LLMs\\Untitled Folder\\pricer_service2.py\n",
      "└── 🔨 Created function Pricer.download_model_to_folder.\n",
      "\\ Creating objects...\n",
      "├── 🔨 Created mount D:\\Learning Square\\LLMs\\Untitled Folder\\pricer_service2.py\n",
      "└── 🔨 Created function Pricer.download_model_to_folder.\n",
      "/ Creating objects...\n",
      "├── 🔨 Created mount D:\\Learning Square\\LLMs\\Untitled Folder\\pricer_service2.py\n",
      "└── 🔨 Created function Pricer.download_model_to_folder.\n",
      "\\ Creating objects...\n",
      "├── 🔨 Created mount D:\\Learning Square\\LLMs\\Untitled Folder\\pricer_service2.py\n",
      "└── 🔨 Created function Pricer.download_model_to_folder.\n",
      "/ Creating objects...\n",
      "├── 🔨 Created mount D:\\Learning Square\\LLMs\\Untitled Folder\\pricer_service2.py\n",
      "└── 🔨 Created function Pricer.download_model_to_folder.\n",
      "\\ Creating objects...\n",
      "├── 🔨 Created mount D:\\Learning Square\\LLMs\\Untitled Folder\\pricer_service2.py\n",
      "└── 🔨 Created function Pricer.download_model_to_folder.\n",
      "/ Creating objects...\n",
      "├── 🔨 Created mount D:\\Learning Square\\LLMs\\Untitled Folder\\pricer_service2.py\n",
      "└── 🔨 Created function Pricer.download_model_to_folder.\n",
      "\\ Creating objects...\n",
      "├── 🔨 Created mount D:\\Learning Square\\LLMs\\Untitled Folder\\pricer_service2.py\n",
      "└── 🔨 Created function Pricer.download_model_to_folder.\n",
      "/ Creating objects...\n",
      "├── 🔨 Created mount D:\\Learning Square\\LLMs\\Untitled Folder\\pricer_service2.py\n",
      "└── 🔨 Created function Pricer.download_model_to_folder.\n",
      "\\ Creating objects...\n",
      "├── 🔨 Created mount D:\\Learning Square\\LLMs\\Untitled Folder\\pricer_service2.py\n",
      "└── 🔨 Created function Pricer.download_model_to_folder.\n",
      "/ Creating objects...\n",
      "├── 🔨 Created mount D:\\Learning Square\\LLMs\\Untitled Folder\\pricer_service2.py\n",
      "└── 🔨 Created function Pricer.download_model_to_folder.\n",
      "\\ Creating objects...\n",
      "├── 🔨 Created mount D:\\Learning Square\\LLMs\\Untitled Folder\\pricer_service2.py\n",
      "└── 🔨 Created function Pricer.download_model_to_folder.\n",
      "/ Creating objects...\n",
      "├── 🔨 Created mount D:\\Learning Square\\LLMs\\Untitled Folder\\pricer_service2.py\n",
      "└── 🔨 Created function Pricer.download_model_to_folder.\n",
      "| Creating objects...\n",
      "├── 🔨 Created mount D:\\Learning Square\\LLMs\\Untitled Folder\\pricer_service2.py\n",
      "└── 🔨 Created function Pricer.download_model_to_folder.\n",
      "- Creating objects...\n",
      "├── 🔨 Created mount D:\\Learning Square\\LLMs\\Untitled Folder\\pricer_service2.py\n",
      "└── 🔨 Created function Pricer.download_model_to_folder.\n",
      "| Creating objects...\n",
      "├── 🔨 Created mount D:\\Learning Square\\LLMs\\Untitled Folder\\pricer_service2.py\n",
      "└── 🔨 Created function Pricer.download_model_to_folder.\n",
      "- Creating objects...\n",
      "├── 🔨 Created mount D:\\Learning Square\\LLMs\\Untitled Folder\\pricer_service2.py\n",
      "└── 🔨 Created function Pricer.download_model_to_folder.\n",
      "| Creating objects...\n",
      "├── 🔨 Created mount D:\\Learning Square\\LLMs\\Untitled Folder\\pricer_service2.py\n",
      "└── 🔨 Created function Pricer.download_model_to_folder.\n",
      "- Creating objects...\n",
      "├── 🔨 Created mount D:\\Learning Square\\LLMs\\Untitled Folder\\pricer_service2.py\n",
      "└── 🔨 Created function Pricer.download_model_to_folder.\n",
      "| Creating objects...\n",
      "├── 🔨 Created mount D:\\Learning Square\\LLMs\\Untitled Folder\\pricer_service2.py\n",
      "└── 🔨 Created function Pricer.download_model_to_folder.\n",
      "- Creating objects...\n",
      "├── 🔨 Created mount D:\\Learning Square\\LLMs\\Untitled Folder\\pricer_service2.py\n",
      "└── 🔨 Created function Pricer.download_model_to_folder.\n",
      "| Creating objects...\n",
      "├── 🔨 Created mount D:\\Learning Square\\LLMs\\Untitled Folder\\pricer_service2.py\n",
      "└── 🔨 Created function Pricer.download_model_to_folder.\n",
      "- Creating objects...\n",
      "├── 🔨 Created mount D:\\Learning Square\\LLMs\\Untitled Folder\\pricer_service2.py\n",
      "└── 🔨 Created function Pricer.download_model_to_folder.\n",
      "| Creating objects...\n",
      "├── 🔨 Created mount D:\\Learning Square\\LLMs\\Untitled Folder\\pricer_service2.py\n",
      "└── 🔨 Created function Pricer.download_model_to_folder.\n",
      "- Creating objects...\n",
      "├── 🔨 Created mount D:\\Learning Square\\LLMs\\Untitled Folder\\pricer_service2.py\n",
      "└── 🔨 Created function Pricer.download_model_to_folder.\n",
      "| Creating objects...\n",
      "├── 🔨 Created mount D:\\Learning Square\\LLMs\\Untitled Folder\\pricer_service2.py\n",
      "└── 🔨 Created function Pricer.download_model_to_folder.\n",
      "- Creating objects...\n",
      "├── 🔨 Created mount D:\\Learning Square\\LLMs\\Untitled Folder\\pricer_service2.py\n",
      "└── 🔨 Created function Pricer.download_model_to_folder.\n",
      "| Creating objects...\n",
      "├── 🔨 Created mount D:\\Learning Square\\LLMs\\Untitled Folder\\pricer_service2.py\n",
      "└── 🔨 Created function Pricer.download_model_to_folder.\n",
      "- Creating objects...\n",
      "├── 🔨 Created mount D:\\Learning Square\\LLMs\\Untitled Folder\\pricer_service2.py\n",
      "└── 🔨 Created function Pricer.download_model_to_folder.\n",
      "| Creating objects...\n",
      "├── 🔨 Created mount D:\\Learning Square\\LLMs\\Untitled Folder\\pricer_service2.py\n",
      "└── 🔨 Created function Pricer.download_model_to_folder.\n",
      "- Creating objects...\n",
      "├── 🔨 Created mount D:\\Learning Square\\LLMs\\Untitled Folder\\pricer_service2.py\n",
      "└── 🔨 Created function Pricer.download_model_to_folder.\n",
      "| Creating objects...\n",
      "├── 🔨 Created mount D:\\Learning Square\\LLMs\\Untitled Folder\\pricer_service2.py\n",
      "└── 🔨 Created function Pricer.download_model_to_folder.\n",
      "- Creating objects...\n",
      "├── 🔨 Created mount D:\\Learning Square\\LLMs\\Untitled Folder\\pricer_service2.py\n",
      "└── 🔨 Created function Pricer.download_model_to_folder.\n",
      "| Creating objects...\n",
      "├── 🔨 Created mount D:\\Learning Square\\LLMs\\Untitled Folder\\pricer_service2.py\n",
      "└── 🔨 Created function Pricer.download_model_to_folder.\n",
      "\n",
      "- Creating objects...\n",
      "├── 🔨 Created mount D:\\Learning Square\\LLMs\\Untitled Folder\\pricer_service2.py\n",
      "└── 🔨 Created function Pricer.download_model_to_folder.\n",
      "- Creating objects...\n",
      "├── 🔨 Created mount D:\\Learning Square\\LLMs\\Untitled Folder\\pricer_service2.py\n",
      "└── 🔨 Created function Pricer.download_model_to_folder.\n",
      "| Creating objects...\n",
      "├── 🔨 Created mount D:\\Learning Square\\LLMs\\Untitled Folder\\pricer_service2.py\n",
      "└── 🔨 Created function Pricer.download_model_to_folder.\n",
      "- Creating objects...\n",
      "├── 🔨 Created mount D:\\Learning Square\\LLMs\\Untitled Folder\\pricer_service2.py\n",
      "└── 🔨 Created function Pricer.download_model_to_folder.\n",
      "/ Creating objects...\n",
      "├── 🔨 Created mount D:\\Learning Square\\LLMs\\Untitled Folder\\pricer_service2.py\n",
      "└── 🔨 Created function Pricer.download_model_to_folder.\n",
      "- Creating objects...\n",
      "├── 🔨 Created mount D:\\Learning Square\\LLMs\\Untitled Folder\\pricer_service2.py\n",
      "└── 🔨 Created function Pricer.download_model_to_folder.\n",
      "\u001b[1AFetching 17 files:  41%|████      | 7/17 [01:24<02:11, 13.20s/it]\n",
      "\\ Creating objects...\n",
      "├── 🔨 Created mount D:\\Learning Square\\LLMs\\Untitled Folder\\pricer_service2.py\n",
      "└── 🔨 Created function Pricer.download_model_to_folder.\n",
      "/ Creating objects...\n",
      "├── 🔨 Created mount D:\\Learning Square\\LLMs\\Untitled Folder\\pricer_service2.py\n",
      "└── 🔨 Created function Pricer.download_model_to_folder.\n",
      "\\ Creating objects...\n",
      "├── 🔨 Created mount D:\\Learning Square\\LLMs\\Untitled Folder\\pricer_service2.py\n",
      "└── 🔨 Created function Pricer.download_model_to_folder.\n",
      "/ Creating objects...\n",
      "├── 🔨 Created mount D:\\Learning Square\\LLMs\\Untitled Folder\\pricer_service2.py\n",
      "└── 🔨 Created function Pricer.download_model_to_folder.\n",
      "\\ Creating objects...\n",
      "├── 🔨 Created mount D:\\Learning Square\\LLMs\\Untitled Folder\\pricer_service2.py\n",
      "└── 🔨 Created function Pricer.download_model_to_folder.\n",
      "/ Creating objects...\n",
      "├── 🔨 Created mount D:\\Learning Square\\LLMs\\Untitled Folder\\pricer_service2.py\n",
      "└── 🔨 Created function Pricer.download_model_to_folder.\n",
      "\\ Creating objects...\n",
      "├── 🔨 Created mount D:\\Learning Square\\LLMs\\Untitled Folder\\pricer_service2.py\n",
      "└── 🔨 Created function Pricer.download_model_to_folder.\n",
      "/ Creating objects...\n",
      "├── 🔨 Created mount D:\\Learning Square\\LLMs\\Untitled Folder\\pricer_service2.py\n",
      "└── 🔨 Created function Pricer.download_model_to_folder.\n",
      "\\ Creating objects...\n",
      "├── 🔨 Created mount D:\\Learning Square\\LLMs\\Untitled Folder\\pricer_service2.py\n",
      "└── 🔨 Created function Pricer.download_model_to_folder.\n",
      "/ Creating objects...\n",
      "├── 🔨 Created mount D:\\Learning Square\\LLMs\\Untitled Folder\\pricer_service2.py\n",
      "└── 🔨 Created function Pricer.download_model_to_folder.\n",
      "\\ Creating objects...\n",
      "├── 🔨 Created mount D:\\Learning Square\\LLMs\\Untitled Folder\\pricer_service2.py\n",
      "└── 🔨 Created function Pricer.download_model_to_folder.\n",
      "/ Creating objects...\n",
      "├── 🔨 Created mount D:\\Learning Square\\LLMs\\Untitled Folder\\pricer_service2.py\n",
      "└── 🔨 Created function Pricer.download_model_to_folder.\n",
      "\\ Creating objects...\n",
      "├── 🔨 Created mount D:\\Learning Square\\LLMs\\Untitled Folder\\pricer_service2.py\n",
      "└── 🔨 Created function Pricer.download_model_to_folder.\n",
      "/ Creating objects...\n",
      "├── 🔨 Created mount D:\\Learning Square\\LLMs\\Untitled Folder\\pricer_service2.py\n",
      "└── 🔨 Created function Pricer.download_model_to_folder.\n",
      "\\ Creating objects...\n",
      "├── 🔨 Created mount D:\\Learning Square\\LLMs\\Untitled Folder\\pricer_service2.py\n",
      "└── 🔨 Created function Pricer.download_model_to_folder.\n",
      "/ Creating objects...\n",
      "├── 🔨 Created mount D:\\Learning Square\\LLMs\\Untitled Folder\\pricer_service2.py\n",
      "└── 🔨 Created function Pricer.download_model_to_folder.\n",
      "\\ Creating objects...\n",
      "├── 🔨 Created mount D:\\Learning Square\\LLMs\\Untitled Folder\\pricer_service2.py\n",
      "└── 🔨 Created function Pricer.download_model_to_folder.\n",
      "/ Creating objects...\n",
      "├── 🔨 Created mount D:\\Learning Square\\LLMs\\Untitled Folder\\pricer_service2.py\n",
      "└── 🔨 Created function Pricer.download_model_to_folder.\n",
      "\\ Creating objects...\n",
      "├── 🔨 Created mount D:\\Learning Square\\LLMs\\Untitled Folder\\pricer_service2.py\n",
      "└── 🔨 Created function Pricer.download_model_to_folder.\n",
      "/ Creating objects...\n",
      "├── 🔨 Created mount D:\\Learning Square\\LLMs\\Untitled Folder\\pricer_service2.py\n",
      "└── 🔨 Created function Pricer.download_model_to_folder.\n",
      "\\ Creating objects...\n",
      "├── 🔨 Created mount D:\\Learning Square\\LLMs\\Untitled Folder\\pricer_service2.py\n",
      "└── 🔨 Created function Pricer.download_model_to_folder.\n",
      "/ Creating objects...\n",
      "├── 🔨 Created mount D:\\Learning Square\\LLMs\\Untitled Folder\\pricer_service2.py\n",
      "└── 🔨 Created function Pricer.download_model_to_folder.\n",
      "\\ Creating objects...\n",
      "├── 🔨 Created mount D:\\Learning Square\\LLMs\\Untitled Folder\\pricer_service2.py\n",
      "└── 🔨 Created function Pricer.download_model_to_folder.\n",
      "/ Creating objects...\n",
      "├── 🔨 Created mount D:\\Learning Square\\LLMs\\Untitled Folder\\pricer_service2.py\n",
      "└── 🔨 Created function Pricer.download_model_to_folder.\n",
      "\\ Creating objects...\n",
      "├── 🔨 Created mount D:\\Learning Square\\LLMs\\Untitled Folder\\pricer_service2.py\n",
      "└── 🔨 Created function Pricer.download_model_to_folder.\n",
      "/ Creating objects...\n",
      "├── 🔨 Created mount D:\\Learning Square\\LLMs\\Untitled Folder\\pricer_service2.py\n",
      "└── 🔨 Created function Pricer.download_model_to_folder.\n",
      "\\ Creating objects...\n",
      "├── 🔨 Created mount D:\\Learning Square\\LLMs\\Untitled Folder\\pricer_service2.py\n",
      "└── 🔨 Created function Pricer.download_model_to_folder.\n",
      "/ Creating objects...\n",
      "├── 🔨 Created mount D:\\Learning Square\\LLMs\\Untitled Folder\\pricer_service2.py\n",
      "└── 🔨 Created function Pricer.download_model_to_folder.\n",
      "\\ Creating objects...\n",
      "├── 🔨 Created mount D:\\Learning Square\\LLMs\\Untitled Folder\\pricer_service2.py\n",
      "└── 🔨 Created function Pricer.download_model_to_folder.\n",
      "/ Creating objects...\n",
      "├── 🔨 Created mount D:\\Learning Square\\LLMs\\Untitled Folder\\pricer_service2.py\n",
      "└── 🔨 Created function Pricer.download_model_to_folder.\n",
      "| Creating objects...\n",
      "├── 🔨 Created mount D:\\Learning Square\\LLMs\\Untitled Folder\\pricer_service2.py\n",
      "└── 🔨 Created function Pricer.download_model_to_folder.\n",
      "/ Creating objects...\n",
      "├── 🔨 Created mount D:\\Learning Square\\LLMs\\Untitled Folder\\pricer_service2.py\n",
      "└── 🔨 Created function Pricer.download_model_to_folder.\n",
      "| Creating objects...\n",
      "├── 🔨 Created mount D:\\Learning Square\\LLMs\\Untitled Folder\\pricer_service2.py\n",
      "└── 🔨 Created function Pricer.download_model_to_folder.\n",
      "- Creating objects...\n",
      "├── 🔨 Created mount D:\\Learning Square\\LLMs\\Untitled Folder\\pricer_service2.py\n",
      "└── 🔨 Created function Pricer.download_model_to_folder.\n",
      "| Creating objects...\n",
      "├── 🔨 Created mount D:\\Learning Square\\LLMs\\Untitled Folder\\pricer_service2.py\n",
      "└── 🔨 Created function Pricer.download_model_to_folder.\n",
      "- Creating objects...\n",
      "├── 🔨 Created mount D:\\Learning Square\\LLMs\\Untitled Folder\\pricer_service2.py\n",
      "└── 🔨 Created function Pricer.download_model_to_folder.\n",
      "| Creating objects...\n",
      "├── 🔨 Created mount D:\\Learning Square\\LLMs\\Untitled Folder\\pricer_service2.py\n",
      "└── 🔨 Created function Pricer.download_model_to_folder.\n",
      "- Creating objects...\n",
      "├── 🔨 Created mount D:\\Learning Square\\LLMs\\Untitled Folder\\pricer_service2.py\n",
      "└── 🔨 Created function Pricer.download_model_to_folder.\n",
      "| Creating objects...\n",
      "├── 🔨 Created mount D:\\Learning Square\\LLMs\\Untitled Folder\\pricer_service2.py\n",
      "└── 🔨 Created function Pricer.download_model_to_folder.\n",
      "- Creating objects...\n",
      "├── 🔨 Created mount D:\\Learning Square\\LLMs\\Untitled Folder\\pricer_service2.py\n",
      "└── 🔨 Created function Pricer.download_model_to_folder.\n",
      "| Creating objects...\n",
      "├── 🔨 Created mount D:\\Learning Square\\LLMs\\Untitled Folder\\pricer_service2.py\n",
      "└── 🔨 Created function Pricer.download_model_to_folder.\n",
      "- Creating objects...\n",
      "├── 🔨 Created mount D:\\Learning Square\\LLMs\\Untitled Folder\\pricer_service2.py\n",
      "└── 🔨 Created function Pricer.download_model_to_folder.\n",
      "| Creating objects...\n",
      "├── 🔨 Created mount D:\\Learning Square\\LLMs\\Untitled Folder\\pricer_service2.py\n",
      "└── 🔨 Created function Pricer.download_model_to_folder.\n",
      "- Creating objects...\n",
      "├── 🔨 Created mount D:\\Learning Square\\LLMs\\Untitled Folder\\pricer_service2.py\n",
      "└── 🔨 Created function Pricer.download_model_to_folder.\n",
      "| Creating objects...\n",
      "├── 🔨 Created mount D:\\Learning Square\\LLMs\\Untitled Folder\\pricer_service2.py\n",
      "└── 🔨 Created function Pricer.download_model_to_folder.\n",
      "- Creating objects...\n",
      "├── 🔨 Created mount D:\\Learning Square\\LLMs\\Untitled Folder\\pricer_service2.py\n",
      "└── 🔨 Created function Pricer.download_model_to_folder.\n",
      "| Creating objects...\n",
      "├── 🔨 Created mount D:\\Learning Square\\LLMs\\Untitled Folder\\pricer_service2.py\n",
      "└── 🔨 Created function Pricer.download_model_to_folder.\n",
      "- Creating objects...\n",
      "├── 🔨 Created mount D:\\Learning Square\\LLMs\\Untitled Folder\\pricer_service2.py\n",
      "└── 🔨 Created function Pricer.download_model_to_folder.\n",
      "| Creating objects...\n",
      "├── 🔨 Created mount D:\\Learning Square\\LLMs\\Untitled Folder\\pricer_service2.py\n",
      "└── 🔨 Created function Pricer.download_model_to_folder.\n",
      "- Creating objects...\n",
      "├── 🔨 Created mount D:\\Learning Square\\LLMs\\Untitled Folder\\pricer_service2.py\n",
      "└── 🔨 Created function Pricer.download_model_to_folder.\n",
      "| Creating objects...\n",
      "├── 🔨 Created mount D:\\Learning Square\\LLMs\\Untitled Folder\\pricer_service2.py\n",
      "└── 🔨 Created function Pricer.download_model_to_folder.\n",
      "- Creating objects...\n",
      "├── 🔨 Created mount D:\\Learning Square\\LLMs\\Untitled Folder\\pricer_service2.py\n",
      "└── 🔨 Created function Pricer.download_model_to_folder.\n",
      "| Creating objects...\n",
      "├── 🔨 Created mount D:\\Learning Square\\LLMs\\Untitled Folder\\pricer_service2.py\n",
      "└── 🔨 Created function Pricer.download_model_to_folder.\n",
      "- Creating objects...\n",
      "├── 🔨 Created mount D:\\Learning Square\\LLMs\\Untitled Folder\\pricer_service2.py\n",
      "└── 🔨 Created function Pricer.download_model_to_folder.\n",
      "| Creating objects...\n",
      "├── 🔨 Created mount D:\\Learning Square\\LLMs\\Untitled Folder\\pricer_service2.py\n",
      "└── 🔨 Created function Pricer.download_model_to_folder.\n",
      "- Creating objects...\n",
      "├── 🔨 Created mount D:\\Learning Square\\LLMs\\Untitled Folder\\pricer_service2.py\n",
      "└── 🔨 Created function Pricer.download_model_to_folder.\n",
      "| Creating objects...\n",
      "├── 🔨 Created mount D:\\Learning Square\\LLMs\\Untitled Folder\\pricer_service2.py\n",
      "└── 🔨 Created function Pricer.download_model_to_folder.\n",
      "- Creating objects...\n",
      "├── 🔨 Created mount D:\\Learning Square\\LLMs\\Untitled Folder\\pricer_service2.py\n",
      "└── 🔨 Created function Pricer.download_model_to_folder.\n",
      "\u001b[1AFetching 17 files:  47%|████▋     | 8/17 [01:25<01:39, 11.01s/it]| Creating objects...\n",
      "├── 🔨 Created mount D:\\Learning Square\\LLMs\\Untitled Folder\\pricer_service2.py\n",
      "└── 🔨 Created function Pricer.download_model_to_folder.\n",
      "| Creating objects...\n",
      "├── 🔨 Created mount D:\\Learning Square\\LLMs\\Untitled Folder\\pricer_service2.py\n",
      "└── 🔨 Created function Pricer.download_model_to_folder.\n",
      "- Creating objects...\n",
      "├── 🔨 Created mount D:\\Learning Square\\LLMs\\Untitled Folder\\pricer_service2.py\n",
      "└── 🔨 Created function Pricer.download_model_to_folder.\n",
      "| Creating objects...\n",
      "├── 🔨 Created mount D:\\Learning Square\\LLMs\\Untitled Folder\\pricer_service2.py\n",
      "└── 🔨 Created function Pricer.download_model_to_folder.\n",
      "- Creating objects...\n",
      "├── 🔨 Created mount D:\\Learning Square\\LLMs\\Untitled Folder\\pricer_service2.py\n",
      "└── 🔨 Created function Pricer.download_model_to_folder.\n",
      "| Creating objects...\n",
      "├── 🔨 Created mount D:\\Learning Square\\LLMs\\Untitled Folder\\pricer_service2.py\n",
      "└── 🔨 Created function Pricer.download_model_to_folder.\n",
      "- Creating objects...\n",
      "├── 🔨 Created mount D:\\Learning Square\\LLMs\\Untitled Folder\\pricer_service2.py\n",
      "└── 🔨 Created function Pricer.download_model_to_folder.\n",
      "| Creating objects...\n",
      "├── 🔨 Created mount D:\\Learning Square\\LLMs\\Untitled Folder\\pricer_service2.py\n",
      "└── 🔨 Created function Pricer.download_model_to_folder.\n",
      "- Creating objects...\n",
      "├── 🔨 Created mount D:\\Learning Square\\LLMs\\Untitled Folder\\pricer_service2.py\n",
      "└── 🔨 Created function Pricer.download_model_to_folder.\n",
      "| Creating objects...\n",
      "├── 🔨 Created mount D:\\Learning Square\\LLMs\\Untitled Folder\\pricer_service2.py\n",
      "└── 🔨 Created function Pricer.download_model_to_folder.\n",
      "- Creating objects...\n",
      "├── 🔨 Created mount D:\\Learning Square\\LLMs\\Untitled Folder\\pricer_service2.py\n",
      "└── 🔨 Created function Pricer.download_model_to_folder.\n",
      "| Creating objects...\n",
      "├── 🔨 Created mount D:\\Learning Square\\LLMs\\Untitled Folder\\pricer_service2.py\n",
      "└── 🔨 Created function Pricer.download_model_to_folder.\n",
      "\\ Creating objects...\n",
      "├── 🔨 Created mount D:\\Learning Square\\LLMs\\Untitled Folder\\pricer_service2.py\n",
      "└── 🔨 Created function Pricer.download_model_to_folder.\n",
      "/ Creating objects...\n",
      "├── 🔨 Created mount D:\\Learning Square\\LLMs\\Untitled Folder\\pricer_service2.py\n",
      "└── 🔨 Created function Pricer.download_model_to_folder.\n",
      "\\ Creating objects...\n",
      "├── 🔨 Created mount D:\\Learning Square\\LLMs\\Untitled Folder\\pricer_service2.py\n",
      "└── 🔨 Created function Pricer.download_model_to_folder.\n",
      "/ Creating objects...\n",
      "├── 🔨 Created mount D:\\Learning Square\\LLMs\\Untitled Folder\\pricer_service2.py\n",
      "└── 🔨 Created function Pricer.download_model_to_folder.\n",
      "\\ Creating objects...\n",
      "├── 🔨 Created mount D:\\Learning Square\\LLMs\\Untitled Folder\\pricer_service2.py\n",
      "└── 🔨 Created function Pricer.download_model_to_folder.\n",
      "/ Creating objects...\n",
      "├── 🔨 Created mount D:\\Learning Square\\LLMs\\Untitled Folder\\pricer_service2.py\n",
      "└── 🔨 Created function Pricer.download_model_to_folder.\n",
      "\\ Creating objects...\n",
      "├── 🔨 Created mount D:\\Learning Square\\LLMs\\Untitled Folder\\pricer_service2.py\n",
      "└── 🔨 Created function Pricer.download_model_to_folder.\n",
      "/ Creating objects...\n",
      "├── 🔨 Created mount D:\\Learning Square\\LLMs\\Untitled Folder\\pricer_service2.py\n",
      "└── 🔨 Created function Pricer.download_model_to_folder.\n",
      "\\ Creating objects...\n",
      "├── 🔨 Created mount D:\\Learning Square\\LLMs\\Untitled Folder\\pricer_service2.py\n",
      "└── 🔨 Created function Pricer.download_model_to_folder.\n",
      "/ Creating objects...\n",
      "├── 🔨 Created mount D:\\Learning Square\\LLMs\\Untitled Folder\\pricer_service2.py\n",
      "└── 🔨 Created function Pricer.download_model_to_folder.\n",
      "\\ Creating objects...\n",
      "├── 🔨 Created mount D:\\Learning Square\\LLMs\\Untitled Folder\\pricer_service2.py\n",
      "└── 🔨 Created function Pricer.download_model_to_folder.\n",
      "/ Creating objects...\n",
      "├── 🔨 Created mount D:\\Learning Square\\LLMs\\Untitled Folder\\pricer_service2.py\n",
      "└── 🔨 Created function Pricer.download_model_to_folder.\n",
      "\\ Creating objects...\n",
      "├── 🔨 Created mount D:\\Learning Square\\LLMs\\Untitled Folder\\pricer_service2.py\n",
      "└── 🔨 Created function Pricer.download_model_to_folder.\n",
      "/ Creating objects...\n",
      "├── 🔨 Created mount D:\\Learning Square\\LLMs\\Untitled Folder\\pricer_service2.py\n",
      "└── 🔨 Created function Pricer.download_model_to_folder.\n",
      "\\ Creating objects...\n",
      "├── 🔨 Created mount D:\\Learning Square\\LLMs\\Untitled Folder\\pricer_service2.py\n",
      "└── 🔨 Created function Pricer.download_model_to_folder.\n",
      "/ Creating objects...\n",
      "├── 🔨 Created mount D:\\Learning Square\\LLMs\\Untitled Folder\\pricer_service2.py\n",
      "└── 🔨 Created function Pricer.download_model_to_folder.\n",
      "\\ Creating objects...\n",
      "├── 🔨 Created mount D:\\Learning Square\\LLMs\\Untitled Folder\\pricer_service2.py\n",
      "└── 🔨 Created function Pricer.download_model_to_folder.\n",
      "/ Creating objects...\n",
      "├── 🔨 Created mount D:\\Learning Square\\LLMs\\Untitled Folder\\pricer_service2.py\n",
      "└── 🔨 Created function Pricer.download_model_to_folder.\n",
      "\\ Creating objects...\n",
      "├── 🔨 Created mount D:\\Learning Square\\LLMs\\Untitled Folder\\pricer_service2.py\n",
      "└── 🔨 Created function Pricer.download_model_to_folder.\n",
      "/ Creating objects...\n",
      "├── 🔨 Created mount D:\\Learning Square\\LLMs\\Untitled Folder\\pricer_service2.py\n",
      "└── 🔨 Created function Pricer.download_model_to_folder.\n",
      "\\ Creating objects...\n",
      "├── 🔨 Created mount D:\\Learning Square\\LLMs\\Untitled Folder\\pricer_service2.py\n",
      "└── 🔨 Created function Pricer.download_model_to_folder.\n",
      "/ Creating objects...\n",
      "├── 🔨 Created mount D:\\Learning Square\\LLMs\\Untitled Folder\\pricer_service2.py\n",
      "└── 🔨 Created function Pricer.download_model_to_folder.\n",
      "\\ Creating objects...\n",
      "├── 🔨 Created mount D:\\Learning Square\\LLMs\\Untitled Folder\\pricer_service2.py\n",
      "└── 🔨 Created function Pricer.download_model_to_folder.\n",
      "/ Creating objects...\n",
      "├── 🔨 Created mount D:\\Learning Square\\LLMs\\Untitled Folder\\pricer_service2.py\n",
      "└── 🔨 Created function Pricer.download_model_to_folder.\n",
      "\\ Creating objects...\n",
      "├── 🔨 Created mount D:\\Learning Square\\LLMs\\Untitled Folder\\pricer_service2.py\n",
      "└── 🔨 Created function Pricer.download_model_to_folder.\n",
      "/ Creating objects...\n",
      "├── 🔨 Created mount D:\\Learning Square\\LLMs\\Untitled Folder\\pricer_service2.py\n",
      "└── 🔨 Created function Pricer.download_model_to_folder.\n",
      "\\ Creating objects...\n",
      "├── 🔨 Created mount D:\\Learning Square\\LLMs\\Untitled Folder\\pricer_service2.py\n",
      "└── 🔨 Created function Pricer.download_model_to_folder.\n",
      "/ Creating objects...\n",
      "├── 🔨 Created mount D:\\Learning Square\\LLMs\\Untitled Folder\\pricer_service2.py\n",
      "└── 🔨 Created function Pricer.download_model_to_folder.\n",
      "\\ Creating objects...\n",
      "├── 🔨 Created mount D:\\Learning Square\\LLMs\\Untitled Folder\\pricer_service2.py\n",
      "└── 🔨 Created function Pricer.download_model_to_folder.\n",
      "/ Creating objects...\n",
      "├── 🔨 Created mount D:\\Learning Square\\LLMs\\Untitled Folder\\pricer_service2.py\n",
      "└── 🔨 Created function Pricer.download_model_to_folder.\n",
      "\\ Creating objects...\n",
      "├── 🔨 Created mount D:\\Learning Square\\LLMs\\Untitled Folder\\pricer_service2.py\n",
      "└── 🔨 Created function Pricer.download_model_to_folder.\n",
      "/ Creating objects...\n",
      "├── 🔨 Created mount D:\\Learning Square\\LLMs\\Untitled Folder\\pricer_service2.py\n",
      "└── 🔨 Created function Pricer.download_model_to_folder.\n",
      "\\ Creating objects...\n",
      "├── 🔨 Created mount D:\\Learning Square\\LLMs\\Untitled Folder\\pricer_service2.py\n",
      "└── 🔨 Created function Pricer.download_model_to_folder.\n",
      "/ Creating objects...\n",
      "├── 🔨 Created mount D:\\Learning Square\\LLMs\\Untitled Folder\\pricer_service2.py\n",
      "└── 🔨 Created function Pricer.download_model_to_folder.\n",
      "\\ Creating objects...\n",
      "├── 🔨 Created mount D:\\Learning Square\\LLMs\\Untitled Folder\\pricer_service2.py\n",
      "└── 🔨 Created function Pricer.download_model_to_folder.\n",
      "/ Creating objects...\n",
      "├── 🔨 Created mount D:\\Learning Square\\LLMs\\Untitled Folder\\pricer_service2.py\n",
      "└── 🔨 Created function Pricer.download_model_to_folder.\n",
      "\\ Creating objects...\n",
      "├── 🔨 Created mount D:\\Learning Square\\LLMs\\Untitled Folder\\pricer_service2.py\n",
      "└── 🔨 Created function Pricer.download_model_to_folder.\n",
      "/ Creating objects...\n",
      "├── 🔨 Created mount D:\\Learning Square\\LLMs\\Untitled Folder\\pricer_service2.py\n",
      "└── 🔨 Created function Pricer.download_model_to_folder.\n",
      "\\ Creating objects...\n",
      "├── 🔨 Created mount D:\\Learning Square\\LLMs\\Untitled Folder\\pricer_service2.py\n",
      "└── 🔨 Created function Pricer.download_model_to_folder.\n",
      "/ Creating objects...\n",
      "├── 🔨 Created mount D:\\Learning Square\\LLMs\\Untitled Folder\\pricer_service2.py\n",
      "└── 🔨 Created function Pricer.download_model_to_folder.\n",
      "\\ Creating objects...\n",
      "├── 🔨 Created mount D:\\Learning Square\\LLMs\\Untitled Folder\\pricer_service2.py\n",
      "└── 🔨 Created function Pricer.download_model_to_folder.\n",
      "/ Creating objects...\n",
      "├── 🔨 Created mount D:\\Learning Square\\LLMs\\Untitled Folder\\pricer_service2.py\n",
      "└── 🔨 Created function Pricer.download_model_to_folder.\n",
      "\\ Creating objects...\n",
      "├── 🔨 Created mount D:\\Learning Square\\LLMs\\Untitled Folder\\pricer_service2.py\n",
      "└── 🔨 Created function Pricer.download_model_to_folder.\n",
      "/ Creating objects...\n",
      "├── 🔨 Created mount D:\\Learning Square\\LLMs\\Untitled Folder\\pricer_service2.py\n",
      "└── 🔨 Created function Pricer.download_model_to_folder.\n",
      "\\ Creating objects...\n",
      "├── 🔨 Created mount D:\\Learning Square\\LLMs\\Untitled Folder\\pricer_service2.py\n",
      "└── 🔨 Created function Pricer.download_model_to_folder.\n",
      "/ Creating objects...\n",
      "├── 🔨 Created mount D:\\Learning Square\\LLMs\\Untitled Folder\\pricer_service2.py\n",
      "└── 🔨 Created function Pricer.download_model_to_folder.\n",
      "\\ Creating objects...\n",
      "├── 🔨 Created mount D:\\Learning Square\\LLMs\\Untitled Folder\\pricer_service2.py\n",
      "└── 🔨 Created function Pricer.download_model_to_folder.\n",
      "- Creating objects...\n",
      "├── 🔨 Created mount D:\\Learning Square\\LLMs\\Untitled Folder\\pricer_service2.py\n",
      "└── 🔨 Created function Pricer.download_model_to_folder.\n",
      "| Creating objects...\n",
      "├── 🔨 Created mount D:\\Learning Square\\LLMs\\Untitled Folder\\pricer_service2.py\n",
      "└── 🔨 Created function Pricer.download_model_to_folder.\n",
      "- Creating objects...\n",
      "├── 🔨 Created mount D:\\Learning Square\\LLMs\\Untitled Folder\\pricer_service2.py\n",
      "└── 🔨 Created function Pricer.download_model_to_folder.\n",
      "| Creating objects...\n",
      "├── 🔨 Created mount D:\\Learning Square\\LLMs\\Untitled Folder\\pricer_service2.py\n",
      "└── 🔨 Created function Pricer.download_model_to_folder.\n",
      "- Creating objects...\n",
      "├── 🔨 Created mount D:\\Learning Square\\LLMs\\Untitled Folder\\pricer_service2.py\n",
      "└── 🔨 Created function Pricer.download_model_to_folder.\n",
      "| Creating objects...\n",
      "├── 🔨 Created mount D:\\Learning Square\\LLMs\\Untitled Folder\\pricer_service2.py\n",
      "└── 🔨 Created function Pricer.download_model_to_folder.\n",
      "- Creating objects...\n",
      "├── 🔨 Created mount D:\\Learning Square\\LLMs\\Untitled Folder\\pricer_service2.py\n",
      "└── 🔨 Created function Pricer.download_model_to_folder.\n",
      "| Creating objects...\n",
      "├── 🔨 Created mount D:\\Learning Square\\LLMs\\Untitled Folder\\pricer_service2.py\n",
      "└── 🔨 Created function Pricer.download_model_to_folder.\n",
      "- Creating objects...\n",
      "├── 🔨 Created mount D:\\Learning Square\\LLMs\\Untitled Folder\\pricer_service2.py\n",
      "└── 🔨 Created function Pricer.download_model_to_folder.\n",
      "| Creating objects...\n",
      "├── 🔨 Created mount D:\\Learning Square\\LLMs\\Untitled Folder\\pricer_service2.py\n",
      "└── 🔨 Created function Pricer.download_model_to_folder.\n",
      "- Creating objects...\n",
      "├── 🔨 Created mount D:\\Learning Square\\LLMs\\Untitled Folder\\pricer_service2.py\n",
      "└── 🔨 Created function Pricer.download_model_to_folder.\n",
      "| Creating objects...\n",
      "├── 🔨 Created mount D:\\Learning Square\\LLMs\\Untitled Folder\\pricer_service2.py\n",
      "└── 🔨 Created function Pricer.download_model_to_folder.\n",
      "- Creating objects...\n",
      "├── 🔨 Created mount D:\\Learning Square\\LLMs\\Untitled Folder\\pricer_service2.py\n",
      "└── 🔨 Created function Pricer.download_model_to_folder.\n",
      "| Creating objects...\n",
      "├── 🔨 Created mount D:\\Learning Square\\LLMs\\Untitled Folder\\pricer_service2.py\n",
      "└── 🔨 Created function Pricer.download_model_to_folder.\n",
      "- Creating objects...\n",
      "├── 🔨 Created mount D:\\Learning Square\\LLMs\\Untitled Folder\\pricer_service2.py\n",
      "└── 🔨 Created function Pricer.download_model_to_folder.\n",
      "| Creating objects...\n",
      "├── 🔨 Created mount D:\\Learning Square\\LLMs\\Untitled Folder\\pricer_service2.py\n",
      "└── 🔨 Created function Pricer.download_model_to_folder.\n",
      "- Creating objects...\n",
      "├── 🔨 Created mount D:\\Learning Square\\LLMs\\Untitled Folder\\pricer_service2.py\n",
      "└── 🔨 Created function Pricer.download_model_to_folder.\n",
      "| Creating objects...\n",
      "├── 🔨 Created mount D:\\Learning Square\\LLMs\\Untitled Folder\\pricer_service2.py\n",
      "└── 🔨 Created function Pricer.download_model_to_folder.\n",
      "- Creating objects...\n",
      "├── 🔨 Created mount D:\\Learning Square\\LLMs\\Untitled Folder\\pricer_service2.py\n",
      "└── 🔨 Created function Pricer.download_model_to_folder.\n",
      "| Creating objects...\n",
      "├── 🔨 Created mount D:\\Learning Square\\LLMs\\Untitled Folder\\pricer_service2.py\n",
      "└── 🔨 Created function Pricer.download_model_to_folder.\n",
      "- Creating objects...\n",
      "├── 🔨 Created mount D:\\Learning Square\\LLMs\\Untitled Folder\\pricer_service2.py\n",
      "└── 🔨 Created function Pricer.download_model_to_folder.\n",
      "| Creating objects...\n",
      "├── 🔨 Created mount D:\\Learning Square\\LLMs\\Untitled Folder\\pricer_service2.py\n",
      "└── 🔨 Created function Pricer.download_model_to_folder.\n",
      "- Creating objects...\n",
      "├── 🔨 Created mount D:\\Learning Square\\LLMs\\Untitled Folder\\pricer_service2.py\n",
      "└── 🔨 Created function Pricer.download_model_to_folder.\n",
      "| Creating objects...\n",
      "├── 🔨 Created mount D:\\Learning Square\\LLMs\\Untitled Folder\\pricer_service2.py\n",
      "└── 🔨 Created function Pricer.download_model_to_folder.\n",
      "- Creating objects...\n",
      "├── 🔨 Created mount D:\\Learning Square\\LLMs\\Untitled Folder\\pricer_service2.py\n",
      "└── 🔨 Created function Pricer.download_model_to_folder.\n",
      "| Creating objects...\n",
      "├── 🔨 Created mount D:\\Learning Square\\LLMs\\Untitled Folder\\pricer_service2.py\n",
      "└── 🔨 Created function Pricer.download_model_to_folder.\n",
      "- Creating objects...\n",
      "├── 🔨 Created mount D:\\Learning Square\\LLMs\\Untitled Folder\\pricer_service2.py\n",
      "└── 🔨 Created function Pricer.download_model_to_folder.\n",
      "| Creating objects...\n",
      "├── 🔨 Created mount D:\\Learning Square\\LLMs\\Untitled Folder\\pricer_service2.py\n",
      "└── 🔨 Created function Pricer.download_model_to_folder.\n",
      "- Creating objects...\n",
      "├── 🔨 Created mount D:\\Learning Square\\LLMs\\Untitled Folder\\pricer_service2.py\n",
      "└── 🔨 Created function Pricer.download_model_to_folder.\n",
      "| Creating objects...\n",
      "├── 🔨 Created mount D:\\Learning Square\\LLMs\\Untitled Folder\\pricer_service2.py\n",
      "└── 🔨 Created function Pricer.download_model_to_folder.\n",
      "- Creating objects...\n",
      "├── 🔨 Created mount D:\\Learning Square\\LLMs\\Untitled Folder\\pricer_service2.py\n",
      "└── 🔨 Created function Pricer.download_model_to_folder.\n",
      "| Creating objects...\n",
      "├── 🔨 Created mount D:\\Learning Square\\LLMs\\Untitled Folder\\pricer_service2.py\n",
      "└── 🔨 Created function Pricer.download_model_to_folder.\n",
      "- Creating objects...\n",
      "├── 🔨 Created mount D:\\Learning Square\\LLMs\\Untitled Folder\\pricer_service2.py\n",
      "└── 🔨 Created function Pricer.download_model_to_folder.\n",
      "| Creating objects...\n",
      "├── 🔨 Created mount D:\\Learning Square\\LLMs\\Untitled Folder\\pricer_service2.py\n",
      "└── 🔨 Created function Pricer.download_model_to_folder.\n",
      "- Creating objects...\n",
      "├── 🔨 Created mount D:\\Learning Square\\LLMs\\Untitled Folder\\pricer_service2.py\n",
      "└── 🔨 Created function Pricer.download_model_to_folder.\n",
      "| Creating objects...\n",
      "├── 🔨 Created mount D:\\Learning Square\\LLMs\\Untitled Folder\\pricer_service2.py\n",
      "└── 🔨 Created function Pricer.download_model_to_folder.\n",
      "- Creating objects...\n",
      "├── 🔨 Created mount D:\\Learning Square\\LLMs\\Untitled Folder\\pricer_service2.py\n",
      "└── 🔨 Created function Pricer.download_model_to_folder.\n",
      "/ Creating objects...\n",
      "├── 🔨 Created mount D:\\Learning Square\\LLMs\\Untitled Folder\\pricer_service2.py\n",
      "└── 🔨 Created function Pricer.download_model_to_folder.\n",
      "- Creating objects...\n",
      "├── 🔨 Created mount D:\\Learning Square\\LLMs\\Untitled Folder\\pricer_service2.py\n",
      "└── 🔨 Created function Pricer.download_model_to_folder.\n",
      "/ Creating objects...\n",
      "├── 🔨 Created mount D:\\Learning Square\\LLMs\\Untitled Folder\\pricer_service2.py\n",
      "└── 🔨 Created function Pricer.download_model_to_folder.\n",
      "- Creating objects...\n",
      "├── 🔨 Created mount D:\\Learning Square\\LLMs\\Untitled Folder\\pricer_service2.py\n",
      "└── 🔨 Created function Pricer.download_model_to_folder.\n",
      "/ Creating objects...\n",
      "├── 🔨 Created mount D:\\Learning Square\\LLMs\\Untitled Folder\\pricer_service2.py\n",
      "└── 🔨 Created function Pricer.download_model_to_folder.\n",
      "\\ Creating objects...\n",
      "├── 🔨 Created mount D:\\Learning Square\\LLMs\\Untitled Folder\\pricer_service2.py\n",
      "└── 🔨 Created function Pricer.download_model_to_folder.\n",
      "/ Creating objects...\n",
      "├── 🔨 Created mount D:\\Learning Square\\LLMs\\Untitled Folder\\pricer_service2.py\n",
      "└── 🔨 Created function Pricer.download_model_to_folder.\n",
      "\\ Creating objects...\n",
      "├── 🔨 Created mount D:\\Learning Square\\LLMs\\Untitled Folder\\pricer_service2.py\n",
      "└── 🔨 Created function Pricer.download_model_to_folder.\n",
      "/ Creating objects...\n",
      "├── 🔨 Created mount D:\\Learning Square\\LLMs\\Untitled Folder\\pricer_service2.py\n",
      "└── 🔨 Created function Pricer.download_model_to_folder.\n",
      "\\ Creating objects...\n",
      "├── 🔨 Created mount D:\\Learning Square\\LLMs\\Untitled Folder\\pricer_service2.py\n",
      "└── 🔨 Created function Pricer.download_model_to_folder.\n",
      "/ Creating objects...\n",
      "├── 🔨 Created mount D:\\Learning Square\\LLMs\\Untitled Folder\\pricer_service2.py\n",
      "└── 🔨 Created function Pricer.download_model_to_folder.\n",
      "\\ Creating objects...\n",
      "├── 🔨 Created mount D:\\Learning Square\\LLMs\\Untitled Folder\\pricer_service2.py\n",
      "└── 🔨 Created function Pricer.download_model_to_folder.\n",
      "| Creating objects...\n",
      "├── 🔨 Created mount D:\\Learning Square\\LLMs\\Untitled Folder\\pricer_service2.py\n",
      "└── 🔨 Created function Pricer.download_model_to_folder.\n",
      "- Creating objects...\n",
      "├── 🔨 Created mount D:\\Learning Square\\LLMs\\Untitled Folder\\pricer_service2.py\n",
      "└── 🔨 Created function Pricer.download_model_to_folder.\n",
      "| Creating objects...\n",
      "├── 🔨 Created mount D:\\Learning Square\\LLMs\\Untitled Folder\\pricer_service2.py\n",
      "└── 🔨 Created function Pricer.download_model_to_folder.\n",
      "\\ Creating objects...\n",
      "├── 🔨 Created mount D:\\Learning Square\\LLMs\\Untitled Folder\\pricer_service2.py\n",
      "└── 🔨 Created function Pricer.download_model_to_folder.\n",
      "/ Creating objects...\n",
      "├── 🔨 Created mount D:\\Learning Square\\LLMs\\Untitled Folder\\pricer_service2.py\n",
      "└── 🔨 Created function Pricer.download_model_to_folder.\n",
      "\\ Creating objects...\n",
      "├── 🔨 Created mount D:\\Learning Square\\LLMs\\Untitled Folder\\pricer_service2.py\n",
      "└── 🔨 Created function Pricer.download_model_to_folder.\n",
      "/ Creating objects...\n",
      "├── 🔨 Created mount D:\\Learning Square\\LLMs\\Untitled Folder\\pricer_service2.py\n",
      "└── 🔨 Created function Pricer.download_model_to_folder.\n",
      "\\ Creating objects...\n",
      "├── 🔨 Created mount D:\\Learning Square\\LLMs\\Untitled Folder\\pricer_service2.py\n",
      "└── 🔨 Created function Pricer.download_model_to_folder.\n",
      "/ Creating objects...\n",
      "├── 🔨 Created mount D:\\Learning Square\\LLMs\\Untitled Folder\\pricer_service2.py\n",
      "└── 🔨 Created function Pricer.download_model_to_folder.\n",
      "\\ Creating objects...\n",
      "├── 🔨 Created mount D:\\Learning Square\\LLMs\\Untitled Folder\\pricer_service2.py\n",
      "└── 🔨 Created function Pricer.download_model_to_folder.\n",
      "/ Creating objects...\n",
      "├── 🔨 Created mount D:\\Learning Square\\LLMs\\Untitled Folder\\pricer_service2.py\n",
      "└── 🔨 Created function Pricer.download_model_to_folder.\n",
      "\\ Creating objects...\n",
      "├── 🔨 Created mount D:\\Learning Square\\LLMs\\Untitled Folder\\pricer_service2.py\n",
      "└── 🔨 Created function Pricer.download_model_to_folder.\n",
      "/ Creating objects...\n",
      "├── 🔨 Created mount D:\\Learning Square\\LLMs\\Untitled Folder\\pricer_service2.py\n",
      "└── 🔨 Created function Pricer.download_model_to_folder.\n",
      "\\ Creating objects...\n",
      "├── 🔨 Created mount D:\\Learning Square\\LLMs\\Untitled Folder\\pricer_service2.py\n",
      "└── 🔨 Created function Pricer.download_model_to_folder.\n",
      "/ Creating objects...\n",
      "├── 🔨 Created mount D:\\Learning Square\\LLMs\\Untitled Folder\\pricer_service2.py\n",
      "└── 🔨 Created function Pricer.download_model_to_folder.\n",
      "\\ Creating objects...\n",
      "├── 🔨 Created mount D:\\Learning Square\\LLMs\\Untitled Folder\\pricer_service2.py\n",
      "└── 🔨 Created function Pricer.download_model_to_folder.\n",
      "/ Creating objects...\n",
      "├── 🔨 Created mount D:\\Learning Square\\LLMs\\Untitled Folder\\pricer_service2.py\n",
      "└── 🔨 Created function Pricer.download_model_to_folder.\n",
      "\\ Creating objects...\n",
      "├── 🔨 Created mount D:\\Learning Square\\LLMs\\Untitled Folder\\pricer_service2.py\n",
      "└── 🔨 Created function Pricer.download_model_to_folder.\n",
      "/ Creating objects...\n",
      "├── 🔨 Created mount D:\\Learning Square\\LLMs\\Untitled Folder\\pricer_service2.py\n",
      "└── 🔨 Created function Pricer.download_model_to_folder.\n",
      "\\ Creating objects...\n",
      "├── 🔨 Created mount D:\\Learning Square\\LLMs\\Untitled Folder\\pricer_service2.py\n",
      "└── 🔨 Created function Pricer.download_model_to_folder.\n",
      "/ Creating objects...\n",
      "├── 🔨 Created mount D:\\Learning Square\\LLMs\\Untitled Folder\\pricer_service2.py\n",
      "└── 🔨 Created function Pricer.download_model_to_folder.\n",
      "\\ Creating objects...\n",
      "├── 🔨 Created mount D:\\Learning Square\\LLMs\\Untitled Folder\\pricer_service2.py\n",
      "└── 🔨 Created function Pricer.download_model_to_folder.\n",
      "/ Creating objects...\n",
      "├── 🔨 Created mount D:\\Learning Square\\LLMs\\Untitled Folder\\pricer_service2.py\n",
      "└── 🔨 Created function Pricer.download_model_to_folder.\n",
      "\\ Creating objects...\n",
      "├── 🔨 Created mount D:\\Learning Square\\LLMs\\Untitled Folder\\pricer_service2.py\n",
      "└── 🔨 Created function Pricer.download_model_to_folder.\n",
      "/ Creating objects...\n",
      "├── 🔨 Created mount D:\\Learning Square\\LLMs\\Untitled Folder\\pricer_service2.py\n",
      "└── 🔨 Created function Pricer.download_model_to_folder.\n",
      "\\ Creating objects...\n",
      "├── 🔨 Created mount D:\\Learning Square\\LLMs\\Untitled Folder\\pricer_service2.py\n",
      "└── 🔨 Created function Pricer.download_model_to_folder.\n",
      "/ Creating objects...\n",
      "├── 🔨 Created mount D:\\Learning Square\\LLMs\\Untitled Folder\\pricer_service2.py\n",
      "└── 🔨 Created function Pricer.download_model_to_folder.\n",
      "\\ Creating objects...\n",
      "├── 🔨 Created mount D:\\Learning Square\\LLMs\\Untitled Folder\\pricer_service2.py\n",
      "└── 🔨 Created function Pricer.download_model_to_folder.\n",
      "/ Creating objects...\n",
      "├── 🔨 Created mount D:\\Learning Square\\LLMs\\Untitled Folder\\pricer_service2.py\n",
      "└── 🔨 Created function Pricer.download_model_to_folder.\n",
      "\\ Creating objects...\n",
      "├── 🔨 Created mount D:\\Learning Square\\LLMs\\Untitled Folder\\pricer_service2.py\n",
      "└── 🔨 Created function Pricer.download_model_to_folder.\n",
      "/ Creating objects...\n",
      "├── 🔨 Created mount D:\\Learning Square\\LLMs\\Untitled Folder\\pricer_service2.py\n",
      "└── 🔨 Created function Pricer.download_model_to_folder.\n",
      "\\ Creating objects...\n",
      "├── 🔨 Created mount D:\\Learning Square\\LLMs\\Untitled Folder\\pricer_service2.py\n",
      "└── 🔨 Created function Pricer.download_model_to_folder.\n",
      "/ Creating objects...\n",
      "├── 🔨 Created mount D:\\Learning Square\\LLMs\\Untitled Folder\\pricer_service2.py\n",
      "└── 🔨 Created function Pricer.download_model_to_folder.\n",
      "\\ Creating objects...\n",
      "├── 🔨 Created mount D:\\Learning Square\\LLMs\\Untitled Folder\\pricer_service2.py\n",
      "└── 🔨 Created function Pricer.download_model_to_folder.\n",
      "/ Creating objects...\n",
      "├── 🔨 Created mount D:\\Learning Square\\LLMs\\Untitled Folder\\pricer_service2.py\n",
      "└── 🔨 Created function Pricer.download_model_to_folder.\n",
      "\\ Creating objects...\n",
      "├── 🔨 Created mount D:\\Learning Square\\LLMs\\Untitled Folder\\pricer_service2.py\n",
      "└── 🔨 Created function Pricer.download_model_to_folder.\n",
      "/ Creating objects...\n",
      "├── 🔨 Created mount D:\\Learning Square\\LLMs\\Untitled Folder\\pricer_service2.py\n",
      "└── 🔨 Created function Pricer.download_model_to_folder.\n",
      "\\ Creating objects...\n",
      "├── 🔨 Created mount D:\\Learning Square\\LLMs\\Untitled Folder\\pricer_service2.py\n",
      "└── 🔨 Created function Pricer.download_model_to_folder.\n",
      "/ Creating objects...\n",
      "├── 🔨 Created mount D:\\Learning Square\\LLMs\\Untitled Folder\\pricer_service2.py\n",
      "└── 🔨 Created function Pricer.download_model_to_folder.\n",
      "\\ Creating objects...\n",
      "├── 🔨 Created mount D:\\Learning Square\\LLMs\\Untitled Folder\\pricer_service2.py\n",
      "└── 🔨 Created function Pricer.download_model_to_folder.\n",
      "/ Creating objects...\n",
      "├── 🔨 Created mount D:\\Learning Square\\LLMs\\Untitled Folder\\pricer_service2.py\n",
      "└── 🔨 Created function Pricer.download_model_to_folder.\n",
      "\\ Creating objects...\n",
      "├── 🔨 Created mount D:\\Learning Square\\LLMs\\Untitled Folder\\pricer_service2.py\n",
      "└── 🔨 Created function Pricer.download_model_to_folder.\n",
      "/ Creating objects...\n",
      "├── 🔨 Created mount D:\\Learning Square\\LLMs\\Untitled Folder\\pricer_service2.py\n",
      "└── 🔨 Created function Pricer.download_model_to_folder.\n",
      "\\ Creating objects...\n",
      "├── 🔨 Created mount D:\\Learning Square\\LLMs\\Untitled Folder\\pricer_service2.py\n",
      "└── 🔨 Created function Pricer.download_model_to_folder.\n",
      "/ Creating objects...\n",
      "├── 🔨 Created mount D:\\Learning Square\\LLMs\\Untitled Folder\\pricer_service2.py\n",
      "└── 🔨 Created function Pricer.download_model_to_folder.\n",
      "\\ Creating objects...\n",
      "├── 🔨 Created mount D:\\Learning Square\\LLMs\\Untitled Folder\\pricer_service2.py\n",
      "└── 🔨 Created function Pricer.download_model_to_folder.\n",
      "- Creating objects...\n",
      "├── 🔨 Created mount D:\\Learning Square\\LLMs\\Untitled Folder\\pricer_service2.py\n",
      "└── 🔨 Created function Pricer.download_model_to_folder.\n",
      "| Creating objects...\n",
      "├── 🔨 Created mount D:\\Learning Square\\LLMs\\Untitled Folder\\pricer_service2.py\n",
      "└── 🔨 Created function Pricer.download_model_to_folder.\n",
      "- Creating objects...\n",
      "├── 🔨 Created mount D:\\Learning Square\\LLMs\\Untitled Folder\\pricer_service2.py\n",
      "└── 🔨 Created function Pricer.download_model_to_folder.\n",
      "| Creating objects...\n",
      "├── 🔨 Created mount D:\\Learning Square\\LLMs\\Untitled Folder\\pricer_service2.py\n",
      "└── 🔨 Created function Pricer.download_model_to_folder.\n",
      "- Creating objects...\n",
      "├── 🔨 Created mount D:\\Learning Square\\LLMs\\Untitled Folder\\pricer_service2.py\n",
      "└── 🔨 Created function Pricer.download_model_to_folder.\n",
      "| Creating objects...\n",
      "├── 🔨 Created mount D:\\Learning Square\\LLMs\\Untitled Folder\\pricer_service2.py\n",
      "└── 🔨 Created function Pricer.download_model_to_folder.\n",
      "- Creating objects...\n",
      "├── 🔨 Created mount D:\\Learning Square\\LLMs\\Untitled Folder\\pricer_service2.py\n",
      "└── 🔨 Created function Pricer.download_model_to_folder.\n",
      "| Creating objects...\n",
      "├── 🔨 Created mount D:\\Learning Square\\LLMs\\Untitled Folder\\pricer_service2.py\n",
      "└── 🔨 Created function Pricer.download_model_to_folder.\n",
      "- Creating objects...\n",
      "├── 🔨 Created mount D:\\Learning Square\\LLMs\\Untitled Folder\\pricer_service2.py\n",
      "└── 🔨 Created function Pricer.download_model_to_folder.\n",
      "| Creating objects...\n",
      "├── 🔨 Created mount D:\\Learning Square\\LLMs\\Untitled Folder\\pricer_service2.py\n",
      "└── 🔨 Created function Pricer.download_model_to_folder.\n",
      "- Creating objects...\n",
      "├── 🔨 Created mount D:\\Learning Square\\LLMs\\Untitled Folder\\pricer_service2.py\n",
      "└── 🔨 Created function Pricer.download_model_to_folder.\n",
      "| Creating objects...\n",
      "├── 🔨 Created mount D:\\Learning Square\\LLMs\\Untitled Folder\\pricer_service2.py\n",
      "└── 🔨 Created function Pricer.download_model_to_folder.\n",
      "- Creating objects...\n",
      "├── 🔨 Created mount D:\\Learning Square\\LLMs\\Untitled Folder\\pricer_service2.py\n",
      "└── 🔨 Created function Pricer.download_model_to_folder.\n",
      "| Creating objects...\n",
      "├── 🔨 Created mount D:\\Learning Square\\LLMs\\Untitled Folder\\pricer_service2.py\n",
      "└── 🔨 Created function Pricer.download_model_to_folder.\n",
      "- Creating objects...\n",
      "├── 🔨 Created mount D:\\Learning Square\\LLMs\\Untitled Folder\\pricer_service2.py\n",
      "└── 🔨 Created function Pricer.download_model_to_folder.\n",
      "| Creating objects...\n",
      "├── 🔨 Created mount D:\\Learning Square\\LLMs\\Untitled Folder\\pricer_service2.py\n",
      "└── 🔨 Created function Pricer.download_model_to_folder.\n",
      "- Creating objects...\n",
      "├── 🔨 Created mount D:\\Learning Square\\LLMs\\Untitled Folder\\pricer_service2.py\n",
      "└── 🔨 Created function Pricer.download_model_to_folder.\n",
      "| Creating objects...\n",
      "├── 🔨 Created mount D:\\Learning Square\\LLMs\\Untitled Folder\\pricer_service2.py\n",
      "└── 🔨 Created function Pricer.download_model_to_folder.\n",
      "- Creating objects...\n",
      "├── 🔨 Created mount D:\\Learning Square\\LLMs\\Untitled Folder\\pricer_service2.py\n",
      "└── 🔨 Created function Pricer.download_model_to_folder.\n",
      "| Creating objects...\n",
      "├── 🔨 Created mount D:\\Learning Square\\LLMs\\Untitled Folder\\pricer_service2.py\n",
      "└── 🔨 Created function Pricer.download_model_to_folder.\n",
      "- Creating objects...\n",
      "├── 🔨 Created mount D:\\Learning Square\\LLMs\\Untitled Folder\\pricer_service2.py\n",
      "└── 🔨 Created function Pricer.download_model_to_folder.\n",
      "| Creating objects...\n",
      "├── 🔨 Created mount D:\\Learning Square\\LLMs\\Untitled Folder\\pricer_service2.py\n",
      "└── 🔨 Created function Pricer.download_model_to_folder.\n",
      "- Creating objects...\n",
      "├── 🔨 Created mount D:\\Learning Square\\LLMs\\Untitled Folder\\pricer_service2.py\n",
      "└── 🔨 Created function Pricer.download_model_to_folder.\n",
      "| Creating objects...\n",
      "├── 🔨 Created mount D:\\Learning Square\\LLMs\\Untitled Folder\\pricer_service2.py\n",
      "└── 🔨 Created function Pricer.download_model_to_folder.\n",
      "- Creating objects...\n",
      "├── 🔨 Created mount D:\\Learning Square\\LLMs\\Untitled Folder\\pricer_service2.py\n",
      "└── 🔨 Created function Pricer.download_model_to_folder.\n",
      "| Creating objects...\n",
      "├── 🔨 Created mount D:\\Learning Square\\LLMs\\Untitled Folder\\pricer_service2.py\n",
      "└── 🔨 Created function Pricer.download_model_to_folder.\n",
      "- Creating objects...\n",
      "├── 🔨 Created mount D:\\Learning Square\\LLMs\\Untitled Folder\\pricer_service2.py\n",
      "└── 🔨 Created function Pricer.download_model_to_folder.\n",
      "| Creating objects...\n",
      "├── 🔨 Created mount D:\\Learning Square\\LLMs\\Untitled Folder\\pricer_service2.py\n",
      "└── 🔨 Created function Pricer.download_model_to_folder.\n",
      "- Creating objects...\n",
      "├── 🔨 Created mount D:\\Learning Square\\LLMs\\Untitled Folder\\pricer_service2.py\n",
      "└── 🔨 Created function Pricer.download_model_to_folder.\n",
      "/ Creating objects...\n",
      "├── 🔨 Created mount D:\\Learning Square\\LLMs\\Untitled Folder\\pricer_service2.py\n",
      "└── 🔨 Created function Pricer.download_model_to_folder.\n",
      "\\ Creating objects...\n",
      "├── 🔨 Created mount D:\\Learning Square\\LLMs\\Untitled Folder\\pricer_service2.py\n",
      "└── 🔨 Created function Pricer.download_model_to_folder.\n",
      "/ Creating objects...\n",
      "├── 🔨 Created mount D:\\Learning Square\\LLMs\\Untitled Folder\\pricer_service2.py\n",
      "└── 🔨 Created function Pricer.download_model_to_folder.\n",
      "\\ Creating objects...\n",
      "├── 🔨 Created mount D:\\Learning Square\\LLMs\\Untitled Folder\\pricer_service2.py\n",
      "└── 🔨 Created function Pricer.download_model_to_folder.\n",
      "| Creating objects...\n",
      "├── 🔨 Created mount D:\\Learning Square\\LLMs\\Untitled Folder\\pricer_service2.py\n",
      "└── 🔨 Created function Pricer.download_model_to_folder.\n",
      "\\ Creating objects...\n",
      "├── 🔨 Created mount D:\\Learning Square\\LLMs\\Untitled Folder\\pricer_service2.py\n",
      "└── 🔨 Created function Pricer.download_model_to_folder.\n",
      "/ Creating objects...\n",
      "├── 🔨 Created mount D:\\Learning Square\\LLMs\\Untitled Folder\\pricer_service2.py\n",
      "└── 🔨 Created function Pricer.download_model_to_folder.\n",
      "\\ Creating objects...\n",
      "├── 🔨 Created mount D:\\Learning Square\\LLMs\\Untitled Folder\\pricer_service2.py\n",
      "└── 🔨 Created function Pricer.download_model_to_folder.\n",
      "/ Creating objects...\n",
      "├── 🔨 Created mount D:\\Learning Square\\LLMs\\Untitled Folder\\pricer_service2.py\n",
      "└── 🔨 Created function Pricer.download_model_to_folder.\n",
      "\\ Creating objects...\n",
      "├── 🔨 Created mount D:\\Learning Square\\LLMs\\Untitled Folder\\pricer_service2.py\n",
      "└── 🔨 Created function Pricer.download_model_to_folder.\n",
      "/ Creating objects...\n",
      "├── 🔨 Created mount D:\\Learning Square\\LLMs\\Untitled Folder\\pricer_service2.py\n",
      "└── 🔨 Created function Pricer.download_model_to_folder.\n",
      "\\ Creating objects...\n",
      "├── 🔨 Created mount D:\\Learning Square\\LLMs\\Untitled Folder\\pricer_service2.py\n",
      "└── 🔨 Created function Pricer.download_model_to_folder.\n",
      "/ Creating objects...\n",
      "├── 🔨 Created mount D:\\Learning Square\\LLMs\\Untitled Folder\\pricer_service2.py\n",
      "└── 🔨 Created function Pricer.download_model_to_folder.\n",
      "\\ Creating objects...\n",
      "├── 🔨 Created mount D:\\Learning Square\\LLMs\\Untitled Folder\\pricer_service2.py\n",
      "└── 🔨 Created function Pricer.download_model_to_folder.\n",
      "/ Creating objects...\n",
      "├── 🔨 Created mount D:\\Learning Square\\LLMs\\Untitled Folder\\pricer_service2.py\n",
      "└── 🔨 Created function Pricer.download_model_to_folder.\n",
      "\\ Creating objects...\n",
      "├── 🔨 Created mount D:\\Learning Square\\LLMs\\Untitled Folder\\pricer_service2.py\n",
      "└── 🔨 Created function Pricer.download_model_to_folder.\n",
      "/ Creating objects...\n",
      "├── 🔨 Created mount D:\\Learning Square\\LLMs\\Untitled Folder\\pricer_service2.py\n",
      "└── 🔨 Created function Pricer.download_model_to_folder.\n",
      "\\ Creating objects...\n",
      "├── 🔨 Created mount D:\\Learning Square\\LLMs\\Untitled Folder\\pricer_service2.py\n",
      "└── 🔨 Created function Pricer.download_model_to_folder.\n",
      "/ Creating objects...\n",
      "├── 🔨 Created mount D:\\Learning Square\\LLMs\\Untitled Folder\\pricer_service2.py\n",
      "└── 🔨 Created function Pricer.download_model_to_folder.\n",
      "\\ Creating objects...\n",
      "├── 🔨 Created mount D:\\Learning Square\\LLMs\\Untitled Folder\\pricer_service2.py\n",
      "└── 🔨 Created function Pricer.download_model_to_folder.\n",
      "/ Creating objects...\n",
      "├── 🔨 Created mount D:\\Learning Square\\LLMs\\Untitled Folder\\pricer_service2.py\n",
      "└── 🔨 Created function Pricer.download_model_to_folder.\n",
      "\\ Creating objects...\n",
      "├── 🔨 Created mount D:\\Learning Square\\LLMs\\Untitled Folder\\pricer_service2.py\n",
      "└── 🔨 Created function Pricer.download_model_to_folder.\n",
      "/ Creating objects...\n",
      "├── 🔨 Created mount D:\\Learning Square\\LLMs\\Untitled Folder\\pricer_service2.py\n",
      "└── 🔨 Created function Pricer.download_model_to_folder.\n",
      "\\ Creating objects...\n",
      "├── 🔨 Created mount D:\\Learning Square\\LLMs\\Untitled Folder\\pricer_service2.py\n",
      "└── 🔨 Created function Pricer.download_model_to_folder.\n",
      "/ Creating objects...\n",
      "├── 🔨 Created mount D:\\Learning Square\\LLMs\\Untitled Folder\\pricer_service2.py\n",
      "└── 🔨 Created function Pricer.download_model_to_folder.\n",
      "\\ Creating objects...\n",
      "├── 🔨 Created mount D:\\Learning Square\\LLMs\\Untitled Folder\\pricer_service2.py\n",
      "└── 🔨 Created function Pricer.download_model_to_folder.\n",
      "/ Creating objects...\n",
      "├── 🔨 Created mount D:\\Learning Square\\LLMs\\Untitled Folder\\pricer_service2.py\n",
      "└── 🔨 Created function Pricer.download_model_to_folder.\n",
      "\\ Creating objects...\n",
      "├── 🔨 Created mount D:\\Learning Square\\LLMs\\Untitled Folder\\pricer_service2.py\n",
      "└── 🔨 Created function Pricer.download_model_to_folder.\n",
      "/ Creating objects...\n",
      "├── 🔨 Created mount D:\\Learning Square\\LLMs\\Untitled Folder\\pricer_service2.py\n",
      "└── 🔨 Created function Pricer.download_model_to_folder.\n",
      "\\ Creating objects...\n",
      "├── 🔨 Created mount D:\\Learning Square\\LLMs\\Untitled Folder\\pricer_service2.py\n",
      "└── 🔨 Created function Pricer.download_model_to_folder.\n",
      "/ Creating objects...\n",
      "├── 🔨 Created mount D:\\Learning Square\\LLMs\\Untitled Folder\\pricer_service2.py\n",
      "└── 🔨 Created function Pricer.download_model_to_folder.\n",
      "| Creating objects...\n",
      "├── 🔨 Created mount D:\\Learning Square\\LLMs\\Untitled Folder\\pricer_service2.py\n",
      "└── 🔨 Created function Pricer.download_model_to_folder.\n",
      "/ Creating objects...\n",
      "├── 🔨 Created mount D:\\Learning Square\\LLMs\\Untitled Folder\\pricer_service2.py\n",
      "└── 🔨 Created function Pricer.download_model_to_folder.\n",
      "\\ Creating objects...\n",
      "├── 🔨 Created mount D:\\Learning Square\\LLMs\\Untitled Folder\\pricer_service2.py\n",
      "└── 🔨 Created function Pricer.download_model_to_folder.\n",
      "- Creating objects...\n",
      "├── 🔨 Created mount D:\\Learning Square\\LLMs\\Untitled Folder\\pricer_service2.py\n",
      "└── 🔨 Created function Pricer.download_model_to_folder.\n",
      "| Creating objects...\n",
      "├── 🔨 Created mount D:\\Learning Square\\LLMs\\Untitled Folder\\pricer_service2.py\n",
      "└── 🔨 Created function Pricer.download_model_to_folder.\n",
      "- Creating objects...\n",
      "├── 🔨 Created mount D:\\Learning Square\\LLMs\\Untitled Folder\\pricer_service2.py\n",
      "└── 🔨 Created function Pricer.download_model_to_folder.\n",
      "| Creating objects...\n",
      "├── 🔨 Created mount D:\\Learning Square\\LLMs\\Untitled Folder\\pricer_service2.py\n",
      "└── 🔨 Created function Pricer.download_model_to_folder.\n",
      "- Creating objects...\n",
      "├── 🔨 Created mount D:\\Learning Square\\LLMs\\Untitled Folder\\pricer_service2.py\n",
      "└── 🔨 Created function Pricer.download_model_to_folder.\n",
      "| Creating objects...\n",
      "├── 🔨 Created mount D:\\Learning Square\\LLMs\\Untitled Folder\\pricer_service2.py\n",
      "└── 🔨 Created function Pricer.download_model_to_folder.\n",
      "- Creating objects...\n",
      "├── 🔨 Created mount D:\\Learning Square\\LLMs\\Untitled Folder\\pricer_service2.py\n",
      "└── 🔨 Created function Pricer.download_model_to_folder.\n",
      "| Creating objects...\n",
      "├── 🔨 Created mount D:\\Learning Square\\LLMs\\Untitled Folder\\pricer_service2.py\n",
      "└── 🔨 Created function Pricer.download_model_to_folder.\n",
      "- Creating objects...\n",
      "├── 🔨 Created mount D:\\Learning Square\\LLMs\\Untitled Folder\\pricer_service2.py\n",
      "└── 🔨 Created function Pricer.download_model_to_folder.\n",
      "| Creating objects...\n",
      "├── 🔨 Created mount D:\\Learning Square\\LLMs\\Untitled Folder\\pricer_service2.py\n",
      "└── 🔨 Created function Pricer.download_model_to_folder.\n",
      "- Creating objects...\n",
      "├── 🔨 Created mount D:\\Learning Square\\LLMs\\Untitled Folder\\pricer_service2.py\n",
      "└── 🔨 Created function Pricer.download_model_to_folder.\n",
      "| Creating objects...\n",
      "├── 🔨 Created mount D:\\Learning Square\\LLMs\\Untitled Folder\\pricer_service2.py\n",
      "└── 🔨 Created function Pricer.download_model_to_folder.\n",
      "- Creating objects...\n",
      "├── 🔨 Created mount D:\\Learning Square\\LLMs\\Untitled Folder\\pricer_service2.py\n",
      "└── 🔨 Created function Pricer.download_model_to_folder.\n",
      "| Creating objects...\n",
      "├── 🔨 Created mount D:\\Learning Square\\LLMs\\Untitled Folder\\pricer_service2.py\n",
      "└── 🔨 Created function Pricer.download_model_to_folder.\n",
      "- Creating objects...\n",
      "├── 🔨 Created mount D:\\Learning Square\\LLMs\\Untitled Folder\\pricer_service2.py\n",
      "└── 🔨 Created function Pricer.download_model_to_folder.\n",
      "| Creating objects...\n",
      "├── 🔨 Created mount D:\\Learning Square\\LLMs\\Untitled Folder\\pricer_service2.py\n",
      "└── 🔨 Created function Pricer.download_model_to_folder.\n",
      "- Creating objects...\n",
      "├── 🔨 Created mount D:\\Learning Square\\LLMs\\Untitled Folder\\pricer_service2.py\n",
      "└── 🔨 Created function Pricer.download_model_to_folder.\n",
      "| Creating objects...\n",
      "├── 🔨 Created mount D:\\Learning Square\\LLMs\\Untitled Folder\\pricer_service2.py\n",
      "└── 🔨 Created function Pricer.download_model_to_folder.\n",
      "- Creating objects...\n",
      "├── 🔨 Created mount D:\\Learning Square\\LLMs\\Untitled Folder\\pricer_service2.py\n",
      "└── 🔨 Created function Pricer.download_model_to_folder.\n",
      "| Creating objects...\n",
      "├── 🔨 Created mount D:\\Learning Square\\LLMs\\Untitled Folder\\pricer_service2.py\n",
      "└── 🔨 Created function Pricer.download_model_to_folder.\n",
      "- Creating objects...\n",
      "├── 🔨 Created mount D:\\Learning Square\\LLMs\\Untitled Folder\\pricer_service2.py\n",
      "└── 🔨 Created function Pricer.download_model_to_folder.\n",
      "| Creating objects...\n",
      "├── 🔨 Created mount D:\\Learning Square\\LLMs\\Untitled Folder\\pricer_service2.py\n",
      "└── 🔨 Created function Pricer.download_model_to_folder.\n",
      "- Creating objects...\n",
      "├── 🔨 Created mount D:\\Learning Square\\LLMs\\Untitled Folder\\pricer_service2.py\n",
      "└── 🔨 Created function Pricer.download_model_to_folder.\n",
      "/ Creating objects...\n",
      "├── 🔨 Created mount D:\\Learning Square\\LLMs\\Untitled Folder\\pricer_service2.py\n",
      "└── 🔨 Created function Pricer.download_model_to_folder.\n",
      "\\ Creating objects...\n",
      "├── 🔨 Created mount D:\\Learning Square\\LLMs\\Untitled Folder\\pricer_service2.py\n",
      "└── 🔨 Created function Pricer.download_model_to_folder.\n",
      "/ Creating objects...\n",
      "├── 🔨 Created mount D:\\Learning Square\\LLMs\\Untitled Folder\\pricer_service2.py\n",
      "└── 🔨 Created function Pricer.download_model_to_folder.\n",
      "\\ Creating objects...\n",
      "├── 🔨 Created mount D:\\Learning Square\\LLMs\\Untitled Folder\\pricer_service2.py\n",
      "└── 🔨 Created function Pricer.download_model_to_folder.\n",
      "/ Creating objects...\n",
      "├── 🔨 Created mount D:\\Learning Square\\LLMs\\Untitled Folder\\pricer_service2.py\n",
      "└── 🔨 Created function Pricer.download_model_to_folder.\n",
      "\\ Creating objects...\n",
      "├── 🔨 Created mount D:\\Learning Square\\LLMs\\Untitled Folder\\pricer_service2.py\n",
      "└── 🔨 Created function Pricer.download_model_to_folder.\n",
      "/ Creating objects...\n",
      "├── 🔨 Created mount D:\\Learning Square\\LLMs\\Untitled Folder\\pricer_service2.py\n",
      "└── 🔨 Created function Pricer.download_model_to_folder.\n",
      "\\ Creating objects...\n",
      "├── 🔨 Created mount D:\\Learning Square\\LLMs\\Untitled Folder\\pricer_service2.py\n",
      "└── 🔨 Created function Pricer.download_model_to_folder.\n",
      "/ Creating objects...\n",
      "├── 🔨 Created mount D:\\Learning Square\\LLMs\\Untitled Folder\\pricer_service2.py\n",
      "└── 🔨 Created function Pricer.download_model_to_folder.\n",
      "\\ Creating objects...\n",
      "├── 🔨 Created mount D:\\Learning Square\\LLMs\\Untitled Folder\\pricer_service2.py\n",
      "└── 🔨 Created function Pricer.download_model_to_folder.\n",
      "/ Creating objects...\n",
      "├── 🔨 Created mount D:\\Learning Square\\LLMs\\Untitled Folder\\pricer_service2.py\n",
      "└── 🔨 Created function Pricer.download_model_to_folder.\n",
      "\n",
      "\\ Creating objects...\n",
      "├── 🔨 Created mount D:\\Learning Square\\LLMs\\Untitled Folder\\pricer_service2.py\n",
      "└── 🔨 Created function Pricer.download_model_to_folder.\n",
      "\u001b[1AFetching 17 files:  71%|███████   | 12/17 [02:46<01:18, 15.74s/it]Fetching 17 files: 100%|██████████| 17/17 [02:46<00:00,  9.81s/it]\n",
      "\\ Creating objects...\n",
      "├── 🔨 Created mount D:\\Learning Square\\LLMs\\Untitled Folder\\pricer_service2.py\n",
      "└── 🔨 Created function Pricer.download_model_to_folder.\n",
      "\\ Creating objects...\n",
      "├── 🔨 Created mount D:\\Learning Square\\LLMs\\Untitled Folder\\pricer_service2.py\n",
      "└── 🔨 Created function Pricer.download_model_to_folder.\n",
      "\n",
      "\\ Creating objects...\n",
      "├── 🔨 Created mount D:\\Learning Square\\LLMs\\Untitled Folder\\pricer_service2.py\n",
      "└── 🔨 Created function Pricer.download_model_to_folder.\n",
      "\u001b[1AFetching 7 files:   0%|          | 0/7 [00:00<?, ?it/s]\n",
      "/ Creating objects...\n",
      "├── 🔨 Created mount D:\\Learning Square\\LLMs\\Untitled Folder\\pricer_service2.py\n",
      "└── 🔨 Created function Pricer.download_model_to_folder.\n",
      "/ Creating objects...\n",
      "├── 🔨 Created mount D:\\Learning Square\\LLMs\\Untitled Folder\\pricer_service2.py\n",
      "└── 🔨 Created function Pricer.download_model_to_folder.\n",
      "\u001b[1AFetching 7 files:  14%|█▍        | 1/7 [00:00<00:00,  6.62it/s]\n",
      "- Creating objects...\n",
      "├── 🔨 Created mount D:\\Learning Square\\LLMs\\Untitled Folder\\pricer_service2.py\n",
      "└── 🔨 Created function Pricer.download_model_to_folder.\n",
      "\\ Creating objects...\n",
      "├── 🔨 Created mount D:\\Learning Square\\LLMs\\Untitled Folder\\pricer_service2.py\n",
      "└── 🔨 Created function Pricer.download_model_to_folder.\n",
      "/ Creating objects...\n",
      "├── 🔨 Created mount D:\\Learning Square\\LLMs\\Untitled Folder\\pricer_service2.py\n",
      "└── 🔨 Created function Pricer.download_model_to_folder.\n",
      "\u001b[1AFetching 7 files:  29%|██▊       | 2/7 [00:00<00:00,  7.34it/s]\n",
      "- Creating objects...\n",
      "├── 🔨 Created mount D:\\Learning Square\\LLMs\\Untitled Folder\\pricer_service2.py\n",
      "└── 🔨 Created function Pricer.download_model_to_folder.\n",
      "\u001b[1AFetching 7 files:  43%|████▎     | 3/7 [00:00<00:01,  2.99it/s]Fetching 7 files: 100%|██████████| 7/7 [00:00<00:00,  8.26it/s]\n",
      "- Creating objects...\n",
      "├── 🔨 Created mount D:\\Learning Square\\LLMs\\Untitled Folder\\pricer_service2.py\n",
      "└── 🔨 Created function Pricer.download_model_to_folder.\n",
      "\\ Creating objects...\n",
      "├── 🔨 Created mount D:\\Learning Square\\LLMs\\Untitled Folder\\pricer_service2.py\n",
      "└── 🔨 Created function Pricer.download_model_to_folder.\n",
      "/ Creating objects...\n",
      "├── 🔨 Created mount D:\\Learning Square\\LLMs\\Untitled Folder\\pricer_service2.py\n",
      "└── 🔨 Created function Pricer.download_model_to_folder.\n",
      "\\ Creating objects...\n",
      "├── 🔨 Created mount D:\\Learning Square\\LLMs\\Untitled Folder\\pricer_service2.py\n",
      "└── 🔨 Created function Pricer.download_model_to_folder.\n",
      "Saving image...\n",
      "| Creating objects...\n",
      "├── 🔨 Created mount D:\\Learning Square\\LLMs\\Untitled Folder\\pricer_service2.py\n",
      "└── 🔨 Created function Pricer.download_model_to_folder.\n",
      "/ Creating objects...\n",
      "├── 🔨 Created mount D:\\Learning Square\\LLMs\\Untitled Folder\\pricer_service2.py\n",
      "└── 🔨 Created function Pricer.download_model_to_folder.\n",
      "\\ Creating objects...\n",
      "├── 🔨 Created mount D:\\Learning Square\\LLMs\\Untitled Folder\\pricer_service2.py\n",
      "└── 🔨 Created function Pricer.download_model_to_folder.\n",
      "- Creating objects...\n",
      "├── 🔨 Created mount D:\\Learning Square\\LLMs\\Untitled Folder\\pricer_service2.py\n",
      "└── 🔨 Created function Pricer.download_model_to_folder.\n",
      "| Creating objects...\n",
      "├── 🔨 Created mount D:\\Learning Square\\LLMs\\Untitled Folder\\pricer_service2.py\n",
      "└── 🔨 Created function Pricer.download_model_to_folder.\n",
      "/ Creating objects...\n",
      "├── 🔨 Created mount D:\\Learning Square\\LLMs\\Untitled Folder\\pricer_service2.py\n",
      "└── 🔨 Created function Pricer.download_model_to_folder.\n",
      "| Creating objects...\n",
      "├── 🔨 Created mount D:\\Learning Square\\LLMs\\Untitled Folder\\pricer_service2.py\n",
      "└── 🔨 Created function Pricer.download_model_to_folder.\n",
      "- Creating objects...\n",
      "├── 🔨 Created mount D:\\Learning Square\\LLMs\\Untitled Folder\\pricer_service2.py\n",
      "└── 🔨 Created function Pricer.download_model_to_folder.\n",
      "| Creating objects...\n",
      "├── 🔨 Created mount D:\\Learning Square\\LLMs\\Untitled Folder\\pricer_service2.py\n",
      "└── 🔨 Created function Pricer.download_model_to_folder.\n",
      "- Creating objects...\n",
      "├── 🔨 Created mount D:\\Learning Square\\LLMs\\Untitled Folder\\pricer_service2.py\n",
      "└── 🔨 Created function Pricer.download_model_to_folder.\n",
      "| Creating objects...\n",
      "├── 🔨 Created mount D:\\Learning Square\\LLMs\\Untitled Folder\\pricer_service2.py\n",
      "└── 🔨 Created function Pricer.download_model_to_folder.\n",
      "- Creating objects...\n",
      "├── 🔨 Created mount D:\\Learning Square\\LLMs\\Untitled Folder\\pricer_service2.py\n",
      "└── 🔨 Created function Pricer.download_model_to_folder.\n",
      "| Creating objects...\n",
      "├── 🔨 Created mount D:\\Learning Square\\LLMs\\Untitled Folder\\pricer_service2.py\n",
      "└── 🔨 Created function Pricer.download_model_to_folder.\n",
      "- Creating objects...\n",
      "├── 🔨 Created mount D:\\Learning Square\\LLMs\\Untitled Folder\\pricer_service2.py\n",
      "└── 🔨 Created function Pricer.download_model_to_folder.\n",
      "| Creating objects...\n",
      "├── 🔨 Created mount D:\\Learning Square\\LLMs\\Untitled Folder\\pricer_service2.py\n",
      "└── 🔨 Created function Pricer.download_model_to_folder.\n",
      "- Creating objects...\n",
      "├── 🔨 Created mount D:\\Learning Square\\LLMs\\Untitled Folder\\pricer_service2.py\n",
      "└── 🔨 Created function Pricer.download_model_to_folder.\n",
      "| Creating objects...\n",
      "├── 🔨 Created mount D:\\Learning Square\\LLMs\\Untitled Folder\\pricer_service2.py\n",
      "└── 🔨 Created function Pricer.download_model_to_folder.\n",
      "- Creating objects...\n",
      "├── 🔨 Created mount D:\\Learning Square\\LLMs\\Untitled Folder\\pricer_service2.py\n",
      "└── 🔨 Created function Pricer.download_model_to_folder.\n",
      "| Creating objects...\n",
      "├── 🔨 Created mount D:\\Learning Square\\LLMs\\Untitled Folder\\pricer_service2.py\n",
      "└── 🔨 Created function Pricer.download_model_to_folder.\n",
      "- Creating objects...\n",
      "├── 🔨 Created mount D:\\Learning Square\\LLMs\\Untitled Folder\\pricer_service2.py\n",
      "└── 🔨 Created function Pricer.download_model_to_folder.\n",
      "| Creating objects...\n",
      "├── 🔨 Created mount D:\\Learning Square\\LLMs\\Untitled Folder\\pricer_service2.py\n",
      "└── 🔨 Created function Pricer.download_model_to_folder.\n",
      "- Creating objects...\n",
      "├── 🔨 Created mount D:\\Learning Square\\LLMs\\Untitled Folder\\pricer_service2.py\n",
      "└── 🔨 Created function Pricer.download_model_to_folder.\n",
      "| Creating objects...\n",
      "├── 🔨 Created mount D:\\Learning Square\\LLMs\\Untitled Folder\\pricer_service2.py\n",
      "└── 🔨 Created function Pricer.download_model_to_folder.\n",
      "- Creating objects...\n",
      "├── 🔨 Created mount D:\\Learning Square\\LLMs\\Untitled Folder\\pricer_service2.py\n",
      "└── 🔨 Created function Pricer.download_model_to_folder.\n",
      "| Creating objects...\n",
      "├── 🔨 Created mount D:\\Learning Square\\LLMs\\Untitled Folder\\pricer_service2.py\n",
      "└── 🔨 Created function Pricer.download_model_to_folder.\n",
      "- Creating objects...\n",
      "├── 🔨 Created mount D:\\Learning Square\\LLMs\\Untitled Folder\\pricer_service2.py\n",
      "└── 🔨 Created function Pricer.download_model_to_folder.\n",
      "| Creating objects...\n",
      "├── 🔨 Created mount D:\\Learning Square\\LLMs\\Untitled Folder\\pricer_service2.py\n",
      "└── 🔨 Created function Pricer.download_model_to_folder.\n",
      "- Creating objects...\n",
      "├── 🔨 Created mount D:\\Learning Square\\LLMs\\Untitled Folder\\pricer_service2.py\n",
      "└── 🔨 Created function Pricer.download_model_to_folder.\n",
      "| Creating objects...\n",
      "├── 🔨 Created mount D:\\Learning Square\\LLMs\\Untitled Folder\\pricer_service2.py\n",
      "└── 🔨 Created function Pricer.download_model_to_folder.\n",
      "- Creating objects...\n",
      "├── 🔨 Created mount D:\\Learning Square\\LLMs\\Untitled Folder\\pricer_service2.py\n",
      "└── 🔨 Created function Pricer.download_model_to_folder.\n",
      "| Creating objects...\n",
      "├── 🔨 Created mount D:\\Learning Square\\LLMs\\Untitled Folder\\pricer_service2.py\n",
      "└── 🔨 Created function Pricer.download_model_to_folder.\n",
      "- Creating objects...\n",
      "├── 🔨 Created mount D:\\Learning Square\\LLMs\\Untitled Folder\\pricer_service2.py\n",
      "└── 🔨 Created function Pricer.download_model_to_folder.\n",
      "/ Creating objects...\n",
      "├── 🔨 Created mount D:\\Learning Square\\LLMs\\Untitled Folder\\pricer_service2.py\n",
      "└── 🔨 Created function Pricer.download_model_to_folder.\n",
      "\\ Creating objects...\n",
      "├── 🔨 Created mount D:\\Learning Square\\LLMs\\Untitled Folder\\pricer_service2.py\n",
      "└── 🔨 Created function Pricer.download_model_to_folder.\n",
      "/ Creating objects...\n",
      "├── 🔨 Created mount D:\\Learning Square\\LLMs\\Untitled Folder\\pricer_service2.py\n",
      "└── 🔨 Created function Pricer.download_model_to_folder.\n",
      "\\ Creating objects...\n",
      "├── 🔨 Created mount D:\\Learning Square\\LLMs\\Untitled Folder\\pricer_service2.py\n",
      "└── 🔨 Created function Pricer.download_model_to_folder.\n",
      "/ Creating objects...\n",
      "├── 🔨 Created mount D:\\Learning Square\\LLMs\\Untitled Folder\\pricer_service2.py\n",
      "└── 🔨 Created function Pricer.download_model_to_folder.\n",
      "\\ Creating objects...\n",
      "├── 🔨 Created mount D:\\Learning Square\\LLMs\\Untitled Folder\\pricer_service2.py\n",
      "└── 🔨 Created function Pricer.download_model_to_folder.\n",
      "/ Creating objects...\n",
      "├── 🔨 Created mount D:\\Learning Square\\LLMs\\Untitled Folder\\pricer_service2.py\n",
      "└── 🔨 Created function Pricer.download_model_to_folder.\n",
      "\\ Creating objects...\n",
      "├── 🔨 Created mount D:\\Learning Square\\LLMs\\Untitled Folder\\pricer_service2.py\n",
      "└── 🔨 Created function Pricer.download_model_to_folder.\n",
      "/ Creating objects...\n",
      "├── 🔨 Created mount D:\\Learning Square\\LLMs\\Untitled Folder\\pricer_service2.py\n",
      "└── 🔨 Created function Pricer.download_model_to_folder.\n",
      "\\ Creating objects...\n",
      "├── 🔨 Created mount D:\\Learning Square\\LLMs\\Untitled Folder\\pricer_service2.py\n",
      "└── 🔨 Created function Pricer.download_model_to_folder.\n",
      "/ Creating objects...\n",
      "├── 🔨 Created mount D:\\Learning Square\\LLMs\\Untitled Folder\\pricer_service2.py\n",
      "└── 🔨 Created function Pricer.download_model_to_folder.\n",
      "\\ Creating objects...\n",
      "├── 🔨 Created mount D:\\Learning Square\\LLMs\\Untitled Folder\\pricer_service2.py\n",
      "└── 🔨 Created function Pricer.download_model_to_folder.\n",
      "/ Creating objects...\n",
      "├── 🔨 Created mount D:\\Learning Square\\LLMs\\Untitled Folder\\pricer_service2.py\n",
      "└── 🔨 Created function Pricer.download_model_to_folder.\n",
      "\\ Creating objects...\n",
      "├── 🔨 Created mount D:\\Learning Square\\LLMs\\Untitled Folder\\pricer_service2.py\n",
      "└── 🔨 Created function Pricer.download_model_to_folder.\n",
      "/ Creating objects...\n",
      "├── 🔨 Created mount D:\\Learning Square\\LLMs\\Untitled Folder\\pricer_service2.py\n",
      "└── 🔨 Created function Pricer.download_model_to_folder.\n",
      "\\ Creating objects...\n",
      "├── 🔨 Created mount D:\\Learning Square\\LLMs\\Untitled Folder\\pricer_service2.py\n",
      "└── 🔨 Created function Pricer.download_model_to_folder.\n",
      "/ Creating objects...\n",
      "├── 🔨 Created mount D:\\Learning Square\\LLMs\\Untitled Folder\\pricer_service2.py\n",
      "└── 🔨 Created function Pricer.download_model_to_folder.\n",
      "\\ Creating objects...\n",
      "├── 🔨 Created mount D:\\Learning Square\\LLMs\\Untitled Folder\\pricer_service2.py\n",
      "└── 🔨 Created function Pricer.download_model_to_folder.\n",
      "/ Creating objects...\n",
      "├── 🔨 Created mount D:\\Learning Square\\LLMs\\Untitled Folder\\pricer_service2.py\n",
      "└── 🔨 Created function Pricer.download_model_to_folder.\n",
      "\\ Creating objects...\n",
      "├── 🔨 Created mount D:\\Learning Square\\LLMs\\Untitled Folder\\pricer_service2.py\n",
      "└── 🔨 Created function Pricer.download_model_to_folder.\n",
      "/ Creating objects...\n",
      "├── 🔨 Created mount D:\\Learning Square\\LLMs\\Untitled Folder\\pricer_service2.py\n",
      "└── 🔨 Created function Pricer.download_model_to_folder.\n",
      "\\ Creating objects...\n",
      "├── 🔨 Created mount D:\\Learning Square\\LLMs\\Untitled Folder\\pricer_service2.py\n",
      "└── 🔨 Created function Pricer.download_model_to_folder.\n",
      "/ Creating objects...\n",
      "├── 🔨 Created mount D:\\Learning Square\\LLMs\\Untitled Folder\\pricer_service2.py\n",
      "└── 🔨 Created function Pricer.download_model_to_folder.\n",
      "\\ Creating objects...\n",
      "├── 🔨 Created mount D:\\Learning Square\\LLMs\\Untitled Folder\\pricer_service2.py\n",
      "└── 🔨 Created function Pricer.download_model_to_folder.\n",
      "/ Creating objects...\n",
      "├── 🔨 Created mount D:\\Learning Square\\LLMs\\Untitled Folder\\pricer_service2.py\n",
      "└── 🔨 Created function Pricer.download_model_to_folder.\n",
      "\\ Creating objects...\n",
      "├── 🔨 Created mount D:\\Learning Square\\LLMs\\Untitled Folder\\pricer_service2.py\n",
      "└── 🔨 Created function Pricer.download_model_to_folder.\n",
      "- Creating objects...\n",
      "├── 🔨 Created mount D:\\Learning Square\\LLMs\\Untitled Folder\\pricer_service2.py\n",
      "└── 🔨 Created function Pricer.download_model_to_folder.\n",
      "| Creating objects...\n",
      "├── 🔨 Created mount D:\\Learning Square\\LLMs\\Untitled Folder\\pricer_service2.py\n",
      "└── 🔨 Created function Pricer.download_model_to_folder.\n",
      "- Creating objects...\n",
      "├── 🔨 Created mount D:\\Learning Square\\LLMs\\Untitled Folder\\pricer_service2.py\n",
      "└── 🔨 Created function Pricer.download_model_to_folder.\n",
      "| Creating objects...\n",
      "├── 🔨 Created mount D:\\Learning Square\\LLMs\\Untitled Folder\\pricer_service2.py\n",
      "└── 🔨 Created function Pricer.download_model_to_folder.\n",
      "- Creating objects...\n",
      "├── 🔨 Created mount D:\\Learning Square\\LLMs\\Untitled Folder\\pricer_service2.py\n",
      "└── 🔨 Created function Pricer.download_model_to_folder.\n",
      "| Creating objects...\n",
      "├── 🔨 Created mount D:\\Learning Square\\LLMs\\Untitled Folder\\pricer_service2.py\n",
      "└── 🔨 Created function Pricer.download_model_to_folder.\n",
      "- Creating objects...\n",
      "├── 🔨 Created mount D:\\Learning Square\\LLMs\\Untitled Folder\\pricer_service2.py\n",
      "└── 🔨 Created function Pricer.download_model_to_folder.\n",
      "| Creating objects...\n",
      "├── 🔨 Created mount D:\\Learning Square\\LLMs\\Untitled Folder\\pricer_service2.py\n",
      "└── 🔨 Created function Pricer.download_model_to_folder.\n",
      "- Creating objects...\n",
      "├── 🔨 Created mount D:\\Learning Square\\LLMs\\Untitled Folder\\pricer_service2.py\n",
      "└── 🔨 Created function Pricer.download_model_to_folder.\n",
      "| Creating objects...\n",
      "├── 🔨 Created mount D:\\Learning Square\\LLMs\\Untitled Folder\\pricer_service2.py\n",
      "└── 🔨 Created function Pricer.download_model_to_folder.\n",
      "- Creating objects...\n",
      "├── 🔨 Created mount D:\\Learning Square\\LLMs\\Untitled Folder\\pricer_service2.py\n",
      "└── 🔨 Created function Pricer.download_model_to_folder.\n",
      "| Creating objects...\n",
      "├── 🔨 Created mount D:\\Learning Square\\LLMs\\Untitled Folder\\pricer_service2.py\n",
      "└── 🔨 Created function Pricer.download_model_to_folder.\n",
      "- Creating objects...\n",
      "├── 🔨 Created mount D:\\Learning Square\\LLMs\\Untitled Folder\\pricer_service2.py\n",
      "└── 🔨 Created function Pricer.download_model_to_folder.\n",
      "| Creating objects...\n",
      "├── 🔨 Created mount D:\\Learning Square\\LLMs\\Untitled Folder\\pricer_service2.py\n",
      "└── 🔨 Created function Pricer.download_model_to_folder.\n",
      "- Creating objects...\n",
      "├── 🔨 Created mount D:\\Learning Square\\LLMs\\Untitled Folder\\pricer_service2.py\n",
      "└── 🔨 Created function Pricer.download_model_to_folder.\n",
      "| Creating objects...\n",
      "├── 🔨 Created mount D:\\Learning Square\\LLMs\\Untitled Folder\\pricer_service2.py\n",
      "└── 🔨 Created function Pricer.download_model_to_folder.\n",
      "- Creating objects...\n",
      "├── 🔨 Created mount D:\\Learning Square\\LLMs\\Untitled Folder\\pricer_service2.py\n",
      "└── 🔨 Created function Pricer.download_model_to_folder.\n",
      "| Creating objects...\n",
      "├── 🔨 Created mount D:\\Learning Square\\LLMs\\Untitled Folder\\pricer_service2.py\n",
      "└── 🔨 Created function Pricer.download_model_to_folder.\n",
      "- Creating objects...\n",
      "├── 🔨 Created mount D:\\Learning Square\\LLMs\\Untitled Folder\\pricer_service2.py\n",
      "└── 🔨 Created function Pricer.download_model_to_folder.\n",
      "| Creating objects...\n",
      "├── 🔨 Created mount D:\\Learning Square\\LLMs\\Untitled Folder\\pricer_service2.py\n",
      "└── 🔨 Created function Pricer.download_model_to_folder.\n",
      "- Creating objects...\n",
      "├── 🔨 Created mount D:\\Learning Square\\LLMs\\Untitled Folder\\pricer_service2.py\n",
      "└── 🔨 Created function Pricer.download_model_to_folder.\n",
      "| Creating objects...\n",
      "├── 🔨 Created mount D:\\Learning Square\\LLMs\\Untitled Folder\\pricer_service2.py\n",
      "└── 🔨 Created function Pricer.download_model_to_folder.\n",
      "- Creating objects...\n",
      "├── 🔨 Created mount D:\\Learning Square\\LLMs\\Untitled Folder\\pricer_service2.py\n",
      "└── 🔨 Created function Pricer.download_model_to_folder.\n",
      "| Creating objects...\n",
      "├── 🔨 Created mount D:\\Learning Square\\LLMs\\Untitled Folder\\pricer_service2.py\n",
      "└── 🔨 Created function Pricer.download_model_to_folder.\n",
      "- Creating objects...\n",
      "├── 🔨 Created mount D:\\Learning Square\\LLMs\\Untitled Folder\\pricer_service2.py\n",
      "└── 🔨 Created function Pricer.download_model_to_folder.\n",
      "| Creating objects...\n",
      "├── 🔨 Created mount D:\\Learning Square\\LLMs\\Untitled Folder\\pricer_service2.py\n",
      "└── 🔨 Created function Pricer.download_model_to_folder.\n",
      "- Creating objects...\n",
      "├── 🔨 Created mount D:\\Learning Square\\LLMs\\Untitled Folder\\pricer_service2.py\n",
      "└── 🔨 Created function Pricer.download_model_to_folder.\n",
      "| Creating objects...\n",
      "├── 🔨 Created mount D:\\Learning Square\\LLMs\\Untitled Folder\\pricer_service2.py\n",
      "└── 🔨 Created function Pricer.download_model_to_folder.\n",
      "- Creating objects...\n",
      "├── 🔨 Created mount D:\\Learning Square\\LLMs\\Untitled Folder\\pricer_service2.py\n",
      "└── 🔨 Created function Pricer.download_model_to_folder.\n",
      "/ Creating objects...\n",
      "├── 🔨 Created mount D:\\Learning Square\\LLMs\\Untitled Folder\\pricer_service2.py\n",
      "└── 🔨 Created function Pricer.download_model_to_folder.\n",
      "\\ Creating objects...\n",
      "├── 🔨 Created mount D:\\Learning Square\\LLMs\\Untitled Folder\\pricer_service2.py\n",
      "└── 🔨 Created function Pricer.download_model_to_folder.\n",
      "/ Creating objects...\n",
      "├── 🔨 Created mount D:\\Learning Square\\LLMs\\Untitled Folder\\pricer_service2.py\n",
      "└── 🔨 Created function Pricer.download_model_to_folder.\n",
      "\\ Creating objects...\n",
      "├── 🔨 Created mount D:\\Learning Square\\LLMs\\Untitled Folder\\pricer_service2.py\n",
      "└── 🔨 Created function Pricer.download_model_to_folder.\n",
      "/ Creating objects...\n",
      "├── 🔨 Created mount D:\\Learning Square\\LLMs\\Untitled Folder\\pricer_service2.py\n",
      "└── 🔨 Created function Pricer.download_model_to_folder.\n",
      "\\ Creating objects...\n",
      "├── 🔨 Created mount D:\\Learning Square\\LLMs\\Untitled Folder\\pricer_service2.py\n",
      "└── 🔨 Created function Pricer.download_model_to_folder.\n",
      "/ Creating objects...\n",
      "├── 🔨 Created mount D:\\Learning Square\\LLMs\\Untitled Folder\\pricer_service2.py\n",
      "└── 🔨 Created function Pricer.download_model_to_folder.\n",
      "\\ Creating objects...\n",
      "├── 🔨 Created mount D:\\Learning Square\\LLMs\\Untitled Folder\\pricer_service2.py\n",
      "└── 🔨 Created function Pricer.download_model_to_folder.\n",
      "/ Creating objects...\n",
      "├── 🔨 Created mount D:\\Learning Square\\LLMs\\Untitled Folder\\pricer_service2.py\n",
      "└── 🔨 Created function Pricer.download_model_to_folder.\n",
      "\\ Creating objects...\n",
      "├── 🔨 Created mount D:\\Learning Square\\LLMs\\Untitled Folder\\pricer_service2.py\n",
      "└── 🔨 Created function Pricer.download_model_to_folder.\n",
      "/ Creating objects...\n",
      "├── 🔨 Created mount D:\\Learning Square\\LLMs\\Untitled Folder\\pricer_service2.py\n",
      "└── 🔨 Created function Pricer.download_model_to_folder.\n",
      "\\ Creating objects...\n",
      "├── 🔨 Created mount D:\\Learning Square\\LLMs\\Untitled Folder\\pricer_service2.py\n",
      "└── 🔨 Created function Pricer.download_model_to_folder.\n",
      "/ Creating objects...\n",
      "├── 🔨 Created mount D:\\Learning Square\\LLMs\\Untitled Folder\\pricer_service2.py\n",
      "└── 🔨 Created function Pricer.download_model_to_folder.\n",
      "\\ Creating objects...\n",
      "├── 🔨 Created mount D:\\Learning Square\\LLMs\\Untitled Folder\\pricer_service2.py\n",
      "└── 🔨 Created function Pricer.download_model_to_folder.\n",
      "/ Creating objects...\n",
      "├── 🔨 Created mount D:\\Learning Square\\LLMs\\Untitled Folder\\pricer_service2.py\n",
      "└── 🔨 Created function Pricer.download_model_to_folder.\n",
      "\\ Creating objects...\n",
      "├── 🔨 Created mount D:\\Learning Square\\LLMs\\Untitled Folder\\pricer_service2.py\n",
      "└── 🔨 Created function Pricer.download_model_to_folder.\n",
      "/ Creating objects...\n",
      "├── 🔨 Created mount D:\\Learning Square\\LLMs\\Untitled Folder\\pricer_service2.py\n",
      "└── 🔨 Created function Pricer.download_model_to_folder.\n",
      "\\ Creating objects...\n",
      "├── 🔨 Created mount D:\\Learning Square\\LLMs\\Untitled Folder\\pricer_service2.py\n",
      "└── 🔨 Created function Pricer.download_model_to_folder.\n",
      "/ Creating objects...\n",
      "├── 🔨 Created mount D:\\Learning Square\\LLMs\\Untitled Folder\\pricer_service2.py\n",
      "└── 🔨 Created function Pricer.download_model_to_folder.\n",
      "\\ Creating objects...\n",
      "├── 🔨 Created mount D:\\Learning Square\\LLMs\\Untitled Folder\\pricer_service2.py\n",
      "└── 🔨 Created function Pricer.download_model_to_folder.\n",
      "/ Creating objects...\n",
      "├── 🔨 Created mount D:\\Learning Square\\LLMs\\Untitled Folder\\pricer_service2.py\n",
      "└── 🔨 Created function Pricer.download_model_to_folder.\n",
      "\\ Creating objects...\n",
      "├── 🔨 Created mount D:\\Learning Square\\LLMs\\Untitled Folder\\pricer_service2.py\n",
      "└── 🔨 Created function Pricer.download_model_to_folder.\n",
      "/ Creating objects...\n",
      "├── 🔨 Created mount D:\\Learning Square\\LLMs\\Untitled Folder\\pricer_service2.py\n",
      "└── 🔨 Created function Pricer.download_model_to_folder.\n",
      "| Creating objects...\n",
      "├── 🔨 Created mount D:\\Learning Square\\LLMs\\Untitled Folder\\pricer_service2.py\n",
      "└── 🔨 Created function Pricer.download_model_to_folder.\n",
      "- Creating objects...\n",
      "├── 🔨 Created mount D:\\Learning Square\\LLMs\\Untitled Folder\\pricer_service2.py\n",
      "└── 🔨 Created function Pricer.download_model_to_folder.\n",
      "| Creating objects...\n",
      "├── 🔨 Created mount D:\\Learning Square\\LLMs\\Untitled Folder\\pricer_service2.py\n",
      "└── 🔨 Created function Pricer.download_model_to_folder.\n",
      "- Creating objects...\n",
      "├── 🔨 Created mount D:\\Learning Square\\LLMs\\Untitled Folder\\pricer_service2.py\n",
      "└── 🔨 Created function Pricer.download_model_to_folder.\n",
      "| Creating objects...\n",
      "├── 🔨 Created mount D:\\Learning Square\\LLMs\\Untitled Folder\\pricer_service2.py\n",
      "└── 🔨 Created function Pricer.download_model_to_folder.\n",
      "- Creating objects...\n",
      "├── 🔨 Created mount D:\\Learning Square\\LLMs\\Untitled Folder\\pricer_service2.py\n",
      "└── 🔨 Created function Pricer.download_model_to_folder.\n",
      "| Creating objects...\n",
      "├── 🔨 Created mount D:\\Learning Square\\LLMs\\Untitled Folder\\pricer_service2.py\n",
      "└── 🔨 Created function Pricer.download_model_to_folder.\n",
      "- Creating objects...\n",
      "├── 🔨 Created mount D:\\Learning Square\\LLMs\\Untitled Folder\\pricer_service2.py\n",
      "└── 🔨 Created function Pricer.download_model_to_folder.\n",
      "| Creating objects...\n",
      "├── 🔨 Created mount D:\\Learning Square\\LLMs\\Untitled Folder\\pricer_service2.py\n",
      "└── 🔨 Created function Pricer.download_model_to_folder.\n",
      "- Creating objects...\n",
      "├── 🔨 Created mount D:\\Learning Square\\LLMs\\Untitled Folder\\pricer_service2.py\n",
      "└── 🔨 Created function Pricer.download_model_to_folder.\n",
      "| Creating objects...\n",
      "├── 🔨 Created mount D:\\Learning Square\\LLMs\\Untitled Folder\\pricer_service2.py\n",
      "└── 🔨 Created function Pricer.download_model_to_folder.\n",
      "- Creating objects...\n",
      "├── 🔨 Created mount D:\\Learning Square\\LLMs\\Untitled Folder\\pricer_service2.py\n",
      "└── 🔨 Created function Pricer.download_model_to_folder.\n",
      "| Creating objects...\n",
      "├── 🔨 Created mount D:\\Learning Square\\LLMs\\Untitled Folder\\pricer_service2.py\n",
      "└── 🔨 Created function Pricer.download_model_to_folder.\n",
      "- Creating objects...\n",
      "├── 🔨 Created mount D:\\Learning Square\\LLMs\\Untitled Folder\\pricer_service2.py\n",
      "└── 🔨 Created function Pricer.download_model_to_folder.\n",
      "| Creating objects...\n",
      "├── 🔨 Created mount D:\\Learning Square\\LLMs\\Untitled Folder\\pricer_service2.py\n",
      "└── 🔨 Created function Pricer.download_model_to_folder.\n",
      "- Creating objects...\n",
      "├── 🔨 Created mount D:\\Learning Square\\LLMs\\Untitled Folder\\pricer_service2.py\n",
      "└── 🔨 Created function Pricer.download_model_to_folder.\n",
      "| Creating objects...\n",
      "├── 🔨 Created mount D:\\Learning Square\\LLMs\\Untitled Folder\\pricer_service2.py\n",
      "└── 🔨 Created function Pricer.download_model_to_folder.\n",
      "- Creating objects...\n",
      "├── 🔨 Created mount D:\\Learning Square\\LLMs\\Untitled Folder\\pricer_service2.py\n",
      "└── 🔨 Created function Pricer.download_model_to_folder.\n",
      "| Creating objects...\n",
      "├── 🔨 Created mount D:\\Learning Square\\LLMs\\Untitled Folder\\pricer_service2.py\n",
      "└── 🔨 Created function Pricer.download_model_to_folder.\n",
      "- Creating objects...\n",
      "├── 🔨 Created mount D:\\Learning Square\\LLMs\\Untitled Folder\\pricer_service2.py\n",
      "└── 🔨 Created function Pricer.download_model_to_folder.\n",
      "| Creating objects...\n",
      "├── 🔨 Created mount D:\\Learning Square\\LLMs\\Untitled Folder\\pricer_service2.py\n",
      "└── 🔨 Created function Pricer.download_model_to_folder.\n",
      "- Creating objects...\n",
      "├── 🔨 Created mount D:\\Learning Square\\LLMs\\Untitled Folder\\pricer_service2.py\n",
      "└── 🔨 Created function Pricer.download_model_to_folder.\n",
      "| Creating objects...\n",
      "├── 🔨 Created mount D:\\Learning Square\\LLMs\\Untitled Folder\\pricer_service2.py\n",
      "└── 🔨 Created function Pricer.download_model_to_folder.\n",
      "- Creating objects...\n",
      "├── 🔨 Created mount D:\\Learning Square\\LLMs\\Untitled Folder\\pricer_service2.py\n",
      "└── 🔨 Created function Pricer.download_model_to_folder.\n",
      "| Creating objects...\n",
      "├── 🔨 Created mount D:\\Learning Square\\LLMs\\Untitled Folder\\pricer_service2.py\n",
      "└── 🔨 Created function Pricer.download_model_to_folder.\n",
      "- Creating objects...\n",
      "├── 🔨 Created mount D:\\Learning Square\\LLMs\\Untitled Folder\\pricer_service2.py\n",
      "└── 🔨 Created function Pricer.download_model_to_folder.\n",
      "| Creating objects...\n",
      "├── 🔨 Created mount D:\\Learning Square\\LLMs\\Untitled Folder\\pricer_service2.py\n",
      "└── 🔨 Created function Pricer.download_model_to_folder.\n",
      "- Creating objects...\n",
      "├── 🔨 Created mount D:\\Learning Square\\LLMs\\Untitled Folder\\pricer_service2.py\n",
      "└── 🔨 Created function Pricer.download_model_to_folder.\n",
      "| Creating objects...\n",
      "├── 🔨 Created mount D:\\Learning Square\\LLMs\\Untitled Folder\\pricer_service2.py\n",
      "└── 🔨 Created function Pricer.download_model_to_folder.\n",
      "- Creating objects...\n",
      "├── 🔨 Created mount D:\\Learning Square\\LLMs\\Untitled Folder\\pricer_service2.py\n",
      "└── 🔨 Created function Pricer.download_model_to_folder.\n",
      "| Creating objects...\n",
      "├── 🔨 Created mount D:\\Learning Square\\LLMs\\Untitled Folder\\pricer_service2.py\n",
      "└── 🔨 Created function Pricer.download_model_to_folder.\n",
      "- Creating objects...\n",
      "├── 🔨 Created mount D:\\Learning Square\\LLMs\\Untitled Folder\\pricer_service2.py\n",
      "└── 🔨 Created function Pricer.download_model_to_folder.\n",
      "| Creating objects...\n",
      "├── 🔨 Created mount D:\\Learning Square\\LLMs\\Untitled Folder\\pricer_service2.py\n",
      "└── 🔨 Created function Pricer.download_model_to_folder.\n",
      "- Creating objects...\n",
      "├── 🔨 Created mount D:\\Learning Square\\LLMs\\Untitled Folder\\pricer_service2.py\n",
      "└── 🔨 Created function Pricer.download_model_to_folder.\n",
      "| Creating objects...\n",
      "├── 🔨 Created mount D:\\Learning Square\\LLMs\\Untitled Folder\\pricer_service2.py\n",
      "└── 🔨 Created function Pricer.download_model_to_folder.\n",
      "- Creating objects...\n",
      "├── 🔨 Created mount D:\\Learning Square\\LLMs\\Untitled Folder\\pricer_service2.py\n",
      "└── 🔨 Created function Pricer.download_model_to_folder.\n",
      "| Creating objects...\n",
      "├── 🔨 Created mount D:\\Learning Square\\LLMs\\Untitled Folder\\pricer_service2.py\n",
      "└── 🔨 Created function Pricer.download_model_to_folder.\n",
      "- Creating objects...\n",
      "├── 🔨 Created mount D:\\Learning Square\\LLMs\\Untitled Folder\\pricer_service2.py\n",
      "└── 🔨 Created function Pricer.download_model_to_folder.\n",
      "| Creating objects...\n",
      "├── 🔨 Created mount D:\\Learning Square\\LLMs\\Untitled Folder\\pricer_service2.py\n",
      "└── 🔨 Created function Pricer.download_model_to_folder.\n",
      "\\ Creating objects...\n",
      "├── 🔨 Created mount D:\\Learning Square\\LLMs\\Untitled Folder\\pricer_service2.py\n",
      "└── 🔨 Created function Pricer.download_model_to_folder.\n",
      "/ Creating objects...\n",
      "├── 🔨 Created mount D:\\Learning Square\\LLMs\\Untitled Folder\\pricer_service2.py\n",
      "└── 🔨 Created function Pricer.download_model_to_folder.\n",
      "\\ Creating objects...\n",
      "├── 🔨 Created mount D:\\Learning Square\\LLMs\\Untitled Folder\\pricer_service2.py\n",
      "└── 🔨 Created function Pricer.download_model_to_folder.\n",
      "/ Creating objects...\n",
      "├── 🔨 Created mount D:\\Learning Square\\LLMs\\Untitled Folder\\pricer_service2.py\n",
      "└── 🔨 Created function Pricer.download_model_to_folder.\n",
      "\\ Creating objects...\n",
      "├── 🔨 Created mount D:\\Learning Square\\LLMs\\Untitled Folder\\pricer_service2.py\n",
      "└── 🔨 Created function Pricer.download_model_to_folder.\n",
      "/ Creating objects...\n",
      "├── 🔨 Created mount D:\\Learning Square\\LLMs\\Untitled Folder\\pricer_service2.py\n",
      "└── 🔨 Created function Pricer.download_model_to_folder.\n",
      "\\ Creating objects...\n",
      "├── 🔨 Created mount D:\\Learning Square\\LLMs\\Untitled Folder\\pricer_service2.py\n",
      "└── 🔨 Created function Pricer.download_model_to_folder.\n",
      "/ Creating objects...\n",
      "├── 🔨 Created mount D:\\Learning Square\\LLMs\\Untitled Folder\\pricer_service2.py\n",
      "└── 🔨 Created function Pricer.download_model_to_folder.\n",
      "\\ Creating objects...\n",
      "├── 🔨 Created mount D:\\Learning Square\\LLMs\\Untitled Folder\\pricer_service2.py\n",
      "└── 🔨 Created function Pricer.download_model_to_folder.\n",
      "/ Creating objects...\n",
      "├── 🔨 Created mount D:\\Learning Square\\LLMs\\Untitled Folder\\pricer_service2.py\n",
      "└── 🔨 Created function Pricer.download_model_to_folder.\n",
      "\\ Creating objects...\n",
      "├── 🔨 Created mount D:\\Learning Square\\LLMs\\Untitled Folder\\pricer_service2.py\n",
      "└── 🔨 Created function Pricer.download_model_to_folder.\n",
      "/ Creating objects...\n",
      "├── 🔨 Created mount D:\\Learning Square\\LLMs\\Untitled Folder\\pricer_service2.py\n",
      "└── 🔨 Created function Pricer.download_model_to_folder.\n",
      "\\ Creating objects...\n",
      "├── 🔨 Created mount D:\\Learning Square\\LLMs\\Untitled Folder\\pricer_service2.py\n",
      "└── 🔨 Created function Pricer.download_model_to_folder.\n",
      "/ Creating objects...\n",
      "├── 🔨 Created mount D:\\Learning Square\\LLMs\\Untitled Folder\\pricer_service2.py\n",
      "└── 🔨 Created function Pricer.download_model_to_folder.\n",
      "\\ Creating objects...\n",
      "├── 🔨 Created mount D:\\Learning Square\\LLMs\\Untitled Folder\\pricer_service2.py\n",
      "└── 🔨 Created function Pricer.download_model_to_folder.\n",
      "/ Creating objects...\n",
      "├── 🔨 Created mount D:\\Learning Square\\LLMs\\Untitled Folder\\pricer_service2.py\n",
      "└── 🔨 Created function Pricer.download_model_to_folder.\n",
      "\\ Creating objects...\n",
      "├── 🔨 Created mount D:\\Learning Square\\LLMs\\Untitled Folder\\pricer_service2.py\n",
      "└── 🔨 Created function Pricer.download_model_to_folder.\n",
      "/ Creating objects...\n",
      "├── 🔨 Created mount D:\\Learning Square\\LLMs\\Untitled Folder\\pricer_service2.py\n",
      "└── 🔨 Created function Pricer.download_model_to_folder.\n",
      "\\ Creating objects...\n",
      "├── 🔨 Created mount D:\\Learning Square\\LLMs\\Untitled Folder\\pricer_service2.py\n",
      "└── 🔨 Created function Pricer.download_model_to_folder.\n",
      "/ Creating objects...\n",
      "├── 🔨 Created mount D:\\Learning Square\\LLMs\\Untitled Folder\\pricer_service2.py\n",
      "└── 🔨 Created function Pricer.download_model_to_folder.\n",
      "\\ Creating objects...\n",
      "├── 🔨 Created mount D:\\Learning Square\\LLMs\\Untitled Folder\\pricer_service2.py\n",
      "└── 🔨 Created function Pricer.download_model_to_folder.\n",
      "/ Creating objects...\n",
      "├── 🔨 Created mount D:\\Learning Square\\LLMs\\Untitled Folder\\pricer_service2.py\n",
      "└── 🔨 Created function Pricer.download_model_to_folder.\n",
      "\\ Creating objects...\n",
      "├── 🔨 Created mount D:\\Learning Square\\LLMs\\Untitled Folder\\pricer_service2.py\n",
      "└── 🔨 Created function Pricer.download_model_to_folder.\n",
      "/ Creating objects...\n",
      "├── 🔨 Created mount D:\\Learning Square\\LLMs\\Untitled Folder\\pricer_service2.py\n",
      "└── 🔨 Created function Pricer.download_model_to_folder.\n",
      "\\ Creating objects...\n",
      "├── 🔨 Created mount D:\\Learning Square\\LLMs\\Untitled Folder\\pricer_service2.py\n",
      "└── 🔨 Created function Pricer.download_model_to_folder.\n",
      "/ Creating objects...\n",
      "├── 🔨 Created mount D:\\Learning Square\\LLMs\\Untitled Folder\\pricer_service2.py\n",
      "└── 🔨 Created function Pricer.download_model_to_folder.\n",
      "\\ Creating objects...\n",
      "├── 🔨 Created mount D:\\Learning Square\\LLMs\\Untitled Folder\\pricer_service2.py\n",
      "└── 🔨 Created function Pricer.download_model_to_folder.\n",
      "/ Creating objects...\n",
      "├── 🔨 Created mount D:\\Learning Square\\LLMs\\Untitled Folder\\pricer_service2.py\n",
      "└── 🔨 Created function Pricer.download_model_to_folder.\n",
      "\\ Creating objects...\n",
      "├── 🔨 Created mount D:\\Learning Square\\LLMs\\Untitled Folder\\pricer_service2.py\n",
      "└── 🔨 Created function Pricer.download_model_to_folder.\n",
      "/ Creating objects...\n",
      "├── 🔨 Created mount D:\\Learning Square\\LLMs\\Untitled Folder\\pricer_service2.py\n",
      "└── 🔨 Created function Pricer.download_model_to_folder.\n",
      "\\ Creating objects...\n",
      "├── 🔨 Created mount D:\\Learning Square\\LLMs\\Untitled Folder\\pricer_service2.py\n",
      "└── 🔨 Created function Pricer.download_model_to_folder.\n",
      "/ Creating objects...\n",
      "├── 🔨 Created mount D:\\Learning Square\\LLMs\\Untitled Folder\\pricer_service2.py\n",
      "└── 🔨 Created function Pricer.download_model_to_folder.\n",
      "\\ Creating objects...\n",
      "├── 🔨 Created mount D:\\Learning Square\\LLMs\\Untitled Folder\\pricer_service2.py\n",
      "└── 🔨 Created function Pricer.download_model_to_folder.\n",
      "/ Creating objects...\n",
      "├── 🔨 Created mount D:\\Learning Square\\LLMs\\Untitled Folder\\pricer_service2.py\n",
      "└── 🔨 Created function Pricer.download_model_to_folder.\n",
      "\\ Creating objects...\n",
      "├── 🔨 Created mount D:\\Learning Square\\LLMs\\Untitled Folder\\pricer_service2.py\n",
      "└── 🔨 Created function Pricer.download_model_to_folder.\n",
      "/ Creating objects...\n",
      "├── 🔨 Created mount D:\\Learning Square\\LLMs\\Untitled Folder\\pricer_service2.py\n",
      "└── 🔨 Created function Pricer.download_model_to_folder.\n",
      "| Creating objects...\n",
      "├── 🔨 Created mount D:\\Learning Square\\LLMs\\Untitled Folder\\pricer_service2.py\n",
      "└── 🔨 Created function Pricer.download_model_to_folder.\n",
      "- Creating objects...\n",
      "├── 🔨 Created mount D:\\Learning Square\\LLMs\\Untitled Folder\\pricer_service2.py\n",
      "└── 🔨 Created function Pricer.download_model_to_folder.\n",
      "| Creating objects...\n",
      "├── 🔨 Created mount D:\\Learning Square\\LLMs\\Untitled Folder\\pricer_service2.py\n",
      "└── 🔨 Created function Pricer.download_model_to_folder.\n",
      "- Creating objects...\n",
      "├── 🔨 Created mount D:\\Learning Square\\LLMs\\Untitled Folder\\pricer_service2.py\n",
      "└── 🔨 Created function Pricer.download_model_to_folder.\n",
      "| Creating objects...\n",
      "├── 🔨 Created mount D:\\Learning Square\\LLMs\\Untitled Folder\\pricer_service2.py\n",
      "└── 🔨 Created function Pricer.download_model_to_folder.\n",
      "- Creating objects...\n",
      "├── 🔨 Created mount D:\\Learning Square\\LLMs\\Untitled Folder\\pricer_service2.py\n",
      "└── 🔨 Created function Pricer.download_model_to_folder.\n",
      "| Creating objects...\n",
      "├── 🔨 Created mount D:\\Learning Square\\LLMs\\Untitled Folder\\pricer_service2.py\n",
      "└── 🔨 Created function Pricer.download_model_to_folder.\n",
      "- Creating objects...\n",
      "├── 🔨 Created mount D:\\Learning Square\\LLMs\\Untitled Folder\\pricer_service2.py\n",
      "└── 🔨 Created function Pricer.download_model_to_folder.\n",
      "| Creating objects...\n",
      "├── 🔨 Created mount D:\\Learning Square\\LLMs\\Untitled Folder\\pricer_service2.py\n",
      "└── 🔨 Created function Pricer.download_model_to_folder.\n",
      "- Creating objects...\n",
      "├── 🔨 Created mount D:\\Learning Square\\LLMs\\Untitled Folder\\pricer_service2.py\n",
      "└── 🔨 Created function Pricer.download_model_to_folder.\n",
      "| Creating objects...\n",
      "├── 🔨 Created mount D:\\Learning Square\\LLMs\\Untitled Folder\\pricer_service2.py\n",
      "└── 🔨 Created function Pricer.download_model_to_folder.\n",
      "- Creating objects...\n",
      "├── 🔨 Created mount D:\\Learning Square\\LLMs\\Untitled Folder\\pricer_service2.py\n",
      "└── 🔨 Created function Pricer.download_model_to_folder.\n",
      "| Creating objects...\n",
      "├── 🔨 Created mount D:\\Learning Square\\LLMs\\Untitled Folder\\pricer_service2.py\n",
      "└── 🔨 Created function Pricer.download_model_to_folder.\n",
      "- Creating objects...\n",
      "├── 🔨 Created mount D:\\Learning Square\\LLMs\\Untitled Folder\\pricer_service2.py\n",
      "└── 🔨 Created function Pricer.download_model_to_folder.\n",
      "| Creating objects...\n",
      "├── 🔨 Created mount D:\\Learning Square\\LLMs\\Untitled Folder\\pricer_service2.py\n",
      "└── 🔨 Created function Pricer.download_model_to_folder.\n",
      "- Creating objects...\n",
      "├── 🔨 Created mount D:\\Learning Square\\LLMs\\Untitled Folder\\pricer_service2.py\n",
      "└── 🔨 Created function Pricer.download_model_to_folder.\n",
      "| Creating objects...\n",
      "├── 🔨 Created mount D:\\Learning Square\\LLMs\\Untitled Folder\\pricer_service2.py\n",
      "└── 🔨 Created function Pricer.download_model_to_folder.\n",
      "- Creating objects...\n",
      "├── 🔨 Created mount D:\\Learning Square\\LLMs\\Untitled Folder\\pricer_service2.py\n",
      "└── 🔨 Created function Pricer.download_model_to_folder.\n",
      "| Creating objects...\n",
      "├── 🔨 Created mount D:\\Learning Square\\LLMs\\Untitled Folder\\pricer_service2.py\n",
      "└── 🔨 Created function Pricer.download_model_to_folder.\n",
      "- Creating objects...\n",
      "├── 🔨 Created mount D:\\Learning Square\\LLMs\\Untitled Folder\\pricer_service2.py\n",
      "└── 🔨 Created function Pricer.download_model_to_folder.\n",
      "| Creating objects...\n",
      "├── 🔨 Created mount D:\\Learning Square\\LLMs\\Untitled Folder\\pricer_service2.py\n",
      "└── 🔨 Created function Pricer.download_model_to_folder.\n",
      "- Creating objects...\n",
      "├── 🔨 Created mount D:\\Learning Square\\LLMs\\Untitled Folder\\pricer_service2.py\n",
      "└── 🔨 Created function Pricer.download_model_to_folder.\n",
      "| Creating objects...\n",
      "├── 🔨 Created mount D:\\Learning Square\\LLMs\\Untitled Folder\\pricer_service2.py\n",
      "└── 🔨 Created function Pricer.download_model_to_folder.\n",
      "- Creating objects...\n",
      "├── 🔨 Created mount D:\\Learning Square\\LLMs\\Untitled Folder\\pricer_service2.py\n",
      "└── 🔨 Created function Pricer.download_model_to_folder.\n",
      "| Creating objects...\n",
      "├── 🔨 Created mount D:\\Learning Square\\LLMs\\Untitled Folder\\pricer_service2.py\n",
      "└── 🔨 Created function Pricer.download_model_to_folder.\n",
      "- Creating objects...\n",
      "├── 🔨 Created mount D:\\Learning Square\\LLMs\\Untitled Folder\\pricer_service2.py\n",
      "└── 🔨 Created function Pricer.download_model_to_folder.\n",
      "| Creating objects...\n",
      "├── 🔨 Created mount D:\\Learning Square\\LLMs\\Untitled Folder\\pricer_service2.py\n",
      "└── 🔨 Created function Pricer.download_model_to_folder.\n",
      "- Creating objects...\n",
      "├── 🔨 Created mount D:\\Learning Square\\LLMs\\Untitled Folder\\pricer_service2.py\n",
      "└── 🔨 Created function Pricer.download_model_to_folder.\n",
      "| Creating objects...\n",
      "├── 🔨 Created mount D:\\Learning Square\\LLMs\\Untitled Folder\\pricer_service2.py\n",
      "└── 🔨 Created function Pricer.download_model_to_folder.\n",
      "- Creating objects...\n",
      "├── 🔨 Created mount D:\\Learning Square\\LLMs\\Untitled Folder\\pricer_service2.py\n",
      "└── 🔨 Created function Pricer.download_model_to_folder.\n",
      "| Creating objects...\n",
      "├── 🔨 Created mount D:\\Learning Square\\LLMs\\Untitled Folder\\pricer_service2.py\n",
      "└── 🔨 Created function Pricer.download_model_to_folder.\n",
      "- Creating objects...\n",
      "├── 🔨 Created mount D:\\Learning Square\\LLMs\\Untitled Folder\\pricer_service2.py\n",
      "└── 🔨 Created function Pricer.download_model_to_folder.\n",
      "| Creating objects...\n",
      "├── 🔨 Created mount D:\\Learning Square\\LLMs\\Untitled Folder\\pricer_service2.py\n",
      "└── 🔨 Created function Pricer.download_model_to_folder.\n",
      "- Creating objects...\n",
      "├── 🔨 Created mount D:\\Learning Square\\LLMs\\Untitled Folder\\pricer_service2.py\n",
      "└── 🔨 Created function Pricer.download_model_to_folder.\n",
      "| Creating objects...\n",
      "├── 🔨 Created mount D:\\Learning Square\\LLMs\\Untitled Folder\\pricer_service2.py\n",
      "└── 🔨 Created function Pricer.download_model_to_folder.\n",
      "- Creating objects...\n",
      "├── 🔨 Created mount D:\\Learning Square\\LLMs\\Untitled Folder\\pricer_service2.py\n",
      "└── 🔨 Created function Pricer.download_model_to_folder.\n",
      "| Creating objects...\n",
      "├── 🔨 Created mount D:\\Learning Square\\LLMs\\Untitled Folder\\pricer_service2.py\n",
      "└── 🔨 Created function Pricer.download_model_to_folder.\n",
      "- Creating objects...\n",
      "├── 🔨 Created mount D:\\Learning Square\\LLMs\\Untitled Folder\\pricer_service2.py\n",
      "└── 🔨 Created function Pricer.download_model_to_folder.\n",
      "| Creating objects...\n",
      "├── 🔨 Created mount D:\\Learning Square\\LLMs\\Untitled Folder\\pricer_service2.py\n",
      "└── 🔨 Created function Pricer.download_model_to_folder.\n",
      "- Creating objects...\n",
      "├── 🔨 Created mount D:\\Learning Square\\LLMs\\Untitled Folder\\pricer_service2.py\n",
      "└── 🔨 Created function Pricer.download_model_to_folder.\n",
      "| Creating objects...\n",
      "├── 🔨 Created mount D:\\Learning Square\\LLMs\\Untitled Folder\\pricer_service2.py\n",
      "└── 🔨 Created function Pricer.download_model_to_folder.\n",
      "\\ Creating objects...\n",
      "├── 🔨 Created mount D:\\Learning Square\\LLMs\\Untitled Folder\\pricer_service2.py\n",
      "└── 🔨 Created function Pricer.download_model_to_folder.\n",
      "/ Creating objects...\n",
      "├── 🔨 Created mount D:\\Learning Square\\LLMs\\Untitled Folder\\pricer_service2.py\n",
      "└── 🔨 Created function Pricer.download_model_to_folder.\n",
      "\\ Creating objects...\n",
      "├── 🔨 Created mount D:\\Learning Square\\LLMs\\Untitled Folder\\pricer_service2.py\n",
      "└── 🔨 Created function Pricer.download_model_to_folder.\n",
      "/ Creating objects...\n",
      "├── 🔨 Created mount D:\\Learning Square\\LLMs\\Untitled Folder\\pricer_service2.py\n",
      "└── 🔨 Created function Pricer.download_model_to_folder.\n",
      "\\ Creating objects...\n",
      "├── 🔨 Created mount D:\\Learning Square\\LLMs\\Untitled Folder\\pricer_service2.py\n",
      "└── 🔨 Created function Pricer.download_model_to_folder.\n",
      "/ Creating objects...\n",
      "├── 🔨 Created mount D:\\Learning Square\\LLMs\\Untitled Folder\\pricer_service2.py\n",
      "└── 🔨 Created function Pricer.download_model_to_folder.\n",
      "\\ Creating objects...\n",
      "├── 🔨 Created mount D:\\Learning Square\\LLMs\\Untitled Folder\\pricer_service2.py\n",
      "└── 🔨 Created function Pricer.download_model_to_folder.\n",
      "/ Creating objects...\n",
      "├── 🔨 Created mount D:\\Learning Square\\LLMs\\Untitled Folder\\pricer_service2.py\n",
      "└── 🔨 Created function Pricer.download_model_to_folder.\n",
      "\\ Creating objects...\n",
      "├── 🔨 Created mount D:\\Learning Square\\LLMs\\Untitled Folder\\pricer_service2.py\n",
      "└── 🔨 Created function Pricer.download_model_to_folder.\n",
      "/ Creating objects...\n",
      "├── 🔨 Created mount D:\\Learning Square\\LLMs\\Untitled Folder\\pricer_service2.py\n",
      "└── 🔨 Created function Pricer.download_model_to_folder.\n",
      "\\ Creating objects...\n",
      "├── 🔨 Created mount D:\\Learning Square\\LLMs\\Untitled Folder\\pricer_service2.py\n",
      "└── 🔨 Created function Pricer.download_model_to_folder.\n",
      "/ Creating objects...\n",
      "├── 🔨 Created mount D:\\Learning Square\\LLMs\\Untitled Folder\\pricer_service2.py\n",
      "└── 🔨 Created function Pricer.download_model_to_folder.\n",
      "\\ Creating objects...\n",
      "├── 🔨 Created mount D:\\Learning Square\\LLMs\\Untitled Folder\\pricer_service2.py\n",
      "└── 🔨 Created function Pricer.download_model_to_folder.\n",
      "/ Creating objects...\n",
      "├── 🔨 Created mount D:\\Learning Square\\LLMs\\Untitled Folder\\pricer_service2.py\n",
      "└── 🔨 Created function Pricer.download_model_to_folder.\n",
      "\\ Creating objects...\n",
      "├── 🔨 Created mount D:\\Learning Square\\LLMs\\Untitled Folder\\pricer_service2.py\n",
      "└── 🔨 Created function Pricer.download_model_to_folder.\n",
      "/ Creating objects...\n",
      "├── 🔨 Created mount D:\\Learning Square\\LLMs\\Untitled Folder\\pricer_service2.py\n",
      "└── 🔨 Created function Pricer.download_model_to_folder.\n",
      "\\ Creating objects...\n",
      "├── 🔨 Created mount D:\\Learning Square\\LLMs\\Untitled Folder\\pricer_service2.py\n",
      "└── 🔨 Created function Pricer.download_model_to_folder.\n",
      "/ Creating objects...\n",
      "├── 🔨 Created mount D:\\Learning Square\\LLMs\\Untitled Folder\\pricer_service2.py\n",
      "└── 🔨 Created function Pricer.download_model_to_folder.\n",
      "\\ Creating objects...\n",
      "├── 🔨 Created mount D:\\Learning Square\\LLMs\\Untitled Folder\\pricer_service2.py\n",
      "└── 🔨 Created function Pricer.download_model_to_folder.\n",
      "/ Creating objects...\n",
      "├── 🔨 Created mount D:\\Learning Square\\LLMs\\Untitled Folder\\pricer_service2.py\n",
      "└── 🔨 Created function Pricer.download_model_to_folder.\n",
      "\\ Creating objects...\n",
      "├── 🔨 Created mount D:\\Learning Square\\LLMs\\Untitled Folder\\pricer_service2.py\n",
      "└── 🔨 Created function Pricer.download_model_to_folder.\n",
      "/ Creating objects...\n",
      "├── 🔨 Created mount D:\\Learning Square\\LLMs\\Untitled Folder\\pricer_service2.py\n",
      "└── 🔨 Created function Pricer.download_model_to_folder.\n",
      "\\ Creating objects...\n",
      "├── 🔨 Created mount D:\\Learning Square\\LLMs\\Untitled Folder\\pricer_service2.py\n",
      "└── 🔨 Created function Pricer.download_model_to_folder.\n",
      "/ Creating objects...\n",
      "├── 🔨 Created mount D:\\Learning Square\\LLMs\\Untitled Folder\\pricer_service2.py\n",
      "└── 🔨 Created function Pricer.download_model_to_folder.\n",
      "\\ Creating objects...\n",
      "├── 🔨 Created mount D:\\Learning Square\\LLMs\\Untitled Folder\\pricer_service2.py\n",
      "└── 🔨 Created function Pricer.download_model_to_folder.\n",
      "/ Creating objects...\n",
      "├── 🔨 Created mount D:\\Learning Square\\LLMs\\Untitled Folder\\pricer_service2.py\n",
      "└── 🔨 Created function Pricer.download_model_to_folder.\n",
      "\\ Creating objects...\n",
      "├── 🔨 Created mount D:\\Learning Square\\LLMs\\Untitled Folder\\pricer_service2.py\n",
      "└── 🔨 Created function Pricer.download_model_to_folder.\n",
      "/ Creating objects...\n",
      "├── 🔨 Created mount D:\\Learning Square\\LLMs\\Untitled Folder\\pricer_service2.py\n",
      "└── 🔨 Created function Pricer.download_model_to_folder.\n",
      "\\ Creating objects...\n",
      "├── 🔨 Created mount D:\\Learning Square\\LLMs\\Untitled Folder\\pricer_service2.py\n",
      "└── 🔨 Created function Pricer.download_model_to_folder.\n",
      "/ Creating objects...\n",
      "├── 🔨 Created mount D:\\Learning Square\\LLMs\\Untitled Folder\\pricer_service2.py\n",
      "└── 🔨 Created function Pricer.download_model_to_folder.\n",
      "| Creating objects...\n",
      "├── 🔨 Created mount D:\\Learning Square\\LLMs\\Untitled Folder\\pricer_service2.py\n",
      "└── 🔨 Created function Pricer.download_model_to_folder.\n",
      "/ Creating objects...\n",
      "├── 🔨 Created mount D:\\Learning Square\\LLMs\\Untitled Folder\\pricer_service2.py\n",
      "└── 🔨 Created function Pricer.download_model_to_folder.\n",
      "| Creating objects...\n",
      "├── 🔨 Created mount D:\\Learning Square\\LLMs\\Untitled Folder\\pricer_service2.py\n",
      "└── 🔨 Created function Pricer.download_model_to_folder.\n",
      "- Creating objects...\n",
      "├── 🔨 Created mount D:\\Learning Square\\LLMs\\Untitled Folder\\pricer_service2.py\n",
      "└── 🔨 Created function Pricer.download_model_to_folder.\n",
      "| Creating objects...\n",
      "├── 🔨 Created mount D:\\Learning Square\\LLMs\\Untitled Folder\\pricer_service2.py\n",
      "└── 🔨 Created function Pricer.download_model_to_folder.\n",
      "- Creating objects...\n",
      "├── 🔨 Created mount D:\\Learning Square\\LLMs\\Untitled Folder\\pricer_service2.py\n",
      "└── 🔨 Created function Pricer.download_model_to_folder.\n",
      "| Creating objects...\n",
      "├── 🔨 Created mount D:\\Learning Square\\LLMs\\Untitled Folder\\pricer_service2.py\n",
      "└── 🔨 Created function Pricer.download_model_to_folder.\n",
      "- Creating objects...\n",
      "├── 🔨 Created mount D:\\Learning Square\\LLMs\\Untitled Folder\\pricer_service2.py\n",
      "└── 🔨 Created function Pricer.download_model_to_folder.\n",
      "| Creating objects...\n",
      "├── 🔨 Created mount D:\\Learning Square\\LLMs\\Untitled Folder\\pricer_service2.py\n",
      "└── 🔨 Created function Pricer.download_model_to_folder.\n",
      "- Creating objects...\n",
      "├── 🔨 Created mount D:\\Learning Square\\LLMs\\Untitled Folder\\pricer_service2.py\n",
      "└── 🔨 Created function Pricer.download_model_to_folder.\n",
      "| Creating objects...\n",
      "├── 🔨 Created mount D:\\Learning Square\\LLMs\\Untitled Folder\\pricer_service2.py\n",
      "└── 🔨 Created function Pricer.download_model_to_folder.\n",
      "- Creating objects...\n",
      "├── 🔨 Created mount D:\\Learning Square\\LLMs\\Untitled Folder\\pricer_service2.py\n",
      "└── 🔨 Created function Pricer.download_model_to_folder.\n",
      "| Creating objects...\n",
      "├── 🔨 Created mount D:\\Learning Square\\LLMs\\Untitled Folder\\pricer_service2.py\n",
      "└── 🔨 Created function Pricer.download_model_to_folder.\n",
      "- Creating objects...\n",
      "├── 🔨 Created mount D:\\Learning Square\\LLMs\\Untitled Folder\\pricer_service2.py\n",
      "└── 🔨 Created function Pricer.download_model_to_folder.\n",
      "| Creating objects...\n",
      "├── 🔨 Created mount D:\\Learning Square\\LLMs\\Untitled Folder\\pricer_service2.py\n",
      "└── 🔨 Created function Pricer.download_model_to_folder.\n",
      "- Creating objects...\n",
      "├── 🔨 Created mount D:\\Learning Square\\LLMs\\Untitled Folder\\pricer_service2.py\n",
      "└── 🔨 Created function Pricer.download_model_to_folder.\n",
      "| Creating objects...\n",
      "├── 🔨 Created mount D:\\Learning Square\\LLMs\\Untitled Folder\\pricer_service2.py\n",
      "└── 🔨 Created function Pricer.download_model_to_folder.\n",
      "- Creating objects...\n",
      "├── 🔨 Created mount D:\\Learning Square\\LLMs\\Untitled Folder\\pricer_service2.py\n",
      "└── 🔨 Created function Pricer.download_model_to_folder.\n",
      "| Creating objects...\n",
      "├── 🔨 Created mount D:\\Learning Square\\LLMs\\Untitled Folder\\pricer_service2.py\n",
      "└── 🔨 Created function Pricer.download_model_to_folder.\n",
      "- Creating objects...\n",
      "├── 🔨 Created mount D:\\Learning Square\\LLMs\\Untitled Folder\\pricer_service2.py\n",
      "└── 🔨 Created function Pricer.download_model_to_folder.\n",
      "| Creating objects...\n",
      "├── 🔨 Created mount D:\\Learning Square\\LLMs\\Untitled Folder\\pricer_service2.py\n",
      "└── 🔨 Created function Pricer.download_model_to_folder.\n",
      "- Creating objects...\n",
      "├── 🔨 Created mount D:\\Learning Square\\LLMs\\Untitled Folder\\pricer_service2.py\n",
      "└── 🔨 Created function Pricer.download_model_to_folder.\n",
      "| Creating objects...\n",
      "├── 🔨 Created mount D:\\Learning Square\\LLMs\\Untitled Folder\\pricer_service2.py\n",
      "└── 🔨 Created function Pricer.download_model_to_folder.\n",
      "- Creating objects...\n",
      "├── 🔨 Created mount D:\\Learning Square\\LLMs\\Untitled Folder\\pricer_service2.py\n",
      "└── 🔨 Created function Pricer.download_model_to_folder.\n",
      "| Creating objects...\n",
      "├── 🔨 Created mount D:\\Learning Square\\LLMs\\Untitled Folder\\pricer_service2.py\n",
      "└── 🔨 Created function Pricer.download_model_to_folder.\n",
      "- Creating objects...\n",
      "├── 🔨 Created mount D:\\Learning Square\\LLMs\\Untitled Folder\\pricer_service2.py\n",
      "└── 🔨 Created function Pricer.download_model_to_folder.\n",
      "| Creating objects...\n",
      "├── 🔨 Created mount D:\\Learning Square\\LLMs\\Untitled Folder\\pricer_service2.py\n",
      "└── 🔨 Created function Pricer.download_model_to_folder.\n",
      "- Creating objects...\n",
      "├── 🔨 Created mount D:\\Learning Square\\LLMs\\Untitled Folder\\pricer_service2.py\n",
      "└── 🔨 Created function Pricer.download_model_to_folder.\n",
      "| Creating objects...\n",
      "├── 🔨 Created mount D:\\Learning Square\\LLMs\\Untitled Folder\\pricer_service2.py\n",
      "└── 🔨 Created function Pricer.download_model_to_folder.\n",
      "- Creating objects...\n",
      "├── 🔨 Created mount D:\\Learning Square\\LLMs\\Untitled Folder\\pricer_service2.py\n",
      "└── 🔨 Created function Pricer.download_model_to_folder.\n",
      "/ Creating objects...\n",
      "├── 🔨 Created mount D:\\Learning Square\\LLMs\\Untitled Folder\\pricer_service2.py\n",
      "└── 🔨 Created function Pricer.download_model_to_folder.\n",
      "\\ Creating objects...\n",
      "├── 🔨 Created mount D:\\Learning Square\\LLMs\\Untitled Folder\\pricer_service2.py\n",
      "└── 🔨 Created function Pricer.download_model_to_folder.\n",
      "| Creating objects...\n",
      "├── 🔨 Created mount D:\\Learning Square\\LLMs\\Untitled Folder\\pricer_service2.py\n",
      "└── 🔨 Created function Pricer.download_model_to_folder.\n",
      "\\ Creating objects...\n",
      "├── 🔨 Created mount D:\\Learning Square\\LLMs\\Untitled Folder\\pricer_service2.py\n",
      "└── 🔨 Created function Pricer.download_model_to_folder.\n",
      "| Creating objects...\n",
      "├── 🔨 Created mount D:\\Learning Square\\LLMs\\Untitled Folder\\pricer_service2.py\n",
      "└── 🔨 Created function Pricer.download_model_to_folder.\n",
      "- Creating objects...\n",
      "├── 🔨 Created mount D:\\Learning Square\\LLMs\\Untitled Folder\\pricer_service2.py\n",
      "└── 🔨 Created function Pricer.download_model_to_folder.\n",
      "| Creating objects...\n",
      "├── 🔨 Created mount D:\\Learning Square\\LLMs\\Untitled Folder\\pricer_service2.py\n",
      "└── 🔨 Created function Pricer.download_model_to_folder.\n",
      "- Creating objects...\n",
      "├── 🔨 Created mount D:\\Learning Square\\LLMs\\Untitled Folder\\pricer_service2.py\n",
      "└── 🔨 Created function Pricer.download_model_to_folder.\n",
      "| Creating objects...\n",
      "├── 🔨 Created mount D:\\Learning Square\\LLMs\\Untitled Folder\\pricer_service2.py\n",
      "└── 🔨 Created function Pricer.download_model_to_folder.\n",
      "\\ Creating objects...\n",
      "├── 🔨 Created mount D:\\Learning Square\\LLMs\\Untitled Folder\\pricer_service2.py\n",
      "└── 🔨 Created function Pricer.download_model_to_folder.\n",
      "/ Creating objects...\n",
      "├── 🔨 Created mount D:\\Learning Square\\LLMs\\Untitled Folder\\pricer_service2.py\n",
      "└── 🔨 Created function Pricer.download_model_to_folder.\n",
      "\\ Creating objects...\n",
      "├── 🔨 Created mount D:\\Learning Square\\LLMs\\Untitled Folder\\pricer_service2.py\n",
      "└── 🔨 Created function Pricer.download_model_to_folder.\n",
      "/ Creating objects...\n",
      "├── 🔨 Created mount D:\\Learning Square\\LLMs\\Untitled Folder\\pricer_service2.py\n",
      "└── 🔨 Created function Pricer.download_model_to_folder.\n",
      "\\ Creating objects...\n",
      "├── 🔨 Created mount D:\\Learning Square\\LLMs\\Untitled Folder\\pricer_service2.py\n",
      "└── 🔨 Created function Pricer.download_model_to_folder.\n",
      "/ Creating objects...\n",
      "├── 🔨 Created mount D:\\Learning Square\\LLMs\\Untitled Folder\\pricer_service2.py\n",
      "└── 🔨 Created function Pricer.download_model_to_folder.\n",
      "\\ Creating objects...\n",
      "├── 🔨 Created mount D:\\Learning Square\\LLMs\\Untitled Folder\\pricer_service2.py\n",
      "└── 🔨 Created function Pricer.download_model_to_folder.\n",
      "/ Creating objects...\n",
      "├── 🔨 Created mount D:\\Learning Square\\LLMs\\Untitled Folder\\pricer_service2.py\n",
      "└── 🔨 Created function Pricer.download_model_to_folder.\n",
      "\\ Creating objects...\n",
      "├── 🔨 Created mount D:\\Learning Square\\LLMs\\Untitled Folder\\pricer_service2.py\n",
      "└── 🔨 Created function Pricer.download_model_to_folder.\n",
      "/ Creating objects...\n",
      "├── 🔨 Created mount D:\\Learning Square\\LLMs\\Untitled Folder\\pricer_service2.py\n",
      "└── 🔨 Created function Pricer.download_model_to_folder.\n",
      "\\ Creating objects...\n",
      "├── 🔨 Created mount D:\\Learning Square\\LLMs\\Untitled Folder\\pricer_service2.py\n",
      "└── 🔨 Created function Pricer.download_model_to_folder.\n",
      "/ Creating objects...\n",
      "├── 🔨 Created mount D:\\Learning Square\\LLMs\\Untitled Folder\\pricer_service2.py\n",
      "└── 🔨 Created function Pricer.download_model_to_folder.\n",
      "\\ Creating objects...\n",
      "├── 🔨 Created mount D:\\Learning Square\\LLMs\\Untitled Folder\\pricer_service2.py\n",
      "└── 🔨 Created function Pricer.download_model_to_folder.\n",
      "/ Creating objects...\n",
      "├── 🔨 Created mount D:\\Learning Square\\LLMs\\Untitled Folder\\pricer_service2.py\n",
      "└── 🔨 Created function Pricer.download_model_to_folder.\n",
      "\\ Creating objects...\n",
      "├── 🔨 Created mount D:\\Learning Square\\LLMs\\Untitled Folder\\pricer_service2.py\n",
      "└── 🔨 Created function Pricer.download_model_to_folder.\n",
      "/ Creating objects...\n",
      "├── 🔨 Created mount D:\\Learning Square\\LLMs\\Untitled Folder\\pricer_service2.py\n",
      "└── 🔨 Created function Pricer.download_model_to_folder.\n",
      "\\ Creating objects...\n",
      "├── 🔨 Created mount D:\\Learning Square\\LLMs\\Untitled Folder\\pricer_service2.py\n",
      "└── 🔨 Created function Pricer.download_model_to_folder.\n",
      "/ Creating objects...\n",
      "├── 🔨 Created mount D:\\Learning Square\\LLMs\\Untitled Folder\\pricer_service2.py\n",
      "└── 🔨 Created function Pricer.download_model_to_folder.\n",
      "\\ Creating objects...\n",
      "├── 🔨 Created mount D:\\Learning Square\\LLMs\\Untitled Folder\\pricer_service2.py\n",
      "└── 🔨 Created function Pricer.download_model_to_folder.\n",
      "/ Creating objects...\n",
      "├── 🔨 Created mount D:\\Learning Square\\LLMs\\Untitled Folder\\pricer_service2.py\n",
      "└── 🔨 Created function Pricer.download_model_to_folder.\n",
      "\\ Creating objects...\n",
      "├── 🔨 Created mount D:\\Learning Square\\LLMs\\Untitled Folder\\pricer_service2.py\n",
      "└── 🔨 Created function Pricer.download_model_to_folder.\n",
      "/ Creating objects...\n",
      "├── 🔨 Created mount D:\\Learning Square\\LLMs\\Untitled Folder\\pricer_service2.py\n",
      "└── 🔨 Created function Pricer.download_model_to_folder.\n",
      "\\ Creating objects...\n",
      "├── 🔨 Created mount D:\\Learning Square\\LLMs\\Untitled Folder\\pricer_service2.py\n",
      "└── 🔨 Created function Pricer.download_model_to_folder.\n",
      "/ Creating objects...\n",
      "├── 🔨 Created mount D:\\Learning Square\\LLMs\\Untitled Folder\\pricer_service2.py\n",
      "└── 🔨 Created function Pricer.download_model_to_folder.\n",
      "Image saved, took 84.05s\n",
      "\\ Creating objects...\n",
      "├── 🔨 Created mount D:\\Learning Square\\LLMs\\Untitled Folder\\pricer_service2.py\n",
      "└── 🔨 Created function Pricer.download_model_to_folder.\n",
      "Finished image build for im-y1cFODrxk715vprAE574ry\n",
      "\\ Creating objects...\n",
      "├── 🔨 Created mount D:\\Learning Square\\LLMs\\Untitled Folder\\pricer_service2.py\n",
      "└── 🔨 Created function Pricer.download_model_to_folder.\n",
      "\\ Creating objects...\n",
      "├── 🔨 Created mount D:\\Learning Square\\LLMs\\Untitled Folder\\pricer_service2.py\n",
      "└── 🔨 Created function Pricer.download_model_to_folder.\n",
      "/ Creating objects...\n",
      "├── 🔨 Created mount D:\\Learning Square\\LLMs\\Untitled Folder\\pricer_service2.py\n",
      "└── 🔨 Created function Pricer.download_model_to_folder.\n",
      "\\ Creating objects...\n",
      "├── 🔨 Created mount D:\\Learning Square\\LLMs\\Untitled Folder\\pricer_service2.py\n",
      "└── 🔨 Created function Pricer.download_model_to_folder.\n",
      "/ Creating objects...\n",
      "├── 🔨 Created mount D:\\Learning Square\\LLMs\\Untitled Folder\\pricer_service2.py\n",
      "└── 🔨 Created function Pricer.download_model_to_folder.\n",
      "| Creating objects...\n",
      "├── 🔨 Created mount D:\\Learning Square\\LLMs\\Untitled Folder\\pricer_service2.py\n",
      "└── 🔨 Created function Pricer.download_model_to_folder.\n",
      "- Creating objects...\n",
      "├── 🔨 Created mount D:\\Learning Square\\LLMs\\Untitled Folder\\pricer_service2.py\n",
      "└── 🔨 Created function Pricer.download_model_to_folder.\n",
      "| Creating objects...\n",
      "├── 🔨 Created mount D:\\Learning Square\\LLMs\\Untitled Folder\\pricer_service2.py\n",
      "└── 🔨 Created function Pricer.download_model_to_folder.\n",
      "- Creating objects...\n",
      "├── 🔨 Created mount D:\\Learning Square\\LLMs\\Untitled Folder\\pricer_service2.py\n",
      "└── 🔨 Created function Pricer.download_model_to_folder.\n",
      "| Creating objects...\n",
      "├── 🔨 Created mount D:\\Learning Square\\LLMs\\Untitled Folder\\pricer_service2.py\n",
      "└── 🔨 Created function Pricer.download_model_to_folder.\n",
      "- Creating objects...\n",
      "├── 🔨 Created mount D:\\Learning Square\\LLMs\\Untitled Folder\\pricer_service2.py\n",
      "└── 🔨 Created function Pricer.download_model_to_folder.\n",
      "\\ Creating objects...\n",
      "├── 🔨 Created mount D:\\Learning Square\\LLMs\\Untitled Folder\\pricer_service2.py\n",
      "├── 🔨 Created function Pricer.download_model_to_folder.\n",
      "└── 🔨 Created function Pricer.*.\n",
      "\n",
      "✓ Created objects.\n",
      "├── 🔨 Created mount D:\\Learning Square\\LLMs\\Untitled Folder\\pricer_service2.py\n",
      "├── 🔨 Created function Pricer.download_model_to_folder.\n",
      "└── 🔨 Created function Pricer.*.\n",
      "✓ App deployed in 372.291s! 🎉\n",
      "\n",
      "View Deployment: \n",
      "https://modal.com/apps/benny-guan97/main/deployed/pricer-service\n"
     ]
    }
   ],
   "source": [
    "!modal deploy -m pricer_service2"
   ]
  },
  {
   "cell_type": "code",
   "execution_count": 18,
   "id": "0bdc4ad5-9597-4b1d-9196-f5dff4117983",
   "metadata": {},
   "outputs": [
    {
     "name": "stdout",
     "output_type": "stream",
     "text": [
      "133.0\n"
     ]
    }
   ],
   "source": [
    "Pricer = modal.Cls.from_name(\"pricer-service\", \"Pricer\")\n",
    "pricer = Pricer()\n",
    "reply = pricer.price.remote(\"Quadcast HyperX condenser mic, connects via usb-c to your computer for crystal clear audio\")\n",
    "print(reply)"
   ]
  },
  {
   "cell_type": "code",
   "execution_count": 22,
   "id": "40cd1f8e-eeac-45c7-9e70-00dafb42ff44",
   "metadata": {},
   "outputs": [],
   "source": [
    "from agents.specialist_agent import SpecialistAgent"
   ]
  },
  {
   "cell_type": "code",
   "execution_count": 24,
   "id": "03ec2369-9f80-47b4-be0c-933929baaad7",
   "metadata": {},
   "outputs": [
    {
     "name": "stderr",
     "output_type": "stream",
     "text": [
      "C:\\Users\\benny\\anaconda3\\envs\\llms\\Lib\\asyncio\\events.py:84: DeprecationError: 2025-01-27: `modal.Cls.lookup` is deprecated and will be removed in a future release. It can be replaced with `modal.Cls.from_name`.\n",
      "\n",
      "See https://modal.com/docs/guide/modal-1-0-migration for more information.\n",
      "  self._context.run(self._callback, *self._args)\n"
     ]
    },
    {
     "data": {
      "text/plain": [
       "299.0"
      ]
     },
     "execution_count": 24,
     "metadata": {},
     "output_type": "execute_result"
    }
   ],
   "source": [
    "agent = SpecialistAgent()\n",
    "agent.price(\"iPad Pro 2nd generation\")"
   ]
  },
  {
   "cell_type": "code",
   "execution_count": null,
   "id": "fadc8825-629d-45b0-8337-cde4c60444e2",
   "metadata": {},
   "outputs": [],
   "source": []
  }
 ],
 "metadata": {
  "kernelspec": {
   "display_name": "Python 3 (ipykernel)",
   "language": "python",
   "name": "python3"
  },
  "language_info": {
   "codemirror_mode": {
    "name": "ipython",
    "version": 3
   },
   "file_extension": ".py",
   "mimetype": "text/x-python",
   "name": "python",
   "nbconvert_exporter": "python",
   "pygments_lexer": "ipython3",
   "version": "3.11.11"
  }
 },
 "nbformat": 4,
 "nbformat_minor": 5
}
