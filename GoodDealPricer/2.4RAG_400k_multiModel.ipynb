{
 "cells": [
  {
   "cell_type": "code",
   "execution_count": 26,
   "id": "9bc1a4a6-fcd7-4fdd-a33d-6bc2c4915a10",
   "metadata": {},
   "outputs": [],
   "source": [
    "# imports\n",
    "\n",
    "import os\n",
    "import re\n",
    "import math\n",
    "import json\n",
    "from tqdm import tqdm\n",
    "import random\n",
    "from dotenv import load_dotenv\n",
    "from huggingface_hub import login\n",
    "import numpy as np\n",
    "import pickle\n",
    "from openai import OpenAI\n",
    "from sentence_transformers import SentenceTransformer\n",
    "from datasets import load_dataset\n",
    "import chromadb\n",
    "from items import Item\n",
    "from testing import Tester\n",
    "import pandas as pd\n",
    "import numpy as np\n",
    "from sklearn.ensemble import RandomForestRegressor\n",
    "from sklearn.linear_model import LinearRegression\n",
    "from sklearn.metrics import mean_squared_error, r2_score\n",
    "import joblib\n"
   ]
  },
  {
   "cell_type": "code",
   "execution_count": 2,
   "id": "fc75661f-646b-4ed5-a498-9e137076d4aa",
   "metadata": {},
   "outputs": [],
   "source": [
    "# CONSTANTS\n",
    "\n",
    "QUESTION = \"How much does this cost to the nearest dollar?\\n\\n\"\n",
    "DB = \"products_vectorstore\""
   ]
  },
  {
   "cell_type": "code",
   "execution_count": 3,
   "id": "4f5a2efd-78a1-412a-80f5-a0f146417f5b",
   "metadata": {},
   "outputs": [],
   "source": [
    "# environment\n",
    "\n",
    "load_dotenv(override=True)\n",
    "os.environ['OPENAI_API_KEY'] = os.getenv('OPENAI_API_KEY')\n",
    "os.environ['HUGGINGFACE_RW_TOKEN'] = os.getenv('HUGGINGFACE_RW_TOKEN')\n",
    "DB = \"products_vectorstore\""
   ]
  },
  {
   "cell_type": "code",
   "execution_count": 4,
   "id": "3454bdf0-e7b6-4f90-87e5-230349e0abe7",
   "metadata": {},
   "outputs": [],
   "source": [
    "# Load in the test pickle file:\n",
    "\n",
    "with open('test.pkl', 'rb') as file:\n",
    "    test = pickle.load(file)"
   ]
  },
  {
   "cell_type": "code",
   "execution_count": 5,
   "id": "9008adb2-2ed1-4724-8b61-a1d4c9bbe1e2",
   "metadata": {},
   "outputs": [],
   "source": [
    "client = chromadb.PersistentClient(path=DB)\n",
    "collection = client.get_or_create_collection('products')"
   ]
  },
  {
   "cell_type": "code",
   "execution_count": 6,
   "id": "e2192ac1-60dd-43ef-be9f-86e8cf866f79",
   "metadata": {},
   "outputs": [],
   "source": [
    "result = collection.get(include=['embeddings', 'documents', 'metadatas'])\n",
    "vectors = np.array(result['embeddings'])\n",
    "documents = result['documents']\n",
    "prices = [metadata['price'] for metadata in result['metadatas']]"
   ]
  },
  {
   "cell_type": "code",
   "execution_count": 7,
   "id": "658e0fb0-2082-4e37-8c96-e51bae4b56c4",
   "metadata": {},
   "outputs": [],
   "source": [
    "from agents.specialist_agent import SpecialistAgent\n",
    "from agents.frontier_agent import FrontierAgent"
   ]
  },
  {
   "cell_type": "code",
   "execution_count": 8,
   "id": "b141e1b6-6a81-473f-af63-871b4b8f7f0d",
   "metadata": {},
   "outputs": [],
   "source": [
    "specialist = SpecialistAgent()\n",
    "frontier = FrontierAgent(collection)"
   ]
  },
  {
   "cell_type": "code",
   "execution_count": 10,
   "id": "69f7c263-f3e8-4060-8c61-6697f3863618",
   "metadata": {},
   "outputs": [],
   "source": [
    "def description(item):\n",
    "    return item.prompt.split(\"to the nearest dollar?\\n\\n\")[1].split(\"\\n\\nPrice is $\")[0]"
   ]
  },
  {
   "cell_type": "code",
   "execution_count": 11,
   "id": "9ccf2beb-5912-4d35-a511-895f24151064",
   "metadata": {},
   "outputs": [],
   "source": [
    "product = \"Quadcast HyperX condenser mic for high quality audio for podcasting\""
   ]
  },
  {
   "cell_type": "code",
   "execution_count": 12,
   "id": "7a326cf6-c287-4a6f-aa3c-21b51f0141d3",
   "metadata": {},
   "outputs": [
    {
     "name": "stdout",
     "output_type": "stream",
     "text": [
      "189.0\n",
      "154.59\n"
     ]
    }
   ],
   "source": [
    "print(specialist.price(product))\n",
    "print(frontier.price(product))"
   ]
  },
  {
   "cell_type": "code",
   "execution_count": 13,
   "id": "906d6bbd-e852-4c23-97c7-89a3b57bd692",
   "metadata": {},
   "outputs": [
    {
     "name": "stderr",
     "output_type": "stream",
     "text": [
      "100%|████████████████████████████████████████| 250/250 [27:56<00:00,  6.71s/it]\n"
     ]
    }
   ],
   "source": [
    "specialists = []\n",
    "frontiers = []\n",
    "prices = []\n",
    "for item in tqdm(test[1000:1250]):\n",
    "    text = description(item)\n",
    "    specialists.append(specialist.price(text))\n",
    "    frontiers.append(frontier.price(text))\n",
    "    prices.append(item.price)"
   ]
  },
  {
   "cell_type": "code",
   "execution_count": 16,
   "id": "ea2ddb92-5dc5-4596-bc4c-8b7e8d75e5b2",
   "metadata": {},
   "outputs": [],
   "source": [
    "mins = [min(s,f) for s,f in zip(specialists, frontiers)]\n",
    "maxes = [max(s,f) for s,f in zip(specialists, frontiers)]\n",
    "\n",
    "X = pd.DataFrame({\n",
    "    'Specialist': specialists,\n",
    "    'Frontier': frontiers,\n",
    "    #'RandomForest': random_forests,\n",
    "    'Min': mins,\n",
    "    'Max': maxes,\n",
    "})\n",
    "\n",
    "# Convert y to a Series\n",
    "y = pd.Series(prices)"
   ]
  },
  {
   "cell_type": "code",
   "execution_count": 17,
   "id": "9fe22794-0352-427a-b019-75e1fce7acd9",
   "metadata": {},
   "outputs": [
    {
     "name": "stdout",
     "output_type": "stream",
     "text": [
      "Specialist: 0.23\n",
      "Frontier: 0.24\n",
      "Min: -0.27\n",
      "Max: 0.74\n",
      "Intercept=6.77\n"
     ]
    }
   ],
   "source": [
    "np.random.seed(42)\n",
    "\n",
    "lr = LinearRegression()\n",
    "lr.fit(X, y)\n",
    "\n",
    "feature_columns = X.columns.tolist()\n",
    "\n",
    "for feature, coef in zip(feature_columns, lr.coef_):\n",
    "    print(f\"{feature}: {coef:.2f}\")\n",
    "print(f\"Intercept={lr.intercept_:.2f}\")"
   ]
  },
  {
   "cell_type": "code",
   "execution_count": 18,
   "id": "59e189c5-ea52-41ab-9977-9243b06ba782",
   "metadata": {},
   "outputs": [
    {
     "data": {
      "text/plain": [
       "['ensemble_model.pkl']"
      ]
     },
     "execution_count": 18,
     "metadata": {},
     "output_type": "execute_result"
    }
   ],
   "source": [
    "joblib.dump(lr, 'ensemble_model.pkl')"
   ]
  },
  {
   "cell_type": "code",
   "execution_count": 27,
   "id": "47d2bf6c-dc27-4709-ad7a-9837fcbf9549",
   "metadata": {},
   "outputs": [],
   "source": [
    "from agents.ensemble_agent import EnsembleAgent\n",
    "ensemble = EnsembleAgent(collection)"
   ]
  },
  {
   "cell_type": "code",
   "execution_count": 33,
   "id": "e2fc8c90-7850-48ea-bb3d-bc468efb979b",
   "metadata": {},
   "outputs": [
    {
     "data": {
      "text/plain": [
       "185.35410139236384"
      ]
     },
     "execution_count": 33,
     "metadata": {},
     "output_type": "execute_result"
    }
   ],
   "source": [
    "ensemble.price(product)"
   ]
  },
  {
   "cell_type": "code",
   "execution_count": 34,
   "id": "3cf9cb54-1a7f-4115-a255-f16de8832f23",
   "metadata": {},
   "outputs": [],
   "source": [
    "def ensemble_pricer(item):\n",
    "    return ensemble.price(description(item))"
   ]
  },
  {
   "cell_type": "code",
   "execution_count": 35,
   "id": "5034798a-a21a-4ce1-8d56-579fa6341fdb",
   "metadata": {
    "scrolled": true
   },
   "outputs": [
    {
     "name": "stdout",
     "output_type": "stream",
     "text": [
      "\u001b[92m1: Guess: $396.55 Truth: $374.41 Error: $22.14 SLE: 0.00 Item: OEM AC Compressor w/A/C Repair Kit For F...\u001b[0m\n",
      "\u001b[92m2: Guess: $225.17 Truth: $225.11 Error: $0.06 SLE: 0.00 Item: Motorcraft YB3125 Fan Clutch\u001b[0m\n",
      "\u001b[92m3: Guess: $50.94 Truth: $61.68 Error: $10.74 SLE: 0.04 Item: Dorman 603-159 Front Washer Fluid Reserv...\u001b[0m\n",
      "\u001b[92m4: Guess: $533.07 Truth: $599.99 Error: $66.92 SLE: 0.01 Item: HP Premium 17.3-inch HD Plus Touchscreen...\u001b[0m\n",
      "\u001b[92m5: Guess: $24.82 Truth: $16.99 Error: $7.83 SLE: 0.13 Item: 5-Position Super Switch Pickup Selector ...\u001b[0m\n",
      "\u001b[92m6: Guess: $24.79 Truth: $31.99 Error: $7.20 SLE: 0.06 Item: Horror Bookmarks, Resin Horror Bookmarks...\u001b[0m\n",
      "\u001b[92m7: Guess: $133.57 Truth: $101.79 Error: $31.78 SLE: 0.07 Item: SK6241 - Stinger 4 Gauge 6000 Series Pow...\u001b[0m\n",
      "\u001b[93m8: Guess: $386.45 Truth: $289.00 Error: $97.45 SLE: 0.08 Item: Godox ML60Bi LED Light Kit, Handheld LED...\u001b[0m\n",
      "\u001b[91m9: Guess: $926.57 Truth: $635.86 Error: $290.71 SLE: 0.14 Item: Randall RG75DG3PLUS G3 Plus 100-Watt Com...\u001b[0m\n",
      "\u001b[92m10: Guess: $63.43 Truth: $65.99 Error: $2.56 SLE: 0.00 Item: HOLDWILL 6 Pack LED Shop Light, 4FT 24W ...\u001b[0m\n",
      "\u001b[93m11: Guess: $351.68 Truth: $254.21 Error: $97.47 SLE: 0.10 Item: Viking Horns V103C/1005ATK 3 Gallon Air ...\u001b[0m\n",
      "\u001b[92m12: Guess: $430.42 Truth: $412.99 Error: $17.43 SLE: 0.00 Item: CURT 70110 Custom Tow Bar Base Plate Bra...\u001b[0m\n",
      "\u001b[92m13: Guess: $229.12 Truth: $205.50 Error: $23.62 SLE: 0.01 Item: 10-Pack Solar HAMMERED BRONZE Finish Pos...\u001b[0m\n",
      "\u001b[92m14: Guess: $270.17 Truth: $248.23 Error: $21.94 SLE: 0.01 Item: COSTWAY Electric Tumble Dryer, Sliver\u001b[0m\n",
      "\u001b[92m15: Guess: $386.45 Truth: $399.00 Error: $12.55 SLE: 0.00 Item: FREE SIGNAL TV Transit 32\" 12 Volt DC Po...\u001b[0m\n",
      "\u001b[92m16: Guess: $356.70 Truth: $373.94 Error: $17.24 SLE: 0.00 Item: Bilstein 5100 Monotube Gas Shock Set com...\u001b[0m\n",
      "\u001b[93m17: Guess: $135.54 Truth: $92.89 Error: $42.65 SLE: 0.14 Item: Sangean K-200 Multi-Function Upright AM/...\u001b[0m\n",
      "\u001b[92m18: Guess: $84.34 Truth: $51.99 Error: $32.35 SLE: 0.23 Item: Charles Leonard Magnetic Lapboard Class ...\u001b[0m\n",
      "\u001b[91m19: Guess: $296.26 Truth: $179.00 Error: $117.26 SLE: 0.25 Item: Gigabyte AMD Radeon HD 7870 2 GB GDDR5 D...\u001b[0m\n",
      "\u001b[92m20: Guess: $24.68 Truth: $19.42 Error: $5.26 SLE: 0.05 Item: 3dRose LLC 8 x 8 x 0.25 Inches Bull Terr...\u001b[0m\n",
      "\u001b[92m21: Guess: $476.63 Truth: $539.95 Error: $63.32 SLE: 0.02 Item: ROKINON 85mm F1.4 Auto Focus Full Frame ...\u001b[0m\n",
      "\u001b[92m22: Guess: $148.53 Truth: $147.67 Error: $0.86 SLE: 0.00 Item: AUTOSAVER88 Headlight Assembly Compatibl...\u001b[0m\n",
      "\u001b[92m23: Guess: $30.54 Truth: $24.99 Error: $5.55 SLE: 0.04 Item: ASI NAUTICAL 2.5 Inches Opera Glasses Bi...\u001b[0m\n",
      "\u001b[93m24: Guess: $90.69 Truth: $149.00 Error: $58.31 SLE: 0.24 Item: Behringer TUBE OVERDRIVE TO100 Authentic...\u001b[0m\n",
      "\u001b[92m25: Guess: $21.01 Truth: $16.99 Error: $4.02 SLE: 0.04 Item: Fun Express Insect Finger Puppets - 24 f...\u001b[0m\n",
      "\u001b[92m26: Guess: $19.26 Truth: $7.99 Error: $11.27 SLE: 0.66 Item: WAFJAMF Roller Stamp Identity Theft Stam...\u001b[0m\n",
      "\u001b[92m27: Guess: $192.83 Truth: $199.99 Error: $7.16 SLE: 0.00 Item: Capulina Tiffany Floor Lamp 2-Light 16\" ...\u001b[0m\n",
      "\u001b[92m28: Guess: $288.57 Truth: $251.45 Error: $37.12 SLE: 0.02 Item: Apple Watch Series 6 (GPS, 44mm) - Space...\u001b[0m\n",
      "\u001b[92m29: Guess: $239.61 Truth: $231.62 Error: $7.99 SLE: 0.00 Item: ICON 01725 Tandem Axle Fender Skirt FS17...\u001b[0m\n",
      "\u001b[93m30: Guess: $200.34 Truth: $135.00 Error: $65.34 SLE: 0.15 Item: SanDisk 128GB Ultra (10 Pack) MicroSD Cl...\u001b[0m\n",
      "\u001b[92m31: Guess: $385.89 Truth: $356.62 Error: $29.27 SLE: 0.01 Item: Velvac 2020,L,C/Hr,W,E2003,102\",Bk - 715...\u001b[0m\n",
      "\u001b[92m32: Guess: $277.87 Truth: $257.99 Error: $19.88 SLE: 0.01 Item: TCMT Passenger Backrest Sissy Bar & Lugg...\u001b[0m\n",
      "\u001b[92m33: Guess: $40.83 Truth: $27.99 Error: $12.84 SLE: 0.13 Item: Alnicov 63.5MM Brass Tremolo Block，Tremo...\u001b[0m\n",
      "\u001b[92m34: Guess: $176.57 Truth: $171.20 Error: $5.37 SLE: 0.00 Item: Subaru Forester Outback Legacy OEM Engin...\u001b[0m\n",
      "\u001b[91m35: Guess: $479.62 Truth: $225.00 Error: $254.62 SLE: 0.57 Item: Richmond Auto Upholstery - 2012 Dodge Ra...\u001b[0m\n",
      "\u001b[91m36: Guess: $189.76 Truth: $105.00 Error: $84.76 SLE: 0.35 Item: AP-39 Automotive Paint Primer Grey 2K Ur...\u001b[0m\n",
      "\u001b[92m37: Guess: $288.68 Truth: $299.99 Error: $11.31 SLE: 0.00 Item: Road Top Wireless Carplay Retrofit Kit D...\u001b[0m\n",
      "\u001b[93m38: Guess: $676.67 Truth: $535.09 Error: $141.58 SLE: 0.05 Item: Gibson Performance Exhaust 5658 Aluminiz...\u001b[0m\n",
      "\u001b[92m39: Guess: $24.79 Truth: $12.33 Error: $12.46 SLE: 0.44 Item: Bella Tunno Happy Links - Baby Montessor...\u001b[0m\n",
      "\u001b[92m40: Guess: $113.27 Truth: $84.99 Error: $28.28 SLE: 0.08 Item: CANMORE H300 Handheld GPS Golf Device, S...\u001b[0m\n",
      "\u001b[92m41: Guess: $21.89 Truth: $15.99 Error: $5.90 SLE: 0.09 Item: DCPOWER AC Adapter Compatible Replacemen...\u001b[0m\n",
      "\u001b[92m42: Guess: $58.48 Truth: $62.44 Error: $3.96 SLE: 0.00 Item: Sharp, VX2128V, Commercial Desktop Calcu...\u001b[0m\n",
      "\u001b[92m43: Guess: $97.68 Truth: $82.99 Error: $14.69 SLE: 0.03 Item: Melissa & Doug Lifelike Plush Stork Gian...\u001b[0m\n",
      "\u001b[93m44: Guess: $436.79 Truth: $599.95 Error: $163.16 SLE: 0.10 Item: Sony SSCS8 2-Way 3-Driver Center Channel...\u001b[0m\n",
      "\u001b[92m45: Guess: $213.50 Truth: $194.99 Error: $18.51 SLE: 0.01 Item: ASUS Chromebook CX1, 14\" Full HD NanoEdg...\u001b[0m\n",
      "\u001b[92m46: Guess: $333.10 Truth: $344.95 Error: $11.85 SLE: 0.00 Item: FiiO X7 32GB Hi-Res Lossless Music Playe...\u001b[0m\n",
      "\u001b[92m47: Guess: $47.40 Truth: $37.99 Error: $9.41 SLE: 0.05 Item: TORRO Leather Case Compatible with iPhon...\u001b[0m\n",
      "\u001b[92m48: Guess: $219.00 Truth: $224.35 Error: $5.35 SLE: 0.00 Item: Universal Air Conditioner KT 1031 A/C Co...\u001b[0m\n",
      "\u001b[92m49: Guess: $794.81 Truth: $814.00 Error: $19.19 SLE: 0.00 Item: Street Series Stainless Performance Cat-...\u001b[0m\n",
      "\u001b[93m50: Guess: $338.54 Truth: $439.88 Error: $101.34 SLE: 0.07 Item: Lenovo IdeaPad 3 14-inch Laptop, 14.0-in...\u001b[0m\n",
      "\u001b[92m51: Guess: $335.62 Truth: $341.43 Error: $5.81 SLE: 0.00 Item: Access Bed Covers TonnoSport 22050219 - ...\u001b[0m\n",
      "\u001b[92m52: Guess: $58.34 Truth: $46.78 Error: $11.56 SLE: 0.05 Item: G.I. JOE Hasbro 3 3/4\" Wave 5 Action Fig...\u001b[0m\n",
      "\u001b[92m53: Guess: $201.38 Truth: $171.44 Error: $29.94 SLE: 0.03 Item: T&S Brass B-0232-BST Double Pantry Fauce...\u001b[0m\n",
      "\u001b[92m54: Guess: $478.90 Truth: $458.00 Error: $20.90 SLE: 0.00 Item: ZTUOAUMA Fuel Injection Pump 3090942 309...\u001b[0m\n",
      "\u001b[92m55: Guess: $131.84 Truth: $130.75 Error: $1.09 SLE: 0.00 Item: 2AP18AA#ABA Hp Prime Graphing Calculator...\u001b[0m\n",
      "\u001b[92m56: Guess: $78.24 Truth: $83.81 Error: $5.57 SLE: 0.00 Item: Lowrance 000-0119-83 Nmea 2000 25' Exten...\u001b[0m\n",
      "\u001b[91m57: Guess: $179.56 Truth: $386.39 Error: $206.83 SLE: 0.58 Item: Jeep Genuine Accessories 82213051 Hood L...\u001b[0m\n",
      "\u001b[93m58: Guess: $246.94 Truth: $169.00 Error: $77.94 SLE: 0.14 Item: GODOX CB-06 Hard Carrying Case with Whee...\u001b[0m\n",
      "\u001b[92m59: Guess: $21.81 Truth: $17.95 Error: $3.86 SLE: 0.03 Item: Au-Tomotive Gold, INC. Ford Black Valet ...\u001b[0m\n",
      "\u001b[92m60: Guess: $296.26 Truth: $269.00 Error: $27.26 SLE: 0.01 Item: Snailfly Black Roof Rack Rail + Cross Ba...\u001b[0m\n",
      "\u001b[92m61: Guess: $111.85 Truth: $77.77 Error: $34.08 SLE: 0.13 Item: KING SHA Anti Glare LED Track Lighting H...\u001b[0m\n",
      "\u001b[92m62: Guess: $82.97 Truth: $88.99 Error: $6.02 SLE: 0.00 Item: APS Compatible with Chevy Silverado 1500...\u001b[0m\n",
      "\u001b[92m63: Guess: $350.75 Truth: $364.41 Error: $13.66 SLE: 0.00 Item: Wilwood Engineering 14011291R Brake Cali...\u001b[0m\n",
      "\u001b[92m64: Guess: $134.47 Truth: $127.03 Error: $7.44 SLE: 0.00 Item: ACDelco Gold 336-1925A Starter, Remanufa...\u001b[0m\n",
      "\u001b[92m65: Guess: $744.62 Truth: $778.95 Error: $34.33 SLE: 0.00 Item: UWS EC10783 69-Inch Matte Black Heavy-Wa...\u001b[0m\n",
      "\u001b[92m66: Guess: $196.25 Truth: $206.66 Error: $10.41 SLE: 0.00 Item: Dell Latitude E5440 14in Business Laptop...\u001b[0m\n",
      "\u001b[92m67: Guess: $45.50 Truth: $35.94 Error: $9.56 SLE: 0.05 Item: (Plug and Play) Spare Tire Brake Light W...\u001b[0m\n",
      "\u001b[92m68: Guess: $186.06 Truth: $149.00 Error: $37.06 SLE: 0.05 Item: The Ultimate Roadside Rescue Assistant\u001b[0m\n",
      "\u001b[92m69: Guess: $224.44 Truth: $251.98 Error: $27.54 SLE: 0.01 Item: Brand New 18\" x 8.5\" Replacement Wheel f...\u001b[0m\n",
      "\u001b[93m70: Guess: $216.54 Truth: $160.00 Error: $56.54 SLE: 0.09 Item: Headlight Headlamp LH Left & RH Right Pa...\u001b[0m\n",
      "\u001b[92m71: Guess: $44.50 Truth: $39.99 Error: $4.51 SLE: 0.01 Item: Lilo And Stitch Deluxe Oversize Print La...\u001b[0m\n",
      "\u001b[93m72: Guess: $250.76 Truth: $362.41 Error: $111.65 SLE: 0.13 Item: AC Compressor & A/C Clutch For Hyundai A...\u001b[0m\n",
      "\u001b[93m73: Guess: $444.96 Truth: $344.00 Error: $100.96 SLE: 0.07 Item: House Of Troy PIN475-AB Pinnacle Collect...\u001b[0m\n",
      "\u001b[92m74: Guess: $36.78 Truth: $25.09 Error: $11.69 SLE: 0.14 Item: Juno T29 WH Floating Electrical Feed Sin...\u001b[0m\n",
      "\u001b[91m75: Guess: $85.19 Truth: $175.95 Error: $90.76 SLE: 0.52 Item: Sherman GO-PARTS - for 2013-2016 Toyota ...\u001b[0m\n",
      "\u001b[91m76: Guess: $339.94 Truth: $132.64 Error: $207.30 SLE: 0.88 Item: Roland RPU-3 Electronic Keyboard Pedal o...\u001b[0m\n",
      "\u001b[92m77: Guess: $342.05 Truth: $422.99 Error: $80.94 SLE: 0.04 Item: Rockland VMI14 12,000 Pound 12 Volt DC E...\u001b[0m\n",
      "\u001b[92m78: Guess: $158.60 Truth: $146.48 Error: $12.12 SLE: 0.01 Item: Max Advanced Brakes Elite XDS Front Cros...\u001b[0m\n",
      "\u001b[92m79: Guess: $178.28 Truth: $156.83 Error: $21.45 SLE: 0.02 Item: Quality-Built 11030 Premium Quality Alte...\u001b[0m\n",
      "\u001b[93m80: Guess: $189.76 Truth: $251.99 Error: $62.23 SLE: 0.08 Item: Lucida LG-510 Student Classical Guitar, ...\u001b[0m\n",
      "\u001b[91m81: Guess: $338.08 Truth: $940.33 Error: $602.25 SLE: 1.04 Item: Longacre 52-79800 Aluminum Turn Plates\u001b[0m\n",
      "\u001b[92m82: Guess: $57.54 Truth: $52.99 Error: $4.55 SLE: 0.01 Item: Motion Pro 08-0380 Adjustable Torque Wre...\u001b[0m\n",
      "\u001b[93m83: Guess: $296.26 Truth: $219.95 Error: $76.31 SLE: 0.09 Item: Glyph Thunderbolt 3 NVMe Dock (0 GB)\u001b[0m\n",
      "\u001b[92m84: Guess: $437.62 Truth: $441.03 Error: $3.41 SLE: 0.00 Item: TOYO Open Country MT Performance Radial ...\u001b[0m\n",
      "\u001b[92m85: Guess: $175.24 Truth: $168.98 Error: $6.26 SLE: 0.00 Item: Razer Seiren X USB Streaming Microphone ...\u001b[0m\n",
      "\u001b[92m86: Guess: $10.61 Truth: $2.49 Error: $8.12 SLE: 1.45 Item: Happy Birthday to Dad From Your Daughter...\u001b[0m\n",
      "\u001b[92m87: Guess: $85.19 Truth: $98.62 Error: $13.43 SLE: 0.02 Item: Little Tikes My Real Jam First Concert S...\u001b[0m\n",
      "\u001b[92m88: Guess: $267.22 Truth: $256.95 Error: $10.27 SLE: 0.00 Item: Studio M Peace and Harmony Art Pole Comm...\u001b[0m\n",
      "\u001b[92m89: Guess: $34.69 Truth: $30.99 Error: $3.70 SLE: 0.01 Item: MyVolts 12V Power Supply Adaptor Compati...\u001b[0m\n",
      "\u001b[91m90: Guess: $912.32 Truth: $569.84 Error: $342.48 SLE: 0.22 Item: Dell Latitude 7212 Rugged Extreme Tablet...\u001b[0m\n",
      "\u001b[92m91: Guess: $195.46 Truth: $177.99 Error: $17.47 SLE: 0.01 Item: Covermates Contour Fit Car Cover - Light...\u001b[0m\n",
      "\u001b[92m92: Guess: $944.59 Truth: $997.99 Error: $53.40 SLE: 0.00 Item: Westin 57-4025 Black HDX Grille Guard fi...\u001b[0m\n",
      "\u001b[92m93: Guess: $196.90 Truth: $219.00 Error: $22.10 SLE: 0.01 Item: Fieldpiece JL2 Job Link Wireless App Tra...\u001b[0m\n",
      "\u001b[92m94: Guess: $260.63 Truth: $225.55 Error: $35.08 SLE: 0.02 Item: hansgrohe Talis S Modern Premium Easy Cl...\u001b[0m\n",
      "\u001b[91m95: Guess: $1,251.13 Truth: $495.95 Error: $755.18 SLE: 0.85 Item: G-Technology G-SPEED eS PRO High-Perform...\u001b[0m\n",
      "\u001b[92m96: Guess: $938.49 Truth: $942.37 Error: $3.88 SLE: 0.00 Item: DreamLine SHDR-1960723L-01 Shower Door, ...\u001b[0m\n",
      "\u001b[92m97: Guess: $13.55 Truth: $1.94 Error: $11.61 SLE: 2.56 Item: Sanctuary Square Backplate Finish: Oiled...\u001b[0m\n",
      "\u001b[92m98: Guess: $340.26 Truth: $284.34 Error: $55.92 SLE: 0.03 Item: Pelican Protector 1750 Long Case - Multi...\u001b[0m\n",
      "\u001b[92m99: Guess: $175.24 Truth: $171.90 Error: $3.34 SLE: 0.00 Item: Brock Replacement Driver and Passenger H...\u001b[0m\n",
      "\u001b[93m100: Guess: $215.50 Truth: $144.99 Error: $70.51 SLE: 0.16 Item: Carlinkit Ai Box Mini, Android 11, Multi...\u001b[0m\n",
      "\u001b[92m101: Guess: $478.79 Truth: $470.47 Error: $8.32 SLE: 0.00 Item: StarDot NetCamLIVE2 YouTube Live Stream ...\u001b[0m\n",
      "\u001b[92m102: Guess: $83.80 Truth: $66.95 Error: $16.85 SLE: 0.05 Item: Atomic Compatible FILXXCAR0016 16x25x5 M...\u001b[0m\n",
      "\u001b[92m103: Guess: $121.38 Truth: $117.00 Error: $4.38 SLE: 0.00 Item: Bandai Awakening of S. H. s.h.figuarts s...\u001b[0m\n",
      "\u001b[93m104: Guess: $245.27 Truth: $172.14 Error: $73.13 SLE: 0.12 Item: Fit System 62135G Passenger Side Towing ...\u001b[0m\n",
      "\u001b[92m105: Guess: $345.53 Truth: $392.74 Error: $47.21 SLE: 0.02 Item: Black Horse Black Aluminum Exceed Runnin...\u001b[0m\n",
      "\u001b[92m106: Guess: $35.47 Truth: $16.99 Error: $18.48 SLE: 0.50 Item: Dearsun Twinkle Star Color Night Light P...\u001b[0m\n",
      "\u001b[92m107: Guess: $7.90 Truth: $1.34 Error: $6.56 SLE: 1.78 Item: Pokemon - Gallade Spirit Link (83/108) -...\u001b[0m\n",
      "\u001b[93m108: Guess: $272.17 Truth: $349.98 Error: $77.81 SLE: 0.06 Item: Ibanez GA34STCE-NT GIO Series Classical ...\u001b[0m\n",
      "\u001b[92m109: Guess: $373.82 Truth: $370.71 Error: $3.11 SLE: 0.00 Item: Set 2 Heavy Duty 12-16.5 12x16.5 12 Ply ...\u001b[0m\n",
      "\u001b[92m110: Guess: $63.43 Truth: $65.88 Error: $2.45 SLE: 0.00 Item: Hairpin Table Legs 28\" Heavy Duty Hairpi...\u001b[0m\n",
      "\u001b[92m111: Guess: $270.74 Truth: $229.99 Error: $40.75 SLE: 0.03 Item: Marada Racing Seat with Adjustable Slide...\u001b[0m\n",
      "\u001b[92m112: Guess: $28.05 Truth: $9.14 Error: $18.91 SLE: 1.11 Item: Remington Industries 24UL1007STRWHI25 24...\u001b[0m\n",
      "\u001b[91m113: Guess: $384.08 Truth: $199.00 Error: $185.08 SLE: 0.43 Item: Acer S3-391-6046 13.3-inch Ultrabook, In...\u001b[0m\n",
      "\u001b[91m114: Guess: $219.78 Truth: $109.99 Error: $109.79 SLE: 0.47 Item: ICBEAMER 7\" RGB LED Headlights Bulb Halo...\u001b[0m\n",
      "\u001b[93m115: Guess: $395.13 Truth: $570.42 Error: $175.29 SLE: 0.13 Item: R1 Concepts Front Rear Brakes and Rotors...\u001b[0m\n",
      "\u001b[92m116: Guess: $243.11 Truth: $279.99 Error: $36.88 SLE: 0.02 Item: Camplux 2.64 GPM Tankless , Outdoor Port...\u001b[0m\n",
      "\u001b[92m117: Guess: $48.02 Truth: $30.99 Error: $17.03 SLE: 0.18 Item: KNOKLOCK 10 Pack 3.75 Inch(96mm) Kitchen...\u001b[0m\n",
      "\u001b[92m118: Guess: $44.64 Truth: $31.99 Error: $12.65 SLE: 0.11 Item: Valley Enterprises Yaesu USB FTDI CT-62 ...\u001b[0m\n",
      "\u001b[93m119: Guess: $64.15 Truth: $15.90 Error: $48.25 SLE: 1.82 Item: G9 LED Light Bulbs，8W，75W 100W replaceme...\u001b[0m\n",
      "\u001b[93m120: Guess: $96.81 Truth: $45.99 Error: $50.82 SLE: 0.54 Item: ZCHAOZ 4 Lights Antique White Farmhouse ...\u001b[0m\n",
      "\u001b[91m121: Guess: $244.58 Truth: $113.52 Error: $131.06 SLE: 0.58 Item: Honeywell TH8320R1003 Honeywell VisionPr...\u001b[0m\n",
      "\u001b[92m122: Guess: $477.70 Truth: $516.99 Error: $39.29 SLE: 0.01 Item: Patriot Exhaust H8013-1 1-7/8\" Clippster...\u001b[0m\n",
      "\u001b[92m123: Guess: $198.36 Truth: $196.99 Error: $1.37 SLE: 0.00 Item: Fitrite Autopart New Front Left Driver S...\u001b[0m\n",
      "\u001b[92m124: Guess: $83.00 Truth: $46.55 Error: $36.45 SLE: 0.32 Item: Technical Precision Replacement for GE G...\u001b[0m\n",
      "\u001b[93m125: Guess: $282.76 Truth: $356.99 Error: $74.23 SLE: 0.05 Item: Covercraft Carhartt SeatSaver Front Row ...\u001b[0m\n",
      "\u001b[92m126: Guess: $272.72 Truth: $319.95 Error: $47.23 SLE: 0.03 Item: Sennheiser SD Pro 2 (506008) - Double-Si...\u001b[0m\n",
      "\u001b[93m127: Guess: $148.74 Truth: $96.06 Error: $52.68 SLE: 0.19 Item: Hitachi MAF0110 Mass Air Flow Sensor\u001b[0m\n",
      "\u001b[93m128: Guess: $244.57 Truth: $190.99 Error: $53.58 SLE: 0.06 Item: AmScope SE305R-P-LED-PS36A 10X-30X LED C...\u001b[0m\n",
      "\u001b[91m129: Guess: $131.86 Truth: $257.95 Error: $126.09 SLE: 0.45 Item: Front Left Driver Side Window Regulator ...\u001b[0m\n",
      "\u001b[92m130: Guess: $83.34 Truth: $62.95 Error: $20.39 SLE: 0.08 Item: Premium Replica Hubcap Set, Fits Nissan ...\u001b[0m\n",
      "\u001b[92m131: Guess: $84.34 Truth: $47.66 Error: $36.68 SLE: 0.32 Item: Excellerations Phonics Spelling Game for...\u001b[0m\n",
      "\u001b[93m132: Guess: $149.10 Truth: $226.99 Error: $77.89 SLE: 0.17 Item: RC4WD BigDog Dual Axle Scale Car/Truck T...\u001b[0m\n",
      "\u001b[92m133: Guess: $296.26 Truth: $359.95 Error: $63.69 SLE: 0.04 Item: Unknown Stage 2 Clutch Kit - Low Altitud...\u001b[0m\n",
      "\u001b[92m134: Guess: $83.43 Truth: $78.40 Error: $5.03 SLE: 0.00 Item: 2002-2008 Dodge Ram 1500 Mopar 4X4 Emble...\u001b[0m\n",
      "\u001b[92m135: Guess: $172.54 Truth: $172.77 Error: $0.23 SLE: 0.00 Item: Pro Comp Alloys Series 89 Wheel with Pol...\u001b[0m\n",
      "\u001b[92m136: Guess: $288.40 Truth: $316.45 Error: $28.05 SLE: 0.01 Item: Detroit Axle - Front Rear Strut & Coil S...\u001b[0m\n",
      "\u001b[92m137: Guess: $91.27 Truth: $87.99 Error: $3.28 SLE: 0.00 Item: ECCPP Rear Wheel Axle Replacement fit fo...\u001b[0m\n",
      "\u001b[92m138: Guess: $185.20 Truth: $226.63 Error: $41.43 SLE: 0.04 Item: Dell Latitude E6520 Intel i7-2720QM 2.20...\u001b[0m\n",
      "\u001b[92m139: Guess: $35.93 Truth: $31.49 Error: $4.44 SLE: 0.02 Item: F FIERCE CYCLE 251pcs Black Universal Mo...\u001b[0m\n",
      "\u001b[93m140: Guess: $245.21 Truth: $196.00 Error: $49.21 SLE: 0.05 Item: Flash Furniture 4 Pk. HERCULES Series 88...\u001b[0m\n",
      "\u001b[92m141: Guess: $59.05 Truth: $78.40 Error: $19.35 SLE: 0.08 Item: B&M 30287 Throttle Valve/Kickdown Cable,...\u001b[0m\n",
      "\u001b[92m142: Guess: $121.38 Truth: $116.25 Error: $5.13 SLE: 0.00 Item: Gates TCK226 PowerGrip Premium Timing Be...\u001b[0m\n",
      "\u001b[92m143: Guess: $121.47 Truth: $112.78 Error: $8.69 SLE: 0.01 Item: Monroe Shocks & Struts Quick-Strut 17149...\u001b[0m\n",
      "\u001b[93m144: Guess: $85.19 Truth: $27.32 Error: $57.87 SLE: 1.24 Item: Feit Electric BPMR16/GU10/930CA/6 35W EQ...\u001b[0m\n",
      "\u001b[92m145: Guess: $133.28 Truth: $145.91 Error: $12.63 SLE: 0.01 Item: Yellow Jacket 2806 Contractor Extension ...\u001b[0m\n",
      "\u001b[92m146: Guess: $178.14 Truth: $171.09 Error: $7.05 SLE: 0.00 Item: Garage-Pro Tailgate SET Compatible with ...\u001b[0m\n",
      "\u001b[92m147: Guess: $188.52 Truth: $167.95 Error: $20.57 SLE: 0.01 Item: 3M Perfect It Buffing and Polishing Kit ...\u001b[0m\n",
      "\u001b[92m148: Guess: $50.70 Truth: $28.49 Error: $22.21 SLE: 0.32 Item: Chinese Style Dollhouse Model DIY Miniat...\u001b[0m\n",
      "\u001b[92m149: Guess: $129.31 Truth: $122.23 Error: $7.08 SLE: 0.00 Item: Generic NRG Innovations SRK-161H Steerin...\u001b[0m\n",
      "\u001b[92m150: Guess: $44.84 Truth: $32.99 Error: $11.85 SLE: 0.09 Item: Learning Resources Coding Critters Range...\u001b[0m\n",
      "\u001b[93m151: Guess: $143.59 Truth: $71.20 Error: $72.39 SLE: 0.48 Item: Bosch Automotive 15463 Oxygen Sensor, OE...\u001b[0m\n",
      "\u001b[92m152: Guess: $107.85 Truth: $112.75 Error: $4.90 SLE: 0.00 Item: Case of 24-2 Inch Blue Painters Tape - 6...\u001b[0m\n",
      "\u001b[93m153: Guess: $96.81 Truth: $142.43 Error: $45.62 SLE: 0.15 Item: MOCA Engine Water Pump & Fan Clutch fit ...\u001b[0m\n",
      "\u001b[93m154: Guess: $289.62 Truth: $398.99 Error: $109.37 SLE: 0.10 Item: SAREMAS Foot Step Bars for Hyundai Palis...\u001b[0m\n",
      "\u001b[91m155: Guess: $670.73 Truth: $449.00 Error: $221.73 SLE: 0.16 Item: Gretsch G9210 Square Neck Boxcar Mahogan...\u001b[0m\n",
      "\u001b[92m156: Guess: $195.33 Truth: $189.00 Error: $6.33 SLE: 0.00 Item: NikoMaku Mirror Dash Cam Front and Rear ...\u001b[0m\n",
      "\u001b[92m157: Guess: $113.27 Truth: $120.91 Error: $7.64 SLE: 0.00 Item: Fenix HP25R v2.0 USB-C Rechargeable Head...\u001b[0m\n",
      "\u001b[92m158: Guess: $168.62 Truth: $203.53 Error: $34.91 SLE: 0.04 Item: R&L Racing Heavy Duty Roll-Up Soft Tonne...\u001b[0m\n",
      "\u001b[92m159: Guess: $335.67 Truth: $349.99 Error: $14.32 SLE: 0.00 Item: Garmin 010-02258-10 GPSMAP 64sx, Handhel...\u001b[0m\n",
      "\u001b[92m160: Guess: $24.91 Truth: $34.35 Error: $9.44 SLE: 0.10 Item: Brown 5-7/8\" X 8-1/2\" X 3/16\" Thick Heav...\u001b[0m\n",
      "\u001b[93m161: Guess: $296.26 Truth: $384.99 Error: $88.73 SLE: 0.07 Item: GAOMON PD2200 Pen Display & 20 Pen Nibs ...\u001b[0m\n",
      "\u001b[93m162: Guess: $271.74 Truth: $211.00 Error: $60.74 SLE: 0.06 Item: VXMOTOR for 97-03 Ford F150/F250 Lightdu...\u001b[0m\n",
      "\u001b[91m163: Guess: $215.50 Truth: $129.00 Error: $86.50 SLE: 0.26 Item: HP EliteBook 2540p Intel Core i7-640LM X...\u001b[0m\n",
      "\u001b[91m164: Guess: $30.13 Truth: $111.45 Error: $81.32 SLE: 1.65 Item: Green EPX Mixing Nozzles 100-Pack-fits 3...\u001b[0m\n",
      "\u001b[93m165: Guess: $36.78 Truth: $81.12 Error: $44.34 SLE: 0.60 Item: Box Partners 6 1/4 x 3 1/8\" 13 Pt. Manil...\u001b[0m\n",
      "\u001b[92m166: Guess: $431.44 Truth: $457.08 Error: $25.64 SLE: 0.00 Item: Vixen Air 1/2\" NPT Air Ride Suspension H...\u001b[0m\n",
      "\u001b[92m167: Guess: $63.15 Truth: $49.49 Error: $13.66 SLE: 0.06 Item: Smart Floor Lamp, 2700-6500K+RGBPink Mul...\u001b[0m\n",
      "\u001b[93m168: Guess: $124.89 Truth: $80.56 Error: $44.33 SLE: 0.19 Item: SOZG 324mm Wheelbase Body Shell RC Car B...\u001b[0m\n",
      "\u001b[92m169: Guess: $299.62 Truth: $278.39 Error: $21.23 SLE: 0.01 Item: Mickey Thompson ET Street S/S Racing Rad...\u001b[0m\n",
      "\u001b[92m170: Guess: $405.67 Truth: $364.50 Error: $41.17 SLE: 0.01 Item: Pirelli 275/40R20 106W XL RFT P0 PZ4-LUX...\u001b[0m\n",
      "\u001b[92m171: Guess: $373.72 Truth: $378.99 Error: $5.27 SLE: 0.00 Item: Torklift C3212 Rear Tie Down\u001b[0m\n",
      "\u001b[92m172: Guess: $197.05 Truth: $165.28 Error: $31.77 SLE: 0.03 Item: Cardone 78-4226 Remanufactured Ford Comp...\u001b[0m\n",
      "\u001b[92m173: Guess: $83.77 Truth: $56.74 Error: $27.03 SLE: 0.15 Item: Kidde AccessPoint 001798 Supra TouchPoin...\u001b[0m\n",
      "\u001b[93m174: Guess: $225.86 Truth: $307.95 Error: $82.09 SLE: 0.10 Item: 3M Protecta 3100414 Self Retracting Life...\u001b[0m\n",
      "\u001b[93m175: Guess: $85.85 Truth: $38.00 Error: $47.85 SLE: 0.64 Item: Plantronics 89435-01 Wired Headset, Blac...\u001b[0m\n",
      "\u001b[92m176: Guess: $81.95 Truth: $53.00 Error: $28.95 SLE: 0.18 Item: Logitech K750 Wireless Solar Keyboard fo...\u001b[0m\n",
      "\u001b[92m177: Guess: $523.69 Truth: $498.00 Error: $25.69 SLE: 0.00 Item: Olympus PEN E-PL9 Body Only with 3-Inch ...\u001b[0m\n",
      "\u001b[91m178: Guess: $173.24 Truth: $53.99 Error: $119.25 SLE: 1.33 Item: Beck/Arnley 051-6066 Hub & Bearing Assem...\u001b[0m\n",
      "\u001b[92m179: Guess: $335.67 Truth: $350.00 Error: $14.33 SLE: 0.00 Item: Eibach Pro-Kit Performance Springs E10-6...\u001b[0m\n",
      "\u001b[92m180: Guess: $289.14 Truth: $299.95 Error: $10.81 SLE: 0.00 Item: LEGO DC Batman 1989 Batwing 76161 Displa...\u001b[0m\n",
      "\u001b[92m181: Guess: $86.83 Truth: $94.93 Error: $8.10 SLE: 0.01 Item: Kingston Brass KS3608PL Restoration 4-In...\u001b[0m\n",
      "\u001b[92m182: Guess: $337.09 Truth: $379.00 Error: $41.91 SLE: 0.01 Item: Polk Vanishing Series 265-LS In-Wall 3-W...\u001b[0m\n",
      "\u001b[92m183: Guess: $282.55 Truth: $299.95 Error: $17.40 SLE: 0.00 Item: Spec-D Tuning LED Projector Headlights G...\u001b[0m\n",
      "\u001b[92m184: Guess: $25.79 Truth: $24.99 Error: $0.80 SLE: 0.00 Item: RICHMOND & FINCH Airpod Pro Case, Green ...\u001b[0m\n",
      "\u001b[91m185: Guess: $132.12 Truth: $41.04 Error: $91.08 SLE: 1.33 Item: LFA Industries 43B-5A-33JT 1/16-1/2-1.5-...\u001b[0m\n",
      "\u001b[92m186: Guess: $296.26 Truth: $327.90 Error: $31.64 SLE: 0.01 Item: SAUTVS LED Headlight Assembly for Slings...\u001b[0m\n",
      "\u001b[92m187: Guess: $30.52 Truth: $10.99 Error: $19.53 SLE: 0.93 Item: 2 Pack Combo Womens Safety Glasses Impac...\u001b[0m\n",
      "\u001b[92m188: Guess: $20.87 Truth: $14.99 Error: $5.88 SLE: 0.10 Item: Arepa - Venezuelan cuisine - Venezuela P...\u001b[0m\n",
      "\u001b[92m189: Guess: $50.29 Truth: $84.95 Error: $34.66 SLE: 0.27 Item: Schlage Lock Company KS23D2300 Padlock, ...\u001b[0m\n",
      "\u001b[92m190: Guess: $150.98 Truth: $111.00 Error: $39.98 SLE: 0.09 Item: Techni Mobili White Sit to Stand Mobile ...\u001b[0m\n",
      "\u001b[93m191: Guess: $176.37 Truth: $123.73 Error: $52.64 SLE: 0.12 Item: Special Lite Products Contemporary Wall ...\u001b[0m\n",
      "\u001b[92m192: Guess: $466.43 Truth: $557.38 Error: $90.95 SLE: 0.03 Item: Tascam DP-24SD 24-Track Digital Portastu...\u001b[0m\n",
      "\u001b[92m193: Guess: $85.19 Truth: $95.55 Error: $10.36 SLE: 0.01 Item: Glow Lighting 636CC10SP Vista Crystal Fl...\u001b[0m\n",
      "\u001b[92m194: Guess: $144.99 Truth: $154.00 Error: $9.01 SLE: 0.00 Item: Z3 Wind Deflector, Smoke Tint, Lexan, Wi...\u001b[0m\n",
      "\u001b[91m195: Guess: $296.26 Truth: $198.99 Error: $97.27 SLE: 0.16 Item: Olympus E-20 5MP Digital Camera w/ 4x Op...\u001b[0m\n",
      "\u001b[92m196: Guess: $391.17 Truth: $430.44 Error: $39.27 SLE: 0.01 Item: PHYNEDI 1:1000 World Trade Center (1973-...\u001b[0m\n",
      "\u001b[92m197: Guess: $30.52 Truth: $45.67 Error: $15.15 SLE: 0.15 Item: YANGHUAN Unstable Unicorns Adventure Car...\u001b[0m\n",
      "\u001b[92m198: Guess: $219.78 Truth: $249.00 Error: $29.22 SLE: 0.02 Item: Interlogix NX-1820E NetworX Touch Screen...\u001b[0m\n",
      "\u001b[93m199: Guess: $94.70 Truth: $42.99 Error: $51.71 SLE: 0.60 Item: Steering Damper,Universal Motorcycle Han...\u001b[0m\n",
      "\u001b[93m200: Guess: $246.86 Truth: $181.33 Error: $65.53 SLE: 0.09 Item: Amprobe TIC 410A Hot Stick Attachment\u001b[0m\n",
      "\u001b[92m201: Guess: $13.40 Truth: $6.03 Error: $7.37 SLE: 0.51 Item: MyCableMart 3.5mm Plug/Jack, 4 Conductor...\u001b[0m\n",
      "\u001b[92m202: Guess: $63.44 Truth: $29.99 Error: $33.45 SLE: 0.54 Item: OtterBox + Pop Symmetry Series Case for ...\u001b[0m\n",
      "\u001b[92m203: Guess: $760.44 Truth: $899.00 Error: $138.56 SLE: 0.03 Item: Dell XPS X8700-1572BLK Desktop ( Intel C...\u001b[0m\n",
      "\u001b[93m204: Guess: $490.87 Truth: $399.99 Error: $90.88 SLE: 0.04 Item: Franklin Iron Works Sperry Industrial Br...\u001b[0m\n",
      "\u001b[92m205: Guess: $13.42 Truth: $4.66 Error: $8.76 SLE: 0.87 Item: Avery Legal Dividers, Standard Collated ...\u001b[0m\n",
      "\u001b[91m206: Guess: $432.88 Truth: $261.41 Error: $171.47 SLE: 0.25 Item: Moen 8346 Commercial Posi-Temp Pressure ...\u001b[0m\n",
      "\u001b[92m207: Guess: $140.26 Truth: $136.97 Error: $3.29 SLE: 0.00 Item: Carlisle Versa Trail ATR All Terrain Rad...\u001b[0m\n",
      "\u001b[92m208: Guess: $92.94 Truth: $79.00 Error: $13.94 SLE: 0.03 Item: SUNWAYFOTO 44mm Tripod Ball Head Arca Co...\u001b[0m\n",
      "\u001b[92m209: Guess: $382.52 Truth: $444.99 Error: $62.47 SLE: 0.02 Item: NanoBeam AC NBE-5AC-Gen2-US 4 Units 5GHz...\u001b[0m\n",
      "\u001b[92m210: Guess: $479.26 Truth: $411.94 Error: $67.32 SLE: 0.02 Item: WULF 4\" Front 2\" Rear Leveling Lift Kit ...\u001b[0m\n",
      "\u001b[93m211: Guess: $195.07 Truth: $148.40 Error: $46.67 SLE: 0.07 Item: Alera ALEVABFMC Valencia Series Mobile B...\u001b[0m\n",
      "\u001b[91m212: Guess: $136.51 Truth: $244.99 Error: $108.48 SLE: 0.34 Item: YU-GI-OH! Ignition Assault Booster Box\u001b[0m\n",
      "\u001b[92m213: Guess: $121.38 Truth: $86.50 Error: $34.88 SLE: 0.11 Item: 48\" x 36\" Extra-Large Framed Magnetic Bl...\u001b[0m\n",
      "\u001b[91m214: Guess: $132.18 Truth: $297.95 Error: $165.77 SLE: 0.65 Item: Dell Latitude D620 Renewed Notebook PC\u001b[0m\n",
      "\u001b[92m215: Guess: $479.94 Truth: $399.99 Error: $79.95 SLE: 0.03 Item: acer Aspire 5 Laptop, AMD Ryzen 3 5300U ...\u001b[0m\n",
      "\u001b[92m216: Guess: $657.61 Truth: $599.00 Error: $58.61 SLE: 0.01 Item: Elk 31080/6RC-GRN 30 by 6-Inch Viva 6-Li...\u001b[0m\n",
      "\u001b[91m217: Guess: $200.34 Truth: $105.99 Error: $94.35 SLE: 0.40 Item: Barbie Top Model Doll\u001b[0m\n",
      "\u001b[92m218: Guess: $574.91 Truth: $689.00 Error: $114.09 SLE: 0.03 Item: Danby Designer 20-In. Electric Range wit...\u001b[0m\n",
      "\u001b[92m219: Guess: $419.69 Truth: $404.99 Error: $14.70 SLE: 0.00 Item: FixtureDisplays® Metal Truss Podium Doub...\u001b[0m\n",
      "\u001b[92m220: Guess: $211.20 Truth: $207.76 Error: $3.44 SLE: 0.00 Item: ACDelco 13597235 GM Original Equipment A...\u001b[0m\n",
      "\u001b[92m221: Guess: $178.75 Truth: $171.82 Error: $6.93 SLE: 0.00 Item: EBC S1KF1135 Stage-1 Premium Street Brak...\u001b[0m\n",
      "\u001b[92m222: Guess: $289.62 Truth: $293.24 Error: $3.62 SLE: 0.00 Item: FXR Men's Boost FX Jacket (Black/Orange/...\u001b[0m\n",
      "\u001b[92m223: Guess: $433.14 Truth: $374.95 Error: $58.19 SLE: 0.02 Item: SuperATV Scratch Resistant 3-in-1 Flip W...\u001b[0m\n",
      "\u001b[92m224: Guess: $112.02 Truth: $111.99 Error: $0.03 SLE: 0.00 Item: SBU 3 Layer All Weather Mini Van Car Cov...\u001b[0m\n",
      "\u001b[92m225: Guess: $57.63 Truth: $42.99 Error: $14.64 SLE: 0.08 Item: 2 Pack Outdoor Brochure Holder Advertisi...\u001b[0m\n",
      "\u001b[92m226: Guess: $124.37 Truth: $116.71 Error: $7.66 SLE: 0.00 Item: Monroe Shocks & Struts Quick-Strut 17158...\u001b[0m\n",
      "\u001b[91m227: Guess: $202.35 Truth: $118.61 Error: $83.74 SLE: 0.28 Item: Elements of Design Magellan EB235AL Thre...\u001b[0m\n",
      "\u001b[92m228: Guess: $141.58 Truth: $147.12 Error: $5.54 SLE: 0.00 Item: GM Genuine Parts 15-62961 Air Conditioni...\u001b[0m\n",
      "\u001b[93m229: Guess: $167.09 Truth: $119.99 Error: $47.10 SLE: 0.11 Item: Baseus 17-in-1 USB C Docking Station to ...\u001b[0m\n",
      "\u001b[93m230: Guess: $461.83 Truth: $369.98 Error: $91.85 SLE: 0.05 Item: Whitehall™ Personalized Whitehall Capito...\u001b[0m\n",
      "\u001b[92m231: Guess: $299.97 Truth: $315.55 Error: $15.58 SLE: 0.00 Item: Pro Circuit Works Pipe PY05250 for 02-19...\u001b[0m\n",
      "\u001b[91m232: Guess: $272.72 Truth: $190.99 Error: $81.73 SLE: 0.13 Item: HYANKA 15 \"1200W Professional DJ Speaker...\u001b[0m\n",
      "\u001b[92m233: Guess: $185.34 Truth: $155.00 Error: $30.34 SLE: 0.03 Item: Bluetooth X6BT Card Reader Writer Encode...\u001b[0m\n",
      "\u001b[92m234: Guess: $335.67 Truth: $349.99 Error: $14.32 SLE: 0.00 Item: AIRAID Cold Air Intake System by K&N: In...\u001b[0m\n",
      "\u001b[93m235: Guess: $341.81 Truth: $249.99 Error: $91.82 SLE: 0.10 Item: Bostingner Shower Faucets Sets Complete,...\u001b[0m\n",
      "\u001b[93m236: Guess: $93.70 Truth: $42.99 Error: $50.71 SLE: 0.59 Item: PIT66 Front Bumper Turn Signal Lights, C...\u001b[0m\n",
      "\u001b[92m237: Guess: $20.92 Truth: $17.99 Error: $2.93 SLE: 0.02 Item: Caseology Bumpy Compatible with Google P...\u001b[0m\n",
      "\u001b[93m238: Guess: $296.26 Truth: $425.00 Error: $128.74 SLE: 0.13 Item: Fleck 2510 Timer Mechanical Filter Contr...\u001b[0m\n",
      "\u001b[93m239: Guess: $340.87 Truth: $249.99 Error: $90.88 SLE: 0.10 Item: Haloview MC7108 Wireless RV Backup Camer...\u001b[0m\n",
      "\u001b[93m240: Guess: $59.05 Truth: $138.23 Error: $79.18 SLE: 0.71 Item: Schmidt Spiele - Manhattan\u001b[0m\n",
      "\u001b[92m241: Guess: $472.26 Truth: $414.99 Error: $57.27 SLE: 0.02 Item: Corsa 14333 Tip Kit (Ford Mustang GT)\u001b[0m\n",
      "\u001b[93m242: Guess: $224.27 Truth: $168.28 Error: $55.99 SLE: 0.08 Item: Hoshizaki FM116A Fan Motor Kit 1\u001b[0m\n",
      "\u001b[92m243: Guess: $214.64 Truth: $199.99 Error: $14.65 SLE: 0.00 Item: BAINUO Antler Chandelier Lighting,6 Ligh...\u001b[0m\n",
      "\u001b[93m244: Guess: $173.21 Truth: $126.70 Error: $46.51 SLE: 0.10 Item: DNA MOTORING HL-OH-FEXP06-SM-AM Smoke Le...\u001b[0m\n",
      "\u001b[92m245: Guess: $16.30 Truth: $5.91 Error: $10.39 SLE: 0.84 Item: Wera Stainless 3840/1 TS 2.5mm Hex Inser...\u001b[0m\n",
      "\u001b[92m246: Guess: $187.28 Truth: $193.06 Error: $5.78 SLE: 0.00 Item: Celestron - PowerSeeker 127EQ Telescope ...\u001b[0m\n",
      "\u001b[93m247: Guess: $166.52 Truth: $249.99 Error: $83.47 SLE: 0.16 Item: NHOPEEW 10.1inch Android Car Radio Carpl...\u001b[0m\n",
      "\u001b[92m248: Guess: $85.19 Truth: $64.12 Error: $21.07 SLE: 0.08 Item: Other Harmonica (Suzuki-2Timer24- A)\u001b[0m\n",
      "\u001b[91m249: Guess: $197.45 Truth: $114.99 Error: $82.46 SLE: 0.29 Item: Harley Air Filter Venturi Intake Air Cle...\u001b[0m\n",
      "\u001b[93m250: Guess: $636.11 Truth: $926.00 Error: $289.89 SLE: 0.14 Item: Elite Screens Edge Free Ambient Light Re...\u001b[0m\n"
     ]
    },
    {
     "data": {
      "image/png": "[encoded data removed]",
      "text/plain": [
       "<Figure size 1200x800 with 1 Axes>"
      ]
     },
     "metadata": {},
     "output_type": "display_data"
    }
   ],
   "source": [
    "Tester.test(ensemble_pricer, test)"
   ]
  },
  {
   "cell_type": "code",
   "execution_count": null,
   "id": "8b70edcc-5035-4ce2-a604-7f4e52a66700",
   "metadata": {},
   "outputs": [],
   "source": []
  }
 ],
 "metadata": {
  "kernelspec": {
   "display_name": "Python 3 (ipykernel)",
   "language": "python",
   "name": "python3"
  },
  "language_info": {
   "codemirror_mode": {
    "name": "ipython",
    "version": 3
   },
   "file_extension": ".py",
   "mimetype": "text/x-python",
   "name": "python",
   "nbconvert_exporter": "python",
   "pygments_lexer": "ipython3",
   "version": "3.11.11"
  }
 },
 "nbformat": 4,
 "nbformat_minor": 5
}
