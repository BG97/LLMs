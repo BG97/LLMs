{
 "cells": [
  {
   "cell_type": "code",
   "execution_count": 1,
   "id": "dff5336e-9f4b-4d24-a2a7-96be5fb3bfad",
   "metadata": {},
   "outputs": [],
   "source": [
    "# imports\n",
    "\n",
    "import os\n",
    "import re\n",
    "import math\n",
    "import json\n",
    "from tqdm import tqdm\n",
    "import random\n",
    "from dotenv import load_dotenv\n",
    "from huggingface_hub import login\n",
    "import numpy as np\n",
    "import pickle\n",
    "from sentence_transformers import SentenceTransformer\n",
    "from datasets import load_dataset\n",
    "import chromadb\n",
    "from items import Item\n",
    "from sklearn.manifold import TSNE\n",
    "import plotly.graph_objects as go"
   ]
  },
  {
   "cell_type": "code",
   "execution_count": 2,
   "id": "6b80faac-89a5-454b-af95-04412eb0ff47",
   "metadata": {},
   "outputs": [],
   "source": [
    "# environment\n",
    "\n",
    "load_dotenv(override=True)\n",
    "os.environ['OPENAI_API_KEY'] = os.getenv('OPENAI_API_KEY')\n",
    "os.environ['HUGGINGFACE_RW_TOKEN'] = os.getenv('HUGGINGFACE_RW_TOKEN')\n",
    "DB = \"products_vectorstore\""
   ]
  },
  {
   "cell_type": "code",
   "execution_count": 3,
   "id": "7b575b14-2c37-47c8-8f7a-52846bc633c9",
   "metadata": {},
   "outputs": [],
   "source": [
    "# Log in to HuggingFace\n",
    "\n",
    "hf_token = os.environ['HUGGINGFACE_RW_TOKEN']\n",
    "login(hf_token, add_to_git_credential=True)"
   ]
  },
  {
   "cell_type": "code",
   "execution_count": 5,
   "id": "10ae86e9-2be4-4272-9fa6-a571204ebdfd",
   "metadata": {},
   "outputs": [],
   "source": [
    "with open('train.pkl', 'rb') as file:\n",
    "    train = pickle.load(file)"
   ]
  },
  {
   "cell_type": "code",
   "execution_count": 16,
   "id": "dad8ca2b-02d6-40b7-a8f3-938a28c2a4de",
   "metadata": {},
   "outputs": [
    {
     "data": {
      "text/plain": [
       "'How much does this cost to the nearest dollar?\\n\\nDelphi FG0166 Fuel Pump Module\\nDelphi brings 80 years of OE Heritage into each Delphi pump, ensuring quality and fitment for each Delphi part. Part is validated, tested and matched to the right vehicle application Delphi brings 80 years of OE Heritage into each Delphi assembly, ensuring quality and fitment for each Delphi part Always be sure to check and clean fuel tank to avoid unnecessary returns Rigorous OE-testing ensures the pump can withstand extreme temperatures Brand Delphi, Fit Type Vehicle Specific Fit, Dimensions LxWxH 19.7 x 7.7 x 5.1 inches, Weight 2.2 Pounds, Auto Part Position Unknown, Operation Mode Mechanical, Manufacturer Delphi, Model FUEL PUMP, Dimensions 19.7\\n\\nPrice is $227.00'"
      ]
     },
     "execution_count": 16,
     "metadata": {},
     "output_type": "execute_result"
    }
   ],
   "source": [
    "train[0].prompt"
   ]
  },
  {
   "cell_type": "code",
   "execution_count": 7,
   "id": "af609fcf-3c41-415a-9ba8-d1a0db641457",
   "metadata": {},
   "outputs": [],
   "source": [
    "client = chromadb.PersistentClient(path=DB)"
   ]
  },
  {
   "cell_type": "code",
   "execution_count": 8,
   "id": "870bf3b0-2e93-443b-9bd8-f1a96e6ed183",
   "metadata": {},
   "outputs": [],
   "source": [
    "# Check if the collection exists and delete it if it does\n",
    "collection_name = \"products\"\n",
    "existing_collection_names = [collection.name for collection in client.list_collections()]\n",
    "if collection_name in existing_collection_names:\n",
    "    client.delete_collection(collection_name)\n",
    "    print(f\"Deleted existing collection: {collection_name}\")\n",
    "\n",
    "collection = client.create_collection(collection_name)"
   ]
  },
  {
   "cell_type": "code",
   "execution_count": 9,
   "id": "43191d53-9daf-40b1-a3bf-a8ea4bd19ed2",
   "metadata": {},
   "outputs": [
    {
     "data": {
      "application/vnd.jupyter.widget-view+json": {
       "model_id": "ed5c2903661e4ed189d106034556827f",
       "version_major": 2,
       "version_minor": 0
      },
      "text/plain": [
       "modules.json:   0%|          | 0.00/349 [00:00<?, ?B/s]"
      ]
     },
     "metadata": {},
     "output_type": "display_data"
    },
    {
     "name": "stderr",
     "output_type": "stream",
     "text": [
      "C:\\Users\\benny\\anaconda3\\envs\\llms\\Lib\\site-packages\\huggingface_hub\\file_download.py:142: UserWarning: `huggingface_hub` cache-system uses symlinks by default to efficiently store duplicated files but your machine does not support them in C:\\Users\\benny\\.cache\\huggingface\\hub\\models--sentence-transformers--all-MiniLM-L6-v2. Caching files will still work but in a degraded version that might require more space on your disk. This warning can be disabled by setting the `HF_HUB_DISABLE_SYMLINKS_WARNING` environment variable. For more details, see https://huggingface.co/docs/huggingface_hub/how-to-cache#limitations.\n",
      "To support symlinks on Windows, you either need to activate Developer Mode or to run Python as an administrator. In order to activate developer mode, see this article: https://docs.microsoft.com/en-us/windows/apps/get-started/enable-your-device-for-development\n",
      "  warnings.warn(message)\n"
     ]
    },
    {
     "data": {
      "application/vnd.jupyter.widget-view+json": {
       "model_id": "9cc47129d0d642e6986f2fa1a8ffe902",
       "version_major": 2,
       "version_minor": 0
      },
      "text/plain": [
       "config_sentence_transformers.json:   0%|          | 0.00/116 [00:00<?, ?B/s]"
      ]
     },
     "metadata": {},
     "output_type": "display_data"
    },
    {
     "data": {
      "application/vnd.jupyter.widget-view+json": {
       "model_id": "fd798f62f7e642949f7af3b87dc7f644",
       "version_major": 2,
       "version_minor": 0
      },
      "text/plain": [
       "README.md:   0%|          | 0.00/10.5k [00:00<?, ?B/s]"
      ]
     },
     "metadata": {},
     "output_type": "display_data"
    },
    {
     "data": {
      "application/vnd.jupyter.widget-view+json": {
       "model_id": "1b8e701ff9bf4740a21132c17a65be33",
       "version_major": 2,
       "version_minor": 0
      },
      "text/plain": [
       "sentence_bert_config.json:   0%|          | 0.00/53.0 [00:00<?, ?B/s]"
      ]
     },
     "metadata": {},
     "output_type": "display_data"
    },
    {
     "data": {
      "application/vnd.jupyter.widget-view+json": {
       "model_id": "534b5a4c4ed44d4bbc6029ea85f874f6",
       "version_major": 2,
       "version_minor": 0
      },
      "text/plain": [
       "config.json:   0%|          | 0.00/612 [00:00<?, ?B/s]"
      ]
     },
     "metadata": {},
     "output_type": "display_data"
    },
    {
     "data": {
      "application/vnd.jupyter.widget-view+json": {
       "model_id": "85cdb826fef646c287c85fcc4e94cc39",
       "version_major": 2,
       "version_minor": 0
      },
      "text/plain": [
       "model.safetensors:   0%|          | 0.00/90.9M [00:00<?, ?B/s]"
      ]
     },
     "metadata": {},
     "output_type": "display_data"
    },
    {
     "data": {
      "application/vnd.jupyter.widget-view+json": {
       "model_id": "f6d47efefe6743d3b6b1af99168b1187",
       "version_major": 2,
       "version_minor": 0
      },
      "text/plain": [
       "tokenizer_config.json:   0%|          | 0.00/350 [00:00<?, ?B/s]"
      ]
     },
     "metadata": {},
     "output_type": "display_data"
    },
    {
     "data": {
      "application/vnd.jupyter.widget-view+json": {
       "model_id": "0b60ce4f9101424e8415765e9b8800f6",
       "version_major": 2,
       "version_minor": 0
      },
      "text/plain": [
       "vocab.txt:   0%|          | 0.00/232k [00:00<?, ?B/s]"
      ]
     },
     "metadata": {},
     "output_type": "display_data"
    },
    {
     "data": {
      "application/vnd.jupyter.widget-view+json": {
       "model_id": "e1b22c15c41049cd9fa5efbdd1a3b779",
       "version_major": 2,
       "version_minor": 0
      },
      "text/plain": [
       "tokenizer.json:   0%|          | 0.00/466k [00:00<?, ?B/s]"
      ]
     },
     "metadata": {},
     "output_type": "display_data"
    },
    {
     "data": {
      "application/vnd.jupyter.widget-view+json": {
       "model_id": "5d48a340f5e84f37a0c617fd528011d4",
       "version_major": 2,
       "version_minor": 0
      },
      "text/plain": [
       "special_tokens_map.json:   0%|          | 0.00/112 [00:00<?, ?B/s]"
      ]
     },
     "metadata": {},
     "output_type": "display_data"
    },
    {
     "data": {
      "application/vnd.jupyter.widget-view+json": {
       "model_id": "920f23f91a8f40b297bb3d7179cfb0cb",
       "version_major": 2,
       "version_minor": 0
      },
      "text/plain": [
       "config.json:   0%|          | 0.00/190 [00:00<?, ?B/s]"
      ]
     },
     "metadata": {},
     "output_type": "display_data"
    }
   ],
   "source": [
    "model = SentenceTransformer('sentence-transformers/all-MiniLM-L6-v2')"
   ]
  },
  {
   "cell_type": "code",
   "execution_count": 10,
   "id": "e9a3afa5-1a24-4bb9-b7c8-21357f5fc6ae",
   "metadata": {},
   "outputs": [],
   "source": [
    "# Pass in a list of texts, get back a numpy array of vectors\n",
    "\n",
    "vector = model.encode([\"Well hi there\"])[0]"
   ]
  },
  {
   "cell_type": "code",
   "execution_count": 11,
   "id": "7bb11296-ae2d-4467-a8ef-11a8b914f3dd",
   "metadata": {
    "scrolled": true
   },
   "outputs": [
    {
     "data": {
      "text/plain": [
       "array([-9.46715772e-02,  4.27618884e-02,  5.51620498e-02, -5.11025079e-04,\n",
       "        1.16203530e-02, -6.80130273e-02,  2.76405830e-02,  6.06974959e-02,\n",
       "        2.88530905e-02, -1.74127799e-02, -4.94346470e-02,  2.30993126e-02,\n",
       "       -1.28614744e-02, -4.31402661e-02,  2.17510108e-02,  4.26548757e-02,\n",
       "        5.10500148e-02, -7.79727101e-02, -1.23247221e-01,  3.67455482e-02,\n",
       "        4.54116426e-03,  9.47937965e-02, -5.53099141e-02,  1.70641616e-02,\n",
       "       -2.92873215e-02, -4.47124690e-02,  2.06784140e-02,  6.39320016e-02,\n",
       "        2.27427445e-02,  4.87789884e-02, -2.33499357e-03,  4.72859591e-02,\n",
       "       -2.86259335e-02,  2.30624378e-02,  2.45130900e-02,  3.95682268e-02,\n",
       "       -4.33176085e-02, -1.02316655e-01,  2.79878662e-03,  2.39304453e-02,\n",
       "        1.61556397e-02, -8.99077207e-03,  2.07255725e-02,  6.40122816e-02,\n",
       "        6.89179301e-02, -6.98361024e-02,  2.89760437e-03, -8.10989216e-02,\n",
       "        1.71122886e-02,  2.50656297e-03, -1.06529035e-01, -4.87733148e-02,\n",
       "       -1.67762153e-02, -2.28662491e-02,  1.14816643e-01,  4.87413034e-02,\n",
       "       -1.64962467e-02, -6.90831766e-02,  1.13612100e-01, -7.18485489e-02,\n",
       "       -9.01570991e-02,  3.90112518e-06, -8.66769403e-02, -4.05916497e-02,\n",
       "        3.71317603e-02, -1.77618936e-02, -5.57463542e-02, -4.57097664e-02,\n",
       "       -5.43141440e-02, -4.00612131e-02, -4.60227579e-02,  2.82194298e-02,\n",
       "       -2.33606398e-02,  1.44405970e-02, -1.52777098e-02, -4.34328280e-02,\n",
       "        6.81274757e-02,  8.21894482e-02,  7.83885643e-03, -2.85973381e-02,\n",
       "        6.14309385e-02, -4.92685065e-02,  3.27058206e-03, -2.72682551e-02,\n",
       "       -4.59346585e-02, -2.60168128e-02,  5.70649914e-02, -5.86438633e-04,\n",
       "       -4.37076762e-02, -2.47814343e-04, -8.73550549e-02,  3.48776914e-02,\n",
       "        1.39327208e-02, -1.60043575e-02,  2.86958087e-02, -9.48595703e-02,\n",
       "        9.40613151e-02,  5.92685901e-02, -8.65014493e-02,  1.45011425e-01,\n",
       "        2.35388577e-02,  3.43325213e-02,  2.51525053e-04,  7.15541467e-02,\n",
       "       -3.12182549e-02,  3.86665687e-02, -2.47744843e-02,  6.52674511e-02,\n",
       "       -8.28816816e-02, -2.80247089e-02,  9.34543926e-03, -7.85540603e-03,\n",
       "        5.30728288e-02,  2.96895504e-02,  3.27329710e-02,  4.94737104e-02,\n",
       "        2.52208598e-02,  4.67068255e-02,  5.03403656e-02, -7.23745301e-02,\n",
       "        2.54435837e-02, -3.67216282e-02,  1.27570061e-02,  1.46063790e-02,\n",
       "        2.11492665e-02, -5.56909703e-02, -9.18511488e-03, -5.63396672e-34,\n",
       "        9.58769917e-02,  5.94578125e-02,  5.11445254e-02,  3.36359628e-02,\n",
       "       -1.34414984e-02, -2.77203191e-02, -3.48436311e-02,  1.80352498e-02,\n",
       "       -2.53210682e-02,  6.73588319e-03,  5.47840707e-02, -3.60574052e-02,\n",
       "       -5.20869978e-02, -2.90345419e-02,  4.38961526e-03,  6.50023147e-02,\n",
       "        3.07485983e-02,  2.00220998e-02,  1.73041655e-03,  2.96731316e-03,\n",
       "        3.40954959e-03, -6.78144991e-02,  3.41304541e-02,  8.37871525e-03,\n",
       "        5.39904647e-02,  2.70389300e-02,  7.84120113e-02, -1.30136266e-01,\n",
       "        4.84649539e-02,  5.14179319e-02, -7.94678740e-03,  5.57888811e-03,\n",
       "       -5.31026013e-02,  3.81299146e-02, -3.05513237e-02, -7.69778714e-02,\n",
       "        1.20531227e-02, -4.08993401e-02, -8.69358703e-02,  6.38056695e-02,\n",
       "        1.68674625e-02,  1.68734323e-03,  6.28894493e-02, -1.67711321e-02,\n",
       "        2.15586107e-02,  7.10052322e-04,  2.81026983e-03, -8.89796298e-03,\n",
       "       -1.80887487e-02, -2.16216668e-02, -5.59150279e-02,  1.78774223e-02,\n",
       "       -9.27093476e-02,  7.27913063e-03, -1.27753571e-01, -4.86937575e-02,\n",
       "        1.45871826e-02, -1.62751544e-02,  6.75622299e-02,  3.87702473e-02,\n",
       "        7.23295435e-02,  9.14992020e-02, -9.65291485e-02,  4.84792069e-02,\n",
       "       -1.06274210e-01, -1.05042914e-02,  8.90350491e-02, -8.07525814e-02,\n",
       "        7.87082016e-02, -2.04917826e-02, -5.55080809e-02, -3.31532434e-02,\n",
       "       -2.14429218e-02,  4.94700298e-02, -7.05119818e-02,  6.63998947e-02,\n",
       "        7.39671513e-02, -2.70111626e-03,  1.62262209e-02, -3.98229100e-02,\n",
       "        5.94092347e-02, -7.14368885e-03, -3.33479755e-02,  2.30419561e-02,\n",
       "        1.87185593e-02, -6.15725107e-02, -8.55414954e-04, -1.05786622e-01,\n",
       "       -8.43618959e-02, -3.92993577e-02, -3.16446684e-02,  6.60644248e-02,\n",
       "        9.41815898e-02, -8.35983083e-02,  9.50881466e-03,  1.25504157e-34,\n",
       "        6.38198406e-02,  2.11370997e-02, -1.65899806e-02,  1.88641511e-02,\n",
       "       -5.57019152e-02,  1.82813173e-03, -1.37586957e-02,  8.16279277e-02,\n",
       "       -9.13297236e-02,  7.06855431e-02,  6.79991692e-02, -5.44535741e-02,\n",
       "        3.80394123e-02,  3.80508695e-03,  1.03689849e-01,  7.32860935e-04,\n",
       "        2.95661557e-02,  4.19423990e-02, -1.20444328e-01,  1.24932649e-02,\n",
       "       -5.53506240e-02,  1.75228771e-02, -2.28164792e-02, -5.79299591e-02,\n",
       "        9.42930020e-03, -5.42281847e-03, -3.94940469e-03,  2.82348972e-02,\n",
       "       -1.28066882e-01, -1.31305242e-02,  7.42957592e-02, -1.74529981e-02,\n",
       "       -9.72759351e-02,  8.25625286e-03,  2.06901208e-02, -5.29769761e-03,\n",
       "       -1.37696154e-02, -3.50974202e-02,  1.74978580e-02, -1.76232941e-02,\n",
       "       -6.50825053e-02, -3.84675227e-02, -8.76397043e-02,  3.21291722e-02,\n",
       "        2.55021011e-03, -2.09379438e-02,  5.55309840e-02,  2.57095527e-02,\n",
       "       -2.94735488e-02,  1.25047900e-02, -6.83466271e-02, -8.00624192e-02,\n",
       "       -1.46906469e-02,  1.03744371e-02, -8.51863399e-02, -1.10539319e-02,\n",
       "        2.14596316e-02,  4.08609249e-02,  3.31646465e-02, -2.76757255e-02,\n",
       "       -2.01877691e-02,  8.98882560e-03,  3.92048843e-02,  1.15103342e-01,\n",
       "        5.50441109e-02,  2.72755139e-02, -1.09526701e-01, -1.72623564e-02,\n",
       "        1.33438371e-02, -1.73702016e-02, -5.04370546e-03, -2.00293213e-02,\n",
       "        1.16672404e-01, -1.84322596e-02,  3.70628163e-02,  1.60885435e-02,\n",
       "        3.48830335e-02,  5.50574623e-02, -6.60797395e-03,  7.06828162e-02,\n",
       "        4.07848954e-02, -1.43314395e-02, -2.85442010e-03,  2.74251904e-02,\n",
       "       -4.26768772e-02,  1.26582729e-02,  3.34343240e-02,  1.62644666e-02,\n",
       "        1.19263399e-02, -2.92119421e-02,  2.73978096e-02,  3.44304629e-02,\n",
       "        2.52831914e-02,  3.07514537e-02,  3.22557427e-02, -1.74628525e-08,\n",
       "       -1.52691090e-02,  5.37676597e-03,  1.41246513e-01,  5.08366451e-02,\n",
       "        5.32256551e-02,  9.67938080e-02,  4.33674417e-02, -6.48313295e-03,\n",
       "        1.58603769e-02,  4.05630618e-02,  6.94984943e-02,  6.04905412e-02,\n",
       "       -6.26188889e-02, -3.96143943e-02,  1.10648841e-01,  1.67735331e-02,\n",
       "       -7.68699218e-03,  2.59615351e-02, -5.28793037e-02, -2.22318880e-02,\n",
       "        1.74596105e-02,  4.75339964e-02,  3.27673964e-02, -4.59684953e-02,\n",
       "        2.01770123e-02, -1.60875767e-02, -1.58613995e-02, -1.66658051e-02,\n",
       "       -3.05246711e-02, -3.87907103e-02, -1.27654532e-02,  6.57610819e-02,\n",
       "       -2.22503003e-02, -9.44995508e-03,  2.32079886e-02,  2.66037993e-02,\n",
       "        2.14204323e-02, -7.54583022e-03,  8.84752348e-02, -9.43514034e-02,\n",
       "       -5.74870668e-02, -7.77098313e-02,  1.95790268e-03, -1.50347389e-02,\n",
       "       -8.08493700e-03,  1.88217629e-02,  8.42516217e-03, -3.78592089e-02,\n",
       "        1.24534685e-02, -7.94995800e-02, -2.15790458e-02,  1.20276688e-02,\n",
       "        1.74870659e-02,  8.74479190e-02,  6.64091483e-02,  3.13736834e-02,\n",
       "       -1.00628873e-02,  2.07700897e-02, -5.20163365e-02, -8.91334284e-03,\n",
       "        1.48542270e-01, -2.51265266e-03,  9.93156210e-02,  2.34929379e-02],\n",
       "      dtype=float32)"
      ]
     },
     "execution_count": 11,
     "metadata": {},
     "output_type": "execute_result"
    }
   ],
   "source": [
    "vector"
   ]
  },
  {
   "cell_type": "code",
   "execution_count": 12,
   "id": "5b5f83c9-939b-48f1-be2b-ea4645975a72",
   "metadata": {},
   "outputs": [],
   "source": [
    "def description(item):\n",
    "    text = item.prompt.replace(\"How much does this cost to the nearest dollar?\\n\\n\", \"\")\n",
    "    return text.split(\"\\n\\nPrice is $\")[0]"
   ]
  },
  {
   "cell_type": "code",
   "execution_count": 13,
   "id": "445311fb-1807-4357-b543-7681b03f3011",
   "metadata": {},
   "outputs": [
    {
     "data": {
      "text/plain": [
       "'Delphi FG0166 Fuel Pump Module\\nDelphi brings 80 years of OE Heritage into each Delphi pump, ensuring quality and fitment for each Delphi part. Part is validated, tested and matched to the right vehicle application Delphi brings 80 years of OE Heritage into each Delphi assembly, ensuring quality and fitment for each Delphi part Always be sure to check and clean fuel tank to avoid unnecessary returns Rigorous OE-testing ensures the pump can withstand extreme temperatures Brand Delphi, Fit Type Vehicle Specific Fit, Dimensions LxWxH 19.7 x 7.7 x 5.1 inches, Weight 2.2 Pounds, Auto Part Position Unknown, Operation Mode Mechanical, Manufacturer Delphi, Model FUEL PUMP, Dimensions 19.7'"
      ]
     },
     "execution_count": 13,
     "metadata": {},
     "output_type": "execute_result"
    }
   ],
   "source": [
    "description(train[0])"
   ]
  },
  {
   "cell_type": "code",
   "execution_count": 14,
   "id": "570e34e4-0aa5-46ec-a639-6eea26be12df",
   "metadata": {},
   "outputs": [
    {
     "name": "stderr",
     "output_type": "stream",
     "text": [
      "100%|████████████████████████████████████████| 400/400 [18:01<00:00,  2.70s/it]\n"
     ]
    }
   ],
   "source": [
    "for i in tqdm(range(0, len(train), 1000)):\n",
    "    documents = [description(item) for item in train[i: i+1000]]\n",
    "    vectors = model.encode(documents).astype(float).tolist()\n",
    "    metadatas = [{\"category\": item.category, \"price\": item.price} for item in train[i: i+1000]]\n",
    "    ids = [f\"doc_{j}\" for j in range(i, i+1000)]\n",
    "    collection.add(\n",
    "        ids=ids,\n",
    "        documents=documents,\n",
    "        embeddings=vectors,\n",
    "        metadatas=metadatas\n",
    "    )"
   ]
  },
  {
   "cell_type": "code",
   "execution_count": null,
   "id": "896aa58b-f225-446f-8277-caf4fdb4cddf",
   "metadata": {},
   "outputs": [],
   "source": []
  }
 ],
 "metadata": {
  "kernelspec": {
   "display_name": "Python 3 (ipykernel)",
   "language": "python",
   "name": "python3"
  },
  "language_info": {
   "codemirror_mode": {
    "name": "ipython",
    "version": 3
   },
   "file_extension": ".py",
   "mimetype": "text/x-python",
   "name": "python",
   "nbconvert_exporter": "python",
   "pygments_lexer": "ipython3",
   "version": "3.11.11"
  }
 },
 "nbformat": 4,
 "nbformat_minor": 5
}
